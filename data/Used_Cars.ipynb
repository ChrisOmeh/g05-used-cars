{
  "nbformat": 4,
  "nbformat_minor": 0,
  "metadata": {
    "colab": {
      "name": "Used_Cars.ipynb",
      "provenance": [],
      "collapsed_sections": []
    },
    "kernelspec": {
      "display_name": "Python 3",
      "name": "python3"
    }
  },
  "cells": [
    {
      "cell_type": "code",
      "metadata": {
        "colab": {
          "base_uri": "https://localhost:8080/"
        },
        "id": "eiyC3s7rBoum",
        "outputId": "983084cf-43cd-43a2-d01e-7ad809bc6957"
      },
      "source": [
        "# Mount your Google drive folder on Colab\n",
        "from google.colab import drive\n",
        "drive.mount('/content/gdrive', force_remount=True)"
      ],
      "execution_count": null,
      "outputs": [
        {
          "output_type": "stream",
          "text": [
            "Mounted at /content/gdrive\n"
          ],
          "name": "stdout"
        }
      ]
    },
    {
      "cell_type": "markdown",
      "metadata": {
        "id": "ybOYKjf1vaS-"
      },
      "source": [
        "#Import the Necessary Libraries"
      ]
    },
    {
      "cell_type": "code",
      "metadata": {
        "id": "aaUHJZ4n8FtN"
      },
      "source": [
        "import numpy as np\n",
        "import pandas as pd\n",
        "import matplotlib.pyplot as plt\n",
        "import seaborn as sns\n",
        "from sklearn import pipeline, preprocessing, metrics, model_selection, ensemble, linear_model\n",
        "from sklearn_pandas import DataFrameMapper"
      ],
      "execution_count": 1,
      "outputs": []
    },
    {
      "cell_type": "code",
      "metadata": {
        "id": "8z3HcmRyFWb2"
      },
      "source": [
        "%matplotlib inline"
      ],
      "execution_count": 2,
      "outputs": []
    },
    {
      "cell_type": "markdown",
      "metadata": {
        "id": "tO-Ejls7viaD"
      },
      "source": [
        "#Load the Dataset"
      ]
    },
    {
      "cell_type": "code",
      "metadata": {
        "id": "um9ZMGz-BldL"
      },
      "source": [
        "url = '/content/gdrive/My Drive/vehicles2.csv'"
      ],
      "execution_count": 3,
      "outputs": []
    },
    {
      "cell_type": "markdown",
      "metadata": {
        "id": "_V6CYRaevoMx"
      },
      "source": [
        "#Read the Dataset with Pandas"
      ]
    },
    {
      "cell_type": "code",
      "metadata": {
        "id": "0i8fglel8Wgo"
      },
      "source": [
        "df1 = pd.read_csv(url)"
      ],
      "execution_count": 4,
      "outputs": []
    },
    {
      "cell_type": "markdown",
      "metadata": {
        "id": "zqddDqlLvvjV"
      },
      "source": [
        "#Perform Exploratory Data Analysis on the Dataset"
      ]
    },
    {
      "cell_type": "code",
      "metadata": {
        "id": "-IfRYOiGwU5E"
      },
      "source": [
        "df1.drop('Unnamed: 0', axis=1, inplace=True)"
      ],
      "execution_count": 5,
      "outputs": []
    },
    {
      "cell_type": "code",
      "metadata": {
        "colab": {
          "base_uri": "https://localhost:8080/",
          "height": 191
        },
        "id": "wf5qakJIbQsm",
        "outputId": "935464df-bd5a-4171-db9e-4a24ea06d930"
      },
      "source": [
        "df1.head()"
      ],
      "execution_count": 6,
      "outputs": [
        {
          "output_type": "execute_result",
          "data": {
            "text/html": [
              "<div>\n",
              "<style scoped>\n",
              "    .dataframe tbody tr th:only-of-type {\n",
              "        vertical-align: middle;\n",
              "    }\n",
              "\n",
              "    .dataframe tbody tr th {\n",
              "        vertical-align: top;\n",
              "    }\n",
              "\n",
              "    .dataframe thead th {\n",
              "        text-align: right;\n",
              "    }\n",
              "</style>\n",
              "<table border=\"1\" class=\"dataframe\">\n",
              "  <thead>\n",
              "    <tr style=\"text-align: right;\">\n",
              "      <th></th>\n",
              "      <th>price</th>\n",
              "      <th>year</th>\n",
              "      <th>manufacturer</th>\n",
              "      <th>model</th>\n",
              "      <th>condition</th>\n",
              "      <th>cylinders</th>\n",
              "      <th>fuel</th>\n",
              "      <th>odometer</th>\n",
              "      <th>title_status</th>\n",
              "      <th>transmission</th>\n",
              "      <th>drive</th>\n",
              "      <th>state</th>\n",
              "      <th>lat</th>\n",
              "      <th>long</th>\n",
              "    </tr>\n",
              "  </thead>\n",
              "  <tbody>\n",
              "    <tr>\n",
              "      <th>0</th>\n",
              "      <td>35990</td>\n",
              "      <td>2010.0</td>\n",
              "      <td>0</td>\n",
              "      <td>0</td>\n",
              "      <td>0</td>\n",
              "      <td>0</td>\n",
              "      <td>0</td>\n",
              "      <td>32742.0</td>\n",
              "      <td>0</td>\n",
              "      <td>0</td>\n",
              "      <td>0</td>\n",
              "      <td>0</td>\n",
              "      <td>32.5900</td>\n",
              "      <td>-85.4800</td>\n",
              "    </tr>\n",
              "    <tr>\n",
              "      <th>1</th>\n",
              "      <td>7500</td>\n",
              "      <td>2014.0</td>\n",
              "      <td>1</td>\n",
              "      <td>1</td>\n",
              "      <td>1</td>\n",
              "      <td>1</td>\n",
              "      <td>0</td>\n",
              "      <td>93600.0</td>\n",
              "      <td>0</td>\n",
              "      <td>1</td>\n",
              "      <td>1</td>\n",
              "      <td>0</td>\n",
              "      <td>32.5475</td>\n",
              "      <td>-85.4682</td>\n",
              "    </tr>\n",
              "    <tr>\n",
              "      <th>2</th>\n",
              "      <td>2000</td>\n",
              "      <td>1974.0</td>\n",
              "      <td>0</td>\n",
              "      <td>2</td>\n",
              "      <td>0</td>\n",
              "      <td>1</td>\n",
              "      <td>0</td>\n",
              "      <td>190000.0</td>\n",
              "      <td>0</td>\n",
              "      <td>1</td>\n",
              "      <td>0</td>\n",
              "      <td>0</td>\n",
              "      <td>32.8616</td>\n",
              "      <td>-85.2161</td>\n",
              "    </tr>\n",
              "    <tr>\n",
              "      <th>3</th>\n",
              "      <td>19500</td>\n",
              "      <td>2005.0</td>\n",
              "      <td>2</td>\n",
              "      <td>3</td>\n",
              "      <td>1</td>\n",
              "      <td>0</td>\n",
              "      <td>1</td>\n",
              "      <td>116000.0</td>\n",
              "      <td>1</td>\n",
              "      <td>1</td>\n",
              "      <td>2</td>\n",
              "      <td>0</td>\n",
              "      <td>32.5475</td>\n",
              "      <td>-85.4682</td>\n",
              "    </tr>\n",
              "    <tr>\n",
              "      <th>4</th>\n",
              "      <td>39990</td>\n",
              "      <td>2012.0</td>\n",
              "      <td>2</td>\n",
              "      <td>4</td>\n",
              "      <td>0</td>\n",
              "      <td>0</td>\n",
              "      <td>0</td>\n",
              "      <td>9692.0</td>\n",
              "      <td>0</td>\n",
              "      <td>0</td>\n",
              "      <td>0</td>\n",
              "      <td>0</td>\n",
              "      <td>32.5900</td>\n",
              "      <td>-85.4800</td>\n",
              "    </tr>\n",
              "  </tbody>\n",
              "</table>\n",
              "</div>"
            ],
            "text/plain": [
              "   price    year  manufacturer  model  ...  drive  state      lat     long\n",
              "0  35990  2010.0             0      0  ...      0      0  32.5900 -85.4800\n",
              "1   7500  2014.0             1      1  ...      1      0  32.5475 -85.4682\n",
              "2   2000  1974.0             0      2  ...      0      0  32.8616 -85.2161\n",
              "3  19500  2005.0             2      3  ...      2      0  32.5475 -85.4682\n",
              "4  39990  2012.0             2      4  ...      0      0  32.5900 -85.4800\n",
              "\n",
              "[5 rows x 14 columns]"
            ]
          },
          "metadata": {
            "tags": []
          },
          "execution_count": 6
        }
      ]
    },
    {
      "cell_type": "code",
      "metadata": {
        "colab": {
          "base_uri": "https://localhost:8080/",
          "height": 297
        },
        "id": "LhF-yisNlU4e",
        "outputId": "26b4ad37-765f-4186-da1d-c64bc829ba74"
      },
      "source": [
        "df1.describe()"
      ],
      "execution_count": 25,
      "outputs": [
        {
          "output_type": "execute_result",
          "data": {
            "text/html": [
              "<div>\n",
              "<style scoped>\n",
              "    .dataframe tbody tr th:only-of-type {\n",
              "        vertical-align: middle;\n",
              "    }\n",
              "\n",
              "    .dataframe tbody tr th {\n",
              "        vertical-align: top;\n",
              "    }\n",
              "\n",
              "    .dataframe thead th {\n",
              "        text-align: right;\n",
              "    }\n",
              "</style>\n",
              "<table border=\"1\" class=\"dataframe\">\n",
              "  <thead>\n",
              "    <tr style=\"text-align: right;\">\n",
              "      <th></th>\n",
              "      <th>price</th>\n",
              "      <th>year</th>\n",
              "      <th>manufacturer</th>\n",
              "      <th>model</th>\n",
              "      <th>condition</th>\n",
              "      <th>cylinders</th>\n",
              "      <th>fuel</th>\n",
              "      <th>odometer</th>\n",
              "      <th>title_status</th>\n",
              "      <th>transmission</th>\n",
              "      <th>drive</th>\n",
              "      <th>state</th>\n",
              "      <th>lat</th>\n",
              "      <th>long</th>\n",
              "    </tr>\n",
              "  </thead>\n",
              "  <tbody>\n",
              "    <tr>\n",
              "      <th>count</th>\n",
              "      <td>122016.000000</td>\n",
              "      <td>122016.000000</td>\n",
              "      <td>122016.000000</td>\n",
              "      <td>122016.000000</td>\n",
              "      <td>122016.000000</td>\n",
              "      <td>122016.000000</td>\n",
              "      <td>122016.000000</td>\n",
              "      <td>1.220160e+05</td>\n",
              "      <td>122016.000000</td>\n",
              "      <td>122016.000000</td>\n",
              "      <td>122016.000000</td>\n",
              "      <td>122016.000000</td>\n",
              "      <td>122016.000000</td>\n",
              "      <td>122016.000000</td>\n",
              "    </tr>\n",
              "    <tr>\n",
              "      <th>mean</th>\n",
              "      <td>17315.351978</td>\n",
              "      <td>2010.992878</td>\n",
              "      <td>7.519661</td>\n",
              "      <td>1800.832735</td>\n",
              "      <td>0.888965</td>\n",
              "      <td>1.086054</td>\n",
              "      <td>0.141022</td>\n",
              "      <td>1.133290e+05</td>\n",
              "      <td>0.135728</td>\n",
              "      <td>0.964882</td>\n",
              "      <td>1.227052</td>\n",
              "      <td>23.739936</td>\n",
              "      <td>38.600242</td>\n",
              "      <td>-92.013904</td>\n",
              "    </tr>\n",
              "    <tr>\n",
              "      <th>std</th>\n",
              "      <td>12332.316438</td>\n",
              "      <td>7.964824</td>\n",
              "      <td>7.670557</td>\n",
              "      <td>2814.424262</td>\n",
              "      <td>1.064027</td>\n",
              "      <td>0.928852</td>\n",
              "      <td>0.505645</td>\n",
              "      <td>5.862931e+06</td>\n",
              "      <td>0.654109</td>\n",
              "      <td>0.390735</td>\n",
              "      <td>0.800154</td>\n",
              "      <td>14.933922</td>\n",
              "      <td>5.481794</td>\n",
              "      <td>17.032020</td>\n",
              "    </tr>\n",
              "    <tr>\n",
              "      <th>min</th>\n",
              "      <td>0.000000</td>\n",
              "      <td>1913.000000</td>\n",
              "      <td>0.000000</td>\n",
              "      <td>0.000000</td>\n",
              "      <td>0.000000</td>\n",
              "      <td>0.000000</td>\n",
              "      <td>0.000000</td>\n",
              "      <td>0.000000e+00</td>\n",
              "      <td>0.000000</td>\n",
              "      <td>0.000000</td>\n",
              "      <td>0.000000</td>\n",
              "      <td>0.000000</td>\n",
              "      <td>-58.091220</td>\n",
              "      <td>-159.713745</td>\n",
              "    </tr>\n",
              "    <tr>\n",
              "      <th>25%</th>\n",
              "      <td>7995.000000</td>\n",
              "      <td>2008.000000</td>\n",
              "      <td>2.000000</td>\n",
              "      <td>142.000000</td>\n",
              "      <td>0.000000</td>\n",
              "      <td>0.000000</td>\n",
              "      <td>0.000000</td>\n",
              "      <td>4.300000e+04</td>\n",
              "      <td>0.000000</td>\n",
              "      <td>1.000000</td>\n",
              "      <td>1.000000</td>\n",
              "      <td>9.000000</td>\n",
              "      <td>35.025137</td>\n",
              "      <td>-98.611700</td>\n",
              "    </tr>\n",
              "    <tr>\n",
              "      <th>50%</th>\n",
              "      <td>13799.000000</td>\n",
              "      <td>2013.000000</td>\n",
              "      <td>5.000000</td>\n",
              "      <td>579.000000</td>\n",
              "      <td>1.000000</td>\n",
              "      <td>1.000000</td>\n",
              "      <td>0.000000</td>\n",
              "      <td>8.844800e+04</td>\n",
              "      <td>0.000000</td>\n",
              "      <td>1.000000</td>\n",
              "      <td>1.000000</td>\n",
              "      <td>23.000000</td>\n",
              "      <td>39.470000</td>\n",
              "      <td>-86.260000</td>\n",
              "    </tr>\n",
              "    <tr>\n",
              "      <th>75%</th>\n",
              "      <td>23998.250000</td>\n",
              "      <td>2016.000000</td>\n",
              "      <td>10.000000</td>\n",
              "      <td>1958.250000</td>\n",
              "      <td>1.000000</td>\n",
              "      <td>2.000000</td>\n",
              "      <td>0.000000</td>\n",
              "      <td>1.300235e+05</td>\n",
              "      <td>0.000000</td>\n",
              "      <td>1.000000</td>\n",
              "      <td>2.000000</td>\n",
              "      <td>37.000000</td>\n",
              "      <td>42.398900</td>\n",
              "      <td>-79.990000</td>\n",
              "    </tr>\n",
              "    <tr>\n",
              "      <th>max</th>\n",
              "      <td>345000.000000</td>\n",
              "      <td>2021.000000</td>\n",
              "      <td>41.000000</td>\n",
              "      <td>13886.000000</td>\n",
              "      <td>5.000000</td>\n",
              "      <td>7.000000</td>\n",
              "      <td>4.000000</td>\n",
              "      <td>2.043756e+09</td>\n",
              "      <td>5.000000</td>\n",
              "      <td>2.000000</td>\n",
              "      <td>2.000000</td>\n",
              "      <td>50.000000</td>\n",
              "      <td>64.993698</td>\n",
              "      <td>150.898969</td>\n",
              "    </tr>\n",
              "  </tbody>\n",
              "</table>\n",
              "</div>"
            ],
            "text/plain": [
              "               price           year  ...            lat           long\n",
              "count  122016.000000  122016.000000  ...  122016.000000  122016.000000\n",
              "mean    17315.351978    2010.992878  ...      38.600242     -92.013904\n",
              "std     12332.316438       7.964824  ...       5.481794      17.032020\n",
              "min         0.000000    1913.000000  ...     -58.091220    -159.713745\n",
              "25%      7995.000000    2008.000000  ...      35.025137     -98.611700\n",
              "50%     13799.000000    2013.000000  ...      39.470000     -86.260000\n",
              "75%     23998.250000    2016.000000  ...      42.398900     -79.990000\n",
              "max    345000.000000    2021.000000  ...      64.993698     150.898969\n",
              "\n",
              "[8 rows x 14 columns]"
            ]
          },
          "metadata": {
            "tags": []
          },
          "execution_count": 25
        }
      ]
    },
    {
      "cell_type": "code",
      "metadata": {
        "colab": {
          "base_uri": "https://localhost:8080/",
          "height": 347
        },
        "id": "ZU7W_QOGq43P",
        "outputId": "4f4b4d7e-ae57-41d0-e2ed-d8605e8af239"
      },
      "source": [
        "sns.scatterplot(df1['odometer'], df1['price'])"
      ],
      "execution_count": 39,
      "outputs": [
        {
          "output_type": "stream",
          "text": [
            "/usr/local/lib/python3.6/dist-packages/seaborn/_decorators.py:43: FutureWarning: Pass the following variables as keyword args: x, y. From version 0.12, the only valid positional argument will be `data`, and passing other arguments without an explicit keyword will result in an error or misinterpretation.\n",
            "  FutureWarning\n"
          ],
          "name": "stderr"
        },
        {
          "output_type": "execute_result",
          "data": {
            "text/plain": [
              "<matplotlib.axes._subplots.AxesSubplot at 0x7f3e86cc66a0>"
            ]
          },
          "metadata": {
            "tags": []
          },
          "execution_count": 39
        },
        {
          "output_type": "display_data",
          "data": {
            "image/png": "[encoded data removed]",
            "text/plain": [
              "<Figure size 432x288 with 1 Axes>"
            ]
          },
          "metadata": {
            "tags": [],
            "needs_background": "light"
          }
        }
      ]
    },
    {
      "cell_type": "code",
      "metadata": {
        "colab": {
          "base_uri": "https://localhost:8080/",
          "height": 348
        },
        "id": "G-TdS9wXxvR0",
        "outputId": "b727dd5e-cbec-48e8-c6d5-fcd6a2a18925"
      },
      "source": [
        "sns.barplot(df1['title_status'], df1['price'])"
      ],
      "execution_count": 41,
      "outputs": [
        {
          "output_type": "stream",
          "text": [
            "/usr/local/lib/python3.6/dist-packages/seaborn/_decorators.py:43: FutureWarning: Pass the following variables as keyword args: x, y. From version 0.12, the only valid positional argument will be `data`, and passing other arguments without an explicit keyword will result in an error or misinterpretation.\n",
            "  FutureWarning\n"
          ],
          "name": "stderr"
        },
        {
          "output_type": "execute_result",
          "data": {
            "text/plain": [
              "<matplotlib.axes._subplots.AxesSubplot at 0x7f3e84443518>"
            ]
          },
          "metadata": {
            "tags": []
          },
          "execution_count": 41
        },
        {
          "output_type": "display_data",
          "data": {
            "image/png": "[encoded data removed]",
            "text/plain": [
              "<Figure size 432x288 with 1 Axes>"
            ]
          },
          "metadata": {
            "tags": [],
            "needs_background": "light"
          }
        }
      ]
    },
    {
      "cell_type": "code",
      "metadata": {
        "colab": {
          "base_uri": "https://localhost:8080/",
          "height": 347
        },
        "id": "eQ3Qs5yyFdRM",
        "outputId": "f46e5feb-5d25-44ee-8370-a74f9eb31347"
      },
      "source": [
        "sns.barplot(df1['condition'], df1['price'])"
      ],
      "execution_count": 23,
      "outputs": [
        {
          "output_type": "stream",
          "text": [
            "/usr/local/lib/python3.6/dist-packages/seaborn/_decorators.py:43: FutureWarning: Pass the following variables as keyword args: x, y. From version 0.12, the only valid positional argument will be `data`, and passing other arguments without an explicit keyword will result in an error or misinterpretation.\n",
            "  FutureWarning\n"
          ],
          "name": "stderr"
        },
        {
          "output_type": "execute_result",
          "data": {
            "text/plain": [
              "<matplotlib.axes._subplots.AxesSubplot at 0x7f3e86e46668>"
            ]
          },
          "metadata": {
            "tags": []
          },
          "execution_count": 23
        },
        {
          "output_type": "display_data",
          "data": {
            "image/png": "[encoded data removed]",
            "text/plain": [
              "<Figure size 432x288 with 1 Axes>"
            ]
          },
          "metadata": {
            "tags": [],
            "needs_background": "light"
          }
        }
      ]
    },
    {
      "cell_type": "code",
      "metadata": {
        "colab": {
          "base_uri": "https://localhost:8080/",
          "height": 347
        },
        "id": "6QnX4mefZDO8",
        "outputId": "aeb9a315-1de9-4c54-c07a-db22101f611f"
      },
      "source": [
        "sns.boxplot(df1['condition'], df1['price'])"
      ],
      "execution_count": 24,
      "outputs": [
        {
          "output_type": "stream",
          "text": [
            "/usr/local/lib/python3.6/dist-packages/seaborn/_decorators.py:43: FutureWarning: Pass the following variables as keyword args: x, y. From version 0.12, the only valid positional argument will be `data`, and passing other arguments without an explicit keyword will result in an error or misinterpretation.\n",
            "  FutureWarning\n"
          ],
          "name": "stderr"
        },
        {
          "output_type": "execute_result",
          "data": {
            "text/plain": [
              "<matplotlib.axes._subplots.AxesSubplot at 0x7f3e86e0f470>"
            ]
          },
          "metadata": {
            "tags": []
          },
          "execution_count": 24
        },
        {
          "output_type": "display_data",
          "data": {
            "image/png": "[encoded data removed]",
            "text/plain": [
              "<Figure size 432x288 with 1 Axes>"
            ]
          },
          "metadata": {
            "tags": [],
            "needs_background": "light"
          }
        }
      ]
    },
    {
      "cell_type": "code",
      "metadata": {
        "colab": {
          "base_uri": "https://localhost:8080/",
          "height": 391
        },
        "id": "4jQaQCOOgRqH",
        "outputId": "bd7c527d-740a-4b63-ebe6-96fb429e811d"
      },
      "source": [
        "df1[(df1['condition'] == 4) & (df1['price'] > 25000)]"
      ],
      "execution_count": 11,
      "outputs": [
        {
          "output_type": "execute_result",
          "data": {
            "text/html": [
              "<div>\n",
              "<style scoped>\n",
              "    .dataframe tbody tr th:only-of-type {\n",
              "        vertical-align: middle;\n",
              "    }\n",
              "\n",
              "    .dataframe tbody tr th {\n",
              "        vertical-align: top;\n",
              "    }\n",
              "\n",
              "    .dataframe thead th {\n",
              "        text-align: right;\n",
              "    }\n",
              "</style>\n",
              "<table border=\"1\" class=\"dataframe\">\n",
              "  <thead>\n",
              "    <tr style=\"text-align: right;\">\n",
              "      <th></th>\n",
              "      <th>price</th>\n",
              "      <th>year</th>\n",
              "      <th>manufacturer</th>\n",
              "      <th>model</th>\n",
              "      <th>condition</th>\n",
              "      <th>cylinders</th>\n",
              "      <th>fuel</th>\n",
              "      <th>odometer</th>\n",
              "      <th>title_status</th>\n",
              "      <th>transmission</th>\n",
              "      <th>drive</th>\n",
              "      <th>state</th>\n",
              "      <th>lat</th>\n",
              "      <th>long</th>\n",
              "    </tr>\n",
              "  </thead>\n",
              "  <tbody>\n",
              "    <tr>\n",
              "      <th>3939</th>\n",
              "      <td>45000</td>\n",
              "      <td>2006.0</td>\n",
              "      <td>6</td>\n",
              "      <td>46</td>\n",
              "      <td>4</td>\n",
              "      <td>2</td>\n",
              "      <td>1</td>\n",
              "      <td>47000.0</td>\n",
              "      <td>0</td>\n",
              "      <td>1</td>\n",
              "      <td>2</td>\n",
              "      <td>2</td>\n",
              "      <td>33.342500</td>\n",
              "      <td>-111.63530</td>\n",
              "    </tr>\n",
              "    <tr>\n",
              "      <th>5607</th>\n",
              "      <td>39600</td>\n",
              "      <td>2014.0</td>\n",
              "      <td>30</td>\n",
              "      <td>1755</td>\n",
              "      <td>4</td>\n",
              "      <td>2</td>\n",
              "      <td>0</td>\n",
              "      <td>6500.0</td>\n",
              "      <td>0</td>\n",
              "      <td>2</td>\n",
              "      <td>0</td>\n",
              "      <td>2</td>\n",
              "      <td>32.414200</td>\n",
              "      <td>-110.94660</td>\n",
              "    </tr>\n",
              "    <tr>\n",
              "      <th>6722</th>\n",
              "      <td>26000</td>\n",
              "      <td>2019.0</td>\n",
              "      <td>6</td>\n",
              "      <td>2140</td>\n",
              "      <td>4</td>\n",
              "      <td>2</td>\n",
              "      <td>0</td>\n",
              "      <td>27088.0</td>\n",
              "      <td>0</td>\n",
              "      <td>1</td>\n",
              "      <td>1</td>\n",
              "      <td>3</td>\n",
              "      <td>35.082000</td>\n",
              "      <td>-92.46800</td>\n",
              "    </tr>\n",
              "    <tr>\n",
              "      <th>7308</th>\n",
              "      <td>64499</td>\n",
              "      <td>2020.0</td>\n",
              "      <td>8</td>\n",
              "      <td>379</td>\n",
              "      <td>4</td>\n",
              "      <td>3</td>\n",
              "      <td>0</td>\n",
              "      <td>7700.0</td>\n",
              "      <td>0</td>\n",
              "      <td>1</td>\n",
              "      <td>0</td>\n",
              "      <td>4</td>\n",
              "      <td>35.386300</td>\n",
              "      <td>-119.17000</td>\n",
              "    </tr>\n",
              "    <tr>\n",
              "      <th>10203</th>\n",
              "      <td>55000</td>\n",
              "      <td>1967.0</td>\n",
              "      <td>0</td>\n",
              "      <td>2415</td>\n",
              "      <td>4</td>\n",
              "      <td>0</td>\n",
              "      <td>0</td>\n",
              "      <td>700.0</td>\n",
              "      <td>0</td>\n",
              "      <td>2</td>\n",
              "      <td>0</td>\n",
              "      <td>4</td>\n",
              "      <td>33.876600</td>\n",
              "      <td>-118.28350</td>\n",
              "    </tr>\n",
              "    <tr>\n",
              "      <th>...</th>\n",
              "      <td>...</td>\n",
              "      <td>...</td>\n",
              "      <td>...</td>\n",
              "      <td>...</td>\n",
              "      <td>...</td>\n",
              "      <td>...</td>\n",
              "      <td>...</td>\n",
              "      <td>...</td>\n",
              "      <td>...</td>\n",
              "      <td>...</td>\n",
              "      <td>...</td>\n",
              "      <td>...</td>\n",
              "      <td>...</td>\n",
              "      <td>...</td>\n",
              "    </tr>\n",
              "    <tr>\n",
              "      <th>154712</th>\n",
              "      <td>40635</td>\n",
              "      <td>2021.0</td>\n",
              "      <td>3</td>\n",
              "      <td>117</td>\n",
              "      <td>4</td>\n",
              "      <td>2</td>\n",
              "      <td>0</td>\n",
              "      <td>11.0</td>\n",
              "      <td>0</td>\n",
              "      <td>1</td>\n",
              "      <td>0</td>\n",
              "      <td>11</td>\n",
              "      <td>20.889410</td>\n",
              "      <td>-156.46774</td>\n",
              "    </tr>\n",
              "    <tr>\n",
              "      <th>154713</th>\n",
              "      <td>40888</td>\n",
              "      <td>2021.0</td>\n",
              "      <td>3</td>\n",
              "      <td>570</td>\n",
              "      <td>4</td>\n",
              "      <td>2</td>\n",
              "      <td>0</td>\n",
              "      <td>11.0</td>\n",
              "      <td>0</td>\n",
              "      <td>1</td>\n",
              "      <td>0</td>\n",
              "      <td>11</td>\n",
              "      <td>20.889410</td>\n",
              "      <td>-156.46774</td>\n",
              "    </tr>\n",
              "    <tr>\n",
              "      <th>155222</th>\n",
              "      <td>45000</td>\n",
              "      <td>2019.0</td>\n",
              "      <td>2</td>\n",
              "      <td>17</td>\n",
              "      <td>4</td>\n",
              "      <td>0</td>\n",
              "      <td>0</td>\n",
              "      <td>8000.0</td>\n",
              "      <td>1</td>\n",
              "      <td>1</td>\n",
              "      <td>0</td>\n",
              "      <td>18</td>\n",
              "      <td>30.415874</td>\n",
              "      <td>-94.17206</td>\n",
              "    </tr>\n",
              "    <tr>\n",
              "      <th>155794</th>\n",
              "      <td>29477</td>\n",
              "      <td>2016.0</td>\n",
              "      <td>0</td>\n",
              "      <td>3070</td>\n",
              "      <td>4</td>\n",
              "      <td>0</td>\n",
              "      <td>0</td>\n",
              "      <td>37600.0</td>\n",
              "      <td>0</td>\n",
              "      <td>1</td>\n",
              "      <td>2</td>\n",
              "      <td>23</td>\n",
              "      <td>44.882535</td>\n",
              "      <td>-93.46283</td>\n",
              "    </tr>\n",
              "    <tr>\n",
              "      <th>155922</th>\n",
              "      <td>38635</td>\n",
              "      <td>2021.0</td>\n",
              "      <td>2</td>\n",
              "      <td>1449</td>\n",
              "      <td>4</td>\n",
              "      <td>1</td>\n",
              "      <td>0</td>\n",
              "      <td>15.0</td>\n",
              "      <td>0</td>\n",
              "      <td>1</td>\n",
              "      <td>2</td>\n",
              "      <td>27</td>\n",
              "      <td>34.213400</td>\n",
              "      <td>-83.44800</td>\n",
              "    </tr>\n",
              "  </tbody>\n",
              "</table>\n",
              "<p>277 rows × 14 columns</p>\n",
              "</div>"
            ],
            "text/plain": [
              "        price    year  manufacturer  model  ...  drive  state        lat       long\n",
              "3939    45000  2006.0             6     46  ...      2      2  33.342500 -111.63530\n",
              "5607    39600  2014.0            30   1755  ...      0      2  32.414200 -110.94660\n",
              "6722    26000  2019.0             6   2140  ...      1      3  35.082000  -92.46800\n",
              "7308    64499  2020.0             8    379  ...      0      4  35.386300 -119.17000\n",
              "10203   55000  1967.0             0   2415  ...      0      4  33.876600 -118.28350\n",
              "...       ...     ...           ...    ...  ...    ...    ...        ...        ...\n",
              "154712  40635  2021.0             3    117  ...      0     11  20.889410 -156.46774\n",
              "154713  40888  2021.0             3    570  ...      0     11  20.889410 -156.46774\n",
              "155222  45000  2019.0             2     17  ...      0     18  30.415874  -94.17206\n",
              "155794  29477  2016.0             0   3070  ...      2     23  44.882535  -93.46283\n",
              "155922  38635  2021.0             2   1449  ...      2     27  34.213400  -83.44800\n",
              "\n",
              "[277 rows x 14 columns]"
            ]
          },
          "metadata": {
            "tags": []
          },
          "execution_count": 11
        }
      ]
    },
    {
      "cell_type": "code",
      "metadata": {
        "colab": {
          "base_uri": "https://localhost:8080/",
          "height": 391
        },
        "id": "iK_hqt0NgKtv",
        "outputId": "89677255-c9da-4767-f3b1-6feea7506f0b"
      },
      "source": [
        "df1[(df1['year'] < 2000) & (df1['condition'] > 3)]"
      ],
      "execution_count": 12,
      "outputs": [
        {
          "output_type": "execute_result",
          "data": {
            "text/html": [
              "<div>\n",
              "<style scoped>\n",
              "    .dataframe tbody tr th:only-of-type {\n",
              "        vertical-align: middle;\n",
              "    }\n",
              "\n",
              "    .dataframe tbody tr th {\n",
              "        vertical-align: top;\n",
              "    }\n",
              "\n",
              "    .dataframe thead th {\n",
              "        text-align: right;\n",
              "    }\n",
              "</style>\n",
              "<table border=\"1\" class=\"dataframe\">\n",
              "  <thead>\n",
              "    <tr style=\"text-align: right;\">\n",
              "      <th></th>\n",
              "      <th>price</th>\n",
              "      <th>year</th>\n",
              "      <th>manufacturer</th>\n",
              "      <th>model</th>\n",
              "      <th>condition</th>\n",
              "      <th>cylinders</th>\n",
              "      <th>fuel</th>\n",
              "      <th>odometer</th>\n",
              "      <th>title_status</th>\n",
              "      <th>transmission</th>\n",
              "      <th>drive</th>\n",
              "      <th>state</th>\n",
              "      <th>lat</th>\n",
              "      <th>long</th>\n",
              "    </tr>\n",
              "  </thead>\n",
              "  <tbody>\n",
              "    <tr>\n",
              "      <th>678</th>\n",
              "      <td>3200</td>\n",
              "      <td>1993.0</td>\n",
              "      <td>2</td>\n",
              "      <td>73</td>\n",
              "      <td>5</td>\n",
              "      <td>0</td>\n",
              "      <td>0</td>\n",
              "      <td>190000.0</td>\n",
              "      <td>0</td>\n",
              "      <td>1</td>\n",
              "      <td>0</td>\n",
              "      <td>0</td>\n",
              "      <td>31.340800</td>\n",
              "      <td>-85.842100</td>\n",
              "    </tr>\n",
              "    <tr>\n",
              "      <th>686</th>\n",
              "      <td>3000</td>\n",
              "      <td>1993.0</td>\n",
              "      <td>2</td>\n",
              "      <td>73</td>\n",
              "      <td>5</td>\n",
              "      <td>0</td>\n",
              "      <td>0</td>\n",
              "      <td>190000.0</td>\n",
              "      <td>0</td>\n",
              "      <td>1</td>\n",
              "      <td>0</td>\n",
              "      <td>0</td>\n",
              "      <td>31.340800</td>\n",
              "      <td>-85.842100</td>\n",
              "    </tr>\n",
              "    <tr>\n",
              "      <th>1027</th>\n",
              "      <td>1100</td>\n",
              "      <td>1997.0</td>\n",
              "      <td>9</td>\n",
              "      <td>61</td>\n",
              "      <td>5</td>\n",
              "      <td>1</td>\n",
              "      <td>0</td>\n",
              "      <td>259000.0</td>\n",
              "      <td>0</td>\n",
              "      <td>2</td>\n",
              "      <td>1</td>\n",
              "      <td>0</td>\n",
              "      <td>34.845197</td>\n",
              "      <td>-86.711998</td>\n",
              "    </tr>\n",
              "    <tr>\n",
              "      <th>1051</th>\n",
              "      <td>3100</td>\n",
              "      <td>1954.0</td>\n",
              "      <td>29</td>\n",
              "      <td>517</td>\n",
              "      <td>5</td>\n",
              "      <td>0</td>\n",
              "      <td>0</td>\n",
              "      <td>65000.0</td>\n",
              "      <td>4</td>\n",
              "      <td>2</td>\n",
              "      <td>0</td>\n",
              "      <td>0</td>\n",
              "      <td>34.667900</td>\n",
              "      <td>-86.560300</td>\n",
              "    </tr>\n",
              "    <tr>\n",
              "      <th>1322</th>\n",
              "      <td>2795</td>\n",
              "      <td>1997.0</td>\n",
              "      <td>8</td>\n",
              "      <td>469</td>\n",
              "      <td>5</td>\n",
              "      <td>2</td>\n",
              "      <td>0</td>\n",
              "      <td>300000.0</td>\n",
              "      <td>0</td>\n",
              "      <td>1</td>\n",
              "      <td>0</td>\n",
              "      <td>0</td>\n",
              "      <td>34.719000</td>\n",
              "      <td>-86.569000</td>\n",
              "    </tr>\n",
              "    <tr>\n",
              "      <th>...</th>\n",
              "      <td>...</td>\n",
              "      <td>...</td>\n",
              "      <td>...</td>\n",
              "      <td>...</td>\n",
              "      <td>...</td>\n",
              "      <td>...</td>\n",
              "      <td>...</td>\n",
              "      <td>...</td>\n",
              "      <td>...</td>\n",
              "      <td>...</td>\n",
              "      <td>...</td>\n",
              "      <td>...</td>\n",
              "      <td>...</td>\n",
              "      <td>...</td>\n",
              "    </tr>\n",
              "    <tr>\n",
              "      <th>156830</th>\n",
              "      <td>2400</td>\n",
              "      <td>1996.0</td>\n",
              "      <td>2</td>\n",
              "      <td>2176</td>\n",
              "      <td>5</td>\n",
              "      <td>0</td>\n",
              "      <td>0</td>\n",
              "      <td>235000.0</td>\n",
              "      <td>0</td>\n",
              "      <td>1</td>\n",
              "      <td>2</td>\n",
              "      <td>37</td>\n",
              "      <td>45.595900</td>\n",
              "      <td>-122.310400</td>\n",
              "    </tr>\n",
              "    <tr>\n",
              "      <th>156834</th>\n",
              "      <td>1200</td>\n",
              "      <td>1991.0</td>\n",
              "      <td>16</td>\n",
              "      <td>1816</td>\n",
              "      <td>5</td>\n",
              "      <td>1</td>\n",
              "      <td>0</td>\n",
              "      <td>227110.0</td>\n",
              "      <td>2</td>\n",
              "      <td>1</td>\n",
              "      <td>0</td>\n",
              "      <td>37</td>\n",
              "      <td>45.337700</td>\n",
              "      <td>-122.570000</td>\n",
              "    </tr>\n",
              "    <tr>\n",
              "      <th>156864</th>\n",
              "      <td>800</td>\n",
              "      <td>1997.0</td>\n",
              "      <td>10</td>\n",
              "      <td>69</td>\n",
              "      <td>5</td>\n",
              "      <td>2</td>\n",
              "      <td>0</td>\n",
              "      <td>89000.0</td>\n",
              "      <td>2</td>\n",
              "      <td>1</td>\n",
              "      <td>1</td>\n",
              "      <td>38</td>\n",
              "      <td>40.576750</td>\n",
              "      <td>-75.508110</td>\n",
              "    </tr>\n",
              "    <tr>\n",
              "      <th>156867</th>\n",
              "      <td>1200</td>\n",
              "      <td>1995.0</td>\n",
              "      <td>6</td>\n",
              "      <td>146</td>\n",
              "      <td>5</td>\n",
              "      <td>0</td>\n",
              "      <td>0</td>\n",
              "      <td>153000.0</td>\n",
              "      <td>0</td>\n",
              "      <td>2</td>\n",
              "      <td>2</td>\n",
              "      <td>38</td>\n",
              "      <td>40.040626</td>\n",
              "      <td>-75.393873</td>\n",
              "    </tr>\n",
              "    <tr>\n",
              "      <th>157089</th>\n",
              "      <td>3000</td>\n",
              "      <td>1999.0</td>\n",
              "      <td>0</td>\n",
              "      <td>508</td>\n",
              "      <td>5</td>\n",
              "      <td>0</td>\n",
              "      <td>0</td>\n",
              "      <td>0.0</td>\n",
              "      <td>0</td>\n",
              "      <td>1</td>\n",
              "      <td>0</td>\n",
              "      <td>42</td>\n",
              "      <td>36.541500</td>\n",
              "      <td>-82.553000</td>\n",
              "    </tr>\n",
              "  </tbody>\n",
              "</table>\n",
              "<p>1370 rows × 14 columns</p>\n",
              "</div>"
            ],
            "text/plain": [
              "        price    year  manufacturer  model  ...  drive  state        lat        long\n",
              "678      3200  1993.0             2     73  ...      0      0  31.340800  -85.842100\n",
              "686      3000  1993.0             2     73  ...      0      0  31.340800  -85.842100\n",
              "1027     1100  1997.0             9     61  ...      1      0  34.845197  -86.711998\n",
              "1051     3100  1954.0            29    517  ...      0      0  34.667900  -86.560300\n",
              "1322     2795  1997.0             8    469  ...      0      0  34.719000  -86.569000\n",
              "...       ...     ...           ...    ...  ...    ...    ...        ...         ...\n",
              "156830   2400  1996.0             2   2176  ...      2     37  45.595900 -122.310400\n",
              "156834   1200  1991.0            16   1816  ...      0     37  45.337700 -122.570000\n",
              "156864    800  1997.0            10     69  ...      1     38  40.576750  -75.508110\n",
              "156867   1200  1995.0             6    146  ...      2     38  40.040626  -75.393873\n",
              "157089   3000  1999.0             0    508  ...      0     42  36.541500  -82.553000\n",
              "\n",
              "[1370 rows x 14 columns]"
            ]
          },
          "metadata": {
            "tags": []
          },
          "execution_count": 12
        }
      ]
    },
    {
      "cell_type": "markdown",
      "metadata": {
        "id": "j-ix5jC6v_2C"
      },
      "source": [
        "#Remove Outliers and Continue EDA Operations"
      ]
    },
    {
      "cell_type": "code",
      "metadata": {
        "id": "FSHsO6jlkHSX"
      },
      "source": [
        "outliers = list(df1[(df1['price'] > 500000)].index)"
      ],
      "execution_count": 13,
      "outputs": []
    },
    {
      "cell_type": "code",
      "metadata": {
        "id": "vqgGFezmkHBQ"
      },
      "source": [
        "df1.drop(outliers, axis=0, inplace=True)"
      ],
      "execution_count": 14,
      "outputs": []
    },
    {
      "cell_type": "code",
      "metadata": {
        "id": "wMYaLQJkjhGS"
      },
      "source": [
        "outliers = list(df1[(df1['price'] < 5000) & (df1['condition'] < 3) & (df1['odometer'] > 1000)].index)"
      ],
      "execution_count": 15,
      "outputs": []
    },
    {
      "cell_type": "code",
      "metadata": {
        "id": "mZ2gpQ5DjgEL"
      },
      "source": [
        "df1.drop(outliers, axis=0, inplace=True)"
      ],
      "execution_count": 16,
      "outputs": []
    },
    {
      "cell_type": "code",
      "metadata": {
        "id": "vihqZP5UcX06"
      },
      "source": [
        "outliers = list(df1[(df1['price'] > 25000) & (df1['condition'] > 3)].index)"
      ],
      "execution_count": 17,
      "outputs": []
    },
    {
      "cell_type": "code",
      "metadata": {
        "id": "nHCPGRHPhDTp"
      },
      "source": [
        "df1.drop(outliers, axis=0, inplace=True)"
      ],
      "execution_count": 18,
      "outputs": []
    },
    {
      "cell_type": "code",
      "metadata": {
        "id": "C_knwGytNA_8"
      },
      "source": [
        "outliers = list(df1[(df1['price'] > 1500000) & (df1['condition'] < 3)].index)"
      ],
      "execution_count": 19,
      "outputs": []
    },
    {
      "cell_type": "code",
      "metadata": {
        "id": "P1ILfY0Zbntx"
      },
      "source": [
        "df1.drop(outliers, axis=0, inplace=True)"
      ],
      "execution_count": 20,
      "outputs": []
    },
    {
      "cell_type": "code",
      "metadata": {
        "id": "mLiy_P4ZeurS"
      },
      "source": [
        "outliers = list(df1[(df1['price'] < 2500) & (df1['condition'] < 3)].index)"
      ],
      "execution_count": 21,
      "outputs": []
    },
    {
      "cell_type": "code",
      "metadata": {
        "id": "4JArjkejew6u"
      },
      "source": [
        "df1.drop(outliers, axis=0, inplace=True)"
      ],
      "execution_count": 22,
      "outputs": []
    },
    {
      "cell_type": "markdown",
      "metadata": {
        "id": "VcIiDk0hwNrK"
      },
      "source": [
        "#Import SciKit Learn to Perform Train Test Split and Standardize the dataset"
      ]
    },
    {
      "cell_type": "code",
      "metadata": {
        "id": "gSemgdfuwc5h"
      },
      "source": [
        "X = [ 'year', 'odometer', 'lat', 'long', 'manufacturer', 'model', 'condition', 'cylinders', 'fuel', 'title_status', 'transmission', 'drive', 'state']"
      ],
      "execution_count": 26,
      "outputs": []
    },
    {
      "cell_type": "code",
      "metadata": {
        "id": "DO6R9rLX5dgp"
      },
      "source": [
        "y = ['price']"
      ],
      "execution_count": 27,
      "outputs": []
    },
    {
      "cell_type": "code",
      "metadata": {
        "id": "vN7JN7A6wxzE"
      },
      "source": [
        "from sklearn.model_selection import train_test_split\n",
        "X_train, X_test, y_train, y_test = train_test_split(df1[X], df1[y], test_size=0.3, random_state=101)"
      ],
      "execution_count": 31,
      "outputs": []
    },
    {
      "cell_type": "code",
      "metadata": {
        "id": "6ddkg0fvrJpM"
      },
      "source": [
        "X_train, X_test, y_train, y_test = train_test_split(df1[X], df1[y], test_size=0.2, random_state=0)\n",
        "\n",
        "from sklearn.preprocessing import StandardScaler\n",
        "\n",
        "sc = StandardScaler()\n",
        "X_train = sc.fit_transform(X_train)\n",
        "X_test = sc.transform(X_test)"
      ],
      "execution_count": 32,
      "outputs": []
    },
    {
      "cell_type": "markdown",
      "metadata": {
        "id": "LUIE1lA3woCF"
      },
      "source": [
        "#Develop and Evaluate Various Models Using the Scikit Learn Machine Learning Algorithms"
      ]
    },
    {
      "cell_type": "code",
      "metadata": {
        "colab": {
          "base_uri": "https://localhost:8080/"
        },
        "id": "CHztmMXNnF5N",
        "outputId": "5009cd39-7039-4e8c-9043-813792150802"
      },
      "source": [
        "from sklearn.ensemble import RandomForestRegressor\n",
        "random = RandomForestRegressor()\n",
        "\n",
        "random.fit(X_train, y_train)\n",
        "random.predict(X_test)"
      ],
      "execution_count": 33,
      "outputs": [
        {
          "output_type": "stream",
          "text": [
            "/usr/local/lib/python3.6/dist-packages/ipykernel_launcher.py:4: DataConversionWarning: A column-vector y was passed when a 1d array was expected. Please change the shape of y to (n_samples,), for example using ravel().\n",
            "  after removing the cwd from sys.path.\n"
          ],
          "name": "stderr"
        },
        {
          "output_type": "execute_result",
          "data": {
            "text/plain": [
              "array([15459.88      , 25324.97      , 14126.64      , ...,\n",
              "        6342.35      ,  6056.15714286,  7712.91      ])"
            ]
          },
          "metadata": {
            "tags": []
          },
          "execution_count": 33
        }
      ]
    },
    {
      "cell_type": "code",
      "metadata": {
        "colab": {
          "base_uri": "https://localhost:8080/"
        },
        "id": "EWE8hvf_nxz7",
        "outputId": "61e30f3f-9542-4cff-a8fe-5324deb3d8be"
      },
      "source": [
        "print(\"Training set score: {:.2f}\".format(random.score(X_train, y_train)))\n",
        "print(\"Test set score: {:.2f}\".format(random.score(X_test, y_test)))"
      ],
      "execution_count": 34,
      "outputs": [
        {
          "output_type": "stream",
          "text": [
            "Training set score: 0.98\n",
            "Test set score: 0.87\n"
          ],
          "name": "stdout"
        }
      ]
    },
    {
      "cell_type": "code",
      "metadata": {
        "colab": {
          "base_uri": "https://localhost:8080/"
        },
        "id": "wUDrPzVTohpp",
        "outputId": "3d1702a4-3b4d-4e0e-fc4c-f5d7bce65da2"
      },
      "source": [
        "from sklearn.linear_model import Ridge\n",
        "ridge = Ridge()\n",
        "\n",
        "ridge.fit(X_train, y_train)\n",
        "ridge.predict(X_test)"
      ],
      "execution_count": 35,
      "outputs": [
        {
          "output_type": "execute_result",
          "data": {
            "text/plain": [
              "array([[20636.28200325],\n",
              "       [16602.86892445],\n",
              "       [18442.20161767],\n",
              "       ...,\n",
              "       [11983.4874377 ],\n",
              "       [14228.68009134],\n",
              "       [17385.11527754]])"
            ]
          },
          "metadata": {
            "tags": []
          },
          "execution_count": 35
        }
      ]
    },
    {
      "cell_type": "code",
      "metadata": {
        "colab": {
          "base_uri": "https://localhost:8080/"
        },
        "id": "hIjsEG2toetk",
        "outputId": "de58bce8-ae20-44b7-9b66-88f33da84ff6"
      },
      "source": [
        "print(\"Training set score: {:.2f}\".format(ridge.score(X_train, y_train)))\n",
        "print(\"Test set score: {:.2f}\".format(ridge.score(X_test, y_test)))"
      ],
      "execution_count": 36,
      "outputs": [
        {
          "output_type": "stream",
          "text": [
            "Training set score: 0.22\n",
            "Test set score: 0.23\n"
          ],
          "name": "stdout"
        }
      ]
    },
    {
      "cell_type": "code",
      "metadata": {
        "colab": {
          "base_uri": "https://localhost:8080/"
        },
        "id": "Q0O_NbV0pnXL",
        "outputId": "1e94ced5-d1f5-445c-e096-4be5aac9ebcf"
      },
      "source": [
        "from sklearn.linear_model import Lasso\n",
        "lasso = Lasso()\n",
        "\n",
        "lasso.fit(X_train, y_train)\n",
        "lasso.predict(X_test)"
      ],
      "execution_count": 37,
      "outputs": [
        {
          "output_type": "execute_result",
          "data": {
            "text/plain": [
              "array([20634.7807777 , 16602.04835848, 18445.45780163, ...,\n",
              "       11987.08772528, 14231.89724877, 17384.1549624 ])"
            ]
          },
          "metadata": {
            "tags": []
          },
          "execution_count": 37
        }
      ]
    },
    {
      "cell_type": "code",
      "metadata": {
        "colab": {
          "base_uri": "https://localhost:8080/"
        },
        "id": "BsFUWAofpnIf",
        "outputId": "81383d3f-d662-44f5-fa6e-d2bd3123c3a3"
      },
      "source": [
        "print(\"Training set score: {:.2f}\".format(lasso.score(X_train, y_train)))\n",
        "print(\"Test set score: {:.2f}\".format(lasso.score(X_test, y_test)))"
      ],
      "execution_count": 38,
      "outputs": [
        {
          "output_type": "stream",
          "text": [
            "Training set score: 0.22\n",
            "Test set score: 0.23\n"
          ],
          "name": "stdout"
        }
      ]
    },
    {
      "cell_type": "markdown",
      "metadata": {
        "id": "oJwHoh15up2l"
      },
      "source": [
        "#Using SciKit Learn Pipeline"
      ]
    },
    {
      "cell_type": "code",
      "metadata": {
        "id": "u8FliLX4EAji"
      },
      "source": [
        "df = df1.sample(n=13000)"
      ],
      "execution_count": 30,
      "outputs": []
    },
    {
      "cell_type": "code",
      "metadata": {
        "id": "7pQtD5ma2pYx"
      },
      "source": [
        "mapper = DataFrameMapper([(['manufacturer', 'model', 'condition', 'cylinders', 'fuel', 'title_status', 'transmission', 'drive', 'state'], preprocessing.StandardScaler()),([ 'year', 'odometer', 'lat', 'long'], preprocessing.OneHotEncoder())])"
      ],
      "execution_count": null,
      "outputs": []
    },
    {
      "cell_type": "code",
      "metadata": {
        "id": "QF766PZm4mQW"
      },
      "source": [
        "pipeline_obj = pipeline.Pipeline([('mapper',mapper), (\"model\", linear_model.Ridge())])"
      ],
      "execution_count": null,
      "outputs": []
    },
    {
      "cell_type": "code",
      "metadata": {
        "colab": {
          "base_uri": "https://localhost:8080/"
        },
        "id": "gm6qmHVS5Uog",
        "outputId": "7add1643-9fa9-4f69-b81f-f348f4337164"
      },
      "source": [
        "df.columns"
      ],
      "execution_count": null,
      "outputs": [
        {
          "output_type": "execute_result",
          "data": {
            "text/plain": [
              "Index(['price', 'year', 'manufacturer', 'model', 'condition', 'cylinders',\n",
              "       'fuel', 'odometer', 'title_status', 'transmission', 'drive', 'state',\n",
              "       'lat', 'long'],\n",
              "      dtype='object')"
            ]
          },
          "metadata": {
            "tags": []
          },
          "execution_count": 10
        }
      ]
    },
    {
      "cell_type": "code",
      "metadata": {
        "colab": {
          "base_uri": "https://localhost:8080/"
        },
        "id": "TVBSfl90xkyy",
        "outputId": "13921510-f8e8-44d7-a708-577a28599517"
      },
      "source": [
        "pipeline_obj.fit(df[X],df[y])"
      ],
      "execution_count": null,
      "outputs": [
        {
          "output_type": "execute_result",
          "data": {
            "text/plain": [
              "Pipeline(memory=None,\n",
              "         steps=[('mapper',\n",
              "                 DataFrameMapper(default=False, df_out=False,\n",
              "                                 features=[(['manufacturer', 'model',\n",
              "                                             'condition', 'cylinders', 'fuel',\n",
              "                                             'title_status', 'transmission',\n",
              "                                             'drive', 'state'],\n",
              "                                            StandardScaler(copy=True,\n",
              "                                                           with_mean=True,\n",
              "                                                           with_std=True)),\n",
              "                                           (['year', 'odometer', 'lat', 'long'],\n",
              "                                            OneHotEncoder(categories='auto',\n",
              "                                                          drop=None,\n",
              "                                                          dtype=<class 'numpy.float64'>,\n",
              "                                                          handle_unknown='error',\n",
              "                                                          sparse=True))],\n",
              "                                 input_df=False, sparse=False)),\n",
              "                ('model',\n",
              "                 Ridge(alpha=1.0, copy_X=True, fit_intercept=True,\n",
              "                       max_iter=None, normalize=False, random_state=None,\n",
              "                       solver='auto', tol=0.001))],\n",
              "         verbose=False)"
            ]
          },
          "metadata": {
            "tags": []
          },
          "execution_count": 14
        }
      ]
    },
    {
      "cell_type": "code",
      "metadata": {
        "colab": {
          "base_uri": "https://localhost:8080/"
        },
        "id": "YFTDkfx8w6pq",
        "outputId": "538606b0-012b-4320-9879-f6fb2be5fec5"
      },
      "source": [
        "print(\"Training set score: {:.2f}\".format(pipeline_obj.score(X_train, y_train)))\n",
        "print(\"Test set score: {:.2f}\".format(pipeline_obj.score(X_test, y_test)))"
      ],
      "execution_count": null,
      "outputs": [
        {
          "output_type": "stream",
          "text": [
            "Training set score: 0.92\n",
            "Test set score: 0.93\n"
          ],
          "name": "stdout"
        }
      ]
    },
    {
      "cell_type": "markdown",
      "metadata": {
        "id": "c-iV43_OvGGm"
      },
      "source": [
        "#Using TensorFlow Model"
      ]
    },
    {
      "cell_type": "code",
      "metadata": {
        "id": "Zx5mq0iKsF3R"
      },
      "source": [
        "import tensorflow as tf\n",
        "from tensorflow.keras.layers import Input, Dense, Activation,Dropout\n",
        "from tensorflow.keras.models import Model"
      ],
      "execution_count": null,
      "outputs": []
    },
    {
      "cell_type": "code",
      "metadata": {
        "id": "H2xQZHXrrJLw"
      },
      "source": [
        "\n",
        "# creating a model for predicting deep learning model\n",
        "model  = tf.keras.Sequential([\n",
        "                tf.keras.layers.Flatten(input_shape=(1,13)),\n",
        "                tf.keras.layers.Dense(8, activation = 'relu'),\n",
        "                tf.keras.layers.Dense(1, activation = 'relu')\n",
        "])\n",
        "model.compile(loss=\"mean_squared_error\" , optimizer=\"adam\", metrics=[\"mean_squared_error\"])"
      ],
      "execution_count": null,
      "outputs": []
    },
    {
      "cell_type": "code",
      "metadata": {
        "colab": {
          "base_uri": "https://localhost:8080/"
        },
        "id": "057rIl25sCSF",
        "outputId": "4fdbd081-c4b0-4202-d061-d72515d68d62"
      },
      "source": [
        "history = model.fit(X_train, y_train, batch_size=2, epochs=100, verbose=1, validation_split=0.2)"
      ],
      "execution_count": null,
      "outputs": [
        {
          "output_type": "stream",
          "text": [
            "Epoch 1/100\n",
            "WARNING:tensorflow:Model was constructed with shape (None, 1, 13) for input Tensor(\"flatten_input:0\", shape=(None, 1, 13), dtype=float32), but it was called on an input with incompatible shape (None, 13).\n",
            "WARNING:tensorflow:Model was constructed with shape (None, 1, 13) for input Tensor(\"flatten_input:0\", shape=(None, 1, 13), dtype=float32), but it was called on an input with incompatible shape (None, 13).\n",
            "50407/50421 [============================>.] - ETA: 0s - loss: 129744653778944.0000 - mean_squared_error: 129744653778944.0000WARNING:tensorflow:Model was constructed with shape (None, 1, 13) for input Tensor(\"flatten_input:0\", shape=(None, 1, 13), dtype=float32), but it was called on an input with incompatible shape (None, 13).\n",
            "50421/50421 [==============================] - 48s 961us/step - loss: 129709916553216.0000 - mean_squared_error: 129709916553216.0000 - val_loss: 172233968.0000 - val_mean_squared_error: 172233968.0000\n",
            "Epoch 2/100\n",
            "50421/50421 [==============================] - 49s 968us/step - loss: 129709304184832.0000 - mean_squared_error: 129709304184832.0000 - val_loss: 110520192.0000 - val_mean_squared_error: 110520192.0000\n",
            "Epoch 3/100\n",
            "50421/50421 [==============================] - 48s 955us/step - loss: 129709195132928.0000 - mean_squared_error: 129709195132928.0000 - val_loss: 105986592.0000 - val_mean_squared_error: 105986592.0000\n",
            "Epoch 4/100\n",
            "50421/50421 [==============================] - 48s 959us/step - loss: 129709354516480.0000 - mean_squared_error: 129709354516480.0000 - val_loss: 105001936.0000 - val_mean_squared_error: 105001936.0000\n",
            "Epoch 5/100\n",
            "50421/50421 [==============================] - 49s 981us/step - loss: 129709388070912.0000 - mean_squared_error: 129709388070912.0000 - val_loss: 104643008.0000 - val_mean_squared_error: 104643008.0000\n",
            "Epoch 6/100\n",
            "50421/50421 [==============================] - 48s 957us/step - loss: 129709320962048.0000 - mean_squared_error: 129709320962048.0000 - val_loss: 104328664.0000 - val_mean_squared_error: 104328664.0000\n",
            "Epoch 7/100\n",
            "50421/50421 [==============================] - 48s 956us/step - loss: 129709430013952.0000 - mean_squared_error: 129709430013952.0000 - val_loss: 104038520.0000 - val_mean_squared_error: 104038520.0000\n",
            "Epoch 8/100\n",
            "50421/50421 [==============================] - 49s 966us/step - loss: 129709396459520.0000 - mean_squared_error: 129709396459520.0000 - val_loss: 103794824.0000 - val_mean_squared_error: 103794824.0000\n",
            "Epoch 9/100\n",
            "50421/50421 [==============================] - 50s 983us/step - loss: 129709396459520.0000 - mean_squared_error: 129709396459520.0000 - val_loss: 103455224.0000 - val_mean_squared_error: 103455224.0000\n",
            "Epoch 10/100\n",
            "50421/50421 [==============================] - 49s 964us/step - loss: 129709354516480.0000 - mean_squared_error: 129709354516480.0000 - val_loss: 103083192.0000 - val_mean_squared_error: 103083192.0000\n",
            "Epoch 11/100\n",
            "50421/50421 [==============================] - 51s 1ms/step - loss: 129709421625344.0000 - mean_squared_error: 129709421625344.0000 - val_loss: 102682360.0000 - val_mean_squared_error: 102682360.0000\n",
            "Epoch 12/100\n",
            "50421/50421 [==============================] - 48s 962us/step - loss: 129709480345600.0000 - mean_squared_error: 129709480345600.0000 - val_loss: 102033928.0000 - val_mean_squared_error: 102033928.0000\n",
            "Epoch 13/100\n",
            "50421/50421 [==============================] - 48s 962us/step - loss: 129709413236736.0000 - mean_squared_error: 129709413236736.0000 - val_loss: 101714432.0000 - val_mean_squared_error: 101714432.0000\n",
            "Epoch 14/100\n",
            "50421/50421 [==============================] - 49s 963us/step - loss: 129709463568384.0000 - mean_squared_error: 129709463568384.0000 - val_loss: 101112616.0000 - val_mean_squared_error: 101112616.0000\n",
            "Epoch 15/100\n",
            "50421/50421 [==============================] - 49s 977us/step - loss: 129709446791168.0000 - mean_squared_error: 129709446791168.0000 - val_loss: 100794984.0000 - val_mean_squared_error: 100794984.0000\n",
            "Epoch 16/100\n",
            "50421/50421 [==============================] - 49s 964us/step - loss: 129709421625344.0000 - mean_squared_error: 129709421625344.0000 - val_loss: 100396368.0000 - val_mean_squared_error: 100396368.0000\n",
            "Epoch 17/100\n",
            "50421/50421 [==============================] - 49s 966us/step - loss: 129709430013952.0000 - mean_squared_error: 129709430013952.0000 - val_loss: 99943792.0000 - val_mean_squared_error: 99943792.0000\n",
            "Epoch 18/100\n",
            "50421/50421 [==============================] - 50s 989us/step - loss: 129709421625344.0000 - mean_squared_error: 129709421625344.0000 - val_loss: 99543632.0000 - val_mean_squared_error: 99543632.0000\n",
            "Epoch 19/100\n",
            "50421/50421 [==============================] - 49s 965us/step - loss: 129709446791168.0000 - mean_squared_error: 129709446791168.0000 - val_loss: 99149720.0000 - val_mean_squared_error: 99149720.0000\n",
            "Epoch 20/100\n",
            "50421/50421 [==============================] - 48s 960us/step - loss: 129709480345600.0000 - mean_squared_error: 129709480345600.0000 - val_loss: 98705416.0000 - val_mean_squared_error: 98705416.0000\n",
            "Epoch 21/100\n",
            "50421/50421 [==============================] - 49s 972us/step - loss: 129709413236736.0000 - mean_squared_error: 129709413236736.0000 - val_loss: 98334272.0000 - val_mean_squared_error: 98334272.0000\n",
            "Epoch 22/100\n",
            "50421/50421 [==============================] - 49s 974us/step - loss: 129709446791168.0000 - mean_squared_error: 129709446791168.0000 - val_loss: 97958392.0000 - val_mean_squared_error: 97958392.0000\n",
            "Epoch 23/100\n",
            "50421/50421 [==============================] - 50s 996us/step - loss: 129709396459520.0000 - mean_squared_error: 129709396459520.0000 - val_loss: 97505776.0000 - val_mean_squared_error: 97505776.0000\n",
            "Epoch 24/100\n",
            "50421/50421 [==============================] - 50s 984us/step - loss: 129709480345600.0000 - mean_squared_error: 129709480345600.0000 - val_loss: 96914216.0000 - val_mean_squared_error: 96914216.0000\n",
            "Epoch 25/100\n",
            "50421/50421 [==============================] - 49s 967us/step - loss: 129709388070912.0000 - mean_squared_error: 129709388070912.0000 - val_loss: 96630504.0000 - val_mean_squared_error: 96630504.0000\n",
            "Epoch 26/100\n",
            "50421/50421 [==============================] - 49s 965us/step - loss: 129709421625344.0000 - mean_squared_error: 129709421625344.0000 - val_loss: 96075384.0000 - val_mean_squared_error: 96075384.0000\n",
            "Epoch 27/100\n",
            "50421/50421 [==============================] - 50s 984us/step - loss: 129709446791168.0000 - mean_squared_error: 129709446791168.0000 - val_loss: 95371632.0000 - val_mean_squared_error: 95371632.0000\n",
            "Epoch 28/100\n",
            "50421/50421 [==============================] - 49s 966us/step - loss: 129709396459520.0000 - mean_squared_error: 129709396459520.0000 - val_loss: 95011472.0000 - val_mean_squared_error: 95011472.0000\n",
            "Epoch 29/100\n",
            "50421/50421 [==============================] - 49s 964us/step - loss: 129709396459520.0000 - mean_squared_error: 129709396459520.0000 - val_loss: 94469976.0000 - val_mean_squared_error: 94469976.0000\n",
            "Epoch 30/100\n",
            "50421/50421 [==============================] - 50s 987us/step - loss: 129709396459520.0000 - mean_squared_error: 129709396459520.0000 - val_loss: 93984720.0000 - val_mean_squared_error: 93984720.0000\n",
            "Epoch 31/100\n",
            "50421/50421 [==============================] - 49s 971us/step - loss: 129709413236736.0000 - mean_squared_error: 129709413236736.0000 - val_loss: 93410880.0000 - val_mean_squared_error: 93410880.0000\n",
            "Epoch 32/100\n",
            "50421/50421 [==============================] - 49s 971us/step - loss: 129709354516480.0000 - mean_squared_error: 129709354516480.0000 - val_loss: 93102392.0000 - val_mean_squared_error: 93102392.0000\n",
            "Epoch 33/100\n",
            "50421/50421 [==============================] - 49s 967us/step - loss: 129709346127872.0000 - mean_squared_error: 129709346127872.0000 - val_loss: 92689504.0000 - val_mean_squared_error: 92689504.0000\n",
            "Epoch 34/100\n",
            "50421/50421 [==============================] - 49s 977us/step - loss: 129709320962048.0000 - mean_squared_error: 129709320962048.0000 - val_loss: 92277592.0000 - val_mean_squared_error: 92277592.0000\n",
            "Epoch 35/100\n",
            "50421/50421 [==============================] - 49s 979us/step - loss: 129709371293696.0000 - mean_squared_error: 129709371293696.0000 - val_loss: 91861232.0000 - val_mean_squared_error: 91861232.0000\n",
            "Epoch 36/100\n",
            "50421/50421 [==============================] - 49s 980us/step - loss: 129709337739264.0000 - mean_squared_error: 129709337739264.0000 - val_loss: 91464848.0000 - val_mean_squared_error: 91464848.0000\n",
            "Epoch 37/100\n",
            "50421/50421 [==============================] - 50s 1000us/step - loss: 129709354516480.0000 - mean_squared_error: 129709354516480.0000 - val_loss: 91011592.0000 - val_mean_squared_error: 91011592.0000\n",
            "Epoch 38/100\n",
            "50421/50421 [==============================] - 49s 968us/step - loss: 129709320962048.0000 - mean_squared_error: 129709320962048.0000 - val_loss: 90766824.0000 - val_mean_squared_error: 90766824.0000\n",
            "Epoch 39/100\n",
            "50421/50421 [==============================] - 49s 964us/step - loss: 129709320962048.0000 - mean_squared_error: 129709320962048.0000 - val_loss: 90419832.0000 - val_mean_squared_error: 90419832.0000\n",
            "Epoch 40/100\n",
            "50421/50421 [==============================] - 49s 978us/step - loss: 129709304184832.0000 - mean_squared_error: 129709304184832.0000 - val_loss: 90046248.0000 - val_mean_squared_error: 90046248.0000\n",
            "Epoch 41/100\n",
            "50421/50421 [==============================] - 49s 968us/step - loss: 129709304184832.0000 - mean_squared_error: 129709304184832.0000 - val_loss: 89630424.0000 - val_mean_squared_error: 89630424.0000\n",
            "Epoch 42/100\n",
            "50421/50421 [==============================] - 49s 977us/step - loss: 129709287407616.0000 - mean_squared_error: 129709287407616.0000 - val_loss: 89242088.0000 - val_mean_squared_error: 89242088.0000\n",
            "Epoch 43/100\n",
            "50421/50421 [==============================] - 50s 996us/step - loss: 129709279019008.0000 - mean_squared_error: 129709279019008.0000 - val_loss: 88698672.0000 - val_mean_squared_error: 88698672.0000\n",
            "Epoch 44/100\n",
            "50421/50421 [==============================] - 49s 966us/step - loss: 129709279019008.0000 - mean_squared_error: 129709279019008.0000 - val_loss: 88093840.0000 - val_mean_squared_error: 88093840.0000\n",
            "Epoch 45/100\n",
            "50421/50421 [==============================] - 49s 968us/step - loss: 129709262241792.0000 - mean_squared_error: 129709262241792.0000 - val_loss: 87317136.0000 - val_mean_squared_error: 87317136.0000\n",
            "Epoch 46/100\n",
            "50421/50421 [==============================] - 49s 977us/step - loss: 129709245464576.0000 - mean_squared_error: 129709245464576.0000 - val_loss: 86518296.0000 - val_mean_squared_error: 86518296.0000\n",
            "Epoch 47/100\n",
            "50421/50421 [==============================] - 48s 960us/step - loss: 129709279019008.0000 - mean_squared_error: 129709279019008.0000 - val_loss: 85575128.0000 - val_mean_squared_error: 85575128.0000\n",
            "Epoch 48/100\n",
            "50421/50421 [==============================] - 50s 987us/step - loss: 129709320962048.0000 - mean_squared_error: 129709320962048.0000 - val_loss: 84469184.0000 - val_mean_squared_error: 84469184.0000\n",
            "Epoch 49/100\n",
            "50421/50421 [==============================] - 49s 977us/step - loss: 129709312573440.0000 - mean_squared_error: 129709312573440.0000 - val_loss: 83713432.0000 - val_mean_squared_error: 83713432.0000\n",
            "Epoch 50/100\n",
            "50421/50421 [==============================] - 48s 957us/step - loss: 129709287407616.0000 - mean_squared_error: 129709287407616.0000 - val_loss: 82811232.0000 - val_mean_squared_error: 82811232.0000\n",
            "Epoch 51/100\n",
            "50421/50421 [==============================] - 48s 956us/step - loss: 129709237075968.0000 - mean_squared_error: 129709237075968.0000 - val_loss: 82007240.0000 - val_mean_squared_error: 82007240.0000\n",
            "Epoch 52/100\n",
            "50421/50421 [==============================] - 49s 973us/step - loss: 129709262241792.0000 - mean_squared_error: 129709262241792.0000 - val_loss: 81303432.0000 - val_mean_squared_error: 81303432.0000\n",
            "Epoch 53/100\n",
            "50421/50421 [==============================] - 48s 951us/step - loss: 129709228687360.0000 - mean_squared_error: 129709228687360.0000 - val_loss: 80670912.0000 - val_mean_squared_error: 80670912.0000\n",
            "Epoch 54/100\n",
            "50421/50421 [==============================] - 48s 954us/step - loss: 129709237075968.0000 - mean_squared_error: 129709237075968.0000 - val_loss: 80009048.0000 - val_mean_squared_error: 80009048.0000\n",
            "Epoch 55/100\n",
            "50421/50421 [==============================] - 48s 962us/step - loss: 129709270630400.0000 - mean_squared_error: 129709270630400.0000 - val_loss: 79481568.0000 - val_mean_squared_error: 79481568.0000\n",
            "Epoch 56/100\n",
            "50421/50421 [==============================] - 49s 981us/step - loss: 129709304184832.0000 - mean_squared_error: 129709304184832.0000 - val_loss: 78889336.0000 - val_mean_squared_error: 78889336.0000\n",
            "Epoch 57/100\n",
            "50421/50421 [==============================] - 48s 960us/step - loss: 129709245464576.0000 - mean_squared_error: 129709245464576.0000 - val_loss: 78486384.0000 - val_mean_squared_error: 78486384.0000\n",
            "Epoch 58/100\n",
            "50421/50421 [==============================] - 48s 960us/step - loss: 129709237075968.0000 - mean_squared_error: 129709237075968.0000 - val_loss: 78015000.0000 - val_mean_squared_error: 78015000.0000\n",
            "Epoch 59/100\n",
            "50421/50421 [==============================] - 49s 970us/step - loss: 129709245464576.0000 - mean_squared_error: 129709245464576.0000 - val_loss: 77514848.0000 - val_mean_squared_error: 77514848.0000\n",
            "Epoch 60/100\n",
            "50421/50421 [==============================] - 50s 982us/step - loss: 129709287407616.0000 - mean_squared_error: 129709287407616.0000 - val_loss: 77054456.0000 - val_mean_squared_error: 77054456.0000\n",
            "Epoch 61/100\n",
            "50421/50421 [==============================] - 49s 962us/step - loss: 129709270630400.0000 - mean_squared_error: 129709270630400.0000 - val_loss: 76685936.0000 - val_mean_squared_error: 76685936.0000\n",
            "Epoch 62/100\n",
            "50421/50421 [==============================] - 49s 966us/step - loss: 129709287407616.0000 - mean_squared_error: 129709287407616.0000 - val_loss: 76333968.0000 - val_mean_squared_error: 76333968.0000\n",
            "Epoch 63/100\n",
            "50421/50421 [==============================] - 49s 962us/step - loss: 129709262241792.0000 - mean_squared_error: 129709262241792.0000 - val_loss: 76038384.0000 - val_mean_squared_error: 76038384.0000\n",
            "Epoch 64/100\n",
            "50421/50421 [==============================] - 47s 937us/step - loss: 129709312573440.0000 - mean_squared_error: 129709312573440.0000 - val_loss: 75666496.0000 - val_mean_squared_error: 75666496.0000\n",
            "Epoch 65/100\n",
            "50421/50421 [==============================] - 48s 953us/step - loss: 129709245464576.0000 - mean_squared_error: 129709245464576.0000 - val_loss: 75417544.0000 - val_mean_squared_error: 75417544.0000\n",
            "Epoch 66/100\n",
            "50421/50421 [==============================] - 47s 937us/step - loss: 129709304184832.0000 - mean_squared_error: 129709304184832.0000 - val_loss: 75164984.0000 - val_mean_squared_error: 75164984.0000\n",
            "Epoch 67/100\n",
            "50421/50421 [==============================] - 49s 963us/step - loss: 129709304184832.0000 - mean_squared_error: 129709304184832.0000 - val_loss: 74948544.0000 - val_mean_squared_error: 74948544.0000\n",
            "Epoch 68/100\n",
            "50421/50421 [==============================] - 48s 961us/step - loss: 129709312573440.0000 - mean_squared_error: 129709312573440.0000 - val_loss: 74728344.0000 - val_mean_squared_error: 74728344.0000\n",
            "Epoch 69/100\n",
            "50421/50421 [==============================] - 48s 943us/step - loss: 129709270630400.0000 - mean_squared_error: 129709270630400.0000 - val_loss: 74559272.0000 - val_mean_squared_error: 74559272.0000\n",
            "Epoch 70/100\n",
            "50421/50421 [==============================] - 47s 939us/step - loss: 129709270630400.0000 - mean_squared_error: 129709270630400.0000 - val_loss: 74376320.0000 - val_mean_squared_error: 74376320.0000\n",
            "Epoch 71/100\n",
            "50421/50421 [==============================] - 48s 955us/step - loss: 129709371293696.0000 - mean_squared_error: 129709371293696.0000 - val_loss: 74184344.0000 - val_mean_squared_error: 74184344.0000\n",
            "Epoch 72/100\n",
            "50421/50421 [==============================] - 47s 936us/step - loss: 129709354516480.0000 - mean_squared_error: 129709354516480.0000 - val_loss: 74050920.0000 - val_mean_squared_error: 74050920.0000\n",
            "Epoch 73/100\n",
            "50421/50421 [==============================] - 49s 971us/step - loss: 129709346127872.0000 - mean_squared_error: 129709346127872.0000 - val_loss: 73968784.0000 - val_mean_squared_error: 73968784.0000\n",
            "Epoch 74/100\n",
            "50421/50421 [==============================] - 47s 941us/step - loss: 129709346127872.0000 - mean_squared_error: 129709346127872.0000 - val_loss: 73831872.0000 - val_mean_squared_error: 73831872.0000\n",
            "Epoch 75/100\n",
            "50367/50421 [============================>.] - ETA: 0s - loss: 129847112237056.0000 - mean_squared_error: 129847112237056.0000Epoch 76/100\n",
            "50421/50421 [==============================] - 47s 933us/step - loss: 129709304184832.0000 - mean_squared_error: 129709304184832.0000 - val_loss: 73642248.0000 - val_mean_squared_error: 73642248.0000\n",
            "Epoch 77/100\n",
            "50421/50421 [==============================] - 47s 936us/step - loss: 129709346127872.0000 - mean_squared_error: 129709346127872.0000 - val_loss: 73533584.0000 - val_mean_squared_error: 73533584.0000\n",
            "Epoch 78/100\n",
            "50421/50421 [==============================] - 48s 948us/step - loss: 129709354516480.0000 - mean_squared_error: 129709354516480.0000 - val_loss: 73435320.0000 - val_mean_squared_error: 73435320.0000\n",
            "Epoch 79/100\n",
            "50421/50421 [==============================] - 47s 936us/step - loss: 129709371293696.0000 - mean_squared_error: 129709371293696.0000 - val_loss: 73350368.0000 - val_mean_squared_error: 73350368.0000\n",
            "Epoch 80/100\n",
            "50421/50421 [==============================] - 47s 936us/step - loss: 129709312573440.0000 - mean_squared_error: 129709312573440.0000 - val_loss: 73261248.0000 - val_mean_squared_error: 73261248.0000\n",
            "Epoch 81/100\n",
            "50421/50421 [==============================] - 48s 947us/step - loss: 129709312573440.0000 - mean_squared_error: 129709312573440.0000 - val_loss: 73175592.0000 - val_mean_squared_error: 73175592.0000\n",
            "Epoch 82/100\n",
            "50421/50421 [==============================] - 48s 956us/step - loss: 129709379682304.0000 - mean_squared_error: 129709379682304.0000 - val_loss: 73098424.0000 - val_mean_squared_error: 73098424.0000\n",
            "Epoch 83/100\n",
            "50421/50421 [==============================] - 47s 939us/step - loss: 129709346127872.0000 - mean_squared_error: 129709346127872.0000 - val_loss: 73043432.0000 - val_mean_squared_error: 73043432.0000\n",
            "Epoch 84/100\n",
            "50421/50421 [==============================] - 48s 961us/step - loss: 129709354516480.0000 - mean_squared_error: 129709354516480.0000 - val_loss: 72972456.0000 - val_mean_squared_error: 72972456.0000\n",
            "Epoch 85/100\n",
            "50421/50421 [==============================] - 48s 942us/step - loss: 129709354516480.0000 - mean_squared_error: 129709354516480.0000 - val_loss: 72896048.0000 - val_mean_squared_error: 72896048.0000\n",
            "Epoch 86/100\n",
            "50421/50421 [==============================] - 49s 966us/step - loss: 129709388070912.0000 - mean_squared_error: 129709388070912.0000 - val_loss: 72818264.0000 - val_mean_squared_error: 72818264.0000\n",
            "Epoch 87/100\n",
            "50421/50421 [==============================] - 47s 939us/step - loss: 129709388070912.0000 - mean_squared_error: 129709388070912.0000 - val_loss: 72775528.0000 - val_mean_squared_error: 72775528.0000\n",
            "Epoch 88/100\n",
            "50421/50421 [==============================] - 49s 963us/step - loss: 129709337739264.0000 - mean_squared_error: 129709337739264.0000 - val_loss: 72710744.0000 - val_mean_squared_error: 72710744.0000\n",
            "Epoch 89/100\n",
            "50421/50421 [==============================] - 47s 937us/step - loss: 129709371293696.0000 - mean_squared_error: 129709371293696.0000 - val_loss: 72648760.0000 - val_mean_squared_error: 72648760.0000\n",
            "Epoch 90/100\n",
            "50421/50421 [==============================] - 47s 938us/step - loss: 129709396459520.0000 - mean_squared_error: 129709396459520.0000 - val_loss: 72587296.0000 - val_mean_squared_error: 72587296.0000\n",
            "Epoch 91/100\n",
            "50421/50421 [==============================] - 48s 952us/step - loss: 129709388070912.0000 - mean_squared_error: 129709388070912.0000 - val_loss: 72540016.0000 - val_mean_squared_error: 72540016.0000\n",
            "Epoch 92/100\n",
            "50421/50421 [==============================] - 47s 940us/step - loss: 129709354516480.0000 - mean_squared_error: 129709354516480.0000 - val_loss: 72488296.0000 - val_mean_squared_error: 72488296.0000\n",
            "Epoch 93/100\n",
            "50421/50421 [==============================] - 47s 939us/step - loss: 129709379682304.0000 - mean_squared_error: 129709379682304.0000 - val_loss: 72428808.0000 - val_mean_squared_error: 72428808.0000\n",
            "Epoch 94/100\n",
            "50421/50421 [==============================] - 48s 945us/step - loss: 129709379682304.0000 - mean_squared_error: 129709379682304.0000 - val_loss: 72390920.0000 - val_mean_squared_error: 72390920.0000\n",
            "Epoch 95/100\n",
            "50421/50421 [==============================] - 48s 957us/step - loss: 129709346127872.0000 - mean_squared_error: 129709346127872.0000 - val_loss: 72341880.0000 - val_mean_squared_error: 72341880.0000\n",
            "Epoch 96/100\n",
            "50421/50421 [==============================] - 47s 939us/step - loss: 129709346127872.0000 - mean_squared_error: 129709346127872.0000 - val_loss: 72292784.0000 - val_mean_squared_error: 72292784.0000\n",
            "Epoch 97/100\n",
            "50421/50421 [==============================] - 48s 955us/step - loss: 129709379682304.0000 - mean_squared_error: 129709379682304.0000 - val_loss: 72240120.0000 - val_mean_squared_error: 72240120.0000\n",
            "Epoch 98/100\n",
            "50421/50421 [==============================] - 47s 941us/step - loss: 129709371293696.0000 - mean_squared_error: 129709371293696.0000 - val_loss: 72203304.0000 - val_mean_squared_error: 72203304.0000\n",
            "Epoch 99/100\n",
            "50421/50421 [==============================] - 49s 966us/step - loss: 129709379682304.0000 - mean_squared_error: 129709379682304.0000 - val_loss: 72147944.0000 - val_mean_squared_error: 72147944.0000\n",
            "Epoch 100/100\n",
            "50421/50421 [==============================] - 47s 942us/step - loss: 129709346127872.0000 - mean_squared_error: 129709346127872.0000 - val_loss: 72115488.0000 - val_mean_squared_error: 72115488.0000\n"
          ],
          "name": "stdout"
        }
      ]
    },
    {
      "cell_type": "code",
      "metadata": {
        "colab": {
          "base_uri": "https://localhost:8080/"
        },
        "id": "zUVEe84Ztmpm",
        "outputId": "d8d1ff5d-0533-445d-f181-6bfd9035f6af"
      },
      "source": [
        "from sklearn.metrics import mean_squared_error\n",
        "from math import sqrt\n",
        "\n",
        "pred_train = model.predict(X_train)\n",
        "print(np.sqrt(mean_squared_error(y_train,pred_train)))\n",
        "\n",
        "pred = model.predict(X_test)\n",
        "print(np.sqrt(mean_squared_error(y_test,pred)))"
      ],
      "execution_count": null,
      "outputs": [
        {
          "output_type": "stream",
          "text": [
            "WARNING:tensorflow:Model was constructed with shape (None, 1, 13) for input Tensor(\"flatten_input:0\", shape=(None, 1, 13), dtype=float32), but it was called on an input with incompatible shape (None, 13).\n",
            "10186604.30349402\n",
            "695403.3195247415\n"
          ],
          "name": "stdout"
        }
      ]
    },
    {
      "cell_type": "code",
      "metadata": {
        "id": "7pNzbC97BWh7"
      },
      "source": [
        ""
      ],
      "execution_count": null,
      "outputs": []
    }
  ]
}