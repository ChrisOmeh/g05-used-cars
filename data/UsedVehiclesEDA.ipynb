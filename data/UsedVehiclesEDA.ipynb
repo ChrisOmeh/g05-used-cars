{
 "cells": [
  {
   "cell_type": "code",
   "execution_count": 118,
   "metadata": {},
   "outputs": [],
   "source": [
    "import pandas as pd\n",
    "import matplotlib.pyplot as plt\n",
    "import seaborn as sns\n",
    "%matplotlib inline"
   ]
  },
  {
   "cell_type": "code",
   "execution_count": 119,
   "metadata": {},
   "outputs": [
    {
     "name": "stderr",
     "output_type": "stream",
     "text": [
      "C:\\Users\\KEN\\Anaconda3\\lib\\site-packages\\IPython\\core\\interactiveshell.py:3147: DtypeWarning: Columns (14) have mixed types.Specify dtype option on import or set low_memory=False.\n",
      "  interactivity=interactivity, compiler=compiler, result=result)\n"
     ]
    }
   ],
   "source": [
    "vehicles_df = pd.read_csv('UsedVehiclesWithNoDuplicatevin.csv')"
   ]
  },
  {
   "cell_type": "code",
   "execution_count": 120,
   "metadata": {},
   "outputs": [
    {
     "data": {
      "text/html": [
       "<div>\n",
       "<style scoped>\n",
       "    .dataframe tbody tr th:only-of-type {\n",
       "        vertical-align: middle;\n",
       "    }\n",
       "\n",
       "    .dataframe tbody tr th {\n",
       "        vertical-align: top;\n",
       "    }\n",
       "\n",
       "    .dataframe thead th {\n",
       "        text-align: right;\n",
       "    }\n",
       "</style>\n",
       "<table border=\"1\" class=\"dataframe\">\n",
       "  <thead>\n",
       "    <tr style=\"text-align: right;\">\n",
       "      <th></th>\n",
       "      <th>id</th>\n",
       "      <th>url</th>\n",
       "      <th>region</th>\n",
       "      <th>region_url</th>\n",
       "      <th>price</th>\n",
       "      <th>year</th>\n",
       "      <th>manufacturer</th>\n",
       "      <th>model</th>\n",
       "      <th>condition</th>\n",
       "      <th>cylinders</th>\n",
       "      <th>...</th>\n",
       "      <th>drive</th>\n",
       "      <th>size</th>\n",
       "      <th>type</th>\n",
       "      <th>paint_color</th>\n",
       "      <th>image_url</th>\n",
       "      <th>description</th>\n",
       "      <th>county</th>\n",
       "      <th>lat</th>\n",
       "      <th>long</th>\n",
       "      <th>State</th>\n",
       "    </tr>\n",
       "  </thead>\n",
       "  <tbody>\n",
       "    <tr>\n",
       "      <th>0</th>\n",
       "      <td>7184791621</td>\n",
       "      <td>https://duluth.craigslist.org/ctd/d/duluth-200...</td>\n",
       "      <td>duluth / superior</td>\n",
       "      <td>https://duluth.craigslist.org</td>\n",
       "      <td>6995</td>\n",
       "      <td>2000.0</td>\n",
       "      <td>gmc</td>\n",
       "      <td>new sierra 1500</td>\n",
       "      <td>excellent</td>\n",
       "      <td>8 cylinders</td>\n",
       "      <td>...</td>\n",
       "      <td>4wd</td>\n",
       "      <td>NaN</td>\n",
       "      <td>NaN</td>\n",
       "      <td>red</td>\n",
       "      <td>https://images.craigslist.org/00n0n_f06ykBMcdh...</td>\n",
       "      <td>2000 *** GMC New Sierra 1500 Ext Cab 157.5  WB...</td>\n",
       "      <td>NaN</td>\n",
       "      <td>46.8433</td>\n",
       "      <td>-92.2550</td>\n",
       "      <td>Minnesota</td>\n",
       "    </tr>\n",
       "    <tr>\n",
       "      <th>1</th>\n",
       "      <td>7184712241</td>\n",
       "      <td>https://duluth.craigslist.org/ctd/d/rush-city-...</td>\n",
       "      <td>duluth / superior</td>\n",
       "      <td>https://duluth.craigslist.org</td>\n",
       "      <td>16995</td>\n",
       "      <td>2007.0</td>\n",
       "      <td>gmc</td>\n",
       "      <td>sierra classic 2500hd</td>\n",
       "      <td>good</td>\n",
       "      <td>8 cylinders</td>\n",
       "      <td>...</td>\n",
       "      <td>4wd</td>\n",
       "      <td>full-size</td>\n",
       "      <td>truck</td>\n",
       "      <td>white</td>\n",
       "      <td>https://images.craigslist.org/01414_g093aPtSMW...</td>\n",
       "      <td>**Bad Credit, No Credit... No Problem!**2007 G...</td>\n",
       "      <td>NaN</td>\n",
       "      <td>45.6836</td>\n",
       "      <td>-92.9648</td>\n",
       "      <td>Minnesota</td>\n",
       "    </tr>\n",
       "    <tr>\n",
       "      <th>2</th>\n",
       "      <td>7184711787</td>\n",
       "      <td>https://duluth.craigslist.org/ctd/d/rush-city-...</td>\n",
       "      <td>duluth / superior</td>\n",
       "      <td>https://duluth.craigslist.org</td>\n",
       "      <td>13995</td>\n",
       "      <td>2012.0</td>\n",
       "      <td>ford</td>\n",
       "      <td>f-150</td>\n",
       "      <td>good</td>\n",
       "      <td>6 cylinders</td>\n",
       "      <td>...</td>\n",
       "      <td>4wd</td>\n",
       "      <td>full-size</td>\n",
       "      <td>truck</td>\n",
       "      <td>grey</td>\n",
       "      <td>https://images.craigslist.org/00W0W_io2cwEVtyh...</td>\n",
       "      <td>**Bad Credit, No Credit... No Problem!**2012 F...</td>\n",
       "      <td>NaN</td>\n",
       "      <td>45.6836</td>\n",
       "      <td>-92.9648</td>\n",
       "      <td>Minnesota</td>\n",
       "    </tr>\n",
       "    <tr>\n",
       "      <th>3</th>\n",
       "      <td>7184710887</td>\n",
       "      <td>https://duluth.craigslist.org/ctd/d/rush-city-...</td>\n",
       "      <td>duluth / superior</td>\n",
       "      <td>https://duluth.craigslist.org</td>\n",
       "      <td>7995</td>\n",
       "      <td>2010.0</td>\n",
       "      <td>chevrolet</td>\n",
       "      <td>equinox</td>\n",
       "      <td>good</td>\n",
       "      <td>4 cylinders</td>\n",
       "      <td>...</td>\n",
       "      <td>4wd</td>\n",
       "      <td>full-size</td>\n",
       "      <td>SUV</td>\n",
       "      <td>grey</td>\n",
       "      <td>https://images.craigslist.org/00404_j5GItixnjX...</td>\n",
       "      <td>**Bad Credit, No Credit... No Problem!**2010 C...</td>\n",
       "      <td>NaN</td>\n",
       "      <td>45.6836</td>\n",
       "      <td>-92.9648</td>\n",
       "      <td>Minnesota</td>\n",
       "    </tr>\n",
       "    <tr>\n",
       "      <th>4</th>\n",
       "      <td>7184710023</td>\n",
       "      <td>https://duluth.craigslist.org/ctd/d/rush-city-...</td>\n",
       "      <td>duluth / superior</td>\n",
       "      <td>https://duluth.craigslist.org</td>\n",
       "      <td>8995</td>\n",
       "      <td>2011.0</td>\n",
       "      <td>chevrolet</td>\n",
       "      <td>traverse</td>\n",
       "      <td>good</td>\n",
       "      <td>6 cylinders</td>\n",
       "      <td>...</td>\n",
       "      <td>4wd</td>\n",
       "      <td>full-size</td>\n",
       "      <td>SUV</td>\n",
       "      <td>white</td>\n",
       "      <td>https://images.craigslist.org/00T0T_bwYCuKicjX...</td>\n",
       "      <td>**Bad Credit, No Credit... No Problem!**2011 C...</td>\n",
       "      <td>NaN</td>\n",
       "      <td>45.6836</td>\n",
       "      <td>-92.9648</td>\n",
       "      <td>Minnesota</td>\n",
       "    </tr>\n",
       "  </tbody>\n",
       "</table>\n",
       "<p>5 rows × 25 columns</p>\n",
       "</div>"
      ],
      "text/plain": [
       "           id                                                url  \\\n",
       "0  7184791621  https://duluth.craigslist.org/ctd/d/duluth-200...   \n",
       "1  7184712241  https://duluth.craigslist.org/ctd/d/rush-city-...   \n",
       "2  7184711787  https://duluth.craigslist.org/ctd/d/rush-city-...   \n",
       "3  7184710887  https://duluth.craigslist.org/ctd/d/rush-city-...   \n",
       "4  7184710023  https://duluth.craigslist.org/ctd/d/rush-city-...   \n",
       "\n",
       "              region                     region_url  price    year  \\\n",
       "0  duluth / superior  https://duluth.craigslist.org   6995  2000.0   \n",
       "1  duluth / superior  https://duluth.craigslist.org  16995  2007.0   \n",
       "2  duluth / superior  https://duluth.craigslist.org  13995  2012.0   \n",
       "3  duluth / superior  https://duluth.craigslist.org   7995  2010.0   \n",
       "4  duluth / superior  https://duluth.craigslist.org   8995  2011.0   \n",
       "\n",
       "  manufacturer                  model  condition    cylinders  ... drive  \\\n",
       "0          gmc        new sierra 1500  excellent  8 cylinders  ...   4wd   \n",
       "1          gmc  sierra classic 2500hd       good  8 cylinders  ...   4wd   \n",
       "2         ford                  f-150       good  6 cylinders  ...   4wd   \n",
       "3    chevrolet                equinox       good  4 cylinders  ...   4wd   \n",
       "4    chevrolet               traverse       good  6 cylinders  ...   4wd   \n",
       "\n",
       "        size   type paint_color  \\\n",
       "0        NaN    NaN         red   \n",
       "1  full-size  truck       white   \n",
       "2  full-size  truck        grey   \n",
       "3  full-size    SUV        grey   \n",
       "4  full-size    SUV       white   \n",
       "\n",
       "                                           image_url  \\\n",
       "0  https://images.craigslist.org/00n0n_f06ykBMcdh...   \n",
       "1  https://images.craigslist.org/01414_g093aPtSMW...   \n",
       "2  https://images.craigslist.org/00W0W_io2cwEVtyh...   \n",
       "3  https://images.craigslist.org/00404_j5GItixnjX...   \n",
       "4  https://images.craigslist.org/00T0T_bwYCuKicjX...   \n",
       "\n",
       "                                         description county      lat     long  \\\n",
       "0  2000 *** GMC New Sierra 1500 Ext Cab 157.5  WB...    NaN  46.8433 -92.2550   \n",
       "1  **Bad Credit, No Credit... No Problem!**2007 G...    NaN  45.6836 -92.9648   \n",
       "2  **Bad Credit, No Credit... No Problem!**2012 F...    NaN  45.6836 -92.9648   \n",
       "3  **Bad Credit, No Credit... No Problem!**2010 C...    NaN  45.6836 -92.9648   \n",
       "4  **Bad Credit, No Credit... No Problem!**2011 C...    NaN  45.6836 -92.9648   \n",
       "\n",
       "       State  \n",
       "0  Minnesota  \n",
       "1  Minnesota  \n",
       "2  Minnesota  \n",
       "3  Minnesota  \n",
       "4  Minnesota  \n",
       "\n",
       "[5 rows x 25 columns]"
      ]
     },
     "execution_count": 120,
     "metadata": {},
     "output_type": "execute_result"
    }
   ],
   "source": [
    "vehicles_df.head()"
   ]
  },
  {
   "cell_type": "code",
   "execution_count": 121,
   "metadata": {},
   "outputs": [],
   "source": [
    "#Add new column - car_age\n",
    "import datetime\n",
    "current_time = datetime.datetime.now()\n",
    "#current_time.year\n",
    "\n",
    "vehicles_df['car_age'] = current_time.year - vehicles_df['year']"
   ]
  },
  {
   "cell_type": "code",
   "execution_count": 122,
   "metadata": {},
   "outputs": [
    {
     "data": {
      "text/html": [
       "<div>\n",
       "<style scoped>\n",
       "    .dataframe tbody tr th:only-of-type {\n",
       "        vertical-align: middle;\n",
       "    }\n",
       "\n",
       "    .dataframe tbody tr th {\n",
       "        vertical-align: top;\n",
       "    }\n",
       "\n",
       "    .dataframe thead th {\n",
       "        text-align: right;\n",
       "    }\n",
       "</style>\n",
       "<table border=\"1\" class=\"dataframe\">\n",
       "  <thead>\n",
       "    <tr style=\"text-align: right;\">\n",
       "      <th></th>\n",
       "      <th>price</th>\n",
       "      <th>manufacturer</th>\n",
       "      <th>model</th>\n",
       "      <th>condition</th>\n",
       "      <th>cylinders</th>\n",
       "      <th>fuel</th>\n",
       "      <th>odometer</th>\n",
       "      <th>title_status</th>\n",
       "      <th>transmission</th>\n",
       "      <th>drive</th>\n",
       "      <th>type</th>\n",
       "      <th>paint_color</th>\n",
       "      <th>car_age</th>\n",
       "    </tr>\n",
       "  </thead>\n",
       "  <tbody>\n",
       "    <tr>\n",
       "      <th>0</th>\n",
       "      <td>6995</td>\n",
       "      <td>gmc</td>\n",
       "      <td>new sierra 1500</td>\n",
       "      <td>excellent</td>\n",
       "      <td>8 cylinders</td>\n",
       "      <td>gas</td>\n",
       "      <td>167783.0</td>\n",
       "      <td>clean</td>\n",
       "      <td>automatic</td>\n",
       "      <td>4wd</td>\n",
       "      <td>NaN</td>\n",
       "      <td>red</td>\n",
       "      <td>20.0</td>\n",
       "    </tr>\n",
       "    <tr>\n",
       "      <th>1</th>\n",
       "      <td>16995</td>\n",
       "      <td>gmc</td>\n",
       "      <td>sierra classic 2500hd</td>\n",
       "      <td>good</td>\n",
       "      <td>8 cylinders</td>\n",
       "      <td>diesel</td>\n",
       "      <td>254217.0</td>\n",
       "      <td>clean</td>\n",
       "      <td>automatic</td>\n",
       "      <td>4wd</td>\n",
       "      <td>truck</td>\n",
       "      <td>white</td>\n",
       "      <td>13.0</td>\n",
       "    </tr>\n",
       "  </tbody>\n",
       "</table>\n",
       "</div>"
      ],
      "text/plain": [
       "   price manufacturer                  model  condition    cylinders    fuel  \\\n",
       "0   6995          gmc        new sierra 1500  excellent  8 cylinders     gas   \n",
       "1  16995          gmc  sierra classic 2500hd       good  8 cylinders  diesel   \n",
       "\n",
       "   odometer title_status transmission drive   type paint_color  car_age  \n",
       "0  167783.0        clean    automatic   4wd    NaN         red     20.0  \n",
       "1  254217.0        clean    automatic   4wd  truck       white     13.0  "
      ]
     },
     "execution_count": 122,
     "metadata": {},
     "output_type": "execute_result"
    }
   ],
   "source": [
    "#Drop irrelevant columns\n",
    "irrelevant = ['id', 'url', 'region_url', 'vin', 'image_url', 'description', 'county', 'size', 'year', 'lat', 'long', 'State', 'region']\n",
    "df = vehicles_df.drop(columns=irrelevant, axis = 1)\n",
    "df.head(2)"
   ]
  },
  {
   "cell_type": "code",
   "execution_count": 123,
   "metadata": {},
   "outputs": [
    {
     "data": {
      "text/plain": [
       "Index(['price', 'manufacturer', 'model', 'condition', 'cylinders', 'fuel',\n",
       "       'odometer', 'title_status', 'transmission', 'drive', 'type',\n",
       "       'paint_color', 'car_age'],\n",
       "      dtype='object')"
      ]
     },
     "execution_count": 123,
     "metadata": {},
     "output_type": "execute_result"
    }
   ],
   "source": [
    "df.columns"
   ]
  },
  {
   "cell_type": "code",
   "execution_count": 124,
   "metadata": {},
   "outputs": [
    {
     "data": {
      "text/plain": [
       "(343025, 13)"
      ]
     },
     "execution_count": 124,
     "metadata": {},
     "output_type": "execute_result"
    }
   ],
   "source": [
    "df.shape"
   ]
  },
  {
   "cell_type": "code",
   "execution_count": 125,
   "metadata": {},
   "outputs": [
    {
     "data": {
      "text/plain": [
       "price             int64\n",
       "manufacturer     object\n",
       "model            object\n",
       "condition        object\n",
       "cylinders        object\n",
       "fuel             object\n",
       "odometer        float64\n",
       "title_status     object\n",
       "transmission     object\n",
       "drive            object\n",
       "type             object\n",
       "paint_color      object\n",
       "car_age         float64\n",
       "dtype: object"
      ]
     },
     "execution_count": 125,
     "metadata": {},
     "output_type": "execute_result"
    }
   ],
   "source": [
    "df.dtypes"
   ]
  },
  {
   "cell_type": "code",
   "execution_count": 126,
   "metadata": {},
   "outputs": [],
   "source": [
    "#We now have 17 columns, 12 of them are categorical"
   ]
  },
  {
   "cell_type": "code",
   "execution_count": 127,
   "metadata": {},
   "outputs": [
    {
     "data": {
      "text/plain": [
       "<AxesSubplot:>"
      ]
     },
     "execution_count": 127,
     "metadata": {},
     "output_type": "execute_result"
    },
    {
     "data": {
      "image/png": "[encoded data removed]",
      "text/plain": [
       "<Figure size 720x720 with 2 Axes>"
      ]
     },
     "metadata": {
      "needs_background": "light"
     },
     "output_type": "display_data"
    }
   ],
   "source": [
    "#visualize missing values\n",
    "fig, ax = plt.subplots(figsize=(10,10)) \n",
    "sns.heatmap(df.isnull(), cmap = 'RdYlBu_r', ax=ax)"
   ]
  },
  {
   "cell_type": "code",
   "execution_count": 128,
   "metadata": {},
   "outputs": [
    {
     "data": {
      "text/html": [
       "<div>\n",
       "<style scoped>\n",
       "    .dataframe tbody tr th:only-of-type {\n",
       "        vertical-align: middle;\n",
       "    }\n",
       "\n",
       "    .dataframe tbody tr th {\n",
       "        vertical-align: top;\n",
       "    }\n",
       "\n",
       "    .dataframe thead th {\n",
       "        text-align: right;\n",
       "    }\n",
       "</style>\n",
       "<table border=\"1\" class=\"dataframe\">\n",
       "  <thead>\n",
       "    <tr style=\"text-align: right;\">\n",
       "      <th></th>\n",
       "      <th>missing_values</th>\n",
       "      <th>missing_percentages</th>\n",
       "    </tr>\n",
       "  </thead>\n",
       "  <tbody>\n",
       "    <tr>\n",
       "      <th>condition</th>\n",
       "      <td>198703</td>\n",
       "      <td>57.93</td>\n",
       "    </tr>\n",
       "    <tr>\n",
       "      <th>cylinders</th>\n",
       "      <td>190258</td>\n",
       "      <td>55.46</td>\n",
       "    </tr>\n",
       "    <tr>\n",
       "      <th>paint_color</th>\n",
       "      <td>176436</td>\n",
       "      <td>51.44</td>\n",
       "    </tr>\n",
       "    <tr>\n",
       "      <th>drive</th>\n",
       "      <td>173016</td>\n",
       "      <td>50.44</td>\n",
       "    </tr>\n",
       "    <tr>\n",
       "      <th>type</th>\n",
       "      <td>169677</td>\n",
       "      <td>49.46</td>\n",
       "    </tr>\n",
       "    <tr>\n",
       "      <th>odometer</th>\n",
       "      <td>150953</td>\n",
       "      <td>44.01</td>\n",
       "    </tr>\n",
       "    <tr>\n",
       "      <th>manufacturer</th>\n",
       "      <td>107156</td>\n",
       "      <td>31.24</td>\n",
       "    </tr>\n",
       "    <tr>\n",
       "      <th>model</th>\n",
       "      <td>98115</td>\n",
       "      <td>28.60</td>\n",
       "    </tr>\n",
       "    <tr>\n",
       "      <th>fuel</th>\n",
       "      <td>95763</td>\n",
       "      <td>27.92</td>\n",
       "    </tr>\n",
       "    <tr>\n",
       "      <th>title_status</th>\n",
       "      <td>95420</td>\n",
       "      <td>27.82</td>\n",
       "    </tr>\n",
       "    <tr>\n",
       "      <th>transmission</th>\n",
       "      <td>95127</td>\n",
       "      <td>27.73</td>\n",
       "    </tr>\n",
       "    <tr>\n",
       "      <th>car_age</th>\n",
       "      <td>94677</td>\n",
       "      <td>27.60</td>\n",
       "    </tr>\n",
       "    <tr>\n",
       "      <th>price</th>\n",
       "      <td>0</td>\n",
       "      <td>0.00</td>\n",
       "    </tr>\n",
       "  </tbody>\n",
       "</table>\n",
       "</div>"
      ],
      "text/plain": [
       "              missing_values  missing_percentages\n",
       "condition             198703                57.93\n",
       "cylinders             190258                55.46\n",
       "paint_color           176436                51.44\n",
       "drive                 173016                50.44\n",
       "type                  169677                49.46\n",
       "odometer              150953                44.01\n",
       "manufacturer          107156                31.24\n",
       "model                  98115                28.60\n",
       "fuel                   95763                27.92\n",
       "title_status           95420                27.82\n",
       "transmission           95127                27.73\n",
       "car_age                94677                27.60\n",
       "price                      0                 0.00"
      ]
     },
     "execution_count": 128,
     "metadata": {},
     "output_type": "execute_result"
    }
   ],
   "source": [
    "#check missing values\n",
    "missing_values = df.isnull().sum()\n",
    "#check percentages of missing data in each column\n",
    "missing_percentage = round((df.isnull().sum()/df.shape[0] *100),2)\n",
    "#Put the in a dataframe\n",
    "missing_df = pd.DataFrame(missing_values, columns = ['missing_values'])\n",
    "missing_p = pd.DataFrame(missing_percentage, columns = ['missing_percentages'])\n",
    "missing_df['missing_percentages'] = missing_p\n",
    "missing_df.sort_values(by = 'missing_percentages', ascending=False)"
   ]
  },
  {
   "cell_type": "markdown",
   "metadata": {},
   "source": [
    "### Exploring Numerical Features"
   ]
  },
  {
   "cell_type": "code",
   "execution_count": 129,
   "metadata": {},
   "outputs": [
    {
     "data": {
      "text/html": [
       "<div>\n",
       "<style scoped>\n",
       "    .dataframe tbody tr th:only-of-type {\n",
       "        vertical-align: middle;\n",
       "    }\n",
       "\n",
       "    .dataframe tbody tr th {\n",
       "        vertical-align: top;\n",
       "    }\n",
       "\n",
       "    .dataframe thead th {\n",
       "        text-align: right;\n",
       "    }\n",
       "</style>\n",
       "<table border=\"1\" class=\"dataframe\">\n",
       "  <thead>\n",
       "    <tr style=\"text-align: right;\">\n",
       "      <th></th>\n",
       "      <th>price</th>\n",
       "      <th>odometer</th>\n",
       "      <th>car_age</th>\n",
       "    </tr>\n",
       "  </thead>\n",
       "  <tbody>\n",
       "    <tr>\n",
       "      <th>price</th>\n",
       "      <td>1.000000</td>\n",
       "      <td>-0.000709</td>\n",
       "      <td>0.005773</td>\n",
       "    </tr>\n",
       "    <tr>\n",
       "      <th>odometer</th>\n",
       "      <td>-0.000709</td>\n",
       "      <td>1.000000</td>\n",
       "      <td>0.190517</td>\n",
       "    </tr>\n",
       "    <tr>\n",
       "      <th>car_age</th>\n",
       "      <td>0.005773</td>\n",
       "      <td>0.190517</td>\n",
       "      <td>1.000000</td>\n",
       "    </tr>\n",
       "  </tbody>\n",
       "</table>\n",
       "</div>"
      ],
      "text/plain": [
       "             price  odometer   car_age\n",
       "price     1.000000 -0.000709  0.005773\n",
       "odometer -0.000709  1.000000  0.190517\n",
       "car_age   0.005773  0.190517  1.000000"
      ]
     },
     "execution_count": 129,
     "metadata": {},
     "output_type": "execute_result"
    }
   ],
   "source": [
    "df.corr()"
   ]
  },
  {
   "cell_type": "code",
   "execution_count": 130,
   "metadata": {},
   "outputs": [
    {
     "data": {
      "text/plain": [
       "price       1.000000\n",
       "odometer   -0.000709\n",
       "car_age     0.005773\n",
       "dtype: float64"
      ]
     },
     "execution_count": 130,
     "metadata": {},
     "output_type": "execute_result"
    }
   ],
   "source": [
    "df.corrwith(df['price'])"
   ]
  },
  {
   "cell_type": "markdown",
   "metadata": {},
   "source": [
    "There's very low correlation between price and car_age, and between price and odometer"
   ]
  },
  {
   "cell_type": "code",
   "execution_count": 131,
   "metadata": {},
   "outputs": [
    {
     "data": {
      "text/html": [
       "<div>\n",
       "<style scoped>\n",
       "    .dataframe tbody tr th:only-of-type {\n",
       "        vertical-align: middle;\n",
       "    }\n",
       "\n",
       "    .dataframe tbody tr th {\n",
       "        vertical-align: top;\n",
       "    }\n",
       "\n",
       "    .dataframe thead th {\n",
       "        text-align: right;\n",
       "    }\n",
       "</style>\n",
       "<table border=\"1\" class=\"dataframe\">\n",
       "  <thead>\n",
       "    <tr style=\"text-align: right;\">\n",
       "      <th></th>\n",
       "      <th>price</th>\n",
       "      <th>odometer</th>\n",
       "      <th>car_age</th>\n",
       "    </tr>\n",
       "  </thead>\n",
       "  <tbody>\n",
       "    <tr>\n",
       "      <th>count</th>\n",
       "      <td>343025.000000</td>\n",
       "      <td>192072.000000</td>\n",
       "      <td>248348.000000</td>\n",
       "    </tr>\n",
       "    <tr>\n",
       "      <th>mean</th>\n",
       "      <td>67083.241825</td>\n",
       "      <td>103032.212889</td>\n",
       "      <td>11.126154</td>\n",
       "    </tr>\n",
       "    <tr>\n",
       "      <th>std</th>\n",
       "      <td>11144619.123188</td>\n",
       "      <td>134443.777133</td>\n",
       "      <td>10.985976</td>\n",
       "    </tr>\n",
       "    <tr>\n",
       "      <th>min</th>\n",
       "      <td>0.000000</td>\n",
       "      <td>0.000000</td>\n",
       "      <td>-1.000000</td>\n",
       "    </tr>\n",
       "    <tr>\n",
       "      <th>25%</th>\n",
       "      <td>3995.000000</td>\n",
       "      <td>46452.000000</td>\n",
       "      <td>4.000000</td>\n",
       "    </tr>\n",
       "    <tr>\n",
       "      <th>50%</th>\n",
       "      <td>8997.000000</td>\n",
       "      <td>94997.500000</td>\n",
       "      <td>9.000000</td>\n",
       "    </tr>\n",
       "    <tr>\n",
       "      <th>75%</th>\n",
       "      <td>17605.000000</td>\n",
       "      <td>141000.000000</td>\n",
       "      <td>14.000000</td>\n",
       "    </tr>\n",
       "    <tr>\n",
       "      <th>max</th>\n",
       "      <td>3808256046.000000</td>\n",
       "      <td>10000000.000000</td>\n",
       "      <td>120.000000</td>\n",
       "    </tr>\n",
       "  </tbody>\n",
       "</table>\n",
       "</div>"
      ],
      "text/plain": [
       "                   price         odometer        car_age\n",
       "count      343025.000000    192072.000000  248348.000000\n",
       "mean        67083.241825    103032.212889      11.126154\n",
       "std      11144619.123188    134443.777133      10.985976\n",
       "min             0.000000         0.000000      -1.000000\n",
       "25%          3995.000000     46452.000000       4.000000\n",
       "50%          8997.000000     94997.500000       9.000000\n",
       "75%         17605.000000    141000.000000      14.000000\n",
       "max    3808256046.000000  10000000.000000     120.000000"
      ]
     },
     "execution_count": 131,
     "metadata": {},
     "output_type": "execute_result"
    }
   ],
   "source": [
    "df.describe().apply(lambda s: s.apply(lambda x: format(x,'f')))"
   ]
  },
  {
   "cell_type": "markdown",
   "metadata": {},
   "source": [
    "The minimum and maximum prices of cars don't look right"
   ]
  },
  {
   "cell_type": "code",
   "execution_count": 132,
   "metadata": {},
   "outputs": [
    {
     "name": "stderr",
     "output_type": "stream",
     "text": [
      "C:\\Users\\KEN\\Anaconda3\\lib\\site-packages\\seaborn\\_decorators.py:43: FutureWarning: Pass the following variable as a keyword arg: x. From version 0.12, the only valid positional argument will be `data`, and passing other arguments without an explicit keyword will result in an error or misinterpretation.\n",
      "  FutureWarning\n"
     ]
    },
    {
     "data": {
      "text/plain": [
       "<AxesSubplot:xlabel='price'>"
      ]
     },
     "execution_count": 132,
     "metadata": {},
     "output_type": "execute_result"
    },
    {
     "data": {
      "image/png": "[encoded data removed]",
      "text/plain": [
       "<Figure size 432x288 with 1 Axes>"
      ]
     },
     "metadata": {
      "needs_background": "light"
     },
     "output_type": "display_data"
    }
   ],
   "source": [
    "sns.boxplot(df['price'])"
   ]
  },
  {
   "cell_type": "markdown",
   "metadata": {},
   "source": [
    "There are outliers in the price column"
   ]
  },
  {
   "cell_type": "code",
   "execution_count": 133,
   "metadata": {},
   "outputs": [
    {
     "name": "stdout",
     "output_type": "stream",
     "text": [
      "3995.0\n",
      "17605.0\n",
      "13610.0\n"
     ]
    }
   ],
   "source": [
    "Q1 = df['price'].quantile(0.25)\n",
    "Q3 = df['price'].quantile(0.75)\n",
    "\n",
    "IQR = Q3 - Q1\n",
    "\n",
    "print(Q1)\n",
    "print(Q3)\n",
    "print(IQR)"
   ]
  },
  {
   "cell_type": "code",
   "execution_count": 134,
   "metadata": {},
   "outputs": [
    {
     "name": "stdout",
     "output_type": "stream",
     "text": [
      "-16420.0 38020.0\n"
     ]
    }
   ],
   "source": [
    "Lower_Whisker = Q1 -  1.5*IQR\n",
    "Upper_Whisker = Q3 + 1.5*IQR\n",
    "print(Lower_Whisker, Upper_Whisker)"
   ]
  },
  {
   "cell_type": "code",
   "execution_count": 135,
   "metadata": {},
   "outputs": [],
   "source": [
    "outliers = df[(df.price < Lower_Whisker) | (df.price > Upper_Whisker)]"
   ]
  },
  {
   "cell_type": "code",
   "execution_count": 136,
   "metadata": {},
   "outputs": [],
   "source": [
    "df_new = df.drop(outliers.index)"
   ]
  },
  {
   "cell_type": "code",
   "execution_count": 137,
   "metadata": {},
   "outputs": [
    {
     "data": {
      "text/html": [
       "<div>\n",
       "<style scoped>\n",
       "    .dataframe tbody tr th:only-of-type {\n",
       "        vertical-align: middle;\n",
       "    }\n",
       "\n",
       "    .dataframe tbody tr th {\n",
       "        vertical-align: top;\n",
       "    }\n",
       "\n",
       "    .dataframe thead th {\n",
       "        text-align: right;\n",
       "    }\n",
       "</style>\n",
       "<table border=\"1\" class=\"dataframe\">\n",
       "  <thead>\n",
       "    <tr style=\"text-align: right;\">\n",
       "      <th></th>\n",
       "      <th>price</th>\n",
       "      <th>odometer</th>\n",
       "      <th>car_age</th>\n",
       "    </tr>\n",
       "  </thead>\n",
       "  <tbody>\n",
       "    <tr>\n",
       "      <th>count</th>\n",
       "      <td>327118.000000</td>\n",
       "      <td>183318.000000</td>\n",
       "      <td>237789.000000</td>\n",
       "    </tr>\n",
       "    <tr>\n",
       "      <th>mean</th>\n",
       "      <td>10884.963506</td>\n",
       "      <td>105975.690636</td>\n",
       "      <td>11.313110</td>\n",
       "    </tr>\n",
       "    <tr>\n",
       "      <th>std</th>\n",
       "      <td>9106.645392</td>\n",
       "      <td>133906.647534</td>\n",
       "      <td>10.762963</td>\n",
       "    </tr>\n",
       "    <tr>\n",
       "      <th>min</th>\n",
       "      <td>0.000000</td>\n",
       "      <td>0.000000</td>\n",
       "      <td>-1.000000</td>\n",
       "    </tr>\n",
       "    <tr>\n",
       "      <th>25%</th>\n",
       "      <td>3900.000000</td>\n",
       "      <td>51248.000000</td>\n",
       "      <td>5.000000</td>\n",
       "    </tr>\n",
       "    <tr>\n",
       "      <th>50%</th>\n",
       "      <td>8500.000000</td>\n",
       "      <td>98000.000000</td>\n",
       "      <td>9.000000</td>\n",
       "    </tr>\n",
       "    <tr>\n",
       "      <th>75%</th>\n",
       "      <td>15997.000000</td>\n",
       "      <td>143223.500000</td>\n",
       "      <td>14.000000</td>\n",
       "    </tr>\n",
       "    <tr>\n",
       "      <th>max</th>\n",
       "      <td>38000.000000</td>\n",
       "      <td>10000000.000000</td>\n",
       "      <td>120.000000</td>\n",
       "    </tr>\n",
       "  </tbody>\n",
       "</table>\n",
       "</div>"
      ],
      "text/plain": [
       "               price         odometer        car_age\n",
       "count  327118.000000    183318.000000  237789.000000\n",
       "mean    10884.963506    105975.690636      11.313110\n",
       "std      9106.645392    133906.647534      10.762963\n",
       "min         0.000000         0.000000      -1.000000\n",
       "25%      3900.000000     51248.000000       5.000000\n",
       "50%      8500.000000     98000.000000       9.000000\n",
       "75%     15997.000000    143223.500000      14.000000\n",
       "max     38000.000000  10000000.000000     120.000000"
      ]
     },
     "execution_count": 137,
     "metadata": {},
     "output_type": "execute_result"
    }
   ],
   "source": [
    "df_new.describe().apply(lambda s: s.apply(lambda x: format(x,'f')))"
   ]
  },
  {
   "cell_type": "code",
   "execution_count": 138,
   "metadata": {},
   "outputs": [],
   "source": [
    "#Our minimum price is still 0, which is not right, lets set our minimum price 1000\n",
    "vehicles_below1k = df_new[(df_new.price < 1000)]\n",
    "df_new = df_new.drop(vehicles_below1k.index)"
   ]
  },
  {
   "cell_type": "code",
   "execution_count": 139,
   "metadata": {},
   "outputs": [
    {
     "data": {
      "text/html": [
       "<div>\n",
       "<style scoped>\n",
       "    .dataframe tbody tr th:only-of-type {\n",
       "        vertical-align: middle;\n",
       "    }\n",
       "\n",
       "    .dataframe tbody tr th {\n",
       "        vertical-align: top;\n",
       "    }\n",
       "\n",
       "    .dataframe thead th {\n",
       "        text-align: right;\n",
       "    }\n",
       "</style>\n",
       "<table border=\"1\" class=\"dataframe\">\n",
       "  <thead>\n",
       "    <tr style=\"text-align: right;\">\n",
       "      <th></th>\n",
       "      <th>price</th>\n",
       "      <th>odometer</th>\n",
       "      <th>car_age</th>\n",
       "    </tr>\n",
       "  </thead>\n",
       "  <tbody>\n",
       "    <tr>\n",
       "      <th>count</th>\n",
       "      <td>288239.000000</td>\n",
       "      <td>165368.000000</td>\n",
       "      <td>210015.000000</td>\n",
       "    </tr>\n",
       "    <tr>\n",
       "      <th>mean</th>\n",
       "      <td>12335.743931</td>\n",
       "      <td>108726.054515</td>\n",
       "      <td>11.707921</td>\n",
       "    </tr>\n",
       "    <tr>\n",
       "      <th>std</th>\n",
       "      <td>8740.689574</td>\n",
       "      <td>138686.409005</td>\n",
       "      <td>10.848998</td>\n",
       "    </tr>\n",
       "    <tr>\n",
       "      <th>min</th>\n",
       "      <td>1000.000000</td>\n",
       "      <td>0.000000</td>\n",
       "      <td>-1.000000</td>\n",
       "    </tr>\n",
       "    <tr>\n",
       "      <th>25%</th>\n",
       "      <td>5495.000000</td>\n",
       "      <td>55000.000000</td>\n",
       "      <td>5.000000</td>\n",
       "    </tr>\n",
       "    <tr>\n",
       "      <th>50%</th>\n",
       "      <td>9995.000000</td>\n",
       "      <td>100502.500000</td>\n",
       "      <td>9.000000</td>\n",
       "    </tr>\n",
       "    <tr>\n",
       "      <th>75%</th>\n",
       "      <td>17188.500000</td>\n",
       "      <td>145900.500000</td>\n",
       "      <td>15.000000</td>\n",
       "    </tr>\n",
       "    <tr>\n",
       "      <th>max</th>\n",
       "      <td>38000.000000</td>\n",
       "      <td>10000000.000000</td>\n",
       "      <td>120.000000</td>\n",
       "    </tr>\n",
       "  </tbody>\n",
       "</table>\n",
       "</div>"
      ],
      "text/plain": [
       "               price         odometer        car_age\n",
       "count  288239.000000    165368.000000  210015.000000\n",
       "mean    12335.743931    108726.054515      11.707921\n",
       "std      8740.689574    138686.409005      10.848998\n",
       "min      1000.000000         0.000000      -1.000000\n",
       "25%      5495.000000     55000.000000       5.000000\n",
       "50%      9995.000000    100502.500000       9.000000\n",
       "75%     17188.500000    145900.500000      15.000000\n",
       "max     38000.000000  10000000.000000     120.000000"
      ]
     },
     "execution_count": 139,
     "metadata": {},
     "output_type": "execute_result"
    }
   ],
   "source": [
    "df_new.describe().apply(lambda s: s.apply(lambda x: format(x,'f')))"
   ]
  },
  {
   "cell_type": "code",
   "execution_count": 140,
   "metadata": {},
   "outputs": [
    {
     "data": {
      "text/plain": [
       "<AxesSubplot:xlabel='price'>"
      ]
     },
     "execution_count": 140,
     "metadata": {},
     "output_type": "execute_result"
    },
    {
     "data": {
      "image/png": "[encoded data removed]",
      "text/plain": [
       "<Figure size 432x288 with 1 Axes>"
      ]
     },
     "metadata": {
      "needs_background": "light"
     },
     "output_type": "display_data"
    }
   ],
   "source": [
    "sns.boxplot(x = df_new['price'])"
   ]
  },
  {
   "cell_type": "markdown",
   "metadata": {},
   "source": [
    "###### The Outliers in the price column have been taken care of. Now let's explore the odometer column. We can see that the minimum distance travelled is 0, but that cannot be right, because if a car has been used, then it has definitely travelled some miles"
   ]
  },
  {
   "cell_type": "code",
   "execution_count": 141,
   "metadata": {},
   "outputs": [
    {
     "data": {
      "text/plain": [
       "<AxesSubplot:xlabel='odometer'>"
      ]
     },
     "execution_count": 141,
     "metadata": {},
     "output_type": "execute_result"
    },
    {
     "data": {
      "image/png": "[encoded data removed]",
      "text/plain": [
       "<Figure size 432x288 with 1 Axes>"
      ]
     },
     "metadata": {
      "needs_background": "light"
     },
     "output_type": "display_data"
    }
   ],
   "source": [
    "sns.boxplot(x = df_new['odometer'])"
   ]
  },
  {
   "cell_type": "code",
   "execution_count": 142,
   "metadata": {},
   "outputs": [
    {
     "name": "stdout",
     "output_type": "stream",
     "text": [
      "55000.0\n",
      "145900.5\n",
      "13610.0\n"
     ]
    }
   ],
   "source": [
    "#Let's remove outliers from the odometer column:\n",
    "Q11 = df_new['odometer'].quantile(0.25)\n",
    "Q31 = df_new['odometer'].quantile(0.75)\n",
    "\n",
    "IQR1 = Q31 - Q11\n",
    "\n",
    "print(Q11)\n",
    "print(Q31)\n",
    "print(IQR)"
   ]
  },
  {
   "cell_type": "code",
   "execution_count": 143,
   "metadata": {},
   "outputs": [
    {
     "name": "stdout",
     "output_type": "stream",
     "text": [
      "-81350.75 282251.25\n"
     ]
    }
   ],
   "source": [
    "Lower_Whisker1 = Q11 -  1.5*IQR1\n",
    "Upper_Whisker1 = Q31 + 1.5*IQR1\n",
    "print(Lower_Whisker1, Upper_Whisker1)"
   ]
  },
  {
   "cell_type": "code",
   "execution_count": 144,
   "metadata": {},
   "outputs": [],
   "source": [
    "outliers1 = df_new[(df_new.odometer < Lower_Whisker1) | (df_new.odometer > Upper_Whisker1)]"
   ]
  },
  {
   "cell_type": "code",
   "execution_count": 145,
   "metadata": {},
   "outputs": [],
   "source": [
    "df_new = df_new.drop(outliers1.index)"
   ]
  },
  {
   "cell_type": "code",
   "execution_count": 146,
   "metadata": {},
   "outputs": [
    {
     "data": {
      "text/plain": [
       "<AxesSubplot:xlabel='odometer'>"
      ]
     },
     "execution_count": 146,
     "metadata": {},
     "output_type": "execute_result"
    },
    {
     "data": {
      "image/png": "[encoded data removed]",
      "text/plain": [
       "<Figure size 432x288 with 1 Axes>"
      ]
     },
     "metadata": {
      "needs_background": "light"
     },
     "output_type": "display_data"
    }
   ],
   "source": [
    "sns.boxplot(x = df_new['odometer'])"
   ]
  },
  {
   "cell_type": "code",
   "execution_count": 147,
   "metadata": {},
   "outputs": [
    {
     "data": {
      "text/html": [
       "<div>\n",
       "<style scoped>\n",
       "    .dataframe tbody tr th:only-of-type {\n",
       "        vertical-align: middle;\n",
       "    }\n",
       "\n",
       "    .dataframe tbody tr th {\n",
       "        vertical-align: top;\n",
       "    }\n",
       "\n",
       "    .dataframe thead th {\n",
       "        text-align: right;\n",
       "    }\n",
       "</style>\n",
       "<table border=\"1\" class=\"dataframe\">\n",
       "  <thead>\n",
       "    <tr style=\"text-align: right;\">\n",
       "      <th></th>\n",
       "      <th>price</th>\n",
       "      <th>odometer</th>\n",
       "      <th>car_age</th>\n",
       "    </tr>\n",
       "  </thead>\n",
       "  <tbody>\n",
       "    <tr>\n",
       "      <th>count</th>\n",
       "      <td>286429.000000</td>\n",
       "      <td>163558.000000</td>\n",
       "      <td>208205.000000</td>\n",
       "    </tr>\n",
       "    <tr>\n",
       "      <th>mean</th>\n",
       "      <td>12355.341355</td>\n",
       "      <td>102729.235036</td>\n",
       "      <td>11.667871</td>\n",
       "    </tr>\n",
       "    <tr>\n",
       "      <th>std</th>\n",
       "      <td>8740.961398</td>\n",
       "      <td>59795.003820</td>\n",
       "      <td>10.857340</td>\n",
       "    </tr>\n",
       "    <tr>\n",
       "      <th>min</th>\n",
       "      <td>1000.000000</td>\n",
       "      <td>0.000000</td>\n",
       "      <td>-1.000000</td>\n",
       "    </tr>\n",
       "    <tr>\n",
       "      <th>25%</th>\n",
       "      <td>5497.000000</td>\n",
       "      <td>54206.250000</td>\n",
       "      <td>5.000000</td>\n",
       "    </tr>\n",
       "    <tr>\n",
       "      <th>50%</th>\n",
       "      <td>9995.000000</td>\n",
       "      <td>99946.500000</td>\n",
       "      <td>9.000000</td>\n",
       "    </tr>\n",
       "    <tr>\n",
       "      <th>75%</th>\n",
       "      <td>17293.000000</td>\n",
       "      <td>144000.000000</td>\n",
       "      <td>14.000000</td>\n",
       "    </tr>\n",
       "    <tr>\n",
       "      <th>max</th>\n",
       "      <td>38000.000000</td>\n",
       "      <td>282150.000000</td>\n",
       "      <td>120.000000</td>\n",
       "    </tr>\n",
       "  </tbody>\n",
       "</table>\n",
       "</div>"
      ],
      "text/plain": [
       "               price       odometer        car_age\n",
       "count  286429.000000  163558.000000  208205.000000\n",
       "mean    12355.341355  102729.235036      11.667871\n",
       "std      8740.961398   59795.003820      10.857340\n",
       "min      1000.000000       0.000000      -1.000000\n",
       "25%      5497.000000   54206.250000       5.000000\n",
       "50%      9995.000000   99946.500000       9.000000\n",
       "75%     17293.000000  144000.000000      14.000000\n",
       "max     38000.000000  282150.000000     120.000000"
      ]
     },
     "execution_count": 147,
     "metadata": {},
     "output_type": "execute_result"
    }
   ],
   "source": [
    "df_new.describe().apply(lambda s: s.apply(lambda x: format(x,'f')))"
   ]
  },
  {
   "cell_type": "code",
   "execution_count": 148,
   "metadata": {},
   "outputs": [],
   "source": [
    "#Our minimum odometer is still 0, which is not right, lets set our minimum odometer to 500\n",
    "vehicles_below500miles = df_new[(df_new.odometer < 500)]\n",
    "df_new = df_new.drop(vehicles_below500miles.index)"
   ]
  },
  {
   "cell_type": "code",
   "execution_count": 149,
   "metadata": {},
   "outputs": [
    {
     "data": {
      "text/html": [
       "<div>\n",
       "<style scoped>\n",
       "    .dataframe tbody tr th:only-of-type {\n",
       "        vertical-align: middle;\n",
       "    }\n",
       "\n",
       "    .dataframe tbody tr th {\n",
       "        vertical-align: top;\n",
       "    }\n",
       "\n",
       "    .dataframe thead th {\n",
       "        text-align: right;\n",
       "    }\n",
       "</style>\n",
       "<table border=\"1\" class=\"dataframe\">\n",
       "  <thead>\n",
       "    <tr style=\"text-align: right;\">\n",
       "      <th></th>\n",
       "      <th>price</th>\n",
       "      <th>odometer</th>\n",
       "      <th>car_age</th>\n",
       "    </tr>\n",
       "  </thead>\n",
       "  <tbody>\n",
       "    <tr>\n",
       "      <th>count</th>\n",
       "      <td>283067.000000</td>\n",
       "      <td>160196.000000</td>\n",
       "      <td>204849.000000</td>\n",
       "    </tr>\n",
       "    <tr>\n",
       "      <th>mean</th>\n",
       "      <td>12353.934305</td>\n",
       "      <td>104883.159611</td>\n",
       "      <td>11.636039</td>\n",
       "    </tr>\n",
       "    <tr>\n",
       "      <th>std</th>\n",
       "      <td>8726.462584</td>\n",
       "      <td>58521.591143</td>\n",
       "      <td>10.775313</td>\n",
       "    </tr>\n",
       "    <tr>\n",
       "      <th>min</th>\n",
       "      <td>1000.000000</td>\n",
       "      <td>500.000000</td>\n",
       "      <td>-1.000000</td>\n",
       "    </tr>\n",
       "    <tr>\n",
       "      <th>25%</th>\n",
       "      <td>5499.000000</td>\n",
       "      <td>58000.000000</td>\n",
       "      <td>5.000000</td>\n",
       "    </tr>\n",
       "    <tr>\n",
       "      <th>50%</th>\n",
       "      <td>9995.000000</td>\n",
       "      <td>101266.000000</td>\n",
       "      <td>9.000000</td>\n",
       "    </tr>\n",
       "    <tr>\n",
       "      <th>75%</th>\n",
       "      <td>17220.000000</td>\n",
       "      <td>145000.000000</td>\n",
       "      <td>14.000000</td>\n",
       "    </tr>\n",
       "    <tr>\n",
       "      <th>max</th>\n",
       "      <td>38000.000000</td>\n",
       "      <td>282150.000000</td>\n",
       "      <td>120.000000</td>\n",
       "    </tr>\n",
       "  </tbody>\n",
       "</table>\n",
       "</div>"
      ],
      "text/plain": [
       "               price       odometer        car_age\n",
       "count  283067.000000  160196.000000  204849.000000\n",
       "mean    12353.934305  104883.159611      11.636039\n",
       "std      8726.462584   58521.591143      10.775313\n",
       "min      1000.000000     500.000000      -1.000000\n",
       "25%      5499.000000   58000.000000       5.000000\n",
       "50%      9995.000000  101266.000000       9.000000\n",
       "75%     17220.000000  145000.000000      14.000000\n",
       "max     38000.000000  282150.000000     120.000000"
      ]
     },
     "execution_count": 149,
     "metadata": {},
     "output_type": "execute_result"
    }
   ],
   "source": [
    "df_new.describe().apply(lambda s: s.apply(lambda x: format(x,'f')))"
   ]
  },
  {
   "cell_type": "markdown",
   "metadata": {},
   "source": [
    "###### It's not possible for the age of a car to be -1, so we'll drop all values less than 1 in the car_age column"
   ]
  },
  {
   "cell_type": "code",
   "execution_count": 150,
   "metadata": {},
   "outputs": [],
   "source": [
    "vehicles_below1year = df_new[(df_new.car_age < 1)]\n",
    "df_new = df_new.drop(vehicles_below1year.index)"
   ]
  },
  {
   "cell_type": "code",
   "execution_count": 151,
   "metadata": {},
   "outputs": [
    {
     "data": {
      "text/plain": [
       "<AxesSubplot:xlabel='car_age'>"
      ]
     },
     "execution_count": 151,
     "metadata": {},
     "output_type": "execute_result"
    },
    {
     "data": {
      "image/png": "[encoded data removed]",
      "text/plain": [
       "<Figure size 432x288 with 1 Axes>"
      ]
     },
     "metadata": {
      "needs_background": "light"
     },
     "output_type": "display_data"
    }
   ],
   "source": [
    "sns.boxplot(x = df_new['car_age'])"
   ]
  },
  {
   "cell_type": "code",
   "execution_count": 152,
   "metadata": {},
   "outputs": [
    {
     "name": "stdout",
     "output_type": "stream",
     "text": [
      "5.0\n",
      "15.0\n",
      "10.0\n"
     ]
    }
   ],
   "source": [
    "#Removing outliers from the car_age column\n",
    "#Let's remove outliers from the odometer column:\n",
    "Q12 = df_new['car_age'].quantile(0.25)\n",
    "Q32 = df_new['car_age'].quantile(0.75)\n",
    "\n",
    "IQR2 = Q32 - Q12\n",
    "\n",
    "print(Q12)\n",
    "print(Q32)\n",
    "print(IQR2)"
   ]
  },
  {
   "cell_type": "code",
   "execution_count": 153,
   "metadata": {},
   "outputs": [
    {
     "name": "stdout",
     "output_type": "stream",
     "text": [
      "-10.0 30.0\n"
     ]
    }
   ],
   "source": [
    "Lower_Whisker2 = Q12 -  1.5*IQR2\n",
    "Upper_Whisker2 = Q32 + 1.5*IQR2\n",
    "print(Lower_Whisker2, Upper_Whisker2)"
   ]
  },
  {
   "cell_type": "code",
   "execution_count": 154,
   "metadata": {},
   "outputs": [
    {
     "name": "stdout",
     "output_type": "stream",
     "text": [
      "-10.0 30.0\n"
     ]
    }
   ],
   "source": [
    "Lower_Whisker2 = Q12 -  1.5*IQR2\n",
    "Upper_Whisker2 = Q32 + 1.5*IQR2\n",
    "print(Lower_Whisker2, Upper_Whisker2)"
   ]
  },
  {
   "cell_type": "code",
   "execution_count": 155,
   "metadata": {},
   "outputs": [],
   "source": [
    "outliers2 = df_new[(df_new.car_age < Lower_Whisker2) | (df_new.car_age > Upper_Whisker2)]"
   ]
  },
  {
   "cell_type": "code",
   "execution_count": 156,
   "metadata": {},
   "outputs": [],
   "source": [
    "df_new = df_new.drop(outliers2.index)"
   ]
  },
  {
   "cell_type": "code",
   "execution_count": 157,
   "metadata": {},
   "outputs": [
    {
     "data": {
      "text/plain": [
       "<AxesSubplot:xlabel='car_age'>"
      ]
     },
     "execution_count": 157,
     "metadata": {},
     "output_type": "execute_result"
    },
    {
     "data": {
      "image/png": "[encoded data removed]",
      "text/plain": [
       "<Figure size 432x288 with 1 Axes>"
      ]
     },
     "metadata": {
      "needs_background": "light"
     },
     "output_type": "display_data"
    }
   ],
   "source": [
    "sns.boxplot(x = df_new['car_age'])"
   ]
  },
  {
   "cell_type": "code",
   "execution_count": 158,
   "metadata": {},
   "outputs": [
    {
     "data": {
      "text/html": [
       "<div>\n",
       "<style scoped>\n",
       "    .dataframe tbody tr th:only-of-type {\n",
       "        vertical-align: middle;\n",
       "    }\n",
       "\n",
       "    .dataframe tbody tr th {\n",
       "        vertical-align: top;\n",
       "    }\n",
       "\n",
       "    .dataframe thead th {\n",
       "        text-align: right;\n",
       "    }\n",
       "</style>\n",
       "<table border=\"1\" class=\"dataframe\">\n",
       "  <thead>\n",
       "    <tr style=\"text-align: right;\">\n",
       "      <th></th>\n",
       "      <th>price</th>\n",
       "      <th>odometer</th>\n",
       "      <th>car_age</th>\n",
       "    </tr>\n",
       "  </thead>\n",
       "  <tbody>\n",
       "    <tr>\n",
       "      <th>count</th>\n",
       "      <td>271577.000000</td>\n",
       "      <td>154900.000000</td>\n",
       "      <td>193359.000000</td>\n",
       "    </tr>\n",
       "    <tr>\n",
       "      <th>mean</th>\n",
       "      <td>12317.777938</td>\n",
       "      <td>106168.637050</td>\n",
       "      <td>9.792779</td>\n",
       "    </tr>\n",
       "    <tr>\n",
       "      <th>std</th>\n",
       "      <td>8683.862901</td>\n",
       "      <td>58217.927601</td>\n",
       "      <td>5.949679</td>\n",
       "    </tr>\n",
       "    <tr>\n",
       "      <th>min</th>\n",
       "      <td>1000.000000</td>\n",
       "      <td>500.000000</td>\n",
       "      <td>1.000000</td>\n",
       "    </tr>\n",
       "    <tr>\n",
       "      <th>25%</th>\n",
       "      <td>5500.000000</td>\n",
       "      <td>59605.250000</td>\n",
       "      <td>5.000000</td>\n",
       "    </tr>\n",
       "    <tr>\n",
       "      <th>50%</th>\n",
       "      <td>9995.000000</td>\n",
       "      <td>103000.000000</td>\n",
       "      <td>9.000000</td>\n",
       "    </tr>\n",
       "    <tr>\n",
       "      <th>75%</th>\n",
       "      <td>16999.000000</td>\n",
       "      <td>146241.500000</td>\n",
       "      <td>14.000000</td>\n",
       "    </tr>\n",
       "    <tr>\n",
       "      <th>max</th>\n",
       "      <td>38000.000000</td>\n",
       "      <td>282150.000000</td>\n",
       "      <td>30.000000</td>\n",
       "    </tr>\n",
       "  </tbody>\n",
       "</table>\n",
       "</div>"
      ],
      "text/plain": [
       "               price       odometer        car_age\n",
       "count  271577.000000  154900.000000  193359.000000\n",
       "mean    12317.777938  106168.637050       9.792779\n",
       "std      8683.862901   58217.927601       5.949679\n",
       "min      1000.000000     500.000000       1.000000\n",
       "25%      5500.000000   59605.250000       5.000000\n",
       "50%      9995.000000  103000.000000       9.000000\n",
       "75%     16999.000000  146241.500000      14.000000\n",
       "max     38000.000000  282150.000000      30.000000"
      ]
     },
     "execution_count": 158,
     "metadata": {},
     "output_type": "execute_result"
    }
   ],
   "source": [
    "df_new.describe().apply(lambda s: s.apply(lambda x: format(x,'f')))"
   ]
  },
  {
   "cell_type": "markdown",
   "metadata": {},
   "source": [
    "###### Check Missing Values after removing outliers"
   ]
  },
  {
   "cell_type": "code",
   "execution_count": 159,
   "metadata": {},
   "outputs": [
    {
     "data": {
      "text/html": [
       "<div>\n",
       "<style scoped>\n",
       "    .dataframe tbody tr th:only-of-type {\n",
       "        vertical-align: middle;\n",
       "    }\n",
       "\n",
       "    .dataframe tbody tr th {\n",
       "        vertical-align: top;\n",
       "    }\n",
       "\n",
       "    .dataframe thead th {\n",
       "        text-align: right;\n",
       "    }\n",
       "</style>\n",
       "<table border=\"1\" class=\"dataframe\">\n",
       "  <thead>\n",
       "    <tr style=\"text-align: right;\">\n",
       "      <th></th>\n",
       "      <th>missing_values</th>\n",
       "      <th>missing_percentages</th>\n",
       "    </tr>\n",
       "  </thead>\n",
       "  <tbody>\n",
       "    <tr>\n",
       "      <th>condition</th>\n",
       "      <td>154203</td>\n",
       "      <td>56.78</td>\n",
       "    </tr>\n",
       "    <tr>\n",
       "      <th>cylinders</th>\n",
       "      <td>147836</td>\n",
       "      <td>54.44</td>\n",
       "    </tr>\n",
       "    <tr>\n",
       "      <th>paint_color</th>\n",
       "      <td>136888</td>\n",
       "      <td>50.40</td>\n",
       "    </tr>\n",
       "    <tr>\n",
       "      <th>drive</th>\n",
       "      <td>136366</td>\n",
       "      <td>50.21</td>\n",
       "    </tr>\n",
       "    <tr>\n",
       "      <th>type</th>\n",
       "      <td>134254</td>\n",
       "      <td>49.43</td>\n",
       "    </tr>\n",
       "    <tr>\n",
       "      <th>odometer</th>\n",
       "      <td>116677</td>\n",
       "      <td>42.96</td>\n",
       "    </tr>\n",
       "    <tr>\n",
       "      <th>manufacturer</th>\n",
       "      <td>84863</td>\n",
       "      <td>31.25</td>\n",
       "    </tr>\n",
       "    <tr>\n",
       "      <th>model</th>\n",
       "      <td>80010</td>\n",
       "      <td>29.46</td>\n",
       "    </tr>\n",
       "    <tr>\n",
       "      <th>fuel</th>\n",
       "      <td>79020</td>\n",
       "      <td>29.10</td>\n",
       "    </tr>\n",
       "    <tr>\n",
       "      <th>title_status</th>\n",
       "      <td>78758</td>\n",
       "      <td>29.00</td>\n",
       "    </tr>\n",
       "    <tr>\n",
       "      <th>transmission</th>\n",
       "      <td>78450</td>\n",
       "      <td>28.89</td>\n",
       "    </tr>\n",
       "    <tr>\n",
       "      <th>car_age</th>\n",
       "      <td>78218</td>\n",
       "      <td>28.80</td>\n",
       "    </tr>\n",
       "    <tr>\n",
       "      <th>price</th>\n",
       "      <td>0</td>\n",
       "      <td>0.00</td>\n",
       "    </tr>\n",
       "  </tbody>\n",
       "</table>\n",
       "</div>"
      ],
      "text/plain": [
       "              missing_values  missing_percentages\n",
       "condition             154203                56.78\n",
       "cylinders             147836                54.44\n",
       "paint_color           136888                50.40\n",
       "drive                 136366                50.21\n",
       "type                  134254                49.43\n",
       "odometer              116677                42.96\n",
       "manufacturer           84863                31.25\n",
       "model                  80010                29.46\n",
       "fuel                   79020                29.10\n",
       "title_status           78758                29.00\n",
       "transmission           78450                28.89\n",
       "car_age                78218                28.80\n",
       "price                      0                 0.00"
      ]
     },
     "execution_count": 159,
     "metadata": {},
     "output_type": "execute_result"
    }
   ],
   "source": [
    "#check missing values\n",
    "missing_values = df_new.isnull().sum()\n",
    "#check percentages of missing data in each column\n",
    "missing_percentage = round((df_new.isnull().sum()/df_new.shape[0] *100),2)\n",
    "#Put the in a dataframe\n",
    "missing_df = pd.DataFrame(missing_values, columns = ['missing_values'])\n",
    "missing_p = pd.DataFrame(missing_percentage, columns = ['missing_percentages'])\n",
    "missing_df['missing_percentages'] = missing_p\n",
    "missing_df.sort_values(by = 'missing_percentages', ascending=False)"
   ]
  },
  {
   "cell_type": "markdown",
   "metadata": {},
   "source": [
    "### Exploring Categorical features and filling NaN Values"
   ]
  },
  {
   "cell_type": "markdown",
   "metadata": {},
   "source": [
    "##### We still have lots of NaN values. Let's explore  our categorical columns to see if we can fill them"
   ]
  },
  {
   "cell_type": "code",
   "execution_count": 160,
   "metadata": {},
   "outputs": [
    {
     "data": {
      "text/plain": [
       "Text(0, 0.5, 'Count of cars')"
      ]
     },
     "execution_count": 160,
     "metadata": {},
     "output_type": "execute_result"
    },
    {
     "data": {
      "image/png": "[encoded data removed]",
      "text/plain": [
       "<Figure size 1080x720 with 1 Axes>"
      ]
     },
     "metadata": {
      "needs_background": "light"
     },
     "output_type": "display_data"
    }
   ],
   "source": [
    "plt.figure(figsize = (15, 10))\n",
    "plot = sns.countplot(x = 'manufacturer', data = df_new, order=df_new['manufacturer'].value_counts().index)\n",
    "plt.xticks(rotation = 90)\n",
    "\n",
    "plt.title(\"Count of cars based on manufacturers\")\n",
    "plt.xlabel(\"Manufacturer\")\n",
    "plt.ylabel(\"Count of cars\")"
   ]
  },
  {
   "cell_type": "markdown",
   "metadata": {},
   "source": [
    "Ford manufacturers the most cars"
   ]
  },
  {
   "cell_type": "code",
   "execution_count": 161,
   "metadata": {},
   "outputs": [
    {
     "data": {
      "text/plain": [
       "Text(0, 0.5, 'Mean Age of cars')"
      ]
     },
     "execution_count": 161,
     "metadata": {},
     "output_type": "execute_result"
    },
    {
     "data": {
      "image/png": "[encoded data removed]",
      "text/plain": [
       "<Figure size 1080x720 with 1 Axes>"
      ]
     },
     "metadata": {
      "needs_background": "light"
     },
     "output_type": "display_data"
    }
   ],
   "source": [
    "plt.figure(figsize = (15, 10))\n",
    "d =df_new.groupby('manufacturer')['car_age'].mean().sort_values(ascending=False)\n",
    "plot = sns.barplot(x = 'manufacturer', y = 'car_age',data = df_new, order=d.index)\n",
    "plt.xticks(rotation = 90)\n",
    "\n",
    "plt.title(\"Mean Ages of cars based on manufacturers\")\n",
    "plt.xlabel(\"Manufacturer\")\n",
    "plt.ylabel(\"Mean Age of cars\")"
   ]
  },
  {
   "cell_type": "markdown",
   "metadata": {},
   "source": [
    "On average, Datsun cars are the oldest"
   ]
  },
  {
   "cell_type": "code",
   "execution_count": 162,
   "metadata": {},
   "outputs": [
    {
     "data": {
      "text/plain": [
       "Text(0, 0.5, 'Mean Price of cars')"
      ]
     },
     "execution_count": 162,
     "metadata": {},
     "output_type": "execute_result"
    },
    {
     "data": {
      "image/png": "[encoded data removed]",
      "text/plain": [
       "<Figure size 1080x720 with 1 Axes>"
      ]
     },
     "metadata": {
      "needs_background": "light"
     },
     "output_type": "display_data"
    }
   ],
   "source": [
    "plt.figure(figsize = (15, 10))\n",
    "d =df_new.groupby('manufacturer')['price'].mean().sort_values(ascending=False)\n",
    "plot = sns.barplot(x = 'manufacturer', y = 'price',data = df_new, order=d.index)\n",
    "plt.xticks(rotation = 90)\n",
    "\n",
    "plt.title(\"Mean Prices of cars based on manufacturers\")\n",
    "plt.xlabel(\"Manufacturer\")\n",
    "plt.ylabel(\"Mean Price of cars\")"
   ]
  },
  {
   "cell_type": "markdown",
   "metadata": {},
   "source": [
    "On average, Tesla manufactures the most expensive cars"
   ]
  },
  {
   "cell_type": "code",
   "execution_count": 163,
   "metadata": {},
   "outputs": [
    {
     "data": {
      "text/plain": [
       "Text(0, 0.5, 'Count of car types')"
      ]
     },
     "execution_count": 163,
     "metadata": {},
     "output_type": "execute_result"
    },
    {
     "data": {
      "image/png": "[encoded data removed]",
      "text/plain": [
       "<Figure size 1080x720 with 1 Axes>"
      ]
     },
     "metadata": {
      "needs_background": "light"
     },
     "output_type": "display_data"
    }
   ],
   "source": [
    "plt.figure(figsize = (15, 10))\n",
    "#d =vehicles_df['type'].sort_values(ascending=False)\n",
    "d =df_new['type'].value_counts()\n",
    "plot = sns.countplot(x = 'type', data = df_new, order = d.index)\n",
    "plt.xticks(rotation = 90)\n",
    "\n",
    "plt.title(\"Count of cars based on types\")\n",
    "plt.xlabel(\"Type\")\n",
    "plt.ylabel(\"Count of car types\")"
   ]
  },
  {
   "cell_type": "markdown",
   "metadata": {},
   "source": [
    "Sedans are the most common car types followed by SUVs"
   ]
  },
  {
   "cell_type": "code",
   "execution_count": 164,
   "metadata": {},
   "outputs": [
    {
     "data": {
      "text/plain": [
       "Text(0, 0.5, 'Count of car models')"
      ]
     },
     "execution_count": 164,
     "metadata": {},
     "output_type": "execute_result"
    },
    {
     "data": {
      "image/png": "[encoded data removed]",
      "text/plain": [
       "<Figure size 1080x720 with 1 Axes>"
      ]
     },
     "metadata": {
      "needs_background": "light"
     },
     "output_type": "display_data"
    }
   ],
   "source": [
    "plt.figure(figsize = (15, 10))\n",
    "d =df_new['model'].value_counts().head(50)#top 50 car models\n",
    "plot = sns.countplot(x = 'model', data = df_new, order = d.index)\n",
    "plt.xticks(rotation = 90)\n",
    "\n",
    "plt.title(\"Count of cars based on models\")\n",
    "plt.xlabel(\"Model\")\n",
    "plt.ylabel(\"Count of car models\")"
   ]
  },
  {
   "cell_type": "markdown",
   "metadata": {},
   "source": [
    "The most common car model is f-150"
   ]
  },
  {
   "cell_type": "code",
   "execution_count": 165,
   "metadata": {},
   "outputs": [
    {
     "data": {
      "text/plain": [
       "condition\n",
       "fair         17.067519\n",
       "salvage      13.951613\n",
       "good         11.451176\n",
       "excellent     9.840412\n",
       "new           8.699725\n",
       "like new      7.885613\n",
       "Name: car_age, dtype: float64"
      ]
     },
     "execution_count": 165,
     "metadata": {},
     "output_type": "execute_result"
    }
   ],
   "source": [
    "df_new.groupby('condition')['car_age'].mean().sort_values(ascending=False)"
   ]
  },
  {
   "cell_type": "code",
   "execution_count": 166,
   "metadata": {},
   "outputs": [
    {
     "data": {
      "text/plain": [
       "excellent    56276\n",
       "good         43309\n",
       "like new     12720\n",
       "fair          4458\n",
       "new            363\n",
       "salvage        248\n",
       "Name: condition, dtype: int64"
      ]
     },
     "execution_count": 166,
     "metadata": {},
     "output_type": "execute_result"
    }
   ],
   "source": [
    "df_new['condition'].value_counts()"
   ]
  },
  {
   "cell_type": "code",
   "execution_count": 167,
   "metadata": {},
   "outputs": [
    {
     "data": {
      "text/plain": [
       "Text(0, 0.5, 'Count of car conditions')"
      ]
     },
     "execution_count": 167,
     "metadata": {},
     "output_type": "execute_result"
    },
    {
     "data": {
      "image/png": "[encoded data removed]",
      "text/plain": [
       "<Figure size 1080x720 with 1 Axes>"
      ]
     },
     "metadata": {
      "needs_background": "light"
     },
     "output_type": "display_data"
    }
   ],
   "source": [
    "plt.figure(figsize = (15, 10))\n",
    "d =df_new['condition'].value_counts()\n",
    "plot = sns.countplot(x = 'condition', data = df_new, order = d.index)\n",
    "plt.xticks(rotation = 90)\n",
    "\n",
    "plt.title(\"Count of car conditions\")\n",
    "plt.xlabel(\"condition\")\n",
    "plt.ylabel(\"Count of car conditions\")"
   ]
  },
  {
   "cell_type": "code",
   "execution_count": 168,
   "metadata": {},
   "outputs": [
    {
     "data": {
      "text/plain": [
       "Text(0, 0.5, 'Car Ages')"
      ]
     },
     "execution_count": 168,
     "metadata": {},
     "output_type": "execute_result"
    },
    {
     "data": {
      "image/png": "[encoded data removed]",
      "text/plain": [
       "<Figure size 1080x720 with 1 Axes>"
      ]
     },
     "metadata": {
      "needs_background": "light"
     },
     "output_type": "display_data"
    }
   ],
   "source": [
    "plt.figure(figsize = (15, 10))\n",
    "d =df_new.groupby('condition')['car_age'].mean().sort_values(ascending=False)\n",
    "plot = sns.barplot(x = 'condition', y = 'car_age', data = df_new, order = d.index)\n",
    "plt.xticks(rotation = 90)\n",
    "\n",
    "plt.title(\"Car conditions and their ages\")\n",
    "plt.xlabel(\"condition\")\n",
    "plt.ylabel(\"Car Ages\")"
   ]
  },
  {
   "cell_type": "markdown",
   "metadata": {},
   "source": [
    "It would be expected that cars in salvage conditions have more years than those in fair conditions, but surprisingly, this is not the case here. What could be the reason fo this? Poor maintenance? Missing data?\n",
    "Also, new cars are older than like new cars"
   ]
  },
  {
   "cell_type": "markdown",
   "metadata": {},
   "source": [
    "Going by the chart above, cars are over 11 years on average before they need major repairs"
   ]
  },
  {
   "cell_type": "code",
   "execution_count": 169,
   "metadata": {},
   "outputs": [
    {
     "data": {
      "text/plain": [
       "Text(0, 0.5, 'Odometer')"
      ]
     },
     "execution_count": 169,
     "metadata": {},
     "output_type": "execute_result"
    },
    {
     "data": {
      "image/png": "[encoded data removed]",
      "text/plain": [
       "<Figure size 1080x720 with 1 Axes>"
      ]
     },
     "metadata": {
      "needs_background": "light"
     },
     "output_type": "display_data"
    }
   ],
   "source": [
    "plt.figure(figsize = (15, 10))\n",
    "d =df_new.groupby('condition')['odometer'].mean().sort_values(ascending=False)\n",
    "plot = sns.barplot(x = 'condition', y = 'odometer', data = df_new, order = d.index)\n",
    "plt.xticks(rotation = 90)\n",
    "\n",
    "plt.title(\"Car conditions and distance travelled\")\n",
    "plt.xlabel(\"condition\")\n",
    "plt.ylabel(\"Odometer\")"
   ]
  },
  {
   "cell_type": "markdown",
   "metadata": {},
   "source": [
    "Again, it's surprising that cars in salvage conditions have travelled less distance than those in fair conditions"
   ]
  },
  {
   "cell_type": "code",
   "execution_count": 170,
   "metadata": {},
   "outputs": [
    {
     "data": {
      "text/plain": [
       "condition\n",
       "fair         17.067519\n",
       "salvage      13.951613\n",
       "good         11.451176\n",
       "excellent     9.840412\n",
       "new           8.699725\n",
       "like new      7.885613\n",
       "Name: car_age, dtype: float64"
      ]
     },
     "execution_count": 170,
     "metadata": {},
     "output_type": "execute_result"
    }
   ],
   "source": [
    "df_new.groupby('condition')['car_age'].mean().sort_values(ascending=False)"
   ]
  },
  {
   "cell_type": "code",
   "execution_count": 171,
   "metadata": {},
   "outputs": [
    {
     "data": {
      "text/plain": [
       "condition\n",
       "fair         171573.371729\n",
       "salvage      135012.645161\n",
       "good         120346.489357\n",
       "excellent    109495.772544\n",
       "like new      81016.502923\n",
       "new           75161.803213\n",
       "Name: odometer, dtype: float64"
      ]
     },
     "execution_count": 171,
     "metadata": {},
     "output_type": "execute_result"
    }
   ],
   "source": [
    "df_new.groupby('condition')['odometer'].mean().sort_values(ascending=False)"
   ]
  },
  {
   "cell_type": "markdown",
   "metadata": {},
   "source": [
    "##### we can use the information we have from the above 2 charts to fill missing values in the 'condition' column"
   ]
  },
  {
   "cell_type": "code",
   "execution_count": 172,
   "metadata": {},
   "outputs": [
    {
     "data": {
      "text/plain": [
       "condition\n",
       "fair         17.067519\n",
       "salvage      13.951613\n",
       "good         11.451176\n",
       "excellent     9.840412\n",
       "new           8.699725\n",
       "like new      7.885613\n",
       "Name: car_age, dtype: float64"
      ]
     },
     "execution_count": 172,
     "metadata": {},
     "output_type": "execute_result"
    }
   ],
   "source": [
    "df_new.groupby('condition')['car_age'].mean().sort_values(ascending=False)"
   ]
  },
  {
   "cell_type": "code",
   "execution_count": 173,
   "metadata": {},
   "outputs": [
    {
     "data": {
      "text/plain": [
       "condition\n",
       "fair         171573.371729\n",
       "salvage      135012.645161\n",
       "good         120346.489357\n",
       "excellent    109495.772544\n",
       "like new      81016.502923\n",
       "new           75161.803213\n",
       "Name: odometer, dtype: float64"
      ]
     },
     "execution_count": 173,
     "metadata": {},
     "output_type": "execute_result"
    }
   ],
   "source": [
    "df_new.groupby('condition')['odometer'].mean().sort_values(ascending=False)"
   ]
  },
  {
   "cell_type": "code",
   "execution_count": 174,
   "metadata": {},
   "outputs": [],
   "source": [
    "#write a funcion to replace missing values in the condition column using mean values of car_age and odometer\n",
    "def replace_condition(cols):\n",
    "    condition=cols[0]\n",
    "    Car_Age = cols[1]\n",
    "    odometer = cols[2]\n",
    "    \n",
    "    if pd.isnull(condition):\n",
    "        \n",
    "        if ((Car_Age > 13.951613) & (Car_Age <=17.067519)) | ((odometer> 135012.645161) & (odometer <= 171573.371729)):\n",
    "            return 'fair'\n",
    "        elif (Car_Age >  11.451176) & (Car_Age <=13.951613) | ((odometer> 120346.489357) & (odometer <= 135012.645161)):\n",
    "            return 'salvage'\n",
    "        elif (Car_Age > 9.840412) & (Car_Age <=11.451176) | ((odometer> 105871.576275) & (odometer <= 120346.489357)):\n",
    "            return 'good'\n",
    "        elif (Car_Age > 8.699725) & (Car_Age <= 9.840412) | ((odometer> 81016.502923) & (odometer <= 105871.576275)):\n",
    "            return 'excellent'\n",
    "        elif (Car_Age <=7.885613) | ((odometer> 75161.803213) & (odometer <=81016.502923)):\n",
    "            return 'like new'\n",
    "        elif (Car_Age > 7.885613 )& (Car_Age <=8.699725)| ((odometer<= 75161.803213)):\n",
    "            return 'new'\n",
    "        #else:\n",
    "            #return ' '\n",
    "        \n",
    "    else:\n",
    "        return condition\n",
    "    "
   ]
  },
  {
   "cell_type": "code",
   "execution_count": 175,
   "metadata": {},
   "outputs": [],
   "source": [
    "#replace missing values in the condition colum using the function above\n",
    "df_new['condition']= df_new[['condition', 'car_age', 'odometer']].apply(replace_condition,axis =1)"
   ]
  },
  {
   "cell_type": "code",
   "execution_count": 176,
   "metadata": {},
   "outputs": [
    {
     "data": {
      "text/html": [
       "<div>\n",
       "<style scoped>\n",
       "    .dataframe tbody tr th:only-of-type {\n",
       "        vertical-align: middle;\n",
       "    }\n",
       "\n",
       "    .dataframe tbody tr th {\n",
       "        vertical-align: top;\n",
       "    }\n",
       "\n",
       "    .dataframe thead th {\n",
       "        text-align: right;\n",
       "    }\n",
       "</style>\n",
       "<table border=\"1\" class=\"dataframe\">\n",
       "  <thead>\n",
       "    <tr style=\"text-align: right;\">\n",
       "      <th></th>\n",
       "      <th>missing_values</th>\n",
       "      <th>missing_percentages</th>\n",
       "    </tr>\n",
       "  </thead>\n",
       "  <tbody>\n",
       "    <tr>\n",
       "      <th>cylinders</th>\n",
       "      <td>147836</td>\n",
       "      <td>54.44</td>\n",
       "    </tr>\n",
       "    <tr>\n",
       "      <th>paint_color</th>\n",
       "      <td>136888</td>\n",
       "      <td>50.40</td>\n",
       "    </tr>\n",
       "    <tr>\n",
       "      <th>drive</th>\n",
       "      <td>136366</td>\n",
       "      <td>50.21</td>\n",
       "    </tr>\n",
       "    <tr>\n",
       "      <th>type</th>\n",
       "      <td>134254</td>\n",
       "      <td>49.43</td>\n",
       "    </tr>\n",
       "    <tr>\n",
       "      <th>odometer</th>\n",
       "      <td>116677</td>\n",
       "      <td>42.96</td>\n",
       "    </tr>\n",
       "    <tr>\n",
       "      <th>manufacturer</th>\n",
       "      <td>84863</td>\n",
       "      <td>31.25</td>\n",
       "    </tr>\n",
       "    <tr>\n",
       "      <th>condition</th>\n",
       "      <td>82371</td>\n",
       "      <td>30.33</td>\n",
       "    </tr>\n",
       "    <tr>\n",
       "      <th>model</th>\n",
       "      <td>80010</td>\n",
       "      <td>29.46</td>\n",
       "    </tr>\n",
       "    <tr>\n",
       "      <th>fuel</th>\n",
       "      <td>79020</td>\n",
       "      <td>29.10</td>\n",
       "    </tr>\n",
       "    <tr>\n",
       "      <th>title_status</th>\n",
       "      <td>78758</td>\n",
       "      <td>29.00</td>\n",
       "    </tr>\n",
       "    <tr>\n",
       "      <th>transmission</th>\n",
       "      <td>78450</td>\n",
       "      <td>28.89</td>\n",
       "    </tr>\n",
       "    <tr>\n",
       "      <th>car_age</th>\n",
       "      <td>78218</td>\n",
       "      <td>28.80</td>\n",
       "    </tr>\n",
       "    <tr>\n",
       "      <th>price</th>\n",
       "      <td>0</td>\n",
       "      <td>0.00</td>\n",
       "    </tr>\n",
       "  </tbody>\n",
       "</table>\n",
       "</div>"
      ],
      "text/plain": [
       "              missing_values  missing_percentages\n",
       "cylinders             147836                54.44\n",
       "paint_color           136888                50.40\n",
       "drive                 136366                50.21\n",
       "type                  134254                49.43\n",
       "odometer              116677                42.96\n",
       "manufacturer           84863                31.25\n",
       "condition              82371                30.33\n",
       "model                  80010                29.46\n",
       "fuel                   79020                29.10\n",
       "title_status           78758                29.00\n",
       "transmission           78450                28.89\n",
       "car_age                78218                28.80\n",
       "price                      0                 0.00"
      ]
     },
     "execution_count": 176,
     "metadata": {},
     "output_type": "execute_result"
    }
   ],
   "source": [
    "#check missing values\n",
    "missing_values = df_new.isnull().sum()\n",
    "#check percentages of missing data in each column\n",
    "missing_percentage = round((df_new.isnull().sum()/df_new.shape[0] *100),2)\n",
    "#Put the in a dataframe\n",
    "missing_df = pd.DataFrame(missing_values, columns = ['missing_values'])\n",
    "missing_p = pd.DataFrame(missing_percentage, columns = ['missing_percentages'])\n",
    "missing_df['missing_percentages'] = missing_p\n",
    "missing_df.sort_values(by = 'missing_percentages', ascending=False)"
   ]
  },
  {
   "cell_type": "markdown",
   "metadata": {},
   "source": [
    "###### The NaN values in the 'condition' column are now reduced from 198703 to 82371. We will drop the rows with NaN values in the condition column, but first, let's use the same startegy to fill NaN values in odometer and car_age columns"
   ]
  },
  {
   "cell_type": "code",
   "execution_count": 177,
   "metadata": {},
   "outputs": [
    {
     "data": {
      "text/plain": [
       "Text(0, 0.5, 'Odometer')"
      ]
     },
     "execution_count": 177,
     "metadata": {},
     "output_type": "execute_result"
    },
    {
     "data": {
      "image/png": "[encoded data removed]",
      "text/plain": [
       "<Figure size 1080x720 with 1 Axes>"
      ]
     },
     "metadata": {
      "needs_background": "light"
     },
     "output_type": "display_data"
    }
   ],
   "source": [
    "plt.figure(figsize = (15, 10))\n",
    "d =df_new.groupby('condition')['odometer'].mean().sort_values(ascending=False)\n",
    "plot = sns.barplot(x = 'condition', y = 'odometer', data = df_new, order = d.index)\n",
    "plt.xticks(rotation = 90)\n",
    "\n",
    "plt.title(\"Car conditions and distance travelled\")\n",
    "plt.xlabel(\"condition\")\n",
    "plt.ylabel(\"Odometer\")"
   ]
  },
  {
   "cell_type": "code",
   "execution_count": 178,
   "metadata": {},
   "outputs": [
    {
     "data": {
      "text/plain": [
       "condition\n",
       "fair         155484.937060\n",
       "salvage      131536.083809\n",
       "good         119725.907267\n",
       "excellent    107684.635000\n",
       "new           74487.712434\n",
       "like new      57203.624545\n",
       "Name: odometer, dtype: float64"
      ]
     },
     "execution_count": 178,
     "metadata": {},
     "output_type": "execute_result"
    }
   ],
   "source": [
    "df_new.groupby('condition')['odometer'].mean().sort_values(ascending=False)"
   ]
  },
  {
   "cell_type": "code",
   "execution_count": 179,
   "metadata": {},
   "outputs": [],
   "source": [
    "#write a funcion to replace missing values in the odometer column using the condition column\n",
    "def replace_odometer(cols):\n",
    "    odometer = cols[0]\n",
    "    condition = cols[1]\n",
    "    \n",
    "    if pd.isnull(odometer):\n",
    "        \n",
    "        if (condition == 'fair'):\n",
    "            return 155484.937060\n",
    "        elif (condition == 'salvage'):\n",
    "            return 131536.083809\n",
    "        elif (condition == 'good'):\n",
    "            return 119725.907267\n",
    "        elif (condition == 'excellent'):\n",
    "            return 107684.635000\n",
    "        elif (condition == 'like new'):\n",
    "            return 57203.624545\n",
    "        elif (condition == 'new'):\n",
    "            return 74487.712434\n",
    "\n",
    "        \n",
    "    else:\n",
    "        return odometer\n",
    "    "
   ]
  },
  {
   "cell_type": "code",
   "execution_count": 180,
   "metadata": {},
   "outputs": [],
   "source": [
    "#replace missing values in the odometer colum using the function above\n",
    "df_new['odometer']= df_new[['odometer', 'condition']].apply(replace_odometer,axis =1)"
   ]
  },
  {
   "cell_type": "code",
   "execution_count": 181,
   "metadata": {},
   "outputs": [
    {
     "data": {
      "text/plain": [
       "condition\n",
       "fair         14.229189\n",
       "salvage      11.219861\n",
       "good         11.110234\n",
       "new           9.574671\n",
       "excellent     9.476821\n",
       "like new      4.980624\n",
       "Name: car_age, dtype: float64"
      ]
     },
     "execution_count": 181,
     "metadata": {},
     "output_type": "execute_result"
    }
   ],
   "source": [
    "df_new.groupby('condition')['car_age'].mean().sort_values(ascending=False)"
   ]
  },
  {
   "cell_type": "code",
   "execution_count": 182,
   "metadata": {},
   "outputs": [],
   "source": [
    "#write a funcion to replace missing values in the car_age column using the condition column\n",
    "def replace_car_age(cols):\n",
    "    car_age = cols[0]\n",
    "    condition = cols[1]\n",
    "    \n",
    "    if pd.isnull(car_age):\n",
    "        \n",
    "        if (condition == 'fair'):\n",
    "            return 14.229189\n",
    "        elif (condition == 'salvage'):\n",
    "            return 11.219861\n",
    "        elif (condition == 'good'):\n",
    "            return 11.110234\n",
    "        elif (condition == 'excellent'):\n",
    "            return 9.574671\n",
    "        elif (condition == 'like new'):\n",
    "            return 9.476821\n",
    "        elif (condition == 'new'):\n",
    "            return 4.980624\n",
    "\n",
    "        \n",
    "    else:\n",
    "        return car_age\n",
    "    "
   ]
  },
  {
   "cell_type": "code",
   "execution_count": 183,
   "metadata": {},
   "outputs": [],
   "source": [
    "#replace missing values in the car_age colum using the function above\n",
    "df_new['car_age']= df_new[['car_age', 'condition']].apply(replace_car_age,axis =1)"
   ]
  },
  {
   "cell_type": "code",
   "execution_count": 184,
   "metadata": {},
   "outputs": [
    {
     "data": {
      "text/html": [
       "<div>\n",
       "<style scoped>\n",
       "    .dataframe tbody tr th:only-of-type {\n",
       "        vertical-align: middle;\n",
       "    }\n",
       "\n",
       "    .dataframe tbody tr th {\n",
       "        vertical-align: top;\n",
       "    }\n",
       "\n",
       "    .dataframe thead th {\n",
       "        text-align: right;\n",
       "    }\n",
       "</style>\n",
       "<table border=\"1\" class=\"dataframe\">\n",
       "  <thead>\n",
       "    <tr style=\"text-align: right;\">\n",
       "      <th></th>\n",
       "      <th>missing_values</th>\n",
       "      <th>missing_percentages</th>\n",
       "    </tr>\n",
       "  </thead>\n",
       "  <tbody>\n",
       "    <tr>\n",
       "      <th>cylinders</th>\n",
       "      <td>147836</td>\n",
       "      <td>54.44</td>\n",
       "    </tr>\n",
       "    <tr>\n",
       "      <th>paint_color</th>\n",
       "      <td>136888</td>\n",
       "      <td>50.40</td>\n",
       "    </tr>\n",
       "    <tr>\n",
       "      <th>drive</th>\n",
       "      <td>136366</td>\n",
       "      <td>50.21</td>\n",
       "    </tr>\n",
       "    <tr>\n",
       "      <th>type</th>\n",
       "      <td>134254</td>\n",
       "      <td>49.43</td>\n",
       "    </tr>\n",
       "    <tr>\n",
       "      <th>manufacturer</th>\n",
       "      <td>84863</td>\n",
       "      <td>31.25</td>\n",
       "    </tr>\n",
       "    <tr>\n",
       "      <th>condition</th>\n",
       "      <td>82371</td>\n",
       "      <td>30.33</td>\n",
       "    </tr>\n",
       "    <tr>\n",
       "      <th>odometer</th>\n",
       "      <td>81416</td>\n",
       "      <td>29.98</td>\n",
       "    </tr>\n",
       "    <tr>\n",
       "      <th>model</th>\n",
       "      <td>80010</td>\n",
       "      <td>29.46</td>\n",
       "    </tr>\n",
       "    <tr>\n",
       "      <th>fuel</th>\n",
       "      <td>79020</td>\n",
       "      <td>29.10</td>\n",
       "    </tr>\n",
       "    <tr>\n",
       "      <th>title_status</th>\n",
       "      <td>78758</td>\n",
       "      <td>29.00</td>\n",
       "    </tr>\n",
       "    <tr>\n",
       "      <th>transmission</th>\n",
       "      <td>78450</td>\n",
       "      <td>28.89</td>\n",
       "    </tr>\n",
       "    <tr>\n",
       "      <th>car_age</th>\n",
       "      <td>77873</td>\n",
       "      <td>28.67</td>\n",
       "    </tr>\n",
       "    <tr>\n",
       "      <th>price</th>\n",
       "      <td>0</td>\n",
       "      <td>0.00</td>\n",
       "    </tr>\n",
       "  </tbody>\n",
       "</table>\n",
       "</div>"
      ],
      "text/plain": [
       "              missing_values  missing_percentages\n",
       "cylinders             147836                54.44\n",
       "paint_color           136888                50.40\n",
       "drive                 136366                50.21\n",
       "type                  134254                49.43\n",
       "manufacturer           84863                31.25\n",
       "condition              82371                30.33\n",
       "odometer               81416                29.98\n",
       "model                  80010                29.46\n",
       "fuel                   79020                29.10\n",
       "title_status           78758                29.00\n",
       "transmission           78450                28.89\n",
       "car_age                77873                28.67\n",
       "price                      0                 0.00"
      ]
     },
     "execution_count": 184,
     "metadata": {},
     "output_type": "execute_result"
    }
   ],
   "source": [
    "#check missing values\n",
    "missing_values = df_new.isnull().sum()\n",
    "#check percentages of missing data in each column\n",
    "missing_percentage = round((df_new.isnull().sum()/df_new.shape[0] *100),2)\n",
    "#Put the in a dataframe\n",
    "missing_df = pd.DataFrame(missing_values, columns = ['missing_values'])\n",
    "missing_p = pd.DataFrame(missing_percentage, columns = ['missing_percentages'])\n",
    "missing_df['missing_percentages'] = missing_p\n",
    "missing_df.sort_values(by = 'missing_percentages', ascending=False)"
   ]
  },
  {
   "cell_type": "markdown",
   "metadata": {},
   "source": [
    "The NaN values in the odometer column have reduced from 150953 to 81416, while those in the car_age column have only reduced from 94677 to 77873 "
   ]
  },
  {
   "cell_type": "code",
   "execution_count": 185,
   "metadata": {},
   "outputs": [
    {
     "data": {
      "text/plain": [
       "condition\n",
       "like new     18314.322260\n",
       "new          13672.937378\n",
       "excellent    12342.248377\n",
       "good         10151.324183\n",
       "salvage       9532.775974\n",
       "fair          6975.936894\n",
       "Name: price, dtype: float64"
      ]
     },
     "execution_count": 185,
     "metadata": {},
     "output_type": "execute_result"
    }
   ],
   "source": [
    "df_new.groupby('condition')['price'].mean().sort_values(ascending=False)"
   ]
  },
  {
   "cell_type": "code",
   "execution_count": 186,
   "metadata": {},
   "outputs": [
    {
     "data": {
      "text/plain": [
       "Text(0, 0.5, 'Mean Price')"
      ]
     },
     "execution_count": 186,
     "metadata": {},
     "output_type": "execute_result"
    },
    {
     "data": {
      "image/png": "[encoded data removed]",
      "text/plain": [
       "<Figure size 1080x720 with 1 Axes>"
      ]
     },
     "metadata": {
      "needs_background": "light"
     },
     "output_type": "display_data"
    }
   ],
   "source": [
    "plt.figure(figsize = (15, 10))\n",
    "d =df_new.groupby('condition')['price'].mean().sort_values(ascending=False)\n",
    "plot = sns.barplot(x = 'condition', y = 'price', data = df_new, order = d.index)\n",
    "plt.xticks(rotation = 90)\n",
    "\n",
    "plt.title(\"Car prices according to car condition\")\n",
    "plt.xlabel(\"Condition\")\n",
    "plt.ylabel(\"Mean Price\")"
   ]
  },
  {
   "cell_type": "markdown",
   "metadata": {},
   "source": [
    "cars in fair conditions are the cheapest and like new cars, the most expensive"
   ]
  },
  {
   "cell_type": "code",
   "execution_count": 187,
   "metadata": {},
   "outputs": [
    {
     "data": {
      "text/plain": [
       "Text(0, 0.5, 'Mean Price')"
      ]
     },
     "execution_count": 187,
     "metadata": {},
     "output_type": "execute_result"
    },
    {
     "data": {
      "image/png": "[encoded data removed]",
      "text/plain": [
       "<Figure size 1080x720 with 1 Axes>"
      ]
     },
     "metadata": {
      "needs_background": "light"
     },
     "output_type": "display_data"
    }
   ],
   "source": [
    "plt.figure(figsize = (15, 10))\n",
    "d =df_new.groupby('paint_color')['price'].mean().sort_values(ascending=False)\n",
    "plot = sns.barplot(x = 'paint_color', y = 'price', data = df_new, order = d.index)\n",
    "plt.xticks(rotation = 90)\n",
    "\n",
    "plt.title(\"Car prices according to paint color\")\n",
    "plt.xlabel(\"Paint color\")\n",
    "plt.ylabel(\"Mean Price\")"
   ]
  },
  {
   "cell_type": "markdown",
   "metadata": {},
   "source": [
    "On average, orange cars are the most expensive"
   ]
  },
  {
   "cell_type": "code",
   "execution_count": 188,
   "metadata": {},
   "outputs": [
    {
     "data": {
      "text/plain": [
       "white     31655\n",
       "black     26015\n",
       "silver    21287\n",
       "grey      14517\n",
       "blue      14467\n",
       "red       13595\n",
       "custom     4079\n",
       "green      3839\n",
       "brown      3101\n",
       "yellow      917\n",
       "orange      770\n",
       "purple      447\n",
       "Name: paint_color, dtype: int64"
      ]
     },
     "execution_count": 188,
     "metadata": {},
     "output_type": "execute_result"
    }
   ],
   "source": [
    "df_new['paint_color'].value_counts()"
   ]
  },
  {
   "cell_type": "code",
   "execution_count": 189,
   "metadata": {},
   "outputs": [
    {
     "data": {
      "text/html": [
       "<div>\n",
       "<style scoped>\n",
       "    .dataframe tbody tr th:only-of-type {\n",
       "        vertical-align: middle;\n",
       "    }\n",
       "\n",
       "    .dataframe tbody tr th {\n",
       "        vertical-align: top;\n",
       "    }\n",
       "\n",
       "    .dataframe thead th {\n",
       "        text-align: right;\n",
       "    }\n",
       "</style>\n",
       "<table border=\"1\" class=\"dataframe\">\n",
       "  <thead>\n",
       "    <tr style=\"text-align: right;\">\n",
       "      <th></th>\n",
       "      <th>missing_values</th>\n",
       "      <th>missing_percentages</th>\n",
       "    </tr>\n",
       "  </thead>\n",
       "  <tbody>\n",
       "    <tr>\n",
       "      <th>cylinders</th>\n",
       "      <td>147836</td>\n",
       "      <td>54.44</td>\n",
       "    </tr>\n",
       "    <tr>\n",
       "      <th>paint_color</th>\n",
       "      <td>136888</td>\n",
       "      <td>50.40</td>\n",
       "    </tr>\n",
       "    <tr>\n",
       "      <th>drive</th>\n",
       "      <td>136366</td>\n",
       "      <td>50.21</td>\n",
       "    </tr>\n",
       "    <tr>\n",
       "      <th>type</th>\n",
       "      <td>134254</td>\n",
       "      <td>49.43</td>\n",
       "    </tr>\n",
       "    <tr>\n",
       "      <th>manufacturer</th>\n",
       "      <td>84863</td>\n",
       "      <td>31.25</td>\n",
       "    </tr>\n",
       "    <tr>\n",
       "      <th>condition</th>\n",
       "      <td>82371</td>\n",
       "      <td>30.33</td>\n",
       "    </tr>\n",
       "    <tr>\n",
       "      <th>odometer</th>\n",
       "      <td>81416</td>\n",
       "      <td>29.98</td>\n",
       "    </tr>\n",
       "    <tr>\n",
       "      <th>model</th>\n",
       "      <td>80010</td>\n",
       "      <td>29.46</td>\n",
       "    </tr>\n",
       "    <tr>\n",
       "      <th>fuel</th>\n",
       "      <td>79020</td>\n",
       "      <td>29.10</td>\n",
       "    </tr>\n",
       "    <tr>\n",
       "      <th>title_status</th>\n",
       "      <td>78758</td>\n",
       "      <td>29.00</td>\n",
       "    </tr>\n",
       "    <tr>\n",
       "      <th>transmission</th>\n",
       "      <td>78450</td>\n",
       "      <td>28.89</td>\n",
       "    </tr>\n",
       "    <tr>\n",
       "      <th>car_age</th>\n",
       "      <td>77873</td>\n",
       "      <td>28.67</td>\n",
       "    </tr>\n",
       "    <tr>\n",
       "      <th>price</th>\n",
       "      <td>0</td>\n",
       "      <td>0.00</td>\n",
       "    </tr>\n",
       "  </tbody>\n",
       "</table>\n",
       "</div>"
      ],
      "text/plain": [
       "              missing_values  missing_percentages\n",
       "cylinders             147836                54.44\n",
       "paint_color           136888                50.40\n",
       "drive                 136366                50.21\n",
       "type                  134254                49.43\n",
       "manufacturer           84863                31.25\n",
       "condition              82371                30.33\n",
       "odometer               81416                29.98\n",
       "model                  80010                29.46\n",
       "fuel                   79020                29.10\n",
       "title_status           78758                29.00\n",
       "transmission           78450                28.89\n",
       "car_age                77873                28.67\n",
       "price                      0                 0.00"
      ]
     },
     "execution_count": 189,
     "metadata": {},
     "output_type": "execute_result"
    }
   ],
   "source": [
    "#check missing values\n",
    "missing_values = df_new.isnull().sum()\n",
    "#check percentages of missing data in each column\n",
    "missing_percentage = round((df_new.isnull().sum()/df_new.shape[0] *100),2)\n",
    "#Put the in a dataframe\n",
    "missing_df = pd.DataFrame(missing_values, columns = ['missing_values'])\n",
    "missing_p = pd.DataFrame(missing_percentage, columns = ['missing_percentages'])\n",
    "missing_df['missing_percentages'] = missing_p\n",
    "missing_df.sort_values(by = 'missing_percentages', ascending=False)"
   ]
  },
  {
   "cell_type": "code",
   "execution_count": 190,
   "metadata": {},
   "outputs": [
    {
     "data": {
      "text/plain": [
       "sedan          41753\n",
       "SUV            38003\n",
       "truck          11779\n",
       "pickup         10909\n",
       "hatchback       6732\n",
       "coupe           6497\n",
       "other           5154\n",
       "wagon           4764\n",
       "van             3978\n",
       "mini-van        3894\n",
       "convertible     3329\n",
       "offroad          312\n",
       "bus              219\n",
       "Name: type, dtype: int64"
      ]
     },
     "execution_count": 190,
     "metadata": {},
     "output_type": "execute_result"
    }
   ],
   "source": [
    "df_new['type'].value_counts()"
   ]
  },
  {
   "cell_type": "code",
   "execution_count": 191,
   "metadata": {},
   "outputs": [
    {
     "data": {
      "text/plain": [
       "fwd    60274\n",
       "4wd    52624\n",
       "rwd    22313\n",
       "Name: drive, dtype: int64"
      ]
     },
     "execution_count": 191,
     "metadata": {},
     "output_type": "execute_result"
    }
   ],
   "source": [
    "df_new['drive'].value_counts()"
   ]
  },
  {
   "cell_type": "code",
   "execution_count": 192,
   "metadata": {},
   "outputs": [
    {
     "data": {
      "text/plain": [
       "<AxesSubplot:xlabel='type', ylabel='price'>"
      ]
     },
     "execution_count": 192,
     "metadata": {},
     "output_type": "execute_result"
    },
    {
     "data": {
      "image/png": "[encoded data removed]",
      "text/plain": [
       "<Figure size 720x504 with 1 Axes>"
      ]
     },
     "metadata": {
      "needs_background": "light"
     },
     "output_type": "display_data"
    }
   ],
   "source": [
    "plt.figure(figsize = (10, 7))\n",
    "sns.boxplot(x='type',y='price',data=df_new,palette='rainbow')"
   ]
  },
  {
   "cell_type": "code",
   "execution_count": 193,
   "metadata": {},
   "outputs": [
    {
     "data": {
      "text/plain": [
       "<AxesSubplot:xlabel='type', ylabel='price'>"
      ]
     },
     "execution_count": 193,
     "metadata": {},
     "output_type": "execute_result"
    },
    {
     "data": {
      "image/png": "[encoded data removed]",
      "text/plain": [
       "<Figure size 1080x720 with 1 Axes>"
      ]
     },
     "metadata": {
      "needs_background": "light"
     },
     "output_type": "display_data"
    }
   ],
   "source": [
    "plt.figure(figsize = (15, 10))\n",
    "sns.boxplot(x='type',y='price', hue = 'drive', data=df_new,palette='rainbow')"
   ]
  },
  {
   "cell_type": "code",
   "execution_count": 194,
   "metadata": {},
   "outputs": [
    {
     "data": {
      "text/plain": [
       "Index(['price', 'manufacturer', 'model', 'condition', 'cylinders', 'fuel',\n",
       "       'odometer', 'title_status', 'transmission', 'drive', 'type',\n",
       "       'paint_color', 'car_age'],\n",
       "      dtype='object')"
      ]
     },
     "execution_count": 194,
     "metadata": {},
     "output_type": "execute_result"
    }
   ],
   "source": [
    "df_new.columns"
   ]
  },
  {
   "cell_type": "code",
   "execution_count": 195,
   "metadata": {},
   "outputs": [
    {
     "data": {
      "text/plain": [
       "Text(0, 0.5, 'Mean Price')"
      ]
     },
     "execution_count": 195,
     "metadata": {},
     "output_type": "execute_result"
    },
    {
     "data": {
      "image/png": "[encoded data removed]",
      "text/plain": [
       "<Figure size 864x504 with 1 Axes>"
      ]
     },
     "metadata": {
      "needs_background": "light"
     },
     "output_type": "display_data"
    }
   ],
   "source": [
    "plt.figure(figsize = (12, 7))\n",
    "d =df_new.groupby('cylinders')['price'].mean().sort_values(ascending=False)\n",
    "plot = sns.barplot(x = 'cylinders', y = 'price', data = df_new, order = d.index)\n",
    "plt.xticks(rotation = 90)\n",
    "\n",
    "plt.title(\"Car cylinders and prices\")\n",
    "plt.xlabel(\"Number of cylinders\")\n",
    "plt.ylabel(\"Mean Price\")"
   ]
  },
  {
   "cell_type": "markdown",
   "metadata": {},
   "source": [
    "On average, Vehicles with 8 cylinders are the most expensive"
   ]
  },
  {
   "cell_type": "code",
   "execution_count": 196,
   "metadata": {},
   "outputs": [
    {
     "data": {
      "text/plain": [
       "Text(0, 0.5, 'Mean Price')"
      ]
     },
     "execution_count": 196,
     "metadata": {},
     "output_type": "execute_result"
    },
    {
     "data": {
      "image/png": "[encoded data removed]",
      "text/plain": [
       "<Figure size 864x504 with 1 Axes>"
      ]
     },
     "metadata": {
      "needs_background": "light"
     },
     "output_type": "display_data"
    }
   ],
   "source": [
    "plt.figure(figsize = (12, 7))\n",
    "d =df_new.groupby('transmission')['price'].mean().sort_values(ascending=False)\n",
    "plot = sns.barplot(x = 'transmission', y = 'price', hue = 'drive', data = df_new)\n",
    "plt.xticks(rotation = 90)\n",
    "\n",
    "plt.title(\"Car prices according to transmission and drives\")\n",
    "plt.xlabel(\"transmission and drive\")\n",
    "plt.ylabel(\"Mean Price\")"
   ]
  },
  {
   "cell_type": "code",
   "execution_count": 197,
   "metadata": {},
   "outputs": [
    {
     "data": {
      "text/plain": [
       "Text(0, 0.5, 'Mean Price')"
      ]
     },
     "execution_count": 197,
     "metadata": {},
     "output_type": "execute_result"
    },
    {
     "data": {
      "image/png": "[encoded data removed]",
      "text/plain": [
       "<Figure size 864x504 with 1 Axes>"
      ]
     },
     "metadata": {
      "needs_background": "light"
     },
     "output_type": "display_data"
    }
   ],
   "source": [
    "plt.figure(figsize = (12, 7))\n",
    "d =df_new.groupby('type')['price'].mean().sort_values(ascending=False)\n",
    "plot = sns.barplot(x = 'type', y = 'price', hue = 'drive', data = df_new)\n",
    "plt.xticks(rotation = 90)\n",
    "\n",
    "plt.title(\"Car prices according to car types and drives\")\n",
    "plt.xlabel(\"type and drive\")\n",
    "plt.ylabel(\"Mean Price\")"
   ]
  },
  {
   "cell_type": "code",
   "execution_count": 198,
   "metadata": {},
   "outputs": [
    {
     "data": {
      "text/plain": [
       "Text(0, 0.5, 'Count')"
      ]
     },
     "execution_count": 198,
     "metadata": {},
     "output_type": "execute_result"
    },
    {
     "data": {
      "image/png": "[encoded data removed]",
      "text/plain": [
       "<Figure size 864x504 with 1 Axes>"
      ]
     },
     "metadata": {
      "needs_background": "light"
     },
     "output_type": "display_data"
    }
   ],
   "source": [
    "plt.figure(figsize = (12, 7))\n",
    "plot = sns.countplot(x = 'type', data = df_new)\n",
    "plt.xticks(rotation = 90)\n",
    "\n",
    "plt.title(\"Count of car types\")\n",
    "plt.xlabel(\"type\")\n",
    "plt.ylabel(\"Count\")"
   ]
  },
  {
   "cell_type": "code",
   "execution_count": 199,
   "metadata": {},
   "outputs": [
    {
     "data": {
      "text/plain": [
       "Text(0, 0.5, 'Count')"
      ]
     },
     "execution_count": 199,
     "metadata": {},
     "output_type": "execute_result"
    },
    {
     "data": {
      "image/png": "[encoded data removed]",
      "text/plain": [
       "<Figure size 864x504 with 1 Axes>"
      ]
     },
     "metadata": {
      "needs_background": "light"
     },
     "output_type": "display_data"
    }
   ],
   "source": [
    "plt.figure(figsize = (12, 7))\n",
    "plot = sns.countplot(x = 'drive', data = df_new)\n",
    "plt.xticks(rotation = 90)\n",
    "\n",
    "plt.title(\"Count of car drives\")\n",
    "plt.xlabel(\"drive\")\n",
    "plt.ylabel(\"Count\")"
   ]
  },
  {
   "cell_type": "markdown",
   "metadata": {},
   "source": [
    "######  Let's group type and drive and see if we can use the insight we get to fill missing values:"
   ]
  },
  {
   "cell_type": "code",
   "execution_count": 200,
   "metadata": {},
   "outputs": [
    {
     "data": {
      "text/plain": [
       "type         drive\n",
       "SUV          4wd      22382\n",
       "             fwd       8736\n",
       "             rwd       2164\n",
       "bus          4wd          3\n",
       "             fwd         16\n",
       "             rwd        139\n",
       "convertible  4wd        145\n",
       "             fwd        740\n",
       "             rwd       1905\n",
       "coupe        4wd        273\n",
       "             fwd       2293\n",
       "             rwd       3034\n",
       "hatchback    4wd        543\n",
       "             fwd       4839\n",
       "             rwd        233\n",
       "mini-van     4wd        120\n",
       "             fwd       3193\n",
       "             rwd        106\n",
       "offroad      4wd        282\n",
       "             fwd          4\n",
       "             rwd         10\n",
       "other        4wd        533\n",
       "             fwd       1079\n",
       "             rwd        531\n",
       "pickup       4wd       7083\n",
       "             fwd        453\n",
       "             rwd       2188\n",
       "sedan        4wd       3561\n",
       "             fwd      28401\n",
       "             rwd       4163\n",
       "truck        4wd       7395\n",
       "             fwd        250\n",
       "             rwd       3213\n",
       "van          4wd        153\n",
       "             fwd       1819\n",
       "             rwd       1517\n",
       "wagon        4wd       2245\n",
       "             fwd       1755\n",
       "             rwd        157\n",
       "dtype: int64"
      ]
     },
     "execution_count": 200,
     "metadata": {},
     "output_type": "execute_result"
    }
   ],
   "source": [
    "df_new.groupby(['type', 'drive']).size()"
   ]
  },
  {
   "cell_type": "code",
   "execution_count": 201,
   "metadata": {},
   "outputs": [
    {
     "data": {
      "text/plain": [
       "sedan          41753\n",
       "SUV            38003\n",
       "truck          11779\n",
       "pickup         10909\n",
       "hatchback       6732\n",
       "coupe           6497\n",
       "other           5154\n",
       "wagon           4764\n",
       "van             3978\n",
       "mini-van        3894\n",
       "convertible     3329\n",
       "offroad          312\n",
       "bus              219\n",
       "Name: type, dtype: int64"
      ]
     },
     "execution_count": 201,
     "metadata": {},
     "output_type": "execute_result"
    }
   ],
   "source": [
    "df_new['type'].value_counts()"
   ]
  },
  {
   "cell_type": "code",
   "execution_count": 202,
   "metadata": {},
   "outputs": [
    {
     "data": {
      "text/plain": [
       "fwd    60274\n",
       "4wd    52624\n",
       "rwd    22313\n",
       "Name: drive, dtype: int64"
      ]
     },
     "execution_count": 202,
     "metadata": {},
     "output_type": "execute_result"
    }
   ],
   "source": [
    "df_new['drive'].value_counts()"
   ]
  },
  {
   "cell_type": "code",
   "execution_count": 203,
   "metadata": {},
   "outputs": [
    {
     "data": {
      "text/html": [
       "<div>\n",
       "<style scoped>\n",
       "    .dataframe tbody tr th:only-of-type {\n",
       "        vertical-align: middle;\n",
       "    }\n",
       "\n",
       "    .dataframe tbody tr th {\n",
       "        vertical-align: top;\n",
       "    }\n",
       "\n",
       "    .dataframe thead th {\n",
       "        text-align: right;\n",
       "    }\n",
       "</style>\n",
       "<table border=\"1\" class=\"dataframe\">\n",
       "  <thead>\n",
       "    <tr style=\"text-align: right;\">\n",
       "      <th>drive</th>\n",
       "      <th>4wd</th>\n",
       "      <th>fwd</th>\n",
       "      <th>rwd</th>\n",
       "    </tr>\n",
       "    <tr>\n",
       "      <th>type</th>\n",
       "      <th></th>\n",
       "      <th></th>\n",
       "      <th></th>\n",
       "    </tr>\n",
       "  </thead>\n",
       "  <tbody>\n",
       "    <tr>\n",
       "      <th>SUV</th>\n",
       "      <td>22382</td>\n",
       "      <td>8736</td>\n",
       "      <td>2164</td>\n",
       "    </tr>\n",
       "    <tr>\n",
       "      <th>bus</th>\n",
       "      <td>3</td>\n",
       "      <td>16</td>\n",
       "      <td>139</td>\n",
       "    </tr>\n",
       "    <tr>\n",
       "      <th>convertible</th>\n",
       "      <td>145</td>\n",
       "      <td>740</td>\n",
       "      <td>1905</td>\n",
       "    </tr>\n",
       "    <tr>\n",
       "      <th>coupe</th>\n",
       "      <td>273</td>\n",
       "      <td>2293</td>\n",
       "      <td>3034</td>\n",
       "    </tr>\n",
       "    <tr>\n",
       "      <th>hatchback</th>\n",
       "      <td>543</td>\n",
       "      <td>4839</td>\n",
       "      <td>233</td>\n",
       "    </tr>\n",
       "    <tr>\n",
       "      <th>mini-van</th>\n",
       "      <td>120</td>\n",
       "      <td>3193</td>\n",
       "      <td>106</td>\n",
       "    </tr>\n",
       "    <tr>\n",
       "      <th>offroad</th>\n",
       "      <td>282</td>\n",
       "      <td>4</td>\n",
       "      <td>10</td>\n",
       "    </tr>\n",
       "    <tr>\n",
       "      <th>other</th>\n",
       "      <td>533</td>\n",
       "      <td>1079</td>\n",
       "      <td>531</td>\n",
       "    </tr>\n",
       "    <tr>\n",
       "      <th>pickup</th>\n",
       "      <td>7083</td>\n",
       "      <td>453</td>\n",
       "      <td>2188</td>\n",
       "    </tr>\n",
       "    <tr>\n",
       "      <th>sedan</th>\n",
       "      <td>3561</td>\n",
       "      <td>28401</td>\n",
       "      <td>4163</td>\n",
       "    </tr>\n",
       "    <tr>\n",
       "      <th>truck</th>\n",
       "      <td>7395</td>\n",
       "      <td>250</td>\n",
       "      <td>3213</td>\n",
       "    </tr>\n",
       "    <tr>\n",
       "      <th>van</th>\n",
       "      <td>153</td>\n",
       "      <td>1819</td>\n",
       "      <td>1517</td>\n",
       "    </tr>\n",
       "    <tr>\n",
       "      <th>wagon</th>\n",
       "      <td>2245</td>\n",
       "      <td>1755</td>\n",
       "      <td>157</td>\n",
       "    </tr>\n",
       "  </tbody>\n",
       "</table>\n",
       "</div>"
      ],
      "text/plain": [
       "drive          4wd    fwd   rwd\n",
       "type                           \n",
       "SUV          22382   8736  2164\n",
       "bus              3     16   139\n",
       "convertible    145    740  1905\n",
       "coupe          273   2293  3034\n",
       "hatchback      543   4839   233\n",
       "mini-van       120   3193   106\n",
       "offroad        282      4    10\n",
       "other          533   1079   531\n",
       "pickup        7083    453  2188\n",
       "sedan         3561  28401  4163\n",
       "truck         7395    250  3213\n",
       "van            153   1819  1517\n",
       "wagon         2245   1755   157"
      ]
     },
     "execution_count": 203,
     "metadata": {},
     "output_type": "execute_result"
    }
   ],
   "source": [
    "drive_type_table = pd.crosstab(index = df_new['type'], columns = df_new['drive'])\n",
    "drive_type_table"
   ]
  },
  {
   "cell_type": "code",
   "execution_count": 204,
   "metadata": {},
   "outputs": [
    {
     "data": {
      "text/plain": [
       "<AxesSubplot:xlabel='type'>"
      ]
     },
     "execution_count": 204,
     "metadata": {},
     "output_type": "execute_result"
    },
    {
     "data": {
      "image/png": "[encoded data removed]",
      "text/plain": [
       "<Figure size 864x504 with 1 Axes>"
      ]
     },
     "metadata": {
      "needs_background": "light"
     },
     "output_type": "display_data"
    }
   ],
   "source": [
    "drive_type_table.plot(kind=\"bar\", figsize=(12,7), stacked=True)"
   ]
  },
  {
   "cell_type": "markdown",
   "metadata": {},
   "source": [
    "###### We will use the information from the chart above to impute missing values in the drive column using mode"
   ]
  },
  {
   "cell_type": "code",
   "execution_count": 205,
   "metadata": {},
   "outputs": [],
   "source": [
    "#write a funcion to replace missing values in the drive with the mode(most common value) of car types \n",
    "def replace_drive(cols):\n",
    "    drive = cols[0]\n",
    "    typee = cols[1]\n",
    "    \n",
    "    if pd.isnull(drive):\n",
    "        \n",
    "        if (typee == 'SUV'):\n",
    "            return '4wd'\n",
    "        elif (typee == 'bus'):\n",
    "            return 'rwd'\n",
    "        elif (typee == 'convertible'):\n",
    "            return 'rwd'\n",
    "        elif (typee == 'coupe'):\n",
    "            return 'rwd'\n",
    "        elif (typee == 'hatchback'):\n",
    "            return 'fwd'\n",
    "        elif (typee == 'mini-van'):\n",
    "            return 'fwd'\n",
    "        elif (typee == 'offroad'):\n",
    "            return '4wd'\n",
    "        elif (typee == 'other'):\n",
    "            return 'fwd'\n",
    "        elif (typee == 'pickup'):\n",
    "            return '4wd'\n",
    "        elif (typee == 'sedan'):\n",
    "            return 'fwd'\n",
    "        elif (typee == 'truck'):\n",
    "            return '4wd'\n",
    "        elif (typee == 'van'):\n",
    "            return 'fwd'\n",
    "        elif (typee == 'wagon'):\n",
    "            return '4wd'\n",
    "\n",
    "\n",
    "        \n",
    "    else:\n",
    "        return drive\n",
    "    "
   ]
  },
  {
   "cell_type": "code",
   "execution_count": 206,
   "metadata": {},
   "outputs": [],
   "source": [
    "#replace missing values in the drive colum using the function above\n",
    "df_new['drive']= df_new[['drive', 'type']].apply(replace_drive,axis =1)"
   ]
  },
  {
   "cell_type": "markdown",
   "metadata": {},
   "source": [
    "###### We will do the same for type column:"
   ]
  },
  {
   "cell_type": "code",
   "execution_count": 207,
   "metadata": {},
   "outputs": [
    {
     "data": {
      "text/html": [
       "<div>\n",
       "<style scoped>\n",
       "    .dataframe tbody tr th:only-of-type {\n",
       "        vertical-align: middle;\n",
       "    }\n",
       "\n",
       "    .dataframe tbody tr th {\n",
       "        vertical-align: top;\n",
       "    }\n",
       "\n",
       "    .dataframe thead th {\n",
       "        text-align: right;\n",
       "    }\n",
       "</style>\n",
       "<table border=\"1\" class=\"dataframe\">\n",
       "  <thead>\n",
       "    <tr style=\"text-align: right;\">\n",
       "      <th>type</th>\n",
       "      <th>SUV</th>\n",
       "      <th>bus</th>\n",
       "      <th>convertible</th>\n",
       "      <th>coupe</th>\n",
       "      <th>hatchback</th>\n",
       "      <th>mini-van</th>\n",
       "      <th>offroad</th>\n",
       "      <th>other</th>\n",
       "      <th>pickup</th>\n",
       "      <th>sedan</th>\n",
       "      <th>truck</th>\n",
       "      <th>van</th>\n",
       "      <th>wagon</th>\n",
       "    </tr>\n",
       "    <tr>\n",
       "      <th>drive</th>\n",
       "      <th></th>\n",
       "      <th></th>\n",
       "      <th></th>\n",
       "      <th></th>\n",
       "      <th></th>\n",
       "      <th></th>\n",
       "      <th></th>\n",
       "      <th></th>\n",
       "      <th></th>\n",
       "      <th></th>\n",
       "      <th></th>\n",
       "      <th></th>\n",
       "      <th></th>\n",
       "    </tr>\n",
       "  </thead>\n",
       "  <tbody>\n",
       "    <tr>\n",
       "      <th>4wd</th>\n",
       "      <td>27103</td>\n",
       "      <td>3</td>\n",
       "      <td>145</td>\n",
       "      <td>273</td>\n",
       "      <td>543</td>\n",
       "      <td>120</td>\n",
       "      <td>298</td>\n",
       "      <td>533</td>\n",
       "      <td>8268</td>\n",
       "      <td>3561</td>\n",
       "      <td>8316</td>\n",
       "      <td>153</td>\n",
       "      <td>2852</td>\n",
       "    </tr>\n",
       "    <tr>\n",
       "      <th>fwd</th>\n",
       "      <td>8736</td>\n",
       "      <td>16</td>\n",
       "      <td>740</td>\n",
       "      <td>2293</td>\n",
       "      <td>5956</td>\n",
       "      <td>3668</td>\n",
       "      <td>4</td>\n",
       "      <td>4090</td>\n",
       "      <td>453</td>\n",
       "      <td>34029</td>\n",
       "      <td>250</td>\n",
       "      <td>2308</td>\n",
       "      <td>1755</td>\n",
       "    </tr>\n",
       "    <tr>\n",
       "      <th>rwd</th>\n",
       "      <td>2164</td>\n",
       "      <td>200</td>\n",
       "      <td>2444</td>\n",
       "      <td>3931</td>\n",
       "      <td>233</td>\n",
       "      <td>106</td>\n",
       "      <td>10</td>\n",
       "      <td>531</td>\n",
       "      <td>2188</td>\n",
       "      <td>4163</td>\n",
       "      <td>3213</td>\n",
       "      <td>1517</td>\n",
       "      <td>157</td>\n",
       "    </tr>\n",
       "  </tbody>\n",
       "</table>\n",
       "</div>"
      ],
      "text/plain": [
       "type     SUV  bus  convertible  coupe  hatchback  mini-van  offroad  other  \\\n",
       "drive                                                                        \n",
       "4wd    27103    3          145    273        543       120      298    533   \n",
       "fwd     8736   16          740   2293       5956      3668        4   4090   \n",
       "rwd     2164  200         2444   3931        233       106       10    531   \n",
       "\n",
       "type   pickup  sedan  truck   van  wagon  \n",
       "drive                                     \n",
       "4wd      8268   3561   8316   153   2852  \n",
       "fwd       453  34029    250  2308   1755  \n",
       "rwd      2188   4163   3213  1517    157  "
      ]
     },
     "execution_count": 207,
     "metadata": {},
     "output_type": "execute_result"
    }
   ],
   "source": [
    "type_drive_table = pd.crosstab(index = df_new['drive'], columns = df_new['type'])\n",
    "type_drive_table"
   ]
  },
  {
   "cell_type": "code",
   "execution_count": 208,
   "metadata": {},
   "outputs": [
    {
     "data": {
      "text/plain": [
       "<AxesSubplot:xlabel='drive'>"
      ]
     },
     "execution_count": 208,
     "metadata": {},
     "output_type": "execute_result"
    },
    {
     "data": {
      "image/png": "[encoded data removed]",
      "text/plain": [
       "<Figure size 864x504 with 1 Axes>"
      ]
     },
     "metadata": {
      "needs_background": "light"
     },
     "output_type": "display_data"
    }
   ],
   "source": [
    "type_drive_table.plot(kind=\"bar\", figsize=(12,7), stacked=True)"
   ]
  },
  {
   "cell_type": "code",
   "execution_count": 209,
   "metadata": {},
   "outputs": [],
   "source": [
    "#write a funcion to replace missing values in the type with the mode(most common value) of car drives \n",
    "def replace_type(cols):\n",
    "    typee = cols[0]\n",
    "    drive = cols[1]\n",
    "    \n",
    "    if pd.isnull(typee):\n",
    "        \n",
    "        if (drive == '4wd'):\n",
    "            return 'SUV'\n",
    "        elif (drive == 'fwd'):\n",
    "            return 'sedan'\n",
    "        else:\n",
    "            return typee\n",
    "    \n",
    "        \n",
    "    else:\n",
    "        return typee\n",
    "    "
   ]
  },
  {
   "cell_type": "code",
   "execution_count": 210,
   "metadata": {},
   "outputs": [],
   "source": [
    "#replace missing values in the type colum using the function above\n",
    "df_new['type']= df_new[['type', 'drive']].apply(replace_type,axis =1)"
   ]
  },
  {
   "cell_type": "code",
   "execution_count": 211,
   "metadata": {},
   "outputs": [
    {
     "data": {
      "text/html": [
       "<div>\n",
       "<style scoped>\n",
       "    .dataframe tbody tr th:only-of-type {\n",
       "        vertical-align: middle;\n",
       "    }\n",
       "\n",
       "    .dataframe tbody tr th {\n",
       "        vertical-align: top;\n",
       "    }\n",
       "\n",
       "    .dataframe thead th {\n",
       "        text-align: right;\n",
       "    }\n",
       "</style>\n",
       "<table border=\"1\" class=\"dataframe\">\n",
       "  <thead>\n",
       "    <tr style=\"text-align: right;\">\n",
       "      <th></th>\n",
       "      <th>missing_values</th>\n",
       "      <th>missing_percentages</th>\n",
       "    </tr>\n",
       "  </thead>\n",
       "  <tbody>\n",
       "    <tr>\n",
       "      <th>cylinders</th>\n",
       "      <td>147836</td>\n",
       "      <td>54.44</td>\n",
       "    </tr>\n",
       "    <tr>\n",
       "      <th>paint_color</th>\n",
       "      <td>136888</td>\n",
       "      <td>50.40</td>\n",
       "    </tr>\n",
       "    <tr>\n",
       "      <th>type</th>\n",
       "      <td>119652</td>\n",
       "      <td>44.06</td>\n",
       "    </tr>\n",
       "    <tr>\n",
       "      <th>drive</th>\n",
       "      <td>116699</td>\n",
       "      <td>42.97</td>\n",
       "    </tr>\n",
       "    <tr>\n",
       "      <th>manufacturer</th>\n",
       "      <td>84863</td>\n",
       "      <td>31.25</td>\n",
       "    </tr>\n",
       "    <tr>\n",
       "      <th>condition</th>\n",
       "      <td>82371</td>\n",
       "      <td>30.33</td>\n",
       "    </tr>\n",
       "    <tr>\n",
       "      <th>odometer</th>\n",
       "      <td>81416</td>\n",
       "      <td>29.98</td>\n",
       "    </tr>\n",
       "    <tr>\n",
       "      <th>model</th>\n",
       "      <td>80010</td>\n",
       "      <td>29.46</td>\n",
       "    </tr>\n",
       "    <tr>\n",
       "      <th>fuel</th>\n",
       "      <td>79020</td>\n",
       "      <td>29.10</td>\n",
       "    </tr>\n",
       "    <tr>\n",
       "      <th>title_status</th>\n",
       "      <td>78758</td>\n",
       "      <td>29.00</td>\n",
       "    </tr>\n",
       "    <tr>\n",
       "      <th>transmission</th>\n",
       "      <td>78450</td>\n",
       "      <td>28.89</td>\n",
       "    </tr>\n",
       "    <tr>\n",
       "      <th>car_age</th>\n",
       "      <td>77873</td>\n",
       "      <td>28.67</td>\n",
       "    </tr>\n",
       "    <tr>\n",
       "      <th>price</th>\n",
       "      <td>0</td>\n",
       "      <td>0.00</td>\n",
       "    </tr>\n",
       "  </tbody>\n",
       "</table>\n",
       "</div>"
      ],
      "text/plain": [
       "              missing_values  missing_percentages\n",
       "cylinders             147836                54.44\n",
       "paint_color           136888                50.40\n",
       "type                  119652                44.06\n",
       "drive                 116699                42.97\n",
       "manufacturer           84863                31.25\n",
       "condition              82371                30.33\n",
       "odometer               81416                29.98\n",
       "model                  80010                29.46\n",
       "fuel                   79020                29.10\n",
       "title_status           78758                29.00\n",
       "transmission           78450                28.89\n",
       "car_age                77873                28.67\n",
       "price                      0                 0.00"
      ]
     },
     "execution_count": 211,
     "metadata": {},
     "output_type": "execute_result"
    }
   ],
   "source": [
    "#check missing values\n",
    "missing_values = df_new.isnull().sum()\n",
    "#check percentages of missing data in each column\n",
    "missing_percentage = round((df_new.isnull().sum()/df_new.shape[0] *100),2)\n",
    "#Put the in a dataframe\n",
    "missing_df = pd.DataFrame(missing_values, columns = ['missing_values'])\n",
    "missing_p = pd.DataFrame(missing_percentage, columns = ['missing_percentages'])\n",
    "missing_df['missing_percentages'] = missing_p\n",
    "missing_df.sort_values(by = 'missing_percentages', ascending=False)"
   ]
  },
  {
   "cell_type": "code",
   "execution_count": 212,
   "metadata": {},
   "outputs": [
    {
     "data": {
      "text/plain": [
       "Text(0, 0.5, 'Count')"
      ]
     },
     "execution_count": 212,
     "metadata": {},
     "output_type": "execute_result"
    },
    {
     "data": {
      "image/png": "[encoded data removed]",
      "text/plain": [
       "<Figure size 864x504 with 1 Axes>"
      ]
     },
     "metadata": {
      "needs_background": "light"
     },
     "output_type": "display_data"
    }
   ],
   "source": [
    "plt.figure(figsize = (12, 7))\n",
    "d= df_new['type'].value_counts().sort_values(ascending =False)\n",
    "plot = sns.countplot(x = 'type', data = df_new, order = d.index)\n",
    "plt.xticks(rotation = 90)\n",
    "\n",
    "plt.title(\"Count of car types\")\n",
    "plt.xlabel(\"type\")\n",
    "plt.ylabel(\"Count\")"
   ]
  },
  {
   "cell_type": "code",
   "execution_count": 213,
   "metadata": {},
   "outputs": [
    {
     "data": {
      "text/plain": [
       "Text(0, 0.5, 'Count')"
      ]
     },
     "execution_count": 213,
     "metadata": {},
     "output_type": "execute_result"
    },
    {
     "data": {
      "image/png": "[encoded data removed]",
      "text/plain": [
       "<Figure size 864x504 with 1 Axes>"
      ]
     },
     "metadata": {
      "needs_background": "light"
     },
     "output_type": "display_data"
    }
   ],
   "source": [
    "plt.figure(figsize = (12, 7))\n",
    "d= df_new['drive'].value_counts().sort_values(ascending =False)\n",
    "plot = sns.countplot(x = 'drive', data = df_new, order = d.index)\n",
    "plt.xticks(rotation = 90)\n",
    "\n",
    "plt.title(\"Count of car drives\")\n",
    "plt.xlabel(\"drive\")\n",
    "plt.ylabel(\"Count\")"
   ]
  },
  {
   "cell_type": "markdown",
   "metadata": {},
   "source": [
    "The NaN values in drive column have reduced from 164727 to 116699, while NaN values in type column have reduced from  161084 to 119652"
   ]
  },
  {
   "cell_type": "code",
   "execution_count": 214,
   "metadata": {},
   "outputs": [
    {
     "data": {
      "text/plain": [
       "Index(['price', 'manufacturer', 'model', 'condition', 'cylinders', 'fuel',\n",
       "       'odometer', 'title_status', 'transmission', 'drive', 'type',\n",
       "       'paint_color', 'car_age'],\n",
       "      dtype='object')"
      ]
     },
     "execution_count": 214,
     "metadata": {},
     "output_type": "execute_result"
    }
   ],
   "source": [
    "df_new.columns"
   ]
  },
  {
   "cell_type": "code",
   "execution_count": 215,
   "metadata": {},
   "outputs": [
    {
     "data": {
      "text/plain": [
       "automatic    174821\n",
       "manual        13053\n",
       "other          5253\n",
       "Name: transmission, dtype: int64"
      ]
     },
     "execution_count": 215,
     "metadata": {},
     "output_type": "execute_result"
    }
   ],
   "source": [
    "df_new['transmission'].value_counts()"
   ]
  },
  {
   "cell_type": "markdown",
   "metadata": {},
   "source": [
    "###### Majority of transmission is automatic, so we fill NaN values with the modal value', automatic'"
   ]
  },
  {
   "cell_type": "code",
   "execution_count": 216,
   "metadata": {},
   "outputs": [],
   "source": [
    "df_new['transmission']= df_new['transmission'].fillna('automatic')"
   ]
  },
  {
   "cell_type": "code",
   "execution_count": 217,
   "metadata": {},
   "outputs": [
    {
     "data": {
      "text/plain": [
       "0"
      ]
     },
     "execution_count": 217,
     "metadata": {},
     "output_type": "execute_result"
    }
   ],
   "source": [
    "df_new['transmission'].isnull().sum()"
   ]
  },
  {
   "cell_type": "code",
   "execution_count": 218,
   "metadata": {},
   "outputs": [
    {
     "data": {
      "text/plain": [
       "automatic    253271\n",
       "manual        13053\n",
       "other          5253\n",
       "Name: transmission, dtype: int64"
      ]
     },
     "execution_count": 218,
     "metadata": {},
     "output_type": "execute_result"
    }
   ],
   "source": [
    "df_new['transmission'].value_counts()"
   ]
  },
  {
   "cell_type": "code",
   "execution_count": 219,
   "metadata": {},
   "outputs": [
    {
     "data": {
      "text/plain": [
       "price                0\n",
       "transmission         0\n",
       "car_age          77873\n",
       "title_status     78758\n",
       "fuel             79020\n",
       "model            80010\n",
       "odometer         81416\n",
       "condition        82371\n",
       "manufacturer     84863\n",
       "drive           116699\n",
       "type            119652\n",
       "paint_color     136888\n",
       "cylinders       147836\n",
       "dtype: int64"
      ]
     },
     "execution_count": 219,
     "metadata": {},
     "output_type": "execute_result"
    }
   ],
   "source": [
    "df_new.isnull().sum().sort_values()"
   ]
  },
  {
   "cell_type": "code",
   "execution_count": 220,
   "metadata": {},
   "outputs": [
    {
     "data": {
      "text/plain": [
       "gas         175060\n",
       "diesel       10051\n",
       "other         4361\n",
       "hybrid        2588\n",
       "electric       497\n",
       "Name: fuel, dtype: int64"
      ]
     },
     "execution_count": 220,
     "metadata": {},
     "output_type": "execute_result"
    }
   ],
   "source": [
    "df_new['fuel'].value_counts()"
   ]
  },
  {
   "cell_type": "markdown",
   "metadata": {},
   "source": [
    "##### Majority of fuel type is gas, so we fill NaN values in the fuel column with the mode, gas:"
   ]
  },
  {
   "cell_type": "code",
   "execution_count": 221,
   "metadata": {},
   "outputs": [
    {
     "data": {
      "text/plain": [
       "79020"
      ]
     },
     "execution_count": 221,
     "metadata": {},
     "output_type": "execute_result"
    }
   ],
   "source": [
    "df_new['fuel'].isnull().sum()"
   ]
  },
  {
   "cell_type": "code",
   "execution_count": 222,
   "metadata": {},
   "outputs": [],
   "source": [
    "df_new['fuel']= df_new['fuel'].fillna('gas')"
   ]
  },
  {
   "cell_type": "code",
   "execution_count": 223,
   "metadata": {},
   "outputs": [
    {
     "data": {
      "text/plain": [
       "0"
      ]
     },
     "execution_count": 223,
     "metadata": {},
     "output_type": "execute_result"
    }
   ],
   "source": [
    "df_new['fuel'].isnull().sum()"
   ]
  },
  {
   "cell_type": "code",
   "execution_count": 224,
   "metadata": {},
   "outputs": [
    {
     "data": {
      "text/plain": [
       "price                0\n",
       "fuel                 0\n",
       "transmission         0\n",
       "car_age          77873\n",
       "title_status     78758\n",
       "model            80010\n",
       "odometer         81416\n",
       "condition        82371\n",
       "manufacturer     84863\n",
       "drive           116699\n",
       "type            119652\n",
       "paint_color     136888\n",
       "cylinders       147836\n",
       "dtype: int64"
      ]
     },
     "execution_count": 224,
     "metadata": {},
     "output_type": "execute_result"
    }
   ],
   "source": [
    "df_new.isnull().sum().sort_values()"
   ]
  },
  {
   "cell_type": "code",
   "execution_count": 225,
   "metadata": {},
   "outputs": [
    {
     "data": {
      "text/plain": [
       "Index(['price', 'manufacturer', 'model', 'condition', 'cylinders', 'fuel',\n",
       "       'odometer', 'title_status', 'transmission', 'drive', 'type',\n",
       "       'paint_color', 'car_age'],\n",
       "      dtype='object')"
      ]
     },
     "execution_count": 225,
     "metadata": {},
     "output_type": "execute_result"
    }
   ],
   "source": [
    "df_new.columns"
   ]
  },
  {
   "cell_type": "markdown",
   "metadata": {},
   "source": [
    "###### We will try our model on two different datasets:\n",
    "1. One where the remaining NaN values are dropped, and\n",
    "2. Another where we'll group Missing values in our categorical features as 'unknown' and only drop NaN values in numerical features.\n",
    "\n",
    "We'll see which one performs better"
   ]
  },
  {
   "cell_type": "code",
   "execution_count": 226,
   "metadata": {},
   "outputs": [],
   "source": [
    "#Dataset with NaN values dropped\n",
    "vehiclesdf_NaNDropped = df_new.dropna()"
   ]
  },
  {
   "cell_type": "code",
   "execution_count": 227,
   "metadata": {},
   "outputs": [],
   "source": [
    "vehiclesdf_NaNDropped.to_csv('vehiclesdf_NaNDropped.csv', index = False)"
   ]
  },
  {
   "cell_type": "code",
   "execution_count": 228,
   "metadata": {},
   "outputs": [],
   "source": [
    "vehiclesdf_withUnknownCat = df_new"
   ]
  },
  {
   "cell_type": "code",
   "execution_count": 229,
   "metadata": {},
   "outputs": [],
   "source": [
    "#vehiclesdf_withUnknownCat['manufacturer'].value_counts()"
   ]
  },
  {
   "cell_type": "code",
   "execution_count": 230,
   "metadata": {},
   "outputs": [
    {
     "data": {
      "text/plain": [
       "84863"
      ]
     },
     "execution_count": 230,
     "metadata": {},
     "output_type": "execute_result"
    }
   ],
   "source": [
    "vehiclesdf_withUnknownCat['manufacturer'].isnull().sum()"
   ]
  },
  {
   "cell_type": "code",
   "execution_count": 231,
   "metadata": {},
   "outputs": [],
   "source": [
    "vehiclesdf_withUnknownCat['manufacturer'] = vehiclesdf_withUnknownCat['manufacturer'].fillna('unknown')"
   ]
  },
  {
   "cell_type": "code",
   "execution_count": 232,
   "metadata": {},
   "outputs": [
    {
     "data": {
      "text/plain": [
       "0"
      ]
     },
     "execution_count": 232,
     "metadata": {},
     "output_type": "execute_result"
    }
   ],
   "source": [
    "vehiclesdf_withUnknownCat['manufacturer'].isnull().sum()"
   ]
  },
  {
   "cell_type": "code",
   "execution_count": 233,
   "metadata": {},
   "outputs": [
    {
     "data": {
      "text/plain": [
       "80010"
      ]
     },
     "execution_count": 233,
     "metadata": {},
     "output_type": "execute_result"
    }
   ],
   "source": [
    "vehiclesdf_withUnknownCat['model'].isnull().sum()"
   ]
  },
  {
   "cell_type": "code",
   "execution_count": 234,
   "metadata": {},
   "outputs": [],
   "source": [
    "vehiclesdf_withUnknownCat['model'] = vehiclesdf_withUnknownCat['model'].fillna('model')"
   ]
  },
  {
   "cell_type": "code",
   "execution_count": 235,
   "metadata": {},
   "outputs": [
    {
     "data": {
      "text/plain": [
       "0"
      ]
     },
     "execution_count": 235,
     "metadata": {},
     "output_type": "execute_result"
    }
   ],
   "source": [
    "vehiclesdf_withUnknownCat['model'].isnull().sum()"
   ]
  },
  {
   "cell_type": "code",
   "execution_count": 236,
   "metadata": {},
   "outputs": [
    {
     "data": {
      "text/plain": [
       "82371"
      ]
     },
     "execution_count": 236,
     "metadata": {},
     "output_type": "execute_result"
    }
   ],
   "source": [
    "vehiclesdf_withUnknownCat['condition'].isnull().sum()"
   ]
  },
  {
   "cell_type": "code",
   "execution_count": 237,
   "metadata": {},
   "outputs": [
    {
     "data": {
      "text/plain": [
       "0"
      ]
     },
     "execution_count": 237,
     "metadata": {},
     "output_type": "execute_result"
    }
   ],
   "source": [
    "vehiclesdf_withUnknownCat['condition'] = vehiclesdf_withUnknownCat['condition'].fillna('unknown')\n",
    "vehiclesdf_withUnknownCat['condition'].isnull().sum()"
   ]
  },
  {
   "cell_type": "code",
   "execution_count": 238,
   "metadata": {},
   "outputs": [
    {
     "data": {
      "text/plain": [
       "4 cylinders     48243\n",
       "6 cylinders     45098\n",
       "8 cylinders     27992\n",
       "5 cylinders      1212\n",
       "10 cylinders      500\n",
       "other             378\n",
       "3 cylinders       266\n",
       "12 cylinders       52\n",
       "Name: cylinders, dtype: int64"
      ]
     },
     "execution_count": 238,
     "metadata": {},
     "output_type": "execute_result"
    }
   ],
   "source": [
    "vehiclesdf_withUnknownCat['cylinders'].value_counts()"
   ]
  },
  {
   "cell_type": "code",
   "execution_count": 239,
   "metadata": {},
   "outputs": [
    {
     "data": {
      "text/plain": [
       "0"
      ]
     },
     "execution_count": 239,
     "metadata": {},
     "output_type": "execute_result"
    }
   ],
   "source": [
    "vehiclesdf_withUnknownCat['cylinders'] = vehiclesdf_withUnknownCat['cylinders'].fillna('other')\n",
    "vehiclesdf_withUnknownCat['cylinders'].isnull().sum()"
   ]
  },
  {
   "cell_type": "code",
   "execution_count": 240,
   "metadata": {},
   "outputs": [
    {
     "data": {
      "text/plain": [
       "gas         254080\n",
       "diesel       10051\n",
       "other         4361\n",
       "hybrid        2588\n",
       "electric       497\n",
       "Name: fuel, dtype: int64"
      ]
     },
     "execution_count": 240,
     "metadata": {},
     "output_type": "execute_result"
    }
   ],
   "source": [
    "vehiclesdf_withUnknownCat['fuel'].value_counts()"
   ]
  },
  {
   "cell_type": "code",
   "execution_count": 241,
   "metadata": {},
   "outputs": [
    {
     "data": {
      "text/plain": [
       "0"
      ]
     },
     "execution_count": 241,
     "metadata": {},
     "output_type": "execute_result"
    }
   ],
   "source": [
    "vehiclesdf_withUnknownCat['fuel'] = vehiclesdf_withUnknownCat['fuel'].fillna('other')\n",
    "vehiclesdf_withUnknownCat['fuel'].isnull().sum()"
   ]
  },
  {
   "cell_type": "code",
   "execution_count": 242,
   "metadata": {},
   "outputs": [
    {
     "data": {
      "text/plain": [
       "Index(['price', 'manufacturer', 'model', 'condition', 'cylinders', 'fuel',\n",
       "       'odometer', 'title_status', 'transmission', 'drive', 'type',\n",
       "       'paint_color', 'car_age'],\n",
       "      dtype='object')"
      ]
     },
     "execution_count": 242,
     "metadata": {},
     "output_type": "execute_result"
    }
   ],
   "source": [
    "df_new.columns"
   ]
  },
  {
   "cell_type": "code",
   "execution_count": 243,
   "metadata": {},
   "outputs": [
    {
     "data": {
      "text/plain": [
       "clean         183409\n",
       "rebuilt         5012\n",
       "salvage         2567\n",
       "lien            1620\n",
       "missing          149\n",
       "parts only        62\n",
       "Name: title_status, dtype: int64"
      ]
     },
     "execution_count": 243,
     "metadata": {},
     "output_type": "execute_result"
    }
   ],
   "source": [
    "vehiclesdf_withUnknownCat['title_status'].value_counts()"
   ]
  },
  {
   "cell_type": "code",
   "execution_count": 244,
   "metadata": {},
   "outputs": [
    {
     "data": {
      "text/plain": [
       "0"
      ]
     },
     "execution_count": 244,
     "metadata": {},
     "output_type": "execute_result"
    }
   ],
   "source": [
    "vehiclesdf_withUnknownCat['title_status'] = vehiclesdf_withUnknownCat['title_status'].fillna('unknown')\n",
    "vehiclesdf_withUnknownCat['title_status'].isnull().sum()"
   ]
  },
  {
   "cell_type": "code",
   "execution_count": 245,
   "metadata": {},
   "outputs": [
    {
     "data": {
      "text/plain": [
       "sedan          48449\n",
       "SUV            45909\n",
       "truck          11779\n",
       "pickup         10909\n",
       "hatchback       6732\n",
       "coupe           6497\n",
       "other           5154\n",
       "wagon           4764\n",
       "van             3978\n",
       "mini-van        3894\n",
       "convertible     3329\n",
       "offroad          312\n",
       "bus              219\n",
       "Name: type, dtype: int64"
      ]
     },
     "execution_count": 245,
     "metadata": {},
     "output_type": "execute_result"
    }
   ],
   "source": [
    "vehiclesdf_withUnknownCat['type'].value_counts()"
   ]
  },
  {
   "cell_type": "code",
   "execution_count": 246,
   "metadata": {},
   "outputs": [
    {
     "data": {
      "text/plain": [
       "119652"
      ]
     },
     "execution_count": 246,
     "metadata": {},
     "output_type": "execute_result"
    }
   ],
   "source": [
    "vehiclesdf_withUnknownCat['type'].isnull().sum()"
   ]
  },
  {
   "cell_type": "code",
   "execution_count": 247,
   "metadata": {},
   "outputs": [
    {
     "data": {
      "text/plain": [
       "0"
      ]
     },
     "execution_count": 247,
     "metadata": {},
     "output_type": "execute_result"
    }
   ],
   "source": [
    "vehiclesdf_withUnknownCat['type'] = vehiclesdf_withUnknownCat['type'].fillna('unknown')\n",
    "vehiclesdf_withUnknownCat['type'].isnull().sum()"
   ]
  },
  {
   "cell_type": "code",
   "execution_count": 248,
   "metadata": {},
   "outputs": [
    {
     "data": {
      "text/plain": [
       "unknown        119652\n",
       "sedan           48449\n",
       "SUV             45909\n",
       "truck           11779\n",
       "pickup          10909\n",
       "hatchback        6732\n",
       "coupe            6497\n",
       "other            5154\n",
       "wagon            4764\n",
       "van              3978\n",
       "mini-van         3894\n",
       "convertible      3329\n",
       "offroad           312\n",
       "bus               219\n",
       "Name: type, dtype: int64"
      ]
     },
     "execution_count": 248,
     "metadata": {},
     "output_type": "execute_result"
    }
   ],
   "source": [
    "vehiclesdf_withUnknownCat['type'].value_counts()"
   ]
  },
  {
   "cell_type": "code",
   "execution_count": 249,
   "metadata": {},
   "outputs": [
    {
     "data": {
      "text/plain": [
       "fwd    70994\n",
       "4wd    60074\n",
       "rwd    23810\n",
       "Name: drive, dtype: int64"
      ]
     },
     "execution_count": 249,
     "metadata": {},
     "output_type": "execute_result"
    }
   ],
   "source": [
    "vehiclesdf_withUnknownCat['drive'].value_counts()"
   ]
  },
  {
   "cell_type": "code",
   "execution_count": 250,
   "metadata": {},
   "outputs": [
    {
     "data": {
      "text/plain": [
       "116699"
      ]
     },
     "execution_count": 250,
     "metadata": {},
     "output_type": "execute_result"
    }
   ],
   "source": [
    "vehiclesdf_withUnknownCat['drive'].isnull().sum()"
   ]
  },
  {
   "cell_type": "code",
   "execution_count": 251,
   "metadata": {},
   "outputs": [
    {
     "data": {
      "text/plain": [
       "0"
      ]
     },
     "execution_count": 251,
     "metadata": {},
     "output_type": "execute_result"
    }
   ],
   "source": [
    "vehiclesdf_withUnknownCat['drive'] = vehiclesdf_withUnknownCat['drive'].fillna('unknown')\n",
    "vehiclesdf_withUnknownCat['drive'].isnull().sum()"
   ]
  },
  {
   "cell_type": "code",
   "execution_count": 252,
   "metadata": {},
   "outputs": [
    {
     "data": {
      "text/plain": [
       "unknown    116699\n",
       "fwd         70994\n",
       "4wd         60074\n",
       "rwd         23810\n",
       "Name: drive, dtype: int64"
      ]
     },
     "execution_count": 252,
     "metadata": {},
     "output_type": "execute_result"
    }
   ],
   "source": [
    "vehiclesdf_withUnknownCat['drive'].value_counts()"
   ]
  },
  {
   "cell_type": "code",
   "execution_count": 253,
   "metadata": {},
   "outputs": [
    {
     "data": {
      "text/plain": [
       "white     31655\n",
       "black     26015\n",
       "silver    21287\n",
       "grey      14517\n",
       "blue      14467\n",
       "red       13595\n",
       "custom     4079\n",
       "green      3839\n",
       "brown      3101\n",
       "yellow      917\n",
       "orange      770\n",
       "purple      447\n",
       "Name: paint_color, dtype: int64"
      ]
     },
     "execution_count": 253,
     "metadata": {},
     "output_type": "execute_result"
    }
   ],
   "source": [
    "vehiclesdf_withUnknownCat['paint_color'].value_counts()"
   ]
  },
  {
   "cell_type": "code",
   "execution_count": 254,
   "metadata": {},
   "outputs": [
    {
     "data": {
      "text/plain": [
       "136888"
      ]
     },
     "execution_count": 254,
     "metadata": {},
     "output_type": "execute_result"
    }
   ],
   "source": [
    "vehiclesdf_withUnknownCat['paint_color'].isnull().sum()"
   ]
  },
  {
   "cell_type": "code",
   "execution_count": 255,
   "metadata": {},
   "outputs": [
    {
     "data": {
      "text/plain": [
       "0"
      ]
     },
     "execution_count": 255,
     "metadata": {},
     "output_type": "execute_result"
    }
   ],
   "source": [
    "vehiclesdf_withUnknownCat['paint_color'] = vehiclesdf_withUnknownCat['paint_color'].fillna('unknown')\n",
    "vehiclesdf_withUnknownCat['paint_color'].isnull().sum()"
   ]
  },
  {
   "cell_type": "code",
   "execution_count": 256,
   "metadata": {},
   "outputs": [
    {
     "data": {
      "text/plain": [
       "price               0\n",
       "manufacturer        0\n",
       "model               0\n",
       "condition           0\n",
       "cylinders           0\n",
       "fuel                0\n",
       "odometer        81416\n",
       "title_status        0\n",
       "transmission        0\n",
       "drive               0\n",
       "type                0\n",
       "paint_color         0\n",
       "car_age         77873\n",
       "dtype: int64"
      ]
     },
     "execution_count": 256,
     "metadata": {},
     "output_type": "execute_result"
    }
   ],
   "source": [
    "df_new.isnull().sum()"
   ]
  },
  {
   "cell_type": "markdown",
   "metadata": {},
   "source": [
    "Now, we only have missing values in the odometer and car_age columns, we'll drop all missing values"
   ]
  },
  {
   "cell_type": "code",
   "execution_count": 257,
   "metadata": {},
   "outputs": [],
   "source": [
    "df_new = df_new.dropna()"
   ]
  },
  {
   "cell_type": "code",
   "execution_count": 258,
   "metadata": {},
   "outputs": [
    {
     "data": {
      "text/plain": [
       "price           0\n",
       "manufacturer    0\n",
       "model           0\n",
       "condition       0\n",
       "cylinders       0\n",
       "fuel            0\n",
       "odometer        0\n",
       "title_status    0\n",
       "transmission    0\n",
       "drive           0\n",
       "type            0\n",
       "paint_color     0\n",
       "car_age         0\n",
       "dtype: int64"
      ]
     },
     "execution_count": 258,
     "metadata": {},
     "output_type": "execute_result"
    }
   ],
   "source": [
    "df_new.isnull().sum()"
   ]
  },
  {
   "cell_type": "code",
   "execution_count": 259,
   "metadata": {},
   "outputs": [
    {
     "name": "stdout",
     "output_type": "stream",
     "text": [
      "<class 'pandas.core.frame.DataFrame'>\n",
      "Int64Index: 190161 entries, 0 to 343024\n",
      "Data columns (total 13 columns):\n",
      " #   Column        Non-Null Count   Dtype  \n",
      "---  ------        --------------   -----  \n",
      " 0   price         190161 non-null  int64  \n",
      " 1   manufacturer  190161 non-null  object \n",
      " 2   model         190161 non-null  object \n",
      " 3   condition     190161 non-null  object \n",
      " 4   cylinders     190161 non-null  object \n",
      " 5   fuel          190161 non-null  object \n",
      " 6   odometer      190161 non-null  float64\n",
      " 7   title_status  190161 non-null  object \n",
      " 8   transmission  190161 non-null  object \n",
      " 9   drive         190161 non-null  object \n",
      " 10  type          190161 non-null  object \n",
      " 11  paint_color   190161 non-null  object \n",
      " 12  car_age       190161 non-null  float64\n",
      "dtypes: float64(2), int64(1), object(10)\n",
      "memory usage: 20.3+ MB\n"
     ]
    }
   ],
   "source": [
    "df_new.info()"
   ]
  },
  {
   "cell_type": "code",
   "execution_count": 260,
   "metadata": {},
   "outputs": [],
   "source": [
    "df_new.to_csv('vehiclesdf_WithUnknownCat.csv', index = False)"
   ]
  },
  {
   "cell_type": "code",
   "execution_count": null,
   "metadata": {},
   "outputs": [],
   "source": []
  }
 ],
 "metadata": {
  "kernelspec": {
   "display_name": "Python 3",
   "language": "python",
   "name": "python3"
  },
  "language_info": {
   "codemirror_mode": {
    "name": "ipython",
    "version": 3
   },
   "file_extension": ".py",
   "mimetype": "text/x-python",
   "name": "python",
   "nbconvert_exporter": "python",
   "pygments_lexer": "ipython3",
   "version": "3.7.4"
  }
 },
 "nbformat": 4,
 "nbformat_minor": 4
}
