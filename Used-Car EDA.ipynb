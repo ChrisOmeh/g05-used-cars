{
 "cells": [
  {
   "cell_type": "markdown",
   "metadata": {},
   "source": [
    "# importing libraries"
   ]
  },
  {
   "cell_type": "code",
   "execution_count": 1,
   "metadata": {},
   "outputs": [
    {
     "data": {
      "text/plain": [
       "<function seaborn.rcmod.set(context='notebook', style='darkgrid', palette='deep', font='sans-serif', font_scale=1, color_codes=True, rc=None)>"
      ]
     },
     "execution_count": 1,
     "metadata": {},
     "output_type": "execute_result"
    }
   ],
   "source": [
    "#importing Libraries\n",
    "import pandas as pd\n",
    "import numpy as np\n",
    "import matplotlib.pyplot as plt\n",
    "import seaborn as sns\n",
    "%matplotlib inline\n",
    "sns.set"
   ]
  },
  {
   "cell_type": "code",
   "execution_count": 2,
   "metadata": {},
   "outputs": [
    {
     "data": {
      "text/html": [
       "<div>\n",
       "<style scoped>\n",
       "    .dataframe tbody tr th:only-of-type {\n",
       "        vertical-align: middle;\n",
       "    }\n",
       "\n",
       "    .dataframe tbody tr th {\n",
       "        vertical-align: top;\n",
       "    }\n",
       "\n",
       "    .dataframe thead th {\n",
       "        text-align: right;\n",
       "    }\n",
       "</style>\n",
       "<table border=\"1\" class=\"dataframe\">\n",
       "  <thead>\n",
       "    <tr style=\"text-align: right;\">\n",
       "      <th></th>\n",
       "      <th>id</th>\n",
       "      <th>url</th>\n",
       "      <th>region</th>\n",
       "      <th>region_url</th>\n",
       "      <th>price</th>\n",
       "      <th>year</th>\n",
       "      <th>manufacturer</th>\n",
       "      <th>model</th>\n",
       "      <th>condition</th>\n",
       "      <th>cylinders</th>\n",
       "      <th>...</th>\n",
       "      <th>drive</th>\n",
       "      <th>size</th>\n",
       "      <th>type</th>\n",
       "      <th>paint_color</th>\n",
       "      <th>image_url</th>\n",
       "      <th>description</th>\n",
       "      <th>county</th>\n",
       "      <th>state</th>\n",
       "      <th>lat</th>\n",
       "      <th>long</th>\n",
       "    </tr>\n",
       "  </thead>\n",
       "  <tbody>\n",
       "    <tr>\n",
       "      <th>0</th>\n",
       "      <td>7184791621</td>\n",
       "      <td>https://duluth.craigslist.org/ctd/d/duluth-200...</td>\n",
       "      <td>duluth / superior</td>\n",
       "      <td>https://duluth.craigslist.org</td>\n",
       "      <td>6995</td>\n",
       "      <td>2000.0</td>\n",
       "      <td>gmc</td>\n",
       "      <td>new sierra 1500</td>\n",
       "      <td>excellent</td>\n",
       "      <td>8 cylinders</td>\n",
       "      <td>...</td>\n",
       "      <td>4wd</td>\n",
       "      <td>NaN</td>\n",
       "      <td>NaN</td>\n",
       "      <td>red</td>\n",
       "      <td>https://images.craigslist.org/00n0n_f06ykBMcdh...</td>\n",
       "      <td>2000 *** GMC New Sierra 1500 Ext Cab 157.5  WB...</td>\n",
       "      <td>NaN</td>\n",
       "      <td>mn</td>\n",
       "      <td>46.8433</td>\n",
       "      <td>-92.2550</td>\n",
       "    </tr>\n",
       "    <tr>\n",
       "      <th>1</th>\n",
       "      <td>7184773187</td>\n",
       "      <td>https://duluth.craigslist.org/cto/d/saginaw-20...</td>\n",
       "      <td>duluth / superior</td>\n",
       "      <td>https://duluth.craigslist.org</td>\n",
       "      <td>8750</td>\n",
       "      <td>2013.0</td>\n",
       "      <td>hyundai</td>\n",
       "      <td>sonata</td>\n",
       "      <td>excellent</td>\n",
       "      <td>4 cylinders</td>\n",
       "      <td>...</td>\n",
       "      <td>fwd</td>\n",
       "      <td>NaN</td>\n",
       "      <td>NaN</td>\n",
       "      <td>grey</td>\n",
       "      <td>https://images.craigslist.org/00d0d_kgZ6xoeRw2...</td>\n",
       "      <td>For Sale:  2013 Hyundai Sonata GLS - $8750.  O...</td>\n",
       "      <td>NaN</td>\n",
       "      <td>mn</td>\n",
       "      <td>46.9074</td>\n",
       "      <td>-92.4638</td>\n",
       "    </tr>\n",
       "    <tr>\n",
       "      <th>2</th>\n",
       "      <td>7193375964</td>\n",
       "      <td>https://newhaven.craigslist.org/cto/d/stratfor...</td>\n",
       "      <td>new haven</td>\n",
       "      <td>https://newhaven.craigslist.org</td>\n",
       "      <td>10900</td>\n",
       "      <td>2013.0</td>\n",
       "      <td>toyota</td>\n",
       "      <td>prius</td>\n",
       "      <td>good</td>\n",
       "      <td>4 cylinders</td>\n",
       "      <td>...</td>\n",
       "      <td>fwd</td>\n",
       "      <td>NaN</td>\n",
       "      <td>NaN</td>\n",
       "      <td>blue</td>\n",
       "      <td>https://images.craigslist.org/00d0d_3sHGxPbY2O...</td>\n",
       "      <td>2013 Prius V Model Two. One owner—must sell my...</td>\n",
       "      <td>NaN</td>\n",
       "      <td>ct</td>\n",
       "      <td>41.1770</td>\n",
       "      <td>-73.1336</td>\n",
       "    </tr>\n",
       "    <tr>\n",
       "      <th>3</th>\n",
       "      <td>7195108810</td>\n",
       "      <td>https://albuquerque.craigslist.org/cto/d/albuq...</td>\n",
       "      <td>albuquerque</td>\n",
       "      <td>https://albuquerque.craigslist.org</td>\n",
       "      <td>12500</td>\n",
       "      <td>2003.0</td>\n",
       "      <td>mitsubishi</td>\n",
       "      <td>lancer</td>\n",
       "      <td>good</td>\n",
       "      <td>4 cylinders</td>\n",
       "      <td>...</td>\n",
       "      <td>4wd</td>\n",
       "      <td>mid-size</td>\n",
       "      <td>sedan</td>\n",
       "      <td>grey</td>\n",
       "      <td>https://images.craigslist.org/00m0m_4a8Pb6JbMG...</td>\n",
       "      <td>2003 Mitsubishi Lancer Evolution, silver.  Abo...</td>\n",
       "      <td>NaN</td>\n",
       "      <td>nm</td>\n",
       "      <td>35.1868</td>\n",
       "      <td>-106.6650</td>\n",
       "    </tr>\n",
       "    <tr>\n",
       "      <th>4</th>\n",
       "      <td>7184712241</td>\n",
       "      <td>https://duluth.craigslist.org/ctd/d/rush-city-...</td>\n",
       "      <td>duluth / superior</td>\n",
       "      <td>https://duluth.craigslist.org</td>\n",
       "      <td>16995</td>\n",
       "      <td>2007.0</td>\n",
       "      <td>gmc</td>\n",
       "      <td>sierra classic 2500hd</td>\n",
       "      <td>good</td>\n",
       "      <td>8 cylinders</td>\n",
       "      <td>...</td>\n",
       "      <td>4wd</td>\n",
       "      <td>full-size</td>\n",
       "      <td>truck</td>\n",
       "      <td>white</td>\n",
       "      <td>https://images.craigslist.org/01414_g093aPtSMW...</td>\n",
       "      <td>**Bad Credit, No Credit... No Problem!**2007 G...</td>\n",
       "      <td>NaN</td>\n",
       "      <td>mn</td>\n",
       "      <td>45.6836</td>\n",
       "      <td>-92.9648</td>\n",
       "    </tr>\n",
       "  </tbody>\n",
       "</table>\n",
       "<p>5 rows × 25 columns</p>\n",
       "</div>"
      ],
      "text/plain": [
       "           id                                                url  \\\n",
       "0  7184791621  https://duluth.craigslist.org/ctd/d/duluth-200...   \n",
       "1  7184773187  https://duluth.craigslist.org/cto/d/saginaw-20...   \n",
       "2  7193375964  https://newhaven.craigslist.org/cto/d/stratfor...   \n",
       "3  7195108810  https://albuquerque.craigslist.org/cto/d/albuq...   \n",
       "4  7184712241  https://duluth.craigslist.org/ctd/d/rush-city-...   \n",
       "\n",
       "              region                          region_url  price    year  \\\n",
       "0  duluth / superior       https://duluth.craigslist.org   6995  2000.0   \n",
       "1  duluth / superior       https://duluth.craigslist.org   8750  2013.0   \n",
       "2          new haven     https://newhaven.craigslist.org  10900  2013.0   \n",
       "3        albuquerque  https://albuquerque.craigslist.org  12500  2003.0   \n",
       "4  duluth / superior       https://duluth.craigslist.org  16995  2007.0   \n",
       "\n",
       "  manufacturer                  model  condition    cylinders  ... drive  \\\n",
       "0          gmc        new sierra 1500  excellent  8 cylinders  ...   4wd   \n",
       "1      hyundai                 sonata  excellent  4 cylinders  ...   fwd   \n",
       "2       toyota                  prius       good  4 cylinders  ...   fwd   \n",
       "3   mitsubishi                 lancer       good  4 cylinders  ...   4wd   \n",
       "4          gmc  sierra classic 2500hd       good  8 cylinders  ...   4wd   \n",
       "\n",
       "        size   type paint_color  \\\n",
       "0        NaN    NaN         red   \n",
       "1        NaN    NaN        grey   \n",
       "2        NaN    NaN        blue   \n",
       "3   mid-size  sedan        grey   \n",
       "4  full-size  truck       white   \n",
       "\n",
       "                                           image_url  \\\n",
       "0  https://images.craigslist.org/00n0n_f06ykBMcdh...   \n",
       "1  https://images.craigslist.org/00d0d_kgZ6xoeRw2...   \n",
       "2  https://images.craigslist.org/00d0d_3sHGxPbY2O...   \n",
       "3  https://images.craigslist.org/00m0m_4a8Pb6JbMG...   \n",
       "4  https://images.craigslist.org/01414_g093aPtSMW...   \n",
       "\n",
       "                                         description county state      lat  \\\n",
       "0  2000 *** GMC New Sierra 1500 Ext Cab 157.5  WB...    NaN    mn  46.8433   \n",
       "1  For Sale:  2013 Hyundai Sonata GLS - $8750.  O...    NaN    mn  46.9074   \n",
       "2  2013 Prius V Model Two. One owner—must sell my...    NaN    ct  41.1770   \n",
       "3  2003 Mitsubishi Lancer Evolution, silver.  Abo...    NaN    nm  35.1868   \n",
       "4  **Bad Credit, No Credit... No Problem!**2007 G...    NaN    mn  45.6836   \n",
       "\n",
       "       long  \n",
       "0  -92.2550  \n",
       "1  -92.4638  \n",
       "2  -73.1336  \n",
       "3 -106.6650  \n",
       "4  -92.9648  \n",
       "\n",
       "[5 rows x 25 columns]"
      ]
     },
     "execution_count": 2,
     "metadata": {},
     "output_type": "execute_result"
    }
   ],
   "source": [
    "#downloading Dataset\n",
    "df = pd.read_csv('C://Users//HP//Downloads//vehicles.csv//vehicles.csv')\n",
    "df.head()"
   ]
  },
  {
   "cell_type": "code",
   "execution_count": 3,
   "metadata": {},
   "outputs": [
    {
     "data": {
      "text/plain": [
       "(423857, 25)"
      ]
     },
     "execution_count": 3,
     "metadata": {},
     "output_type": "execute_result"
    }
   ],
   "source": [
    "df.shape"
   ]
  },
  {
   "cell_type": "code",
   "execution_count": 4,
   "metadata": {},
   "outputs": [
    {
     "name": "stdout",
     "output_type": "stream",
     "text": [
      "<class 'pandas.core.frame.DataFrame'>\n",
      "RangeIndex: 423857 entries, 0 to 423856\n",
      "Data columns (total 25 columns):\n",
      " #   Column        Non-Null Count   Dtype  \n",
      "---  ------        --------------   -----  \n",
      " 0   id            423857 non-null  int64  \n",
      " 1   url           423857 non-null  object \n",
      " 2   region        423857 non-null  object \n",
      " 3   region_url    423857 non-null  object \n",
      " 4   price         423857 non-null  int64  \n",
      " 5   year          328743 non-null  float64\n",
      " 6   manufacturer  313242 non-null  object \n",
      " 7   model         325384 non-null  object \n",
      " 8   condition     176719 non-null  object \n",
      " 9   cylinders     197679 non-null  object \n",
      " 10  fuel          327214 non-null  object \n",
      " 11  odometer      270585 non-null  float64\n",
      " 12  title_status  327759 non-null  object \n",
      " 13  transmission  328065 non-null  object \n",
      " 14  vin           184420 non-null  object \n",
      " 15  drive         231119 non-null  object \n",
      " 16  size          102627 non-null  object \n",
      " 17  type          241157 non-null  object \n",
      " 18  paint_color   222203 non-null  object \n",
      " 19  image_url     329661 non-null  object \n",
      " 20  description   329654 non-null  object \n",
      " 21  county        0 non-null       float64\n",
      " 22  state         423857 non-null  object \n",
      " 23  lat           324404 non-null  float64\n",
      " 24  long          324404 non-null  float64\n",
      "dtypes: float64(5), int64(2), object(18)\n",
      "memory usage: 80.8+ MB\n"
     ]
    }
   ],
   "source": [
    "df.info()"
   ]
  },
  {
   "cell_type": "code",
   "execution_count": 5,
   "metadata": {},
   "outputs": [
    {
     "data": {
      "text/plain": [
       "Index(['id', 'url', 'region', 'region_url', 'price', 'year', 'manufacturer',\n",
       "       'model', 'condition', 'cylinders', 'fuel', 'odometer', 'title_status',\n",
       "       'transmission', 'vin', 'drive', 'size', 'type', 'paint_color',\n",
       "       'image_url', 'description', 'county', 'state', 'lat', 'long'],\n",
       "      dtype='object')"
      ]
     },
     "execution_count": 5,
     "metadata": {},
     "output_type": "execute_result"
    }
   ],
   "source": [
    "df.columns"
   ]
  },
  {
   "cell_type": "markdown",
   "metadata": {},
   "source": [
    "# Exploring Categorical Data"
   ]
  },
  {
   "cell_type": "code",
   "execution_count": 6,
   "metadata": {},
   "outputs": [
    {
     "data": {
      "text/plain": [
       "id              423857\n",
       "url             423857\n",
       "region             404\n",
       "region_url         413\n",
       "price            16305\n",
       "year               111\n",
       "manufacturer        43\n",
       "model            27042\n",
       "condition            6\n",
       "cylinders            8\n",
       "fuel                 5\n",
       "odometer         89554\n",
       "title_status         6\n",
       "transmission         3\n",
       "vin             103588\n",
       "drive                3\n",
       "size                 4\n",
       "type                13\n",
       "paint_color         12\n",
       "image_url       222413\n",
       "description     275765\n",
       "county               0\n",
       "state               51\n",
       "lat              41175\n",
       "long             41492\n",
       "dtype: int64"
      ]
     },
     "execution_count": 6,
     "metadata": {},
     "output_type": "execute_result"
    }
   ],
   "source": [
    "df.nunique(axis=0)"
   ]
  },
  {
   "cell_type": "markdown",
   "metadata": {},
   "source": [
    "I like to use df.nunique(axis=0), to see how many unique values there are for each variable. Using this, I can see if there’s anything out of the blue and identify any potential issues."
   ]
  },
  {
   "cell_type": "markdown",
   "metadata": {},
   "source": [
    "# Exploring Numerical Data"
   ]
  },
  {
   "cell_type": "code",
   "execution_count": 8,
   "metadata": {},
   "outputs": [
    {
     "data": {
      "text/html": [
       "<div>\n",
       "<style scoped>\n",
       "    .dataframe tbody tr th:only-of-type {\n",
       "        vertical-align: middle;\n",
       "    }\n",
       "\n",
       "    .dataframe tbody tr th {\n",
       "        vertical-align: top;\n",
       "    }\n",
       "\n",
       "    .dataframe thead th {\n",
       "        text-align: right;\n",
       "    }\n",
       "</style>\n",
       "<table border=\"1\" class=\"dataframe\">\n",
       "  <thead>\n",
       "    <tr style=\"text-align: right;\">\n",
       "      <th></th>\n",
       "      <th>id</th>\n",
       "      <th>price</th>\n",
       "      <th>year</th>\n",
       "      <th>odometer</th>\n",
       "      <th>county</th>\n",
       "      <th>lat</th>\n",
       "      <th>long</th>\n",
       "    </tr>\n",
       "  </thead>\n",
       "  <tbody>\n",
       "    <tr>\n",
       "      <th>count</th>\n",
       "      <td>423857.000000</td>\n",
       "      <td>423857.000000</td>\n",
       "      <td>328743.000000</td>\n",
       "      <td>270585.000000</td>\n",
       "      <td>0.000000</td>\n",
       "      <td>324404.000000</td>\n",
       "      <td>324404.000000</td>\n",
       "    </tr>\n",
       "    <tr>\n",
       "      <th>mean</th>\n",
       "      <td>7190602108.850494</td>\n",
       "      <td>57794.374777</td>\n",
       "      <td>2009.827358</td>\n",
       "      <td>99425.784611</td>\n",
       "      <td>nan</td>\n",
       "      <td>38.731429</td>\n",
       "      <td>-93.949367</td>\n",
       "    </tr>\n",
       "    <tr>\n",
       "      <th>std</th>\n",
       "      <td>5159268.778739</td>\n",
       "      <td>10025805.116449</td>\n",
       "      <td>10.135809</td>\n",
       "      <td>120483.312390</td>\n",
       "      <td>nan</td>\n",
       "      <td>5.902977</td>\n",
       "      <td>17.930566</td>\n",
       "    </tr>\n",
       "    <tr>\n",
       "      <th>min</th>\n",
       "      <td>7178301636.000000</td>\n",
       "      <td>0.000000</td>\n",
       "      <td>1900.000000</td>\n",
       "      <td>0.000000</td>\n",
       "      <td>nan</td>\n",
       "      <td>-80.386400</td>\n",
       "      <td>-161.394000</td>\n",
       "    </tr>\n",
       "    <tr>\n",
       "      <th>25%</th>\n",
       "      <td>7186687550.000000</td>\n",
       "      <td>4499.000000</td>\n",
       "      <td>2007.000000</td>\n",
       "      <td>44324.000000</td>\n",
       "      <td>nan</td>\n",
       "      <td>35.054500</td>\n",
       "      <td>-106.678000</td>\n",
       "    </tr>\n",
       "    <tr>\n",
       "      <th>50%</th>\n",
       "      <td>7192067820.000000</td>\n",
       "      <td>9995.000000</td>\n",
       "      <td>2012.000000</td>\n",
       "      <td>91749.000000</td>\n",
       "      <td>nan</td>\n",
       "      <td>39.366900</td>\n",
       "      <td>-88.009900</td>\n",
       "    </tr>\n",
       "    <tr>\n",
       "      <th>75%</th>\n",
       "      <td>7194909078.000000</td>\n",
       "      <td>18995.000000</td>\n",
       "      <td>2016.000000</td>\n",
       "      <td>137237.000000</td>\n",
       "      <td>nan</td>\n",
       "      <td>42.517075</td>\n",
       "      <td>-80.832500</td>\n",
       "    </tr>\n",
       "    <tr>\n",
       "      <th>max</th>\n",
       "      <td>7197006076.000000</td>\n",
       "      <td>3808256046.000000</td>\n",
       "      <td>2021.000000</td>\n",
       "      <td>10000000.000000</td>\n",
       "      <td>nan</td>\n",
       "      <td>80.383400</td>\n",
       "      <td>115.524000</td>\n",
       "    </tr>\n",
       "  </tbody>\n",
       "</table>\n",
       "</div>"
      ],
      "text/plain": [
       "                      id              price           year         odometer  \\\n",
       "count      423857.000000      423857.000000  328743.000000    270585.000000   \n",
       "mean   7190602108.850494       57794.374777    2009.827358     99425.784611   \n",
       "std       5159268.778739    10025805.116449      10.135809    120483.312390   \n",
       "min    7178301636.000000           0.000000    1900.000000         0.000000   \n",
       "25%    7186687550.000000        4499.000000    2007.000000     44324.000000   \n",
       "50%    7192067820.000000        9995.000000    2012.000000     91749.000000   \n",
       "75%    7194909078.000000       18995.000000    2016.000000    137237.000000   \n",
       "max    7197006076.000000  3808256046.000000    2021.000000  10000000.000000   \n",
       "\n",
       "         county            lat           long  \n",
       "count  0.000000  324404.000000  324404.000000  \n",
       "mean        nan      38.731429     -93.949367  \n",
       "std         nan       5.902977      17.930566  \n",
       "min         nan     -80.386400    -161.394000  \n",
       "25%         nan      35.054500    -106.678000  \n",
       "50%         nan      39.366900     -88.009900  \n",
       "75%         nan      42.517075     -80.832500  \n",
       "max         nan      80.383400     115.524000  "
      ]
     },
     "execution_count": 8,
     "metadata": {},
     "output_type": "execute_result"
    }
   ],
   "source": [
    "# here is a quick overview of my numeric data\n",
    "df.describe().apply(lambda s: s.apply(lambda x: format(x,'f')))"
   ]
  },
  {
   "cell_type": "markdown",
   "metadata": {},
   "source": [
    "For numerical data, I used df.describe() to get a quick overview of my data. For example, we can immediately see problems with price, as the minimum price is $0 and the maximum price is $3808256046"
   ]
  },
  {
   "cell_type": "code",
   "execution_count": 9,
   "metadata": {},
   "outputs": [
    {
     "data": {
      "text/plain": [
       "Index(['id', 'url', 'region', 'region_url', 'price', 'year', 'manufacturer',\n",
       "       'model', 'fuel', 'odometer', 'title_status', 'transmission',\n",
       "       'image_url', 'description', 'state', 'lat', 'long'],\n",
       "      dtype='object')"
      ]
     },
     "execution_count": 9,
     "metadata": {},
     "output_type": "execute_result"
    }
   ],
   "source": [
    "# To remove all columns where more than 40% of the values are null I use the code below \n",
    "NA_val = df.isna().sum()\n",
    "def na_filter(na, threshold = .4): #only select variables that passees the threshold\n",
    "    col_pass = []\n",
    "    for i in na.keys():\n",
    "        if na[i]/df.shape[0]<threshold:\n",
    "            col_pass.append(i)\n",
    "    return col_pass\n",
    "df_cleaned = df[na_filter(NA_val)]\n",
    "df_cleaned.columns"
   ]
  },
  {
   "cell_type": "markdown",
   "metadata": {},
   "source": [
    "# Removing Outliers"
   ]
  },
  {
   "cell_type": "markdown",
   "metadata": {},
   "source": [
    "Before removing the outliers for price using the interquartile (IQR) method, I  have decided to set the range of price to more realistic numbers, so that the standard deviations would be calculated to a more realistic number than 10025805."
   ]
  },
  {
   "cell_type": "code",
   "execution_count": 10,
   "metadata": {},
   "outputs": [
    {
     "data": {
      "text/plain": [
       "<matplotlib.axes._subplots.AxesSubplot at 0x1198005c608>"
      ]
     },
     "execution_count": 10,
     "metadata": {},
     "output_type": "execute_result"
    },
    {
     "data": {
      "image/png": "[encoded data removed]",
      "text/plain": [
       "<Figure size 432x288 with 1 Axes>"
      ]
     },
     "metadata": {
      "needs_background": "light"
     },
     "output_type": "display_data"
    }
   ],
   "source": [
    "df_cleaned = df_cleaned[df_cleaned['price'].between(999.99, 250000)] # Computing IQR\n",
    "Q1 = df_cleaned['price'].quantile(0.25)\n",
    "Q3 = df_cleaned['price'].quantile(0.75)\n",
    "IQR = Q3 - Q1\n",
    "# Filtering Values between Q1-1.5IQR and Q3+1.5IQR\n",
    "df_filtered = df_cleaned.query('(@Q1 - 1.5 * @IQR) <= price <= (@Q3 + 1.5 * @IQR)')\n",
    "df_filtered.boxplot('price')"
   ]
  },
  {
   "cell_type": "markdown",
   "metadata": {},
   "source": [
    "The IQR, also called the midspread, is a measure of statistical dispersion and can be used to get identify and remove outliers. The theory of the IQR range rule is as follows:\n",
    "Calculate IQR (= 3rd quartile — 1st quartile)\n",
    "Find the minimum number of the range (=1st quartile — 1.5 * IQR)\n",
    "Find the maximum number of the range (=3rd quartile + 1.5 * IQR)\n",
    "Remove any values that lie outside of this range.\n",
    "You can see in the boxplot above that I significantly reduced the range of price using this method."
   ]
  },
  {
   "cell_type": "code",
   "execution_count": 11,
   "metadata": {},
   "outputs": [
    {
     "data": {
      "text/html": [
       "<div>\n",
       "<style scoped>\n",
       "    .dataframe tbody tr th:only-of-type {\n",
       "        vertical-align: middle;\n",
       "    }\n",
       "\n",
       "    .dataframe tbody tr th {\n",
       "        vertical-align: top;\n",
       "    }\n",
       "\n",
       "    .dataframe thead th {\n",
       "        text-align: right;\n",
       "    }\n",
       "</style>\n",
       "<table border=\"1\" class=\"dataframe\">\n",
       "  <thead>\n",
       "    <tr style=\"text-align: right;\">\n",
       "      <th></th>\n",
       "      <th>id</th>\n",
       "      <th>price</th>\n",
       "      <th>year</th>\n",
       "      <th>odometer</th>\n",
       "      <th>lat</th>\n",
       "      <th>long</th>\n",
       "    </tr>\n",
       "  </thead>\n",
       "  <tbody>\n",
       "    <tr>\n",
       "      <th>count</th>\n",
       "      <td>356421.000000</td>\n",
       "      <td>356421.000000</td>\n",
       "      <td>276729.000000</td>\n",
       "      <td>230263.000000</td>\n",
       "      <td>275529.000000</td>\n",
       "      <td>275529.000000</td>\n",
       "    </tr>\n",
       "    <tr>\n",
       "      <th>mean</th>\n",
       "      <td>7190597299.302934</td>\n",
       "      <td>13545.528976</td>\n",
       "      <td>2009.286941</td>\n",
       "      <td>104855.434755</td>\n",
       "      <td>38.753815</td>\n",
       "      <td>-93.242869</td>\n",
       "    </tr>\n",
       "    <tr>\n",
       "      <th>std</th>\n",
       "      <td>5161843.162419</td>\n",
       "      <td>9490.643612</td>\n",
       "      <td>10.095922</td>\n",
       "      <td>126375.621330</td>\n",
       "      <td>5.917865</td>\n",
       "      <td>17.621564</td>\n",
       "    </tr>\n",
       "    <tr>\n",
       "      <th>min</th>\n",
       "      <td>7178301697.000000</td>\n",
       "      <td>1000.000000</td>\n",
       "      <td>1900.000000</td>\n",
       "      <td>0.000000</td>\n",
       "      <td>-80.386400</td>\n",
       "      <td>-161.394000</td>\n",
       "    </tr>\n",
       "    <tr>\n",
       "      <th>25%</th>\n",
       "      <td>7186689151.000000</td>\n",
       "      <td>5995.000000</td>\n",
       "      <td>2006.000000</td>\n",
       "      <td>51589.000000</td>\n",
       "      <td>35.119900</td>\n",
       "      <td>-105.009000</td>\n",
       "    </tr>\n",
       "    <tr>\n",
       "      <th>50%</th>\n",
       "      <td>7192086777.000000</td>\n",
       "      <td>10998.000000</td>\n",
       "      <td>2012.000000</td>\n",
       "      <td>97406.000000</td>\n",
       "      <td>39.477600</td>\n",
       "      <td>-87.080300</td>\n",
       "    </tr>\n",
       "    <tr>\n",
       "      <th>75%</th>\n",
       "      <td>7194904831.000000</td>\n",
       "      <td>18988.000000</td>\n",
       "      <td>2015.000000</td>\n",
       "      <td>142000.000000</td>\n",
       "      <td>42.484500</td>\n",
       "      <td>-80.652400</td>\n",
       "    </tr>\n",
       "    <tr>\n",
       "      <th>max</th>\n",
       "      <td>7197006076.000000</td>\n",
       "      <td>41000.000000</td>\n",
       "      <td>2021.000000</td>\n",
       "      <td>10000000.000000</td>\n",
       "      <td>80.383400</td>\n",
       "      <td>115.524000</td>\n",
       "    </tr>\n",
       "  </tbody>\n",
       "</table>\n",
       "</div>"
      ],
      "text/plain": [
       "                      id          price           year         odometer  \\\n",
       "count      356421.000000  356421.000000  276729.000000    230263.000000   \n",
       "mean   7190597299.302934   13545.528976    2009.286941    104855.434755   \n",
       "std       5161843.162419    9490.643612      10.095922    126375.621330   \n",
       "min    7178301697.000000    1000.000000    1900.000000         0.000000   \n",
       "25%    7186689151.000000    5995.000000    2006.000000     51589.000000   \n",
       "50%    7192086777.000000   10998.000000    2012.000000     97406.000000   \n",
       "75%    7194904831.000000   18988.000000    2015.000000    142000.000000   \n",
       "max    7197006076.000000   41000.000000    2021.000000  10000000.000000   \n",
       "\n",
       "                 lat           long  \n",
       "count  275529.000000  275529.000000  \n",
       "mean       38.753815     -93.242869  \n",
       "std         5.917865      17.621564  \n",
       "min       -80.386400    -161.394000  \n",
       "25%        35.119900    -105.009000  \n",
       "50%        39.477600     -87.080300  \n",
       "75%        42.484500     -80.652400  \n",
       "max        80.383400     115.524000  "
      ]
     },
     "execution_count": 11,
     "metadata": {},
     "output_type": "execute_result"
    }
   ],
   "source": [
    "df_filtered.describe().apply(lambda s: s.apply(lambda x: format(x, 'f')))"
   ]
  },
  {
   "cell_type": "markdown",
   "metadata": {},
   "source": [
    "Using .describe() again, we can see that the range of price seems much more realistic than it initially was, but year and odometer seem a bit off (for example the max value for year is 2021 which is not supposed to be more than 2020)."
   ]
  },
  {
   "cell_type": "code",
   "execution_count": 12,
   "metadata": {},
   "outputs": [],
   "source": [
    "#I used the code below to set the ranges for year to 1900–2020 and odometer to 0–271,341.5.\n",
    "df_filtered = df_filtered[df_filtered['year'].between(1900, 2020)]# = 140000 + 1.5 * (140000-52379)\n",
    "df_filtered = df_filtered[df_filtered['odometer'].between(0, 271431.5)]"
   ]
  },
  {
   "cell_type": "markdown",
   "metadata": {},
   "source": [
    "# Dropping Irrelevant Columns"
   ]
  },
  {
   "cell_type": "code",
   "execution_count": 13,
   "metadata": {},
   "outputs": [
    {
     "data": {
      "text/plain": [
       "(226949, 7)"
      ]
     },
     "execution_count": 13,
     "metadata": {},
     "output_type": "execute_result"
    }
   ],
   "source": [
    "df_final = df_filtered.copy().drop(['id','url','region_url','image_url','region','description','model','state', 'lat', 'long'], axis=1)\n",
    "df_final.shape"
   ]
  },
  {
   "cell_type": "markdown",
   "metadata": {},
   "source": [
    "# Visualizing Variables and Relationships"
   ]
  },
  {
   "cell_type": "markdown",
   "metadata": {},
   "source": [
    "After cleaning the data, I wanted to visualize my data and  understand the relationships between different variables. from the  sns.heatmap() below, we can see that the year is positively correlated with price and odometer is negatively correlated with price. this shows we on the right track"
   ]
  },
  {
   "cell_type": "code",
   "execution_count": 14,
   "metadata": {
    "scrolled": true
   },
   "outputs": [
    {
     "data": {
      "text/plain": [
       "<matplotlib.axes._subplots.AxesSubplot at 0x119801591c8>"
      ]
     },
     "execution_count": 14,
     "metadata": {},
     "output_type": "execute_result"
    },
    {
     "data": {
      "image/png": "[encoded data removed]",
      "text/plain": [
       "<Figure size 432x288 with 2 Axes>"
      ]
     },
     "metadata": {
      "needs_background": "light"
     },
     "output_type": "display_data"
    }
   ],
   "source": [
    "# calculate correlation matrix\n",
    "corr = df_final.corr()# plot the heatmap\n",
    "sns.heatmap(corr, xticklabels=corr.columns, yticklabels=corr.columns, annot=True, cmap=sns.diverging_palette(220, 20, as_cmap=True))"
   ]
  },
  {
   "cell_type": "markdown",
   "metadata": {},
   "source": [
    "# Data Modelling"
   ]
  },
  {
   "cell_type": "markdown",
   "metadata": {},
   "source": [
    "To be able to use categorical data in my random forest model, I used pd.get_dummies(). This essentially turns every unique value of a variable into its own binary variable. For example, if one of the manufacturers is Honda, then a new dummy variable called ‘manufacturer_honda’ will be created — it will be equal to 1 if it is a Honda and 0 if not."
   ]
  },
  {
   "cell_type": "code",
   "execution_count": 15,
   "metadata": {},
   "outputs": [
    {
     "name": "stdout",
     "output_type": "stream",
     "text": [
      "Index(['price', 'year', 'odometer', 'manufacturer_alfa-romeo',\n",
      "       'manufacturer_aston-martin', 'manufacturer_audi', 'manufacturer_bmw',\n",
      "       'manufacturer_buick', 'manufacturer_cadillac', 'manufacturer_chevrolet',\n",
      "       'manufacturer_chrysler', 'manufacturer_datsun', 'manufacturer_dodge',\n",
      "       'manufacturer_fiat', 'manufacturer_ford', 'manufacturer_gmc',\n",
      "       'manufacturer_harley-davidson', 'manufacturer_honda',\n",
      "       'manufacturer_hyundai', 'manufacturer_infiniti', 'manufacturer_jaguar',\n",
      "       'manufacturer_jeep', 'manufacturer_kia', 'manufacturer_land rover',\n",
      "       'manufacturer_lexus', 'manufacturer_lincoln', 'manufacturer_mazda',\n",
      "       'manufacturer_mercedes-benz', 'manufacturer_mercury',\n",
      "       'manufacturer_mini', 'manufacturer_mitsubishi', 'manufacturer_morgan',\n",
      "       'manufacturer_nissan', 'manufacturer_pontiac', 'manufacturer_porche',\n",
      "       'manufacturer_ram', 'manufacturer_rover', 'manufacturer_saturn',\n",
      "       'manufacturer_subaru', 'manufacturer_tesla', 'manufacturer_toyota',\n",
      "       'manufacturer_volkswagen', 'manufacturer_volvo', 'fuel_electric',\n",
      "       'fuel_gas', 'fuel_hybrid', 'fuel_other', 'title_status_lien',\n",
      "       'title_status_missing', 'title_status_parts only',\n",
      "       'title_status_rebuilt', 'title_status_salvage', 'transmission_manual',\n",
      "       'transmission_other'],\n",
      "      dtype='object')\n"
     ]
    }
   ],
   "source": [
    "df_final = pd.get_dummies(df_final, drop_first=True)\n",
    "print(df_final.columns)"
   ]
  },
  {
   "cell_type": "markdown",
   "metadata": {},
   "source": [
    "Next, I scaled the data using StandardScaler. Prasoon provides a good answer here why we scale (or normalize) our data, but essentially, this is done so that the scale of our independent variables does not affect the composition of our model. For example, the max number for year is 2020 and the max number for odometer is over 200,000. If we don’t scale the data, a small change in odometer will have a greater impact than the same change in year."
   ]
  },
  {
   "cell_type": "code",
   "execution_count": 16,
   "metadata": {},
   "outputs": [
    {
     "data": {
      "text/plain": [
       "price                           0\n",
       "year                            0\n",
       "odometer                        0\n",
       "manufacturer_alfa-romeo         0\n",
       "manufacturer_aston-martin       0\n",
       "manufacturer_audi               0\n",
       "manufacturer_bmw                0\n",
       "manufacturer_buick              0\n",
       "manufacturer_cadillac           0\n",
       "manufacturer_chevrolet          0\n",
       "manufacturer_chrysler           0\n",
       "manufacturer_datsun             0\n",
       "manufacturer_dodge              0\n",
       "manufacturer_fiat               0\n",
       "manufacturer_ford               0\n",
       "manufacturer_gmc                0\n",
       "manufacturer_harley-davidson    0\n",
       "manufacturer_honda              0\n",
       "manufacturer_hyundai            0\n",
       "manufacturer_infiniti           0\n",
       "manufacturer_jaguar             0\n",
       "manufacturer_jeep               0\n",
       "manufacturer_kia                0\n",
       "manufacturer_land rover         0\n",
       "manufacturer_lexus              0\n",
       "manufacturer_lincoln            0\n",
       "manufacturer_mazda              0\n",
       "manufacturer_mercedes-benz      0\n",
       "manufacturer_mercury            0\n",
       "manufacturer_mini               0\n",
       "manufacturer_mitsubishi         0\n",
       "manufacturer_morgan             0\n",
       "manufacturer_nissan             0\n",
       "manufacturer_pontiac            0\n",
       "manufacturer_porche             0\n",
       "manufacturer_ram                0\n",
       "manufacturer_rover              0\n",
       "manufacturer_saturn             0\n",
       "manufacturer_subaru             0\n",
       "manufacturer_tesla              0\n",
       "manufacturer_toyota             0\n",
       "manufacturer_volkswagen         0\n",
       "manufacturer_volvo              0\n",
       "fuel_electric                   0\n",
       "fuel_gas                        0\n",
       "fuel_hybrid                     0\n",
       "fuel_other                      0\n",
       "title_status_lien               0\n",
       "title_status_missing            0\n",
       "title_status_parts only         0\n",
       "title_status_rebuilt            0\n",
       "title_status_salvage            0\n",
       "transmission_manual             0\n",
       "transmission_other              0\n",
       "dtype: int64"
      ]
     },
     "execution_count": 16,
     "metadata": {},
     "output_type": "execute_result"
    }
   ],
   "source": [
    "#checking if there's are still missing values\n",
    "df_final.isnull().sum()"
   ]
  },
  {
   "cell_type": "code",
   "execution_count": 17,
   "metadata": {},
   "outputs": [],
   "source": [
    "from sklearn.preprocessing import StandardScaler\n",
    "X_head = df_final.iloc[:, df_final.columns != 'price']\n",
    "X = df_final.loc[:, df_final.columns != 'price']\n",
    "y = df_final['price']\n",
    "X = StandardScaler().fit_transform(X)"
   ]
  },
  {
   "cell_type": "code",
   "execution_count": 20,
   "metadata": {},
   "outputs": [],
   "source": [
    "#Creating the model\n",
    "from sklearn.ensemble import RandomForestRegressor\n",
    "from sklearn.model_selection import train_test_split\n",
    "from sklearn.metrics import mean_absolute_error as mae\n",
    "X_train, X_test, y_train, y_test = train_test_split(X, y, test_size=.25, random_state=0)\n",
    "model = RandomForestRegressor(random_state=1)\n",
    "model.fit(X_train, y_train)\n",
    "pred = model.predict(X_test)"
   ]
  },
  {
   "cell_type": "markdown",
   "metadata": {},
   "source": [
    "# Checking accuracy of the model"
   ]
  },
  {
   "cell_type": "code",
   "execution_count": 22,
   "metadata": {},
   "outputs": [
    {
     "name": "stdout",
     "output_type": "stream",
     "text": [
      "2764.000068093076\n",
      "0.7593786514562213\n",
      "14356.957034399798\n"
     ]
    }
   ],
   "source": [
    "mae = mae(y_test, pred)\n",
    "\n",
    "print(mae)\n",
    "print(model.score(X_test, y_test))\n",
    "print(df_final['price'].mean())"
   ]
  }
 ],
 "metadata": {
  "kernelspec": {
   "display_name": "Python 3",
   "language": "python",
   "name": "python3"
  },
  "language_info": {
   "codemirror_mode": {
    "name": "ipython",
    "version": 3
   },
   "file_extension": ".py",
   "mimetype": "text/x-python",
   "name": "python",
   "nbconvert_exporter": "python",
   "pygments_lexer": "ipython3",
   "version": "3.7.6"
  }
 },
 "nbformat": 4,
 "nbformat_minor": 4
}
