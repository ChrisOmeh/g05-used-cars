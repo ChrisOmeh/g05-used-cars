{
  "nbformat": 4,
  "nbformat_minor": 0,
  "metadata": {
    "colab": {
      "name": "Untitled28.ipynb",
      "provenance": [],
      "authorship_tag": "ABX9TyPBeaL5G8Sv4xvzqH5vdnEV",
      "include_colab_link": true
    },
    "kernelspec": {
      "name": "python3",
      "display_name": "Python 3"
    }
  },
  "cells": [
    {
      "cell_type": "markdown",
      "metadata": {
        "id": "view-in-github",
        "colab_type": "text"
      },
      "source": [
        "<a href=\"https://colab.research.google.com/github/Adeola23/g05-used-cars/blob/master/Used%20cars.ipynb\" target=\"_parent\"><img src=\"https://colab.research.google.com/assets/colab-badge.svg\" alt=\"Open In Colab\"/></a>"
      ]
    },
    {
      "cell_type": "code",
      "metadata": {
        "colab": {
          "base_uri": "https://localhost:8080/"
        },
        "id": "Z-NlCLCTSBMn",
        "outputId": "27c98b08-2714-4b4f-dbc0-b61f84064ebd"
      },
      "source": [
        "!pip install kaggle"
      ],
      "execution_count": 2,
      "outputs": [
        {
          "output_type": "stream",
          "text": [
            "Requirement already satisfied: kaggle in /usr/local/lib/python3.6/dist-packages (1.5.9)\n",
            "Requirement already satisfied: six>=1.10 in /usr/local/lib/python3.6/dist-packages (from kaggle) (1.15.0)\n",
            "Requirement already satisfied: python-slugify in /usr/local/lib/python3.6/dist-packages (from kaggle) (4.0.1)\n",
            "Requirement already satisfied: urllib3 in /usr/local/lib/python3.6/dist-packages (from kaggle) (1.24.3)\n",
            "Requirement already satisfied: tqdm in /usr/local/lib/python3.6/dist-packages (from kaggle) (4.41.1)\n",
            "Requirement already satisfied: certifi in /usr/local/lib/python3.6/dist-packages (from kaggle) (2020.11.8)\n",
            "Requirement already satisfied: requests in /usr/local/lib/python3.6/dist-packages (from kaggle) (2.23.0)\n",
            "Requirement already satisfied: slugify in /usr/local/lib/python3.6/dist-packages (from kaggle) (0.0.1)\n",
            "Requirement already satisfied: python-dateutil in /usr/local/lib/python3.6/dist-packages (from kaggle) (2.8.1)\n",
            "Requirement already satisfied: text-unidecode>=1.3 in /usr/local/lib/python3.6/dist-packages (from python-slugify->kaggle) (1.3)\n",
            "Requirement already satisfied: idna<3,>=2.5 in /usr/local/lib/python3.6/dist-packages (from requests->kaggle) (2.10)\n",
            "Requirement already satisfied: chardet<4,>=3.0.2 in /usr/local/lib/python3.6/dist-packages (from requests->kaggle) (3.0.4)\n"
          ],
          "name": "stdout"
        }
      ]
    },
    {
      "cell_type": "code",
      "metadata": {
        "colab": {
          "base_uri": "https://localhost:8080/"
        },
        "id": "Fu3KtSPxor22",
        "outputId": "758975c4-a9d1-4377-d491-5ed7c945e59e"
      },
      "source": [
        "import os\n",
        "os.environ['KAGGLE_USERNAME'] = \"ade0laa\" # username from the json file\n",
        "os.environ['KAGGLE_KEY'] = \"af73d20084c82be126c444a8187061b6\" # key from the json file\n",
        "!kaggle datasets download -d austinreese/craigslist-carstrucks-data # api copied from kaggle\n",
        "\n"
      ],
      "execution_count": 3,
      "outputs": [
        {
          "output_type": "stream",
          "text": [
            "craigslist-carstrucks-data.zip: Skipping, found more recently modified local copy (use --force to force download)\n"
          ],
          "name": "stdout"
        }
      ]
    },
    {
      "cell_type": "code",
      "metadata": {
        "colab": {
          "base_uri": "https://localhost:8080/"
        },
        "id": "Z0jPhAKypZoA",
        "outputId": "45bca369-27be-4f03-eafe-560a266600ce"
      },
      "source": [
        "!unzip /content/craigslist-carstrucks-data.zip"
      ],
      "execution_count": 4,
      "outputs": [
        {
          "output_type": "stream",
          "text": [
            "Archive:  /content/craigslist-carstrucks-data.zip\n",
            "replace vehicles.csv? [y]es, [n]o, [A]ll, [N]one, [r]ename: "
          ],
          "name": "stdout"
        }
      ]
    },
    {
      "cell_type": "code",
      "metadata": {
        "colab": {
          "base_uri": "https://localhost:8080/"
        },
        "id": "holtPQ-mpkU3",
        "outputId": "d22905f8-0ea1-40bf-8af3-249d7e7033de"
      },
      "source": [
        "# Importing Libraries and Data\n",
        "import numpy as np\n",
        "import pandas as pd\n",
        "from pandas import DataFrame\n",
        "from pandas.plotting import scatter_matrix\n",
        "import matplotlib.pyplot as plt\n",
        "from matplotlib import rcParams\n",
        "import numpy as np\n",
        "import seaborn as sns\n",
        "%matplotlib inline\n",
        "from matplotlib import rc\n",
        "import plotly.graph_objs as go\n",
        "from sklearn import preprocessing\n",
        "import matplotlib\n",
        "import statsmodels.api as sm\n",
        "from sklearn.model_selection import train_test_split\n",
        "from sklearn.linear_model import LinearRegression\n",
        "from sklearn.feature_selection import RFE\n",
        "from sklearn.linear_model import RidgeCV, LassoCV, Ridge, Lasso\n",
        "from sklearn import metrics\n",
        "from sklearn.metrics import r2_score\n",
        "from sklearn.tree import DecisionTreeRegressor\n",
        "import math\n",
        "from sklearn.metrics import mean_squared_error as MSE\n",
        "from sklearn import tree\n",
        "from sklearn.tree import export_graphviz\n",
        "from IPython.display import Image\n",
        "from sklearn.ensemble import RandomForestRegressor"
      ],
      "execution_count": 24,
      "outputs": [
        {
          "output_type": "stream",
          "text": [
            "/usr/local/lib/python3.6/dist-packages/statsmodels/tools/_testing.py:19: FutureWarning:\n",
            "\n",
            "pandas.util.testing is deprecated. Use the functions in the public API at pandas.testing instead.\n",
            "\n"
          ],
          "name": "stderr"
        }
      ]
    },
    {
      "cell_type": "code",
      "metadata": {
        "colab": {
          "base_uri": "https://localhost:8080/",
          "height": 660
        },
        "id": "Jit94nQnp4QN",
        "outputId": "f3980ba0-5ba0-453d-a24f-53534232cc81"
      },
      "source": [
        "df = pd.read_csv(\"/content/vehicles.csv\")# Get a quick glimpse of what I'm working with\n",
        "print(df.shape)\n",
        "print(df.columns)\n",
        "df.head()"
      ],
      "execution_count": 3,
      "outputs": [
        {
          "output_type": "stream",
          "text": [
            "(458213, 26)\n",
            "Index(['Unnamed: 0', 'id', 'url', 'region', 'region_url', 'price', 'year',\n",
            "       'manufacturer', 'model', 'condition', 'cylinders', 'fuel', 'odometer',\n",
            "       'title_status', 'transmission', 'VIN', 'drive', 'size', 'type',\n",
            "       'paint_color', 'image_url', 'description', 'state', 'lat', 'long',\n",
            "       'posting_date'],\n",
            "      dtype='object')\n"
          ],
          "name": "stdout"
        },
        {
          "output_type": "execute_result",
          "data": {
            "text/html": [
              "<div>\n",
              "<style scoped>\n",
              "    .dataframe tbody tr th:only-of-type {\n",
              "        vertical-align: middle;\n",
              "    }\n",
              "\n",
              "    .dataframe tbody tr th {\n",
              "        vertical-align: top;\n",
              "    }\n",
              "\n",
              "    .dataframe thead th {\n",
              "        text-align: right;\n",
              "    }\n",
              "</style>\n",
              "<table border=\"1\" class=\"dataframe\">\n",
              "  <thead>\n",
              "    <tr style=\"text-align: right;\">\n",
              "      <th></th>\n",
              "      <th>Unnamed: 0</th>\n",
              "      <th>id</th>\n",
              "      <th>url</th>\n",
              "      <th>region</th>\n",
              "      <th>region_url</th>\n",
              "      <th>price</th>\n",
              "      <th>year</th>\n",
              "      <th>manufacturer</th>\n",
              "      <th>model</th>\n",
              "      <th>condition</th>\n",
              "      <th>cylinders</th>\n",
              "      <th>fuel</th>\n",
              "      <th>odometer</th>\n",
              "      <th>title_status</th>\n",
              "      <th>transmission</th>\n",
              "      <th>VIN</th>\n",
              "      <th>drive</th>\n",
              "      <th>size</th>\n",
              "      <th>type</th>\n",
              "      <th>paint_color</th>\n",
              "      <th>image_url</th>\n",
              "      <th>description</th>\n",
              "      <th>state</th>\n",
              "      <th>lat</th>\n",
              "      <th>long</th>\n",
              "      <th>posting_date</th>\n",
              "    </tr>\n",
              "  </thead>\n",
              "  <tbody>\n",
              "    <tr>\n",
              "      <th>0</th>\n",
              "      <td>0</td>\n",
              "      <td>7240372487</td>\n",
              "      <td>https://auburn.craigslist.org/ctd/d/auburn-uni...</td>\n",
              "      <td>auburn</td>\n",
              "      <td>https://auburn.craigslist.org</td>\n",
              "      <td>35990</td>\n",
              "      <td>2010.0</td>\n",
              "      <td>chevrolet</td>\n",
              "      <td>corvette grand sport</td>\n",
              "      <td>good</td>\n",
              "      <td>8 cylinders</td>\n",
              "      <td>gas</td>\n",
              "      <td>32742.0</td>\n",
              "      <td>clean</td>\n",
              "      <td>other</td>\n",
              "      <td>1G1YU3DW1A5106980</td>\n",
              "      <td>rwd</td>\n",
              "      <td>NaN</td>\n",
              "      <td>other</td>\n",
              "      <td>NaN</td>\n",
              "      <td>https://images.craigslist.org/00N0N_ipkbHVZYf4...</td>\n",
              "      <td>Carvana is the safer way to buy a car During t...</td>\n",
              "      <td>al</td>\n",
              "      <td>32.590000</td>\n",
              "      <td>-85.480000</td>\n",
              "      <td>2020-12-02T08:11:30-0600</td>\n",
              "    </tr>\n",
              "    <tr>\n",
              "      <th>1</th>\n",
              "      <td>1</td>\n",
              "      <td>7240309422</td>\n",
              "      <td>https://auburn.craigslist.org/cto/d/auburn-201...</td>\n",
              "      <td>auburn</td>\n",
              "      <td>https://auburn.craigslist.org</td>\n",
              "      <td>7500</td>\n",
              "      <td>2014.0</td>\n",
              "      <td>hyundai</td>\n",
              "      <td>sonata</td>\n",
              "      <td>excellent</td>\n",
              "      <td>4 cylinders</td>\n",
              "      <td>gas</td>\n",
              "      <td>93600.0</td>\n",
              "      <td>clean</td>\n",
              "      <td>automatic</td>\n",
              "      <td>5NPEC4AB0EH813529</td>\n",
              "      <td>fwd</td>\n",
              "      <td>NaN</td>\n",
              "      <td>sedan</td>\n",
              "      <td>NaN</td>\n",
              "      <td>https://images.craigslist.org/00s0s_gBHYmJ5o7y...</td>\n",
              "      <td>I'll move to another city and try to sell my c...</td>\n",
              "      <td>al</td>\n",
              "      <td>32.547500</td>\n",
              "      <td>-85.468200</td>\n",
              "      <td>2020-12-02T02:11:50-0600</td>\n",
              "    </tr>\n",
              "    <tr>\n",
              "      <th>2</th>\n",
              "      <td>2</td>\n",
              "      <td>7240224296</td>\n",
              "      <td>https://auburn.craigslist.org/cto/d/auburn-200...</td>\n",
              "      <td>auburn</td>\n",
              "      <td>https://auburn.craigslist.org</td>\n",
              "      <td>4900</td>\n",
              "      <td>2006.0</td>\n",
              "      <td>bmw</td>\n",
              "      <td>x3 3.0i</td>\n",
              "      <td>good</td>\n",
              "      <td>6 cylinders</td>\n",
              "      <td>gas</td>\n",
              "      <td>87046.0</td>\n",
              "      <td>clean</td>\n",
              "      <td>automatic</td>\n",
              "      <td>NaN</td>\n",
              "      <td>NaN</td>\n",
              "      <td>NaN</td>\n",
              "      <td>SUV</td>\n",
              "      <td>blue</td>\n",
              "      <td>https://images.craigslist.org/00B0B_5zgEGWPOrt...</td>\n",
              "      <td>Clean 2006 BMW X3 3.0I.  Beautiful and rare Bl...</td>\n",
              "      <td>al</td>\n",
              "      <td>32.616807</td>\n",
              "      <td>-85.464149</td>\n",
              "      <td>2020-12-01T19:50:41-0600</td>\n",
              "    </tr>\n",
              "    <tr>\n",
              "      <th>3</th>\n",
              "      <td>3</td>\n",
              "      <td>7240103965</td>\n",
              "      <td>https://auburn.craigslist.org/cto/d/lanett-tru...</td>\n",
              "      <td>auburn</td>\n",
              "      <td>https://auburn.craigslist.org</td>\n",
              "      <td>2000</td>\n",
              "      <td>1974.0</td>\n",
              "      <td>chevrolet</td>\n",
              "      <td>c-10</td>\n",
              "      <td>good</td>\n",
              "      <td>4 cylinders</td>\n",
              "      <td>gas</td>\n",
              "      <td>190000.0</td>\n",
              "      <td>clean</td>\n",
              "      <td>automatic</td>\n",
              "      <td>NaN</td>\n",
              "      <td>rwd</td>\n",
              "      <td>full-size</td>\n",
              "      <td>pickup</td>\n",
              "      <td>blue</td>\n",
              "      <td>https://images.craigslist.org/00M0M_6o7KcDpArw...</td>\n",
              "      <td>1974 chev. truck (LONG BED) NEW starter front ...</td>\n",
              "      <td>al</td>\n",
              "      <td>32.861600</td>\n",
              "      <td>-85.216100</td>\n",
              "      <td>2020-12-01T15:54:45-0600</td>\n",
              "    </tr>\n",
              "    <tr>\n",
              "      <th>4</th>\n",
              "      <td>4</td>\n",
              "      <td>7239983776</td>\n",
              "      <td>https://auburn.craigslist.org/cto/d/auburn-200...</td>\n",
              "      <td>auburn</td>\n",
              "      <td>https://auburn.craigslist.org</td>\n",
              "      <td>19500</td>\n",
              "      <td>2005.0</td>\n",
              "      <td>ford</td>\n",
              "      <td>f350 lariat</td>\n",
              "      <td>excellent</td>\n",
              "      <td>8 cylinders</td>\n",
              "      <td>diesel</td>\n",
              "      <td>116000.0</td>\n",
              "      <td>lien</td>\n",
              "      <td>automatic</td>\n",
              "      <td>NaN</td>\n",
              "      <td>4wd</td>\n",
              "      <td>full-size</td>\n",
              "      <td>pickup</td>\n",
              "      <td>blue</td>\n",
              "      <td>https://images.craigslist.org/00p0p_b95l1EgUfl...</td>\n",
              "      <td>2005 Ford F350 Lariat (Bullet Proofed). This t...</td>\n",
              "      <td>al</td>\n",
              "      <td>32.547500</td>\n",
              "      <td>-85.468200</td>\n",
              "      <td>2020-12-01T12:53:56-0600</td>\n",
              "    </tr>\n",
              "  </tbody>\n",
              "</table>\n",
              "</div>"
            ],
            "text/plain": [
              "   Unnamed: 0          id  ...       long              posting_date\n",
              "0           0  7240372487  ... -85.480000  2020-12-02T08:11:30-0600\n",
              "1           1  7240309422  ... -85.468200  2020-12-02T02:11:50-0600\n",
              "2           2  7240224296  ... -85.464149  2020-12-01T19:50:41-0600\n",
              "3           3  7240103965  ... -85.216100  2020-12-01T15:54:45-0600\n",
              "4           4  7239983776  ... -85.468200  2020-12-01T12:53:56-0600\n",
              "\n",
              "[5 rows x 26 columns]"
            ]
          },
          "metadata": {
            "tags": []
          },
          "execution_count": 3
        }
      ]
    },
    {
      "cell_type": "code",
      "metadata": {
        "id": "OlLsw-v5qIzj"
      },
      "source": [
        "df.drop(['Unnamed: 0','id', 'url','region_url', 'VIN', 'image_url', 'lat', 'long', 'description'], axis=1, inplace=True)"
      ],
      "execution_count": 5,
      "outputs": []
    },
    {
      "cell_type": "code",
      "metadata": {
        "colab": {
          "base_uri": "https://localhost:8080/"
        },
        "id": "wjbMSJ9t4523",
        "outputId": "338e7133-ecc2-40ed-96b1-32388db81452"
      },
      "source": [
        "df.info()"
      ],
      "execution_count": 6,
      "outputs": [
        {
          "output_type": "stream",
          "text": [
            "<class 'pandas.core.frame.DataFrame'>\n",
            "RangeIndex: 458213 entries, 0 to 458212\n",
            "Data columns (total 17 columns):\n",
            " #   Column        Non-Null Count   Dtype  \n",
            "---  ------        --------------   -----  \n",
            " 0   region        458213 non-null  object \n",
            " 1   price         458213 non-null  int64  \n",
            " 2   year          457163 non-null  float64\n",
            " 3   manufacturer  439993 non-null  object \n",
            " 4   model         453367 non-null  object \n",
            " 5   condition     265273 non-null  object \n",
            " 6   cylinders     287073 non-null  object \n",
            " 7   fuel          454976 non-null  object \n",
            " 8   odometer      402910 non-null  float64\n",
            " 9   title_status  455636 non-null  object \n",
            " 10  transmission  455771 non-null  object \n",
            " 11  drive         324025 non-null  object \n",
            " 12  size          136865 non-null  object \n",
            " 13  type          345475 non-null  object \n",
            " 14  paint_color   317370 non-null  object \n",
            " 15  state         458213 non-null  object \n",
            " 16  posting_date  458185 non-null  object \n",
            "dtypes: float64(2), int64(1), object(14)\n",
            "memory usage: 59.4+ MB\n"
          ],
          "name": "stdout"
        }
      ]
    },
    {
      "cell_type": "code",
      "metadata": {
        "colab": {
          "base_uri": "https://localhost:8080/"
        },
        "id": "7Q4lXBGF5CH0",
        "outputId": "9a7a9f59-d93f-415e-abed-046cfe55f437"
      },
      "source": [
        "print(df.isnull().sum())"
      ],
      "execution_count": 7,
      "outputs": [
        {
          "output_type": "stream",
          "text": [
            "region               0\n",
            "price                0\n",
            "year              1050\n",
            "manufacturer     18220\n",
            "model             4846\n",
            "condition       192940\n",
            "cylinders       171140\n",
            "fuel              3237\n",
            "odometer         55303\n",
            "title_status      2577\n",
            "transmission      2442\n",
            "drive           134188\n",
            "size            321348\n",
            "type            112738\n",
            "paint_color     140843\n",
            "state                0\n",
            "posting_date        28\n",
            "dtype: int64\n"
          ],
          "name": "stdout"
        }
      ]
    },
    {
      "cell_type": "code",
      "metadata": {
        "colab": {
          "base_uri": "https://localhost:8080/"
        },
        "id": "0AsIYP5P5Mmc",
        "outputId": "530d7be4-8598-446a-c734-317fb5475268"
      },
      "source": [
        "null_val = df.isna().sum()\n",
        "def na_filter(na, threshold = .55): #only select variables that passees the threshold\n",
        "    col_pass = []\n",
        "    for i in na.keys():\n",
        "        if na[i]/df.shape[0]<threshold:\n",
        "            col_pass.append(i)\n",
        "    return col_pass\n",
        "df_cleaned = df[na_filter(null_val)]\n",
        "df_cleaned.columns"
      ],
      "execution_count": 9,
      "outputs": [
        {
          "output_type": "execute_result",
          "data": {
            "text/plain": [
              "Index(['region', 'price', 'year', 'manufacturer', 'model', 'condition',\n",
              "       'cylinders', 'fuel', 'odometer', 'title_status', 'transmission',\n",
              "       'drive', 'type', 'paint_color', 'state', 'posting_date'],\n",
              "      dtype='object')"
            ]
          },
          "metadata": {
            "tags": []
          },
          "execution_count": 9
        }
      ]
    },
    {
      "cell_type": "code",
      "metadata": {
        "colab": {
          "base_uri": "https://localhost:8080/"
        },
        "id": "0FZPSC136MqX",
        "outputId": "c7990cad-f920-40bd-b5df-f628005a7760"
      },
      "source": [
        "df_cleaned.nunique(axis=0)"
      ],
      "execution_count": 13,
      "outputs": [
        {
          "output_type": "execute_result",
          "data": {
            "text/plain": [
              "region             405\n",
              "price            16924\n",
              "year               110\n",
              "manufacturer        43\n",
              "model            31520\n",
              "condition            6\n",
              "cylinders            8\n",
              "fuel                 5\n",
              "odometer        108135\n",
              "title_status         6\n",
              "transmission         3\n",
              "drive                3\n",
              "type                13\n",
              "paint_color         12\n",
              "state               51\n",
              "posting_date    423805\n",
              "dtype: int64"
            ]
          },
          "metadata": {
            "tags": []
          },
          "execution_count": 13
        }
      ]
    },
    {
      "cell_type": "code",
      "metadata": {
        "colab": {
          "base_uri": "https://localhost:8080/",
          "height": 293
        },
        "id": "UMuRhgoKqcTG",
        "outputId": "1d6370c6-9c0f-40ad-9b63-5a8dd847696d"
      },
      "source": [
        "#I use df.describe() to get a quick overview of my data. For example, I can immediately see problems with price, as the minimum price is $0 and the maximum price is $3,615,215,112.\n",
        "df_cleaned.describe().apply(lambda s: s.apply(lambda x: format(x, 'f')))"
      ],
      "execution_count": 36,
      "outputs": [
        {
          "output_type": "execute_result",
          "data": {
            "text/html": [
              "<div>\n",
              "<style scoped>\n",
              "    .dataframe tbody tr th:only-of-type {\n",
              "        vertical-align: middle;\n",
              "    }\n",
              "\n",
              "    .dataframe tbody tr th {\n",
              "        vertical-align: top;\n",
              "    }\n",
              "\n",
              "    .dataframe thead th {\n",
              "        text-align: right;\n",
              "    }\n",
              "</style>\n",
              "<table border=\"1\" class=\"dataframe\">\n",
              "  <thead>\n",
              "    <tr style=\"text-align: right;\">\n",
              "      <th></th>\n",
              "      <th>price</th>\n",
              "      <th>year</th>\n",
              "      <th>odometer</th>\n",
              "    </tr>\n",
              "  </thead>\n",
              "  <tbody>\n",
              "    <tr>\n",
              "      <th>count</th>\n",
              "      <td>458213.000000</td>\n",
              "      <td>457163.000000</td>\n",
              "      <td>402910.000000</td>\n",
              "    </tr>\n",
              "    <tr>\n",
              "      <th>mean</th>\n",
              "      <td>40420.930696</td>\n",
              "      <td>2010.746067</td>\n",
              "      <td>101669.756941</td>\n",
              "    </tr>\n",
              "    <tr>\n",
              "      <th>std</th>\n",
              "      <td>8194598.603665</td>\n",
              "      <td>8.868136</td>\n",
              "      <td>3228622.544962</td>\n",
              "    </tr>\n",
              "    <tr>\n",
              "      <th>min</th>\n",
              "      <td>0.000000</td>\n",
              "      <td>1900.000000</td>\n",
              "      <td>0.000000</td>\n",
              "    </tr>\n",
              "    <tr>\n",
              "      <th>25%</th>\n",
              "      <td>4900.000000</td>\n",
              "      <td>2008.000000</td>\n",
              "      <td>40877.000000</td>\n",
              "    </tr>\n",
              "    <tr>\n",
              "      <th>50%</th>\n",
              "      <td>10995.000000</td>\n",
              "      <td>2013.000000</td>\n",
              "      <td>87641.000000</td>\n",
              "    </tr>\n",
              "    <tr>\n",
              "      <th>75%</th>\n",
              "      <td>21495.000000</td>\n",
              "      <td>2016.000000</td>\n",
              "      <td>134000.000000</td>\n",
              "    </tr>\n",
              "    <tr>\n",
              "      <th>max</th>\n",
              "      <td>3615215112.000000</td>\n",
              "      <td>2021.000000</td>\n",
              "      <td>2043755555.000000</td>\n",
              "    </tr>\n",
              "  </tbody>\n",
              "</table>\n",
              "</div>"
            ],
            "text/plain": [
              "                   price           year           odometer\n",
              "count      458213.000000  457163.000000      402910.000000\n",
              "mean        40420.930696    2010.746067      101669.756941\n",
              "std       8194598.603665       8.868136     3228622.544962\n",
              "min             0.000000    1900.000000           0.000000\n",
              "25%          4900.000000    2008.000000       40877.000000\n",
              "50%         10995.000000    2013.000000       87641.000000\n",
              "75%         21495.000000    2016.000000      134000.000000\n",
              "max    3615215112.000000    2021.000000  2043755555.000000"
            ]
          },
          "metadata": {
            "tags": []
          },
          "execution_count": 36
        }
      ]
    },
    {
      "cell_type": "code",
      "metadata": {
        "id": "9XkQacGZ6fOD"
      },
      "source": [
        "vehicles_df = df_cleaned.dropna()"
      ],
      "execution_count": 14,
      "outputs": []
    },
    {
      "cell_type": "code",
      "metadata": {
        "colab": {
          "base_uri": "https://localhost:8080/"
        },
        "id": "JsmPy3vy6vP0",
        "outputId": "ffd16bcf-6dc6-4174-dc06-59ccfe6aa0c3"
      },
      "source": [
        "print(vehicles_df.isnull().sum())"
      ],
      "execution_count": 15,
      "outputs": [
        {
          "output_type": "stream",
          "text": [
            "region          0\n",
            "price           0\n",
            "year            0\n",
            "manufacturer    0\n",
            "model           0\n",
            "condition       0\n",
            "cylinders       0\n",
            "fuel            0\n",
            "odometer        0\n",
            "title_status    0\n",
            "transmission    0\n",
            "drive           0\n",
            "type            0\n",
            "paint_color     0\n",
            "state           0\n",
            "posting_date    0\n",
            "dtype: int64\n"
          ],
          "name": "stdout"
        }
      ]
    },
    {
      "cell_type": "code",
      "metadata": {
        "colab": {
          "base_uri": "https://localhost:8080/"
        },
        "id": "OAzVBK_J63ct",
        "outputId": "b6ff22be-0abb-4c02-a26d-e9d7086c6404"
      },
      "source": [
        "vehicles_df.shape"
      ],
      "execution_count": 16,
      "outputs": [
        {
          "output_type": "execute_result",
          "data": {
            "text/plain": [
              "(131552, 16)"
            ]
          },
          "metadata": {
            "tags": []
          },
          "execution_count": 16
        }
      ]
    },
    {
      "cell_type": "code",
      "metadata": {
        "colab": {
          "base_uri": "https://localhost:8080/",
          "height": 282
        },
        "id": "oSBrCfu1rHgu",
        "outputId": "48212e3b-1094-4155-840c-dff7c69a5ac7"
      },
      "source": [
        "#decided to set the range of price to more realistic numbers, so that the standard deviations would be calculated to a more realistic number than 8,194,598.\n",
        "vehicles_df = vehicles_df[vehicles_df['price'].between(999.99, 500000)]\n",
        "Q1 = vehicles_df['price'].quantile(0.25)\n",
        "Q3 = vehicles_df['price'].quantile(0.75)\n",
        "IQR = Q3 - Q1\n",
        "# Filtering Values between Q1-1.5IQR and Q3+1.5IQR\n",
        "df_filtered = vehicles_df.query('(@Q1 - 1.5 * @IQR) <= price <= (@Q3 + 1.5 * @IQR)')\n",
        "df_filtered.boxplot('price')"
      ],
      "execution_count": 17,
      "outputs": [
        {
          "output_type": "execute_result",
          "data": {
            "text/plain": [
              "<matplotlib.axes._subplots.AxesSubplot at 0x7fa0b5d80438>"
            ]
          },
          "metadata": {
            "tags": []
          },
          "execution_count": 17
        },
        {
          "output_type": "display_data",
          "data": {
            "image/png": "[encoded data removed]",
            "text/plain": [
              "<Figure size 432x288 with 1 Axes>"
            ]
          },
          "metadata": {
            "tags": [],
            "needs_background": "light"
          }
        }
      ]
    },
    {
      "cell_type": "code",
      "metadata": {
        "id": "VGisVUPHsOc_"
      },
      "source": [
        "#the max number for year is 2020 and the max number for odometer is over 200,000\n",
        "# cant be newer than 2020\n",
        "df_filtered = df_filtered[df_filtered['year'].between(1900, 2020)]\n",
        "\n",
        "#used the code below to set the ranges for odometer to 0–271,341.5\n",
        "df_filtered = df_filtered[df_filtered['odometer'].between(0, 271420.5)]"
      ],
      "execution_count": 40,
      "outputs": []
    },
    {
      "cell_type": "code",
      "metadata": {
        "id": "8sRW24sx7bMX"
      },
      "source": [
        "df_filtered = df_filtered[['price','region','year','manufacturer','model','cylinders','fuel','odometer','title_status','transmission','drive','type','paint_color','state']]"
      ],
      "execution_count": 41,
      "outputs": []
    },
    {
      "cell_type": "code",
      "metadata": {
        "colab": {
          "base_uri": "https://localhost:8080/",
          "height": 293
        },
        "id": "aaG9RmY5rlBH",
        "outputId": "0bca057c-d11d-4a0d-f73c-a0d47be5799f"
      },
      "source": [
        "df_filtered.describe().apply(lambda s: s.apply(lambda x: format(x, 'f')))"
      ],
      "execution_count": 42,
      "outputs": [
        {
          "output_type": "execute_result",
          "data": {
            "text/html": [
              "<div>\n",
              "<style scoped>\n",
              "    .dataframe tbody tr th:only-of-type {\n",
              "        vertical-align: middle;\n",
              "    }\n",
              "\n",
              "    .dataframe tbody tr th {\n",
              "        vertical-align: top;\n",
              "    }\n",
              "\n",
              "    .dataframe thead th {\n",
              "        text-align: right;\n",
              "    }\n",
              "</style>\n",
              "<table border=\"1\" class=\"dataframe\">\n",
              "  <thead>\n",
              "    <tr style=\"text-align: right;\">\n",
              "      <th></th>\n",
              "      <th>price</th>\n",
              "      <th>region</th>\n",
              "      <th>year</th>\n",
              "      <th>manufacturer</th>\n",
              "      <th>model</th>\n",
              "      <th>cylinders</th>\n",
              "      <th>fuel</th>\n",
              "      <th>odometer</th>\n",
              "      <th>title_status</th>\n",
              "      <th>transmission</th>\n",
              "      <th>drive</th>\n",
              "      <th>type</th>\n",
              "      <th>paint_color</th>\n",
              "      <th>state</th>\n",
              "    </tr>\n",
              "  </thead>\n",
              "  <tbody>\n",
              "    <tr>\n",
              "      <th>count</th>\n",
              "      <td>121329.000000</td>\n",
              "      <td>121329.000000</td>\n",
              "      <td>121329.000000</td>\n",
              "      <td>121329.000000</td>\n",
              "      <td>121329.000000</td>\n",
              "      <td>121329.000000</td>\n",
              "      <td>121329.000000</td>\n",
              "      <td>121329.000000</td>\n",
              "      <td>121329.000000</td>\n",
              "      <td>121329.000000</td>\n",
              "      <td>121329.000000</td>\n",
              "      <td>121329.000000</td>\n",
              "      <td>121329.000000</td>\n",
              "      <td>121329.000000</td>\n",
              "    </tr>\n",
              "    <tr>\n",
              "      <th>mean</th>\n",
              "      <td>14238.241352</td>\n",
              "      <td>196.176504</td>\n",
              "      <td>2010.054711</td>\n",
              "      <td>18.715130</td>\n",
              "      <td>5992.345367</td>\n",
              "      <td>4.593444</td>\n",
              "      <td>1.960150</td>\n",
              "      <td>102196.101559</td>\n",
              "      <td>0.195205</td>\n",
              "      <td>0.226912</td>\n",
              "      <td>0.814991</td>\n",
              "      <td>6.060431</td>\n",
              "      <td>5.579507</td>\n",
              "      <td>23.973955</td>\n",
              "    </tr>\n",
              "    <tr>\n",
              "      <th>std</th>\n",
              "      <td>10690.351361</td>\n",
              "      <td>119.386760</td>\n",
              "      <td>7.627102</td>\n",
              "      <td>11.183974</td>\n",
              "      <td>3287.211327</td>\n",
              "      <td>1.258175</td>\n",
              "      <td>0.488176</td>\n",
              "      <td>59868.671833</td>\n",
              "      <td>0.879018</td>\n",
              "      <td>0.583084</td>\n",
              "      <td>0.769104</td>\n",
              "      <td>4.031312</td>\n",
              "      <td>3.998068</td>\n",
              "      <td>14.855981</td>\n",
              "    </tr>\n",
              "    <tr>\n",
              "      <th>min</th>\n",
              "      <td>1000.000000</td>\n",
              "      <td>0.000000</td>\n",
              "      <td>1923.000000</td>\n",
              "      <td>0.000000</td>\n",
              "      <td>0.000000</td>\n",
              "      <td>0.000000</td>\n",
              "      <td>0.000000</td>\n",
              "      <td>0.000000</td>\n",
              "      <td>0.000000</td>\n",
              "      <td>0.000000</td>\n",
              "      <td>0.000000</td>\n",
              "      <td>0.000000</td>\n",
              "      <td>0.000000</td>\n",
              "      <td>0.000000</td>\n",
              "    </tr>\n",
              "    <tr>\n",
              "      <th>25%</th>\n",
              "      <td>5900.000000</td>\n",
              "      <td>85.000000</td>\n",
              "      <td>2007.000000</td>\n",
              "      <td>10.000000</td>\n",
              "      <td>3209.000000</td>\n",
              "      <td>3.000000</td>\n",
              "      <td>2.000000</td>\n",
              "      <td>54000.000000</td>\n",
              "      <td>0.000000</td>\n",
              "      <td>0.000000</td>\n",
              "      <td>0.000000</td>\n",
              "      <td>2.000000</td>\n",
              "      <td>1.000000</td>\n",
              "      <td>9.000000</td>\n",
              "    </tr>\n",
              "    <tr>\n",
              "      <th>50%</th>\n",
              "      <td>10800.000000</td>\n",
              "      <td>198.000000</td>\n",
              "      <td>2012.000000</td>\n",
              "      <td>16.000000</td>\n",
              "      <td>5947.000000</td>\n",
              "      <td>5.000000</td>\n",
              "      <td>2.000000</td>\n",
              "      <td>100348.000000</td>\n",
              "      <td>0.000000</td>\n",
              "      <td>0.000000</td>\n",
              "      <td>1.000000</td>\n",
              "      <td>8.000000</td>\n",
              "      <td>7.000000</td>\n",
              "      <td>23.000000</td>\n",
              "    </tr>\n",
              "    <tr>\n",
              "      <th>75%</th>\n",
              "      <td>20000.000000</td>\n",
              "      <td>292.000000</td>\n",
              "      <td>2015.000000</td>\n",
              "      <td>30.000000</td>\n",
              "      <td>9046.000000</td>\n",
              "      <td>6.000000</td>\n",
              "      <td>2.000000</td>\n",
              "      <td>144000.000000</td>\n",
              "      <td>0.000000</td>\n",
              "      <td>0.000000</td>\n",
              "      <td>1.000000</td>\n",
              "      <td>9.000000</td>\n",
              "      <td>9.000000</td>\n",
              "      <td>37.000000</td>\n",
              "    </tr>\n",
              "    <tr>\n",
              "      <th>max</th>\n",
              "      <td>44850.000000</td>\n",
              "      <td>403.000000</td>\n",
              "      <td>2020.000000</td>\n",
              "      <td>40.000000</td>\n",
              "      <td>11683.000000</td>\n",
              "      <td>7.000000</td>\n",
              "      <td>4.000000</td>\n",
              "      <td>271420.000000</td>\n",
              "      <td>5.000000</td>\n",
              "      <td>2.000000</td>\n",
              "      <td>2.000000</td>\n",
              "      <td>12.000000</td>\n",
              "      <td>11.000000</td>\n",
              "      <td>50.000000</td>\n",
              "    </tr>\n",
              "  </tbody>\n",
              "</table>\n",
              "</div>"
            ],
            "text/plain": [
              "               price         region  ...    paint_color          state\n",
              "count  121329.000000  121329.000000  ...  121329.000000  121329.000000\n",
              "mean    14238.241352     196.176504  ...       5.579507      23.973955\n",
              "std     10690.351361     119.386760  ...       3.998068      14.855981\n",
              "min      1000.000000       0.000000  ...       0.000000       0.000000\n",
              "25%      5900.000000      85.000000  ...       1.000000       9.000000\n",
              "50%     10800.000000     198.000000  ...       7.000000      23.000000\n",
              "75%     20000.000000     292.000000  ...       9.000000      37.000000\n",
              "max     44850.000000     403.000000  ...      11.000000      50.000000\n",
              "\n",
              "[8 rows x 14 columns]"
            ]
          },
          "metadata": {
            "tags": []
          },
          "execution_count": 42
        }
      ]
    },
    {
      "cell_type": "markdown",
      "metadata": {
        "id": "dbXBrA3BUjYp"
      },
      "source": [
        "##MODELLING"
      ]
    },
    {
      "cell_type": "code",
      "metadata": {
        "id": "UEjwvsCY8Tg_"
      },
      "source": [
        "#In order to prepare data for predictive modeling we will use Label Encoder since we have many categories for categorical variables\n",
        "le = preprocessing.LabelEncoder()"
      ],
      "execution_count": 25,
      "outputs": []
    },
    {
      "cell_type": "code",
      "metadata": {
        "id": "Rs3xNb898jjb"
      },
      "source": [
        "df_filtered[['region','manufacturer','model','cylinders','fuel','title_status','transmission','drive'\n",
        "             ,'type','paint_color','state']] = df_filtered[['region','manufacturer','model','cylinders','fuel','title_status',\n",
        "                                                            'transmission','drive','type','paint_color','state']].apply(le.fit_transform)"
      ],
      "execution_count": 26,
      "outputs": []
    },
    {
      "cell_type": "code",
      "metadata": {
        "id": "q7OpaLaB8wwj"
      },
      "source": [
        "from sklearn.preprocessing import StandardScaler\n",
        "X_head = df_filtered.iloc[:, df_filtered.columns != 'price']\n",
        "X = df_filtered.loc[:, df_filtered.columns != 'price']\n",
        "y = df_filtered['price']\n",
        "X = StandardScaler().fit_transform(X)"
      ],
      "execution_count": 27,
      "outputs": []
    },
    {
      "cell_type": "markdown",
      "metadata": {
        "id": "xefVedPuU4si"
      },
      "source": [
        "#Decided to use the random forest algorithm for a number of reasons:\n",
        "#It handles high-dimensionality very well since it takes subsets of data.\n",
        "#It is extremely versatile and requires very little preprocessing\n",
        "#It is great at avoiding overfitting since each decision tree has low bias\n",
        "#It allows you to check for feature importance, which you’ll see in the next section!"
      ]
    },
    {
      "cell_type": "code",
      "metadata": {
        "id": "-lspK0XR9OOU"
      },
      "source": [
        "from sklearn.ensemble import RandomForestRegressor\n",
        "from sklearn.model_selection import train_test_split\n",
        "from sklearn.metrics import mean_absolute_error as mae\n",
        "X_train, X_test, y_train, y_test = train_test_split(X, y, test_size=.25, random_state=0)\n",
        "model = RandomForestRegressor(random_state=1)\n",
        "model.fit(X_train, y_train)\n",
        "pred = model.predict(X_test)"
      ],
      "execution_count": 28,
      "outputs": []
    },
    {
      "cell_type": "markdown",
      "metadata": {
        "id": "nNSv9_lnVCIn"
      },
      "source": [
        "##Checking accuracy of the model"
      ]
    },
    {
      "cell_type": "code",
      "metadata": {
        "colab": {
          "base_uri": "https://localhost:8080/"
        },
        "id": "KPzwyDeB9k5-",
        "outputId": "abcced01-1dc1-4746-9c2c-74f1070ca457"
      },
      "source": [
        "print(mae(y_test, pred))\n",
        "print(df_filtered['price'].mean())\n",
        "model.score(X_test,y_test)\n",
        "print('R2 score: ', round(r2_score(y_test, pred), 3))"
      ],
      "execution_count": 43,
      "outputs": [
        {
          "output_type": "stream",
          "text": [
            "1631.3780128595258\n",
            "14238.241352026309\n",
            "R2 score:  0.925\n"
          ],
          "name": "stdout"
        }
      ]
    }
  ]
}