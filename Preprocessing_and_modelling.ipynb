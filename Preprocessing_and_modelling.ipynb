{
  "nbformat": 4,
  "nbformat_minor": 0,
  "metadata": {
    "colab": {
      "name": "Preprocessing and modelling",
      "provenance": [],
      "collapsed_sections": [],
      "include_colab_link": true
    },
    "kernelspec": {
      "name": "python3",
      "display_name": "Python 3"
    }
  },
  "cells": [
    {
      "cell_type": "markdown",
      "metadata": {
        "id": "view-in-github",
        "colab_type": "text"
      },
      "source": [
        "<a href=\"https://colab.research.google.com/github/FiyinfobaO/g05-used-cars/blob/master/Preprocessing_and_modelling.ipynb\" target=\"_parent\"><img src=\"https://colab.research.google.com/assets/colab-badge.svg\" alt=\"Open In Colab\"/></a>"
      ]
    },
    {
      "cell_type": "code",
      "metadata": {
        "colab": {
          "base_uri": "https://localhost:8080/"
        },
        "id": "J2aj5DHjEoEZ",
        "outputId": "3ab520ab-e901-497d-890e-a8ae088ac9f4"
      },
      "source": [
        "from google.colab import drive\n",
        "drive.mount('/content/drive')"
      ],
      "execution_count": 2,
      "outputs": [
        {
          "output_type": "stream",
          "text": [
            "Drive already mounted at /content/drive; to attempt to forcibly remount, call drive.mount(\"/content/drive\", force_remount=True).\n"
          ],
          "name": "stdout"
        }
      ]
    },
    {
      "cell_type": "code",
      "metadata": {
        "id": "xXAEdlfuEce3"
      },
      "source": [
        "# copying dataset from drive to colab current directory\r\n",
        "!cp 'drive/My Drive/used_car_dataset.zip' '/content/'"
      ],
      "execution_count": 2,
      "outputs": []
    },
    {
      "cell_type": "code",
      "metadata": {
        "id": "cijikFhzlC7V"
      },
      "source": [
        "# unzipping the dataset\r\n",
        "%%capture\r\n",
        "!unzip '/content/used_car_dataset.zip' "
      ],
      "execution_count": 3,
      "outputs": []
    },
    {
      "cell_type": "code",
      "metadata": {
        "colab": {
          "base_uri": "https://localhost:8080/"
        },
        "id": "kLcbtHu2lFOz",
        "outputId": "7682f43e-8619-4e16-b29d-e3ddb5b05ae8"
      },
      "source": [
        "!pip install catboost"
      ],
      "execution_count": 3,
      "outputs": [
        {
          "output_type": "stream",
          "text": [
            "Requirement already satisfied: catboost in /usr/local/lib/python3.6/dist-packages (0.24.3)\n",
            "Requirement already satisfied: pandas>=0.24.0 in /usr/local/lib/python3.6/dist-packages (from catboost) (1.1.5)\n",
            "Requirement already satisfied: matplotlib in /usr/local/lib/python3.6/dist-packages (from catboost) (3.2.2)\n",
            "Requirement already satisfied: plotly in /usr/local/lib/python3.6/dist-packages (from catboost) (4.4.1)\n",
            "Requirement already satisfied: graphviz in /usr/local/lib/python3.6/dist-packages (from catboost) (0.10.1)\n",
            "Requirement already satisfied: six in /usr/local/lib/python3.6/dist-packages (from catboost) (1.15.0)\n",
            "Requirement already satisfied: numpy>=1.16.0 in /usr/local/lib/python3.6/dist-packages (from catboost) (1.18.5)\n",
            "Requirement already satisfied: scipy in /usr/local/lib/python3.6/dist-packages (from catboost) (1.4.1)\n",
            "Requirement already satisfied: pytz>=2017.2 in /usr/local/lib/python3.6/dist-packages (from pandas>=0.24.0->catboost) (2018.9)\n",
            "Requirement already satisfied: python-dateutil>=2.7.3 in /usr/local/lib/python3.6/dist-packages (from pandas>=0.24.0->catboost) (2.8.1)\n",
            "Requirement already satisfied: pyparsing!=2.0.4,!=2.1.2,!=2.1.6,>=2.0.1 in /usr/local/lib/python3.6/dist-packages (from matplotlib->catboost) (2.4.7)\n",
            "Requirement already satisfied: cycler>=0.10 in /usr/local/lib/python3.6/dist-packages (from matplotlib->catboost) (0.10.0)\n",
            "Requirement already satisfied: kiwisolver>=1.0.1 in /usr/local/lib/python3.6/dist-packages (from matplotlib->catboost) (1.3.1)\n",
            "Requirement already satisfied: retrying>=1.3.3 in /usr/local/lib/python3.6/dist-packages (from plotly->catboost) (1.3.3)\n"
          ],
          "name": "stdout"
        }
      ]
    },
    {
      "cell_type": "code",
      "metadata": {
        "id": "9-okMV1ZFFsX"
      },
      "source": [
        "# import libraries\r\n",
        "import seaborn as sns\r\n",
        "import numpy as np\r\n",
        "import pandas as pd\r\n",
        "import matplotlib.pyplot as plt\r\n",
        "from sklearn.preprocessing import LabelEncoder, OneHotEncoder\r\n",
        "from sklearn.model_selection import train_test_split\r\n",
        "from sklearn.preprocessing import StandardScaler, MinMaxScaler\r\n",
        "from sklearn.linear_model import LinearRegression\r\n",
        "from sklearn import metrics\r\n",
        "from sklearn.metrics import r2_score\r\n",
        "from sklearn.tree import DecisionTreeRegressor\r\n",
        "from sklearn.ensemble import RandomForestRegressor, ExtraTreesRegressor\r\n",
        "from sklearn.discriminant_analysis import LinearDiscriminantAnalysis as LDA\r\n",
        "from lightgbm import LGBMRegressor\r\n",
        "from xgboost import XGBRegressor, XGBRFRegressor\r\n",
        "from catboost import CatBoostRegressor\r\n",
        "%matplotlib inline"
      ],
      "execution_count": 4,
      "outputs": []
    },
    {
      "cell_type": "code",
      "metadata": {
        "colab": {
          "base_uri": "https://localhost:8080/",
          "height": 547
        },
        "id": "KuE9FllrFJxH",
        "outputId": "2e5ef22e-a47e-4f3f-edfa-5d762fc2f8f2"
      },
      "source": [
        "# load the dataset \r\n",
        "df = pd.read_csv('/content/vehicles.csv')\r\n",
        "df.head()"
      ],
      "execution_count": 6,
      "outputs": [
        {
          "output_type": "execute_result",
          "data": {
            "text/html": [
              "<div>\n",
              "<style scoped>\n",
              "    .dataframe tbody tr th:only-of-type {\n",
              "        vertical-align: middle;\n",
              "    }\n",
              "\n",
              "    .dataframe tbody tr th {\n",
              "        vertical-align: top;\n",
              "    }\n",
              "\n",
              "    .dataframe thead th {\n",
              "        text-align: right;\n",
              "    }\n",
              "</style>\n",
              "<table border=\"1\" class=\"dataframe\">\n",
              "  <thead>\n",
              "    <tr style=\"text-align: right;\">\n",
              "      <th></th>\n",
              "      <th>Unnamed: 0</th>\n",
              "      <th>id</th>\n",
              "      <th>url</th>\n",
              "      <th>region</th>\n",
              "      <th>region_url</th>\n",
              "      <th>price</th>\n",
              "      <th>year</th>\n",
              "      <th>manufacturer</th>\n",
              "      <th>model</th>\n",
              "      <th>condition</th>\n",
              "      <th>cylinders</th>\n",
              "      <th>fuel</th>\n",
              "      <th>odometer</th>\n",
              "      <th>title_status</th>\n",
              "      <th>transmission</th>\n",
              "      <th>VIN</th>\n",
              "      <th>drive</th>\n",
              "      <th>size</th>\n",
              "      <th>type</th>\n",
              "      <th>paint_color</th>\n",
              "      <th>image_url</th>\n",
              "      <th>description</th>\n",
              "      <th>state</th>\n",
              "      <th>lat</th>\n",
              "      <th>long</th>\n",
              "      <th>posting_date</th>\n",
              "    </tr>\n",
              "  </thead>\n",
              "  <tbody>\n",
              "    <tr>\n",
              "      <th>0</th>\n",
              "      <td>0</td>\n",
              "      <td>7240372487</td>\n",
              "      <td>https://auburn.craigslist.org/ctd/d/auburn-uni...</td>\n",
              "      <td>auburn</td>\n",
              "      <td>https://auburn.craigslist.org</td>\n",
              "      <td>35990</td>\n",
              "      <td>2010.0</td>\n",
              "      <td>chevrolet</td>\n",
              "      <td>corvette grand sport</td>\n",
              "      <td>good</td>\n",
              "      <td>8 cylinders</td>\n",
              "      <td>gas</td>\n",
              "      <td>32742.0</td>\n",
              "      <td>clean</td>\n",
              "      <td>other</td>\n",
              "      <td>1G1YU3DW1A5106980</td>\n",
              "      <td>rwd</td>\n",
              "      <td>NaN</td>\n",
              "      <td>other</td>\n",
              "      <td>NaN</td>\n",
              "      <td>https://images.craigslist.org/00N0N_ipkbHVZYf4...</td>\n",
              "      <td>Carvana is the safer way to buy a car During t...</td>\n",
              "      <td>al</td>\n",
              "      <td>32.590000</td>\n",
              "      <td>-85.480000</td>\n",
              "      <td>2020-12-02T08:11:30-0600</td>\n",
              "    </tr>\n",
              "    <tr>\n",
              "      <th>1</th>\n",
              "      <td>1</td>\n",
              "      <td>7240309422</td>\n",
              "      <td>https://auburn.craigslist.org/cto/d/auburn-201...</td>\n",
              "      <td>auburn</td>\n",
              "      <td>https://auburn.craigslist.org</td>\n",
              "      <td>7500</td>\n",
              "      <td>2014.0</td>\n",
              "      <td>hyundai</td>\n",
              "      <td>sonata</td>\n",
              "      <td>excellent</td>\n",
              "      <td>4 cylinders</td>\n",
              "      <td>gas</td>\n",
              "      <td>93600.0</td>\n",
              "      <td>clean</td>\n",
              "      <td>automatic</td>\n",
              "      <td>5NPEC4AB0EH813529</td>\n",
              "      <td>fwd</td>\n",
              "      <td>NaN</td>\n",
              "      <td>sedan</td>\n",
              "      <td>NaN</td>\n",
              "      <td>https://images.craigslist.org/00s0s_gBHYmJ5o7y...</td>\n",
              "      <td>I'll move to another city and try to sell my c...</td>\n",
              "      <td>al</td>\n",
              "      <td>32.547500</td>\n",
              "      <td>-85.468200</td>\n",
              "      <td>2020-12-02T02:11:50-0600</td>\n",
              "    </tr>\n",
              "    <tr>\n",
              "      <th>2</th>\n",
              "      <td>2</td>\n",
              "      <td>7240224296</td>\n",
              "      <td>https://auburn.craigslist.org/cto/d/auburn-200...</td>\n",
              "      <td>auburn</td>\n",
              "      <td>https://auburn.craigslist.org</td>\n",
              "      <td>4900</td>\n",
              "      <td>2006.0</td>\n",
              "      <td>bmw</td>\n",
              "      <td>x3 3.0i</td>\n",
              "      <td>good</td>\n",
              "      <td>6 cylinders</td>\n",
              "      <td>gas</td>\n",
              "      <td>87046.0</td>\n",
              "      <td>clean</td>\n",
              "      <td>automatic</td>\n",
              "      <td>NaN</td>\n",
              "      <td>NaN</td>\n",
              "      <td>NaN</td>\n",
              "      <td>SUV</td>\n",
              "      <td>blue</td>\n",
              "      <td>https://images.craigslist.org/00B0B_5zgEGWPOrt...</td>\n",
              "      <td>Clean 2006 BMW X3 3.0I.  Beautiful and rare Bl...</td>\n",
              "      <td>al</td>\n",
              "      <td>32.616807</td>\n",
              "      <td>-85.464149</td>\n",
              "      <td>2020-12-01T19:50:41-0600</td>\n",
              "    </tr>\n",
              "    <tr>\n",
              "      <th>3</th>\n",
              "      <td>3</td>\n",
              "      <td>7240103965</td>\n",
              "      <td>https://auburn.craigslist.org/cto/d/lanett-tru...</td>\n",
              "      <td>auburn</td>\n",
              "      <td>https://auburn.craigslist.org</td>\n",
              "      <td>2000</td>\n",
              "      <td>1974.0</td>\n",
              "      <td>chevrolet</td>\n",
              "      <td>c-10</td>\n",
              "      <td>good</td>\n",
              "      <td>4 cylinders</td>\n",
              "      <td>gas</td>\n",
              "      <td>190000.0</td>\n",
              "      <td>clean</td>\n",
              "      <td>automatic</td>\n",
              "      <td>NaN</td>\n",
              "      <td>rwd</td>\n",
              "      <td>full-size</td>\n",
              "      <td>pickup</td>\n",
              "      <td>blue</td>\n",
              "      <td>https://images.craigslist.org/00M0M_6o7KcDpArw...</td>\n",
              "      <td>1974 chev. truck (LONG BED) NEW starter front ...</td>\n",
              "      <td>al</td>\n",
              "      <td>32.861600</td>\n",
              "      <td>-85.216100</td>\n",
              "      <td>2020-12-01T15:54:45-0600</td>\n",
              "    </tr>\n",
              "    <tr>\n",
              "      <th>4</th>\n",
              "      <td>4</td>\n",
              "      <td>7239983776</td>\n",
              "      <td>https://auburn.craigslist.org/cto/d/auburn-200...</td>\n",
              "      <td>auburn</td>\n",
              "      <td>https://auburn.craigslist.org</td>\n",
              "      <td>19500</td>\n",
              "      <td>2005.0</td>\n",
              "      <td>ford</td>\n",
              "      <td>f350 lariat</td>\n",
              "      <td>excellent</td>\n",
              "      <td>8 cylinders</td>\n",
              "      <td>diesel</td>\n",
              "      <td>116000.0</td>\n",
              "      <td>lien</td>\n",
              "      <td>automatic</td>\n",
              "      <td>NaN</td>\n",
              "      <td>4wd</td>\n",
              "      <td>full-size</td>\n",
              "      <td>pickup</td>\n",
              "      <td>blue</td>\n",
              "      <td>https://images.craigslist.org/00p0p_b95l1EgUfl...</td>\n",
              "      <td>2005 Ford F350 Lariat (Bullet Proofed). This t...</td>\n",
              "      <td>al</td>\n",
              "      <td>32.547500</td>\n",
              "      <td>-85.468200</td>\n",
              "      <td>2020-12-01T12:53:56-0600</td>\n",
              "    </tr>\n",
              "  </tbody>\n",
              "</table>\n",
              "</div>"
            ],
            "text/plain": [
              "   Unnamed: 0          id  ...       long              posting_date\n",
              "0           0  7240372487  ... -85.480000  2020-12-02T08:11:30-0600\n",
              "1           1  7240309422  ... -85.468200  2020-12-02T02:11:50-0600\n",
              "2           2  7240224296  ... -85.464149  2020-12-01T19:50:41-0600\n",
              "3           3  7240103965  ... -85.216100  2020-12-01T15:54:45-0600\n",
              "4           4  7239983776  ... -85.468200  2020-12-01T12:53:56-0600\n",
              "\n",
              "[5 rows x 26 columns]"
            ]
          },
          "metadata": {
            "tags": []
          },
          "execution_count": 6
        }
      ]
    },
    {
      "cell_type": "code",
      "metadata": {
        "id": "MKaYiIxG0xr8",
        "colab": {
          "base_uri": "https://localhost:8080/"
        },
        "outputId": "ccd1e52a-216f-47ea-833c-159a977464f8"
      },
      "source": [
        "# to clear and free up space in memory\r\n",
        "import gc\r\n",
        "gc.collect()"
      ],
      "execution_count": 7,
      "outputs": [
        {
          "output_type": "execute_result",
          "data": {
            "text/plain": [
              "16"
            ]
          },
          "metadata": {
            "tags": []
          },
          "execution_count": 7
        }
      ]
    },
    {
      "cell_type": "code",
      "metadata": {
        "colab": {
          "base_uri": "https://localhost:8080/"
        },
        "id": "04B6CqtUFXvo",
        "outputId": "6346b484-938c-4e8c-a3bf-19b9fa936bb8"
      },
      "source": [
        "df.info()"
      ],
      "execution_count": 8,
      "outputs": [
        {
          "output_type": "stream",
          "text": [
            "<class 'pandas.core.frame.DataFrame'>\n",
            "RangeIndex: 458213 entries, 0 to 458212\n",
            "Data columns (total 26 columns):\n",
            " #   Column        Non-Null Count   Dtype  \n",
            "---  ------        --------------   -----  \n",
            " 0   Unnamed: 0    458213 non-null  int64  \n",
            " 1   id            458213 non-null  int64  \n",
            " 2   url           458213 non-null  object \n",
            " 3   region        458213 non-null  object \n",
            " 4   region_url    458213 non-null  object \n",
            " 5   price         458213 non-null  int64  \n",
            " 6   year          457163 non-null  float64\n",
            " 7   manufacturer  439993 non-null  object \n",
            " 8   model         453367 non-null  object \n",
            " 9   condition     265273 non-null  object \n",
            " 10  cylinders     287073 non-null  object \n",
            " 11  fuel          454976 non-null  object \n",
            " 12  odometer      402910 non-null  float64\n",
            " 13  title_status  455636 non-null  object \n",
            " 14  transmission  455771 non-null  object \n",
            " 15  VIN           270664 non-null  object \n",
            " 16  drive         324025 non-null  object \n",
            " 17  size          136865 non-null  object \n",
            " 18  type          345475 non-null  object \n",
            " 19  paint_color   317370 non-null  object \n",
            " 20  image_url     458185 non-null  object \n",
            " 21  description   458143 non-null  object \n",
            " 22  state         458213 non-null  object \n",
            " 23  lat           450765 non-null  float64\n",
            " 24  long          450765 non-null  float64\n",
            " 25  posting_date  458185 non-null  object \n",
            "dtypes: float64(4), int64(3), object(19)\n",
            "memory usage: 90.9+ MB\n"
          ],
          "name": "stdout"
        }
      ]
    },
    {
      "cell_type": "code",
      "metadata": {
        "colab": {
          "base_uri": "https://localhost:8080/",
          "height": 495
        },
        "id": "kMcBQFXJFalf",
        "outputId": "7edb12b3-97b0-4afe-c887-f11262aa0d12"
      },
      "source": [
        "df.describe(include='all')"
      ],
      "execution_count": 9,
      "outputs": [
        {
          "output_type": "execute_result",
          "data": {
            "text/html": [
              "<div>\n",
              "<style scoped>\n",
              "    .dataframe tbody tr th:only-of-type {\n",
              "        vertical-align: middle;\n",
              "    }\n",
              "\n",
              "    .dataframe tbody tr th {\n",
              "        vertical-align: top;\n",
              "    }\n",
              "\n",
              "    .dataframe thead th {\n",
              "        text-align: right;\n",
              "    }\n",
              "</style>\n",
              "<table border=\"1\" class=\"dataframe\">\n",
              "  <thead>\n",
              "    <tr style=\"text-align: right;\">\n",
              "      <th></th>\n",
              "      <th>Unnamed: 0</th>\n",
              "      <th>id</th>\n",
              "      <th>url</th>\n",
              "      <th>region</th>\n",
              "      <th>region_url</th>\n",
              "      <th>price</th>\n",
              "      <th>year</th>\n",
              "      <th>manufacturer</th>\n",
              "      <th>model</th>\n",
              "      <th>condition</th>\n",
              "      <th>cylinders</th>\n",
              "      <th>fuel</th>\n",
              "      <th>odometer</th>\n",
              "      <th>title_status</th>\n",
              "      <th>transmission</th>\n",
              "      <th>VIN</th>\n",
              "      <th>drive</th>\n",
              "      <th>size</th>\n",
              "      <th>type</th>\n",
              "      <th>paint_color</th>\n",
              "      <th>image_url</th>\n",
              "      <th>description</th>\n",
              "      <th>state</th>\n",
              "      <th>lat</th>\n",
              "      <th>long</th>\n",
              "      <th>posting_date</th>\n",
              "    </tr>\n",
              "  </thead>\n",
              "  <tbody>\n",
              "    <tr>\n",
              "      <th>count</th>\n",
              "      <td>458213.000000</td>\n",
              "      <td>4.582130e+05</td>\n",
              "      <td>458213</td>\n",
              "      <td>458213</td>\n",
              "      <td>458213</td>\n",
              "      <td>4.582130e+05</td>\n",
              "      <td>457163.000000</td>\n",
              "      <td>439993</td>\n",
              "      <td>453367</td>\n",
              "      <td>265273</td>\n",
              "      <td>287073</td>\n",
              "      <td>454976</td>\n",
              "      <td>4.029100e+05</td>\n",
              "      <td>455636</td>\n",
              "      <td>455771</td>\n",
              "      <td>270664</td>\n",
              "      <td>324025</td>\n",
              "      <td>136865</td>\n",
              "      <td>345475</td>\n",
              "      <td>317370</td>\n",
              "      <td>458185</td>\n",
              "      <td>458143</td>\n",
              "      <td>458213</td>\n",
              "      <td>450765.000000</td>\n",
              "      <td>450765.000000</td>\n",
              "      <td>458185</td>\n",
              "    </tr>\n",
              "    <tr>\n",
              "      <th>unique</th>\n",
              "      <td>NaN</td>\n",
              "      <td>NaN</td>\n",
              "      <td>458213</td>\n",
              "      <td>405</td>\n",
              "      <td>413</td>\n",
              "      <td>NaN</td>\n",
              "      <td>NaN</td>\n",
              "      <td>43</td>\n",
              "      <td>31520</td>\n",
              "      <td>6</td>\n",
              "      <td>8</td>\n",
              "      <td>5</td>\n",
              "      <td>NaN</td>\n",
              "      <td>6</td>\n",
              "      <td>3</td>\n",
              "      <td>133620</td>\n",
              "      <td>3</td>\n",
              "      <td>4</td>\n",
              "      <td>13</td>\n",
              "      <td>12</td>\n",
              "      <td>285404</td>\n",
              "      <td>384347</td>\n",
              "      <td>51</td>\n",
              "      <td>NaN</td>\n",
              "      <td>NaN</td>\n",
              "      <td>423805</td>\n",
              "    </tr>\n",
              "    <tr>\n",
              "      <th>top</th>\n",
              "      <td>NaN</td>\n",
              "      <td>NaN</td>\n",
              "      <td>https://visalia.craigslist.org/cto/d/tulare-sl...</td>\n",
              "      <td>columbus</td>\n",
              "      <td>https://bend.craigslist.org</td>\n",
              "      <td>NaN</td>\n",
              "      <td>NaN</td>\n",
              "      <td>ford</td>\n",
              "      <td>f-150</td>\n",
              "      <td>good</td>\n",
              "      <td>6 cylinders</td>\n",
              "      <td>gas</td>\n",
              "      <td>NaN</td>\n",
              "      <td>clean</td>\n",
              "      <td>automatic</td>\n",
              "      <td>1C4HJWDG6HL702229</td>\n",
              "      <td>4wd</td>\n",
              "      <td>full-size</td>\n",
              "      <td>sedan</td>\n",
              "      <td>white</td>\n",
              "      <td>https://images.craigslist.org/00c0c_1gCUGosl6w...</td>\n",
              "      <td>👉 BAD Credit, NO Credit - OKAY! We FINANCE ANY...</td>\n",
              "      <td>ca</td>\n",
              "      <td>NaN</td>\n",
              "      <td>NaN</td>\n",
              "      <td>2020-12-02T07:50:07-0600</td>\n",
              "    </tr>\n",
              "    <tr>\n",
              "      <th>freq</th>\n",
              "      <td>NaN</td>\n",
              "      <td>NaN</td>\n",
              "      <td>1</td>\n",
              "      <td>3818</td>\n",
              "      <td>2989</td>\n",
              "      <td>NaN</td>\n",
              "      <td>NaN</td>\n",
              "      <td>79666</td>\n",
              "      <td>8370</td>\n",
              "      <td>115685</td>\n",
              "      <td>105677</td>\n",
              "      <td>399399</td>\n",
              "      <td>NaN</td>\n",
              "      <td>439626</td>\n",
              "      <td>396322</td>\n",
              "      <td>194</td>\n",
              "      <td>139693</td>\n",
              "      <td>69736</td>\n",
              "      <td>92364</td>\n",
              "      <td>82786</td>\n",
              "      <td>194</td>\n",
              "      <td>247</td>\n",
              "      <td>51856</td>\n",
              "      <td>NaN</td>\n",
              "      <td>NaN</td>\n",
              "      <td>7</td>\n",
              "    </tr>\n",
              "    <tr>\n",
              "      <th>mean</th>\n",
              "      <td>229106.000000</td>\n",
              "      <td>7.235233e+09</td>\n",
              "      <td>NaN</td>\n",
              "      <td>NaN</td>\n",
              "      <td>NaN</td>\n",
              "      <td>4.042093e+04</td>\n",
              "      <td>2010.746067</td>\n",
              "      <td>NaN</td>\n",
              "      <td>NaN</td>\n",
              "      <td>NaN</td>\n",
              "      <td>NaN</td>\n",
              "      <td>NaN</td>\n",
              "      <td>1.016698e+05</td>\n",
              "      <td>NaN</td>\n",
              "      <td>NaN</td>\n",
              "      <td>NaN</td>\n",
              "      <td>NaN</td>\n",
              "      <td>NaN</td>\n",
              "      <td>NaN</td>\n",
              "      <td>NaN</td>\n",
              "      <td>NaN</td>\n",
              "      <td>NaN</td>\n",
              "      <td>NaN</td>\n",
              "      <td>38.531925</td>\n",
              "      <td>-94.375824</td>\n",
              "      <td>NaN</td>\n",
              "    </tr>\n",
              "    <tr>\n",
              "      <th>std</th>\n",
              "      <td>132274.843786</td>\n",
              "      <td>4.594362e+06</td>\n",
              "      <td>NaN</td>\n",
              "      <td>NaN</td>\n",
              "      <td>NaN</td>\n",
              "      <td>8.194599e+06</td>\n",
              "      <td>8.868136</td>\n",
              "      <td>NaN</td>\n",
              "      <td>NaN</td>\n",
              "      <td>NaN</td>\n",
              "      <td>NaN</td>\n",
              "      <td>NaN</td>\n",
              "      <td>3.228623e+06</td>\n",
              "      <td>NaN</td>\n",
              "      <td>NaN</td>\n",
              "      <td>NaN</td>\n",
              "      <td>NaN</td>\n",
              "      <td>NaN</td>\n",
              "      <td>NaN</td>\n",
              "      <td>NaN</td>\n",
              "      <td>NaN</td>\n",
              "      <td>NaN</td>\n",
              "      <td>NaN</td>\n",
              "      <td>5.857378</td>\n",
              "      <td>18.076225</td>\n",
              "      <td>NaN</td>\n",
              "    </tr>\n",
              "    <tr>\n",
              "      <th>min</th>\n",
              "      <td>0.000000</td>\n",
              "      <td>7.208550e+09</td>\n",
              "      <td>NaN</td>\n",
              "      <td>NaN</td>\n",
              "      <td>NaN</td>\n",
              "      <td>0.000000e+00</td>\n",
              "      <td>1900.000000</td>\n",
              "      <td>NaN</td>\n",
              "      <td>NaN</td>\n",
              "      <td>NaN</td>\n",
              "      <td>NaN</td>\n",
              "      <td>NaN</td>\n",
              "      <td>0.000000e+00</td>\n",
              "      <td>NaN</td>\n",
              "      <td>NaN</td>\n",
              "      <td>NaN</td>\n",
              "      <td>NaN</td>\n",
              "      <td>NaN</td>\n",
              "      <td>NaN</td>\n",
              "      <td>NaN</td>\n",
              "      <td>NaN</td>\n",
              "      <td>NaN</td>\n",
              "      <td>NaN</td>\n",
              "      <td>-82.607549</td>\n",
              "      <td>-164.091797</td>\n",
              "      <td>NaN</td>\n",
              "    </tr>\n",
              "    <tr>\n",
              "      <th>25%</th>\n",
              "      <td>114553.000000</td>\n",
              "      <td>7.231953e+09</td>\n",
              "      <td>NaN</td>\n",
              "      <td>NaN</td>\n",
              "      <td>NaN</td>\n",
              "      <td>4.900000e+03</td>\n",
              "      <td>2008.000000</td>\n",
              "      <td>NaN</td>\n",
              "      <td>NaN</td>\n",
              "      <td>NaN</td>\n",
              "      <td>NaN</td>\n",
              "      <td>NaN</td>\n",
              "      <td>4.087700e+04</td>\n",
              "      <td>NaN</td>\n",
              "      <td>NaN</td>\n",
              "      <td>NaN</td>\n",
              "      <td>NaN</td>\n",
              "      <td>NaN</td>\n",
              "      <td>NaN</td>\n",
              "      <td>NaN</td>\n",
              "      <td>NaN</td>\n",
              "      <td>NaN</td>\n",
              "      <td>NaN</td>\n",
              "      <td>34.600000</td>\n",
              "      <td>-110.890427</td>\n",
              "      <td>NaN</td>\n",
              "    </tr>\n",
              "    <tr>\n",
              "      <th>50%</th>\n",
              "      <td>229106.000000</td>\n",
              "      <td>7.236409e+09</td>\n",
              "      <td>NaN</td>\n",
              "      <td>NaN</td>\n",
              "      <td>NaN</td>\n",
              "      <td>1.099500e+04</td>\n",
              "      <td>2013.000000</td>\n",
              "      <td>NaN</td>\n",
              "      <td>NaN</td>\n",
              "      <td>NaN</td>\n",
              "      <td>NaN</td>\n",
              "      <td>NaN</td>\n",
              "      <td>8.764100e+04</td>\n",
              "      <td>NaN</td>\n",
              "      <td>NaN</td>\n",
              "      <td>NaN</td>\n",
              "      <td>NaN</td>\n",
              "      <td>NaN</td>\n",
              "      <td>NaN</td>\n",
              "      <td>NaN</td>\n",
              "      <td>NaN</td>\n",
              "      <td>NaN</td>\n",
              "      <td>NaN</td>\n",
              "      <td>39.244500</td>\n",
              "      <td>-88.314889</td>\n",
              "      <td>NaN</td>\n",
              "    </tr>\n",
              "    <tr>\n",
              "      <th>75%</th>\n",
              "      <td>343659.000000</td>\n",
              "      <td>7.239321e+09</td>\n",
              "      <td>NaN</td>\n",
              "      <td>NaN</td>\n",
              "      <td>NaN</td>\n",
              "      <td>2.149500e+04</td>\n",
              "      <td>2016.000000</td>\n",
              "      <td>NaN</td>\n",
              "      <td>NaN</td>\n",
              "      <td>NaN</td>\n",
              "      <td>NaN</td>\n",
              "      <td>NaN</td>\n",
              "      <td>1.340000e+05</td>\n",
              "      <td>NaN</td>\n",
              "      <td>NaN</td>\n",
              "      <td>NaN</td>\n",
              "      <td>NaN</td>\n",
              "      <td>NaN</td>\n",
              "      <td>NaN</td>\n",
              "      <td>NaN</td>\n",
              "      <td>NaN</td>\n",
              "      <td>NaN</td>\n",
              "      <td>NaN</td>\n",
              "      <td>42.484503</td>\n",
              "      <td>-81.015022</td>\n",
              "      <td>NaN</td>\n",
              "    </tr>\n",
              "    <tr>\n",
              "      <th>max</th>\n",
              "      <td>458212.000000</td>\n",
              "      <td>7.241019e+09</td>\n",
              "      <td>NaN</td>\n",
              "      <td>NaN</td>\n",
              "      <td>NaN</td>\n",
              "      <td>3.615215e+09</td>\n",
              "      <td>2021.000000</td>\n",
              "      <td>NaN</td>\n",
              "      <td>NaN</td>\n",
              "      <td>NaN</td>\n",
              "      <td>NaN</td>\n",
              "      <td>NaN</td>\n",
              "      <td>2.043756e+09</td>\n",
              "      <td>NaN</td>\n",
              "      <td>NaN</td>\n",
              "      <td>NaN</td>\n",
              "      <td>NaN</td>\n",
              "      <td>NaN</td>\n",
              "      <td>NaN</td>\n",
              "      <td>NaN</td>\n",
              "      <td>NaN</td>\n",
              "      <td>NaN</td>\n",
              "      <td>NaN</td>\n",
              "      <td>82.049255</td>\n",
              "      <td>150.898969</td>\n",
              "      <td>NaN</td>\n",
              "    </tr>\n",
              "  </tbody>\n",
              "</table>\n",
              "</div>"
            ],
            "text/plain": [
              "           Unnamed: 0            id  ...           long              posting_date\n",
              "count   458213.000000  4.582130e+05  ...  450765.000000                    458185\n",
              "unique            NaN           NaN  ...            NaN                    423805\n",
              "top               NaN           NaN  ...            NaN  2020-12-02T07:50:07-0600\n",
              "freq              NaN           NaN  ...            NaN                         7\n",
              "mean    229106.000000  7.235233e+09  ...     -94.375824                       NaN\n",
              "std     132274.843786  4.594362e+06  ...      18.076225                       NaN\n",
              "min          0.000000  7.208550e+09  ...    -164.091797                       NaN\n",
              "25%     114553.000000  7.231953e+09  ...    -110.890427                       NaN\n",
              "50%     229106.000000  7.236409e+09  ...     -88.314889                       NaN\n",
              "75%     343659.000000  7.239321e+09  ...     -81.015022                       NaN\n",
              "max     458212.000000  7.241019e+09  ...     150.898969                       NaN\n",
              "\n",
              "[11 rows x 26 columns]"
            ]
          },
          "metadata": {
            "tags": []
          },
          "execution_count": 9
        }
      ]
    },
    {
      "cell_type": "code",
      "metadata": {
        "id": "wGOFOfvZGJpv"
      },
      "source": [
        "# following the columns Foba maintained\r\n",
        "df = df[['region', 'year', 'manufacturer', 'model', 'cylinders', 'fuel', 'odometer', 'description', 'title_status', 'transmission', 'drive', 'type', 'paint_color', 'state', 'price']]"
      ],
      "execution_count": 10,
      "outputs": []
    },
    {
      "cell_type": "code",
      "metadata": {
        "colab": {
          "base_uri": "https://localhost:8080/"
        },
        "id": "ZmZ2wxzWGCH7",
        "outputId": "e184d6ea-8f87-4665-ffb3-118cb6c313d0"
      },
      "source": [
        "df.shape"
      ],
      "execution_count": 11,
      "outputs": [
        {
          "output_type": "execute_result",
          "data": {
            "text/plain": [
              "(458213, 15)"
            ]
          },
          "metadata": {
            "tags": []
          },
          "execution_count": 11
        }
      ]
    },
    {
      "cell_type": "code",
      "metadata": {
        "colab": {
          "base_uri": "https://localhost:8080/",
          "height": 323
        },
        "id": "MgJUJt6lGePS",
        "outputId": "f4aad16e-a7a8-43dc-c346-4732c5fa9045"
      },
      "source": [
        "df.head()"
      ],
      "execution_count": 12,
      "outputs": [
        {
          "output_type": "execute_result",
          "data": {
            "text/html": [
              "<div>\n",
              "<style scoped>\n",
              "    .dataframe tbody tr th:only-of-type {\n",
              "        vertical-align: middle;\n",
              "    }\n",
              "\n",
              "    .dataframe tbody tr th {\n",
              "        vertical-align: top;\n",
              "    }\n",
              "\n",
              "    .dataframe thead th {\n",
              "        text-align: right;\n",
              "    }\n",
              "</style>\n",
              "<table border=\"1\" class=\"dataframe\">\n",
              "  <thead>\n",
              "    <tr style=\"text-align: right;\">\n",
              "      <th></th>\n",
              "      <th>region</th>\n",
              "      <th>year</th>\n",
              "      <th>manufacturer</th>\n",
              "      <th>model</th>\n",
              "      <th>cylinders</th>\n",
              "      <th>fuel</th>\n",
              "      <th>odometer</th>\n",
              "      <th>description</th>\n",
              "      <th>title_status</th>\n",
              "      <th>transmission</th>\n",
              "      <th>drive</th>\n",
              "      <th>type</th>\n",
              "      <th>paint_color</th>\n",
              "      <th>state</th>\n",
              "      <th>price</th>\n",
              "    </tr>\n",
              "  </thead>\n",
              "  <tbody>\n",
              "    <tr>\n",
              "      <th>0</th>\n",
              "      <td>auburn</td>\n",
              "      <td>2010.0</td>\n",
              "      <td>chevrolet</td>\n",
              "      <td>corvette grand sport</td>\n",
              "      <td>8 cylinders</td>\n",
              "      <td>gas</td>\n",
              "      <td>32742.0</td>\n",
              "      <td>Carvana is the safer way to buy a car During t...</td>\n",
              "      <td>clean</td>\n",
              "      <td>other</td>\n",
              "      <td>rwd</td>\n",
              "      <td>other</td>\n",
              "      <td>NaN</td>\n",
              "      <td>al</td>\n",
              "      <td>35990</td>\n",
              "    </tr>\n",
              "    <tr>\n",
              "      <th>1</th>\n",
              "      <td>auburn</td>\n",
              "      <td>2014.0</td>\n",
              "      <td>hyundai</td>\n",
              "      <td>sonata</td>\n",
              "      <td>4 cylinders</td>\n",
              "      <td>gas</td>\n",
              "      <td>93600.0</td>\n",
              "      <td>I'll move to another city and try to sell my c...</td>\n",
              "      <td>clean</td>\n",
              "      <td>automatic</td>\n",
              "      <td>fwd</td>\n",
              "      <td>sedan</td>\n",
              "      <td>NaN</td>\n",
              "      <td>al</td>\n",
              "      <td>7500</td>\n",
              "    </tr>\n",
              "    <tr>\n",
              "      <th>2</th>\n",
              "      <td>auburn</td>\n",
              "      <td>2006.0</td>\n",
              "      <td>bmw</td>\n",
              "      <td>x3 3.0i</td>\n",
              "      <td>6 cylinders</td>\n",
              "      <td>gas</td>\n",
              "      <td>87046.0</td>\n",
              "      <td>Clean 2006 BMW X3 3.0I.  Beautiful and rare Bl...</td>\n",
              "      <td>clean</td>\n",
              "      <td>automatic</td>\n",
              "      <td>NaN</td>\n",
              "      <td>SUV</td>\n",
              "      <td>blue</td>\n",
              "      <td>al</td>\n",
              "      <td>4900</td>\n",
              "    </tr>\n",
              "    <tr>\n",
              "      <th>3</th>\n",
              "      <td>auburn</td>\n",
              "      <td>1974.0</td>\n",
              "      <td>chevrolet</td>\n",
              "      <td>c-10</td>\n",
              "      <td>4 cylinders</td>\n",
              "      <td>gas</td>\n",
              "      <td>190000.0</td>\n",
              "      <td>1974 chev. truck (LONG BED) NEW starter front ...</td>\n",
              "      <td>clean</td>\n",
              "      <td>automatic</td>\n",
              "      <td>rwd</td>\n",
              "      <td>pickup</td>\n",
              "      <td>blue</td>\n",
              "      <td>al</td>\n",
              "      <td>2000</td>\n",
              "    </tr>\n",
              "    <tr>\n",
              "      <th>4</th>\n",
              "      <td>auburn</td>\n",
              "      <td>2005.0</td>\n",
              "      <td>ford</td>\n",
              "      <td>f350 lariat</td>\n",
              "      <td>8 cylinders</td>\n",
              "      <td>diesel</td>\n",
              "      <td>116000.0</td>\n",
              "      <td>2005 Ford F350 Lariat (Bullet Proofed). This t...</td>\n",
              "      <td>lien</td>\n",
              "      <td>automatic</td>\n",
              "      <td>4wd</td>\n",
              "      <td>pickup</td>\n",
              "      <td>blue</td>\n",
              "      <td>al</td>\n",
              "      <td>19500</td>\n",
              "    </tr>\n",
              "  </tbody>\n",
              "</table>\n",
              "</div>"
            ],
            "text/plain": [
              "   region    year manufacturer  ... paint_color state  price\n",
              "0  auburn  2010.0    chevrolet  ...         NaN    al  35990\n",
              "1  auburn  2014.0      hyundai  ...         NaN    al   7500\n",
              "2  auburn  2006.0          bmw  ...        blue    al   4900\n",
              "3  auburn  1974.0    chevrolet  ...        blue    al   2000\n",
              "4  auburn  2005.0         ford  ...        blue    al  19500\n",
              "\n",
              "[5 rows x 15 columns]"
            ]
          },
          "metadata": {
            "tags": []
          },
          "execution_count": 12
        }
      ]
    },
    {
      "cell_type": "code",
      "metadata": {
        "colab": {
          "base_uri": "https://localhost:8080/"
        },
        "id": "l5bEgD9vGmI2",
        "outputId": "e652fe20-c189-42d4-e8b4-c1d4d78c0ae8"
      },
      "source": [
        "df.isnull().sum()"
      ],
      "execution_count": 13,
      "outputs": [
        {
          "output_type": "execute_result",
          "data": {
            "text/plain": [
              "region               0\n",
              "year              1050\n",
              "manufacturer     18220\n",
              "model             4846\n",
              "cylinders       171140\n",
              "fuel              3237\n",
              "odometer         55303\n",
              "description         70\n",
              "title_status      2577\n",
              "transmission      2442\n",
              "drive           134188\n",
              "type            112738\n",
              "paint_color     140843\n",
              "state                0\n",
              "price                0\n",
              "dtype: int64"
            ]
          },
          "metadata": {
            "tags": []
          },
          "execution_count": 13
        }
      ]
    },
    {
      "cell_type": "markdown",
      "metadata": {
        "id": "w95yXVajGuXC"
      },
      "source": [
        "# **Filling up columns with the highest numbers of missing values:'drive', 'type', 'paint_color' and 'manufacturer' from the description column**:"
      ]
    },
    {
      "cell_type": "markdown",
      "metadata": {
        "id": "V7IlGBQcG-lJ"
      },
      "source": [
        "**Observation**\r\n",
        "There are 3 unique drives, 13 unique types, 12 paint colors, 3 unique transmissions and 8 unique cylinders.\r\n",
        "\r\n",
        "New columns will be created for description, drive, type, paint_color and cylinder"
      ]
    },
    {
      "cell_type": "markdown",
      "metadata": {
        "id": "d6ZDG_COJKG6"
      },
      "source": [
        "**DESCRIPTION**"
      ]
    },
    {
      "cell_type": "code",
      "metadata": {
        "colab": {
          "base_uri": "https://localhost:8080/"
        },
        "id": "MPeELWO4JO8R",
        "outputId": "ab0d3101-6b5c-4d5c-9ba9-4fd76d47cf6c"
      },
      "source": [
        "#Converting strings within the description column to lower case\r\n",
        "\r\n",
        "df['new_description'] = df['description'].astype(str).apply(lambda x: x.lower())\r\n",
        "\r\n",
        "df['new_description']"
      ],
      "execution_count": 14,
      "outputs": [
        {
          "output_type": "execute_result",
          "data": {
            "text/plain": [
              "0         carvana is the safer way to buy a car during t...\n",
              "1         i'll move to another city and try to sell my c...\n",
              "2         clean 2006 bmw x3 3.0i.  beautiful and rare bl...\n",
              "3         1974 chev. truck (long bed) new starter front ...\n",
              "4         2005 ford f350 lariat (bullet proofed). this t...\n",
              "                                ...                        \n",
              "458208    2014 cadillac srx all wheel drive luxury colle...\n",
              "458209    2018 hyundai tucson se 2.0 i4 awd.  carfax ver...\n",
              "458210    53,000 miles. cosmetically, in near mint condi...\n",
              "458211    price reduction  turns out the engine is toast...\n",
              "458212    *** shipping available directly to you. call f...\n",
              "Name: new_description, Length: 458213, dtype: object"
            ]
          },
          "metadata": {
            "tags": []
          },
          "execution_count": 14
        }
      ]
    },
    {
      "cell_type": "code",
      "metadata": {
        "id": "JU-izjoS03EO",
        "colab": {
          "base_uri": "https://localhost:8080/"
        },
        "outputId": "bbb096d9-aa71-48f9-9d49-4bdf4d56f925"
      },
      "source": [
        "gc.collect()"
      ],
      "execution_count": 15,
      "outputs": [
        {
          "output_type": "execute_result",
          "data": {
            "text/plain": [
              "24"
            ]
          },
          "metadata": {
            "tags": []
          },
          "execution_count": 15
        }
      ]
    },
    {
      "cell_type": "markdown",
      "metadata": {
        "id": "07fNWbYoIScE"
      },
      "source": [
        "**DRIVE**"
      ]
    },
    {
      "cell_type": "code",
      "metadata": {
        "colab": {
          "base_uri": "https://localhost:8080/"
        },
        "id": "78LGk-wgIUys",
        "outputId": "36719c16-162b-4de2-f1df-ff9f3bdf46ae"
      },
      "source": [
        "drive = df.groupby('drive')['drive'].count()\r\n",
        "drive"
      ],
      "execution_count": 16,
      "outputs": [
        {
          "output_type": "execute_result",
          "data": {
            "text/plain": [
              "drive\n",
              "4wd    139693\n",
              "fwd    122602\n",
              "rwd     61730\n",
              "Name: drive, dtype: int64"
            ]
          },
          "metadata": {
            "tags": []
          },
          "execution_count": 16
        }
      ]
    },
    {
      "cell_type": "code",
      "metadata": {
        "id": "IMSt-sD0KJrv"
      },
      "source": [
        "#Creating a new column for drive by searching for occurrences of the 3 drive types within the description column\r\n",
        "\r\n",
        "\r\n",
        "df['newdrive'] = df.new_description.str.findall('(4wd|fwd|rwd)')\r\n",
        "\r\n",
        "df['newdrive'] = df['newdrive'].apply(', '.join)\r\n",
        "\r\n",
        "#if drive is NAN, replace with the value in 'new_drive'\r\n",
        "df.loc[df['drive'].isnull(), 'drive'] =  df['newdrive']\r\n"
      ],
      "execution_count": 17,
      "outputs": []
    },
    {
      "cell_type": "code",
      "metadata": {
        "id": "DWNVnKyC056I",
        "colab": {
          "base_uri": "https://localhost:8080/"
        },
        "outputId": "dd139680-bdd0-454a-fa01-0f5249072d72"
      },
      "source": [
        "gc.collect()"
      ],
      "execution_count": 18,
      "outputs": [
        {
          "output_type": "execute_result",
          "data": {
            "text/plain": [
              "0"
            ]
          },
          "metadata": {
            "tags": []
          },
          "execution_count": 18
        }
      ]
    },
    {
      "cell_type": "code",
      "metadata": {
        "colab": {
          "base_uri": "https://localhost:8080/",
          "height": 1000
        },
        "id": "dlCM2MzoLOfb",
        "outputId": "f4caf365-d37c-4ddf-ab2e-a00da23cb474"
      },
      "source": [
        "df[['drive','newdrive']].sample(50)"
      ],
      "execution_count": 19,
      "outputs": [
        {
          "output_type": "execute_result",
          "data": {
            "text/html": [
              "<div>\n",
              "<style scoped>\n",
              "    .dataframe tbody tr th:only-of-type {\n",
              "        vertical-align: middle;\n",
              "    }\n",
              "\n",
              "    .dataframe tbody tr th {\n",
              "        vertical-align: top;\n",
              "    }\n",
              "\n",
              "    .dataframe thead th {\n",
              "        text-align: right;\n",
              "    }\n",
              "</style>\n",
              "<table border=\"1\" class=\"dataframe\">\n",
              "  <thead>\n",
              "    <tr style=\"text-align: right;\">\n",
              "      <th></th>\n",
              "      <th>drive</th>\n",
              "      <th>newdrive</th>\n",
              "    </tr>\n",
              "  </thead>\n",
              "  <tbody>\n",
              "    <tr>\n",
              "      <th>439928</th>\n",
              "      <td>fwd</td>\n",
              "      <td>fwd</td>\n",
              "    </tr>\n",
              "    <tr>\n",
              "      <th>69678</th>\n",
              "      <td></td>\n",
              "      <td></td>\n",
              "    </tr>\n",
              "    <tr>\n",
              "      <th>147145</th>\n",
              "      <td>4wd</td>\n",
              "      <td></td>\n",
              "    </tr>\n",
              "    <tr>\n",
              "      <th>426015</th>\n",
              "      <td>rwd</td>\n",
              "      <td></td>\n",
              "    </tr>\n",
              "    <tr>\n",
              "      <th>325500</th>\n",
              "      <td>fwd</td>\n",
              "      <td></td>\n",
              "    </tr>\n",
              "    <tr>\n",
              "      <th>297100</th>\n",
              "      <td>4wd</td>\n",
              "      <td></td>\n",
              "    </tr>\n",
              "    <tr>\n",
              "      <th>78814</th>\n",
              "      <td>4wd</td>\n",
              "      <td></td>\n",
              "    </tr>\n",
              "    <tr>\n",
              "      <th>88349</th>\n",
              "      <td>fwd</td>\n",
              "      <td></td>\n",
              "    </tr>\n",
              "    <tr>\n",
              "      <th>448154</th>\n",
              "      <td>fwd</td>\n",
              "      <td>fwd</td>\n",
              "    </tr>\n",
              "    <tr>\n",
              "      <th>82417</th>\n",
              "      <td>fwd</td>\n",
              "      <td></td>\n",
              "    </tr>\n",
              "    <tr>\n",
              "      <th>275509</th>\n",
              "      <td></td>\n",
              "      <td></td>\n",
              "    </tr>\n",
              "    <tr>\n",
              "      <th>308455</th>\n",
              "      <td></td>\n",
              "      <td></td>\n",
              "    </tr>\n",
              "    <tr>\n",
              "      <th>63145</th>\n",
              "      <td>fwd</td>\n",
              "      <td>4wd, rwd, rwd, fwd, fwd, rwd, fwd, fwd, 4wd, 4...</td>\n",
              "    </tr>\n",
              "    <tr>\n",
              "      <th>34407</th>\n",
              "      <td>fwd</td>\n",
              "      <td></td>\n",
              "    </tr>\n",
              "    <tr>\n",
              "      <th>106040</th>\n",
              "      <td>4wd</td>\n",
              "      <td>4wd</td>\n",
              "    </tr>\n",
              "    <tr>\n",
              "      <th>321709</th>\n",
              "      <td>4wd</td>\n",
              "      <td>4wd, 4wd, 4wd, 4wd, 4wd, 4wd, 4wd</td>\n",
              "    </tr>\n",
              "    <tr>\n",
              "      <th>251706</th>\n",
              "      <td></td>\n",
              "      <td></td>\n",
              "    </tr>\n",
              "    <tr>\n",
              "      <th>229076</th>\n",
              "      <td>fwd</td>\n",
              "      <td></td>\n",
              "    </tr>\n",
              "    <tr>\n",
              "      <th>79558</th>\n",
              "      <td>rwd</td>\n",
              "      <td>rwd, rwd</td>\n",
              "    </tr>\n",
              "    <tr>\n",
              "      <th>274481</th>\n",
              "      <td>fwd</td>\n",
              "      <td></td>\n",
              "    </tr>\n",
              "    <tr>\n",
              "      <th>119282</th>\n",
              "      <td>4wd</td>\n",
              "      <td></td>\n",
              "    </tr>\n",
              "    <tr>\n",
              "      <th>402682</th>\n",
              "      <td>4wd</td>\n",
              "      <td>4wd</td>\n",
              "    </tr>\n",
              "    <tr>\n",
              "      <th>402168</th>\n",
              "      <td>fwd</td>\n",
              "      <td></td>\n",
              "    </tr>\n",
              "    <tr>\n",
              "      <th>366857</th>\n",
              "      <td>fwd</td>\n",
              "      <td></td>\n",
              "    </tr>\n",
              "    <tr>\n",
              "      <th>144179</th>\n",
              "      <td>fwd</td>\n",
              "      <td></td>\n",
              "    </tr>\n",
              "    <tr>\n",
              "      <th>445996</th>\n",
              "      <td>4wd</td>\n",
              "      <td>4wd</td>\n",
              "    </tr>\n",
              "    <tr>\n",
              "      <th>34828</th>\n",
              "      <td>fwd</td>\n",
              "      <td>fwd, fwd, fwd, fwd, fwd, fwd, 4wd, rwd, rwd, f...</td>\n",
              "    </tr>\n",
              "    <tr>\n",
              "      <th>379267</th>\n",
              "      <td>fwd</td>\n",
              "      <td></td>\n",
              "    </tr>\n",
              "    <tr>\n",
              "      <th>283983</th>\n",
              "      <td>4wd</td>\n",
              "      <td>4wd</td>\n",
              "    </tr>\n",
              "    <tr>\n",
              "      <th>218706</th>\n",
              "      <td></td>\n",
              "      <td></td>\n",
              "    </tr>\n",
              "    <tr>\n",
              "      <th>366385</th>\n",
              "      <td>fwd</td>\n",
              "      <td>fwd</td>\n",
              "    </tr>\n",
              "    <tr>\n",
              "      <th>285942</th>\n",
              "      <td>fwd</td>\n",
              "      <td></td>\n",
              "    </tr>\n",
              "    <tr>\n",
              "      <th>338642</th>\n",
              "      <td></td>\n",
              "      <td></td>\n",
              "    </tr>\n",
              "    <tr>\n",
              "      <th>111439</th>\n",
              "      <td>rwd</td>\n",
              "      <td></td>\n",
              "    </tr>\n",
              "    <tr>\n",
              "      <th>359064</th>\n",
              "      <td></td>\n",
              "      <td></td>\n",
              "    </tr>\n",
              "    <tr>\n",
              "      <th>274230</th>\n",
              "      <td>4wd</td>\n",
              "      <td>fwd</td>\n",
              "    </tr>\n",
              "    <tr>\n",
              "      <th>318529</th>\n",
              "      <td>4wd</td>\n",
              "      <td>4wd, 4wd</td>\n",
              "    </tr>\n",
              "    <tr>\n",
              "      <th>88043</th>\n",
              "      <td></td>\n",
              "      <td></td>\n",
              "    </tr>\n",
              "    <tr>\n",
              "      <th>161925</th>\n",
              "      <td>fwd</td>\n",
              "      <td></td>\n",
              "    </tr>\n",
              "    <tr>\n",
              "      <th>204639</th>\n",
              "      <td>4wd, 4wd</td>\n",
              "      <td>4wd, 4wd</td>\n",
              "    </tr>\n",
              "    <tr>\n",
              "      <th>179427</th>\n",
              "      <td>4wd</td>\n",
              "      <td></td>\n",
              "    </tr>\n",
              "    <tr>\n",
              "      <th>235225</th>\n",
              "      <td>fwd</td>\n",
              "      <td></td>\n",
              "    </tr>\n",
              "    <tr>\n",
              "      <th>436972</th>\n",
              "      <td>4wd</td>\n",
              "      <td></td>\n",
              "    </tr>\n",
              "    <tr>\n",
              "      <th>231656</th>\n",
              "      <td>4wd</td>\n",
              "      <td></td>\n",
              "    </tr>\n",
              "    <tr>\n",
              "      <th>43860</th>\n",
              "      <td>fwd</td>\n",
              "      <td></td>\n",
              "    </tr>\n",
              "    <tr>\n",
              "      <th>81561</th>\n",
              "      <td>fwd</td>\n",
              "      <td></td>\n",
              "    </tr>\n",
              "    <tr>\n",
              "      <th>358372</th>\n",
              "      <td>4wd</td>\n",
              "      <td></td>\n",
              "    </tr>\n",
              "    <tr>\n",
              "      <th>342925</th>\n",
              "      <td>rwd</td>\n",
              "      <td></td>\n",
              "    </tr>\n",
              "    <tr>\n",
              "      <th>437291</th>\n",
              "      <td>4wd</td>\n",
              "      <td></td>\n",
              "    </tr>\n",
              "    <tr>\n",
              "      <th>47389</th>\n",
              "      <td>fwd</td>\n",
              "      <td>fwd</td>\n",
              "    </tr>\n",
              "  </tbody>\n",
              "</table>\n",
              "</div>"
            ],
            "text/plain": [
              "           drive                                           newdrive\n",
              "439928       fwd                                                fwd\n",
              "69678                                                              \n",
              "147145       4wd                                                   \n",
              "426015       rwd                                                   \n",
              "325500       fwd                                                   \n",
              "297100       4wd                                                   \n",
              "78814        4wd                                                   \n",
              "88349        fwd                                                   \n",
              "448154       fwd                                                fwd\n",
              "82417        fwd                                                   \n",
              "275509                                                             \n",
              "308455                                                             \n",
              "63145        fwd  4wd, rwd, rwd, fwd, fwd, rwd, fwd, fwd, 4wd, 4...\n",
              "34407        fwd                                                   \n",
              "106040       4wd                                                4wd\n",
              "321709       4wd                  4wd, 4wd, 4wd, 4wd, 4wd, 4wd, 4wd\n",
              "251706                                                             \n",
              "229076       fwd                                                   \n",
              "79558        rwd                                           rwd, rwd\n",
              "274481       fwd                                                   \n",
              "119282       4wd                                                   \n",
              "402682       4wd                                                4wd\n",
              "402168       fwd                                                   \n",
              "366857       fwd                                                   \n",
              "144179       fwd                                                   \n",
              "445996       4wd                                                4wd\n",
              "34828        fwd  fwd, fwd, fwd, fwd, fwd, fwd, 4wd, rwd, rwd, f...\n",
              "379267       fwd                                                   \n",
              "283983       4wd                                                4wd\n",
              "218706                                                             \n",
              "366385       fwd                                                fwd\n",
              "285942       fwd                                                   \n",
              "338642                                                             \n",
              "111439       rwd                                                   \n",
              "359064                                                             \n",
              "274230       4wd                                                fwd\n",
              "318529       4wd                                           4wd, 4wd\n",
              "88043                                                              \n",
              "161925       fwd                                                   \n",
              "204639  4wd, 4wd                                           4wd, 4wd\n",
              "179427       4wd                                                   \n",
              "235225       fwd                                                   \n",
              "436972       4wd                                                   \n",
              "231656       4wd                                                   \n",
              "43860        fwd                                                   \n",
              "81561        fwd                                                   \n",
              "358372       4wd                                                   \n",
              "342925       rwd                                                   \n",
              "437291       4wd                                                   \n",
              "47389        fwd                                                fwd"
            ]
          },
          "metadata": {
            "tags": []
          },
          "execution_count": 19
        }
      ]
    },
    {
      "cell_type": "code",
      "metadata": {
        "colab": {
          "base_uri": "https://localhost:8080/"
        },
        "id": "4PFvrPxAqr-n",
        "outputId": "45ff1555-100b-4992-d7d3-0c80f825efe9"
      },
      "source": [
        "df[df['drive'] == ''].sum"
      ],
      "execution_count": 20,
      "outputs": [
        {
          "output_type": "execute_result",
          "data": {
            "text/plain": [
              "<bound method DataFrame.sum of              region  ...  newdrive\n",
              "2            auburn  ...          \n",
              "12           auburn  ...          \n",
              "13           auburn  ...          \n",
              "18           auburn  ...          \n",
              "20           auburn  ...          \n",
              "...             ...  ...       ...\n",
              "458194  northern WI  ...          \n",
              "458197    sheboygan  ...          \n",
              "458205       wausau  ...          \n",
              "458207       wausau  ...          \n",
              "458212      wyoming  ...          \n",
              "\n",
              "[105984 rows x 17 columns]>"
            ]
          },
          "metadata": {
            "tags": []
          },
          "execution_count": 20
        }
      ]
    },
    {
      "cell_type": "code",
      "metadata": {
        "id": "HWtQnxPW08sF",
        "colab": {
          "base_uri": "https://localhost:8080/"
        },
        "outputId": "15029517-48e3-41be-ae8a-1fd8f6e89738"
      },
      "source": [
        "gc.collect()"
      ],
      "execution_count": 21,
      "outputs": [
        {
          "output_type": "execute_result",
          "data": {
            "text/plain": [
              "24"
            ]
          },
          "metadata": {
            "tags": []
          },
          "execution_count": 21
        }
      ]
    },
    {
      "cell_type": "markdown",
      "metadata": {
        "id": "giqycvfFrA1g"
      },
      "source": [
        "**Observation**\r\n",
        "\r\n",
        "A TOTAL OF 105984 ROWS ARE STILL MISSING. \r\n",
        "\r\n",
        "HOWEVER, THAT IMPLIES THERE ARE AN ADDITIONAL 27,204 VALID ROWS ADDED TO THE     'drive'  COLUMN FROM THE 134,188 ROWS THAT WERE PREVIOUSLY NAN"
      ]
    },
    {
      "cell_type": "markdown",
      "metadata": {
        "id": "uvi43YMusI-3"
      },
      "source": [
        "**TYPE**"
      ]
    },
    {
      "cell_type": "code",
      "metadata": {
        "colab": {
          "base_uri": "https://localhost:8080/"
        },
        "id": "5vW8VHSBsVzy",
        "outputId": "90f0b602-a466-4d5c-f696-7ae3db4ed11b"
      },
      "source": [
        "type = df.groupby('type')['type'].count()\r\n",
        "type"
      ],
      "execution_count": 22,
      "outputs": [
        {
          "output_type": "execute_result",
          "data": {
            "text/plain": [
              "type\n",
              "SUV            79882\n",
              "bus              717\n",
              "convertible     6864\n",
              "coupe          19106\n",
              "hatchback      16388\n",
              "mini-van        6263\n",
              "offroad          647\n",
              "other          24160\n",
              "pickup         43343\n",
              "sedan          92364\n",
              "truck          35694\n",
              "van             9574\n",
              "wagon          10473\n",
              "Name: type, dtype: int64"
            ]
          },
          "metadata": {
            "tags": []
          },
          "execution_count": 22
        }
      ]
    },
    {
      "cell_type": "code",
      "metadata": {
        "id": "muJPZOpVudZi"
      },
      "source": [
        "#excluding 'other'\r\n",
        "df['new_type'] = df.new_description.str.findall('(suv|bus|convertible|coupe|hatchback|mini-van|offroad|pickup|sedan|truck|van|wagon)').apply(', '.join)\r\n",
        "\r\n",
        "df.loc[df['type'].isnull(), 'type'] =  df['new_type']"
      ],
      "execution_count": 23,
      "outputs": []
    },
    {
      "cell_type": "code",
      "metadata": {
        "id": "as7fvuqx0-fc",
        "colab": {
          "base_uri": "https://localhost:8080/"
        },
        "outputId": "7a5fe1a7-dc6d-449d-c7e6-75d7d01fc8ca"
      },
      "source": [
        "gc.collect()"
      ],
      "execution_count": 24,
      "outputs": [
        {
          "output_type": "execute_result",
          "data": {
            "text/plain": [
              "11"
            ]
          },
          "metadata": {
            "tags": []
          },
          "execution_count": 24
        }
      ]
    },
    {
      "cell_type": "code",
      "metadata": {
        "colab": {
          "base_uri": "https://localhost:8080/",
          "height": 419
        },
        "id": "iLoDp8O9GljW",
        "outputId": "63c024d3-30ed-4145-a6d6-92919ade7835"
      },
      "source": [
        "df[['type','new_type']]"
      ],
      "execution_count": 25,
      "outputs": [
        {
          "output_type": "execute_result",
          "data": {
            "text/html": [
              "<div>\n",
              "<style scoped>\n",
              "    .dataframe tbody tr th:only-of-type {\n",
              "        vertical-align: middle;\n",
              "    }\n",
              "\n",
              "    .dataframe tbody tr th {\n",
              "        vertical-align: top;\n",
              "    }\n",
              "\n",
              "    .dataframe thead th {\n",
              "        text-align: right;\n",
              "    }\n",
              "</style>\n",
              "<table border=\"1\" class=\"dataframe\">\n",
              "  <thead>\n",
              "    <tr style=\"text-align: right;\">\n",
              "      <th></th>\n",
              "      <th>type</th>\n",
              "      <th>new_type</th>\n",
              "    </tr>\n",
              "  </thead>\n",
              "  <tbody>\n",
              "    <tr>\n",
              "      <th>0</th>\n",
              "      <td>other</td>\n",
              "      <td>van, van, van, van, van, van, van, van, van, v...</td>\n",
              "    </tr>\n",
              "    <tr>\n",
              "      <th>1</th>\n",
              "      <td>sedan</td>\n",
              "      <td></td>\n",
              "    </tr>\n",
              "    <tr>\n",
              "      <th>2</th>\n",
              "      <td>SUV</td>\n",
              "      <td>van</td>\n",
              "    </tr>\n",
              "    <tr>\n",
              "      <th>3</th>\n",
              "      <td>pickup</td>\n",
              "      <td>truck</td>\n",
              "    </tr>\n",
              "    <tr>\n",
              "      <th>4</th>\n",
              "      <td>pickup</td>\n",
              "      <td>truck, truck, truck, truck, truck, truck, truck</td>\n",
              "    </tr>\n",
              "    <tr>\n",
              "      <th>...</th>\n",
              "      <td>...</td>\n",
              "      <td>...</td>\n",
              "    </tr>\n",
              "    <tr>\n",
              "      <th>458208</th>\n",
              "      <td>SUV</td>\n",
              "      <td>bus</td>\n",
              "    </tr>\n",
              "    <tr>\n",
              "      <th>458209</th>\n",
              "      <td>SUV</td>\n",
              "      <td>bus</td>\n",
              "    </tr>\n",
              "    <tr>\n",
              "      <th>458210</th>\n",
              "      <td>coupe</td>\n",
              "      <td>coupe</td>\n",
              "    </tr>\n",
              "    <tr>\n",
              "      <th>458211</th>\n",
              "      <td>SUV</td>\n",
              "      <td>truck</td>\n",
              "    </tr>\n",
              "    <tr>\n",
              "      <th>458212</th>\n",
              "      <td>truck, truck, truck, truck, truck, truck, truc...</td>\n",
              "      <td>truck, truck, truck, truck, truck, truck, truc...</td>\n",
              "    </tr>\n",
              "  </tbody>\n",
              "</table>\n",
              "<p>458213 rows × 2 columns</p>\n",
              "</div>"
            ],
            "text/plain": [
              "                                                     type                                           new_type\n",
              "0                                                   other  van, van, van, van, van, van, van, van, van, v...\n",
              "1                                                   sedan                                                   \n",
              "2                                                     SUV                                                van\n",
              "3                                                  pickup                                              truck\n",
              "4                                                  pickup    truck, truck, truck, truck, truck, truck, truck\n",
              "...                                                   ...                                                ...\n",
              "458208                                                SUV                                                bus\n",
              "458209                                                SUV                                                bus\n",
              "458210                                              coupe                                              coupe\n",
              "458211                                                SUV                                              truck\n",
              "458212  truck, truck, truck, truck, truck, truck, truc...  truck, truck, truck, truck, truck, truck, truc...\n",
              "\n",
              "[458213 rows x 2 columns]"
            ]
          },
          "metadata": {
            "tags": []
          },
          "execution_count": 25
        }
      ]
    },
    {
      "cell_type": "code",
      "metadata": {
        "colab": {
          "base_uri": "https://localhost:8080/"
        },
        "id": "crwd-1-4wqAh",
        "outputId": "0cce4a69-7b35-4366-cc68-f63bdb3876f2"
      },
      "source": [
        "df[df['type'] == ''].sum"
      ],
      "execution_count": 26,
      "outputs": [
        {
          "output_type": "execute_result",
          "data": {
            "text/plain": [
              "<bound method DataFrame.sum of              region    year  ... newdrive new_type\n",
              "13           auburn  2010.0  ...                  \n",
              "20           auburn  2003.0  ...                  \n",
              "44           auburn  1986.0  ...                  \n",
              "62           auburn  2007.0  ...                  \n",
              "102      birmingham  1961.0  ...                  \n",
              "...             ...     ...  ...      ...      ...\n",
              "458179    milwaukee  2002.0  ...                  \n",
              "458186    milwaukee  2013.0  ...                  \n",
              "458187    milwaukee  2014.0  ...                  \n",
              "458194  northern WI  2013.0  ...                  \n",
              "458198    sheboygan  1993.0  ...      4wd         \n",
              "\n",
              "[53293 rows x 18 columns]>"
            ]
          },
          "metadata": {
            "tags": []
          },
          "execution_count": 26
        }
      ]
    },
    {
      "cell_type": "code",
      "metadata": {
        "id": "HDtyOUo70_lN",
        "colab": {
          "base_uri": "https://localhost:8080/"
        },
        "outputId": "73d3bc85-b4a6-4ab0-c1f3-14dda3c4fd10"
      },
      "source": [
        "gc.collect()"
      ],
      "execution_count": 27,
      "outputs": [
        {
          "output_type": "execute_result",
          "data": {
            "text/plain": [
              "24"
            ]
          },
          "metadata": {
            "tags": []
          },
          "execution_count": 27
        }
      ]
    },
    {
      "cell_type": "markdown",
      "metadata": {
        "id": "Gi9IbiuCzFuv"
      },
      "source": [
        "**Observation** \r\n",
        "\r\n",
        "A TOTAL OF 53,293 ROWS ARE STILL EMPTY \r\n",
        "\r\n",
        "HOWEVER, A TOTAL OF 59,445 ROWS HAVE BEEN FILLED. ALTHOUGH SOME OF THE ROWS MIGHT STILL BE DROPPED OR CLEANED SINCE THEY HAVE MULTIPLE ENTRIES."
      ]
    },
    {
      "cell_type": "markdown",
      "metadata": {
        "id": "nehHMxzCzdde"
      },
      "source": [
        "**PAINT_COLOR**"
      ]
    },
    {
      "cell_type": "code",
      "metadata": {
        "colab": {
          "base_uri": "https://localhost:8080/"
        },
        "id": "vfrNvppxzr_V",
        "outputId": "da9070a2-9076-4764-8ab6-e1fd9dff31ed"
      },
      "source": [
        "paint_color = df.groupby('paint_color')['paint_color'].count()\r\n",
        "paint_color"
      ],
      "execution_count": 28,
      "outputs": [
        {
          "output_type": "execute_result",
          "data": {
            "text/plain": [
              "paint_color\n",
              "black     64145\n",
              "blue      32746\n",
              "brown      6028\n",
              "custom     8843\n",
              "green      7631\n",
              "grey      30455\n",
              "orange     1970\n",
              "purple      768\n",
              "red       33274\n",
              "silver    46722\n",
              "white     82786\n",
              "yellow     2002\n",
              "Name: paint_color, dtype: int64"
            ]
          },
          "metadata": {
            "tags": []
          },
          "execution_count": 28
        }
      ]
    },
    {
      "cell_type": "code",
      "metadata": {
        "colab": {
          "base_uri": "https://localhost:8080/"
        },
        "id": "yMtyhbBS88N1",
        "outputId": "ae17fdfa-4ce4-4984-d70b-a68bd290d431"
      },
      "source": [
        "df['paint_color']"
      ],
      "execution_count": 29,
      "outputs": [
        {
          "output_type": "execute_result",
          "data": {
            "text/plain": [
              "0            NaN\n",
              "1            NaN\n",
              "2           blue\n",
              "3           blue\n",
              "4           blue\n",
              "           ...  \n",
              "458208    silver\n",
              "458209     white\n",
              "458210     black\n",
              "458211     white\n",
              "458212       NaN\n",
              "Name: paint_color, Length: 458213, dtype: object"
            ]
          },
          "metadata": {
            "tags": []
          },
          "execution_count": 29
        }
      ]
    },
    {
      "cell_type": "code",
      "metadata": {
        "id": "U83xQkN15DEI"
      },
      "source": [
        "df['new_paint_color'] = df.new_description.str.findall('(black|blue|brown|custom|green|grey|orange|purple|red|silver|white|yellow|gray)').apply(', '.join)\r\n",
        "\r\n",
        "df.loc[df['paint_color'].isnull(), 'paint_color'] =  df['new_paint_color']"
      ],
      "execution_count": 30,
      "outputs": []
    },
    {
      "cell_type": "code",
      "metadata": {
        "id": "x21QJ6xx1AxG",
        "colab": {
          "base_uri": "https://localhost:8080/"
        },
        "outputId": "37efb36b-40b4-41a5-e155-2563aba126ea"
      },
      "source": [
        "gc.collect()"
      ],
      "execution_count": 31,
      "outputs": [
        {
          "output_type": "execute_result",
          "data": {
            "text/plain": [
              "11"
            ]
          },
          "metadata": {
            "tags": []
          },
          "execution_count": 31
        }
      ]
    },
    {
      "cell_type": "code",
      "metadata": {
        "colab": {
          "base_uri": "https://localhost:8080/",
          "height": 419
        },
        "id": "0I81HC2q1WGF",
        "outputId": "3b4d8b3b-a0f7-49b7-9b85-b94bd41032d6"
      },
      "source": [
        "df[['paint_color','new_paint_color']]"
      ],
      "execution_count": 32,
      "outputs": [
        {
          "output_type": "execute_result",
          "data": {
            "text/html": [
              "<div>\n",
              "<style scoped>\n",
              "    .dataframe tbody tr th:only-of-type {\n",
              "        vertical-align: middle;\n",
              "    }\n",
              "\n",
              "    .dataframe tbody tr th {\n",
              "        vertical-align: top;\n",
              "    }\n",
              "\n",
              "    .dataframe thead th {\n",
              "        text-align: right;\n",
              "    }\n",
              "</style>\n",
              "<table border=\"1\" class=\"dataframe\">\n",
              "  <thead>\n",
              "    <tr style=\"text-align: right;\">\n",
              "      <th></th>\n",
              "      <th>paint_color</th>\n",
              "      <th>new_paint_color</th>\n",
              "    </tr>\n",
              "  </thead>\n",
              "  <tbody>\n",
              "    <tr>\n",
              "      <th>0</th>\n",
              "      <td>custom, custom, red, red, gray, black, red, si...</td>\n",
              "      <td>custom, custom, red, red, gray, black, red, si...</td>\n",
              "    </tr>\n",
              "    <tr>\n",
              "      <th>1</th>\n",
              "      <td>blue</td>\n",
              "      <td>blue</td>\n",
              "    </tr>\n",
              "    <tr>\n",
              "      <th>2</th>\n",
              "      <td>blue</td>\n",
              "      <td>blue</td>\n",
              "    </tr>\n",
              "    <tr>\n",
              "      <th>3</th>\n",
              "      <td>blue</td>\n",
              "      <td></td>\n",
              "    </tr>\n",
              "    <tr>\n",
              "      <th>4</th>\n",
              "      <td>blue</td>\n",
              "      <td></td>\n",
              "    </tr>\n",
              "    <tr>\n",
              "      <th>...</th>\n",
              "      <td>...</td>\n",
              "      <td>...</td>\n",
              "    </tr>\n",
              "    <tr>\n",
              "      <th>458208</th>\n",
              "      <td>silver</td>\n",
              "      <td></td>\n",
              "    </tr>\n",
              "    <tr>\n",
              "      <th>458209</th>\n",
              "      <td>white</td>\n",
              "      <td>blue</td>\n",
              "    </tr>\n",
              "    <tr>\n",
              "      <th>458210</th>\n",
              "      <td>black</td>\n",
              "      <td></td>\n",
              "    </tr>\n",
              "    <tr>\n",
              "      <th>458211</th>\n",
              "      <td>white</td>\n",
              "      <td>red, red, red, red, blue, white, black, red, red</td>\n",
              "    </tr>\n",
              "    <tr>\n",
              "      <th>458212</th>\n",
              "      <td></td>\n",
              "      <td></td>\n",
              "    </tr>\n",
              "  </tbody>\n",
              "</table>\n",
              "<p>458213 rows × 2 columns</p>\n",
              "</div>"
            ],
            "text/plain": [
              "                                              paint_color                                    new_paint_color\n",
              "0       custom, custom, red, red, gray, black, red, si...  custom, custom, red, red, gray, black, red, si...\n",
              "1                                                    blue                                               blue\n",
              "2                                                    blue                                               blue\n",
              "3                                                    blue                                                   \n",
              "4                                                    blue                                                   \n",
              "...                                                   ...                                                ...\n",
              "458208                                             silver                                                   \n",
              "458209                                              white                                               blue\n",
              "458210                                              black                                                   \n",
              "458211                                              white   red, red, red, red, blue, white, black, red, red\n",
              "458212                                                                                                      \n",
              "\n",
              "[458213 rows x 2 columns]"
            ]
          },
          "metadata": {
            "tags": []
          },
          "execution_count": 32
        }
      ]
    },
    {
      "cell_type": "code",
      "metadata": {
        "colab": {
          "base_uri": "https://localhost:8080/"
        },
        "id": "EZ8TczUJAf1G",
        "outputId": "703cf36a-c277-4089-86ad-bbfe83877e82"
      },
      "source": [
        "df[df['paint_color'] == ''].sum"
      ],
      "execution_count": 33,
      "outputs": [
        {
          "output_type": "execute_result",
          "data": {
            "text/plain": [
              "<bound method DataFrame.sum of              region  ...  new_paint_color\n",
              "13           auburn  ...                 \n",
              "20           auburn  ...                 \n",
              "44           auburn  ...                 \n",
              "88       birmingham  ...                 \n",
              "102      birmingham  ...                 \n",
              "...             ...  ...              ...\n",
              "458177    milwaukee  ...                 \n",
              "458182    milwaukee  ...                 \n",
              "458186    milwaukee  ...                 \n",
              "458194  northern WI  ...                 \n",
              "458212      wyoming  ...                 \n",
              "\n",
              "[39029 rows x 19 columns]>"
            ]
          },
          "metadata": {
            "tags": []
          },
          "execution_count": 33
        }
      ]
    },
    {
      "cell_type": "code",
      "metadata": {
        "id": "j8lHaUsM1B-x",
        "colab": {
          "base_uri": "https://localhost:8080/"
        },
        "outputId": "768a7167-c752-45c8-a3a1-e656145c7365"
      },
      "source": [
        "gc.collect()"
      ],
      "execution_count": 34,
      "outputs": [
        {
          "output_type": "execute_result",
          "data": {
            "text/plain": [
              "24"
            ]
          },
          "metadata": {
            "tags": []
          },
          "execution_count": 34
        }
      ]
    },
    {
      "cell_type": "markdown",
      "metadata": {
        "id": "jRdXn9NYDKBz"
      },
      "source": [
        "**Observation** \r\n",
        "\r\n",
        "A TOTAL OF 39,572 ROWS ARE STILL EMPTY \r\n",
        "\r\n",
        "HOWEVER, A TOTAL OF 101,271 ROWS HAVE BEEN FILLED. ALTHOUGH SOME OF THE ROWS STILL NEEDS TO BE DROPPED OR CLEANED SINCE THERE ARE MULTIPLE ENTRIES."
      ]
    },
    {
      "cell_type": "markdown",
      "metadata": {
        "id": "CsUWnZDpJ0U7"
      },
      "source": [
        "**MANUFACTURER**"
      ]
    },
    {
      "cell_type": "code",
      "metadata": {
        "id": "5ZIdiayJJ3SS"
      },
      "source": [
        "df['new_manufacturer'] = df.new_description.str.findall('(volvo|volkswagen|toyota|tesla|subaru|saturn|rover|ram|porsche|pontiac|nissan|morgan|mitsubishi|mini|mercury|mercedes-benz|mazda|lincoln|lexus|land rover|kia|jeep|jaguar|infiniti|hyundai|honda|hennessey|harley-davidson|gmc|ford|fiat|ferrari|dodge|datsun|chrysler|chevrolet|cadillac|buick|bmw|audi|aston-martin|alfa-romeo|acura)').apply(', '.join)\r\n",
        "\r\n",
        "df.loc[df['manufacturer'].isnull(), 'manufacturer'] =  df['new_manufacturer']\r\n"
      ],
      "execution_count": 35,
      "outputs": []
    },
    {
      "cell_type": "code",
      "metadata": {
        "id": "XXq0kCzE1Djz",
        "colab": {
          "base_uri": "https://localhost:8080/"
        },
        "outputId": "b0b3e84f-a093-446d-d475-e48bdc02fe0c"
      },
      "source": [
        "gc.collect()"
      ],
      "execution_count": 36,
      "outputs": [
        {
          "output_type": "execute_result",
          "data": {
            "text/plain": [
              "11"
            ]
          },
          "metadata": {
            "tags": []
          },
          "execution_count": 36
        }
      ]
    },
    {
      "cell_type": "code",
      "metadata": {
        "colab": {
          "base_uri": "https://localhost:8080/",
          "height": 419
        },
        "id": "gZpZTouIODJb",
        "outputId": "a2fff529-3a14-47c5-d298-048bb5bcb066"
      },
      "source": [
        "df[['manufacturer','new_manufacturer']]"
      ],
      "execution_count": 37,
      "outputs": [
        {
          "output_type": "execute_result",
          "data": {
            "text/html": [
              "<div>\n",
              "<style scoped>\n",
              "    .dataframe tbody tr th:only-of-type {\n",
              "        vertical-align: middle;\n",
              "    }\n",
              "\n",
              "    .dataframe tbody tr th {\n",
              "        vertical-align: top;\n",
              "    }\n",
              "\n",
              "    .dataframe thead th {\n",
              "        text-align: right;\n",
              "    }\n",
              "</style>\n",
              "<table border=\"1\" class=\"dataframe\">\n",
              "  <thead>\n",
              "    <tr style=\"text-align: right;\">\n",
              "      <th></th>\n",
              "      <th>manufacturer</th>\n",
              "      <th>new_manufacturer</th>\n",
              "    </tr>\n",
              "  </thead>\n",
              "  <tbody>\n",
              "    <tr>\n",
              "      <th>0</th>\n",
              "      <td>chevrolet</td>\n",
              "      <td>chevrolet, ram, chevrolet, chevrolet, chevrole...</td>\n",
              "    </tr>\n",
              "    <tr>\n",
              "      <th>1</th>\n",
              "      <td>hyundai</td>\n",
              "      <td></td>\n",
              "    </tr>\n",
              "    <tr>\n",
              "      <th>2</th>\n",
              "      <td>bmw</td>\n",
              "      <td>bmw</td>\n",
              "    </tr>\n",
              "    <tr>\n",
              "      <th>3</th>\n",
              "      <td>chevrolet</td>\n",
              "      <td></td>\n",
              "    </tr>\n",
              "    <tr>\n",
              "      <th>4</th>\n",
              "      <td>ford</td>\n",
              "      <td>ford</td>\n",
              "    </tr>\n",
              "    <tr>\n",
              "      <th>...</th>\n",
              "      <td>...</td>\n",
              "      <td>...</td>\n",
              "    </tr>\n",
              "    <tr>\n",
              "      <th>458208</th>\n",
              "      <td>cadillac</td>\n",
              "      <td>cadillac</td>\n",
              "    </tr>\n",
              "    <tr>\n",
              "      <th>458209</th>\n",
              "      <td>hyundai</td>\n",
              "      <td>hyundai</td>\n",
              "    </tr>\n",
              "    <tr>\n",
              "      <th>458210</th>\n",
              "      <td>cadillac</td>\n",
              "      <td></td>\n",
              "    </tr>\n",
              "    <tr>\n",
              "      <th>458211</th>\n",
              "      <td>jeep</td>\n",
              "      <td>jeep, jeep, audi, jeep, jeep, jeep</td>\n",
              "    </tr>\n",
              "    <tr>\n",
              "      <th>458212</th>\n",
              "      <td>ram, chevrolet, dodge, ford</td>\n",
              "      <td>ram, chevrolet, dodge, ford</td>\n",
              "    </tr>\n",
              "  </tbody>\n",
              "</table>\n",
              "<p>458213 rows × 2 columns</p>\n",
              "</div>"
            ],
            "text/plain": [
              "                       manufacturer                                   new_manufacturer\n",
              "0                         chevrolet  chevrolet, ram, chevrolet, chevrolet, chevrole...\n",
              "1                           hyundai                                                   \n",
              "2                               bmw                                                bmw\n",
              "3                         chevrolet                                                   \n",
              "4                              ford                                               ford\n",
              "...                             ...                                                ...\n",
              "458208                     cadillac                                           cadillac\n",
              "458209                      hyundai                                            hyundai\n",
              "458210                     cadillac                                                   \n",
              "458211                         jeep                 jeep, jeep, audi, jeep, jeep, jeep\n",
              "458212  ram, chevrolet, dodge, ford                        ram, chevrolet, dodge, ford\n",
              "\n",
              "[458213 rows x 2 columns]"
            ]
          },
          "metadata": {
            "tags": []
          },
          "execution_count": 37
        }
      ]
    },
    {
      "cell_type": "code",
      "metadata": {
        "colab": {
          "base_uri": "https://localhost:8080/"
        },
        "id": "2FXpbhChOkjv",
        "outputId": "e0359e32-2049-4d5b-cf28-438d1409276c"
      },
      "source": [
        "df[df['manufacturer'] == ''].sum"
      ],
      "execution_count": 38,
      "outputs": [
        {
          "output_type": "execute_result",
          "data": {
            "text/plain": [
              "<bound method DataFrame.sum of             region  ...  new_manufacturer\n",
              "21          auburn  ...                  \n",
              "227     birmingham  ...                  \n",
              "238     birmingham  ...                  \n",
              "319     birmingham  ...                  \n",
              "323     birmingham  ...                  \n",
              "...            ...  ...               ...\n",
              "458107     madison  ...                  \n",
              "458115     madison  ...                  \n",
              "458118     madison  ...                  \n",
              "458162   milwaukee  ...                  \n",
              "458163   milwaukee  ...                  \n",
              "\n",
              "[8572 rows x 20 columns]>"
            ]
          },
          "metadata": {
            "tags": []
          },
          "execution_count": 38
        }
      ]
    },
    {
      "cell_type": "code",
      "metadata": {
        "id": "C4s6oRra1Ep-",
        "colab": {
          "base_uri": "https://localhost:8080/"
        },
        "outputId": "8efbc938-6749-4b1d-e975-049ec746fb03"
      },
      "source": [
        "gc.collect()"
      ],
      "execution_count": 39,
      "outputs": [
        {
          "output_type": "execute_result",
          "data": {
            "text/plain": [
              "24"
            ]
          },
          "metadata": {
            "tags": []
          },
          "execution_count": 39
        }
      ]
    },
    {
      "cell_type": "markdown",
      "metadata": {
        "id": "YiJkyBKOPSbq"
      },
      "source": [
        "A TOTAL OF 8,572 ROWS STILL HAVE 'manufacturer' AS EMPTY\r\n",
        "\r\n",
        "HOWEVER, A TOTAL OF 9,650 ROWS HAVE BEEN FILLED. "
      ]
    },
    {
      "cell_type": "markdown",
      "metadata": {
        "id": "cbGE8h9knxF9"
      },
      "source": [
        "# **FURTHER CLEANING**"
      ]
    },
    {
      "cell_type": "code",
      "metadata": {
        "colab": {
          "base_uri": "https://localhost:8080/",
          "height": 1000
        },
        "id": "-5EkVT4ChPon",
        "outputId": "a96388f8-4022-4091-b1ab-589aef4edf49"
      },
      "source": [
        "df"
      ],
      "execution_count": 40,
      "outputs": [
        {
          "output_type": "execute_result",
          "data": {
            "text/html": [
              "<div>\n",
              "<style scoped>\n",
              "    .dataframe tbody tr th:only-of-type {\n",
              "        vertical-align: middle;\n",
              "    }\n",
              "\n",
              "    .dataframe tbody tr th {\n",
              "        vertical-align: top;\n",
              "    }\n",
              "\n",
              "    .dataframe thead th {\n",
              "        text-align: right;\n",
              "    }\n",
              "</style>\n",
              "<table border=\"1\" class=\"dataframe\">\n",
              "  <thead>\n",
              "    <tr style=\"text-align: right;\">\n",
              "      <th></th>\n",
              "      <th>region</th>\n",
              "      <th>year</th>\n",
              "      <th>manufacturer</th>\n",
              "      <th>model</th>\n",
              "      <th>cylinders</th>\n",
              "      <th>fuel</th>\n",
              "      <th>odometer</th>\n",
              "      <th>description</th>\n",
              "      <th>title_status</th>\n",
              "      <th>transmission</th>\n",
              "      <th>drive</th>\n",
              "      <th>type</th>\n",
              "      <th>paint_color</th>\n",
              "      <th>state</th>\n",
              "      <th>price</th>\n",
              "      <th>new_description</th>\n",
              "      <th>newdrive</th>\n",
              "      <th>new_type</th>\n",
              "      <th>new_paint_color</th>\n",
              "      <th>new_manufacturer</th>\n",
              "    </tr>\n",
              "  </thead>\n",
              "  <tbody>\n",
              "    <tr>\n",
              "      <th>0</th>\n",
              "      <td>auburn</td>\n",
              "      <td>2010.0</td>\n",
              "      <td>chevrolet</td>\n",
              "      <td>corvette grand sport</td>\n",
              "      <td>8 cylinders</td>\n",
              "      <td>gas</td>\n",
              "      <td>32742.0</td>\n",
              "      <td>Carvana is the safer way to buy a car During t...</td>\n",
              "      <td>clean</td>\n",
              "      <td>other</td>\n",
              "      <td>rwd</td>\n",
              "      <td>other</td>\n",
              "      <td>custom, custom, red, red, gray, black, red, si...</td>\n",
              "      <td>al</td>\n",
              "      <td>35990</td>\n",
              "      <td>carvana is the safer way to buy a car during t...</td>\n",
              "      <td>rwd</td>\n",
              "      <td>van, van, van, van, van, van, van, van, van, v...</td>\n",
              "      <td>custom, custom, red, red, gray, black, red, si...</td>\n",
              "      <td>chevrolet, ram, chevrolet, chevrolet, chevrole...</td>\n",
              "    </tr>\n",
              "    <tr>\n",
              "      <th>1</th>\n",
              "      <td>auburn</td>\n",
              "      <td>2014.0</td>\n",
              "      <td>hyundai</td>\n",
              "      <td>sonata</td>\n",
              "      <td>4 cylinders</td>\n",
              "      <td>gas</td>\n",
              "      <td>93600.0</td>\n",
              "      <td>I'll move to another city and try to sell my c...</td>\n",
              "      <td>clean</td>\n",
              "      <td>automatic</td>\n",
              "      <td>fwd</td>\n",
              "      <td>sedan</td>\n",
              "      <td>blue</td>\n",
              "      <td>al</td>\n",
              "      <td>7500</td>\n",
              "      <td>i'll move to another city and try to sell my c...</td>\n",
              "      <td></td>\n",
              "      <td></td>\n",
              "      <td>blue</td>\n",
              "      <td></td>\n",
              "    </tr>\n",
              "    <tr>\n",
              "      <th>2</th>\n",
              "      <td>auburn</td>\n",
              "      <td>2006.0</td>\n",
              "      <td>bmw</td>\n",
              "      <td>x3 3.0i</td>\n",
              "      <td>6 cylinders</td>\n",
              "      <td>gas</td>\n",
              "      <td>87046.0</td>\n",
              "      <td>Clean 2006 BMW X3 3.0I.  Beautiful and rare Bl...</td>\n",
              "      <td>clean</td>\n",
              "      <td>automatic</td>\n",
              "      <td></td>\n",
              "      <td>SUV</td>\n",
              "      <td>blue</td>\n",
              "      <td>al</td>\n",
              "      <td>4900</td>\n",
              "      <td>clean 2006 bmw x3 3.0i.  beautiful and rare bl...</td>\n",
              "      <td></td>\n",
              "      <td>van</td>\n",
              "      <td>blue</td>\n",
              "      <td>bmw</td>\n",
              "    </tr>\n",
              "    <tr>\n",
              "      <th>3</th>\n",
              "      <td>auburn</td>\n",
              "      <td>1974.0</td>\n",
              "      <td>chevrolet</td>\n",
              "      <td>c-10</td>\n",
              "      <td>4 cylinders</td>\n",
              "      <td>gas</td>\n",
              "      <td>190000.0</td>\n",
              "      <td>1974 chev. truck (LONG BED) NEW starter front ...</td>\n",
              "      <td>clean</td>\n",
              "      <td>automatic</td>\n",
              "      <td>rwd</td>\n",
              "      <td>pickup</td>\n",
              "      <td>blue</td>\n",
              "      <td>al</td>\n",
              "      <td>2000</td>\n",
              "      <td>1974 chev. truck (long bed) new starter front ...</td>\n",
              "      <td></td>\n",
              "      <td>truck</td>\n",
              "      <td></td>\n",
              "      <td></td>\n",
              "    </tr>\n",
              "    <tr>\n",
              "      <th>4</th>\n",
              "      <td>auburn</td>\n",
              "      <td>2005.0</td>\n",
              "      <td>ford</td>\n",
              "      <td>f350 lariat</td>\n",
              "      <td>8 cylinders</td>\n",
              "      <td>diesel</td>\n",
              "      <td>116000.0</td>\n",
              "      <td>2005 Ford F350 Lariat (Bullet Proofed). This t...</td>\n",
              "      <td>lien</td>\n",
              "      <td>automatic</td>\n",
              "      <td>4wd</td>\n",
              "      <td>pickup</td>\n",
              "      <td>blue</td>\n",
              "      <td>al</td>\n",
              "      <td>19500</td>\n",
              "      <td>2005 ford f350 lariat (bullet proofed). this t...</td>\n",
              "      <td></td>\n",
              "      <td>truck, truck, truck, truck, truck, truck, truck</td>\n",
              "      <td></td>\n",
              "      <td>ford</td>\n",
              "    </tr>\n",
              "    <tr>\n",
              "      <th>...</th>\n",
              "      <td>...</td>\n",
              "      <td>...</td>\n",
              "      <td>...</td>\n",
              "      <td>...</td>\n",
              "      <td>...</td>\n",
              "      <td>...</td>\n",
              "      <td>...</td>\n",
              "      <td>...</td>\n",
              "      <td>...</td>\n",
              "      <td>...</td>\n",
              "      <td>...</td>\n",
              "      <td>...</td>\n",
              "      <td>...</td>\n",
              "      <td>...</td>\n",
              "      <td>...</td>\n",
              "      <td>...</td>\n",
              "      <td>...</td>\n",
              "      <td>...</td>\n",
              "      <td>...</td>\n",
              "      <td>...</td>\n",
              "    </tr>\n",
              "    <tr>\n",
              "      <th>458208</th>\n",
              "      <td>wausau</td>\n",
              "      <td>2014.0</td>\n",
              "      <td>cadillac</td>\n",
              "      <td>srx</td>\n",
              "      <td>6 cylinders</td>\n",
              "      <td>gas</td>\n",
              "      <td>83790.0</td>\n",
              "      <td>2014 Cadillac SRX All Wheel Drive Luxury Colle...</td>\n",
              "      <td>clean</td>\n",
              "      <td>automatic</td>\n",
              "      <td>4wd</td>\n",
              "      <td>SUV</td>\n",
              "      <td>silver</td>\n",
              "      <td>wi</td>\n",
              "      <td>14995</td>\n",
              "      <td>2014 cadillac srx all wheel drive luxury colle...</td>\n",
              "      <td></td>\n",
              "      <td>bus</td>\n",
              "      <td></td>\n",
              "      <td>cadillac</td>\n",
              "    </tr>\n",
              "    <tr>\n",
              "      <th>458209</th>\n",
              "      <td>wausau</td>\n",
              "      <td>2018.0</td>\n",
              "      <td>hyundai</td>\n",
              "      <td>tucson</td>\n",
              "      <td>4 cylinders</td>\n",
              "      <td>gas</td>\n",
              "      <td>31888.0</td>\n",
              "      <td>2018 Hyundai Tucson SE 2.0 I4 AWD.  Carfax ver...</td>\n",
              "      <td>clean</td>\n",
              "      <td>automatic</td>\n",
              "      <td>4wd</td>\n",
              "      <td>SUV</td>\n",
              "      <td>white</td>\n",
              "      <td>wi</td>\n",
              "      <td>17895</td>\n",
              "      <td>2018 hyundai tucson se 2.0 i4 awd.  carfax ver...</td>\n",
              "      <td></td>\n",
              "      <td>bus</td>\n",
              "      <td>blue</td>\n",
              "      <td>hyundai</td>\n",
              "    </tr>\n",
              "    <tr>\n",
              "      <th>458210</th>\n",
              "      <td>wyoming</td>\n",
              "      <td>2014.0</td>\n",
              "      <td>cadillac</td>\n",
              "      <td>cts coupe awd</td>\n",
              "      <td>6 cylinders</td>\n",
              "      <td>gas</td>\n",
              "      <td>53000.0</td>\n",
              "      <td>53,000 miles. Cosmetically, in near mint condi...</td>\n",
              "      <td>clean</td>\n",
              "      <td>automatic</td>\n",
              "      <td>4wd</td>\n",
              "      <td>coupe</td>\n",
              "      <td>black</td>\n",
              "      <td>wy</td>\n",
              "      <td>17900</td>\n",
              "      <td>53,000 miles. cosmetically, in near mint condi...</td>\n",
              "      <td></td>\n",
              "      <td>coupe</td>\n",
              "      <td></td>\n",
              "      <td></td>\n",
              "    </tr>\n",
              "    <tr>\n",
              "      <th>458211</th>\n",
              "      <td>wyoming</td>\n",
              "      <td>2008.0</td>\n",
              "      <td>jeep</td>\n",
              "      <td>grand cherokee</td>\n",
              "      <td>8 cylinders</td>\n",
              "      <td>gas</td>\n",
              "      <td>164000.0</td>\n",
              "      <td>PRICE REDUCTION  Turns out the engine is toast...</td>\n",
              "      <td>clean</td>\n",
              "      <td>automatic</td>\n",
              "      <td>4wd</td>\n",
              "      <td>SUV</td>\n",
              "      <td>white</td>\n",
              "      <td>wy</td>\n",
              "      <td>1300</td>\n",
              "      <td>price reduction  turns out the engine is toast...</td>\n",
              "      <td>4wd</td>\n",
              "      <td>truck</td>\n",
              "      <td>red, red, red, red, blue, white, black, red, red</td>\n",
              "      <td>jeep, jeep, audi, jeep, jeep, jeep</td>\n",
              "    </tr>\n",
              "    <tr>\n",
              "      <th>458212</th>\n",
              "      <td>wyoming</td>\n",
              "      <td>2008.0</td>\n",
              "      <td>ram, chevrolet, dodge, ford</td>\n",
              "      <td>International 4300</td>\n",
              "      <td>NaN</td>\n",
              "      <td>diesel</td>\n",
              "      <td>164000.0</td>\n",
              "      <td>*** SHIPPING AVAILABLE DIRECTLY TO YOU. CALL F...</td>\n",
              "      <td>clean</td>\n",
              "      <td>automatic</td>\n",
              "      <td></td>\n",
              "      <td>truck, truck, truck, truck, truck, truck, truc...</td>\n",
              "      <td></td>\n",
              "      <td>wy</td>\n",
              "      <td>22900</td>\n",
              "      <td>*** shipping available directly to you. call f...</td>\n",
              "      <td></td>\n",
              "      <td>truck, truck, truck, truck, truck, truck, truc...</td>\n",
              "      <td></td>\n",
              "      <td>ram, chevrolet, dodge, ford</td>\n",
              "    </tr>\n",
              "  </tbody>\n",
              "</table>\n",
              "<p>458213 rows × 20 columns</p>\n",
              "</div>"
            ],
            "text/plain": [
              "         region  ...                                   new_manufacturer\n",
              "0        auburn  ...  chevrolet, ram, chevrolet, chevrolet, chevrole...\n",
              "1        auburn  ...                                                   \n",
              "2        auburn  ...                                                bmw\n",
              "3        auburn  ...                                                   \n",
              "4        auburn  ...                                               ford\n",
              "...         ...  ...                                                ...\n",
              "458208   wausau  ...                                           cadillac\n",
              "458209   wausau  ...                                            hyundai\n",
              "458210  wyoming  ...                                                   \n",
              "458211  wyoming  ...                 jeep, jeep, audi, jeep, jeep, jeep\n",
              "458212  wyoming  ...                        ram, chevrolet, dodge, ford\n",
              "\n",
              "[458213 rows x 20 columns]"
            ]
          },
          "metadata": {
            "tags": []
          },
          "execution_count": 40
        }
      ]
    },
    {
      "cell_type": "code",
      "metadata": {
        "id": "-mop_kVQRRIx"
      },
      "source": [
        "#Drop all new columns\r\n",
        "#Drop all columns worked on that have more than one entry\r\n",
        "\r\n",
        "df = df.drop(columns=['new_description','newdrive','new_type','new_paint_color','new_manufacturer'])\r\n",
        "\r\n",
        "new_df = df[df['paint_color'].str.split().str.len()<2]\r\n",
        "new_df = new_df[new_df['type'].str.split().str.len()<2]\r\n",
        "new_df = new_df[new_df['drive'].str.split().str.len()<2]\r\n",
        "new_df = new_df[new_df['drive'].str.split().str.len()<3]\r\n",
        "\r\n",
        "new_df = new_df. replace(r'^\\s*$', np. nan, regex=True)"
      ],
      "execution_count": 41,
      "outputs": []
    },
    {
      "cell_type": "code",
      "metadata": {
        "id": "wLq4TKAn1KbR",
        "colab": {
          "base_uri": "https://localhost:8080/"
        },
        "outputId": "5144c642-78bd-4513-96e6-40b80350d30d"
      },
      "source": [
        "gc.collect()"
      ],
      "execution_count": 42,
      "outputs": [
        {
          "output_type": "execute_result",
          "data": {
            "text/plain": [
              "25"
            ]
          },
          "metadata": {
            "tags": []
          },
          "execution_count": 42
        }
      ]
    },
    {
      "cell_type": "code",
      "metadata": {
        "colab": {
          "base_uri": "https://localhost:8080/",
          "height": 861
        },
        "id": "IbO0ZsZzhUSV",
        "outputId": "87873d7d-9c48-4bc6-b489-4cf4af350328"
      },
      "source": [
        "new_df"
      ],
      "execution_count": 43,
      "outputs": [
        {
          "output_type": "execute_result",
          "data": {
            "text/html": [
              "<div>\n",
              "<style scoped>\n",
              "    .dataframe tbody tr th:only-of-type {\n",
              "        vertical-align: middle;\n",
              "    }\n",
              "\n",
              "    .dataframe tbody tr th {\n",
              "        vertical-align: top;\n",
              "    }\n",
              "\n",
              "    .dataframe thead th {\n",
              "        text-align: right;\n",
              "    }\n",
              "</style>\n",
              "<table border=\"1\" class=\"dataframe\">\n",
              "  <thead>\n",
              "    <tr style=\"text-align: right;\">\n",
              "      <th></th>\n",
              "      <th>region</th>\n",
              "      <th>year</th>\n",
              "      <th>manufacturer</th>\n",
              "      <th>model</th>\n",
              "      <th>cylinders</th>\n",
              "      <th>fuel</th>\n",
              "      <th>odometer</th>\n",
              "      <th>description</th>\n",
              "      <th>title_status</th>\n",
              "      <th>transmission</th>\n",
              "      <th>drive</th>\n",
              "      <th>type</th>\n",
              "      <th>paint_color</th>\n",
              "      <th>state</th>\n",
              "      <th>price</th>\n",
              "    </tr>\n",
              "  </thead>\n",
              "  <tbody>\n",
              "    <tr>\n",
              "      <th>1</th>\n",
              "      <td>auburn</td>\n",
              "      <td>2014.0</td>\n",
              "      <td>hyundai</td>\n",
              "      <td>sonata</td>\n",
              "      <td>4 cylinders</td>\n",
              "      <td>gas</td>\n",
              "      <td>93600.0</td>\n",
              "      <td>I'll move to another city and try to sell my c...</td>\n",
              "      <td>clean</td>\n",
              "      <td>automatic</td>\n",
              "      <td>fwd</td>\n",
              "      <td>sedan</td>\n",
              "      <td>blue</td>\n",
              "      <td>al</td>\n",
              "      <td>7500</td>\n",
              "    </tr>\n",
              "    <tr>\n",
              "      <th>2</th>\n",
              "      <td>auburn</td>\n",
              "      <td>2006.0</td>\n",
              "      <td>bmw</td>\n",
              "      <td>x3 3.0i</td>\n",
              "      <td>6 cylinders</td>\n",
              "      <td>gas</td>\n",
              "      <td>87046.0</td>\n",
              "      <td>Clean 2006 BMW X3 3.0I.  Beautiful and rare Bl...</td>\n",
              "      <td>clean</td>\n",
              "      <td>automatic</td>\n",
              "      <td>NaN</td>\n",
              "      <td>SUV</td>\n",
              "      <td>blue</td>\n",
              "      <td>al</td>\n",
              "      <td>4900</td>\n",
              "    </tr>\n",
              "    <tr>\n",
              "      <th>3</th>\n",
              "      <td>auburn</td>\n",
              "      <td>1974.0</td>\n",
              "      <td>chevrolet</td>\n",
              "      <td>c-10</td>\n",
              "      <td>4 cylinders</td>\n",
              "      <td>gas</td>\n",
              "      <td>190000.0</td>\n",
              "      <td>1974 chev. truck (LONG BED) NEW starter front ...</td>\n",
              "      <td>clean</td>\n",
              "      <td>automatic</td>\n",
              "      <td>rwd</td>\n",
              "      <td>pickup</td>\n",
              "      <td>blue</td>\n",
              "      <td>al</td>\n",
              "      <td>2000</td>\n",
              "    </tr>\n",
              "    <tr>\n",
              "      <th>4</th>\n",
              "      <td>auburn</td>\n",
              "      <td>2005.0</td>\n",
              "      <td>ford</td>\n",
              "      <td>f350 lariat</td>\n",
              "      <td>8 cylinders</td>\n",
              "      <td>diesel</td>\n",
              "      <td>116000.0</td>\n",
              "      <td>2005 Ford F350 Lariat (Bullet Proofed). This t...</td>\n",
              "      <td>lien</td>\n",
              "      <td>automatic</td>\n",
              "      <td>4wd</td>\n",
              "      <td>pickup</td>\n",
              "      <td>blue</td>\n",
              "      <td>al</td>\n",
              "      <td>19500</td>\n",
              "    </tr>\n",
              "    <tr>\n",
              "      <th>5</th>\n",
              "      <td>auburn</td>\n",
              "      <td>2016.0</td>\n",
              "      <td>toyota</td>\n",
              "      <td>tacoma double cab sr5</td>\n",
              "      <td>6 cylinders</td>\n",
              "      <td>gas</td>\n",
              "      <td>33290.0</td>\n",
              "      <td>Carvana is the safer way to buy a car During t...</td>\n",
              "      <td>clean</td>\n",
              "      <td>other</td>\n",
              "      <td>4wd</td>\n",
              "      <td>pickup</td>\n",
              "      <td>red</td>\n",
              "      <td>al</td>\n",
              "      <td>29590</td>\n",
              "    </tr>\n",
              "    <tr>\n",
              "      <th>...</th>\n",
              "      <td>...</td>\n",
              "      <td>...</td>\n",
              "      <td>...</td>\n",
              "      <td>...</td>\n",
              "      <td>...</td>\n",
              "      <td>...</td>\n",
              "      <td>...</td>\n",
              "      <td>...</td>\n",
              "      <td>...</td>\n",
              "      <td>...</td>\n",
              "      <td>...</td>\n",
              "      <td>...</td>\n",
              "      <td>...</td>\n",
              "      <td>...</td>\n",
              "      <td>...</td>\n",
              "    </tr>\n",
              "    <tr>\n",
              "      <th>458207</th>\n",
              "      <td>wausau</td>\n",
              "      <td>2017.0</td>\n",
              "      <td>audi</td>\n",
              "      <td>a4 premium plus quattro awd</td>\n",
              "      <td>NaN</td>\n",
              "      <td>gas</td>\n",
              "      <td>101270.0</td>\n",
              "      <td>2017 Audi A4 Premium Plus Quattro AWD ✔  We TA...</td>\n",
              "      <td>clean</td>\n",
              "      <td>automatic</td>\n",
              "      <td>NaN</td>\n",
              "      <td>sedan</td>\n",
              "      <td>red</td>\n",
              "      <td>wi</td>\n",
              "      <td>19950</td>\n",
              "    </tr>\n",
              "    <tr>\n",
              "      <th>458208</th>\n",
              "      <td>wausau</td>\n",
              "      <td>2014.0</td>\n",
              "      <td>cadillac</td>\n",
              "      <td>srx</td>\n",
              "      <td>6 cylinders</td>\n",
              "      <td>gas</td>\n",
              "      <td>83790.0</td>\n",
              "      <td>2014 Cadillac SRX All Wheel Drive Luxury Colle...</td>\n",
              "      <td>clean</td>\n",
              "      <td>automatic</td>\n",
              "      <td>4wd</td>\n",
              "      <td>SUV</td>\n",
              "      <td>silver</td>\n",
              "      <td>wi</td>\n",
              "      <td>14995</td>\n",
              "    </tr>\n",
              "    <tr>\n",
              "      <th>458209</th>\n",
              "      <td>wausau</td>\n",
              "      <td>2018.0</td>\n",
              "      <td>hyundai</td>\n",
              "      <td>tucson</td>\n",
              "      <td>4 cylinders</td>\n",
              "      <td>gas</td>\n",
              "      <td>31888.0</td>\n",
              "      <td>2018 Hyundai Tucson SE 2.0 I4 AWD.  Carfax ver...</td>\n",
              "      <td>clean</td>\n",
              "      <td>automatic</td>\n",
              "      <td>4wd</td>\n",
              "      <td>SUV</td>\n",
              "      <td>white</td>\n",
              "      <td>wi</td>\n",
              "      <td>17895</td>\n",
              "    </tr>\n",
              "    <tr>\n",
              "      <th>458210</th>\n",
              "      <td>wyoming</td>\n",
              "      <td>2014.0</td>\n",
              "      <td>cadillac</td>\n",
              "      <td>cts coupe awd</td>\n",
              "      <td>6 cylinders</td>\n",
              "      <td>gas</td>\n",
              "      <td>53000.0</td>\n",
              "      <td>53,000 miles. Cosmetically, in near mint condi...</td>\n",
              "      <td>clean</td>\n",
              "      <td>automatic</td>\n",
              "      <td>4wd</td>\n",
              "      <td>coupe</td>\n",
              "      <td>black</td>\n",
              "      <td>wy</td>\n",
              "      <td>17900</td>\n",
              "    </tr>\n",
              "    <tr>\n",
              "      <th>458211</th>\n",
              "      <td>wyoming</td>\n",
              "      <td>2008.0</td>\n",
              "      <td>jeep</td>\n",
              "      <td>grand cherokee</td>\n",
              "      <td>8 cylinders</td>\n",
              "      <td>gas</td>\n",
              "      <td>164000.0</td>\n",
              "      <td>PRICE REDUCTION  Turns out the engine is toast...</td>\n",
              "      <td>clean</td>\n",
              "      <td>automatic</td>\n",
              "      <td>4wd</td>\n",
              "      <td>SUV</td>\n",
              "      <td>white</td>\n",
              "      <td>wy</td>\n",
              "      <td>1300</td>\n",
              "    </tr>\n",
              "  </tbody>\n",
              "</table>\n",
              "<p>351112 rows × 15 columns</p>\n",
              "</div>"
            ],
            "text/plain": [
              "         region    year manufacturer  ... paint_color state  price\n",
              "1        auburn  2014.0      hyundai  ...        blue    al   7500\n",
              "2        auburn  2006.0          bmw  ...        blue    al   4900\n",
              "3        auburn  1974.0    chevrolet  ...        blue    al   2000\n",
              "4        auburn  2005.0         ford  ...        blue    al  19500\n",
              "5        auburn  2016.0       toyota  ...         red    al  29590\n",
              "...         ...     ...          ...  ...         ...   ...    ...\n",
              "458207   wausau  2017.0         audi  ...         red    wi  19950\n",
              "458208   wausau  2014.0     cadillac  ...      silver    wi  14995\n",
              "458209   wausau  2018.0      hyundai  ...       white    wi  17895\n",
              "458210  wyoming  2014.0     cadillac  ...       black    wy  17900\n",
              "458211  wyoming  2008.0         jeep  ...       white    wy   1300\n",
              "\n",
              "[351112 rows x 15 columns]"
            ]
          },
          "metadata": {
            "tags": []
          },
          "execution_count": 43
        }
      ]
    },
    {
      "cell_type": "code",
      "metadata": {
        "colab": {
          "base_uri": "https://localhost:8080/"
        },
        "id": "no1eKk4FXr6C",
        "outputId": "3fdc58dc-401d-4271-d298-5da487976408"
      },
      "source": [
        "new_df.isnull().sum()"
      ],
      "execution_count": 44,
      "outputs": [
        {
          "output_type": "execute_result",
          "data": {
            "text/plain": [
              "region               0\n",
              "year               921\n",
              "manufacturer      7031\n",
              "model             3642\n",
              "cylinders       106566\n",
              "fuel              2048\n",
              "odometer         36176\n",
              "description         70\n",
              "title_status      1370\n",
              "transmission      1300\n",
              "drive            76546\n",
              "type             44826\n",
              "paint_color      34935\n",
              "state                0\n",
              "price                0\n",
              "dtype: int64"
            ]
          },
          "metadata": {
            "tags": []
          },
          "execution_count": 44
        }
      ]
    },
    {
      "cell_type": "code",
      "metadata": {
        "colab": {
          "base_uri": "https://localhost:8080/",
          "height": 861
        },
        "id": "iMg5eMsFpgCt",
        "outputId": "b83274a1-a83b-461f-f821-f98a4211c26a"
      },
      "source": [
        "finalDataset = new_df.dropna()\r\n",
        "finalDataset"
      ],
      "execution_count": 45,
      "outputs": [
        {
          "output_type": "execute_result",
          "data": {
            "text/html": [
              "<div>\n",
              "<style scoped>\n",
              "    .dataframe tbody tr th:only-of-type {\n",
              "        vertical-align: middle;\n",
              "    }\n",
              "\n",
              "    .dataframe tbody tr th {\n",
              "        vertical-align: top;\n",
              "    }\n",
              "\n",
              "    .dataframe thead th {\n",
              "        text-align: right;\n",
              "    }\n",
              "</style>\n",
              "<table border=\"1\" class=\"dataframe\">\n",
              "  <thead>\n",
              "    <tr style=\"text-align: right;\">\n",
              "      <th></th>\n",
              "      <th>region</th>\n",
              "      <th>year</th>\n",
              "      <th>manufacturer</th>\n",
              "      <th>model</th>\n",
              "      <th>cylinders</th>\n",
              "      <th>fuel</th>\n",
              "      <th>odometer</th>\n",
              "      <th>description</th>\n",
              "      <th>title_status</th>\n",
              "      <th>transmission</th>\n",
              "      <th>drive</th>\n",
              "      <th>type</th>\n",
              "      <th>paint_color</th>\n",
              "      <th>state</th>\n",
              "      <th>price</th>\n",
              "    </tr>\n",
              "  </thead>\n",
              "  <tbody>\n",
              "    <tr>\n",
              "      <th>1</th>\n",
              "      <td>auburn</td>\n",
              "      <td>2014.0</td>\n",
              "      <td>hyundai</td>\n",
              "      <td>sonata</td>\n",
              "      <td>4 cylinders</td>\n",
              "      <td>gas</td>\n",
              "      <td>93600.0</td>\n",
              "      <td>I'll move to another city and try to sell my c...</td>\n",
              "      <td>clean</td>\n",
              "      <td>automatic</td>\n",
              "      <td>fwd</td>\n",
              "      <td>sedan</td>\n",
              "      <td>blue</td>\n",
              "      <td>al</td>\n",
              "      <td>7500</td>\n",
              "    </tr>\n",
              "    <tr>\n",
              "      <th>3</th>\n",
              "      <td>auburn</td>\n",
              "      <td>1974.0</td>\n",
              "      <td>chevrolet</td>\n",
              "      <td>c-10</td>\n",
              "      <td>4 cylinders</td>\n",
              "      <td>gas</td>\n",
              "      <td>190000.0</td>\n",
              "      <td>1974 chev. truck (LONG BED) NEW starter front ...</td>\n",
              "      <td>clean</td>\n",
              "      <td>automatic</td>\n",
              "      <td>rwd</td>\n",
              "      <td>pickup</td>\n",
              "      <td>blue</td>\n",
              "      <td>al</td>\n",
              "      <td>2000</td>\n",
              "    </tr>\n",
              "    <tr>\n",
              "      <th>4</th>\n",
              "      <td>auburn</td>\n",
              "      <td>2005.0</td>\n",
              "      <td>ford</td>\n",
              "      <td>f350 lariat</td>\n",
              "      <td>8 cylinders</td>\n",
              "      <td>diesel</td>\n",
              "      <td>116000.0</td>\n",
              "      <td>2005 Ford F350 Lariat (Bullet Proofed). This t...</td>\n",
              "      <td>lien</td>\n",
              "      <td>automatic</td>\n",
              "      <td>4wd</td>\n",
              "      <td>pickup</td>\n",
              "      <td>blue</td>\n",
              "      <td>al</td>\n",
              "      <td>19500</td>\n",
              "    </tr>\n",
              "    <tr>\n",
              "      <th>5</th>\n",
              "      <td>auburn</td>\n",
              "      <td>2016.0</td>\n",
              "      <td>toyota</td>\n",
              "      <td>tacoma double cab sr5</td>\n",
              "      <td>6 cylinders</td>\n",
              "      <td>gas</td>\n",
              "      <td>33290.0</td>\n",
              "      <td>Carvana is the safer way to buy a car During t...</td>\n",
              "      <td>clean</td>\n",
              "      <td>other</td>\n",
              "      <td>4wd</td>\n",
              "      <td>pickup</td>\n",
              "      <td>red</td>\n",
              "      <td>al</td>\n",
              "      <td>29590</td>\n",
              "    </tr>\n",
              "    <tr>\n",
              "      <th>6</th>\n",
              "      <td>auburn</td>\n",
              "      <td>2012.0</td>\n",
              "      <td>ford</td>\n",
              "      <td>mustang shelby gt500 coupe</td>\n",
              "      <td>8 cylinders</td>\n",
              "      <td>gas</td>\n",
              "      <td>9692.0</td>\n",
              "      <td>Carvana is the safer way to buy a car During t...</td>\n",
              "      <td>clean</td>\n",
              "      <td>other</td>\n",
              "      <td>rwd</td>\n",
              "      <td>coupe</td>\n",
              "      <td>blue</td>\n",
              "      <td>al</td>\n",
              "      <td>39990</td>\n",
              "    </tr>\n",
              "    <tr>\n",
              "      <th>...</th>\n",
              "      <td>...</td>\n",
              "      <td>...</td>\n",
              "      <td>...</td>\n",
              "      <td>...</td>\n",
              "      <td>...</td>\n",
              "      <td>...</td>\n",
              "      <td>...</td>\n",
              "      <td>...</td>\n",
              "      <td>...</td>\n",
              "      <td>...</td>\n",
              "      <td>...</td>\n",
              "      <td>...</td>\n",
              "      <td>...</td>\n",
              "      <td>...</td>\n",
              "      <td>...</td>\n",
              "    </tr>\n",
              "    <tr>\n",
              "      <th>458206</th>\n",
              "      <td>wausau</td>\n",
              "      <td>2013.0</td>\n",
              "      <td>chevrolet</td>\n",
              "      <td>captiva</td>\n",
              "      <td>4 cylinders</td>\n",
              "      <td>gas</td>\n",
              "      <td>140000.0</td>\n",
              "      <td>2013 Chevy Captiva - Brand new battery - Runs ...</td>\n",
              "      <td>clean</td>\n",
              "      <td>automatic</td>\n",
              "      <td>fwd</td>\n",
              "      <td>SUV</td>\n",
              "      <td>blue</td>\n",
              "      <td>wi</td>\n",
              "      <td>5300</td>\n",
              "    </tr>\n",
              "    <tr>\n",
              "      <th>458208</th>\n",
              "      <td>wausau</td>\n",
              "      <td>2014.0</td>\n",
              "      <td>cadillac</td>\n",
              "      <td>srx</td>\n",
              "      <td>6 cylinders</td>\n",
              "      <td>gas</td>\n",
              "      <td>83790.0</td>\n",
              "      <td>2014 Cadillac SRX All Wheel Drive Luxury Colle...</td>\n",
              "      <td>clean</td>\n",
              "      <td>automatic</td>\n",
              "      <td>4wd</td>\n",
              "      <td>SUV</td>\n",
              "      <td>silver</td>\n",
              "      <td>wi</td>\n",
              "      <td>14995</td>\n",
              "    </tr>\n",
              "    <tr>\n",
              "      <th>458209</th>\n",
              "      <td>wausau</td>\n",
              "      <td>2018.0</td>\n",
              "      <td>hyundai</td>\n",
              "      <td>tucson</td>\n",
              "      <td>4 cylinders</td>\n",
              "      <td>gas</td>\n",
              "      <td>31888.0</td>\n",
              "      <td>2018 Hyundai Tucson SE 2.0 I4 AWD.  Carfax ver...</td>\n",
              "      <td>clean</td>\n",
              "      <td>automatic</td>\n",
              "      <td>4wd</td>\n",
              "      <td>SUV</td>\n",
              "      <td>white</td>\n",
              "      <td>wi</td>\n",
              "      <td>17895</td>\n",
              "    </tr>\n",
              "    <tr>\n",
              "      <th>458210</th>\n",
              "      <td>wyoming</td>\n",
              "      <td>2014.0</td>\n",
              "      <td>cadillac</td>\n",
              "      <td>cts coupe awd</td>\n",
              "      <td>6 cylinders</td>\n",
              "      <td>gas</td>\n",
              "      <td>53000.0</td>\n",
              "      <td>53,000 miles. Cosmetically, in near mint condi...</td>\n",
              "      <td>clean</td>\n",
              "      <td>automatic</td>\n",
              "      <td>4wd</td>\n",
              "      <td>coupe</td>\n",
              "      <td>black</td>\n",
              "      <td>wy</td>\n",
              "      <td>17900</td>\n",
              "    </tr>\n",
              "    <tr>\n",
              "      <th>458211</th>\n",
              "      <td>wyoming</td>\n",
              "      <td>2008.0</td>\n",
              "      <td>jeep</td>\n",
              "      <td>grand cherokee</td>\n",
              "      <td>8 cylinders</td>\n",
              "      <td>gas</td>\n",
              "      <td>164000.0</td>\n",
              "      <td>PRICE REDUCTION  Turns out the engine is toast...</td>\n",
              "      <td>clean</td>\n",
              "      <td>automatic</td>\n",
              "      <td>4wd</td>\n",
              "      <td>SUV</td>\n",
              "      <td>white</td>\n",
              "      <td>wy</td>\n",
              "      <td>1300</td>\n",
              "    </tr>\n",
              "  </tbody>\n",
              "</table>\n",
              "<p>186923 rows × 15 columns</p>\n",
              "</div>"
            ],
            "text/plain": [
              "         region    year manufacturer  ... paint_color state  price\n",
              "1        auburn  2014.0      hyundai  ...        blue    al   7500\n",
              "3        auburn  1974.0    chevrolet  ...        blue    al   2000\n",
              "4        auburn  2005.0         ford  ...        blue    al  19500\n",
              "5        auburn  2016.0       toyota  ...         red    al  29590\n",
              "6        auburn  2012.0         ford  ...        blue    al  39990\n",
              "...         ...     ...          ...  ...         ...   ...    ...\n",
              "458206   wausau  2013.0    chevrolet  ...        blue    wi   5300\n",
              "458208   wausau  2014.0     cadillac  ...      silver    wi  14995\n",
              "458209   wausau  2018.0      hyundai  ...       white    wi  17895\n",
              "458210  wyoming  2014.0     cadillac  ...       black    wy  17900\n",
              "458211  wyoming  2008.0         jeep  ...       white    wy   1300\n",
              "\n",
              "[186923 rows x 15 columns]"
            ]
          },
          "metadata": {
            "tags": []
          },
          "execution_count": 45
        }
      ]
    },
    {
      "cell_type": "markdown",
      "metadata": {
        "id": "DTjtgaCzqyhC"
      },
      "source": [
        "It is possible to get more rows by cleaning multiple entries instead of dropping them."
      ]
    },
    {
      "cell_type": "code",
      "metadata": {
        "colab": {
          "base_uri": "https://localhost:8080/"
        },
        "id": "kQKM8tZOmBeX",
        "outputId": "f4c37da1-c4f0-44b7-8c1c-4973304d7f12"
      },
      "source": [
        "gc.collect()"
      ],
      "execution_count": 46,
      "outputs": [
        {
          "output_type": "execute_result",
          "data": {
            "text/plain": [
              "37"
            ]
          },
          "metadata": {
            "tags": []
          },
          "execution_count": 46
        }
      ]
    },
    {
      "cell_type": "code",
      "metadata": {
        "id": "wiY2d-W3ovXp",
        "colab": {
          "base_uri": "https://localhost:8080/"
        },
        "outputId": "aa8bf305-0320-482e-b2b7-3bf138dbe803"
      },
      "source": [
        "finalDataset.columns"
      ],
      "execution_count": 47,
      "outputs": [
        {
          "output_type": "execute_result",
          "data": {
            "text/plain": [
              "Index(['region', 'year', 'manufacturer', 'model', 'cylinders', 'fuel',\n",
              "       'odometer', 'description', 'title_status', 'transmission', 'drive',\n",
              "       'type', 'paint_color', 'state', 'price'],\n",
              "      dtype='object')"
            ]
          },
          "metadata": {
            "tags": []
          },
          "execution_count": 47
        }
      ]
    },
    {
      "cell_type": "code",
      "metadata": {
        "id": "sRZKBoFIph82"
      },
      "source": [
        "df_new = finalDataset"
      ],
      "execution_count": 48,
      "outputs": []
    },
    {
      "cell_type": "code",
      "metadata": {
        "id": "GULhk8GCpnO_",
        "colab": {
          "base_uri": "https://localhost:8080/",
          "height": 297
        },
        "outputId": "7c277ba8-2acb-43e0-99ed-58e885ddb598"
      },
      "source": [
        "df_new.describe()"
      ],
      "execution_count": 49,
      "outputs": [
        {
          "output_type": "execute_result",
          "data": {
            "text/html": [
              "<div>\n",
              "<style scoped>\n",
              "    .dataframe tbody tr th:only-of-type {\n",
              "        vertical-align: middle;\n",
              "    }\n",
              "\n",
              "    .dataframe tbody tr th {\n",
              "        vertical-align: top;\n",
              "    }\n",
              "\n",
              "    .dataframe thead th {\n",
              "        text-align: right;\n",
              "    }\n",
              "</style>\n",
              "<table border=\"1\" class=\"dataframe\">\n",
              "  <thead>\n",
              "    <tr style=\"text-align: right;\">\n",
              "      <th></th>\n",
              "      <th>year</th>\n",
              "      <th>odometer</th>\n",
              "      <th>price</th>\n",
              "    </tr>\n",
              "  </thead>\n",
              "  <tbody>\n",
              "    <tr>\n",
              "      <th>count</th>\n",
              "      <td>186923.000000</td>\n",
              "      <td>1.869230e+05</td>\n",
              "      <td>1.869230e+05</td>\n",
              "    </tr>\n",
              "    <tr>\n",
              "      <th>mean</th>\n",
              "      <td>2010.955335</td>\n",
              "      <td>1.119302e+05</td>\n",
              "      <td>3.641704e+04</td>\n",
              "    </tr>\n",
              "    <tr>\n",
              "      <th>std</th>\n",
              "      <td>7.561292</td>\n",
              "      <td>4.728710e+06</td>\n",
              "      <td>8.373206e+06</td>\n",
              "    </tr>\n",
              "    <tr>\n",
              "      <th>min</th>\n",
              "      <td>1913.000000</td>\n",
              "      <td>0.000000e+00</td>\n",
              "      <td>0.000000e+00</td>\n",
              "    </tr>\n",
              "    <tr>\n",
              "      <th>25%</th>\n",
              "      <td>2008.000000</td>\n",
              "      <td>4.764800e+04</td>\n",
              "      <td>5.500000e+03</td>\n",
              "    </tr>\n",
              "    <tr>\n",
              "      <th>50%</th>\n",
              "      <td>2013.000000</td>\n",
              "      <td>9.408700e+04</td>\n",
              "      <td>1.129900e+04</td>\n",
              "    </tr>\n",
              "    <tr>\n",
              "      <th>75%</th>\n",
              "      <td>2016.000000</td>\n",
              "      <td>1.383120e+05</td>\n",
              "      <td>2.199000e+04</td>\n",
              "    </tr>\n",
              "    <tr>\n",
              "      <th>max</th>\n",
              "      <td>2021.000000</td>\n",
              "      <td>2.043756e+09</td>\n",
              "      <td>3.615215e+09</td>\n",
              "    </tr>\n",
              "  </tbody>\n",
              "</table>\n",
              "</div>"
            ],
            "text/plain": [
              "                year      odometer         price\n",
              "count  186923.000000  1.869230e+05  1.869230e+05\n",
              "mean     2010.955335  1.119302e+05  3.641704e+04\n",
              "std         7.561292  4.728710e+06  8.373206e+06\n",
              "min      1913.000000  0.000000e+00  0.000000e+00\n",
              "25%      2008.000000  4.764800e+04  5.500000e+03\n",
              "50%      2013.000000  9.408700e+04  1.129900e+04\n",
              "75%      2016.000000  1.383120e+05  2.199000e+04\n",
              "max      2021.000000  2.043756e+09  3.615215e+09"
            ]
          },
          "metadata": {
            "tags": []
          },
          "execution_count": 49
        }
      ]
    },
    {
      "cell_type": "markdown",
      "metadata": {
        "id": "hsZFcFhpp7NO"
      },
      "source": [
        "####Checking for outliers in price and odometer column"
      ]
    },
    {
      "cell_type": "markdown",
      "metadata": {
        "id": "L8nmcd5Bp8ET"
      },
      "source": [
        "####Price column"
      ]
    },
    {
      "cell_type": "code",
      "metadata": {
        "id": "4KvUavXoptY_",
        "colab": {
          "base_uri": "https://localhost:8080/",
          "height": 296
        },
        "outputId": "18fd0088-e5cd-4ca2-f6ca-00af224c891a"
      },
      "source": [
        "# boxplot before removing outliers in price column\r\n",
        "sns.boxplot(x = df_new['price'])"
      ],
      "execution_count": 50,
      "outputs": [
        {
          "output_type": "execute_result",
          "data": {
            "text/plain": [
              "<matplotlib.axes._subplots.AxesSubplot at 0x7fe372e3e3c8>"
            ]
          },
          "metadata": {
            "tags": []
          },
          "execution_count": 50
        },
        {
          "output_type": "display_data",
          "data": {
            "image/png": "[encoded data removed]",
            "text/plain": [
              "<Figure size 432x288 with 1 Axes>"
            ]
          },
          "metadata": {
            "tags": [],
            "needs_background": "light"
          }
        }
      ]
    },
    {
      "cell_type": "code",
      "metadata": {
        "id": "V4LC_E3uqCzZ"
      },
      "source": [
        "# since price value can't be 0, remove the rows with price of 0\r\n",
        "df_new = df_new[df_new['price']>0]"
      ],
      "execution_count": 51,
      "outputs": []
    },
    {
      "cell_type": "code",
      "metadata": {
        "id": "TNFK23pJqFrL",
        "colab": {
          "base_uri": "https://localhost:8080/"
        },
        "outputId": "6e8762eb-23c4-47a7-9ff7-a0b1a7351a69"
      },
      "source": [
        "# removing outliers from the price column using IQR\r\n",
        "Q1 = df_new['price'].quantile(0.25)\r\n",
        "Q3 = df_new['price'].quantile(0.75)\r\n",
        "\r\n",
        "IQR = Q3 - Q1\r\n",
        "\r\n",
        "lower_bound = Q1 - 1.5 * IQR\r\n",
        "upper_bound = Q3 + 1.5 * IQR\r\n",
        "print(lower_bound,upper_bound)"
      ],
      "execution_count": 52,
      "outputs": [
        {
          "output_type": "stream",
          "text": [
            "-18610.0 47950.0\n"
          ],
          "name": "stdout"
        }
      ]
    },
    {
      "cell_type": "code",
      "metadata": {
        "id": "eJXuIzBGqKb6"
      },
      "source": [
        "outliers = df_new[(df_new.price < lower_bound) | (df_new.price > upper_bound)]"
      ],
      "execution_count": 53,
      "outputs": []
    },
    {
      "cell_type": "code",
      "metadata": {
        "id": "dYl4hTfNqNCY"
      },
      "source": [
        "# new dataframe with price outliers dropPed\r\n",
        "df_new = df_new.drop(outliers.index)"
      ],
      "execution_count": 54,
      "outputs": []
    },
    {
      "cell_type": "code",
      "metadata": {
        "id": "JU-lUP3ooaWV",
        "colab": {
          "base_uri": "https://localhost:8080/",
          "height": 296
        },
        "outputId": "226b8a65-572b-40b5-c9a2-877b17e189a6"
      },
      "source": [
        "# boxplot after removing outliers in price column\r\n",
        "sns.boxplot(x = df_new['price'])"
      ],
      "execution_count": 55,
      "outputs": [
        {
          "output_type": "execute_result",
          "data": {
            "text/plain": [
              "<matplotlib.axes._subplots.AxesSubplot at 0x7fe372c3bf28>"
            ]
          },
          "metadata": {
            "tags": []
          },
          "execution_count": 55
        },
        {
          "output_type": "display_data",
          "data": {
            "image/png": "[encoded data removed]",
            "text/plain": [
              "<Figure size 432x288 with 1 Axes>"
            ]
          },
          "metadata": {
            "tags": [],
            "needs_background": "light"
          }
        }
      ]
    },
    {
      "cell_type": "markdown",
      "metadata": {
        "id": "669xAxRfqXvV"
      },
      "source": [
        "####Odometer column"
      ]
    },
    {
      "cell_type": "code",
      "metadata": {
        "id": "gMlY0YNRqU1j",
        "colab": {
          "base_uri": "https://localhost:8080/",
          "height": 296
        },
        "outputId": "dba6da09-d4d2-47e8-c32d-127eabf4dadb"
      },
      "source": [
        "# boxplot before removing outliers in odometer column\r\n",
        "sns.boxplot(x = df_new['odometer'])"
      ],
      "execution_count": 56,
      "outputs": [
        {
          "output_type": "execute_result",
          "data": {
            "text/plain": [
              "<matplotlib.axes._subplots.AxesSubplot at 0x7fe379b79438>"
            ]
          },
          "metadata": {
            "tags": []
          },
          "execution_count": 56
        },
        {
          "output_type": "display_data",
          "data": {
            "image/png": "[encoded data removed]",
            "text/plain": [
              "<Figure size 432x288 with 1 Axes>"
            ]
          },
          "metadata": {
            "tags": [],
            "needs_background": "light"
          }
        }
      ]
    },
    {
      "cell_type": "code",
      "metadata": {
        "id": "SZ6PSSoyqaF8",
        "colab": {
          "base_uri": "https://localhost:8080/"
        },
        "outputId": "2eacb754-c684-485d-ccc9-2c0f023ca91f"
      },
      "source": [
        "# removing outliers from the odometer column using IQR\r\n",
        "Q1 = df_new['odometer'].quantile(0.25)\r\n",
        "Q3 = df_new['odometer'].quantile(0.75)\r\n",
        "\r\n",
        "IQR = Q3 - Q1\r\n",
        "\r\n",
        "lower_bound = Q1 - 1.5 * IQR\r\n",
        "upper_bound = Q3 + 1.5 * IQR\r\n",
        "print(lower_bound,upper_bound)"
      ],
      "execution_count": 57,
      "outputs": [
        {
          "output_type": "stream",
          "text": [
            "-86452.5 277471.5\n"
          ],
          "name": "stdout"
        }
      ]
    },
    {
      "cell_type": "code",
      "metadata": {
        "id": "Q4DNq-S6qcVY"
      },
      "source": [
        "outliers = df_new[(df_new.odometer < lower_bound) | (df_new.odometer > upper_bound)]"
      ],
      "execution_count": 58,
      "outputs": []
    },
    {
      "cell_type": "code",
      "metadata": {
        "id": "gE0gRC7BqfoF"
      },
      "source": [
        "df_new = df_new.drop(outliers.index)"
      ],
      "execution_count": 59,
      "outputs": []
    },
    {
      "cell_type": "code",
      "metadata": {
        "id": "cK0gFGUPqirX",
        "colab": {
          "base_uri": "https://localhost:8080/",
          "height": 296
        },
        "outputId": "2fe7f301-5c3e-464f-cc25-0e80f93f5b0a"
      },
      "source": [
        "# boxplot after removing outliers in odometer column\r\n",
        "sns.boxplot(x = df_new['odometer'])"
      ],
      "execution_count": 60,
      "outputs": [
        {
          "output_type": "execute_result",
          "data": {
            "text/plain": [
              "<matplotlib.axes._subplots.AxesSubplot at 0x7fe3739a2c18>"
            ]
          },
          "metadata": {
            "tags": []
          },
          "execution_count": 60
        },
        {
          "output_type": "display_data",
          "data": {
            "image/png": "[encoded data removed]",
            "text/plain": [
              "<Figure size 432x288 with 1 Axes>"
            ]
          },
          "metadata": {
            "tags": [],
            "needs_background": "light"
          }
        }
      ]
    },
    {
      "cell_type": "code",
      "metadata": {
        "id": "0QQ-5PRQqktQ",
        "colab": {
          "base_uri": "https://localhost:8080/"
        },
        "outputId": "45bbd55c-a1f3-4ed5-d44a-a5b472ef156f"
      },
      "source": [
        "gc.collect()"
      ],
      "execution_count": 61,
      "outputs": [
        {
          "output_type": "execute_result",
          "data": {
            "text/plain": [
              "0"
            ]
          },
          "metadata": {
            "tags": []
          },
          "execution_count": 61
        }
      ]
    },
    {
      "cell_type": "code",
      "metadata": {
        "id": "SdcmztaYqn1D",
        "colab": {
          "base_uri": "https://localhost:8080/"
        },
        "outputId": "6b824e03-dc1d-405d-b7c2-9c855cb33570"
      },
      "source": [
        "# shape of the new dataset\r\n",
        "df_new.shape"
      ],
      "execution_count": 62,
      "outputs": [
        {
          "output_type": "execute_result",
          "data": {
            "text/plain": [
              "(171253, 15)"
            ]
          },
          "metadata": {
            "tags": []
          },
          "execution_count": 62
        }
      ]
    },
    {
      "cell_type": "code",
      "metadata": {
        "id": "pWilOaOaqpgr"
      },
      "source": [
        "#dropping the description column\r\n",
        "df_new.drop('description', axis=1, inplace=True)"
      ],
      "execution_count": 63,
      "outputs": []
    },
    {
      "cell_type": "code",
      "metadata": {
        "id": "BDMRQXG3q1Qn",
        "colab": {
          "base_uri": "https://localhost:8080/"
        },
        "outputId": "4a56d188-fc02-44c8-e60d-5465213bc69f"
      },
      "source": [
        "df_new.info()"
      ],
      "execution_count": 64,
      "outputs": [
        {
          "output_type": "stream",
          "text": [
            "<class 'pandas.core.frame.DataFrame'>\n",
            "Int64Index: 171253 entries, 1 to 458211\n",
            "Data columns (total 14 columns):\n",
            " #   Column        Non-Null Count   Dtype  \n",
            "---  ------        --------------   -----  \n",
            " 0   region        171253 non-null  object \n",
            " 1   year          171253 non-null  float64\n",
            " 2   manufacturer  171253 non-null  object \n",
            " 3   model         171253 non-null  object \n",
            " 4   cylinders     171253 non-null  object \n",
            " 5   fuel          171253 non-null  object \n",
            " 6   odometer      171253 non-null  float64\n",
            " 7   title_status  171253 non-null  object \n",
            " 8   transmission  171253 non-null  object \n",
            " 9   drive         171253 non-null  object \n",
            " 10  type          171253 non-null  object \n",
            " 11  paint_color   171253 non-null  object \n",
            " 12  state         171253 non-null  object \n",
            " 13  price         171253 non-null  int64  \n",
            "dtypes: float64(2), int64(1), object(11)\n",
            "memory usage: 19.6+ MB\n"
          ],
          "name": "stdout"
        }
      ]
    },
    {
      "cell_type": "markdown",
      "metadata": {
        "id": "63HwTLdgrZKc"
      },
      "source": [
        "**Using Label Encoder to convert categorical values to numbers** "
      ]
    },
    {
      "cell_type": "code",
      "metadata": {
        "id": "YVlQEmCrq7NE"
      },
      "source": [
        "le = LabelEncoder()"
      ],
      "execution_count": 65,
      "outputs": []
    },
    {
      "cell_type": "code",
      "metadata": {
        "id": "jZHK-QS7rbQy"
      },
      "source": [
        "df_new[['region','manufacturer','model','cylinders','fuel',\r\n",
        "        'title_status','transmission','drive','type','paint_color',\r\n",
        "        'state']] = df_new[['region','manufacturer','model',\r\n",
        "        'cylinders','fuel','title_status','transmission','drive',\r\n",
        "        'type','paint_color','state']].apply(le.fit_transform)"
      ],
      "execution_count": 66,
      "outputs": []
    },
    {
      "cell_type": "code",
      "metadata": {
        "id": "ycGsCcbhrgzk",
        "colab": {
          "base_uri": "https://localhost:8080/",
          "height": 419
        },
        "outputId": "c7ef4aa9-398d-41c4-fec5-397b4bbd7493"
      },
      "source": [
        "df_new"
      ],
      "execution_count": 67,
      "outputs": [
        {
          "output_type": "execute_result",
          "data": {
            "text/html": [
              "<div>\n",
              "<style scoped>\n",
              "    .dataframe tbody tr th:only-of-type {\n",
              "        vertical-align: middle;\n",
              "    }\n",
              "\n",
              "    .dataframe tbody tr th {\n",
              "        vertical-align: top;\n",
              "    }\n",
              "\n",
              "    .dataframe thead th {\n",
              "        text-align: right;\n",
              "    }\n",
              "</style>\n",
              "<table border=\"1\" class=\"dataframe\">\n",
              "  <thead>\n",
              "    <tr style=\"text-align: right;\">\n",
              "      <th></th>\n",
              "      <th>region</th>\n",
              "      <th>year</th>\n",
              "      <th>manufacturer</th>\n",
              "      <th>model</th>\n",
              "      <th>cylinders</th>\n",
              "      <th>fuel</th>\n",
              "      <th>odometer</th>\n",
              "      <th>title_status</th>\n",
              "      <th>transmission</th>\n",
              "      <th>drive</th>\n",
              "      <th>type</th>\n",
              "      <th>paint_color</th>\n",
              "      <th>state</th>\n",
              "      <th>price</th>\n",
              "    </tr>\n",
              "  </thead>\n",
              "  <tbody>\n",
              "    <tr>\n",
              "      <th>1</th>\n",
              "      <td>16</td>\n",
              "      <td>2014.0</td>\n",
              "      <td>193</td>\n",
              "      <td>12207</td>\n",
              "      <td>3</td>\n",
              "      <td>2</td>\n",
              "      <td>93600.0</td>\n",
              "      <td>0</td>\n",
              "      <td>0</td>\n",
              "      <td>1</td>\n",
              "      <td>9</td>\n",
              "      <td>1</td>\n",
              "      <td>1</td>\n",
              "      <td>7500</td>\n",
              "    </tr>\n",
              "    <tr>\n",
              "      <th>3</th>\n",
              "      <td>16</td>\n",
              "      <td>1974.0</td>\n",
              "      <td>69</td>\n",
              "      <td>3412</td>\n",
              "      <td>3</td>\n",
              "      <td>2</td>\n",
              "      <td>190000.0</td>\n",
              "      <td>0</td>\n",
              "      <td>0</td>\n",
              "      <td>2</td>\n",
              "      <td>8</td>\n",
              "      <td>1</td>\n",
              "      <td>1</td>\n",
              "      <td>2000</td>\n",
              "    </tr>\n",
              "    <tr>\n",
              "      <th>4</th>\n",
              "      <td>16</td>\n",
              "      <td>2005.0</td>\n",
              "      <td>122</td>\n",
              "      <td>6947</td>\n",
              "      <td>6</td>\n",
              "      <td>0</td>\n",
              "      <td>116000.0</td>\n",
              "      <td>1</td>\n",
              "      <td>0</td>\n",
              "      <td>0</td>\n",
              "      <td>8</td>\n",
              "      <td>1</td>\n",
              "      <td>1</td>\n",
              "      <td>19500</td>\n",
              "    </tr>\n",
              "    <tr>\n",
              "      <th>5</th>\n",
              "      <td>16</td>\n",
              "      <td>2016.0</td>\n",
              "      <td>376</td>\n",
              "      <td>12741</td>\n",
              "      <td>5</td>\n",
              "      <td>2</td>\n",
              "      <td>33290.0</td>\n",
              "      <td>0</td>\n",
              "      <td>2</td>\n",
              "      <td>0</td>\n",
              "      <td>8</td>\n",
              "      <td>9</td>\n",
              "      <td>1</td>\n",
              "      <td>29590</td>\n",
              "    </tr>\n",
              "    <tr>\n",
              "      <th>6</th>\n",
              "      <td>16</td>\n",
              "      <td>2012.0</td>\n",
              "      <td>122</td>\n",
              "      <td>9618</td>\n",
              "      <td>6</td>\n",
              "      <td>2</td>\n",
              "      <td>9692.0</td>\n",
              "      <td>0</td>\n",
              "      <td>2</td>\n",
              "      <td>2</td>\n",
              "      <td>3</td>\n",
              "      <td>1</td>\n",
              "      <td>1</td>\n",
              "      <td>39990</td>\n",
              "    </tr>\n",
              "    <tr>\n",
              "      <th>...</th>\n",
              "      <td>...</td>\n",
              "      <td>...</td>\n",
              "      <td>...</td>\n",
              "      <td>...</td>\n",
              "      <td>...</td>\n",
              "      <td>...</td>\n",
              "      <td>...</td>\n",
              "      <td>...</td>\n",
              "      <td>...</td>\n",
              "      <td>...</td>\n",
              "      <td>...</td>\n",
              "      <td>...</td>\n",
              "      <td>...</td>\n",
              "      <td>...</td>\n",
              "    </tr>\n",
              "    <tr>\n",
              "      <th>458206</th>\n",
              "      <td>382</td>\n",
              "      <td>2013.0</td>\n",
              "      <td>69</td>\n",
              "      <td>3751</td>\n",
              "      <td>3</td>\n",
              "      <td>2</td>\n",
              "      <td>140000.0</td>\n",
              "      <td>0</td>\n",
              "      <td>0</td>\n",
              "      <td>1</td>\n",
              "      <td>0</td>\n",
              "      <td>1</td>\n",
              "      <td>48</td>\n",
              "      <td>5300</td>\n",
              "    </tr>\n",
              "    <tr>\n",
              "      <th>458208</th>\n",
              "      <td>382</td>\n",
              "      <td>2014.0</td>\n",
              "      <td>63</td>\n",
              "      <td>12466</td>\n",
              "      <td>5</td>\n",
              "      <td>2</td>\n",
              "      <td>83790.0</td>\n",
              "      <td>0</td>\n",
              "      <td>0</td>\n",
              "      <td>0</td>\n",
              "      <td>0</td>\n",
              "      <td>10</td>\n",
              "      <td>48</td>\n",
              "      <td>14995</td>\n",
              "    </tr>\n",
              "    <tr>\n",
              "      <th>458209</th>\n",
              "      <td>382</td>\n",
              "      <td>2018.0</td>\n",
              "      <td>193</td>\n",
              "      <td>13460</td>\n",
              "      <td>3</td>\n",
              "      <td>2</td>\n",
              "      <td>31888.0</td>\n",
              "      <td>0</td>\n",
              "      <td>0</td>\n",
              "      <td>0</td>\n",
              "      <td>0</td>\n",
              "      <td>11</td>\n",
              "      <td>48</td>\n",
              "      <td>17895</td>\n",
              "    </tr>\n",
              "    <tr>\n",
              "      <th>458210</th>\n",
              "      <td>397</td>\n",
              "      <td>2014.0</td>\n",
              "      <td>63</td>\n",
              "      <td>4814</td>\n",
              "      <td>5</td>\n",
              "      <td>2</td>\n",
              "      <td>53000.0</td>\n",
              "      <td>0</td>\n",
              "      <td>0</td>\n",
              "      <td>0</td>\n",
              "      <td>3</td>\n",
              "      <td>0</td>\n",
              "      <td>50</td>\n",
              "      <td>17900</td>\n",
              "    </tr>\n",
              "    <tr>\n",
              "      <th>458211</th>\n",
              "      <td>397</td>\n",
              "      <td>2008.0</td>\n",
              "      <td>210</td>\n",
              "      <td>7890</td>\n",
              "      <td>6</td>\n",
              "      <td>2</td>\n",
              "      <td>164000.0</td>\n",
              "      <td>0</td>\n",
              "      <td>0</td>\n",
              "      <td>0</td>\n",
              "      <td>0</td>\n",
              "      <td>11</td>\n",
              "      <td>50</td>\n",
              "      <td>1300</td>\n",
              "    </tr>\n",
              "  </tbody>\n",
              "</table>\n",
              "<p>171253 rows × 14 columns</p>\n",
              "</div>"
            ],
            "text/plain": [
              "        region    year  manufacturer  model  ...  type  paint_color  state  price\n",
              "1           16  2014.0           193  12207  ...     9            1      1   7500\n",
              "3           16  1974.0            69   3412  ...     8            1      1   2000\n",
              "4           16  2005.0           122   6947  ...     8            1      1  19500\n",
              "5           16  2016.0           376  12741  ...     8            9      1  29590\n",
              "6           16  2012.0           122   9618  ...     3            1      1  39990\n",
              "...        ...     ...           ...    ...  ...   ...          ...    ...    ...\n",
              "458206     382  2013.0            69   3751  ...     0            1     48   5300\n",
              "458208     382  2014.0            63  12466  ...     0           10     48  14995\n",
              "458209     382  2018.0           193  13460  ...     0           11     48  17895\n",
              "458210     397  2014.0            63   4814  ...     3            0     50  17900\n",
              "458211     397  2008.0           210   7890  ...     0           11     50   1300\n",
              "\n",
              "[171253 rows x 14 columns]"
            ]
          },
          "metadata": {
            "tags": []
          },
          "execution_count": 67
        }
      ]
    },
    {
      "cell_type": "code",
      "metadata": {
        "id": "Kar80EiXrkHN",
        "colab": {
          "base_uri": "https://localhost:8080/"
        },
        "outputId": "00556119-0377-4b6e-fae1-5942ec595ca9"
      },
      "source": [
        "gc.collect()"
      ],
      "execution_count": 68,
      "outputs": [
        {
          "output_type": "execute_result",
          "data": {
            "text/plain": [
              "12"
            ]
          },
          "metadata": {
            "tags": []
          },
          "execution_count": 68
        }
      ]
    },
    {
      "cell_type": "code",
      "metadata": {
        "id": "i2syYDNv3cBY"
      },
      "source": [
        "# converting the dataframe to a csv file\r\n",
        "df_new.to_csv('new_vehicle.csv')"
      ],
      "execution_count": 69,
      "outputs": []
    },
    {
      "cell_type": "code",
      "metadata": {
        "id": "XFQh_66K3hnP"
      },
      "source": [
        "# copying the new dataset into drive\r\n",
        "!cp '/content/new_vehicle.csv' 'drive/My Drive/' "
      ],
      "execution_count": 70,
      "outputs": []
    },
    {
      "cell_type": "markdown",
      "metadata": {
        "id": "eOaQBi28r9kr"
      },
      "source": [
        "###MODELLING THE DATA"
      ]
    },
    {
      "cell_type": "markdown",
      "metadata": {
        "id": "NaK430GlsCzs"
      },
      "source": [
        "####Using all the columns except price as the independent features"
      ]
    },
    {
      "cell_type": "code",
      "metadata": {
        "id": "-6Qkqo7b_AQ3"
      },
      "source": [
        "# reading the dataset from the csv file\r\n",
        "df_new = pd.read_csv('new_vehicle.csv')"
      ],
      "execution_count": 5,
      "outputs": []
    },
    {
      "cell_type": "code",
      "metadata": {
        "id": "tB0iSB67rlzM"
      },
      "source": [
        "# selecting features, X\r\n",
        "X = df_new.iloc[:, :-1].values\r\n",
        "# selecting labels, y\r\n",
        "y = df_new.iloc[:, -1].values"
      ],
      "execution_count": 6,
      "outputs": []
    },
    {
      "cell_type": "code",
      "metadata": {
        "id": "7SYXfZLXsG5U"
      },
      "source": [
        "# normalize the data\r\n",
        "X = StandardScaler().fit_transform(X.astype(float))"
      ],
      "execution_count": 7,
      "outputs": []
    },
    {
      "cell_type": "code",
      "metadata": {
        "id": "x6lLtZJ2sI5N",
        "colab": {
          "base_uri": "https://localhost:8080/"
        },
        "outputId": "ca02f94a-533a-4f83-8ee0-703bb48b99a6"
      },
      "source": [
        "# to split the data\r\n",
        "# split into train and test\r\n",
        "X_train, X_test, y_train, y_test = train_test_split(X, y, test_size=0.2, random_state=42)\r\n",
        "print('Train set: ', X_train.shape, y_train.shape)\r\n",
        "print('Test set: ', X_test.shape, y_test.shape)"
      ],
      "execution_count": 8,
      "outputs": [
        {
          "output_type": "stream",
          "text": [
            "Train set:  (137002, 14) (137002,)\n",
            "Test set:  (34251, 14) (34251,)\n"
          ],
          "name": "stdout"
        }
      ]
    },
    {
      "cell_type": "markdown",
      "metadata": {
        "id": "ucD2GDyeTy1t"
      },
      "source": [
        "####Linear Regression"
      ]
    },
    {
      "cell_type": "code",
      "metadata": {
        "colab": {
          "base_uri": "https://localhost:8080/"
        },
        "id": "6gLLadroTxd-",
        "outputId": "162dc925-fa99-4f9b-eca9-f49e180736db"
      },
      "source": [
        "# to create the linear reg model\r\n",
        "reg = LinearRegression()\r\n",
        "reg.fit(X_train, y_train)  # fit the model to train set"
      ],
      "execution_count": 39,
      "outputs": [
        {
          "output_type": "execute_result",
          "data": {
            "text/plain": [
              "LinearRegression(copy_X=True, fit_intercept=True, n_jobs=None, normalize=False)"
            ]
          },
          "metadata": {
            "tags": []
          },
          "execution_count": 39
        }
      ]
    },
    {
      "cell_type": "code",
      "metadata": {
        "id": "T0T9DV4fT3th"
      },
      "source": [
        "# to evaluate test set values\r\n",
        "y_pred = reg.predict(X_test)"
      ],
      "execution_count": 40,
      "outputs": []
    },
    {
      "cell_type": "code",
      "metadata": {
        "colab": {
          "base_uri": "https://localhost:8080/"
        },
        "id": "jG4dZr_eT7P2",
        "outputId": "6ebddfea-0415-4b4c-bdb4-84a717175a6d"
      },
      "source": [
        "print('Mean Absolute Error: ', round(metrics.mean_absolute_error(y_test, y_pred), 3))\r\n",
        "print('Mean Squared Error: ', round(metrics.mean_squared_error(y_test, y_pred), 3))\r\n",
        "print('Root Mean Squared Error: ', round(np.sqrt(metrics.mean_squared_error(y_test, y_pred)), 3))\r\n",
        "print('R2 score: ', round(r2_score(y_test, y_pred), 3))"
      ],
      "execution_count": 41,
      "outputs": [
        {
          "output_type": "stream",
          "text": [
            "Mean Absolute Error:  5087.811\n",
            "Mean Squared Error:  47231407.626\n",
            "Root Mean Squared Error:  6872.511\n",
            "R2 score:  0.604\n"
          ],
          "name": "stdout"
        }
      ]
    },
    {
      "cell_type": "code",
      "metadata": {
        "colab": {
          "base_uri": "https://localhost:8080/"
        },
        "id": "-VOo4_CtT9sP",
        "outputId": "9249f399-cec8-477b-bbbc-3f008afe65ee"
      },
      "source": [
        "gc.collect()"
      ],
      "execution_count": 42,
      "outputs": [
        {
          "output_type": "execute_result",
          "data": {
            "text/plain": [
              "113"
            ]
          },
          "metadata": {
            "tags": []
          },
          "execution_count": 42
        }
      ]
    },
    {
      "cell_type": "markdown",
      "metadata": {
        "id": "eQiV2XKjsoVo"
      },
      "source": [
        "####Decision Trees"
      ]
    },
    {
      "cell_type": "code",
      "metadata": {
        "id": "yNAK8c_CsL2k",
        "colab": {
          "base_uri": "https://localhost:8080/"
        },
        "outputId": "313af04c-0163-4bdb-bf65-ed871f7dbcca"
      },
      "source": [
        "# create and fit the model to the train data\r\n",
        "r = DecisionTreeRegressor(random_state=42, max_depth=15)\r\n",
        "r.fit(X_train, y_train.ravel())"
      ],
      "execution_count": 74,
      "outputs": [
        {
          "output_type": "execute_result",
          "data": {
            "text/plain": [
              "DecisionTreeRegressor(ccp_alpha=0.0, criterion='mse', max_depth=15,\n",
              "                      max_features=None, max_leaf_nodes=None,\n",
              "                      min_impurity_decrease=0.0, min_impurity_split=None,\n",
              "                      min_samples_leaf=1, min_samples_split=2,\n",
              "                      min_weight_fraction_leaf=0.0, presort='deprecated',\n",
              "                      random_state=42, splitter='best')"
            ]
          },
          "metadata": {
            "tags": []
          },
          "execution_count": 74
        }
      ]
    },
    {
      "cell_type": "code",
      "metadata": {
        "id": "zwYt-OBzspeX",
        "colab": {
          "base_uri": "https://localhost:8080/"
        },
        "outputId": "f3b1b626-b46d-4ba4-c7b0-201d22f76df5"
      },
      "source": [
        "gc.collect()"
      ],
      "execution_count": 75,
      "outputs": [
        {
          "output_type": "execute_result",
          "data": {
            "text/plain": [
              "0"
            ]
          },
          "metadata": {
            "tags": []
          },
          "execution_count": 75
        }
      ]
    },
    {
      "cell_type": "code",
      "metadata": {
        "id": "N1WbQa2IstKN"
      },
      "source": [
        "# to evaluate test set values\r\n",
        "y_predDT = r.predict(X_test)"
      ],
      "execution_count": 76,
      "outputs": []
    },
    {
      "cell_type": "code",
      "metadata": {
        "id": "uz31HZrhstoo",
        "colab": {
          "base_uri": "https://localhost:8080/"
        },
        "outputId": "22507e38-3330-4a49-c719-ebfa192cf510"
      },
      "source": [
        "print('Mean Absolute Error: ', round(metrics.mean_absolute_error(y_test, y_predDT), 3))\r\n",
        "print('Mean Squared Error: ', round(metrics.mean_squared_error(y_test, y_predDT), 3))\r\n",
        "print('Root Mean Squared Error: ', round(np.sqrt(metrics.mean_squared_error(y_test, y_predDT)), 3))\r\n",
        "print('R2 score: ', round(r2_score(y_test, y_predDT), 3))"
      ],
      "execution_count": 77,
      "outputs": [
        {
          "output_type": "stream",
          "text": [
            "Mean Absolute Error:  2325.853\n",
            "Mean Squared Error:  15703820.03\n",
            "Root Mean Squared Error:  3962.805\n",
            "R2 score:  0.868\n"
          ],
          "name": "stdout"
        }
      ]
    },
    {
      "cell_type": "markdown",
      "metadata": {
        "id": "iuvYTqratGtx"
      },
      "source": [
        "####Random Forest"
      ]
    },
    {
      "cell_type": "code",
      "metadata": {
        "id": "jZ3NFy_7svnF",
        "colab": {
          "base_uri": "https://localhost:8080/"
        },
        "outputId": "3c2b81b2-f274-4bef-9c96-6186edecfe34"
      },
      "source": [
        "r = RandomForestRegressor(n_estimators=150, random_state=42)\r\n",
        "r.fit(X_train, y_train.ravel())"
      ],
      "execution_count": 78,
      "outputs": [
        {
          "output_type": "execute_result",
          "data": {
            "text/plain": [
              "RandomForestRegressor(bootstrap=True, ccp_alpha=0.0, criterion='mse',\n",
              "                      max_depth=None, max_features='auto', max_leaf_nodes=None,\n",
              "                      max_samples=None, min_impurity_decrease=0.0,\n",
              "                      min_impurity_split=None, min_samples_leaf=1,\n",
              "                      min_samples_split=2, min_weight_fraction_leaf=0.0,\n",
              "                      n_estimators=150, n_jobs=None, oob_score=False,\n",
              "                      random_state=42, verbose=0, warm_start=False)"
            ]
          },
          "metadata": {
            "tags": []
          },
          "execution_count": 78
        }
      ]
    },
    {
      "cell_type": "code",
      "metadata": {
        "id": "tG0-if4WtBMj",
        "colab": {
          "base_uri": "https://localhost:8080/"
        },
        "outputId": "ae0b5e58-5dc5-4d54-b812-93539094e896"
      },
      "source": [
        "gc.collect()"
      ],
      "execution_count": 79,
      "outputs": [
        {
          "output_type": "execute_result",
          "data": {
            "text/plain": [
              "24"
            ]
          },
          "metadata": {
            "tags": []
          },
          "execution_count": 79
        }
      ]
    },
    {
      "cell_type": "code",
      "metadata": {
        "id": "J9KBHuymtC8_"
      },
      "source": [
        "y_predRF = r.predict(X_test)"
      ],
      "execution_count": 80,
      "outputs": []
    },
    {
      "cell_type": "code",
      "metadata": {
        "id": "NCzDx_RvtO_E",
        "colab": {
          "base_uri": "https://localhost:8080/"
        },
        "outputId": "aa563838-a896-4a3f-d920-776e68ef42cb"
      },
      "source": [
        "print('Mean Absolute Error: ', round(metrics.mean_absolute_error(y_test, y_predRF), 3))\r\n",
        "print('Mean Squared Error: ', round(metrics.mean_squared_error(y_test, y_predRF), 3))\r\n",
        "print('Root Mean Squared Error: ', round(np.sqrt(metrics.mean_squared_error(y_test, y_predRF)), 3))\r\n",
        "print('R2 score: ', round(r2_score(y_test, y_predRF), 3))"
      ],
      "execution_count": 81,
      "outputs": [
        {
          "output_type": "stream",
          "text": [
            "Mean Absolute Error:  1606.267\n",
            "Mean Squared Error:  8924741.064\n",
            "Root Mean Squared Error:  2987.431\n",
            "R2 score:  0.925\n"
          ],
          "name": "stdout"
        }
      ]
    },
    {
      "cell_type": "code",
      "metadata": {
        "id": "mZaIyK51tquT",
        "colab": {
          "base_uri": "https://localhost:8080/"
        },
        "outputId": "c63f797a-06fe-4842-a274-d0d2413c7c03"
      },
      "source": [
        "gc.collect()"
      ],
      "execution_count": 82,
      "outputs": [
        {
          "output_type": "execute_result",
          "data": {
            "text/plain": [
              "24"
            ]
          },
          "metadata": {
            "tags": []
          },
          "execution_count": 82
        }
      ]
    },
    {
      "cell_type": "markdown",
      "metadata": {
        "id": "hJ__bx18uQ9t"
      },
      "source": [
        "####Extra Trees"
      ]
    },
    {
      "cell_type": "code",
      "metadata": {
        "id": "gvOlaYVdt0SC",
        "colab": {
          "base_uri": "https://localhost:8080/"
        },
        "outputId": "33efe991-9436-4f98-92e5-c2af7d7a80c3"
      },
      "source": [
        "r = ExtraTreesRegressor(n_estimators=400, random_state=42)\r\n",
        "r.fit(X_train, y_train.ravel())"
      ],
      "execution_count": 9,
      "outputs": [
        {
          "output_type": "execute_result",
          "data": {
            "text/plain": [
              "ExtraTreesRegressor(bootstrap=False, ccp_alpha=0.0, criterion='mse',\n",
              "                    max_depth=None, max_features='auto', max_leaf_nodes=None,\n",
              "                    max_samples=None, min_impurity_decrease=0.0,\n",
              "                    min_impurity_split=None, min_samples_leaf=1,\n",
              "                    min_samples_split=2, min_weight_fraction_leaf=0.0,\n",
              "                    n_estimators=400, n_jobs=None, oob_score=False,\n",
              "                    random_state=42, verbose=0, warm_start=False)"
            ]
          },
          "metadata": {
            "tags": []
          },
          "execution_count": 9
        }
      ]
    },
    {
      "cell_type": "code",
      "metadata": {
        "id": "yF8OnqbB0F34",
        "colab": {
          "base_uri": "https://localhost:8080/"
        },
        "outputId": "94c0733d-4c7e-407b-9fbe-9afcb3a3dc11"
      },
      "source": [
        "import gc\r\n",
        "gc.collect()"
      ],
      "execution_count": 11,
      "outputs": [
        {
          "output_type": "execute_result",
          "data": {
            "text/plain": [
              "271"
            ]
          },
          "metadata": {
            "tags": []
          },
          "execution_count": 11
        }
      ]
    },
    {
      "cell_type": "code",
      "metadata": {
        "id": "vZFbPKhv0Jys"
      },
      "source": [
        "y_predET = r.predict(X_test)"
      ],
      "execution_count": 12,
      "outputs": []
    },
    {
      "cell_type": "code",
      "metadata": {
        "id": "luLyjvUE0K-T",
        "colab": {
          "base_uri": "https://localhost:8080/"
        },
        "outputId": "47f36d54-b8f7-42e6-c71b-9a3bbc4257ff"
      },
      "source": [
        "print('Mean Absolute Error: ', round(metrics.mean_absolute_error(y_test, y_predET), 3))\r\n",
        "print('Mean Squared Error: ', round(metrics.mean_squared_error(y_test, y_predET), 3))\r\n",
        "print('Root Mean Squared Error: ', round(np.sqrt(metrics.mean_squared_error(y_test, y_predET)), 3))\r\n",
        "print('R2 score: ', round(r2_score(y_test, y_predET), 3))"
      ],
      "execution_count": 13,
      "outputs": [
        {
          "output_type": "stream",
          "text": [
            "Mean Absolute Error:  1489.648\n",
            "Mean Squared Error:  8553142.44\n",
            "Root Mean Squared Error:  2924.576\n",
            "R2 score:  0.928\n"
          ],
          "name": "stdout"
        }
      ]
    },
    {
      "cell_type": "code",
      "metadata": {
        "id": "bAtB-yD80Nxq",
        "colab": {
          "base_uri": "https://localhost:8080/"
        },
        "outputId": "52901568-6f91-4c6b-d4b0-49851726bad8"
      },
      "source": [
        "gc.collect()"
      ],
      "execution_count": 14,
      "outputs": [
        {
          "output_type": "execute_result",
          "data": {
            "text/plain": [
              "24"
            ]
          },
          "metadata": {
            "tags": []
          },
          "execution_count": 14
        }
      ]
    },
    {
      "cell_type": "markdown",
      "metadata": {
        "id": "4MZ0TlTjBArM"
      },
      "source": [
        "####CATBOOST REGRESSOR"
      ]
    },
    {
      "cell_type": "code",
      "metadata": {
        "id": "XQvvCHol0Q2g",
        "colab": {
          "base_uri": "https://localhost:8080/"
        },
        "outputId": "2cc68336-42d8-4ee1-f11e-7f78a7469bd6"
      },
      "source": [
        "# to find the best parameters for catboost\r\n",
        "from sklearn.model_selection import GridSearchCV\r\n",
        "model = CatBoostRegressor()\r\n",
        "parameters = {'depth'         : [6,8,10,12,14,16,18,20],\r\n",
        "              'learning_rate' : [0.01, 0.05, 0.1, 0.5, 1],\r\n",
        "              'iterations'    : [30, 50, 100]\r\n",
        "              }\r\n",
        "grid = GridSearchCV(model, parameters, cv = 2, n_jobs=-1)\r\n",
        "gs = grid.fit(X_train, y_train)    \r\n",
        "\r\n",
        "# Results from Grid Search\r\n",
        "print(\"\\n========================================================\")\r\n",
        "print(\" Results from Grid Search \" )\r\n",
        "print(\"========================================================\")    \r\n",
        "    \r\n",
        "print(\"\\n The best estimator across ALL searched params:\\n\",\r\n",
        "          gs.best_estimator_)\r\n",
        "    \r\n",
        "print(\"\\n The best score across ALL searched params:\\n\",\r\n",
        "          gs.best_score_)\r\n",
        "    \r\n",
        "print(\"\\n The best parameters across ALL searched params:\\n\",\r\n",
        "          gs.best_params_)"
      ],
      "execution_count": 15,
      "outputs": [
        {
          "output_type": "stream",
          "text": [
            "/usr/local/lib/python3.6/dist-packages/joblib/externals/loky/process_executor.py:691: UserWarning: A worker stopped while some jobs were given to the executor. This can be caused by a too short worker timeout or by a memory leak.\n",
            "  \"timeout or by a memory leak.\", UserWarning\n"
          ],
          "name": "stderr"
        },
        {
          "output_type": "stream",
          "text": [
            "0:\tlearn: 7137.0227037\ttotal: 221ms\tremaining: 21.9s\n",
            "1:\tlearn: 5491.4440321\ttotal: 366ms\tremaining: 17.9s\n",
            "2:\tlearn: 4818.6563977\ttotal: 525ms\tremaining: 17s\n",
            "3:\tlearn: 4509.2378320\ttotal: 668ms\tremaining: 16s\n",
            "4:\tlearn: 4330.8570965\ttotal: 820ms\tremaining: 15.6s\n",
            "5:\tlearn: 4205.2697825\ttotal: 969ms\tremaining: 15.2s\n",
            "6:\tlearn: 4150.1644435\ttotal: 1.11s\tremaining: 14.8s\n",
            "7:\tlearn: 4068.1948468\ttotal: 1.25s\tremaining: 14.4s\n",
            "8:\tlearn: 3994.6785058\ttotal: 1.4s\tremaining: 14.2s\n",
            "9:\tlearn: 3917.5117319\ttotal: 1.56s\tremaining: 14s\n",
            "10:\tlearn: 3861.2546221\ttotal: 1.72s\tremaining: 13.9s\n",
            "11:\tlearn: 3828.1870998\ttotal: 1.86s\tremaining: 13.6s\n",
            "12:\tlearn: 3791.8203106\ttotal: 2.01s\tremaining: 13.4s\n",
            "13:\tlearn: 3726.3471503\ttotal: 2.15s\tremaining: 13.2s\n",
            "14:\tlearn: 3699.1766785\ttotal: 2.31s\tremaining: 13.1s\n",
            "15:\tlearn: 3684.7155811\ttotal: 2.45s\tremaining: 12.9s\n",
            "16:\tlearn: 3653.8087178\ttotal: 2.62s\tremaining: 12.8s\n",
            "17:\tlearn: 3623.2814283\ttotal: 2.77s\tremaining: 12.6s\n",
            "18:\tlearn: 3592.7529407\ttotal: 2.92s\tremaining: 12.5s\n",
            "19:\tlearn: 3543.5879922\ttotal: 3.08s\tremaining: 12.3s\n",
            "20:\tlearn: 3520.0103039\ttotal: 3.23s\tremaining: 12.1s\n",
            "21:\tlearn: 3502.9458400\ttotal: 3.37s\tremaining: 11.9s\n",
            "22:\tlearn: 3476.6231836\ttotal: 3.52s\tremaining: 11.8s\n",
            "23:\tlearn: 3442.9248295\ttotal: 3.68s\tremaining: 11.7s\n",
            "24:\tlearn: 3422.5471277\ttotal: 3.83s\tremaining: 11.5s\n",
            "25:\tlearn: 3398.0603342\ttotal: 3.98s\tremaining: 11.3s\n",
            "26:\tlearn: 3354.4171349\ttotal: 4.13s\tremaining: 11.2s\n",
            "27:\tlearn: 3319.8991708\ttotal: 4.28s\tremaining: 11s\n",
            "28:\tlearn: 3303.5136248\ttotal: 4.43s\tremaining: 10.8s\n",
            "29:\tlearn: 3282.7221218\ttotal: 4.59s\tremaining: 10.7s\n",
            "30:\tlearn: 3263.0409550\ttotal: 4.73s\tremaining: 10.5s\n",
            "31:\tlearn: 3247.2698135\ttotal: 4.88s\tremaining: 10.4s\n",
            "32:\tlearn: 3225.0011392\ttotal: 5.03s\tremaining: 10.2s\n",
            "33:\tlearn: 3211.2710080\ttotal: 5.18s\tremaining: 10.1s\n",
            "34:\tlearn: 3191.6557129\ttotal: 5.33s\tremaining: 9.89s\n",
            "35:\tlearn: 3169.6151051\ttotal: 5.48s\tremaining: 9.75s\n",
            "36:\tlearn: 3150.7444287\ttotal: 5.64s\tremaining: 9.6s\n",
            "37:\tlearn: 3136.9614424\ttotal: 5.79s\tremaining: 9.45s\n",
            "38:\tlearn: 3117.8634285\ttotal: 5.94s\tremaining: 9.29s\n",
            "39:\tlearn: 3101.6473175\ttotal: 6.09s\tremaining: 9.13s\n",
            "40:\tlearn: 3090.6726574\ttotal: 6.24s\tremaining: 8.97s\n",
            "41:\tlearn: 3069.8320500\ttotal: 6.38s\tremaining: 8.81s\n",
            "42:\tlearn: 3054.9679338\ttotal: 6.53s\tremaining: 8.66s\n",
            "43:\tlearn: 3038.8364476\ttotal: 6.69s\tremaining: 8.52s\n",
            "44:\tlearn: 3026.4385546\ttotal: 6.84s\tremaining: 8.36s\n",
            "45:\tlearn: 3007.5635041\ttotal: 6.99s\tremaining: 8.2s\n",
            "46:\tlearn: 2994.8492946\ttotal: 7.14s\tremaining: 8.05s\n",
            "47:\tlearn: 2982.8003539\ttotal: 7.28s\tremaining: 7.89s\n",
            "48:\tlearn: 2972.6824872\ttotal: 7.43s\tremaining: 7.73s\n",
            "49:\tlearn: 2962.1039998\ttotal: 7.58s\tremaining: 7.58s\n",
            "50:\tlearn: 2948.4818263\ttotal: 7.73s\tremaining: 7.43s\n",
            "51:\tlearn: 2936.4796943\ttotal: 7.89s\tremaining: 7.28s\n",
            "52:\tlearn: 2929.2159367\ttotal: 8.04s\tremaining: 7.13s\n",
            "53:\tlearn: 2915.6872832\ttotal: 8.18s\tremaining: 6.97s\n",
            "54:\tlearn: 2902.5512034\ttotal: 8.33s\tremaining: 6.82s\n",
            "55:\tlearn: 2888.5360954\ttotal: 8.48s\tremaining: 6.66s\n",
            "56:\tlearn: 2876.7556631\ttotal: 8.63s\tremaining: 6.51s\n",
            "57:\tlearn: 2865.9100403\ttotal: 8.78s\tremaining: 6.36s\n",
            "58:\tlearn: 2850.9647530\ttotal: 8.93s\tremaining: 6.21s\n",
            "59:\tlearn: 2832.3830411\ttotal: 9.09s\tremaining: 6.06s\n",
            "60:\tlearn: 2823.8802418\ttotal: 9.23s\tremaining: 5.9s\n",
            "61:\tlearn: 2814.8448999\ttotal: 9.38s\tremaining: 5.75s\n",
            "62:\tlearn: 2800.5767791\ttotal: 9.55s\tremaining: 5.61s\n",
            "63:\tlearn: 2775.5435635\ttotal: 9.71s\tremaining: 5.46s\n",
            "64:\tlearn: 2765.3339581\ttotal: 9.86s\tremaining: 5.31s\n",
            "65:\tlearn: 2758.3198681\ttotal: 10s\tremaining: 5.16s\n",
            "66:\tlearn: 2751.0863766\ttotal: 10.2s\tremaining: 5s\n",
            "67:\tlearn: 2740.7763331\ttotal: 10.3s\tremaining: 4.85s\n",
            "68:\tlearn: 2737.0711875\ttotal: 10.4s\tremaining: 4.7s\n",
            "69:\tlearn: 2726.9805127\ttotal: 10.6s\tremaining: 4.55s\n",
            "70:\tlearn: 2717.3827029\ttotal: 10.8s\tremaining: 4.4s\n",
            "71:\tlearn: 2706.6482263\ttotal: 10.9s\tremaining: 4.25s\n",
            "72:\tlearn: 2695.5280451\ttotal: 11.1s\tremaining: 4.09s\n",
            "73:\tlearn: 2684.7776700\ttotal: 11.2s\tremaining: 3.94s\n",
            "74:\tlearn: 2673.6012042\ttotal: 11.4s\tremaining: 3.79s\n",
            "75:\tlearn: 2665.4491082\ttotal: 11.5s\tremaining: 3.64s\n",
            "76:\tlearn: 2657.9119713\ttotal: 11.7s\tremaining: 3.49s\n",
            "77:\tlearn: 2650.5334656\ttotal: 11.8s\tremaining: 3.34s\n",
            "78:\tlearn: 2643.5482090\ttotal: 12s\tremaining: 3.19s\n",
            "79:\tlearn: 2631.3868519\ttotal: 12.1s\tremaining: 3.03s\n",
            "80:\tlearn: 2623.3844896\ttotal: 12.3s\tremaining: 2.88s\n",
            "81:\tlearn: 2610.0318203\ttotal: 12.4s\tremaining: 2.73s\n",
            "82:\tlearn: 2595.5360208\ttotal: 12.6s\tremaining: 2.58s\n",
            "83:\tlearn: 2590.2433123\ttotal: 12.7s\tremaining: 2.43s\n",
            "84:\tlearn: 2582.3449683\ttotal: 12.9s\tremaining: 2.27s\n",
            "85:\tlearn: 2574.2629753\ttotal: 13s\tremaining: 2.12s\n",
            "86:\tlearn: 2569.4055081\ttotal: 13.2s\tremaining: 1.97s\n",
            "87:\tlearn: 2560.0845707\ttotal: 13.3s\tremaining: 1.82s\n",
            "88:\tlearn: 2549.3046583\ttotal: 13.5s\tremaining: 1.67s\n",
            "89:\tlearn: 2540.2507781\ttotal: 13.6s\tremaining: 1.51s\n",
            "90:\tlearn: 2533.7140664\ttotal: 13.8s\tremaining: 1.36s\n",
            "91:\tlearn: 2523.3761564\ttotal: 14s\tremaining: 1.21s\n",
            "92:\tlearn: 2515.6319771\ttotal: 14.1s\tremaining: 1.06s\n",
            "93:\tlearn: 2508.4310303\ttotal: 14.2s\tremaining: 909ms\n",
            "94:\tlearn: 2501.9780038\ttotal: 14.4s\tremaining: 758ms\n",
            "95:\tlearn: 2492.5433103\ttotal: 14.5s\tremaining: 606ms\n",
            "96:\tlearn: 2484.6421620\ttotal: 14.7s\tremaining: 455ms\n",
            "97:\tlearn: 2479.7415914\ttotal: 14.9s\tremaining: 303ms\n",
            "98:\tlearn: 2472.2319543\ttotal: 15s\tremaining: 152ms\n",
            "99:\tlearn: 2464.5975786\ttotal: 15.2s\tremaining: 0us\n",
            "\n",
            "========================================================\n",
            " Results from Grid Search \n",
            "========================================================\n",
            "\n",
            " The best estimator across ALL searched params:\n",
            " <catboost.core.CatBoostRegressor object at 0x7f75b3b93dd8>\n",
            "\n",
            " The best score across ALL searched params:\n",
            " 0.9004919088850769\n",
            "\n",
            " The best parameters across ALL searched params:\n",
            " {'depth': 12, 'iterations': 100, 'learning_rate': 0.5}\n"
          ],
          "name": "stdout"
        }
      ]
    },
    {
      "cell_type": "code",
      "metadata": {
        "colab": {
          "base_uri": "https://localhost:8080/"
        },
        "id": "K6urHVh3BF9v",
        "outputId": "c14f5a25-dca0-4da8-a141-f8210351242e"
      },
      "source": [
        "gc.collect()"
      ],
      "execution_count": 18,
      "outputs": [
        {
          "output_type": "execute_result",
          "data": {
            "text/plain": [
              "0"
            ]
          },
          "metadata": {
            "tags": []
          },
          "execution_count": 18
        }
      ]
    },
    {
      "cell_type": "code",
      "metadata": {
        "colab": {
          "base_uri": "https://localhost:8080/"
        },
        "id": "wwQW_aTGA_1e",
        "outputId": "413cf4b3-1d2b-49cc-b018-f9fbb51d54b8"
      },
      "source": [
        "# using the best parameters gotten above\r\n",
        "r = CatBoostRegressor(depth=12, iterations=100, learning_rate=0.5, random_state=42)\r\n",
        "r.fit(X_train, y_train.ravel())"
      ],
      "execution_count": 19,
      "outputs": [
        {
          "output_type": "stream",
          "text": [
            "0:\tlearn: 7116.0630924\ttotal: 157ms\tremaining: 15.5s\n",
            "1:\tlearn: 5484.8051225\ttotal: 302ms\tremaining: 14.8s\n",
            "2:\tlearn: 4848.4628089\ttotal: 450ms\tremaining: 14.5s\n",
            "3:\tlearn: 4485.5452692\ttotal: 604ms\tremaining: 14.5s\n",
            "4:\tlearn: 4325.6251448\ttotal: 749ms\tremaining: 14.2s\n",
            "5:\tlearn: 4215.1583422\ttotal: 900ms\tremaining: 14.1s\n",
            "6:\tlearn: 4120.1483914\ttotal: 1.06s\tremaining: 14.1s\n",
            "7:\tlearn: 4056.6734518\ttotal: 1.22s\tremaining: 14s\n",
            "8:\tlearn: 3992.3752819\ttotal: 1.36s\tremaining: 13.8s\n",
            "9:\tlearn: 3935.6835431\ttotal: 1.5s\tremaining: 13.5s\n",
            "10:\tlearn: 3889.9379609\ttotal: 1.65s\tremaining: 13.4s\n",
            "11:\tlearn: 3851.7626192\ttotal: 1.8s\tremaining: 13.2s\n",
            "12:\tlearn: 3778.4258639\ttotal: 1.95s\tremaining: 13s\n",
            "13:\tlearn: 3741.7275413\ttotal: 2.09s\tremaining: 12.9s\n",
            "14:\tlearn: 3707.9742097\ttotal: 2.25s\tremaining: 12.7s\n",
            "15:\tlearn: 3681.2914338\ttotal: 2.39s\tremaining: 12.6s\n",
            "16:\tlearn: 3655.2099972\ttotal: 2.55s\tremaining: 12.5s\n",
            "17:\tlearn: 3622.1127445\ttotal: 2.69s\tremaining: 12.3s\n",
            "18:\tlearn: 3607.6400949\ttotal: 2.84s\tremaining: 12.1s\n",
            "19:\tlearn: 3574.2965506\ttotal: 2.98s\tremaining: 11.9s\n",
            "20:\tlearn: 3547.5421126\ttotal: 3.13s\tremaining: 11.8s\n",
            "21:\tlearn: 3520.8170533\ttotal: 3.29s\tremaining: 11.7s\n",
            "22:\tlearn: 3499.6961562\ttotal: 3.43s\tremaining: 11.5s\n",
            "23:\tlearn: 3477.7932752\ttotal: 3.57s\tremaining: 11.3s\n",
            "24:\tlearn: 3451.0051926\ttotal: 3.72s\tremaining: 11.2s\n",
            "25:\tlearn: 3434.8875203\ttotal: 3.87s\tremaining: 11s\n",
            "26:\tlearn: 3409.3977383\ttotal: 4.01s\tremaining: 10.9s\n",
            "27:\tlearn: 3389.5597588\ttotal: 4.16s\tremaining: 10.7s\n",
            "28:\tlearn: 3360.4845067\ttotal: 4.31s\tremaining: 10.6s\n",
            "29:\tlearn: 3338.1223029\ttotal: 4.46s\tremaining: 10.4s\n",
            "30:\tlearn: 3319.5396154\ttotal: 4.61s\tremaining: 10.3s\n",
            "31:\tlearn: 3301.6762488\ttotal: 4.75s\tremaining: 10.1s\n",
            "32:\tlearn: 3279.0812914\ttotal: 4.9s\tremaining: 9.95s\n",
            "33:\tlearn: 3263.2089758\ttotal: 5.04s\tremaining: 9.79s\n",
            "34:\tlearn: 3243.0211331\ttotal: 5.19s\tremaining: 9.64s\n",
            "35:\tlearn: 3222.5192510\ttotal: 5.34s\tremaining: 9.5s\n",
            "36:\tlearn: 3206.3039651\ttotal: 5.49s\tremaining: 9.35s\n",
            "37:\tlearn: 3184.0914299\ttotal: 5.64s\tremaining: 9.2s\n",
            "38:\tlearn: 3164.5959145\ttotal: 5.79s\tremaining: 9.06s\n",
            "39:\tlearn: 3145.8084210\ttotal: 5.94s\tremaining: 8.91s\n",
            "40:\tlearn: 3128.7744742\ttotal: 6.09s\tremaining: 8.76s\n",
            "41:\tlearn: 3109.4334220\ttotal: 6.24s\tremaining: 8.62s\n",
            "42:\tlearn: 3097.7200472\ttotal: 6.39s\tremaining: 8.48s\n",
            "43:\tlearn: 3076.9472348\ttotal: 6.54s\tremaining: 8.33s\n",
            "44:\tlearn: 3063.2801343\ttotal: 6.7s\tremaining: 8.18s\n",
            "45:\tlearn: 3049.8532337\ttotal: 6.84s\tremaining: 8.03s\n",
            "46:\tlearn: 3036.5599142\ttotal: 6.98s\tremaining: 7.88s\n",
            "47:\tlearn: 3023.1139218\ttotal: 7.13s\tremaining: 7.72s\n",
            "48:\tlearn: 3005.1729416\ttotal: 7.29s\tremaining: 7.58s\n",
            "49:\tlearn: 2996.0905957\ttotal: 7.43s\tremaining: 7.43s\n",
            "50:\tlearn: 2976.6746989\ttotal: 7.58s\tremaining: 7.28s\n",
            "51:\tlearn: 2957.6095610\ttotal: 7.72s\tremaining: 7.13s\n",
            "52:\tlearn: 2945.0165831\ttotal: 7.88s\tremaining: 6.99s\n",
            "53:\tlearn: 2933.8502453\ttotal: 8.02s\tremaining: 6.83s\n",
            "54:\tlearn: 2923.3809741\ttotal: 8.18s\tremaining: 6.69s\n",
            "55:\tlearn: 2902.2927646\ttotal: 8.33s\tremaining: 6.54s\n",
            "56:\tlearn: 2883.6931100\ttotal: 8.49s\tremaining: 6.4s\n",
            "57:\tlearn: 2875.4068197\ttotal: 8.64s\tremaining: 6.25s\n",
            "58:\tlearn: 2861.0569970\ttotal: 8.79s\tremaining: 6.11s\n",
            "59:\tlearn: 2848.4055194\ttotal: 8.94s\tremaining: 5.96s\n",
            "60:\tlearn: 2845.0178030\ttotal: 9.08s\tremaining: 5.8s\n",
            "61:\tlearn: 2833.1806097\ttotal: 9.22s\tremaining: 5.65s\n",
            "62:\tlearn: 2819.9915923\ttotal: 9.38s\tremaining: 5.51s\n",
            "63:\tlearn: 2813.0313847\ttotal: 9.53s\tremaining: 5.36s\n",
            "64:\tlearn: 2807.0858907\ttotal: 9.67s\tremaining: 5.21s\n",
            "65:\tlearn: 2796.2474806\ttotal: 9.82s\tremaining: 5.06s\n",
            "66:\tlearn: 2785.4061048\ttotal: 9.97s\tremaining: 4.91s\n",
            "67:\tlearn: 2773.1473363\ttotal: 10.1s\tremaining: 4.76s\n",
            "68:\tlearn: 2762.0008277\ttotal: 10.3s\tremaining: 4.61s\n",
            "69:\tlearn: 2750.3646620\ttotal: 10.4s\tremaining: 4.46s\n",
            "70:\tlearn: 2736.8417893\ttotal: 10.6s\tremaining: 4.32s\n",
            "71:\tlearn: 2729.3156723\ttotal: 10.7s\tremaining: 4.17s\n",
            "72:\tlearn: 2718.4599561\ttotal: 10.9s\tremaining: 4.02s\n",
            "73:\tlearn: 2709.6940192\ttotal: 11s\tremaining: 3.87s\n",
            "74:\tlearn: 2701.3860274\ttotal: 11.2s\tremaining: 3.72s\n",
            "75:\tlearn: 2696.5268252\ttotal: 11.3s\tremaining: 3.57s\n",
            "76:\tlearn: 2686.6217751\ttotal: 11.5s\tremaining: 3.43s\n",
            "77:\tlearn: 2676.8588330\ttotal: 11.6s\tremaining: 3.28s\n",
            "78:\tlearn: 2667.8225618\ttotal: 11.8s\tremaining: 3.13s\n",
            "79:\tlearn: 2655.7336106\ttotal: 11.9s\tremaining: 2.98s\n",
            "80:\tlearn: 2647.0865473\ttotal: 12.1s\tremaining: 2.83s\n",
            "81:\tlearn: 2640.3593032\ttotal: 12.2s\tremaining: 2.68s\n",
            "82:\tlearn: 2630.5744399\ttotal: 12.4s\tremaining: 2.54s\n",
            "83:\tlearn: 2619.8408517\ttotal: 12.5s\tremaining: 2.39s\n",
            "84:\tlearn: 2612.9193258\ttotal: 12.7s\tremaining: 2.24s\n",
            "85:\tlearn: 2606.6982919\ttotal: 12.8s\tremaining: 2.09s\n",
            "86:\tlearn: 2597.8755615\ttotal: 13s\tremaining: 1.94s\n",
            "87:\tlearn: 2594.2362546\ttotal: 13.1s\tremaining: 1.79s\n",
            "88:\tlearn: 2587.1915491\ttotal: 13.3s\tremaining: 1.64s\n",
            "89:\tlearn: 2580.1054540\ttotal: 13.4s\tremaining: 1.49s\n",
            "90:\tlearn: 2573.3493294\ttotal: 13.6s\tremaining: 1.34s\n",
            "91:\tlearn: 2566.2428134\ttotal: 13.7s\tremaining: 1.19s\n",
            "92:\tlearn: 2557.3673051\ttotal: 13.9s\tremaining: 1.04s\n",
            "93:\tlearn: 2548.5328180\ttotal: 14s\tremaining: 897ms\n",
            "94:\tlearn: 2540.7053241\ttotal: 14.2s\tremaining: 747ms\n",
            "95:\tlearn: 2531.3795472\ttotal: 14.3s\tremaining: 598ms\n",
            "96:\tlearn: 2524.1522255\ttotal: 14.5s\tremaining: 449ms\n",
            "97:\tlearn: 2514.7393975\ttotal: 14.7s\tremaining: 299ms\n",
            "98:\tlearn: 2505.4194235\ttotal: 14.8s\tremaining: 150ms\n",
            "99:\tlearn: 2499.7077432\ttotal: 14.9s\tremaining: 0us\n"
          ],
          "name": "stdout"
        },
        {
          "output_type": "execute_result",
          "data": {
            "text/plain": [
              "<catboost.core.CatBoostRegressor at 0x7f751161e1d0>"
            ]
          },
          "metadata": {
            "tags": []
          },
          "execution_count": 19
        }
      ]
    },
    {
      "cell_type": "code",
      "metadata": {
        "colab": {
          "base_uri": "https://localhost:8080/"
        },
        "id": "Sm43lzEpBLCi",
        "outputId": "5baff02d-9a63-41b5-e516-dc69d977b670"
      },
      "source": [
        "gc.collect()"
      ],
      "execution_count": 21,
      "outputs": [
        {
          "output_type": "execute_result",
          "data": {
            "text/plain": [
              "0"
            ]
          },
          "metadata": {
            "tags": []
          },
          "execution_count": 21
        }
      ]
    },
    {
      "cell_type": "code",
      "metadata": {
        "id": "W5h52k6TBKaF"
      },
      "source": [
        "y_predCAT = r.predict(X_test)"
      ],
      "execution_count": 22,
      "outputs": []
    },
    {
      "cell_type": "code",
      "metadata": {
        "colab": {
          "base_uri": "https://localhost:8080/"
        },
        "id": "WUtoRT4IBPhy",
        "outputId": "7e0652f1-4899-4888-ae01-52742657d505"
      },
      "source": [
        "print('Mean Absolute Error: ', round(metrics.mean_absolute_error(y_test, y_predCAT), 3))\r\n",
        "print('Mean Squared Error: ', round(metrics.mean_squared_error(y_test, y_predCAT), 3))\r\n",
        "print('Root Mean Squared Error: ', round(np.sqrt(metrics.mean_squared_error(y_test, y_predCAT)), 3))\r\n",
        "print('R2 score: ', round(r2_score(y_test, y_predCAT), 3))"
      ],
      "execution_count": 23,
      "outputs": [
        {
          "output_type": "stream",
          "text": [
            "Mean Absolute Error:  2033.32\n",
            "Mean Squared Error:  10580647.572\n",
            "Root Mean Squared Error:  3252.791\n",
            "R2 score:  0.911\n"
          ],
          "name": "stdout"
        }
      ]
    },
    {
      "cell_type": "code",
      "metadata": {
        "colab": {
          "base_uri": "https://localhost:8080/"
        },
        "id": "EIifASgjBRXp",
        "outputId": "d86a5ca8-ec33-4da1-dd99-79dea416636a"
      },
      "source": [
        "gc.collect()"
      ],
      "execution_count": 25,
      "outputs": [
        {
          "output_type": "execute_result",
          "data": {
            "text/plain": [
              "110"
            ]
          },
          "metadata": {
            "tags": []
          },
          "execution_count": 25
        }
      ]
    },
    {
      "cell_type": "markdown",
      "metadata": {
        "id": "HsVgZkW4RdQ4"
      },
      "source": [
        "####LGBM REGRESSOR"
      ]
    },
    {
      "cell_type": "code",
      "metadata": {
        "colab": {
          "base_uri": "https://localhost:8080/"
        },
        "id": "qpz9L78yPm3Z",
        "outputId": "665ae1f5-ef58-4ff9-8d69-889c18dfc9de"
      },
      "source": [
        "r = LGBMRegressor(n_estimators=150, random_state=42)\r\n",
        "r.fit(X_train, y_train.ravel())"
      ],
      "execution_count": 26,
      "outputs": [
        {
          "output_type": "execute_result",
          "data": {
            "text/plain": [
              "LGBMRegressor(boosting_type='gbdt', class_weight=None, colsample_bytree=1.0,\n",
              "              importance_type='split', learning_rate=0.1, max_depth=-1,\n",
              "              min_child_samples=20, min_child_weight=0.001, min_split_gain=0.0,\n",
              "              n_estimators=150, n_jobs=-1, num_leaves=31, objective=None,\n",
              "              random_state=42, reg_alpha=0.0, reg_lambda=0.0, silent=True,\n",
              "              subsample=1.0, subsample_for_bin=200000, subsample_freq=0)"
            ]
          },
          "metadata": {
            "tags": []
          },
          "execution_count": 26
        }
      ]
    },
    {
      "cell_type": "code",
      "metadata": {
        "colab": {
          "base_uri": "https://localhost:8080/"
        },
        "id": "wEG3T-vSRfyf",
        "outputId": "47338487-105d-4918-d942-a65b5d140a9e"
      },
      "source": [
        "gc.collect()"
      ],
      "execution_count": 27,
      "outputs": [
        {
          "output_type": "execute_result",
          "data": {
            "text/plain": [
              "60"
            ]
          },
          "metadata": {
            "tags": []
          },
          "execution_count": 27
        }
      ]
    },
    {
      "cell_type": "code",
      "metadata": {
        "id": "dSdGGM0ORjEN"
      },
      "source": [
        "y_predLGBM = r.predict(X_test)"
      ],
      "execution_count": 28,
      "outputs": []
    },
    {
      "cell_type": "code",
      "metadata": {
        "colab": {
          "base_uri": "https://localhost:8080/"
        },
        "id": "NjRpTs_FRjs5",
        "outputId": "2c85e4df-b9cb-4c93-cb42-6e025c757ac5"
      },
      "source": [
        "print('Mean Absolute Error: ', round(metrics.mean_absolute_error(y_test, y_predLGBM), 3))\r\n",
        "print('Mean Squared Error: ', round(metrics.mean_squared_error(y_test, y_predLGBM), 3))\r\n",
        "print('Root Mean Squared Error: ', round(np.sqrt(metrics.mean_squared_error(y_test, y_predLGBM)), 3))\r\n",
        "print('R2 score: ', round(r2_score(y_test, y_predLGBM), 3))"
      ],
      "execution_count": 29,
      "outputs": [
        {
          "output_type": "stream",
          "text": [
            "Mean Absolute Error:  2389.09\n",
            "Mean Squared Error:  13343663.915\n",
            "Root Mean Squared Error:  3652.898\n",
            "R2 score:  0.888\n"
          ],
          "name": "stdout"
        }
      ]
    },
    {
      "cell_type": "code",
      "metadata": {
        "colab": {
          "base_uri": "https://localhost:8080/"
        },
        "id": "G9lW8nWoRmHj",
        "outputId": "79992880-ee0a-4d63-e6b8-6b5d635057fb"
      },
      "source": [
        "gc.collect()"
      ],
      "execution_count": 30,
      "outputs": [
        {
          "output_type": "execute_result",
          "data": {
            "text/plain": [
              "89"
            ]
          },
          "metadata": {
            "tags": []
          },
          "execution_count": 30
        }
      ]
    },
    {
      "cell_type": "markdown",
      "metadata": {
        "id": "JmEuHq0nSXLU"
      },
      "source": [
        "####XGB REGRESSOR"
      ]
    },
    {
      "cell_type": "code",
      "metadata": {
        "colab": {
          "base_uri": "https://localhost:8080/"
        },
        "id": "ZazF_s1bRnv8",
        "outputId": "e60253f7-93a1-4b23-eeff-d5865cd28bb1"
      },
      "source": [
        "r = XGBRegressor(n_estimators=150, random_state=42)\r\n",
        "r.fit(X_train, y_train.ravel())"
      ],
      "execution_count": 31,
      "outputs": [
        {
          "output_type": "stream",
          "text": [
            "[13:32:34] WARNING: /workspace/src/objective/regression_obj.cu:152: reg:linear is now deprecated in favor of reg:squarederror.\n"
          ],
          "name": "stdout"
        },
        {
          "output_type": "execute_result",
          "data": {
            "text/plain": [
              "XGBRegressor(base_score=0.5, booster='gbtree', colsample_bylevel=1,\n",
              "             colsample_bynode=1, colsample_bytree=1, gamma=0,\n",
              "             importance_type='gain', learning_rate=0.1, max_delta_step=0,\n",
              "             max_depth=3, min_child_weight=1, missing=None, n_estimators=150,\n",
              "             n_jobs=1, nthread=None, objective='reg:linear', random_state=42,\n",
              "             reg_alpha=0, reg_lambda=1, scale_pos_weight=1, seed=None,\n",
              "             silent=None, subsample=1, verbosity=1)"
            ]
          },
          "metadata": {
            "tags": []
          },
          "execution_count": 31
        }
      ]
    },
    {
      "cell_type": "code",
      "metadata": {
        "colab": {
          "base_uri": "https://localhost:8080/"
        },
        "id": "1HzxjnMASGMW",
        "outputId": "5f2f6d26-5a1f-4c16-d16f-4f615b1d93d4"
      },
      "source": [
        "gc.collect()"
      ],
      "execution_count": 32,
      "outputs": [
        {
          "output_type": "execute_result",
          "data": {
            "text/plain": [
              "96"
            ]
          },
          "metadata": {
            "tags": []
          },
          "execution_count": 32
        }
      ]
    },
    {
      "cell_type": "code",
      "metadata": {
        "id": "rFgHXHYqSHId"
      },
      "source": [
        "y_predXGB = r.predict(X_test)"
      ],
      "execution_count": 33,
      "outputs": []
    },
    {
      "cell_type": "code",
      "metadata": {
        "colab": {
          "base_uri": "https://localhost:8080/"
        },
        "id": "7iw26re-SMKy",
        "outputId": "4b6074dc-ca6a-4296-86d1-667b38ca9297"
      },
      "source": [
        "print('Mean Absolute Error: ', round(metrics.mean_absolute_error(y_test, y_predXGB), 3))\r\n",
        "print('Mean Squared Error: ', round(metrics.mean_squared_error(y_test, y_predXGB), 3))\r\n",
        "print('Root Mean Squared Error: ', round(np.sqrt(metrics.mean_squared_error(y_test, y_predXGB)), 3))\r\n",
        "print('R2 score: ', round(r2_score(y_test, y_predXGB), 3))"
      ],
      "execution_count": 34,
      "outputs": [
        {
          "output_type": "stream",
          "text": [
            "Mean Absolute Error:  3003.617\n",
            "Mean Squared Error:  19457586.657\n",
            "Root Mean Squared Error:  4411.075\n",
            "R2 score:  0.837\n"
          ],
          "name": "stdout"
        }
      ]
    },
    {
      "cell_type": "markdown",
      "metadata": {
        "id": "n-oK_GY5SUyn"
      },
      "source": [
        "####XGBRF REGRESSOR"
      ]
    },
    {
      "cell_type": "code",
      "metadata": {
        "colab": {
          "base_uri": "https://localhost:8080/"
        },
        "id": "FN_jw9ENSOZD",
        "outputId": "b20d2f9f-f720-493e-9a83-7c2a7eaa7f91"
      },
      "source": [
        "r = XGBRFRegressor(n_estimators=150, random_state=42)\r\n",
        "r.fit(X_train, y_train.ravel())"
      ],
      "execution_count": 35,
      "outputs": [
        {
          "output_type": "stream",
          "text": [
            "[13:34:02] WARNING: /workspace/src/objective/regression_obj.cu:152: reg:linear is now deprecated in favor of reg:squarederror.\n"
          ],
          "name": "stdout"
        },
        {
          "output_type": "execute_result",
          "data": {
            "text/plain": [
              "XGBRFRegressor(base_score=0.5, colsample_bylevel=1, colsample_bynode=0.8,\n",
              "               colsample_bytree=1, gamma=0, learning_rate=1, max_delta_step=0,\n",
              "               max_depth=3, min_child_weight=1, missing=None, n_estimators=150,\n",
              "               n_jobs=1, nthread=None, objective='reg:linear', random_state=42,\n",
              "               reg_alpha=0, reg_lambda=1, scale_pos_weight=1, seed=None,\n",
              "               silent=None, subsample=0.8, verbosity=1)"
            ]
          },
          "metadata": {
            "tags": []
          },
          "execution_count": 35
        }
      ]
    },
    {
      "cell_type": "code",
      "metadata": {
        "colab": {
          "base_uri": "https://localhost:8080/"
        },
        "id": "WkoMXGonSbqD",
        "outputId": "db6d6c72-d0de-40b7-e807-a19ebac6b623"
      },
      "source": [
        "gc.collect()"
      ],
      "execution_count": 36,
      "outputs": [
        {
          "output_type": "execute_result",
          "data": {
            "text/plain": [
              "98"
            ]
          },
          "metadata": {
            "tags": []
          },
          "execution_count": 36
        }
      ]
    },
    {
      "cell_type": "code",
      "metadata": {
        "id": "vjJiwEhwSckm"
      },
      "source": [
        "y_predXGBRF = r.predict(X_test)"
      ],
      "execution_count": 37,
      "outputs": []
    },
    {
      "cell_type": "code",
      "metadata": {
        "colab": {
          "base_uri": "https://localhost:8080/"
        },
        "id": "a7t_1vvESdC4",
        "outputId": "3cfca15e-7b50-495d-d454-c69a52dd1fd9"
      },
      "source": [
        "print('Mean Absolute Error: ', round(metrics.mean_absolute_error(y_test, y_predXGBRF), 3))\r\n",
        "print('Mean Squared Error: ', round(metrics.mean_squared_error(y_test, y_predXGBRF), 3))\r\n",
        "print('Root Mean Squared Error: ', round(np.sqrt(metrics.mean_squared_error(y_test, y_predXGBRF)), 3))\r\n",
        "print('R2 score: ', round(r2_score(y_test, y_predXGBRF), 3))"
      ],
      "execution_count": 38,
      "outputs": [
        {
          "output_type": "stream",
          "text": [
            "Mean Absolute Error:  4767.293\n",
            "Mean Squared Error:  41179565.691\n",
            "Root Mean Squared Error:  6417.131\n",
            "R2 score:  0.655\n"
          ],
          "name": "stdout"
        }
      ]
    },
    {
      "cell_type": "markdown",
      "metadata": {
        "id": "qFALAJUmWLuR"
      },
      "source": [
        "####**From all the models used, ExtraTrees Regressor gave the highest R2 score of 0.928 with the lowest mae value of 1489.648**"
      ]
    },
    {
      "cell_type": "code",
      "metadata": {
        "id": "ohrf8sstSfVs"
      },
      "source": [
        ""
      ],
      "execution_count": null,
      "outputs": []
    }
  ]
}