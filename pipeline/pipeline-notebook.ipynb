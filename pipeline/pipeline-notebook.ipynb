{
 "cells": [
  {
   "cell_type": "code",
   "execution_count": 2,
   "metadata": {},
   "outputs": [
    {
     "ename": "ModuleNotFoundError",
     "evalue": "No module named 'kfp'",
     "output_type": "error",
     "traceback": [
      "\u001b[1;31m---------------------------------------------------------------------------\u001b[0m",
      "\u001b[1;31mModuleNotFoundError\u001b[0m                       Traceback (most recent call last)",
      "\u001b[1;32m<ipython-input-2-c8fcae1aea04>\u001b[0m in \u001b[0;36m<module>\u001b[1;34m\u001b[0m\n\u001b[1;32m----> 1\u001b[1;33m \u001b[1;32mimport\u001b[0m \u001b[0mkfp\u001b[0m\u001b[1;33m\u001b[0m\u001b[1;33m\u001b[0m\u001b[0m\n\u001b[0m\u001b[0;32m      2\u001b[0m \u001b[1;32mimport\u001b[0m \u001b[0mkfp\u001b[0m\u001b[1;33m.\u001b[0m\u001b[0mdsl\u001b[0m \u001b[1;32mas\u001b[0m \u001b[0mdsl\u001b[0m\u001b[1;33m\u001b[0m\u001b[1;33m\u001b[0m\u001b[0m\n\u001b[0;32m      3\u001b[0m \u001b[1;32mimport\u001b[0m \u001b[0mkfp\u001b[0m\u001b[1;33m.\u001b[0m\u001b[0mgcp\u001b[0m \u001b[1;32mas\u001b[0m \u001b[0mgcp\u001b[0m\u001b[1;33m\u001b[0m\u001b[1;33m\u001b[0m\u001b[0m\n\u001b[0;32m      4\u001b[0m \u001b[1;32mfrom\u001b[0m \u001b[0mkfp\u001b[0m \u001b[1;32mimport\u001b[0m \u001b[0mcomponents\u001b[0m\u001b[1;33m\u001b[0m\u001b[1;33m\u001b[0m\u001b[0m\n\u001b[0;32m      5\u001b[0m \u001b[1;32mimport\u001b[0m \u001b[0mjson\u001b[0m\u001b[1;33m\u001b[0m\u001b[1;33m\u001b[0m\u001b[0m\n",
      "\u001b[1;31mModuleNotFoundError\u001b[0m: No module named 'kfp'"
     ]
    }
   ],
   "source": [
    "import kfp\n",
    "import kfp.dsl as dsl\n",
    "import kfp.gcp as gcp\n",
    "from kfp import components\n",
    "import json\n",
    "from string import Template"
   ]
  },
  {
   "cell_type": "code",
   "execution_count": 3,
   "metadata": {},
   "outputs": [],
   "source": [
    "def convert_result(result) -> str:\n",
    "    import json\n",
    "    hyperparameters = json.loads(result)\n",
    "    args = []\n",
    "    for param in hyperparameters:\n",
    "        args.append(f\"{param['name']}={param['value']}\")\n",
    "        return \" \".join(args)"
   ]
  },
  {
   "cell_type": "code",
   "execution_count": null,
   "metadata": {},
   "outputs": [],
   "source": [
    "KATIB_NAMESPACE = \"\""
   ]
  },
  {
   "cell_type": "code",
   "execution_count": null,
   "metadata": {},
   "outputs": [],
   "source": [
    "@dsl.pipeline(\n",
    "    name=\"Used-Cars\",\n",
    "    description=\"A pipeline to train and serve the used cars price prediction model\"\n",
    ")\n",
    "\n",
    "def used_cars_pipeline(\n",
    "    name=\"used-cars-{{workflow.id}}\",\n",
    "    katib_namespace=KATIB_NAMESPACE,\n",
    "    goal=0.9\n",
    "    preprocess_image=\"gcr.io/<PROJECT_ID>/kubeflow-used-cars-preprocess:latest\"\n",
    "    training_image=\"gcr.io/<PROJECT_ID>/kubeflow-used-cars-train:latest\",\n",
    "    training_namespace=\"kubeflow\",\n",
    "    export_dir=\"gs://<BUCKET_NAME>/export\",\n",
    "    parallel_trial_count=5,\n",
    "    max_trial_count=3\n",
    "):\n",
    "    \n",
    "    objectiveConfig = {\n",
    "        \"type\": \"maximize\",\n",
    "        \"goal\": goal,\n",
    "        \"objectiveMericName\": \"val_accuracy\",\n",
    "        \"additionalMetricNames\": [\"loss\", \"accuracy\"],\n",
    "    }\n",
    "    \n",
    "    algorithmConfig = {\"algorithmName\": \"random\"}\n",
    "    \n",
    "    metricCollectorSpec = {\n",
    "        \"collector\": {\n",
    "            \"kind\": \"StdOut\"\n",
    "        }\n",
    "    }\n",
    "    \n",
    "    parameters = [\n",
    "        {\"name\": \"--tf-learning-rate\", \"parameterType\": \"double\", \"feasibleSpace\": {\"min\": \"0.001\", \"max\":\"0.05\"}},\n",
    "    ]\n",
    "    \n",
    "    rawTemplate = {\n",
    "        \"apiVersion\": \"batch/v1\",\n",
    "        \"kind\": \"Job\",\n",
    "        \"metadata\": {\n",
    "            \"name\": \"{{.Trial}}\",\n",
    "            \"namespace\": \"{{.Namespace}}\"\n",
    "        },\n",
    "        \n",
    "        \"spec\": {\n",
    "            \"template\": {\n",
    "                \"spec\": {\n",
    "                    \"restartPolicy\": \"Never\",\n",
    "                    \"containers\": [\n",
    "                        {\n",
    "                            \"name\": \"{{.Trial}}\",\n",
    "                            \"image\": str(training_image),\n",
    "                            \"imagePullPolicy\": \"Always\",\n",
    "                            \"command\": [\n",
    "                                \"python\",\n",
    "                                \"/opt/model.py\",\n",
    "                                \"--tf-mode=local\",\n",
    "                                \"{{- with .Hyperparameters}}\",\n",
    "                                \"{{- range}}\",\n",
    "                                \"{{.Name}}={{.Value}}\",\n",
    "                                \"{{- end}}\",\n",
    "                                \"{{- end}}\"\n",
    "                            ]\n",
    "                        }\n",
    "                    ]\n",
    "                }\n",
    "            }\n",
    "        }\n",
    "    }\n",
    "    \n",
    "    trialTemplate = {\n",
    "        \"goTemplate\": {\n",
    "            \"rawTemplate\": json.dumps(rawTemplate)\n",
    "        }\n",
    "    }\n",
    "    \n",
    "    katib_experiment_launcher_op = components.load_component_from_url(\n",
    "        'https://raw.githubusercontent.com/kubeflow/pipelines/master/components/kubeflow/katib-launcher/component.yaml'\n",
    "    )\n",
    "    \n",
    "    katib_op = katib_experiment_launcher_op(\n",
    "        experiment_name=name,\n",
    "        experiment_namespace=katib_namespace,\n",
    "        parallel_trial_count=parallel_trial_count,\n",
    "        max_trial_count=max_trial_count,\n",
    "        objective=str(objectiveConfig),\n",
    "        algorithm=str(algorithmConfig),\n",
    "        trailTemplate=str(trialTemplate),\n",
    "        parameters=str(parameters),\n",
    "        metrics_collector=str(metricsCollectorSpec),\n",
    "        delete_finished_experiment=False\n",
    "    )\n",
    "    \n",
    "    \n",
    "    convert_op = components.func_to_container_op(convert_result)\n",
    "    op2 = convert_op(katib_op.output)"
   ]
  }
 ],
 "metadata": {
  "kernelspec": {
   "display_name": "Python 3",
   "language": "python",
   "name": "python3"
  },
  "language_info": {
   "codemirror_mode": {
    "name": "ipython",
    "version": 3
   },
   "file_extension": ".py",
   "mimetype": "text/x-python",
   "name": "python",
   "nbconvert_exporter": "python",
   "pygments_lexer": "ipython3",
   "version": "3.8.3"
  }
 },
 "nbformat": 4,
 "nbformat_minor": 4
}
