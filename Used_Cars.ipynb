{
  "nbformat": 4,
  "nbformat_minor": 0,
  "metadata": {
    "colab": {
      "name": "Used_Cars.ipynb",
      "provenance": [],
      "collapsed_sections": [],
      "authorship_tag": "ABX9TyMKfgT+MqLwXmJShye+5GTx",
      "include_colab_link": true
    },
    "kernelspec": {
      "display_name": "Python 3",
      "name": "python3"
    }
  },
  "cells": [
    {
      "cell_type": "markdown",
      "metadata": {
        "id": "view-in-github",
        "colab_type": "text"
      },
      "source": [
        "<a href=\"https://colab.research.google.com/github/Fitzpatrique/g05-used-cars/blob/master/Used_Cars.ipynb\" target=\"_parent\"><img src=\"https://colab.research.google.com/assets/colab-badge.svg\" alt=\"Open In Colab\"/></a>"
      ]
    },
    {
      "cell_type": "code",
      "metadata": {
        "colab": {
          "base_uri": "https://localhost:8080/"
        },
        "id": "eiyC3s7rBoum",
        "outputId": "27780dde-4d73-4658-c272-f29d7e77bb86"
      },
      "source": [
        "# Mount your Google drive folder on Colab\n",
        "from google.colab import drive\n",
        "drive.mount('/content/gdrive', force_remount=True)"
      ],
      "execution_count": null,
      "outputs": [
        {
          "output_type": "stream",
          "text": [
            "Mounted at /content/gdrive\n"
          ],
          "name": "stdout"
        }
      ]
    },
    {
      "cell_type": "markdown",
      "metadata": {
        "id": "ybOYKjf1vaS-"
      },
      "source": [
        "#Import the Necessary Libraries"
      ]
    },
    {
      "cell_type": "code",
      "metadata": {
        "id": "aaUHJZ4n8FtN"
      },
      "source": [
        "import numpy as np\n",
        "import pandas as pd\n",
        "import matplotlib.pyplot as plt\n",
        "import seaborn as sns\n",
        "from sklearn import pipeline, preprocessing, metrics, model_selection, ensemble, linear_model\n",
        "from sklearn_pandas import DataFrameMapper"
      ],
      "execution_count": null,
      "outputs": []
    },
    {
      "cell_type": "code",
      "metadata": {
        "id": "8z3HcmRyFWb2"
      },
      "source": [
        "%matplotlib inline"
      ],
      "execution_count": null,
      "outputs": []
    },
    {
      "cell_type": "markdown",
      "metadata": {
        "id": "tO-Ejls7viaD"
      },
      "source": [
        "#Load the Dataset"
      ]
    },
    {
      "cell_type": "code",
      "metadata": {
        "id": "um9ZMGz-BldL"
      },
      "source": [
        "url = '/content/gdrive/My Drive/vehicles2.csv'"
      ],
      "execution_count": null,
      "outputs": []
    },
    {
      "cell_type": "markdown",
      "metadata": {
        "id": "_V6CYRaevoMx"
      },
      "source": [
        "#Read the Dataset with Pandas"
      ]
    },
    {
      "cell_type": "code",
      "metadata": {
        "id": "vQR_bkpKoi7t"
      },
      "source": [
        "new_df = pd.read_csv(url)"
      ],
      "execution_count": null,
      "outputs": []
    },
    {
      "cell_type": "markdown",
      "metadata": {
        "id": "zqddDqlLvvjV"
      },
      "source": [
        "#Perform Exploratory Data Analysis on the Dataset"
      ]
    },
    {
      "cell_type": "code",
      "metadata": {
        "colab": {
          "base_uri": "https://localhost:8080/"
        },
        "id": "LQogIBg4q7uU",
        "outputId": "30a46fa3-2d6c-4bb1-d2ca-3ce41de78258"
      },
      "source": [
        "new_df.info()"
      ],
      "execution_count": null,
      "outputs": [
        {
          "output_type": "stream",
          "text": [
            "<class 'pandas.core.frame.DataFrame'>\n",
            "RangeIndex: 157565 entries, 0 to 157564\n",
            "Data columns (total 15 columns):\n",
            " #   Column        Non-Null Count   Dtype  \n",
            "---  ------        --------------   -----  \n",
            " 0   Unnamed: 0    157565 non-null  int64  \n",
            " 1   price         157565 non-null  int64  \n",
            " 2   year          157565 non-null  float64\n",
            " 3   manufacturer  157565 non-null  int64  \n",
            " 4   model         157565 non-null  int64  \n",
            " 5   condition     157565 non-null  int64  \n",
            " 6   cylinders     157565 non-null  int64  \n",
            " 7   fuel          157565 non-null  int64  \n",
            " 8   odometer      157565 non-null  float64\n",
            " 9   title_status  157565 non-null  int64  \n",
            " 10  transmission  157565 non-null  int64  \n",
            " 11  drive         157565 non-null  int64  \n",
            " 12  state         157565 non-null  int64  \n",
            " 13  lat           157565 non-null  float64\n",
            " 14  long          157565 non-null  float64\n",
            "dtypes: float64(4), int64(11)\n",
            "memory usage: 18.0 MB\n"
          ],
          "name": "stdout"
        }
      ]
    },
    {
      "cell_type": "code",
      "metadata": {
        "colab": {
          "base_uri": "https://localhost:8080/",
          "height": 191
        },
        "id": "wf5qakJIbQsm",
        "outputId": "a6a9c880-108d-420a-8130-0e849bd02507"
      },
      "source": [
        "new_df.head()"
      ],
      "execution_count": null,
      "outputs": [
        {
          "output_type": "execute_result",
          "data": {
            "text/html": [
              "<div>\n",
              "<style scoped>\n",
              "    .dataframe tbody tr th:only-of-type {\n",
              "        vertical-align: middle;\n",
              "    }\n",
              "\n",
              "    .dataframe tbody tr th {\n",
              "        vertical-align: top;\n",
              "    }\n",
              "\n",
              "    .dataframe thead th {\n",
              "        text-align: right;\n",
              "    }\n",
              "</style>\n",
              "<table border=\"1\" class=\"dataframe\">\n",
              "  <thead>\n",
              "    <tr style=\"text-align: right;\">\n",
              "      <th></th>\n",
              "      <th>price</th>\n",
              "      <th>year</th>\n",
              "      <th>manufacturer</th>\n",
              "      <th>model</th>\n",
              "      <th>condition</th>\n",
              "      <th>cylinders</th>\n",
              "      <th>fuel</th>\n",
              "      <th>odometer</th>\n",
              "      <th>title_status</th>\n",
              "      <th>transmission</th>\n",
              "      <th>drive</th>\n",
              "      <th>state</th>\n",
              "      <th>lat</th>\n",
              "      <th>long</th>\n",
              "    </tr>\n",
              "  </thead>\n",
              "  <tbody>\n",
              "    <tr>\n",
              "      <th>0</th>\n",
              "      <td>35990</td>\n",
              "      <td>2010.0</td>\n",
              "      <td>0</td>\n",
              "      <td>0</td>\n",
              "      <td>0</td>\n",
              "      <td>0</td>\n",
              "      <td>0</td>\n",
              "      <td>32742.0</td>\n",
              "      <td>0</td>\n",
              "      <td>0</td>\n",
              "      <td>0</td>\n",
              "      <td>0</td>\n",
              "      <td>32.5900</td>\n",
              "      <td>-85.4800</td>\n",
              "    </tr>\n",
              "    <tr>\n",
              "      <th>1</th>\n",
              "      <td>7500</td>\n",
              "      <td>2014.0</td>\n",
              "      <td>1</td>\n",
              "      <td>1</td>\n",
              "      <td>1</td>\n",
              "      <td>1</td>\n",
              "      <td>0</td>\n",
              "      <td>93600.0</td>\n",
              "      <td>0</td>\n",
              "      <td>1</td>\n",
              "      <td>1</td>\n",
              "      <td>0</td>\n",
              "      <td>32.5475</td>\n",
              "      <td>-85.4682</td>\n",
              "    </tr>\n",
              "    <tr>\n",
              "      <th>2</th>\n",
              "      <td>2000</td>\n",
              "      <td>1974.0</td>\n",
              "      <td>0</td>\n",
              "      <td>2</td>\n",
              "      <td>0</td>\n",
              "      <td>1</td>\n",
              "      <td>0</td>\n",
              "      <td>190000.0</td>\n",
              "      <td>0</td>\n",
              "      <td>1</td>\n",
              "      <td>0</td>\n",
              "      <td>0</td>\n",
              "      <td>32.8616</td>\n",
              "      <td>-85.2161</td>\n",
              "    </tr>\n",
              "    <tr>\n",
              "      <th>3</th>\n",
              "      <td>19500</td>\n",
              "      <td>2005.0</td>\n",
              "      <td>2</td>\n",
              "      <td>3</td>\n",
              "      <td>1</td>\n",
              "      <td>0</td>\n",
              "      <td>1</td>\n",
              "      <td>116000.0</td>\n",
              "      <td>1</td>\n",
              "      <td>1</td>\n",
              "      <td>2</td>\n",
              "      <td>0</td>\n",
              "      <td>32.5475</td>\n",
              "      <td>-85.4682</td>\n",
              "    </tr>\n",
              "    <tr>\n",
              "      <th>4</th>\n",
              "      <td>39990</td>\n",
              "      <td>2012.0</td>\n",
              "      <td>2</td>\n",
              "      <td>4</td>\n",
              "      <td>0</td>\n",
              "      <td>0</td>\n",
              "      <td>0</td>\n",
              "      <td>9692.0</td>\n",
              "      <td>0</td>\n",
              "      <td>0</td>\n",
              "      <td>0</td>\n",
              "      <td>0</td>\n",
              "      <td>32.5900</td>\n",
              "      <td>-85.4800</td>\n",
              "    </tr>\n",
              "  </tbody>\n",
              "</table>\n",
              "</div>"
            ],
            "text/plain": [
              "   price    year  manufacturer  model  ...  drive  state      lat     long\n",
              "0  35990  2010.0             0      0  ...      0      0  32.5900 -85.4800\n",
              "1   7500  2014.0             1      1  ...      1      0  32.5475 -85.4682\n",
              "2   2000  1974.0             0      2  ...      0      0  32.8616 -85.2161\n",
              "3  19500  2005.0             2      3  ...      2      0  32.5475 -85.4682\n",
              "4  39990  2012.0             2      4  ...      0      0  32.5900 -85.4800\n",
              "\n",
              "[5 rows x 14 columns]"
            ]
          },
          "metadata": {
            "tags": []
          },
          "execution_count": 7
        }
      ]
    },
    {
      "cell_type": "code",
      "metadata": {
        "colab": {
          "base_uri": "https://localhost:8080/",
          "height": 314
        },
        "id": "LhF-yisNlU4e",
        "outputId": "8091c90b-13f4-48b8-8a30-1b1f5c53e6c1"
      },
      "source": [
        "new_df.describe()"
      ],
      "execution_count": null,
      "outputs": [
        {
          "output_type": "execute_result",
          "data": {
            "text/html": [
              "<div>\n",
              "<style scoped>\n",
              "    .dataframe tbody tr th:only-of-type {\n",
              "        vertical-align: middle;\n",
              "    }\n",
              "\n",
              "    .dataframe tbody tr th {\n",
              "        vertical-align: top;\n",
              "    }\n",
              "\n",
              "    .dataframe thead th {\n",
              "        text-align: right;\n",
              "    }\n",
              "</style>\n",
              "<table border=\"1\" class=\"dataframe\">\n",
              "  <thead>\n",
              "    <tr style=\"text-align: right;\">\n",
              "      <th></th>\n",
              "      <th>Unnamed: 0</th>\n",
              "      <th>price</th>\n",
              "      <th>year</th>\n",
              "      <th>manufacturer</th>\n",
              "      <th>model</th>\n",
              "      <th>condition</th>\n",
              "      <th>cylinders</th>\n",
              "      <th>fuel</th>\n",
              "      <th>odometer</th>\n",
              "      <th>title_status</th>\n",
              "      <th>transmission</th>\n",
              "      <th>drive</th>\n",
              "      <th>state</th>\n",
              "      <th>lat</th>\n",
              "      <th>long</th>\n",
              "    </tr>\n",
              "  </thead>\n",
              "  <tbody>\n",
              "    <tr>\n",
              "      <th>count</th>\n",
              "      <td>147264.000000</td>\n",
              "      <td>147264.000000</td>\n",
              "      <td>147264.000000</td>\n",
              "      <td>147264.000000</td>\n",
              "      <td>147264.000000</td>\n",
              "      <td>147264.000000</td>\n",
              "      <td>147264.000000</td>\n",
              "      <td>147264.000000</td>\n",
              "      <td>147264.000000</td>\n",
              "      <td>147264.000000</td>\n",
              "      <td>147264.000000</td>\n",
              "      <td>147264.000000</td>\n",
              "      <td>147264.000000</td>\n",
              "      <td>147264.000000</td>\n",
              "      <td>147264.000000</td>\n",
              "    </tr>\n",
              "    <tr>\n",
              "      <th>mean</th>\n",
              "      <td>230646.380575</td>\n",
              "      <td>13690.302810</td>\n",
              "      <td>2009.858839</td>\n",
              "      <td>8.023903</td>\n",
              "      <td>1824.613483</td>\n",
              "      <td>0.814109</td>\n",
              "      <td>1.149208</td>\n",
              "      <td>0.114509</td>\n",
              "      <td>103472.925589</td>\n",
              "      <td>0.136782</td>\n",
              "      <td>0.984681</td>\n",
              "      <td>1.196980</td>\n",
              "      <td>23.957349</td>\n",
              "      <td>38.628379</td>\n",
              "      <td>-91.759555</td>\n",
              "    </tr>\n",
              "    <tr>\n",
              "      <th>std</th>\n",
              "      <td>129081.298235</td>\n",
              "      <td>10595.478975</td>\n",
              "      <td>7.749492</td>\n",
              "      <td>8.021843</td>\n",
              "      <td>2813.276759</td>\n",
              "      <td>0.997849</td>\n",
              "      <td>0.903582</td>\n",
              "      <td>0.474011</td>\n",
              "      <td>60585.727842</td>\n",
              "      <td>0.667041</td>\n",
              "      <td>0.374824</td>\n",
              "      <td>0.767367</td>\n",
              "      <td>14.857051</td>\n",
              "      <td>5.487391</td>\n",
              "      <td>16.932101</td>\n",
              "    </tr>\n",
              "    <tr>\n",
              "      <th>min</th>\n",
              "      <td>0.000000</td>\n",
              "      <td>1.000000</td>\n",
              "      <td>1913.000000</td>\n",
              "      <td>0.000000</td>\n",
              "      <td>0.000000</td>\n",
              "      <td>0.000000</td>\n",
              "      <td>0.000000</td>\n",
              "      <td>0.000000</td>\n",
              "      <td>0.000000</td>\n",
              "      <td>0.000000</td>\n",
              "      <td>0.000000</td>\n",
              "      <td>0.000000</td>\n",
              "      <td>0.000000</td>\n",
              "      <td>-58.091220</td>\n",
              "      <td>-159.713745</td>\n",
              "    </tr>\n",
              "    <tr>\n",
              "      <th>25%</th>\n",
              "      <td>122873.250000</td>\n",
              "      <td>5495.000000</td>\n",
              "      <td>2007.000000</td>\n",
              "      <td>2.000000</td>\n",
              "      <td>146.000000</td>\n",
              "      <td>0.000000</td>\n",
              "      <td>0.000000</td>\n",
              "      <td>0.000000</td>\n",
              "      <td>54981.000000</td>\n",
              "      <td>0.000000</td>\n",
              "      <td>1.000000</td>\n",
              "      <td>1.000000</td>\n",
              "      <td>9.000000</td>\n",
              "      <td>35.060000</td>\n",
              "      <td>-98.317031</td>\n",
              "    </tr>\n",
              "    <tr>\n",
              "      <th>50%</th>\n",
              "      <td>228696.000000</td>\n",
              "      <td>9995.000000</td>\n",
              "      <td>2011.000000</td>\n",
              "      <td>5.000000</td>\n",
              "      <td>587.000000</td>\n",
              "      <td>1.000000</td>\n",
              "      <td>1.000000</td>\n",
              "      <td>0.000000</td>\n",
              "      <td>101433.500000</td>\n",
              "      <td>0.000000</td>\n",
              "      <td>1.000000</td>\n",
              "      <td>1.000000</td>\n",
              "      <td>23.000000</td>\n",
              "      <td>39.628001</td>\n",
              "      <td>-86.100000</td>\n",
              "    </tr>\n",
              "    <tr>\n",
              "      <th>75%</th>\n",
              "      <td>341785.750000</td>\n",
              "      <td>19590.000000</td>\n",
              "      <td>2015.000000</td>\n",
              "      <td>11.000000</td>\n",
              "      <td>2021.000000</td>\n",
              "      <td>1.000000</td>\n",
              "      <td>2.000000</td>\n",
              "      <td>0.000000</td>\n",
              "      <td>145500.000000</td>\n",
              "      <td>0.000000</td>\n",
              "      <td>1.000000</td>\n",
              "      <td>2.000000</td>\n",
              "      <td>37.000000</td>\n",
              "      <td>42.417400</td>\n",
              "      <td>-79.954720</td>\n",
              "    </tr>\n",
              "    <tr>\n",
              "      <th>max</th>\n",
              "      <td>458211.000000</td>\n",
              "      <td>43210.000000</td>\n",
              "      <td>2021.000000</td>\n",
              "      <td>40.000000</td>\n",
              "      <td>13887.000000</td>\n",
              "      <td>5.000000</td>\n",
              "      <td>7.000000</td>\n",
              "      <td>4.000000</td>\n",
              "      <td>284321.000000</td>\n",
              "      <td>5.000000</td>\n",
              "      <td>2.000000</td>\n",
              "      <td>2.000000</td>\n",
              "      <td>50.000000</td>\n",
              "      <td>64.993698</td>\n",
              "      <td>150.898969</td>\n",
              "    </tr>\n",
              "  </tbody>\n",
              "</table>\n",
              "</div>"
            ],
            "text/plain": [
              "          Unnamed: 0          price  ...            lat           long\n",
              "count  147264.000000  147264.000000  ...  147264.000000  147264.000000\n",
              "mean   230646.380575   13690.302810  ...      38.628379     -91.759555\n",
              "std    129081.298235   10595.478975  ...       5.487391      16.932101\n",
              "min         0.000000       1.000000  ...     -58.091220    -159.713745\n",
              "25%    122873.250000    5495.000000  ...      35.060000     -98.317031\n",
              "50%    228696.000000    9995.000000  ...      39.628001     -86.100000\n",
              "75%    341785.750000   19590.000000  ...      42.417400     -79.954720\n",
              "max    458211.000000   43210.000000  ...      64.993698     150.898969\n",
              "\n",
              "[8 rows x 15 columns]"
            ]
          },
          "metadata": {
            "tags": []
          },
          "execution_count": 17
        }
      ]
    },
    {
      "cell_type": "code",
      "metadata": {
        "colab": {
          "base_uri": "https://localhost:8080/",
          "height": 240
        },
        "id": "ZU7W_QOGq43P",
        "outputId": "f5ae8d64-b291-4064-da37-53daf5f9204f"
      },
      "source": [
        "sns.scatterplot(new_df['odometer'], new_df['price'])"
      ],
      "execution_count": null,
      "outputs": [
        {
          "output_type": "stream",
          "text": [
            "/usr/local/lib/python3.6/dist-packages/seaborn/_decorators.py:43: FutureWarning: Pass the following variables as keyword args: x, y. From version 0.12, the only valid positional argument will be `data`, and passing other arguments without an explicit keyword will result in an error or misinterpretation.\n",
            "  FutureWarning\n"
          ],
          "name": "stderr"
        },
        {
          "output_type": "execute_result",
          "data": {
            "text/plain": [
              "<matplotlib.axes._subplots.AxesSubplot at 0x7fa719dd7d68>"
            ]
          },
          "metadata": {
            "tags": []
          },
          "execution_count": 16
        },
        {
          "output_type": "display_data",
          "data": {
            "image/png": "[encoded data removed]",
            "text/plain": [
              "<Figure size 432x288 with 1 Axes>"
            ]
          },
          "metadata": {
            "tags": []
          }
        }
      ]
    },
    {
      "cell_type": "code",
      "metadata": {
        "colab": {
          "base_uri": "https://localhost:8080/",
          "height": 241
        },
        "id": "G-TdS9wXxvR0",
        "outputId": "73aed519-6506-44ad-8bc6-bfef6198f349"
      },
      "source": [
        "sns.barplot(new_df['title_status'], new_df['price'])"
      ],
      "execution_count": null,
      "outputs": [
        {
          "output_type": "stream",
          "text": [
            "/usr/local/lib/python3.6/dist-packages/seaborn/_decorators.py:43: FutureWarning: Pass the following variables as keyword args: x, y. From version 0.12, the only valid positional argument will be `data`, and passing other arguments without an explicit keyword will result in an error or misinterpretation.\n",
            "  FutureWarning\n"
          ],
          "name": "stderr"
        },
        {
          "output_type": "execute_result",
          "data": {
            "text/plain": [
              "<matplotlib.axes._subplots.AxesSubplot at 0x7fa71a32ac88>"
            ]
          },
          "metadata": {
            "tags": []
          },
          "execution_count": 15
        },
        {
          "output_type": "display_data",
          "data": {
            "image/png": "[encoded data removed]",
            "text/plain": [
              "<Figure size 432x288 with 1 Axes>"
            ]
          },
          "metadata": {
            "tags": []
          }
        }
      ]
    },
    {
      "cell_type": "code",
      "metadata": {
        "colab": {
          "base_uri": "https://localhost:8080/",
          "height": 240
        },
        "id": "eQ3Qs5yyFdRM",
        "outputId": "0d60cd58-2ae2-41d5-a920-30314923bcec"
      },
      "source": [
        "sns.barplot(new_df['condition'], new_df['price'])"
      ],
      "execution_count": null,
      "outputs": [
        {
          "output_type": "stream",
          "text": [
            "/usr/local/lib/python3.6/dist-packages/seaborn/_decorators.py:43: FutureWarning: Pass the following variables as keyword args: x, y. From version 0.12, the only valid positional argument will be `data`, and passing other arguments without an explicit keyword will result in an error or misinterpretation.\n",
            "  FutureWarning\n"
          ],
          "name": "stderr"
        },
        {
          "output_type": "execute_result",
          "data": {
            "text/plain": [
              "<matplotlib.axes._subplots.AxesSubplot at 0x7fa71a2f8940>"
            ]
          },
          "metadata": {
            "tags": []
          },
          "execution_count": 14
        },
        {
          "output_type": "display_data",
          "data": {
            "image/png": "[encoded data removed]",
            "text/plain": [
              "<Figure size 432x288 with 1 Axes>"
            ]
          },
          "metadata": {
            "tags": []
          }
        }
      ]
    },
    {
      "cell_type": "code",
      "metadata": {
        "colab": {
          "base_uri": "https://localhost:8080/",
          "height": 240
        },
        "id": "6QnX4mefZDO8",
        "outputId": "dc975aa2-14f2-402d-84a2-e563db48d410"
      },
      "source": [
        "sns.boxplot(new_df['condition'], new_df['price'])"
      ],
      "execution_count": null,
      "outputs": [
        {
          "output_type": "stream",
          "text": [
            "/usr/local/lib/python3.6/dist-packages/seaborn/_decorators.py:43: FutureWarning: Pass the following variables as keyword args: x, y. From version 0.12, the only valid positional argument will be `data`, and passing other arguments without an explicit keyword will result in an error or misinterpretation.\n",
            "  FutureWarning\n"
          ],
          "name": "stderr"
        },
        {
          "output_type": "execute_result",
          "data": {
            "text/plain": [
              "<matplotlib.axes._subplots.AxesSubplot at 0x7fa71b6f1550>"
            ]
          },
          "metadata": {
            "tags": []
          },
          "execution_count": 13
        },
        {
          "output_type": "display_data",
          "data": {
            "image/png": "[encoded data removed]",
            "text/plain": [
              "<Figure size 432x288 with 1 Axes>"
            ]
          },
          "metadata": {
            "tags": []
          }
        }
      ]
    },
    {
      "cell_type": "markdown",
      "metadata": {
        "id": "NTVRLxWeql4-"
      },
      "source": [
        "#Using the IQR method to remove outliers"
      ]
    },
    {
      "cell_type": "code",
      "metadata": {
        "id": "Yy1T3pS5rCfm"
      },
      "source": [
        "# since price value can't be 0, remove the rows with price of 0\r\n",
        "new_df = new_df[new_df['price']>0]"
      ],
      "execution_count": null,
      "outputs": []
    },
    {
      "cell_type": "code",
      "metadata": {
        "colab": {
          "base_uri": "https://localhost:8080/"
        },
        "id": "ON1Tq7WNrWWe",
        "outputId": "e3e292eb-3c0f-40f3-dbd9-e7d276af48a6"
      },
      "source": [
        "# removing outliers from the price column using IQR\n",
        "Q1 = new_df['price'].quantile(0.25)\n",
        "Q3 = new_df['price'].quantile(0.75)\n",
        " \n",
        "IQR = Q3 - Q1\n",
        " \n",
        "lower_bound = Q1 - 1.5 * IQR\n",
        "upper_bound = Q3 + 1.5 * IQR\n",
        "print(lower_bound,upper_bound)"
      ],
      "execution_count": null,
      "outputs": [
        {
          "output_type": "stream",
          "text": [
            "-17135.0 43225.0\n"
          ],
          "name": "stdout"
        }
      ]
    },
    {
      "cell_type": "code",
      "metadata": {
        "id": "nwHFtOS_rodh"
      },
      "source": [
        "outliers = new_df[(new_df.price < lower_bound) | (new_df.price > upper_bound)]"
      ],
      "execution_count": null,
      "outputs": []
    },
    {
      "cell_type": "code",
      "metadata": {
        "id": "iW5AiIPeryVd"
      },
      "source": [
        "# new dataframe with price outliers dropped\r\n",
        "new_df = new_df.drop(outliers.index)"
      ],
      "execution_count": null,
      "outputs": []
    },
    {
      "cell_type": "code",
      "metadata": {
        "colab": {
          "base_uri": "https://localhost:8080/"
        },
        "id": "yscgjwVYsS8c",
        "outputId": "61fd3b49-cbbf-4f3b-e701-2547dcd3fa55"
      },
      "source": [
        "# removing outliers from the odometer column using IQR\n",
        "Q1 = new_df['odometer'].quantile(0.25)\n",
        "Q3 = new_df['odometer'].quantile(0.75)\n",
        " \n",
        "IQR = Q3 - Q1\n",
        " \n",
        "lower_bound = Q1 - 1.5 * IQR\n",
        "upper_bound = Q3 + 1.5 * IQR\n",
        "print(lower_bound,upper_bound)"
      ],
      "execution_count": null,
      "outputs": [
        {
          "output_type": "stream",
          "text": [
            "-81952.5 284371.5\n"
          ],
          "name": "stdout"
        }
      ]
    },
    {
      "cell_type": "code",
      "metadata": {
        "id": "eRziIfeHsvBB"
      },
      "source": [
        "outliers = new_df[(new_df.odometer < lower_bound) | (new_df.odometer > upper_bound)]"
      ],
      "execution_count": null,
      "outputs": []
    },
    {
      "cell_type": "code",
      "metadata": {
        "id": "1u5rBkTOszH9"
      },
      "source": [
        "new_df = new_df.drop(outliers.index)"
      ],
      "execution_count": null,
      "outputs": []
    },
    {
      "cell_type": "code",
      "metadata": {
        "colab": {
          "base_uri": "https://localhost:8080/"
        },
        "id": "6L1vUP7dtHP6",
        "outputId": "1e6b701a-f4f2-4ed3-8572-0b3e1b00e374"
      },
      "source": [
        "new_df.info()"
      ],
      "execution_count": null,
      "outputs": [
        {
          "output_type": "stream",
          "text": [
            "<class 'pandas.core.frame.DataFrame'>\n",
            "Int64Index: 147264 entries, 0 to 157564\n",
            "Data columns (total 15 columns):\n",
            " #   Column        Non-Null Count   Dtype  \n",
            "---  ------        --------------   -----  \n",
            " 0   Unnamed: 0    147264 non-null  int64  \n",
            " 1   price         147264 non-null  int64  \n",
            " 2   year          147264 non-null  float64\n",
            " 3   manufacturer  147264 non-null  int64  \n",
            " 4   model         147264 non-null  int64  \n",
            " 5   condition     147264 non-null  int64  \n",
            " 6   cylinders     147264 non-null  int64  \n",
            " 7   fuel          147264 non-null  int64  \n",
            " 8   odometer      147264 non-null  float64\n",
            " 9   title_status  147264 non-null  int64  \n",
            " 10  transmission  147264 non-null  int64  \n",
            " 11  drive         147264 non-null  int64  \n",
            " 12  state         147264 non-null  int64  \n",
            " 13  lat           147264 non-null  float64\n",
            " 14  long          147264 non-null  float64\n",
            "dtypes: float64(4), int64(11)\n",
            "memory usage: 18.0 MB\n"
          ],
          "name": "stdout"
        }
      ]
    },
    {
      "cell_type": "markdown",
      "metadata": {
        "id": "VcIiDk0hwNrK"
      },
      "source": [
        "#Import SciKit Learn to Perform Train Test Split and Standardize the dataset"
      ]
    },
    {
      "cell_type": "code",
      "metadata": {
        "colab": {
          "background_save": true
        },
        "id": "gSemgdfuwc5h"
      },
      "source": [
        "X = [ 'year', 'odometer', 'lat', 'long', 'manufacturer', 'model', 'condition', 'cylinders', 'fuel', 'title_status', 'transmission', 'drive', 'state']"
      ],
      "execution_count": null,
      "outputs": []
    },
    {
      "cell_type": "code",
      "metadata": {
        "id": "DO6R9rLX5dgp"
      },
      "source": [
        "y = ['price']"
      ],
      "execution_count": null,
      "outputs": []
    },
    {
      "cell_type": "code",
      "metadata": {
        "id": "Wu-HiBPMtVHU"
      },
      "source": [
        "from sklearn.model_selection import train_test_split\r\n",
        "X_train, X_test, y_train, y_test = train_test_split(new_df[X], new_df[y], test_size=0.3, random_state=101)"
      ],
      "execution_count": null,
      "outputs": []
    },
    {
      "cell_type": "code",
      "metadata": {
        "id": "w89qLCtut9Te"
      },
      "source": [
        "from sklearn.preprocessing import StandardScaler\n",
        " \n",
        "sc = StandardScaler()\n",
        "X_train = sc.fit_transform(X_train)\n",
        "X_test = sc.transform(X_test)"
      ],
      "execution_count": null,
      "outputs": []
    },
    {
      "cell_type": "markdown",
      "metadata": {
        "id": "LUIE1lA3woCF"
      },
      "source": [
        "#Develop and Evaluate Various Models Using the Scikit Learn Machine Learning Algorithms"
      ]
    },
    {
      "cell_type": "code",
      "metadata": {
        "colab": {
          "base_uri": "https://localhost:8080/"
        },
        "id": "L5fYC5tcuKcQ",
        "outputId": "0a389c3a-e389-4c6e-ec31-1d144ed64d69"
      },
      "source": [
        "from sklearn.ensemble import RandomForestRegressor\n",
        "random = RandomForestRegressor()\n",
        " \n",
        "random.fit(X_train, y_train)\n",
        "random.predict(X_test)"
      ],
      "execution_count": null,
      "outputs": [
        {
          "output_type": "stream",
          "text": [
            "/usr/local/lib/python3.6/dist-packages/ipykernel_launcher.py:4: DataConversionWarning: A column-vector y was passed when a 1d array was expected. Please change the shape of y to (n_samples,), for example using ravel().\n",
            "  after removing the cwd from sys.path.\n"
          ],
          "name": "stderr"
        },
        {
          "output_type": "execute_result",
          "data": {
            "text/plain": [
              "array([28159.45,  5233.43,  8171.67, ...,  6198.98, 34239.63, 14984.19])"
            ]
          },
          "metadata": {
            "tags": []
          },
          "execution_count": 66
        }
      ]
    },
    {
      "cell_type": "code",
      "metadata": {
        "colab": {
          "base_uri": "https://localhost:8080/"
        },
        "id": "SuA9h2TyuTn4",
        "outputId": "1dc097db-d795-47f2-846f-86216070cd81"
      },
      "source": [
        "print(\"Training set score: {:.2f}\".format(random.score(X_train, y_train)))\r\n",
        "print(\"Test set score: {:.2f}\".format(random.score(X_test, y_test)))"
      ],
      "execution_count": null,
      "outputs": [
        {
          "output_type": "stream",
          "text": [
            "Training set score: 0.99\n",
            "Test set score: 0.91\n"
          ],
          "name": "stdout"
        }
      ]
    },
    {
      "cell_type": "code",
      "metadata": {
        "colab": {
          "base_uri": "https://localhost:8080/"
        },
        "id": "wUDrPzVTohpp",
        "outputId": "50f89252-ac5c-4c11-ae7d-3e9e71d76eaa"
      },
      "source": [
        "from sklearn.linear_model import Ridge\n",
        "ridge = Ridge(alpha=0.001)\n",
        " \n",
        "ridge.fit(X_train, y_train)\n",
        "ridge.predict(X_test)"
      ],
      "execution_count": null,
      "outputs": [
        {
          "output_type": "execute_result",
          "data": {
            "text/plain": [
              "array([[16776.62549456],\n",
              "       [ 1013.22643727],\n",
              "       [13092.12191619],\n",
              "       ...,\n",
              "       [ 7668.93973932],\n",
              "       [29718.8769948 ],\n",
              "       [21012.47801229]])"
            ]
          },
          "metadata": {
            "tags": []
          },
          "execution_count": 72
        }
      ]
    },
    {
      "cell_type": "code",
      "metadata": {
        "colab": {
          "base_uri": "https://localhost:8080/"
        },
        "id": "hIjsEG2toetk",
        "outputId": "25d2477f-fe50-489f-8b5d-5998d33c8eeb"
      },
      "source": [
        "print(\"Training set score: {:.2f}\".format(ridge.score(X_train, y_train)))\n",
        "print(\"Test set score: {:.2f}\".format(ridge.score(X_test, y_test)))"
      ],
      "execution_count": null,
      "outputs": [
        {
          "output_type": "stream",
          "text": [
            "Training set score: 0.48\n",
            "Test set score: 0.48\n"
          ],
          "name": "stdout"
        }
      ]
    },
    {
      "cell_type": "code",
      "metadata": {
        "colab": {
          "base_uri": "https://localhost:8080/"
        },
        "id": "Q0O_NbV0pnXL",
        "outputId": "894697b3-4212-439c-af59-96c6cfcca85c"
      },
      "source": [
        "from sklearn.linear_model import Lasso\n",
        "lasso = Lasso()\n",
        "\n",
        "lasso.fit(X_train, y_train)\n",
        "lasso.predict(X_test)"
      ],
      "execution_count": null,
      "outputs": [
        {
          "output_type": "execute_result",
          "data": {
            "text/plain": [
              "array([16777.42761677,  1016.67296734, 13091.16998935, ...,\n",
              "        7667.2914138 , 29709.85404142, 21013.57942756])"
            ]
          },
          "metadata": {
            "tags": []
          },
          "execution_count": 70
        }
      ]
    },
    {
      "cell_type": "code",
      "metadata": {
        "colab": {
          "base_uri": "https://localhost:8080/"
        },
        "id": "BsFUWAofpnIf",
        "outputId": "86a76b0c-4e70-41d9-efdc-4c9e8b8ff8ed"
      },
      "source": [
        "print(\"Training set score: {:.2f}\".format(lasso.score(X_train, y_train)))\n",
        "print(\"Test set score: {:.2f}\".format(lasso.score(X_test, y_test)))"
      ],
      "execution_count": null,
      "outputs": [
        {
          "output_type": "stream",
          "text": [
            "Training set score: 0.48\n",
            "Test set score: 0.48\n"
          ],
          "name": "stdout"
        }
      ]
    },
    {
      "cell_type": "markdown",
      "metadata": {
        "id": "c-iV43_OvGGm"
      },
      "source": [
        "#Using TensorFlow Model"
      ]
    },
    {
      "cell_type": "code",
      "metadata": {
        "id": "Zx5mq0iKsF3R"
      },
      "source": [
        "import tensorflow as tf\n",
        "from tensorflow.keras.layers import Input, Dense, Activation,Dropout\n",
        "from tensorflow.keras.models import Model"
      ],
      "execution_count": null,
      "outputs": []
    },
    {
      "cell_type": "code",
      "metadata": {
        "id": "H2xQZHXrrJLw"
      },
      "source": [
        "\n",
        "# creating a model for predicting deep learning model\n",
        "model  = tf.keras.Sequential([\n",
        "                tf.keras.layers.Flatten(input_shape=(1,13)),\n",
        "                tf.keras.layers.Dense(8, activation = 'relu'),\n",
        "                tf.keras.layers.Dense(1, activation = 'relu')\n",
        "])\n",
        "model.compile(loss=\"mean_squared_error\" , optimizer=\"adam\", metrics=[\"mean_squared_error\"])"
      ],
      "execution_count": null,
      "outputs": []
    },
    {
      "cell_type": "code",
      "metadata": {
        "colab": {
          "background_save": true,
          "base_uri": "https://localhost:8080/"
        },
        "id": "057rIl25sCSF",
        "outputId": "1a85b708-294c-441c-e47c-4798a1cca0d1"
      },
      "source": [
        "history = model.fit(X_train, y_train, batch_size=2, epochs=100, verbose=1, validation_split=0.2)"
      ],
      "execution_count": null,
      "outputs": [
        {
          "output_type": "stream",
          "text": [
            "Epoch 1/100\n",
            "WARNING:tensorflow:Model was constructed with shape (None, 1, 13) for input Tensor(\"flatten_1_input:0\", shape=(None, 1, 13), dtype=float32), but it was called on an input with incompatible shape (None, 13).\n",
            "WARNING:tensorflow:Model was constructed with shape (None, 1, 13) for input Tensor(\"flatten_1_input:0\", shape=(None, 1, 13), dtype=float32), but it was called on an input with incompatible shape (None, 13).\n",
            "41211/41234 [============================>.] - ETA: 0s - loss: 195346048.0000 - mean_squared_error: 195346048.0000WARNING:tensorflow:Model was constructed with shape (None, 1, 13) for input Tensor(\"flatten_1_input:0\", shape=(None, 1, 13), dtype=float32), but it was called on an input with incompatible shape (None, 13).\n",
            "41234/41234 [==============================] - 39s 948us/step - loss: 195296592.0000 - mean_squared_error: 195296592.0000 - val_loss: 72335744.0000 - val_mean_squared_error: 72335744.0000\n",
            "Epoch 2/100\n",
            "41234/41234 [==============================] - 39s 938us/step - loss: 58204724.0000 - mean_squared_error: 58204724.0000 - val_loss: 53544276.0000 - val_mean_squared_error: 53544276.0000\n",
            "Epoch 3/100\n",
            "41234/41234 [==============================] - 39s 951us/step - loss: 53496704.0000 - mean_squared_error: 53496704.0000 - val_loss: 52284112.0000 - val_mean_squared_error: 52284112.0000\n",
            "Epoch 4/100\n",
            "41234/41234 [==============================] - 40s 964us/step - loss: 52366176.0000 - mean_squared_error: 52366176.0000 - val_loss: 51208532.0000 - val_mean_squared_error: 51208532.0000\n",
            "Epoch 5/100\n",
            "41234/41234 [==============================] - 40s 967us/step - loss: 51138832.0000 - mean_squared_error: 51138832.0000 - val_loss: 50033964.0000 - val_mean_squared_error: 50033964.0000\n",
            "Epoch 6/100\n",
            "41234/41234 [==============================] - 41s 984us/step - loss: 50081052.0000 - mean_squared_error: 50081052.0000 - val_loss: 49151560.0000 - val_mean_squared_error: 49151560.0000\n",
            "Epoch 7/100\n",
            "41234/41234 [==============================] - 41s 1ms/step - loss: 49338420.0000 - mean_squared_error: 49338420.0000 - val_loss: 48524912.0000 - val_mean_squared_error: 48524912.0000\n",
            "Epoch 8/100\n",
            "41234/41234 [==============================] - 40s 971us/step - loss: 48812392.0000 - mean_squared_error: 48812392.0000 - val_loss: 48072064.0000 - val_mean_squared_error: 48072064.0000\n",
            "Epoch 9/100\n",
            "41234/41234 [==============================] - 40s 970us/step - loss: 48443028.0000 - mean_squared_error: 48443028.0000 - val_loss: 47743956.0000 - val_mean_squared_error: 47743956.0000\n",
            "Epoch 10/100\n",
            "41234/41234 [==============================] - 40s 970us/step - loss: 48164344.0000 - mean_squared_error: 48164344.0000 - val_loss: 47477480.0000 - val_mean_squared_error: 47477480.0000\n",
            "Epoch 11/100\n",
            "41234/41234 [==============================] - 40s 968us/step - loss: 47940432.0000 - mean_squared_error: 47940432.0000 - val_loss: 47262208.0000 - val_mean_squared_error: 47262208.0000\n",
            "Epoch 12/100\n",
            "41234/41234 [==============================] - 40s 970us/step - loss: 47748876.0000 - mean_squared_error: 47748876.0000 - val_loss: 47078364.0000 - val_mean_squared_error: 47078364.0000\n",
            "Epoch 13/100\n",
            "41234/41234 [==============================] - 41s 993us/step - loss: 47576020.0000 - mean_squared_error: 47576020.0000 - val_loss: 46903668.0000 - val_mean_squared_error: 46903668.0000\n",
            "Epoch 14/100\n",
            "41234/41234 [==============================] - 41s 989us/step - loss: 47407624.0000 - mean_squared_error: 47407624.0000 - val_loss: 46729396.0000 - val_mean_squared_error: 46729396.0000\n",
            "Epoch 15/100\n",
            "41234/41234 [==============================] - 41s 1ms/step - loss: 47251704.0000 - mean_squared_error: 47251704.0000 - val_loss: 46585040.0000 - val_mean_squared_error: 46585040.0000\n",
            "Epoch 16/100\n",
            "41234/41234 [==============================] - 40s 976us/step - loss: 47096172.0000 - mean_squared_error: 47096172.0000 - val_loss: 46422240.0000 - val_mean_squared_error: 46422240.0000\n",
            "Epoch 17/100\n",
            "41234/41234 [==============================] - 40s 971us/step - loss: 46943672.0000 - mean_squared_error: 46943672.0000 - val_loss: 46292100.0000 - val_mean_squared_error: 46292100.0000\n",
            "Epoch 18/100\n",
            "41234/41234 [==============================] - 40s 972us/step - loss: 46783432.0000 - mean_squared_error: 46783432.0000 - val_loss: 46114948.0000 - val_mean_squared_error: 46114948.0000\n",
            "Epoch 19/100\n",
            "41234/41234 [==============================] - 40s 967us/step - loss: 46613716.0000 - mean_squared_error: 46613716.0000 - val_loss: 45953320.0000 - val_mean_squared_error: 45953320.0000\n",
            "Epoch 20/100\n",
            "41234/41234 [==============================] - 40s 972us/step - loss: 46433524.0000 - mean_squared_error: 46433524.0000 - val_loss: 45769960.0000 - val_mean_squared_error: 45769960.0000\n",
            "Epoch 21/100\n",
            "41234/41234 [==============================] - 41s 982us/step - loss: 46243200.0000 - mean_squared_error: 46243200.0000 - val_loss: 45588132.0000 - val_mean_squared_error: 45588132.0000\n",
            "Epoch 22/100\n",
            "41234/41234 [==============================] - 40s 977us/step - loss: 46038128.0000 - mean_squared_error: 46038128.0000 - val_loss: 45357056.0000 - val_mean_squared_error: 45357056.0000\n",
            "Epoch 23/100\n",
            "41234/41234 [==============================] - 41s 996us/step - loss: 45798552.0000 - mean_squared_error: 45798552.0000 - val_loss: 45094432.0000 - val_mean_squared_error: 45094432.0000\n",
            "Epoch 24/100\n",
            "41234/41234 [==============================] - 40s 972us/step - loss: 45476208.0000 - mean_squared_error: 45476208.0000 - val_loss: 44710580.0000 - val_mean_squared_error: 44710580.0000\n",
            "Epoch 25/100\n",
            "41234/41234 [==============================] - 40s 975us/step - loss: 45044080.0000 - mean_squared_error: 45044080.0000 - val_loss: 44192636.0000 - val_mean_squared_error: 44192636.0000\n",
            "Epoch 26/100\n",
            "41234/41234 [==============================] - 40s 971us/step - loss: 44392240.0000 - mean_squared_error: 44392240.0000 - val_loss: 43410556.0000 - val_mean_squared_error: 43410556.0000\n",
            "Epoch 27/100\n",
            "41234/41234 [==============================] - 40s 971us/step - loss: 43450856.0000 - mean_squared_error: 43450856.0000 - val_loss: 42365572.0000 - val_mean_squared_error: 42365572.0000\n",
            "Epoch 28/100\n",
            "41234/41234 [==============================] - 41s 991us/step - loss: 42369112.0000 - mean_squared_error: 42369112.0000 - val_loss: 41273024.0000 - val_mean_squared_error: 41273024.0000\n",
            "Epoch 29/100\n",
            "41234/41234 [==============================] - 41s 994us/step - loss: 41300576.0000 - mean_squared_error: 41300576.0000 - val_loss: 40281280.0000 - val_mean_squared_error: 40281280.0000\n",
            "Epoch 30/100\n",
            "41234/41234 [==============================] - 41s 1ms/step - loss: 40369516.0000 - mean_squared_error: 40369516.0000 - val_loss: 39419800.0000 - val_mean_squared_error: 39419800.0000\n",
            "Epoch 31/100\n",
            "41234/41234 [==============================] - 40s 977us/step - loss: 39554968.0000 - mean_squared_error: 39554968.0000 - val_loss: 38675848.0000 - val_mean_squared_error: 38675848.0000\n",
            "Epoch 32/100\n",
            "41234/41234 [==============================] - 40s 975us/step - loss: 38851628.0000 - mean_squared_error: 38851628.0000 - val_loss: 38014976.0000 - val_mean_squared_error: 38014976.0000\n",
            "Epoch 33/100\n",
            "41234/41234 [==============================] - 40s 973us/step - loss: 38227796.0000 - mean_squared_error: 38227796.0000 - val_loss: 37448964.0000 - val_mean_squared_error: 37448964.0000\n",
            "Epoch 34/100\n",
            "41234/41234 [==============================] - 40s 976us/step - loss: 37668468.0000 - mean_squared_error: 37668468.0000 - val_loss: 36924020.0000 - val_mean_squared_error: 36924020.0000\n",
            "Epoch 35/100\n",
            "41234/41234 [==============================] - 40s 977us/step - loss: 37150936.0000 - mean_squared_error: 37150936.0000 - val_loss: 36438520.0000 - val_mean_squared_error: 36438520.0000\n",
            "Epoch 36/100\n",
            "41234/41234 [==============================] - 41s 988us/step - loss: 36670640.0000 - mean_squared_error: 36670640.0000 - val_loss: 35980248.0000 - val_mean_squared_error: 35980248.0000\n",
            "Epoch 37/100\n",
            "41234/41234 [==============================] - 40s 978us/step - loss: 36211988.0000 - mean_squared_error: 36211988.0000 - val_loss: 35534512.0000 - val_mean_squared_error: 35534512.0000\n",
            "Epoch 38/100\n",
            "41234/41234 [==============================] - 41s 1ms/step - loss: 35800404.0000 - mean_squared_error: 35800404.0000 - val_loss: 35162980.0000 - val_mean_squared_error: 35162980.0000\n",
            "Epoch 39/100\n",
            "41234/41234 [==============================] - 40s 974us/step - loss: 35439944.0000 - mean_squared_error: 35439944.0000 - val_loss: 34828312.0000 - val_mean_squared_error: 34828312.0000\n",
            "Epoch 40/100\n",
            "41234/41234 [==============================] - 40s 980us/step - loss: 35132784.0000 - mean_squared_error: 35132784.0000 - val_loss: 34545984.0000 - val_mean_squared_error: 34545984.0000\n",
            "Epoch 41/100\n",
            "41234/41234 [==============================] - 40s 974us/step - loss: 34865872.0000 - mean_squared_error: 34865872.0000 - val_loss: 34290332.0000 - val_mean_squared_error: 34290332.0000\n",
            "Epoch 42/100\n",
            "41234/41234 [==============================] - 40s 977us/step - loss: 34620440.0000 - mean_squared_error: 34620440.0000 - val_loss: 34042460.0000 - val_mean_squared_error: 34042460.0000\n",
            "Epoch 43/100\n",
            "41234/41234 [==============================] - 41s 991us/step - loss: 34358904.0000 - mean_squared_error: 34358904.0000 - val_loss: 33761956.0000 - val_mean_squared_error: 33761956.0000\n",
            "Epoch 44/100\n",
            "41234/41234 [==============================] - 41s 996us/step - loss: 34064028.0000 - mean_squared_error: 34064028.0000 - val_loss: 33472640.0000 - val_mean_squared_error: 33472640.0000\n",
            "Epoch 45/100\n",
            "41234/41234 [==============================] - 40s 972us/step - loss: 33765976.0000 - mean_squared_error: 33765976.0000 - val_loss: 33206876.0000 - val_mean_squared_error: 33206876.0000\n",
            "Epoch 46/100\n",
            "41234/41234 [==============================] - 41s 1ms/step - loss: 33515238.0000 - mean_squared_error: 33515238.0000 - val_loss: 32997228.0000 - val_mean_squared_error: 32997228.0000\n",
            "Epoch 47/100\n",
            "41234/41234 [==============================] - 40s 976us/step - loss: 33299784.0000 - mean_squared_error: 33299784.0000 - val_loss: 32801740.0000 - val_mean_squared_error: 32801740.0000\n",
            "Epoch 48/100\n",
            "41234/41234 [==============================] - 40s 979us/step - loss: 33108984.0000 - mean_squared_error: 33108984.0000 - val_loss: 32621266.0000 - val_mean_squared_error: 32621266.0000\n",
            "Epoch 49/100\n",
            "41234/41234 [==============================] - 40s 979us/step - loss: 32931490.0000 - mean_squared_error: 32931490.0000 - val_loss: 32477434.0000 - val_mean_squared_error: 32477434.0000\n",
            "Epoch 50/100\n",
            "41234/41234 [==============================] - 41s 983us/step - loss: 32773966.0000 - mean_squared_error: 32773966.0000 - val_loss: 32340524.0000 - val_mean_squared_error: 32340524.0000\n",
            "Epoch 51/100\n",
            "41234/41234 [==============================] - 41s 992us/step - loss: 32638598.0000 - mean_squared_error: 32638598.0000 - val_loss: 32204732.0000 - val_mean_squared_error: 32204732.0000\n",
            "Epoch 52/100\n",
            "41234/41234 [==============================] - 40s 980us/step - loss: 32514496.0000 - mean_squared_error: 32514496.0000 - val_loss: 32091782.0000 - val_mean_squared_error: 32091782.0000\n",
            "Epoch 53/100\n",
            "41234/41234 [==============================] - 42s 1ms/step - loss: 32407092.0000 - mean_squared_error: 32407092.0000 - val_loss: 31979594.0000 - val_mean_squared_error: 31979594.0000\n",
            "Epoch 54/100\n",
            "41234/41234 [==============================] - 40s 980us/step - loss: 32309964.0000 - mean_squared_error: 32309964.0000 - val_loss: 31891088.0000 - val_mean_squared_error: 31891088.0000\n",
            "Epoch 55/100\n",
            "41234/41234 [==============================] - 40s 975us/step - loss: 32218734.0000 - mean_squared_error: 32218734.0000 - val_loss: 31820558.0000 - val_mean_squared_error: 31820558.0000\n",
            "Epoch 56/100\n",
            "41234/41234 [==============================] - 40s 976us/step - loss: 32138354.0000 - mean_squared_error: 32138354.0000 - val_loss: 31752728.0000 - val_mean_squared_error: 31752728.0000\n",
            "Epoch 57/100\n",
            "41234/41234 [==============================] - 40s 964us/step - loss: 32064486.0000 - mean_squared_error: 32064486.0000 - val_loss: 31683440.0000 - val_mean_squared_error: 31683440.0000\n",
            "Epoch 58/100\n",
            "41234/41234 [==============================] - 40s 976us/step - loss: 31993434.0000 - mean_squared_error: 31993434.0000 - val_loss: 31626710.0000 - val_mean_squared_error: 31626710.0000\n",
            "Epoch 59/100\n",
            "41234/41234 [==============================] - 42s 1ms/step - loss: 31931944.0000 - mean_squared_error: 31931944.0000 - val_loss: 31576254.0000 - val_mean_squared_error: 31576254.0000\n",
            "Epoch 60/100\n",
            "41234/41234 [==============================] - 40s 977us/step - loss: 31873254.0000 - mean_squared_error: 31873254.0000 - val_loss: 31509268.0000 - val_mean_squared_error: 31509268.0000\n",
            "Epoch 61/100\n",
            "41234/41234 [==============================] - 42s 1ms/step - loss: 31820216.0000 - mean_squared_error: 31820216.0000 - val_loss: 31460202.0000 - val_mean_squared_error: 31460202.0000\n",
            "Epoch 62/100\n",
            "41234/41234 [==============================] - 41s 982us/step - loss: 31767038.0000 - mean_squared_error: 31767038.0000 - val_loss: 31432600.0000 - val_mean_squared_error: 31432600.0000\n",
            "Epoch 63/100\n",
            "41234/41234 [==============================] - 40s 970us/step - loss: 31720568.0000 - mean_squared_error: 31720568.0000 - val_loss: 31386500.0000 - val_mean_squared_error: 31386500.0000\n",
            "Epoch 64/100\n",
            "41234/41234 [==============================] - 40s 968us/step - loss: 31674572.0000 - mean_squared_error: 31674572.0000 - val_loss: 31336250.0000 - val_mean_squared_error: 31336250.0000\n",
            "Epoch 65/100\n",
            "41234/41234 [==============================] - 39s 936us/step - loss: 31632694.0000 - mean_squared_error: 31632694.0000 - val_loss: 31301046.0000 - val_mean_squared_error: 31301046.0000\n",
            "Epoch 66/100\n",
            "41234/41234 [==============================] - 39s 936us/step - loss: 31591962.0000 - mean_squared_error: 31591962.0000 - val_loss: 31273530.0000 - val_mean_squared_error: 31273530.0000\n",
            "Epoch 67/100\n",
            "41234/41234 [==============================] - 39s 950us/step - loss: 31552666.0000 - mean_squared_error: 31552666.0000 - val_loss: 31223350.0000 - val_mean_squared_error: 31223350.0000\n",
            "Epoch 68/100\n",
            "41234/41234 [==============================] - 39s 937us/step - loss: 31516066.0000 - mean_squared_error: 31516066.0000 - val_loss: 31197602.0000 - val_mean_squared_error: 31197602.0000\n",
            "Epoch 69/100\n",
            "41234/41234 [==============================] - 40s 970us/step - loss: 31474766.0000 - mean_squared_error: 31474766.0000 - val_loss: 31165824.0000 - val_mean_squared_error: 31165824.0000\n",
            "Epoch 70/100\n",
            "41234/41234 [==============================] - 39s 942us/step - loss: 31434184.0000 - mean_squared_error: 31434184.0000 - val_loss: 31115992.0000 - val_mean_squared_error: 31115992.0000\n",
            "Epoch 71/100\n",
            "41234/41234 [==============================] - 39s 937us/step - loss: 31391270.0000 - mean_squared_error: 31391270.0000 - val_loss: 31089196.0000 - val_mean_squared_error: 31089196.0000\n",
            "Epoch 72/100\n",
            "41234/41234 [==============================] - 39s 938us/step - loss: 31346048.0000 - mean_squared_error: 31346048.0000 - val_loss: 31035192.0000 - val_mean_squared_error: 31035192.0000\n",
            "Epoch 73/100\n",
            "41234/41234 [==============================] - 39s 938us/step - loss: 31295960.0000 - mean_squared_error: 31295960.0000 - val_loss: 30981850.0000 - val_mean_squared_error: 30981850.0000\n",
            "Epoch 74/100\n",
            "41234/41234 [==============================] - 40s 964us/step - loss: 31241092.0000 - mean_squared_error: 31241092.0000 - val_loss: 30923784.0000 - val_mean_squared_error: 30923784.0000\n",
            "Epoch 75/100\n",
            "41234/41234 [==============================] - 39s 944us/step - loss: 31186620.0000 - mean_squared_error: 31186620.0000 - val_loss: 30866906.0000 - val_mean_squared_error: 30866906.0000\n",
            "Epoch 76/100\n",
            "41234/41234 [==============================] - 39s 938us/step - loss: 31135124.0000 - mean_squared_error: 31135124.0000 - val_loss: 30826028.0000 - val_mean_squared_error: 30826028.0000\n",
            "Epoch 77/100\n",
            "41234/41234 [==============================] - 40s 969us/step - loss: 31086076.0000 - mean_squared_error: 31086076.0000 - val_loss: 30776976.0000 - val_mean_squared_error: 30776976.0000\n",
            "Epoch 78/100\n",
            "41234/41234 [==============================] - 39s 937us/step - loss: 31040498.0000 - mean_squared_error: 31040498.0000 - val_loss: 30727496.0000 - val_mean_squared_error: 30727496.0000\n",
            "Epoch 79/100\n",
            "28722/41234 [===================>..........] - ETA: 9s - loss: 31034740.0000 - mean_squared_error: 31034740.0000Buffered data was truncated after reaching the output size limit."
          ],
          "name": "stdout"
        }
      ]
    },
    {
      "cell_type": "code",
      "metadata": {
        "colab": {
          "base_uri": "https://localhost:8080/",
          "height": 0
        },
        "id": "zUVEe84Ztmpm",
        "outputId": "380f1311-7a5a-4b17-9e14-c301a3f4fce3"
      },
      "source": [
        "from sklearn.metrics import mean_squared_error\n",
        "from sklearn.metrics import r2_score\n",
        "from math import sqrt\n",
        " \n",
        "pred_train = model.predict(X_train)\n",
        "print(\"Mean Absolute Error: \", np.sqrt(mean_squared_error(y_train,pred_train)))\n",
        " \n",
        "pred = model.predict(X_test)\n",
        "print(\"Mean Absolute Error: \", np.sqrt(mean_squared_error(y_test,pred)))"
      ],
      "execution_count": 28,
      "outputs": [
        {
          "output_type": "stream",
          "text": [
            "Mean Absolute Error:  5547.425775164725\n",
            "Mean Absolute Error:  5552.195305172272\n"
          ],
          "name": "stdout"
        }
      ]
    },
    {
      "cell_type": "code",
      "metadata": {
        "id": "7pNzbC97BWh7",
        "colab": {
          "base_uri": "https://localhost:8080/",
          "height": 0
        },
        "outputId": "f15c35e6-b5f9-48be-c74f-2f6094e770ed"
      },
      "source": [
        "print(\"R2 score : %.2f\" % r2_score(y_test,pred))"
      ],
      "execution_count": 31,
      "outputs": [
        {
          "output_type": "stream",
          "text": [
            "R2 score : 0.73\n"
          ],
          "name": "stdout"
        }
      ]
    },
    {
      "cell_type": "markdown",
      "metadata": {
        "id": "GsT3iwpE96wM"
      },
      "source": [
        "#Save Model"
      ]
    },
    {
      "cell_type": "code",
      "metadata": {
        "colab": {
          "base_uri": "https://localhost:8080/"
        },
        "id": "x4rnhmBY9E8w",
        "outputId": "fb5499b5-c1db-435a-82df-80f6ebbf7f31"
      },
      "source": [
        "import joblib\n",
        " \n",
        "filename = 'random_model.sav'\n",
        " \n",
        "joblib.dump(random, filename)"
      ],
      "execution_count": null,
      "outputs": [
        {
          "output_type": "execute_result",
          "data": {
            "text/plain": [
              "['random_model.sav']"
            ]
          },
          "metadata": {
            "tags": []
          },
          "execution_count": 45
        }
      ]
    },
    {
      "cell_type": "code",
      "metadata": {
        "id": "I-xQLasm9htE"
      },
      "source": [
        "model = joblib.load('random_model.sav')"
      ],
      "execution_count": null,
      "outputs": []
    },
    {
      "cell_type": "code",
      "metadata": {
        "colab": {
          "base_uri": "https://localhost:8080/"
        },
        "id": "pV3EuWjG-c4P",
        "outputId": "200f0aa4-8961-4ad1-e7ca-48998e378d7c"
      },
      "source": [
        "model.score(X_test, y_test)"
      ],
      "execution_count": null,
      "outputs": [
        {
          "output_type": "execute_result",
          "data": {
            "text/plain": [
              "0.8689679114797011"
            ]
          },
          "metadata": {
            "tags": []
          },
          "execution_count": 49
        }
      ]
    },
    {
      "cell_type": "code",
      "metadata": {
        "id": "sK80UT2LvG3V"
      },
      "source": [
        ""
      ],
      "execution_count": null,
      "outputs": []
    }
  ]
}