{
  "nbformat": 4,
  "nbformat_minor": 0,
  "metadata": {
    "colab": {
      "name": "preprocessing-used-cars.ipynb",
      "provenance": [],
      "collapsed_sections": [],
      "include_colab_link": true
    },
    "kernelspec": {
      "display_name": "Python 3",
      "language": "python",
      "name": "python3"
    },
    "language_info": {
      "codemirror_mode": {
        "name": "ipython",
        "version": 3
      },
      "file_extension": ".py",
      "mimetype": "text/x-python",
      "name": "python",
      "nbconvert_exporter": "python",
      "pygments_lexer": "ipython3",
      "version": "3.7.6"
    }
  },
  "cells": [
    {
      "cell_type": "markdown",
      "metadata": {
        "id": "view-in-github",
        "colab_type": "text"
      },
      "source": [
        "<a href=\"https://colab.research.google.com/github/olufunmiruth/g05-used-cars/blob/master/preprocessing_used_cars.ipynb\" target=\"_parent\"><img src=\"https://colab.research.google.com/assets/colab-badge.svg\" alt=\"Open In Colab\"/></a>"
      ]
    },
    {
      "cell_type": "code",
      "metadata": {
        "colab": {
          "base_uri": "https://localhost:8080/"
        },
        "id": "1Cb6gzMof23C",
        "outputId": "947190ee-a87c-40e6-f77e-637c54d79892"
      },
      "source": [
        "!pip install kaggle"
      ],
      "execution_count": null,
      "outputs": [
        {
          "output_type": "stream",
          "text": [
            "Requirement already satisfied: kaggle in /usr/local/lib/python3.6/dist-packages (1.5.10)\n",
            "Requirement already satisfied: tqdm in /usr/local/lib/python3.6/dist-packages (from kaggle) (4.41.1)\n",
            "Requirement already satisfied: certifi in /usr/local/lib/python3.6/dist-packages (from kaggle) (2020.12.5)\n",
            "Requirement already satisfied: six>=1.10 in /usr/local/lib/python3.6/dist-packages (from kaggle) (1.15.0)\n",
            "Requirement already satisfied: requests in /usr/local/lib/python3.6/dist-packages (from kaggle) (2.23.0)\n",
            "Requirement already satisfied: urllib3 in /usr/local/lib/python3.6/dist-packages (from kaggle) (1.24.3)\n",
            "Requirement already satisfied: python-slugify in /usr/local/lib/python3.6/dist-packages (from kaggle) (4.0.1)\n",
            "Requirement already satisfied: python-dateutil in /usr/local/lib/python3.6/dist-packages (from kaggle) (2.8.1)\n",
            "Requirement already satisfied: chardet<4,>=3.0.2 in /usr/local/lib/python3.6/dist-packages (from requests->kaggle) (3.0.4)\n",
            "Requirement already satisfied: idna<3,>=2.5 in /usr/local/lib/python3.6/dist-packages (from requests->kaggle) (2.10)\n",
            "Requirement already satisfied: text-unidecode>=1.3 in /usr/local/lib/python3.6/dist-packages (from python-slugify->kaggle) (1.3)\n"
          ],
          "name": "stdout"
        }
      ]
    },
    {
      "cell_type": "code",
      "metadata": {
        "colab": {
          "base_uri": "https://localhost:8080/"
        },
        "id": "DyopjmGIf2vZ",
        "outputId": "4a64854c-8e2f-407e-f50c-50acdeba7094"
      },
      "source": [
        "import os\r\n",
        "os.environ['KAGGLE_USERNAME'] = \"countessolufunmi\" \r\n",
        "os.environ['KAGGLE_KEY'] = \"da7d7c0b6f0bc05afa5cf56aa66fcb26\" \r\n",
        "!kaggle datasets download -d austinreese/craigslist-carstrucks-data "
      ],
      "execution_count": null,
      "outputs": [
        {
          "output_type": "stream",
          "text": [
            "craigslist-carstrucks-data.zip: Skipping, found more recently modified local copy (use --force to force download)\n"
          ],
          "name": "stdout"
        }
      ]
    },
    {
      "cell_type": "code",
      "metadata": {
        "colab": {
          "base_uri": "https://localhost:8080/"
        },
        "id": "05-59Tfcf2ke",
        "outputId": "15afcad4-a4dc-4794-8ce5-4bf7723f204e"
      },
      "source": [
        "!unzip /content/craigslist-carstrucks-data.zip"
      ],
      "execution_count": null,
      "outputs": [
        {
          "output_type": "stream",
          "text": [
            "Archive:  /content/craigslist-carstrucks-data.zip\n",
            "replace vehicles.csv? [y]es, [n]o, [A]ll, [N]one, [r]ename: y\n",
            "  inflating: vehicles.csv            \n"
          ],
          "name": "stdout"
        }
      ]
    },
    {
      "cell_type": "code",
      "metadata": {
        "colab": {
          "base_uri": "https://localhost:8080/"
        },
        "id": "Mq_Uvahwf2fm",
        "outputId": "a60992b3-e671-4312-d847-6815067c2e85"
      },
      "source": [
        "!pip install catboost"
      ],
      "execution_count": null,
      "outputs": [
        {
          "output_type": "stream",
          "text": [
            "Requirement already satisfied: catboost in /usr/local/lib/python3.6/dist-packages (0.24.3)\n",
            "Requirement already satisfied: six in /usr/local/lib/python3.6/dist-packages (from catboost) (1.15.0)\n",
            "Requirement already satisfied: numpy>=1.16.0 in /usr/local/lib/python3.6/dist-packages (from catboost) (1.18.5)\n",
            "Requirement already satisfied: pandas>=0.24.0 in /usr/local/lib/python3.6/dist-packages (from catboost) (1.1.5)\n",
            "Requirement already satisfied: graphviz in /usr/local/lib/python3.6/dist-packages (from catboost) (0.10.1)\n",
            "Requirement already satisfied: plotly in /usr/local/lib/python3.6/dist-packages (from catboost) (4.4.1)\n",
            "Requirement already satisfied: scipy in /usr/local/lib/python3.6/dist-packages (from catboost) (1.4.1)\n",
            "Requirement already satisfied: matplotlib in /usr/local/lib/python3.6/dist-packages (from catboost) (3.2.2)\n",
            "Requirement already satisfied: pytz>=2017.2 in /usr/local/lib/python3.6/dist-packages (from pandas>=0.24.0->catboost) (2018.9)\n",
            "Requirement already satisfied: python-dateutil>=2.7.3 in /usr/local/lib/python3.6/dist-packages (from pandas>=0.24.0->catboost) (2.8.1)\n",
            "Requirement already satisfied: retrying>=1.3.3 in /usr/local/lib/python3.6/dist-packages (from plotly->catboost) (1.3.3)\n",
            "Requirement already satisfied: kiwisolver>=1.0.1 in /usr/local/lib/python3.6/dist-packages (from matplotlib->catboost) (1.3.1)\n",
            "Requirement already satisfied: cycler>=0.10 in /usr/local/lib/python3.6/dist-packages (from matplotlib->catboost) (0.10.0)\n",
            "Requirement already satisfied: pyparsing!=2.0.4,!=2.1.2,!=2.1.6,>=2.0.1 in /usr/local/lib/python3.6/dist-packages (from matplotlib->catboost) (2.4.7)\n"
          ],
          "name": "stdout"
        }
      ]
    },
    {
      "cell_type": "code",
      "metadata": {
        "colab": {
          "base_uri": "https://localhost:8080/"
        },
        "id": "0McrDzgcf2S5",
        "outputId": "f1638a2f-93ed-4921-e8f8-6adcd9e7ebda"
      },
      "source": [
        "pip install --upgrade category_encoders"
      ],
      "execution_count": null,
      "outputs": [
        {
          "output_type": "stream",
          "text": [
            "Requirement already up-to-date: category_encoders in /usr/local/lib/python3.6/dist-packages (2.2.2)\n",
            "Requirement already satisfied, skipping upgrade: patsy>=0.5.1 in /usr/local/lib/python3.6/dist-packages (from category_encoders) (0.5.1)\n",
            "Requirement already satisfied, skipping upgrade: pandas>=0.21.1 in /usr/local/lib/python3.6/dist-packages (from category_encoders) (1.1.5)\n",
            "Requirement already satisfied, skipping upgrade: numpy>=1.14.0 in /usr/local/lib/python3.6/dist-packages (from category_encoders) (1.18.5)\n",
            "Requirement already satisfied, skipping upgrade: scipy>=1.0.0 in /usr/local/lib/python3.6/dist-packages (from category_encoders) (1.4.1)\n",
            "Requirement already satisfied, skipping upgrade: statsmodels>=0.9.0 in /usr/local/lib/python3.6/dist-packages (from category_encoders) (0.10.2)\n",
            "Requirement already satisfied, skipping upgrade: scikit-learn>=0.20.0 in /usr/local/lib/python3.6/dist-packages (from category_encoders) (0.22.2.post1)\n",
            "Requirement already satisfied, skipping upgrade: six in /usr/local/lib/python3.6/dist-packages (from patsy>=0.5.1->category_encoders) (1.15.0)\n",
            "Requirement already satisfied, skipping upgrade: python-dateutil>=2.7.3 in /usr/local/lib/python3.6/dist-packages (from pandas>=0.21.1->category_encoders) (2.8.1)\n",
            "Requirement already satisfied, skipping upgrade: pytz>=2017.2 in /usr/local/lib/python3.6/dist-packages (from pandas>=0.21.1->category_encoders) (2018.9)\n",
            "Requirement already satisfied, skipping upgrade: joblib>=0.11 in /usr/local/lib/python3.6/dist-packages (from scikit-learn>=0.20.0->category_encoders) (0.17.0)\n"
          ],
          "name": "stdout"
        }
      ]
    },
    {
      "cell_type": "code",
      "metadata": {
        "id": "A9eyKmqnfwi1"
      },
      "source": [
        "# Loading necessary libraries\n",
        "import pandas as pd\n",
        "pd.set_option('max_columns', None)\n",
        "pd.set_option('max_rows', None)\n",
        "import numpy as np\n",
        "import matplotlib.pyplot as plt\n",
        "import seaborn as sns\n",
        "\n",
        "import catboost\n",
        "import xgboost\n",
        "from sklearn.metrics import mean_squared_error, r2_score\n",
        "from category_encoders.cat_boost import CatBoostEncoder\n",
        "\n",
        "from sklearn.ensemble import RandomForestRegressor\n",
        "\n",
        "import warnings\n",
        "warnings.filterwarnings('ignore')\n",
        "import datetime"
      ],
      "execution_count": null,
      "outputs": []
    },
    {
      "cell_type": "code",
      "metadata": {
        "colab": {
          "base_uri": "https://localhost:8080/",
          "height": 337
        },
        "id": "PTb0KbaBfwjA",
        "outputId": "da214eb4-3a0e-494f-8b31-47a721c54c9f"
      },
      "source": [
        "# load dataset\n",
        "df = pd.read_csv('/content/vehicles.csv')\n",
        "df.head(3)"
      ],
      "execution_count": null,
      "outputs": [
        {
          "output_type": "execute_result",
          "data": {
            "text/html": [
              "<div>\n",
              "<style scoped>\n",
              "    .dataframe tbody tr th:only-of-type {\n",
              "        vertical-align: middle;\n",
              "    }\n",
              "\n",
              "    .dataframe tbody tr th {\n",
              "        vertical-align: top;\n",
              "    }\n",
              "\n",
              "    .dataframe thead th {\n",
              "        text-align: right;\n",
              "    }\n",
              "</style>\n",
              "<table border=\"1\" class=\"dataframe\">\n",
              "  <thead>\n",
              "    <tr style=\"text-align: right;\">\n",
              "      <th></th>\n",
              "      <th>Unnamed: 0</th>\n",
              "      <th>id</th>\n",
              "      <th>url</th>\n",
              "      <th>region</th>\n",
              "      <th>region_url</th>\n",
              "      <th>price</th>\n",
              "      <th>year</th>\n",
              "      <th>manufacturer</th>\n",
              "      <th>model</th>\n",
              "      <th>condition</th>\n",
              "      <th>cylinders</th>\n",
              "      <th>fuel</th>\n",
              "      <th>odometer</th>\n",
              "      <th>title_status</th>\n",
              "      <th>transmission</th>\n",
              "      <th>VIN</th>\n",
              "      <th>drive</th>\n",
              "      <th>size</th>\n",
              "      <th>type</th>\n",
              "      <th>paint_color</th>\n",
              "      <th>image_url</th>\n",
              "      <th>description</th>\n",
              "      <th>state</th>\n",
              "      <th>lat</th>\n",
              "      <th>long</th>\n",
              "      <th>posting_date</th>\n",
              "    </tr>\n",
              "  </thead>\n",
              "  <tbody>\n",
              "    <tr>\n",
              "      <th>0</th>\n",
              "      <td>0</td>\n",
              "      <td>7240372487</td>\n",
              "      <td>https://auburn.craigslist.org/ctd/d/auburn-uni...</td>\n",
              "      <td>auburn</td>\n",
              "      <td>https://auburn.craigslist.org</td>\n",
              "      <td>35990</td>\n",
              "      <td>2010.0</td>\n",
              "      <td>chevrolet</td>\n",
              "      <td>corvette grand sport</td>\n",
              "      <td>good</td>\n",
              "      <td>8 cylinders</td>\n",
              "      <td>gas</td>\n",
              "      <td>32742.0</td>\n",
              "      <td>clean</td>\n",
              "      <td>other</td>\n",
              "      <td>1G1YU3DW1A5106980</td>\n",
              "      <td>rwd</td>\n",
              "      <td>NaN</td>\n",
              "      <td>other</td>\n",
              "      <td>NaN</td>\n",
              "      <td>https://images.craigslist.org/00N0N_ipkbHVZYf4...</td>\n",
              "      <td>Carvana is the safer way to buy a car During t...</td>\n",
              "      <td>al</td>\n",
              "      <td>32.590000</td>\n",
              "      <td>-85.480000</td>\n",
              "      <td>2020-12-02T08:11:30-0600</td>\n",
              "    </tr>\n",
              "    <tr>\n",
              "      <th>1</th>\n",
              "      <td>1</td>\n",
              "      <td>7240309422</td>\n",
              "      <td>https://auburn.craigslist.org/cto/d/auburn-201...</td>\n",
              "      <td>auburn</td>\n",
              "      <td>https://auburn.craigslist.org</td>\n",
              "      <td>7500</td>\n",
              "      <td>2014.0</td>\n",
              "      <td>hyundai</td>\n",
              "      <td>sonata</td>\n",
              "      <td>excellent</td>\n",
              "      <td>4 cylinders</td>\n",
              "      <td>gas</td>\n",
              "      <td>93600.0</td>\n",
              "      <td>clean</td>\n",
              "      <td>automatic</td>\n",
              "      <td>5NPEC4AB0EH813529</td>\n",
              "      <td>fwd</td>\n",
              "      <td>NaN</td>\n",
              "      <td>sedan</td>\n",
              "      <td>NaN</td>\n",
              "      <td>https://images.craigslist.org/00s0s_gBHYmJ5o7y...</td>\n",
              "      <td>I'll move to another city and try to sell my c...</td>\n",
              "      <td>al</td>\n",
              "      <td>32.547500</td>\n",
              "      <td>-85.468200</td>\n",
              "      <td>2020-12-02T02:11:50-0600</td>\n",
              "    </tr>\n",
              "    <tr>\n",
              "      <th>2</th>\n",
              "      <td>2</td>\n",
              "      <td>7240224296</td>\n",
              "      <td>https://auburn.craigslist.org/cto/d/auburn-200...</td>\n",
              "      <td>auburn</td>\n",
              "      <td>https://auburn.craigslist.org</td>\n",
              "      <td>4900</td>\n",
              "      <td>2006.0</td>\n",
              "      <td>bmw</td>\n",
              "      <td>x3 3.0i</td>\n",
              "      <td>good</td>\n",
              "      <td>6 cylinders</td>\n",
              "      <td>gas</td>\n",
              "      <td>87046.0</td>\n",
              "      <td>clean</td>\n",
              "      <td>automatic</td>\n",
              "      <td>NaN</td>\n",
              "      <td>NaN</td>\n",
              "      <td>NaN</td>\n",
              "      <td>SUV</td>\n",
              "      <td>blue</td>\n",
              "      <td>https://images.craigslist.org/00B0B_5zgEGWPOrt...</td>\n",
              "      <td>Clean 2006 BMW X3 3.0I.  Beautiful and rare Bl...</td>\n",
              "      <td>al</td>\n",
              "      <td>32.616807</td>\n",
              "      <td>-85.464149</td>\n",
              "      <td>2020-12-01T19:50:41-0600</td>\n",
              "    </tr>\n",
              "  </tbody>\n",
              "</table>\n",
              "</div>"
            ],
            "text/plain": [
              "   Unnamed: 0          id                                                url  \\\n",
              "0           0  7240372487  https://auburn.craigslist.org/ctd/d/auburn-uni...   \n",
              "1           1  7240309422  https://auburn.craigslist.org/cto/d/auburn-201...   \n",
              "2           2  7240224296  https://auburn.craigslist.org/cto/d/auburn-200...   \n",
              "\n",
              "   region                     region_url  price    year manufacturer  \\\n",
              "0  auburn  https://auburn.craigslist.org  35990  2010.0    chevrolet   \n",
              "1  auburn  https://auburn.craigslist.org   7500  2014.0      hyundai   \n",
              "2  auburn  https://auburn.craigslist.org   4900  2006.0          bmw   \n",
              "\n",
              "                  model  condition    cylinders fuel  odometer title_status  \\\n",
              "0  corvette grand sport       good  8 cylinders  gas   32742.0        clean   \n",
              "1                sonata  excellent  4 cylinders  gas   93600.0        clean   \n",
              "2               x3 3.0i       good  6 cylinders  gas   87046.0        clean   \n",
              "\n",
              "  transmission                VIN drive size   type paint_color  \\\n",
              "0        other  1G1YU3DW1A5106980   rwd  NaN  other         NaN   \n",
              "1    automatic  5NPEC4AB0EH813529   fwd  NaN  sedan         NaN   \n",
              "2    automatic                NaN   NaN  NaN    SUV        blue   \n",
              "\n",
              "                                           image_url  \\\n",
              "0  https://images.craigslist.org/00N0N_ipkbHVZYf4...   \n",
              "1  https://images.craigslist.org/00s0s_gBHYmJ5o7y...   \n",
              "2  https://images.craigslist.org/00B0B_5zgEGWPOrt...   \n",
              "\n",
              "                                         description state        lat  \\\n",
              "0  Carvana is the safer way to buy a car During t...    al  32.590000   \n",
              "1  I'll move to another city and try to sell my c...    al  32.547500   \n",
              "2  Clean 2006 BMW X3 3.0I.  Beautiful and rare Bl...    al  32.616807   \n",
              "\n",
              "        long              posting_date  \n",
              "0 -85.480000  2020-12-02T08:11:30-0600  \n",
              "1 -85.468200  2020-12-02T02:11:50-0600  \n",
              "2 -85.464149  2020-12-01T19:50:41-0600  "
            ]
          },
          "metadata": {
            "tags": []
          },
          "execution_count": 27
        }
      ]
    },
    {
      "cell_type": "code",
      "metadata": {
        "colab": {
          "base_uri": "https://localhost:8080/"
        },
        "id": "qLpdnY8WfwjE",
        "outputId": "50f4bee2-2a1f-4570-da9f-aa061ebef53a"
      },
      "source": [
        "#check data information\n",
        "df.info()"
      ],
      "execution_count": null,
      "outputs": [
        {
          "output_type": "stream",
          "text": [
            "<class 'pandas.core.frame.DataFrame'>\n",
            "RangeIndex: 458213 entries, 0 to 458212\n",
            "Data columns (total 26 columns):\n",
            " #   Column        Non-Null Count   Dtype  \n",
            "---  ------        --------------   -----  \n",
            " 0   Unnamed: 0    458213 non-null  int64  \n",
            " 1   id            458213 non-null  int64  \n",
            " 2   url           458213 non-null  object \n",
            " 3   region        458213 non-null  object \n",
            " 4   region_url    458213 non-null  object \n",
            " 5   price         458213 non-null  int64  \n",
            " 6   year          457163 non-null  float64\n",
            " 7   manufacturer  439993 non-null  object \n",
            " 8   model         453367 non-null  object \n",
            " 9   condition     265273 non-null  object \n",
            " 10  cylinders     287073 non-null  object \n",
            " 11  fuel          454976 non-null  object \n",
            " 12  odometer      402910 non-null  float64\n",
            " 13  title_status  455636 non-null  object \n",
            " 14  transmission  455771 non-null  object \n",
            " 15  VIN           270664 non-null  object \n",
            " 16  drive         324025 non-null  object \n",
            " 17  size          136865 non-null  object \n",
            " 18  type          345475 non-null  object \n",
            " 19  paint_color   317370 non-null  object \n",
            " 20  image_url     458185 non-null  object \n",
            " 21  description   458143 non-null  object \n",
            " 22  state         458213 non-null  object \n",
            " 23  lat           450765 non-null  float64\n",
            " 24  long          450765 non-null  float64\n",
            " 25  posting_date  458185 non-null  object \n",
            "dtypes: float64(4), int64(3), object(19)\n",
            "memory usage: 90.9+ MB\n"
          ],
          "name": "stdout"
        }
      ]
    },
    {
      "cell_type": "code",
      "metadata": {
        "colab": {
          "base_uri": "https://localhost:8080/"
        },
        "id": "Hp8VlASpfwjK",
        "outputId": "b0396b04-da6f-4eb4-908e-99c9d1515286"
      },
      "source": [
        "# free up memory space\n",
        "import gc\n",
        "gc.collect()"
      ],
      "execution_count": null,
      "outputs": [
        {
          "output_type": "execute_result",
          "data": {
            "text/plain": [
              "0"
            ]
          },
          "metadata": {
            "tags": []
          },
          "execution_count": 29
        }
      ]
    },
    {
      "cell_type": "code",
      "metadata": {
        "id": "ehkQbOQQfwjN"
      },
      "source": [
        "# add new column 'car_age'\n",
        "current_time = datetime.datetime.now()\n",
        "df['car_age'] = current_time.year - df['year']"
      ],
      "execution_count": null,
      "outputs": []
    },
    {
      "cell_type": "code",
      "metadata": {
        "id": "iZWMBu4JfwjP"
      },
      "source": [
        "\n",
        "# Change the datatype of the year\n",
        "df['year'] = df['year'].astype('str')"
      ],
      "execution_count": null,
      "outputs": []
    },
    {
      "cell_type": "code",
      "metadata": {
        "colab": {
          "base_uri": "https://localhost:8080/",
          "height": 236
        },
        "id": "GekRxBQFfwjS",
        "outputId": "e165d629-336e-4593-d95d-f474cc9ce5f5"
      },
      "source": [
        "# Split the dataset based on data type for easier preprocessing\n",
        "num = df.select_dtypes(include=['int64', 'float64'])\n",
        "cat = df.select_dtypes(include=['object'])\n",
        "cat.head(2)"
      ],
      "execution_count": null,
      "outputs": [
        {
          "output_type": "execute_result",
          "data": {
            "text/html": [
              "<div>\n",
              "<style scoped>\n",
              "    .dataframe tbody tr th:only-of-type {\n",
              "        vertical-align: middle;\n",
              "    }\n",
              "\n",
              "    .dataframe tbody tr th {\n",
              "        vertical-align: top;\n",
              "    }\n",
              "\n",
              "    .dataframe thead th {\n",
              "        text-align: right;\n",
              "    }\n",
              "</style>\n",
              "<table border=\"1\" class=\"dataframe\">\n",
              "  <thead>\n",
              "    <tr style=\"text-align: right;\">\n",
              "      <th></th>\n",
              "      <th>url</th>\n",
              "      <th>region</th>\n",
              "      <th>region_url</th>\n",
              "      <th>year</th>\n",
              "      <th>manufacturer</th>\n",
              "      <th>model</th>\n",
              "      <th>condition</th>\n",
              "      <th>cylinders</th>\n",
              "      <th>fuel</th>\n",
              "      <th>title_status</th>\n",
              "      <th>transmission</th>\n",
              "      <th>VIN</th>\n",
              "      <th>drive</th>\n",
              "      <th>size</th>\n",
              "      <th>type</th>\n",
              "      <th>paint_color</th>\n",
              "      <th>image_url</th>\n",
              "      <th>description</th>\n",
              "      <th>state</th>\n",
              "      <th>posting_date</th>\n",
              "    </tr>\n",
              "  </thead>\n",
              "  <tbody>\n",
              "    <tr>\n",
              "      <th>0</th>\n",
              "      <td>https://auburn.craigslist.org/ctd/d/auburn-uni...</td>\n",
              "      <td>auburn</td>\n",
              "      <td>https://auburn.craigslist.org</td>\n",
              "      <td>2010.0</td>\n",
              "      <td>chevrolet</td>\n",
              "      <td>corvette grand sport</td>\n",
              "      <td>good</td>\n",
              "      <td>8 cylinders</td>\n",
              "      <td>gas</td>\n",
              "      <td>clean</td>\n",
              "      <td>other</td>\n",
              "      <td>1G1YU3DW1A5106980</td>\n",
              "      <td>rwd</td>\n",
              "      <td>NaN</td>\n",
              "      <td>other</td>\n",
              "      <td>NaN</td>\n",
              "      <td>https://images.craigslist.org/00N0N_ipkbHVZYf4...</td>\n",
              "      <td>Carvana is the safer way to buy a car During t...</td>\n",
              "      <td>al</td>\n",
              "      <td>2020-12-02T08:11:30-0600</td>\n",
              "    </tr>\n",
              "    <tr>\n",
              "      <th>1</th>\n",
              "      <td>https://auburn.craigslist.org/cto/d/auburn-201...</td>\n",
              "      <td>auburn</td>\n",
              "      <td>https://auburn.craigslist.org</td>\n",
              "      <td>2014.0</td>\n",
              "      <td>hyundai</td>\n",
              "      <td>sonata</td>\n",
              "      <td>excellent</td>\n",
              "      <td>4 cylinders</td>\n",
              "      <td>gas</td>\n",
              "      <td>clean</td>\n",
              "      <td>automatic</td>\n",
              "      <td>5NPEC4AB0EH813529</td>\n",
              "      <td>fwd</td>\n",
              "      <td>NaN</td>\n",
              "      <td>sedan</td>\n",
              "      <td>NaN</td>\n",
              "      <td>https://images.craigslist.org/00s0s_gBHYmJ5o7y...</td>\n",
              "      <td>I'll move to another city and try to sell my c...</td>\n",
              "      <td>al</td>\n",
              "      <td>2020-12-02T02:11:50-0600</td>\n",
              "    </tr>\n",
              "  </tbody>\n",
              "</table>\n",
              "</div>"
            ],
            "text/plain": [
              "                                                 url  region  \\\n",
              "0  https://auburn.craigslist.org/ctd/d/auburn-uni...  auburn   \n",
              "1  https://auburn.craigslist.org/cto/d/auburn-201...  auburn   \n",
              "\n",
              "                      region_url    year manufacturer                 model  \\\n",
              "0  https://auburn.craigslist.org  2010.0    chevrolet  corvette grand sport   \n",
              "1  https://auburn.craigslist.org  2014.0      hyundai                sonata   \n",
              "\n",
              "   condition    cylinders fuel title_status transmission                VIN  \\\n",
              "0       good  8 cylinders  gas        clean        other  1G1YU3DW1A5106980   \n",
              "1  excellent  4 cylinders  gas        clean    automatic  5NPEC4AB0EH813529   \n",
              "\n",
              "  drive size   type paint_color  \\\n",
              "0   rwd  NaN  other         NaN   \n",
              "1   fwd  NaN  sedan         NaN   \n",
              "\n",
              "                                           image_url  \\\n",
              "0  https://images.craigslist.org/00N0N_ipkbHVZYf4...   \n",
              "1  https://images.craigslist.org/00s0s_gBHYmJ5o7y...   \n",
              "\n",
              "                                         description state  \\\n",
              "0  Carvana is the safer way to buy a car During t...    al   \n",
              "1  I'll move to another city and try to sell my c...    al   \n",
              "\n",
              "               posting_date  \n",
              "0  2020-12-02T08:11:30-0600  \n",
              "1  2020-12-02T02:11:50-0600  "
            ]
          },
          "metadata": {
            "tags": []
          },
          "execution_count": 32
        }
      ]
    },
    {
      "cell_type": "code",
      "metadata": {
        "colab": {
          "base_uri": "https://localhost:8080/"
        },
        "id": "sMpsKBvmfwjT",
        "outputId": "dcc431ee-2759-4135-ab89-4ee7056f6ba4"
      },
      "source": [
        "\n",
        "# categorical features info\n",
        "cat.info()"
      ],
      "execution_count": null,
      "outputs": [
        {
          "output_type": "stream",
          "text": [
            "<class 'pandas.core.frame.DataFrame'>\n",
            "RangeIndex: 458213 entries, 0 to 458212\n",
            "Data columns (total 20 columns):\n",
            " #   Column        Non-Null Count   Dtype \n",
            "---  ------        --------------   ----- \n",
            " 0   url           458213 non-null  object\n",
            " 1   region        458213 non-null  object\n",
            " 2   region_url    458213 non-null  object\n",
            " 3   year          458213 non-null  object\n",
            " 4   manufacturer  439993 non-null  object\n",
            " 5   model         453367 non-null  object\n",
            " 6   condition     265273 non-null  object\n",
            " 7   cylinders     287073 non-null  object\n",
            " 8   fuel          454976 non-null  object\n",
            " 9   title_status  455636 non-null  object\n",
            " 10  transmission  455771 non-null  object\n",
            " 11  VIN           270664 non-null  object\n",
            " 12  drive         324025 non-null  object\n",
            " 13  size          136865 non-null  object\n",
            " 14  type          345475 non-null  object\n",
            " 15  paint_color   317370 non-null  object\n",
            " 16  image_url     458185 non-null  object\n",
            " 17  description   458143 non-null  object\n",
            " 18  state         458213 non-null  object\n",
            " 19  posting_date  458185 non-null  object\n",
            "dtypes: object(20)\n",
            "memory usage: 69.9+ MB\n"
          ],
          "name": "stdout"
        }
      ]
    },
    {
      "cell_type": "code",
      "metadata": {
        "colab": {
          "base_uri": "https://localhost:8080/"
        },
        "id": "-moPh30GfwjV",
        "outputId": "8346cc20-9f66-4017-b203-171ca81c1855"
      },
      "source": [
        "# Check for missing values in the categorical features\n",
        "cat.isnull().sum()"
      ],
      "execution_count": null,
      "outputs": [
        {
          "output_type": "execute_result",
          "data": {
            "text/plain": [
              "url                  0\n",
              "region               0\n",
              "region_url           0\n",
              "year                 0\n",
              "manufacturer     18220\n",
              "model             4846\n",
              "condition       192940\n",
              "cylinders       171140\n",
              "fuel              3237\n",
              "title_status      2577\n",
              "transmission      2442\n",
              "VIN             187549\n",
              "drive           134188\n",
              "size            321348\n",
              "type            112738\n",
              "paint_color     140843\n",
              "image_url           28\n",
              "description         70\n",
              "state                0\n",
              "posting_date        28\n",
              "dtype: int64"
            ]
          },
          "metadata": {
            "tags": []
          },
          "execution_count": 34
        }
      ]
    },
    {
      "cell_type": "code",
      "metadata": {
        "colab": {
          "base_uri": "https://localhost:8080/"
        },
        "id": "00qgkG1-fwjX",
        "outputId": "524904ff-4a00-4e4f-809d-c6cf3b14529b"
      },
      "source": [
        "# Check for missing values within the numerical features\n",
        "num.isnull().sum()"
      ],
      "execution_count": null,
      "outputs": [
        {
          "output_type": "execute_result",
          "data": {
            "text/plain": [
              "Unnamed: 0        0\n",
              "id                0\n",
              "price             0\n",
              "odometer      55303\n",
              "lat            7448\n",
              "long           7448\n",
              "car_age        1050\n",
              "dtype: int64"
            ]
          },
          "metadata": {
            "tags": []
          },
          "execution_count": 35
        }
      ]
    },
    {
      "cell_type": "code",
      "metadata": {
        "id": "ZWKgDhi6fwjd"
      },
      "source": [
        "# Fill missing values for longitude and latitude with zero\n",
        "\n",
        "num['lat'] = num['lat'].fillna(0)\n",
        "\n",
        "num['long'] = num['long'].fillna(0)"
      ],
      "execution_count": null,
      "outputs": []
    },
    {
      "cell_type": "code",
      "metadata": {
        "id": "0DFKIvtofwjh"
      },
      "source": [
        "\n",
        "# Import and instantiate the KNNImputer\n",
        "\n",
        "from sklearn.impute import KNNImputer\n",
        "num_imp = KNNImputer()"
      ],
      "execution_count": null,
      "outputs": []
    },
    {
      "cell_type": "code",
      "metadata": {
        "colab": {
          "base_uri": "https://localhost:8080/",
          "height": 112
        },
        "id": "f4cdwPAmfwji",
        "outputId": "d1d6ec1e-0ea1-4db6-c81e-59174a18efc1"
      },
      "source": [
        "\n",
        "#check head\n",
        "num.head(2)"
      ],
      "execution_count": null,
      "outputs": [
        {
          "output_type": "execute_result",
          "data": {
            "text/html": [
              "<div>\n",
              "<style scoped>\n",
              "    .dataframe tbody tr th:only-of-type {\n",
              "        vertical-align: middle;\n",
              "    }\n",
              "\n",
              "    .dataframe tbody tr th {\n",
              "        vertical-align: top;\n",
              "    }\n",
              "\n",
              "    .dataframe thead th {\n",
              "        text-align: right;\n",
              "    }\n",
              "</style>\n",
              "<table border=\"1\" class=\"dataframe\">\n",
              "  <thead>\n",
              "    <tr style=\"text-align: right;\">\n",
              "      <th></th>\n",
              "      <th>Unnamed: 0</th>\n",
              "      <th>id</th>\n",
              "      <th>price</th>\n",
              "      <th>odometer</th>\n",
              "      <th>lat</th>\n",
              "      <th>long</th>\n",
              "      <th>car_age</th>\n",
              "    </tr>\n",
              "  </thead>\n",
              "  <tbody>\n",
              "    <tr>\n",
              "      <th>0</th>\n",
              "      <td>0</td>\n",
              "      <td>7240372487</td>\n",
              "      <td>35990</td>\n",
              "      <td>32742.0</td>\n",
              "      <td>32.5900</td>\n",
              "      <td>-85.4800</td>\n",
              "      <td>10.0</td>\n",
              "    </tr>\n",
              "    <tr>\n",
              "      <th>1</th>\n",
              "      <td>1</td>\n",
              "      <td>7240309422</td>\n",
              "      <td>7500</td>\n",
              "      <td>93600.0</td>\n",
              "      <td>32.5475</td>\n",
              "      <td>-85.4682</td>\n",
              "      <td>6.0</td>\n",
              "    </tr>\n",
              "  </tbody>\n",
              "</table>\n",
              "</div>"
            ],
            "text/plain": [
              "   Unnamed: 0          id  price  odometer      lat     long  car_age\n",
              "0           0  7240372487  35990   32742.0  32.5900 -85.4800     10.0\n",
              "1           1  7240309422   7500   93600.0  32.5475 -85.4682      6.0"
            ]
          },
          "metadata": {
            "tags": []
          },
          "execution_count": 38
        }
      ]
    },
    {
      "cell_type": "code",
      "metadata": {
        "id": "dKSDFDpbfwji"
      },
      "source": [
        "# Impute missing values for the odometer feature\n",
        "num['odometer_trans'] = num_imp.fit_transform(num[['odometer']])"
      ],
      "execution_count": null,
      "outputs": []
    },
    {
      "cell_type": "code",
      "metadata": {
        "id": "PiCY0CWZfwjj"
      },
      "source": [
        "# Impute missing values for the car_age feature\n",
        "num['car_age_trans'] = num_imp.fit_transform(num[['car_age']])"
      ],
      "execution_count": null,
      "outputs": []
    },
    {
      "cell_type": "code",
      "metadata": {
        "id": "M1ABfUxqfwjm"
      },
      "source": [
        "# Create 3 dimensional coordinates from latitude and longitude features\n",
        "\n",
        "num['point_x'] = np.cos(num['lat']) * np.cos(num['long'])\n",
        "num['point_y'] =np.cos(num['lat']) * np.sin(num['long'])\n",
        "num['point_z'] = np.sin(num['lat'])"
      ],
      "execution_count": null,
      "outputs": []
    },
    {
      "cell_type": "code",
      "metadata": {
        "colab": {
          "base_uri": "https://localhost:8080/",
          "height": 112
        },
        "id": "kVCkpGHVfwjn",
        "outputId": "3c55bd3c-a190-4aa0-dce5-85f2948adf61"
      },
      "source": [
        "#check top 2 rows\n",
        "num.head(2)"
      ],
      "execution_count": null,
      "outputs": [
        {
          "output_type": "execute_result",
          "data": {
            "text/html": [
              "<div>\n",
              "<style scoped>\n",
              "    .dataframe tbody tr th:only-of-type {\n",
              "        vertical-align: middle;\n",
              "    }\n",
              "\n",
              "    .dataframe tbody tr th {\n",
              "        vertical-align: top;\n",
              "    }\n",
              "\n",
              "    .dataframe thead th {\n",
              "        text-align: right;\n",
              "    }\n",
              "</style>\n",
              "<table border=\"1\" class=\"dataframe\">\n",
              "  <thead>\n",
              "    <tr style=\"text-align: right;\">\n",
              "      <th></th>\n",
              "      <th>Unnamed: 0</th>\n",
              "      <th>id</th>\n",
              "      <th>price</th>\n",
              "      <th>odometer</th>\n",
              "      <th>lat</th>\n",
              "      <th>long</th>\n",
              "      <th>car_age</th>\n",
              "      <th>odometer_trans</th>\n",
              "      <th>car_age_trans</th>\n",
              "      <th>point_x</th>\n",
              "      <th>point_y</th>\n",
              "      <th>point_z</th>\n",
              "    </tr>\n",
              "  </thead>\n",
              "  <tbody>\n",
              "    <tr>\n",
              "      <th>0</th>\n",
              "      <td>0</td>\n",
              "      <td>7240372487</td>\n",
              "      <td>35990</td>\n",
              "      <td>32742.0</td>\n",
              "      <td>32.5900</td>\n",
              "      <td>-85.4800</td>\n",
              "      <td>10.0</td>\n",
              "      <td>32742.0</td>\n",
              "      <td>10.0</td>\n",
              "      <td>-0.305961</td>\n",
              "      <td>0.235990</td>\n",
              "      <td>0.922332</td>\n",
              "    </tr>\n",
              "    <tr>\n",
              "      <th>1</th>\n",
              "      <td>1</td>\n",
              "      <td>7240309422</td>\n",
              "      <td>7500</td>\n",
              "      <td>93600.0</td>\n",
              "      <td>32.5475</td>\n",
              "      <td>-85.4682</td>\n",
              "      <td>6.0</td>\n",
              "      <td>93600.0</td>\n",
              "      <td>6.0</td>\n",
              "      <td>-0.339755</td>\n",
              "      <td>0.255719</td>\n",
              "      <td>0.905082</td>\n",
              "    </tr>\n",
              "  </tbody>\n",
              "</table>\n",
              "</div>"
            ],
            "text/plain": [
              "   Unnamed: 0          id  price  odometer      lat     long  car_age  \\\n",
              "0           0  7240372487  35990   32742.0  32.5900 -85.4800     10.0   \n",
              "1           1  7240309422   7500   93600.0  32.5475 -85.4682      6.0   \n",
              "\n",
              "   odometer_trans  car_age_trans   point_x   point_y   point_z  \n",
              "0         32742.0           10.0 -0.305961  0.235990  0.922332  \n",
              "1         93600.0            6.0 -0.339755  0.255719  0.905082  "
            ]
          },
          "metadata": {
            "tags": []
          },
          "execution_count": 42
        }
      ]
    },
    {
      "cell_type": "code",
      "metadata": {
        "id": "eNgdxWhUfwjo"
      },
      "source": [
        "# Create a list of the original numerical features\n",
        "num_col = ['odometer', 'lat', 'long']"
      ],
      "execution_count": null,
      "outputs": []
    },
    {
      "cell_type": "code",
      "metadata": {
        "id": "rNkZy739fwjo"
      },
      "source": [
        "# create a function to impute the missing values for categorical features\n",
        "\n",
        "def impute_nan_add_vairable(DataFrame,ColName):\n",
        "    #1. add new column and replace if category is null then 1 else 0\n",
        "    DataFrame[ColName+\"_Imputed\"] =   np.where(DataFrame[ColName].isnull(),1,0)\n",
        "    \n",
        "    # 2. Take most occured category in that variable (.mode())\n",
        "    \n",
        "    Mode_Category = DataFrame[ColName].mode()[0]\n",
        "    \n",
        "    # 2.1 Replace NAN values with most occured category in actual vairable\n",
        "    \n",
        "    DataFrame[ColName].fillna(Mode_Category,inplace=True)\n"
      ],
      "execution_count": null,
      "outputs": []
    },
    {
      "cell_type": "code",
      "metadata": {
        "colab": {
          "base_uri": "https://localhost:8080/"
        },
        "id": "XG4216FFfwjs",
        "outputId": "3ada8f3c-631b-4c22-8732-a0ffe3f6c627"
      },
      "source": [
        "#check columns\n",
        "cat.columns"
      ],
      "execution_count": null,
      "outputs": [
        {
          "output_type": "execute_result",
          "data": {
            "text/plain": [
              "Index(['url', 'region', 'region_url', 'year', 'manufacturer', 'model',\n",
              "       'condition', 'cylinders', 'fuel', 'title_status', 'transmission', 'VIN',\n",
              "       'drive', 'size', 'type', 'paint_color', 'image_url', 'description',\n",
              "       'state', 'posting_date'],\n",
              "      dtype='object')"
            ]
          },
          "metadata": {
            "tags": []
          },
          "execution_count": 45
        }
      ]
    },
    {
      "cell_type": "code",
      "metadata": {
        "colab": {
          "base_uri": "https://localhost:8080/"
        },
        "id": "PncH0XdWfwju",
        "outputId": "b848ff2b-38eb-4e03-cff9-1615a7405157"
      },
      "source": [
        "(cat['size'].isnull().sum()/cat.shape[0]) * 100"
      ],
      "execution_count": null,
      "outputs": [
        {
          "output_type": "execute_result",
          "data": {
            "text/plain": [
              "70.13070340649435"
            ]
          },
          "metadata": {
            "tags": []
          },
          "execution_count": 46
        }
      ]
    },
    {
      "cell_type": "code",
      "metadata": {
        "colab": {
          "base_uri": "https://localhost:8080/"
        },
        "id": "vQIDL8oBfwjw",
        "outputId": "43dffb2e-c123-4012-a34b-8a81fae800d1"
      },
      "source": [
        "#check for missing values in the region column\n",
        "cat.region.isnull().sum()"
      ],
      "execution_count": null,
      "outputs": [
        {
          "output_type": "execute_result",
          "data": {
            "text/plain": [
              "0"
            ]
          },
          "metadata": {
            "tags": []
          },
          "execution_count": 47
        }
      ]
    },
    {
      "cell_type": "code",
      "metadata": {
        "id": "WrGLEuiPfwjx"
      },
      "source": [
        "# Drop size column because of the volume of missing values\n",
        "#Drop posting_date column due to irrelevance\n",
        "\n",
        "cat = cat.drop(['size', 'posting_date'], axis=1)"
      ],
      "execution_count": null,
      "outputs": []
    },
    {
      "cell_type": "code",
      "metadata": {
        "id": "kcZ5WN9ffwjy"
      },
      "source": [
        "# Call function to impute NAN values and add new importance feature\n",
        "colls = ['year', 'manufacturer', 'model', 'condition', 'cylinders','fuel',\n",
        "         'title_status', 'transmission', 'drive', 'type', 'paint_color']\n",
        "\n",
        "for Columns in colls:\n",
        "    impute_nan_add_vairable(cat,Columns)"
      ],
      "execution_count": null,
      "outputs": []
    },
    {
      "cell_type": "code",
      "metadata": {
        "colab": {
          "base_uri": "https://localhost:8080/"
        },
        "id": "S33fTJG3fwjy",
        "outputId": "d32ce29b-902c-4ea8-a1e5-c2b2354fa8e6"
      },
      "source": [
        "gc.collect()"
      ],
      "execution_count": null,
      "outputs": [
        {
          "output_type": "execute_result",
          "data": {
            "text/plain": [
              "114"
            ]
          },
          "metadata": {
            "tags": []
          },
          "execution_count": 50
        }
      ]
    },
    {
      "cell_type": "code",
      "metadata": {
        "colab": {
          "base_uri": "https://localhost:8080/",
          "height": 236
        },
        "id": "pXRNQbk-fwj0",
        "outputId": "ace0b75a-bca3-4317-aa40-7b04c71db82f"
      },
      "source": [
        "cat.head(2)"
      ],
      "execution_count": null,
      "outputs": [
        {
          "output_type": "execute_result",
          "data": {
            "text/html": [
              "<div>\n",
              "<style scoped>\n",
              "    .dataframe tbody tr th:only-of-type {\n",
              "        vertical-align: middle;\n",
              "    }\n",
              "\n",
              "    .dataframe tbody tr th {\n",
              "        vertical-align: top;\n",
              "    }\n",
              "\n",
              "    .dataframe thead th {\n",
              "        text-align: right;\n",
              "    }\n",
              "</style>\n",
              "<table border=\"1\" class=\"dataframe\">\n",
              "  <thead>\n",
              "    <tr style=\"text-align: right;\">\n",
              "      <th></th>\n",
              "      <th>url</th>\n",
              "      <th>region</th>\n",
              "      <th>region_url</th>\n",
              "      <th>year</th>\n",
              "      <th>manufacturer</th>\n",
              "      <th>model</th>\n",
              "      <th>condition</th>\n",
              "      <th>cylinders</th>\n",
              "      <th>fuel</th>\n",
              "      <th>title_status</th>\n",
              "      <th>transmission</th>\n",
              "      <th>VIN</th>\n",
              "      <th>drive</th>\n",
              "      <th>type</th>\n",
              "      <th>paint_color</th>\n",
              "      <th>image_url</th>\n",
              "      <th>description</th>\n",
              "      <th>state</th>\n",
              "      <th>year_Imputed</th>\n",
              "      <th>manufacturer_Imputed</th>\n",
              "      <th>model_Imputed</th>\n",
              "      <th>condition_Imputed</th>\n",
              "      <th>cylinders_Imputed</th>\n",
              "      <th>fuel_Imputed</th>\n",
              "      <th>title_status_Imputed</th>\n",
              "      <th>transmission_Imputed</th>\n",
              "      <th>drive_Imputed</th>\n",
              "      <th>type_Imputed</th>\n",
              "      <th>paint_color_Imputed</th>\n",
              "    </tr>\n",
              "  </thead>\n",
              "  <tbody>\n",
              "    <tr>\n",
              "      <th>0</th>\n",
              "      <td>https://auburn.craigslist.org/ctd/d/auburn-uni...</td>\n",
              "      <td>auburn</td>\n",
              "      <td>https://auburn.craigslist.org</td>\n",
              "      <td>2010.0</td>\n",
              "      <td>chevrolet</td>\n",
              "      <td>corvette grand sport</td>\n",
              "      <td>good</td>\n",
              "      <td>8 cylinders</td>\n",
              "      <td>gas</td>\n",
              "      <td>clean</td>\n",
              "      <td>other</td>\n",
              "      <td>1G1YU3DW1A5106980</td>\n",
              "      <td>rwd</td>\n",
              "      <td>other</td>\n",
              "      <td>white</td>\n",
              "      <td>https://images.craigslist.org/00N0N_ipkbHVZYf4...</td>\n",
              "      <td>Carvana is the safer way to buy a car During t...</td>\n",
              "      <td>al</td>\n",
              "      <td>0</td>\n",
              "      <td>0</td>\n",
              "      <td>0</td>\n",
              "      <td>0</td>\n",
              "      <td>0</td>\n",
              "      <td>0</td>\n",
              "      <td>0</td>\n",
              "      <td>0</td>\n",
              "      <td>0</td>\n",
              "      <td>0</td>\n",
              "      <td>1</td>\n",
              "    </tr>\n",
              "    <tr>\n",
              "      <th>1</th>\n",
              "      <td>https://auburn.craigslist.org/cto/d/auburn-201...</td>\n",
              "      <td>auburn</td>\n",
              "      <td>https://auburn.craigslist.org</td>\n",
              "      <td>2014.0</td>\n",
              "      <td>hyundai</td>\n",
              "      <td>sonata</td>\n",
              "      <td>excellent</td>\n",
              "      <td>4 cylinders</td>\n",
              "      <td>gas</td>\n",
              "      <td>clean</td>\n",
              "      <td>automatic</td>\n",
              "      <td>5NPEC4AB0EH813529</td>\n",
              "      <td>fwd</td>\n",
              "      <td>sedan</td>\n",
              "      <td>white</td>\n",
              "      <td>https://images.craigslist.org/00s0s_gBHYmJ5o7y...</td>\n",
              "      <td>I'll move to another city and try to sell my c...</td>\n",
              "      <td>al</td>\n",
              "      <td>0</td>\n",
              "      <td>0</td>\n",
              "      <td>0</td>\n",
              "      <td>0</td>\n",
              "      <td>0</td>\n",
              "      <td>0</td>\n",
              "      <td>0</td>\n",
              "      <td>0</td>\n",
              "      <td>0</td>\n",
              "      <td>0</td>\n",
              "      <td>1</td>\n",
              "    </tr>\n",
              "  </tbody>\n",
              "</table>\n",
              "</div>"
            ],
            "text/plain": [
              "                                                 url  region  \\\n",
              "0  https://auburn.craigslist.org/ctd/d/auburn-uni...  auburn   \n",
              "1  https://auburn.craigslist.org/cto/d/auburn-201...  auburn   \n",
              "\n",
              "                      region_url    year manufacturer                 model  \\\n",
              "0  https://auburn.craigslist.org  2010.0    chevrolet  corvette grand sport   \n",
              "1  https://auburn.craigslist.org  2014.0      hyundai                sonata   \n",
              "\n",
              "   condition    cylinders fuel title_status transmission                VIN  \\\n",
              "0       good  8 cylinders  gas        clean        other  1G1YU3DW1A5106980   \n",
              "1  excellent  4 cylinders  gas        clean    automatic  5NPEC4AB0EH813529   \n",
              "\n",
              "  drive   type paint_color                                          image_url  \\\n",
              "0   rwd  other       white  https://images.craigslist.org/00N0N_ipkbHVZYf4...   \n",
              "1   fwd  sedan       white  https://images.craigslist.org/00s0s_gBHYmJ5o7y...   \n",
              "\n",
              "                                         description state  year_Imputed  \\\n",
              "0  Carvana is the safer way to buy a car During t...    al             0   \n",
              "1  I'll move to another city and try to sell my c...    al             0   \n",
              "\n",
              "   manufacturer_Imputed  model_Imputed  condition_Imputed  cylinders_Imputed  \\\n",
              "0                     0              0                  0                  0   \n",
              "1                     0              0                  0                  0   \n",
              "\n",
              "   fuel_Imputed  title_status_Imputed  transmission_Imputed  drive_Imputed  \\\n",
              "0             0                     0                     0              0   \n",
              "1             0                     0                     0              0   \n",
              "\n",
              "   type_Imputed  paint_color_Imputed  \n",
              "0             0                    1  \n",
              "1             0                    1  "
            ]
          },
          "metadata": {
            "tags": []
          },
          "execution_count": 51
        }
      ]
    },
    {
      "cell_type": "code",
      "metadata": {
        "id": "5NAtdXFVfwj1"
      },
      "source": [
        "# Drop the original numerical features\n",
        "num_main = num.drop(num_col, axis=1)"
      ],
      "execution_count": null,
      "outputs": []
    },
    {
      "cell_type": "code",
      "metadata": {
        "colab": {
          "base_uri": "https://localhost:8080/",
          "height": 112
        },
        "id": "CoJYFn73fwj2",
        "outputId": "e90caec6-19eb-46f5-8ed0-cf2164426876"
      },
      "source": [
        "num_main.head(2)"
      ],
      "execution_count": null,
      "outputs": [
        {
          "output_type": "execute_result",
          "data": {
            "text/html": [
              "<div>\n",
              "<style scoped>\n",
              "    .dataframe tbody tr th:only-of-type {\n",
              "        vertical-align: middle;\n",
              "    }\n",
              "\n",
              "    .dataframe tbody tr th {\n",
              "        vertical-align: top;\n",
              "    }\n",
              "\n",
              "    .dataframe thead th {\n",
              "        text-align: right;\n",
              "    }\n",
              "</style>\n",
              "<table border=\"1\" class=\"dataframe\">\n",
              "  <thead>\n",
              "    <tr style=\"text-align: right;\">\n",
              "      <th></th>\n",
              "      <th>Unnamed: 0</th>\n",
              "      <th>id</th>\n",
              "      <th>price</th>\n",
              "      <th>car_age</th>\n",
              "      <th>odometer_trans</th>\n",
              "      <th>car_age_trans</th>\n",
              "      <th>point_x</th>\n",
              "      <th>point_y</th>\n",
              "      <th>point_z</th>\n",
              "    </tr>\n",
              "  </thead>\n",
              "  <tbody>\n",
              "    <tr>\n",
              "      <th>0</th>\n",
              "      <td>0</td>\n",
              "      <td>7240372487</td>\n",
              "      <td>35990</td>\n",
              "      <td>10.0</td>\n",
              "      <td>32742.0</td>\n",
              "      <td>10.0</td>\n",
              "      <td>-0.305961</td>\n",
              "      <td>0.235990</td>\n",
              "      <td>0.922332</td>\n",
              "    </tr>\n",
              "    <tr>\n",
              "      <th>1</th>\n",
              "      <td>1</td>\n",
              "      <td>7240309422</td>\n",
              "      <td>7500</td>\n",
              "      <td>6.0</td>\n",
              "      <td>93600.0</td>\n",
              "      <td>6.0</td>\n",
              "      <td>-0.339755</td>\n",
              "      <td>0.255719</td>\n",
              "      <td>0.905082</td>\n",
              "    </tr>\n",
              "  </tbody>\n",
              "</table>\n",
              "</div>"
            ],
            "text/plain": [
              "   Unnamed: 0          id  price  car_age  odometer_trans  car_age_trans  \\\n",
              "0           0  7240372487  35990     10.0         32742.0           10.0   \n",
              "1           1  7240309422   7500      6.0         93600.0            6.0   \n",
              "\n",
              "    point_x   point_y   point_z  \n",
              "0 -0.305961  0.235990  0.922332  \n",
              "1 -0.339755  0.255719  0.905082  "
            ]
          },
          "metadata": {
            "tags": []
          },
          "execution_count": 53
        }
      ]
    },
    {
      "cell_type": "code",
      "metadata": {
        "colab": {
          "base_uri": "https://localhost:8080/",
          "height": 1000
        },
        "id": "wtm1l2H3fwj3",
        "outputId": "34434984-fdd9-4048-e01f-24c9471eb4b7"
      },
      "source": [
        "#create visualisation\n",
        "for i in num_main.columns:\n",
        "    sns.distplot(num_main[i])\n",
        "    plt.show()"
      ],
      "execution_count": null,
      "outputs": [
        {
          "output_type": "display_data",
          "data": {
            "image/png": "[encoded data removed]",
            "text/plain": [
              "<Figure size 432x288 with 1 Axes>"
            ]
          },
          "metadata": {
            "tags": [],
            "needs_background": "light"
          }
        },
        {
          "output_type": "display_data",
          "data": {
            "image/png": "[encoded data removed]",
            "text/plain": [
              "<Figure size 432x288 with 1 Axes>"
            ]
          },
          "metadata": {
            "tags": [],
            "needs_background": "light"
          }
        },
        {
          "output_type": "display_data",
          "data": {
            "image/png": "[encoded data removed]",
            "text/plain": [
              "<Figure size 432x288 with 1 Axes>"
            ]
          },
          "metadata": {
            "tags": [],
            "needs_background": "light"
          }
        },
        {
          "output_type": "display_data",
          "data": {
            "image/png": "[encoded data removed]",
            "text/plain": [
              "<Figure size 432x288 with 1 Axes>"
            ]
          },
          "metadata": {
            "tags": [],
            "needs_background": "light"
          }
        },
        {
          "output_type": "display_data",
          "data": {
            "image/png": "[encoded data removed]",
            "text/plain": [
              "<Figure size 432x288 with 1 Axes>"
            ]
          },
          "metadata": {
            "tags": [],
            "needs_background": "light"
          }
        },
        {
          "output_type": "display_data",
          "data": {
            "image/png": "[encoded data removed]",
            "text/plain": [
              "<Figure size 432x288 with 1 Axes>"
            ]
          },
          "metadata": {
            "tags": [],
            "needs_background": "light"
          }
        },
        {
          "output_type": "display_data",
          "data": {
            "image/png": "[encoded data removed]",
            "text/plain": [
              "<Figure size 432x288 with 1 Axes>"
            ]
          },
          "metadata": {
            "tags": [],
            "needs_background": "light"
          }
        },
        {
          "output_type": "display_data",
          "data": {
            "image/png": "[encoded data removed]",
            "text/plain": [
              "<Figure size 432x288 with 1 Axes>"
            ]
          },
          "metadata": {
            "tags": [],
            "needs_background": "light"
          }
        },
        {
          "output_type": "display_data",
          "data": {
            "image/png": "[encoded data removed]",
            "text/plain": [
              "<Figure size 432x288 with 1 Axes>"
            ]
          },
          "metadata": {
            "tags": [],
            "needs_background": "light"
          }
        }
      ]
    },
    {
      "cell_type": "code",
      "metadata": {
        "id": "8mA4aSBYfwj4"
      },
      "source": [
        "# Drop the original numerical feature-car_age\n",
        "num_main = num_main.drop(['car_age'], axis=1)"
      ],
      "execution_count": null,
      "outputs": []
    },
    {
      "cell_type": "code",
      "metadata": {
        "colab": {
          "base_uri": "https://localhost:8080/"
        },
        "id": "rQ-d9VCdfwj5",
        "outputId": "ea7f139e-d23e-44b1-d6e4-eb82ffd4af4f"
      },
      "source": [
        "num_main.columns"
      ],
      "execution_count": null,
      "outputs": [
        {
          "output_type": "execute_result",
          "data": {
            "text/plain": [
              "Index(['Unnamed: 0', 'id', 'price', 'odometer_trans', 'car_age_trans',\n",
              "       'point_x', 'point_y', 'point_z'],\n",
              "      dtype='object')"
            ]
          },
          "metadata": {
            "tags": []
          },
          "execution_count": 56
        }
      ]
    },
    {
      "cell_type": "code",
      "metadata": {
        "colab": {
          "base_uri": "https://localhost:8080/"
        },
        "id": "h40cVtUgfwj8",
        "outputId": "ddf1e8c1-295c-4f39-8ee3-aea68fd9905d"
      },
      "source": [
        "gc.collect()"
      ],
      "execution_count": null,
      "outputs": [
        {
          "output_type": "execute_result",
          "data": {
            "text/plain": [
              "52519"
            ]
          },
          "metadata": {
            "tags": []
          },
          "execution_count": 57
        }
      ]
    },
    {
      "cell_type": "code",
      "metadata": {
        "colab": {
          "base_uri": "https://localhost:8080/",
          "height": 1000
        },
        "id": "IJXc31FPfwj-",
        "outputId": "b43a0cce-7359-4eba-a0c0-f93e06b82a6a"
      },
      "source": [
        "# create visualsations\n",
        "for v in num_main.columns:\n",
        "    sns.boxplot(num_main[v])\n",
        "    plt.show()"
      ],
      "execution_count": null,
      "outputs": [
        {
          "output_type": "display_data",
          "data": {
            "image/png": "[encoded data removed]",
            "text/plain": [
              "<Figure size 432x288 with 1 Axes>"
            ]
          },
          "metadata": {
            "tags": [],
            "needs_background": "light"
          }
        },
        {
          "output_type": "display_data",
          "data": {
            "image/png": "[encoded data removed]",
            "text/plain": [
              "<Figure size 432x288 with 1 Axes>"
            ]
          },
          "metadata": {
            "tags": [],
            "needs_background": "light"
          }
        },
        {
          "output_type": "display_data",
          "data": {
            "image/png": "[encoded data removed]",
            "text/plain": [
              "<Figure size 432x288 with 1 Axes>"
            ]
          },
          "metadata": {
            "tags": [],
            "needs_background": "light"
          }
        },
        {
          "output_type": "display_data",
          "data": {
            "image/png": "[encoded data removed]",
            "text/plain": [
              "<Figure size 432x288 with 1 Axes>"
            ]
          },
          "metadata": {
            "tags": [],
            "needs_background": "light"
          }
        },
        {
          "output_type": "display_data",
          "data": {
            "image/png": "[encoded data removed]",
            "text/plain": [
              "<Figure size 432x288 with 1 Axes>"
            ]
          },
          "metadata": {
            "tags": [],
            "needs_background": "light"
          }
        },
        {
          "output_type": "display_data",
          "data": {
            "image/png": "[encoded data removed]",
            "text/plain": [
              "<Figure size 432x288 with 1 Axes>"
            ]
          },
          "metadata": {
            "tags": [],
            "needs_background": "light"
          }
        },
        {
          "output_type": "display_data",
          "data": {
            "image/png": "[encoded data removed]",
            "text/plain": [
              "<Figure size 432x288 with 1 Axes>"
            ]
          },
          "metadata": {
            "tags": [],
            "needs_background": "light"
          }
        },
        {
          "output_type": "display_data",
          "data": {
            "image/png": "[encoded data removed]",
            "text/plain": [
              "<Figure size 432x288 with 1 Axes>"
            ]
          },
          "metadata": {
            "tags": [],
            "needs_background": "light"
          }
        }
      ]
    },
    {
      "cell_type": "code",
      "metadata": {
        "id": "WOwxngq7fwj_"
      },
      "source": [
        "# Import robust scaler from sklearn to scale numerical features\n",
        "from sklearn.preprocessing import RobustScaler"
      ],
      "execution_count": null,
      "outputs": []
    },
    {
      "cell_type": "code",
      "metadata": {
        "id": "SY--KUqefwkA"
      },
      "source": [
        "#robust scaling was performed  on the selected numerical features\n",
        "\n",
        "sc_col = ['car_age_trans', 'odometer_trans']\n",
        "\n",
        "rs = RobustScaler()\n",
        "\n",
        "for named in sc_col:\n",
        "    num_main[named] = rs.fit_transform(num_main[[named]])"
      ],
      "execution_count": null,
      "outputs": []
    },
    {
      "cell_type": "code",
      "metadata": {
        "colab": {
          "base_uri": "https://localhost:8080/",
          "height": 112
        },
        "id": "Ls4tcm_jfwkB",
        "outputId": "062f5f35-1a46-4d88-93db-1f8190bbcd63"
      },
      "source": [
        "num_main.head(2)"
      ],
      "execution_count": null,
      "outputs": [
        {
          "output_type": "execute_result",
          "data": {
            "text/html": [
              "<div>\n",
              "<style scoped>\n",
              "    .dataframe tbody tr th:only-of-type {\n",
              "        vertical-align: middle;\n",
              "    }\n",
              "\n",
              "    .dataframe tbody tr th {\n",
              "        vertical-align: top;\n",
              "    }\n",
              "\n",
              "    .dataframe thead th {\n",
              "        text-align: right;\n",
              "    }\n",
              "</style>\n",
              "<table border=\"1\" class=\"dataframe\">\n",
              "  <thead>\n",
              "    <tr style=\"text-align: right;\">\n",
              "      <th></th>\n",
              "      <th>Unnamed: 0</th>\n",
              "      <th>id</th>\n",
              "      <th>price</th>\n",
              "      <th>odometer_trans</th>\n",
              "      <th>car_age_trans</th>\n",
              "      <th>point_x</th>\n",
              "      <th>point_y</th>\n",
              "      <th>point_z</th>\n",
              "    </tr>\n",
              "  </thead>\n",
              "  <tbody>\n",
              "    <tr>\n",
              "      <th>0</th>\n",
              "      <td>0</td>\n",
              "      <td>7240372487</td>\n",
              "      <td>35990</td>\n",
              "      <td>-0.828596</td>\n",
              "      <td>0.375</td>\n",
              "      <td>-0.305961</td>\n",
              "      <td>0.235990</td>\n",
              "      <td>0.922332</td>\n",
              "    </tr>\n",
              "    <tr>\n",
              "      <th>1</th>\n",
              "      <td>1</td>\n",
              "      <td>7240309422</td>\n",
              "      <td>7500</td>\n",
              "      <td>-0.069958</td>\n",
              "      <td>-0.125</td>\n",
              "      <td>-0.339755</td>\n",
              "      <td>0.255719</td>\n",
              "      <td>0.905082</td>\n",
              "    </tr>\n",
              "  </tbody>\n",
              "</table>\n",
              "</div>"
            ],
            "text/plain": [
              "   Unnamed: 0          id  price  odometer_trans  car_age_trans   point_x  \\\n",
              "0           0  7240372487  35990       -0.828596          0.375 -0.305961   \n",
              "1           1  7240309422   7500       -0.069958         -0.125 -0.339755   \n",
              "\n",
              "    point_y   point_z  \n",
              "0  0.235990  0.922332  \n",
              "1  0.255719  0.905082  "
            ]
          },
          "metadata": {
            "tags": []
          },
          "execution_count": 61
        }
      ]
    },
    {
      "cell_type": "code",
      "metadata": {
        "id": "2gz42BjMfwkC",
        "colab": {
          "base_uri": "https://localhost:8080/"
        },
        "outputId": "543c59a9-b24e-40a9-ffe2-4d415fb6fc87"
      },
      "source": [
        "# Join the numerical and categorical dataframes \n",
        "\n",
        "df = pd.concat([num_main, cat], axis=1)\n",
        "df.shape"
      ],
      "execution_count": null,
      "outputs": [
        {
          "output_type": "execute_result",
          "data": {
            "text/plain": [
              "(458213, 37)"
            ]
          },
          "metadata": {
            "tags": []
          },
          "execution_count": 62
        }
      ]
    },
    {
      "cell_type": "code",
      "metadata": {
        "colab": {
          "base_uri": "https://localhost:8080/"
        },
        "id": "FGaKnIgBfwkD",
        "outputId": "e7a7f4f3-d414-40ca-f47d-e3707a8c896f"
      },
      "source": [
        "gc.collect()"
      ],
      "execution_count": null,
      "outputs": [
        {
          "output_type": "execute_result",
          "data": {
            "text/plain": [
              "20532"
            ]
          },
          "metadata": {
            "tags": []
          },
          "execution_count": 63
        }
      ]
    },
    {
      "cell_type": "code",
      "metadata": {
        "colab": {
          "base_uri": "https://localhost:8080/",
          "height": 522
        },
        "id": "4hXoXNWWfwkD",
        "outputId": "65b9bfb8-ebb3-47d7-a5b3-3c4b3acc3076"
      },
      "source": [
        "df.head()"
      ],
      "execution_count": null,
      "outputs": [
        {
          "output_type": "execute_result",
          "data": {
            "text/html": [
              "<div>\n",
              "<style scoped>\n",
              "    .dataframe tbody tr th:only-of-type {\n",
              "        vertical-align: middle;\n",
              "    }\n",
              "\n",
              "    .dataframe tbody tr th {\n",
              "        vertical-align: top;\n",
              "    }\n",
              "\n",
              "    .dataframe thead th {\n",
              "        text-align: right;\n",
              "    }\n",
              "</style>\n",
              "<table border=\"1\" class=\"dataframe\">\n",
              "  <thead>\n",
              "    <tr style=\"text-align: right;\">\n",
              "      <th></th>\n",
              "      <th>Unnamed: 0</th>\n",
              "      <th>id</th>\n",
              "      <th>price</th>\n",
              "      <th>odometer_trans</th>\n",
              "      <th>car_age_trans</th>\n",
              "      <th>point_x</th>\n",
              "      <th>point_y</th>\n",
              "      <th>point_z</th>\n",
              "      <th>url</th>\n",
              "      <th>region</th>\n",
              "      <th>region_url</th>\n",
              "      <th>year</th>\n",
              "      <th>manufacturer</th>\n",
              "      <th>model</th>\n",
              "      <th>condition</th>\n",
              "      <th>cylinders</th>\n",
              "      <th>fuel</th>\n",
              "      <th>title_status</th>\n",
              "      <th>transmission</th>\n",
              "      <th>VIN</th>\n",
              "      <th>drive</th>\n",
              "      <th>type</th>\n",
              "      <th>paint_color</th>\n",
              "      <th>image_url</th>\n",
              "      <th>description</th>\n",
              "      <th>state</th>\n",
              "      <th>year_Imputed</th>\n",
              "      <th>manufacturer_Imputed</th>\n",
              "      <th>model_Imputed</th>\n",
              "      <th>condition_Imputed</th>\n",
              "      <th>cylinders_Imputed</th>\n",
              "      <th>fuel_Imputed</th>\n",
              "      <th>title_status_Imputed</th>\n",
              "      <th>transmission_Imputed</th>\n",
              "      <th>drive_Imputed</th>\n",
              "      <th>type_Imputed</th>\n",
              "      <th>paint_color_Imputed</th>\n",
              "    </tr>\n",
              "  </thead>\n",
              "  <tbody>\n",
              "    <tr>\n",
              "      <th>0</th>\n",
              "      <td>0</td>\n",
              "      <td>7240372487</td>\n",
              "      <td>35990</td>\n",
              "      <td>-0.828596</td>\n",
              "      <td>0.375</td>\n",
              "      <td>-0.305961</td>\n",
              "      <td>0.235990</td>\n",
              "      <td>0.922332</td>\n",
              "      <td>https://auburn.craigslist.org/ctd/d/auburn-uni...</td>\n",
              "      <td>auburn</td>\n",
              "      <td>https://auburn.craigslist.org</td>\n",
              "      <td>2010.0</td>\n",
              "      <td>chevrolet</td>\n",
              "      <td>corvette grand sport</td>\n",
              "      <td>good</td>\n",
              "      <td>8 cylinders</td>\n",
              "      <td>gas</td>\n",
              "      <td>clean</td>\n",
              "      <td>other</td>\n",
              "      <td>1G1YU3DW1A5106980</td>\n",
              "      <td>rwd</td>\n",
              "      <td>other</td>\n",
              "      <td>white</td>\n",
              "      <td>https://images.craigslist.org/00N0N_ipkbHVZYf4...</td>\n",
              "      <td>Carvana is the safer way to buy a car During t...</td>\n",
              "      <td>al</td>\n",
              "      <td>0</td>\n",
              "      <td>0</td>\n",
              "      <td>0</td>\n",
              "      <td>0</td>\n",
              "      <td>0</td>\n",
              "      <td>0</td>\n",
              "      <td>0</td>\n",
              "      <td>0</td>\n",
              "      <td>0</td>\n",
              "      <td>0</td>\n",
              "      <td>1</td>\n",
              "    </tr>\n",
              "    <tr>\n",
              "      <th>1</th>\n",
              "      <td>1</td>\n",
              "      <td>7240309422</td>\n",
              "      <td>7500</td>\n",
              "      <td>-0.069958</td>\n",
              "      <td>-0.125</td>\n",
              "      <td>-0.339755</td>\n",
              "      <td>0.255719</td>\n",
              "      <td>0.905082</td>\n",
              "      <td>https://auburn.craigslist.org/cto/d/auburn-201...</td>\n",
              "      <td>auburn</td>\n",
              "      <td>https://auburn.craigslist.org</td>\n",
              "      <td>2014.0</td>\n",
              "      <td>hyundai</td>\n",
              "      <td>sonata</td>\n",
              "      <td>excellent</td>\n",
              "      <td>4 cylinders</td>\n",
              "      <td>gas</td>\n",
              "      <td>clean</td>\n",
              "      <td>automatic</td>\n",
              "      <td>5NPEC4AB0EH813529</td>\n",
              "      <td>fwd</td>\n",
              "      <td>sedan</td>\n",
              "      <td>white</td>\n",
              "      <td>https://images.craigslist.org/00s0s_gBHYmJ5o7y...</td>\n",
              "      <td>I'll move to another city and try to sell my c...</td>\n",
              "      <td>al</td>\n",
              "      <td>0</td>\n",
              "      <td>0</td>\n",
              "      <td>0</td>\n",
              "      <td>0</td>\n",
              "      <td>0</td>\n",
              "      <td>0</td>\n",
              "      <td>0</td>\n",
              "      <td>0</td>\n",
              "      <td>0</td>\n",
              "      <td>0</td>\n",
              "      <td>1</td>\n",
              "    </tr>\n",
              "    <tr>\n",
              "      <th>2</th>\n",
              "      <td>2</td>\n",
              "      <td>7240224296</td>\n",
              "      <td>4900</td>\n",
              "      <td>-0.151658</td>\n",
              "      <td>0.875</td>\n",
              "      <td>-0.289739</td>\n",
              "      <td>0.216241</td>\n",
              "      <td>0.932358</td>\n",
              "      <td>https://auburn.craigslist.org/cto/d/auburn-200...</td>\n",
              "      <td>auburn</td>\n",
              "      <td>https://auburn.craigslist.org</td>\n",
              "      <td>2006.0</td>\n",
              "      <td>bmw</td>\n",
              "      <td>x3 3.0i</td>\n",
              "      <td>good</td>\n",
              "      <td>6 cylinders</td>\n",
              "      <td>gas</td>\n",
              "      <td>clean</td>\n",
              "      <td>automatic</td>\n",
              "      <td>NaN</td>\n",
              "      <td>4wd</td>\n",
              "      <td>SUV</td>\n",
              "      <td>blue</td>\n",
              "      <td>https://images.craigslist.org/00B0B_5zgEGWPOrt...</td>\n",
              "      <td>Clean 2006 BMW X3 3.0I.  Beautiful and rare Bl...</td>\n",
              "      <td>al</td>\n",
              "      <td>0</td>\n",
              "      <td>0</td>\n",
              "      <td>0</td>\n",
              "      <td>0</td>\n",
              "      <td>0</td>\n",
              "      <td>0</td>\n",
              "      <td>0</td>\n",
              "      <td>0</td>\n",
              "      <td>1</td>\n",
              "      <td>0</td>\n",
              "      <td>0</td>\n",
              "    </tr>\n",
              "    <tr>\n",
              "      <th>3</th>\n",
              "      <td>3</td>\n",
              "      <td>7240103965</td>\n",
              "      <td>2000</td>\n",
              "      <td>1.131738</td>\n",
              "      <td>4.875</td>\n",
              "      <td>-0.115278</td>\n",
              "      <td>0.047804</td>\n",
              "      <td>0.992182</td>\n",
              "      <td>https://auburn.craigslist.org/cto/d/lanett-tru...</td>\n",
              "      <td>auburn</td>\n",
              "      <td>https://auburn.craigslist.org</td>\n",
              "      <td>1974.0</td>\n",
              "      <td>chevrolet</td>\n",
              "      <td>c-10</td>\n",
              "      <td>good</td>\n",
              "      <td>4 cylinders</td>\n",
              "      <td>gas</td>\n",
              "      <td>clean</td>\n",
              "      <td>automatic</td>\n",
              "      <td>NaN</td>\n",
              "      <td>rwd</td>\n",
              "      <td>pickup</td>\n",
              "      <td>blue</td>\n",
              "      <td>https://images.craigslist.org/00M0M_6o7KcDpArw...</td>\n",
              "      <td>1974 chev. truck (LONG BED) NEW starter front ...</td>\n",
              "      <td>al</td>\n",
              "      <td>0</td>\n",
              "      <td>0</td>\n",
              "      <td>0</td>\n",
              "      <td>0</td>\n",
              "      <td>0</td>\n",
              "      <td>0</td>\n",
              "      <td>0</td>\n",
              "      <td>0</td>\n",
              "      <td>0</td>\n",
              "      <td>0</td>\n",
              "      <td>0</td>\n",
              "    </tr>\n",
              "    <tr>\n",
              "      <th>4</th>\n",
              "      <td>4</td>\n",
              "      <td>7239983776</td>\n",
              "      <td>19500</td>\n",
              "      <td>0.209274</td>\n",
              "      <td>1.000</td>\n",
              "      <td>-0.339755</td>\n",
              "      <td>0.255719</td>\n",
              "      <td>0.905082</td>\n",
              "      <td>https://auburn.craigslist.org/cto/d/auburn-200...</td>\n",
              "      <td>auburn</td>\n",
              "      <td>https://auburn.craigslist.org</td>\n",
              "      <td>2005.0</td>\n",
              "      <td>ford</td>\n",
              "      <td>f350 lariat</td>\n",
              "      <td>excellent</td>\n",
              "      <td>8 cylinders</td>\n",
              "      <td>diesel</td>\n",
              "      <td>lien</td>\n",
              "      <td>automatic</td>\n",
              "      <td>NaN</td>\n",
              "      <td>4wd</td>\n",
              "      <td>pickup</td>\n",
              "      <td>blue</td>\n",
              "      <td>https://images.craigslist.org/00p0p_b95l1EgUfl...</td>\n",
              "      <td>2005 Ford F350 Lariat (Bullet Proofed). This t...</td>\n",
              "      <td>al</td>\n",
              "      <td>0</td>\n",
              "      <td>0</td>\n",
              "      <td>0</td>\n",
              "      <td>0</td>\n",
              "      <td>0</td>\n",
              "      <td>0</td>\n",
              "      <td>0</td>\n",
              "      <td>0</td>\n",
              "      <td>0</td>\n",
              "      <td>0</td>\n",
              "      <td>0</td>\n",
              "    </tr>\n",
              "  </tbody>\n",
              "</table>\n",
              "</div>"
            ],
            "text/plain": [
              "   Unnamed: 0          id  price  odometer_trans  car_age_trans   point_x  \\\n",
              "0           0  7240372487  35990       -0.828596          0.375 -0.305961   \n",
              "1           1  7240309422   7500       -0.069958         -0.125 -0.339755   \n",
              "2           2  7240224296   4900       -0.151658          0.875 -0.289739   \n",
              "3           3  7240103965   2000        1.131738          4.875 -0.115278   \n",
              "4           4  7239983776  19500        0.209274          1.000 -0.339755   \n",
              "\n",
              "    point_y   point_z                                                url  \\\n",
              "0  0.235990  0.922332  https://auburn.craigslist.org/ctd/d/auburn-uni...   \n",
              "1  0.255719  0.905082  https://auburn.craigslist.org/cto/d/auburn-201...   \n",
              "2  0.216241  0.932358  https://auburn.craigslist.org/cto/d/auburn-200...   \n",
              "3  0.047804  0.992182  https://auburn.craigslist.org/cto/d/lanett-tru...   \n",
              "4  0.255719  0.905082  https://auburn.craigslist.org/cto/d/auburn-200...   \n",
              "\n",
              "   region                     region_url    year manufacturer  \\\n",
              "0  auburn  https://auburn.craigslist.org  2010.0    chevrolet   \n",
              "1  auburn  https://auburn.craigslist.org  2014.0      hyundai   \n",
              "2  auburn  https://auburn.craigslist.org  2006.0          bmw   \n",
              "3  auburn  https://auburn.craigslist.org  1974.0    chevrolet   \n",
              "4  auburn  https://auburn.craigslist.org  2005.0         ford   \n",
              "\n",
              "                  model  condition    cylinders    fuel title_status  \\\n",
              "0  corvette grand sport       good  8 cylinders     gas        clean   \n",
              "1                sonata  excellent  4 cylinders     gas        clean   \n",
              "2               x3 3.0i       good  6 cylinders     gas        clean   \n",
              "3                  c-10       good  4 cylinders     gas        clean   \n",
              "4           f350 lariat  excellent  8 cylinders  diesel         lien   \n",
              "\n",
              "  transmission                VIN drive    type paint_color  \\\n",
              "0        other  1G1YU3DW1A5106980   rwd   other       white   \n",
              "1    automatic  5NPEC4AB0EH813529   fwd   sedan       white   \n",
              "2    automatic                NaN   4wd     SUV        blue   \n",
              "3    automatic                NaN   rwd  pickup        blue   \n",
              "4    automatic                NaN   4wd  pickup        blue   \n",
              "\n",
              "                                           image_url  \\\n",
              "0  https://images.craigslist.org/00N0N_ipkbHVZYf4...   \n",
              "1  https://images.craigslist.org/00s0s_gBHYmJ5o7y...   \n",
              "2  https://images.craigslist.org/00B0B_5zgEGWPOrt...   \n",
              "3  https://images.craigslist.org/00M0M_6o7KcDpArw...   \n",
              "4  https://images.craigslist.org/00p0p_b95l1EgUfl...   \n",
              "\n",
              "                                         description state  year_Imputed  \\\n",
              "0  Carvana is the safer way to buy a car During t...    al             0   \n",
              "1  I'll move to another city and try to sell my c...    al             0   \n",
              "2  Clean 2006 BMW X3 3.0I.  Beautiful and rare Bl...    al             0   \n",
              "3  1974 chev. truck (LONG BED) NEW starter front ...    al             0   \n",
              "4  2005 Ford F350 Lariat (Bullet Proofed). This t...    al             0   \n",
              "\n",
              "   manufacturer_Imputed  model_Imputed  condition_Imputed  cylinders_Imputed  \\\n",
              "0                     0              0                  0                  0   \n",
              "1                     0              0                  0                  0   \n",
              "2                     0              0                  0                  0   \n",
              "3                     0              0                  0                  0   \n",
              "4                     0              0                  0                  0   \n",
              "\n",
              "   fuel_Imputed  title_status_Imputed  transmission_Imputed  drive_Imputed  \\\n",
              "0             0                     0                     0              0   \n",
              "1             0                     0                     0              0   \n",
              "2             0                     0                     0              1   \n",
              "3             0                     0                     0              0   \n",
              "4             0                     0                     0              0   \n",
              "\n",
              "   type_Imputed  paint_color_Imputed  \n",
              "0             0                    1  \n",
              "1             0                    1  \n",
              "2             0                    0  \n",
              "3             0                    0  \n",
              "4             0                    0  "
            ]
          },
          "metadata": {
            "tags": []
          },
          "execution_count": 64
        }
      ]
    },
    {
      "cell_type": "markdown",
      "metadata": {
        "id": "jqZJWfRqlxTh"
      },
      "source": [
        " # Baseline Model"
      ]
    },
    {
      "cell_type": "code",
      "metadata": {
        "colab": {
          "base_uri": "https://localhost:8080/"
        },
        "id": "z7OeQhD0lvwf",
        "outputId": "a1b85722-836e-4c16-9546-706701c4800e"
      },
      "source": [
        "#check info\r\n",
        "df.info()"
      ],
      "execution_count": null,
      "outputs": [
        {
          "output_type": "stream",
          "text": [
            "<class 'pandas.core.frame.DataFrame'>\n",
            "RangeIndex: 458213 entries, 0 to 458212\n",
            "Data columns (total 37 columns):\n",
            " #   Column                Non-Null Count   Dtype  \n",
            "---  ------                --------------   -----  \n",
            " 0   Unnamed: 0            458213 non-null  int64  \n",
            " 1   id                    458213 non-null  int64  \n",
            " 2   price                 458213 non-null  int64  \n",
            " 3   odometer_trans        458213 non-null  float64\n",
            " 4   car_age_trans         458213 non-null  float64\n",
            " 5   point_x               458213 non-null  float64\n",
            " 6   point_y               458213 non-null  float64\n",
            " 7   point_z               458213 non-null  float64\n",
            " 8   url                   458213 non-null  object \n",
            " 9   region                458213 non-null  object \n",
            " 10  region_url            458213 non-null  object \n",
            " 11  year                  458213 non-null  object \n",
            " 12  manufacturer          458213 non-null  object \n",
            " 13  model                 458213 non-null  object \n",
            " 14  condition             458213 non-null  object \n",
            " 15  cylinders             458213 non-null  object \n",
            " 16  fuel                  458213 non-null  object \n",
            " 17  title_status          458213 non-null  object \n",
            " 18  transmission          458213 non-null  object \n",
            " 19  VIN                   270664 non-null  object \n",
            " 20  drive                 458213 non-null  object \n",
            " 21  type                  458213 non-null  object \n",
            " 22  paint_color           458213 non-null  object \n",
            " 23  image_url             458185 non-null  object \n",
            " 24  description           458143 non-null  object \n",
            " 25  state                 458213 non-null  object \n",
            " 26  year_Imputed          458213 non-null  int64  \n",
            " 27  manufacturer_Imputed  458213 non-null  int64  \n",
            " 28  model_Imputed         458213 non-null  int64  \n",
            " 29  condition_Imputed     458213 non-null  int64  \n",
            " 30  cylinders_Imputed     458213 non-null  int64  \n",
            " 31  fuel_Imputed          458213 non-null  int64  \n",
            " 32  title_status_Imputed  458213 non-null  int64  \n",
            " 33  transmission_Imputed  458213 non-null  int64  \n",
            " 34  drive_Imputed         458213 non-null  int64  \n",
            " 35  type_Imputed          458213 non-null  int64  \n",
            " 36  paint_color_Imputed   458213 non-null  int64  \n",
            "dtypes: float64(5), int64(14), object(18)\n",
            "memory usage: 129.3+ MB\n"
          ],
          "name": "stdout"
        }
      ]
    },
    {
      "cell_type": "code",
      "metadata": {
        "id": "DGIuZiNypeJp"
      },
      "source": [
        "df['year'] = df['year'].astype('str')\r\n",
        "df['price'] = np.log((df['price'] + 1))"
      ],
      "execution_count": null,
      "outputs": []
    },
    {
      "cell_type": "code",
      "metadata": {
        "id": "RubSxiY0p0Gf"
      },
      "source": [
        "#drop posting date\r\n",
        "# df = df.drop(['posting_date'], axis=1)"
      ],
      "execution_count": null,
      "outputs": []
    },
    {
      "cell_type": "code",
      "metadata": {
        "id": "WZxArEVHp0vH"
      },
      "source": [
        "#drop all null values\r\n",
        "df_drop = df.dropna()"
      ],
      "execution_count": null,
      "outputs": []
    },
    {
      "cell_type": "code",
      "metadata": {
        "colab": {
          "base_uri": "https://localhost:8080/"
        },
        "id": "qJYbN3BtrGea",
        "outputId": "fe4e5ddd-df15-49cb-ab9c-15370db832a2"
      },
      "source": [
        "df_drop.shape"
      ],
      "execution_count": null,
      "outputs": [
        {
          "output_type": "execute_result",
          "data": {
            "text/plain": [
              "(270622, 37)"
            ]
          },
          "metadata": {
            "tags": []
          },
          "execution_count": 70
        }
      ]
    },
    {
      "cell_type": "code",
      "metadata": {
        "id": "F_Tx-iKRrZig"
      },
      "source": [
        "#split data into train and test sets\r\n",
        "from sklearn.model_selection import train_test_split\r\n",
        "train_drop, test_drop = train_test_split(df_drop, test_size=0.3, shuffle=True, random_state=2020)"
      ],
      "execution_count": null,
      "outputs": []
    },
    {
      "cell_type": "code",
      "metadata": {
        "colab": {
          "base_uri": "https://localhost:8080/"
        },
        "id": "jW8dsHuLrZUi",
        "outputId": "238f755a-9a3a-4f93-ee07-1df72421fbb2"
      },
      "source": [
        "X_train_drop = train_drop.drop(['price'], axis=1)\r\n",
        "y_train_drop = train_drop['price']\r\n",
        "\r\n",
        "X_test_drop = test_drop.drop(['price'], axis=1)\r\n",
        "y_test_drop = test_drop['price']\r\n",
        "\r\n",
        "print(X_train_drop.shape)\r\n",
        "print(y_train_drop.shape)\r\n",
        "print(X_test_drop.shape)\r\n",
        "print(y_test_drop.shape)"
      ],
      "execution_count": null,
      "outputs": [
        {
          "output_type": "stream",
          "text": [
            "(189435, 36)\n",
            "(189435,)\n",
            "(81187, 36)\n",
            "(81187,)\n"
          ],
          "name": "stdout"
        }
      ]
    },
    {
      "cell_type": "code",
      "metadata": {
        "colab": {
          "base_uri": "https://localhost:8080/",
          "height": 254
        },
        "id": "tXP3ggOXs8tm",
        "outputId": "d1a420ca-b502-4f40-98e8-8e2dfa801e16"
      },
      "source": [
        "X_train_drop.head(2)"
      ],
      "execution_count": null,
      "outputs": [
        {
          "output_type": "execute_result",
          "data": {
            "text/html": [
              "<div>\n",
              "<style scoped>\n",
              "    .dataframe tbody tr th:only-of-type {\n",
              "        vertical-align: middle;\n",
              "    }\n",
              "\n",
              "    .dataframe tbody tr th {\n",
              "        vertical-align: top;\n",
              "    }\n",
              "\n",
              "    .dataframe thead th {\n",
              "        text-align: right;\n",
              "    }\n",
              "</style>\n",
              "<table border=\"1\" class=\"dataframe\">\n",
              "  <thead>\n",
              "    <tr style=\"text-align: right;\">\n",
              "      <th></th>\n",
              "      <th>Unnamed: 0</th>\n",
              "      <th>id</th>\n",
              "      <th>odometer_trans</th>\n",
              "      <th>car_age_trans</th>\n",
              "      <th>point_x</th>\n",
              "      <th>point_y</th>\n",
              "      <th>point_z</th>\n",
              "      <th>url</th>\n",
              "      <th>region</th>\n",
              "      <th>region_url</th>\n",
              "      <th>year</th>\n",
              "      <th>manufacturer</th>\n",
              "      <th>model</th>\n",
              "      <th>condition</th>\n",
              "      <th>cylinders</th>\n",
              "      <th>fuel</th>\n",
              "      <th>title_status</th>\n",
              "      <th>transmission</th>\n",
              "      <th>VIN</th>\n",
              "      <th>drive</th>\n",
              "      <th>type</th>\n",
              "      <th>paint_color</th>\n",
              "      <th>image_url</th>\n",
              "      <th>description</th>\n",
              "      <th>state</th>\n",
              "      <th>year_Imputed</th>\n",
              "      <th>manufacturer_Imputed</th>\n",
              "      <th>model_Imputed</th>\n",
              "      <th>condition_Imputed</th>\n",
              "      <th>cylinders_Imputed</th>\n",
              "      <th>fuel_Imputed</th>\n",
              "      <th>title_status_Imputed</th>\n",
              "      <th>transmission_Imputed</th>\n",
              "      <th>drive_Imputed</th>\n",
              "      <th>type_Imputed</th>\n",
              "      <th>paint_color_Imputed</th>\n",
              "    </tr>\n",
              "  </thead>\n",
              "  <tbody>\n",
              "    <tr>\n",
              "      <th>222085</th>\n",
              "      <td>222085</td>\n",
              "      <td>7240520877</td>\n",
              "      <td>-0.536138</td>\n",
              "      <td>-0.375</td>\n",
              "      <td>0.521471</td>\n",
              "      <td>0.739451</td>\n",
              "      <td>-0.425769</td>\n",
              "      <td>https://springfield.craigslist.org/ctd/d/sprin...</td>\n",
              "      <td>springfield</td>\n",
              "      <td>https://springfield.craigslist.org</td>\n",
              "      <td>2016.0</td>\n",
              "      <td>ford</td>\n",
              "      <td>Scion iA</td>\n",
              "      <td>good</td>\n",
              "      <td>4 cylinders</td>\n",
              "      <td>gas</td>\n",
              "      <td>clean</td>\n",
              "      <td>automatic</td>\n",
              "      <td>3MYDLBZV5GY119974</td>\n",
              "      <td>fwd</td>\n",
              "      <td>sedan</td>\n",
              "      <td>white</td>\n",
              "      <td>https://images.craigslist.org/00A0A_4H2jfMmOXh...</td>\n",
              "      <td>This Scion iA can be yours today!If you have b...</td>\n",
              "      <td>mo</td>\n",
              "      <td>0</td>\n",
              "      <td>1</td>\n",
              "      <td>0</td>\n",
              "      <td>1</td>\n",
              "      <td>0</td>\n",
              "      <td>0</td>\n",
              "      <td>0</td>\n",
              "      <td>0</td>\n",
              "      <td>0</td>\n",
              "      <td>0</td>\n",
              "      <td>0</td>\n",
              "    </tr>\n",
              "    <tr>\n",
              "      <th>387654</th>\n",
              "      <td>387654</td>\n",
              "      <td>7231810385</td>\n",
              "      <td>-0.560309</td>\n",
              "      <td>-0.375</td>\n",
              "      <td>-0.299409</td>\n",
              "      <td>0.834216</td>\n",
              "      <td>0.463075</td>\n",
              "      <td>https://odessa.craigslist.org/ctd/d/comanche-2...</td>\n",
              "      <td>odessa / midland</td>\n",
              "      <td>https://odessa.craigslist.org</td>\n",
              "      <td>2016.0</td>\n",
              "      <td>ford</td>\n",
              "      <td>mustang</td>\n",
              "      <td>excellent</td>\n",
              "      <td>6 cylinders</td>\n",
              "      <td>gas</td>\n",
              "      <td>clean</td>\n",
              "      <td>automatic</td>\n",
              "      <td>1FA6P8AM5G5225409</td>\n",
              "      <td>rwd</td>\n",
              "      <td>coupe</td>\n",
              "      <td>white</td>\n",
              "      <td>https://images.craigslist.org/00B0B_55bAkV6ebZ...</td>\n",
              "      <td>2016 Ford Mustang V6 - Oxford White   We do no...</td>\n",
              "      <td>tx</td>\n",
              "      <td>0</td>\n",
              "      <td>0</td>\n",
              "      <td>0</td>\n",
              "      <td>0</td>\n",
              "      <td>0</td>\n",
              "      <td>0</td>\n",
              "      <td>0</td>\n",
              "      <td>0</td>\n",
              "      <td>0</td>\n",
              "      <td>0</td>\n",
              "      <td>0</td>\n",
              "    </tr>\n",
              "  </tbody>\n",
              "</table>\n",
              "</div>"
            ],
            "text/plain": [
              "        Unnamed: 0          id  odometer_trans  car_age_trans   point_x  \\\n",
              "222085      222085  7240520877       -0.536138         -0.375  0.521471   \n",
              "387654      387654  7231810385       -0.560309         -0.375 -0.299409   \n",
              "\n",
              "         point_y   point_z                                                url  \\\n",
              "222085  0.739451 -0.425769  https://springfield.craigslist.org/ctd/d/sprin...   \n",
              "387654  0.834216  0.463075  https://odessa.craigslist.org/ctd/d/comanche-2...   \n",
              "\n",
              "                  region                          region_url    year  \\\n",
              "222085       springfield  https://springfield.craigslist.org  2016.0   \n",
              "387654  odessa / midland       https://odessa.craigslist.org  2016.0   \n",
              "\n",
              "       manufacturer     model  condition    cylinders fuel title_status  \\\n",
              "222085         ford  Scion iA       good  4 cylinders  gas        clean   \n",
              "387654         ford   mustang  excellent  6 cylinders  gas        clean   \n",
              "\n",
              "       transmission                VIN drive   type paint_color  \\\n",
              "222085    automatic  3MYDLBZV5GY119974   fwd  sedan       white   \n",
              "387654    automatic  1FA6P8AM5G5225409   rwd  coupe       white   \n",
              "\n",
              "                                                image_url  \\\n",
              "222085  https://images.craigslist.org/00A0A_4H2jfMmOXh...   \n",
              "387654  https://images.craigslist.org/00B0B_55bAkV6ebZ...   \n",
              "\n",
              "                                              description state  year_Imputed  \\\n",
              "222085  This Scion iA can be yours today!If you have b...    mo             0   \n",
              "387654  2016 Ford Mustang V6 - Oxford White   We do no...    tx             0   \n",
              "\n",
              "        manufacturer_Imputed  model_Imputed  condition_Imputed  \\\n",
              "222085                     1              0                  1   \n",
              "387654                     0              0                  0   \n",
              "\n",
              "        cylinders_Imputed  fuel_Imputed  title_status_Imputed  \\\n",
              "222085                  0             0                     0   \n",
              "387654                  0             0                     0   \n",
              "\n",
              "        transmission_Imputed  drive_Imputed  type_Imputed  paint_color_Imputed  \n",
              "222085                     0              0             0                    0  \n",
              "387654                     0              0             0                    0  "
            ]
          },
          "metadata": {
            "tags": []
          },
          "execution_count": 73
        }
      ]
    },
    {
      "cell_type": "code",
      "metadata": {
        "colab": {
          "base_uri": "https://localhost:8080/"
        },
        "id": "cTd8jJ9TtHC6",
        "outputId": "63b16cd5-74b9-4bf7-d2bf-02d5248bf311"
      },
      "source": [
        "X_train_drop.info()"
      ],
      "execution_count": null,
      "outputs": [
        {
          "output_type": "stream",
          "text": [
            "<class 'pandas.core.frame.DataFrame'>\n",
            "Int64Index: 189435 entries, 222085 to 325202\n",
            "Data columns (total 36 columns):\n",
            " #   Column                Non-Null Count   Dtype  \n",
            "---  ------                --------------   -----  \n",
            " 0   Unnamed: 0            189435 non-null  int64  \n",
            " 1   id                    189435 non-null  int64  \n",
            " 2   odometer_trans        189435 non-null  float64\n",
            " 3   car_age_trans         189435 non-null  float64\n",
            " 4   point_x               189435 non-null  float64\n",
            " 5   point_y               189435 non-null  float64\n",
            " 6   point_z               189435 non-null  float64\n",
            " 7   url                   189435 non-null  object \n",
            " 8   region                189435 non-null  object \n",
            " 9   region_url            189435 non-null  object \n",
            " 10  year                  189435 non-null  object \n",
            " 11  manufacturer          189435 non-null  object \n",
            " 12  model                 189435 non-null  object \n",
            " 13  condition             189435 non-null  object \n",
            " 14  cylinders             189435 non-null  object \n",
            " 15  fuel                  189435 non-null  object \n",
            " 16  title_status          189435 non-null  object \n",
            " 17  transmission          189435 non-null  object \n",
            " 18  VIN                   189435 non-null  object \n",
            " 19  drive                 189435 non-null  object \n",
            " 20  type                  189435 non-null  object \n",
            " 21  paint_color           189435 non-null  object \n",
            " 22  image_url             189435 non-null  object \n",
            " 23  description           189435 non-null  object \n",
            " 24  state                 189435 non-null  object \n",
            " 25  year_Imputed          189435 non-null  int64  \n",
            " 26  manufacturer_Imputed  189435 non-null  int64  \n",
            " 27  model_Imputed         189435 non-null  int64  \n",
            " 28  condition_Imputed     189435 non-null  int64  \n",
            " 29  cylinders_Imputed     189435 non-null  int64  \n",
            " 30  fuel_Imputed          189435 non-null  int64  \n",
            " 31  title_status_Imputed  189435 non-null  int64  \n",
            " 32  transmission_Imputed  189435 non-null  int64  \n",
            " 33  drive_Imputed         189435 non-null  int64  \n",
            " 34  type_Imputed          189435 non-null  int64  \n",
            " 35  paint_color_Imputed   189435 non-null  int64  \n",
            "dtypes: float64(5), int64(13), object(18)\n",
            "memory usage: 53.5+ MB\n"
          ],
          "name": "stdout"
        }
      ]
    },
    {
      "cell_type": "code",
      "metadata": {
        "colab": {
          "base_uri": "https://localhost:8080/",
          "height": 297
        },
        "id": "Kx5mGmdsrZHU",
        "outputId": "f382215b-f7ef-4ff5-9363-84c199b218d1"
      },
      "source": [
        "sns.distplot(y_train_drop)"
      ],
      "execution_count": null,
      "outputs": [
        {
          "output_type": "execute_result",
          "data": {
            "text/plain": [
              "<matplotlib.axes._subplots.AxesSubplot at 0x7f16f789f358>"
            ]
          },
          "metadata": {
            "tags": []
          },
          "execution_count": 75
        },
        {
          "output_type": "display_data",
          "data": {
            "image/png": "[encoded data removed]",
            "text/plain": [
              "<Figure size 432x288 with 1 Axes>"
            ]
          },
          "metadata": {
            "tags": [],
            "needs_background": "light"
          }
        }
      ]
    },
    {
      "cell_type": "code",
      "metadata": {
        "colab": {
          "base_uri": "https://localhost:8080/",
          "height": 404
        },
        "id": "A2NFfvaKr68Q",
        "outputId": "98cc0dca-3e6d-4759-b8ee-faef99fff729"
      },
      "source": [
        "import pylab\r\n",
        "from scipy import stats\r\n",
        "plt.figure(figsize=(12, 6))\r\n",
        "stats.probplot(y_train_drop, plot=pylab)\r\n",
        "pylab.show()"
      ],
      "execution_count": null,
      "outputs": [
        {
          "output_type": "display_data",
          "data": {
            "image/png": "[encoded data removed]",
            "text/plain": [
              "<Figure size 864x432 with 1 Axes>"
            ]
          },
          "metadata": {
            "tags": [],
            "needs_background": "light"
          }
        }
      ]
    },
    {
      "cell_type": "markdown",
      "metadata": {
        "id": "9a78K0wtsGxT"
      },
      "source": [
        "#Catboost"
      ]
    },
    {
      "cell_type": "code",
      "metadata": {
        "id": "nFOYPDRasLMr"
      },
      "source": [
        "#select acategorical features\r\n",
        "cat_indices = np.where(X_train_drop.dtypes != np.float)[0]\r\n",
        "cat_indices"
      ],
      "execution_count": null,
      "outputs": []
    },
    {
      "cell_type": "code",
      "metadata": {
        "id": "0f1ELh8nskXv"
      },
      "source": [
        "from sklearn.model_selection import KFold\r\n",
        "from math import sqrt\r\n",
        "\r\n",
        "\r\n",
        "# Function for training the model and calculating the root mean squared error\r\n",
        "def Training_Validation_Error_Catboost(model,train_data,train_labels,test_data,test_labels):\r\n",
        "    model.fit(train_data,train_labels ,cat_features=cat_indices)\r\n",
        "    \r\n",
        "    predicted = model.predict(test_data)\r\n",
        "    \r\n",
        "    rmse = sqrt(mean_squared_error(test_labels,predicted))\r\n",
        "    \r\n",
        "    print ('rmse = '+str(rmse))\r\n",
        "           \r\n",
        "    return(rmse)"
      ],
      "execution_count": null,
      "outputs": []
    },
    {
      "cell_type": "code",
      "metadata": {
        "id": "Q7gOaX-Ps0tN",
        "colab": {
          "base_uri": "https://localhost:8080/"
        },
        "outputId": "9740d52b-e61f-404c-dbd1-4210afe4c5e5"
      },
      "source": [
        "kf = KFold(n_splits=10)  # Split the training data into 10 folds\r\n",
        "\r\n",
        "from catboost import CatBoostRegressor\r\n",
        "#KFOLD CROSSVAL FOR CATBOOST ALGORITHM\r\n",
        "\r\n",
        "model=CatBoostRegressor(iterations=1500, depth=4, learning_rate=0.03,l2_leaf_reg=10,\r\n",
        "                        loss_function='RMSE', random_state=350, verbose=0)\r\n",
        "rmse_list=[]\r\n",
        "\r\n",
        "for train_index, val_index in kf.split(X_train_drop):\r\n",
        "    X = X_train_drop\r\n",
        "    Y = y_train_drop\r\n",
        "    X_train,X_val=X.iloc[train_index], X.iloc[val_index]\r\n",
        "    Y_train,Y_val=Y.iloc[train_index], Y.iloc[val_index]\r\n",
        "    \r\n",
        "    rmse=Training_Validation_Error_Catboost(model,train_data = X_train,train_labels = Y_train,test_data = X_val,test_labels = Y_val)\r\n",
        "    rmse_list.append(rmse)\r\n",
        "    \r\n",
        "print(\"mean rmse is :\",np.mean(rmse_list))\r\n",
        "print(\"range is :\", max(rmse_list) - min(rmse_list))"
      ],
      "execution_count": null,
      "outputs": [
        {
          "output_type": "stream",
          "text": [
            "rmse = 1.8370422547441967\n",
            "rmse = 1.8484968732586504\n",
            "rmse = 1.8472595444926887\n",
            "rmse = 1.8326859727197395\n",
            "rmse = 1.85622973893134\n",
            "rmse = 1.868207392788394\n",
            "rmse = 1.8397182828422318\n",
            "rmse = 1.8277948730609404\n",
            "rmse = 1.8741924877822014\n",
            "rmse = 1.836413387298402\n",
            "mean rmse is : 1.8468040807918786\n",
            "range is : 0.04639761472126103\n"
          ],
          "name": "stdout"
        }
      ]
    },
    {
      "cell_type": "code",
      "metadata": {
        "colab": {
          "base_uri": "https://localhost:8080/"
        },
        "id": "g5KObFuVYygd",
        "outputId": "3f0ccfec-9dd0-4271-a482-abf0b9179231"
      },
      "source": [
        "import gc\r\n",
        "gc.collect()"
      ],
      "execution_count": null,
      "outputs": [
        {
          "output_type": "execute_result",
          "data": {
            "text/plain": [
              "0"
            ]
          },
          "metadata": {
            "tags": []
          },
          "execution_count": 83
        }
      ]
    },
    {
      "cell_type": "code",
      "metadata": {
        "id": "kI1Eo0uwtQWn"
      },
      "source": [
        "#prediction\r\n",
        "pred = model.predict(X_test_drop)"
      ],
      "execution_count": null,
      "outputs": []
    },
    {
      "cell_type": "code",
      "metadata": {
        "id": "9V6qFDRYtXhw",
        "colab": {
          "base_uri": "https://localhost:8080/"
        },
        "outputId": "26088839-c93c-4075-9f7b-fa79782e76cc"
      },
      "source": [
        "from sklearn.metrics import r2_score\r\n",
        "print(\"R2 training\", model.score(X_train_drop, y_train_drop))\r\n",
        "print(\"R2 test\", model.score(X_test_drop, y_test_drop))\r\n",
        "print(\"R2 prediction\", r2_score(y_test_drop, pred))"
      ],
      "execution_count": null,
      "outputs": [
        {
          "output_type": "stream",
          "text": [
            "R2 training 0.6599043306750111\n",
            "R2 test 0.5758172998143927\n",
            "R2 prediction 0.5758172998143927\n"
          ],
          "name": "stdout"
        }
      ]
    }
  ]
}