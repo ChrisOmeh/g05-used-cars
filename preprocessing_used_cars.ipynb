{
  "nbformat": 4,
  "nbformat_minor": 0,
  "metadata": {
    "colab": {
      "name": "preprocessing-used-cars.ipynb",
      "provenance": [],
      "collapsed_sections": [
        "5hW8I9Ne7JVy",
        "GEDG2Fih90ju",
        "EvuFzFFxbJkV"
      ],
      "toc_visible": true,
      "include_colab_link": true
    },
    "kernelspec": {
      "display_name": "Python 3",
      "language": "python",
      "name": "python3"
    },
    "language_info": {
      "codemirror_mode": {
        "name": "ipython",
        "version": 3
      },
      "file_extension": ".py",
      "mimetype": "text/x-python",
      "name": "python",
      "nbconvert_exporter": "python",
      "pygments_lexer": "ipython3",
      "version": "3.7.6"
    }
  },
  "cells": [
    {
      "cell_type": "markdown",
      "metadata": {
        "id": "view-in-github",
        "colab_type": "text"
      },
      "source": [
        "<a href=\"https://colab.research.google.com/github/olufunmiruth/g05-used-cars/blob/master/preprocessing_used_cars.ipynb\" target=\"_parent\"><img src=\"https://colab.research.google.com/assets/colab-badge.svg\" alt=\"Open In Colab\"/></a>"
      ]
    },
    {
      "cell_type": "code",
      "metadata": {
        "colab": {
          "base_uri": "https://localhost:8080/"
        },
        "id": "1Cb6gzMof23C",
        "outputId": "2b593276-6c39-442a-ba10-c5cd1201cc1b"
      },
      "source": [
        "!pip install kaggle"
      ],
      "execution_count": 16,
      "outputs": [
        {
          "output_type": "stream",
          "text": [
            "Requirement already satisfied: kaggle in /usr/local/lib/python3.6/dist-packages (1.5.10)\n",
            "Requirement already satisfied: python-dateutil in /usr/local/lib/python3.6/dist-packages (from kaggle) (2.8.1)\n",
            "Requirement already satisfied: python-slugify in /usr/local/lib/python3.6/dist-packages (from kaggle) (4.0.1)\n",
            "Requirement already satisfied: certifi in /usr/local/lib/python3.6/dist-packages (from kaggle) (2020.12.5)\n",
            "Requirement already satisfied: urllib3 in /usr/local/lib/python3.6/dist-packages (from kaggle) (1.24.3)\n",
            "Requirement already satisfied: tqdm in /usr/local/lib/python3.6/dist-packages (from kaggle) (4.41.1)\n",
            "Requirement already satisfied: requests in /usr/local/lib/python3.6/dist-packages (from kaggle) (2.23.0)\n",
            "Requirement already satisfied: six>=1.10 in /usr/local/lib/python3.6/dist-packages (from kaggle) (1.15.0)\n",
            "Requirement already satisfied: text-unidecode>=1.3 in /usr/local/lib/python3.6/dist-packages (from python-slugify->kaggle) (1.3)\n",
            "Requirement already satisfied: idna<3,>=2.5 in /usr/local/lib/python3.6/dist-packages (from requests->kaggle) (2.10)\n",
            "Requirement already satisfied: chardet<4,>=3.0.2 in /usr/local/lib/python3.6/dist-packages (from requests->kaggle) (3.0.4)\n"
          ],
          "name": "stdout"
        }
      ]
    },
    {
      "cell_type": "code",
      "metadata": {
        "colab": {
          "base_uri": "https://localhost:8080/"
        },
        "id": "DyopjmGIf2vZ",
        "outputId": "36db5b40-d51b-4f02-e59e-66a20fbb4d3b"
      },
      "source": [
        "import os\r\n",
        "os.environ['KAGGLE_USERNAME'] = \"countessolufunmi\" \r\n",
        "os.environ['KAGGLE_KEY'] = \"da7d7c0b6f0bc05afa5cf56aa66fcb26\" \r\n",
        "!kaggle datasets download -d austinreese/craigslist-carstrucks-data "
      ],
      "execution_count": 17,
      "outputs": [
        {
          "output_type": "stream",
          "text": [
            "craigslist-carstrucks-data.zip: Skipping, found more recently modified local copy (use --force to force download)\n"
          ],
          "name": "stdout"
        }
      ]
    },
    {
      "cell_type": "code",
      "metadata": {
        "colab": {
          "base_uri": "https://localhost:8080/"
        },
        "id": "05-59Tfcf2ke",
        "outputId": "f0a0adaa-93e2-4947-8127-cb8489843762"
      },
      "source": [
        "!unzip /content/craigslist-carstrucks-data.zip"
      ],
      "execution_count": 18,
      "outputs": [
        {
          "output_type": "stream",
          "text": [
            "Archive:  /content/craigslist-carstrucks-data.zip\n",
            "replace vehicles.csv? [y]es, [n]o, [A]ll, [N]one, [r]ename: y\n",
            "  inflating: vehicles.csv            \n"
          ],
          "name": "stdout"
        }
      ]
    },
    {
      "cell_type": "code",
      "metadata": {
        "colab": {
          "base_uri": "https://localhost:8080/"
        },
        "id": "Mq_Uvahwf2fm",
        "outputId": "483eedc1-a17a-42e2-d9d8-49785ed1f6fd"
      },
      "source": [
        "!pip install catboost"
      ],
      "execution_count": 19,
      "outputs": [
        {
          "output_type": "stream",
          "text": [
            "Requirement already satisfied: catboost in /usr/local/lib/python3.6/dist-packages (0.24.3)\n",
            "Requirement already satisfied: pandas>=0.24.0 in /usr/local/lib/python3.6/dist-packages (from catboost) (1.1.5)\n",
            "Requirement already satisfied: matplotlib in /usr/local/lib/python3.6/dist-packages (from catboost) (3.2.2)\n",
            "Requirement already satisfied: graphviz in /usr/local/lib/python3.6/dist-packages (from catboost) (0.10.1)\n",
            "Requirement already satisfied: scipy in /usr/local/lib/python3.6/dist-packages (from catboost) (1.4.1)\n",
            "Requirement already satisfied: plotly in /usr/local/lib/python3.6/dist-packages (from catboost) (4.4.1)\n",
            "Requirement already satisfied: six in /usr/local/lib/python3.6/dist-packages (from catboost) (1.15.0)\n",
            "Requirement already satisfied: numpy>=1.16.0 in /usr/local/lib/python3.6/dist-packages (from catboost) (1.18.5)\n",
            "Requirement already satisfied: pytz>=2017.2 in /usr/local/lib/python3.6/dist-packages (from pandas>=0.24.0->catboost) (2018.9)\n",
            "Requirement already satisfied: python-dateutil>=2.7.3 in /usr/local/lib/python3.6/dist-packages (from pandas>=0.24.0->catboost) (2.8.1)\n",
            "Requirement already satisfied: cycler>=0.10 in /usr/local/lib/python3.6/dist-packages (from matplotlib->catboost) (0.10.0)\n",
            "Requirement already satisfied: kiwisolver>=1.0.1 in /usr/local/lib/python3.6/dist-packages (from matplotlib->catboost) (1.3.1)\n",
            "Requirement already satisfied: pyparsing!=2.0.4,!=2.1.2,!=2.1.6,>=2.0.1 in /usr/local/lib/python3.6/dist-packages (from matplotlib->catboost) (2.4.7)\n",
            "Requirement already satisfied: retrying>=1.3.3 in /usr/local/lib/python3.6/dist-packages (from plotly->catboost) (1.3.3)\n"
          ],
          "name": "stdout"
        }
      ]
    },
    {
      "cell_type": "code",
      "metadata": {
        "colab": {
          "base_uri": "https://localhost:8080/"
        },
        "id": "0McrDzgcf2S5",
        "outputId": "6f4ab2fa-9b70-49c0-8bb8-4811d3a1a4c8"
      },
      "source": [
        "pip install --upgrade category_encoders"
      ],
      "execution_count": 20,
      "outputs": [
        {
          "output_type": "stream",
          "text": [
            "Requirement already up-to-date: category_encoders in /usr/local/lib/python3.6/dist-packages (2.2.2)\n",
            "Requirement already satisfied, skipping upgrade: patsy>=0.5.1 in /usr/local/lib/python3.6/dist-packages (from category_encoders) (0.5.1)\n",
            "Requirement already satisfied, skipping upgrade: scipy>=1.0.0 in /usr/local/lib/python3.6/dist-packages (from category_encoders) (1.4.1)\n",
            "Requirement already satisfied, skipping upgrade: pandas>=0.21.1 in /usr/local/lib/python3.6/dist-packages (from category_encoders) (1.1.5)\n",
            "Requirement already satisfied, skipping upgrade: scikit-learn>=0.20.0 in /usr/local/lib/python3.6/dist-packages (from category_encoders) (0.22.2.post1)\n",
            "Requirement already satisfied, skipping upgrade: statsmodels>=0.9.0 in /usr/local/lib/python3.6/dist-packages (from category_encoders) (0.10.2)\n",
            "Requirement already satisfied, skipping upgrade: numpy>=1.14.0 in /usr/local/lib/python3.6/dist-packages (from category_encoders) (1.18.5)\n",
            "Requirement already satisfied, skipping upgrade: six in /usr/local/lib/python3.6/dist-packages (from patsy>=0.5.1->category_encoders) (1.15.0)\n",
            "Requirement already satisfied, skipping upgrade: pytz>=2017.2 in /usr/local/lib/python3.6/dist-packages (from pandas>=0.21.1->category_encoders) (2018.9)\n",
            "Requirement already satisfied, skipping upgrade: python-dateutil>=2.7.3 in /usr/local/lib/python3.6/dist-packages (from pandas>=0.21.1->category_encoders) (2.8.1)\n",
            "Requirement already satisfied, skipping upgrade: joblib>=0.11 in /usr/local/lib/python3.6/dist-packages (from scikit-learn>=0.20.0->category_encoders) (0.17.0)\n"
          ],
          "name": "stdout"
        }
      ]
    },
    {
      "cell_type": "code",
      "metadata": {
        "id": "A9eyKmqnfwi1"
      },
      "source": [
        "# Loading necessary libraries\n",
        "import pandas as pd\n",
        "pd.set_option('max_columns', None)\n",
        "pd.set_option('max_rows', None)\n",
        "import numpy as np\n",
        "import matplotlib.pyplot as plt\n",
        "import seaborn as sns\n",
        "\n",
        "import catboost\n",
        "import xgboost\n",
        "from sklearn.metrics import mean_squared_error, r2_score\n",
        "from category_encoders.cat_boost import CatBoostEncoder\n",
        "\n",
        "from sklearn.ensemble import RandomForestRegressor\n",
        "\n",
        "import warnings\n",
        "warnings.filterwarnings('ignore')\n",
        "import datetime"
      ],
      "execution_count": 21,
      "outputs": []
    },
    {
      "cell_type": "code",
      "metadata": {
        "colab": {
          "base_uri": "https://localhost:8080/",
          "height": 337
        },
        "id": "PTb0KbaBfwjA",
        "outputId": "72eb8267-e124-482e-8640-13dda0b52686"
      },
      "source": [
        "# load dataset\n",
        "df = pd.read_csv('/content/vehicles.csv')\n",
        "df.head(3)"
      ],
      "execution_count": 22,
      "outputs": [
        {
          "output_type": "execute_result",
          "data": {
            "text/html": [
              "<div>\n",
              "<style scoped>\n",
              "    .dataframe tbody tr th:only-of-type {\n",
              "        vertical-align: middle;\n",
              "    }\n",
              "\n",
              "    .dataframe tbody tr th {\n",
              "        vertical-align: top;\n",
              "    }\n",
              "\n",
              "    .dataframe thead th {\n",
              "        text-align: right;\n",
              "    }\n",
              "</style>\n",
              "<table border=\"1\" class=\"dataframe\">\n",
              "  <thead>\n",
              "    <tr style=\"text-align: right;\">\n",
              "      <th></th>\n",
              "      <th>Unnamed: 0</th>\n",
              "      <th>id</th>\n",
              "      <th>url</th>\n",
              "      <th>region</th>\n",
              "      <th>region_url</th>\n",
              "      <th>price</th>\n",
              "      <th>year</th>\n",
              "      <th>manufacturer</th>\n",
              "      <th>model</th>\n",
              "      <th>condition</th>\n",
              "      <th>cylinders</th>\n",
              "      <th>fuel</th>\n",
              "      <th>odometer</th>\n",
              "      <th>title_status</th>\n",
              "      <th>transmission</th>\n",
              "      <th>VIN</th>\n",
              "      <th>drive</th>\n",
              "      <th>size</th>\n",
              "      <th>type</th>\n",
              "      <th>paint_color</th>\n",
              "      <th>image_url</th>\n",
              "      <th>description</th>\n",
              "      <th>state</th>\n",
              "      <th>lat</th>\n",
              "      <th>long</th>\n",
              "      <th>posting_date</th>\n",
              "    </tr>\n",
              "  </thead>\n",
              "  <tbody>\n",
              "    <tr>\n",
              "      <th>0</th>\n",
              "      <td>0</td>\n",
              "      <td>7240372487</td>\n",
              "      <td>https://auburn.craigslist.org/ctd/d/auburn-uni...</td>\n",
              "      <td>auburn</td>\n",
              "      <td>https://auburn.craigslist.org</td>\n",
              "      <td>35990</td>\n",
              "      <td>2010.0</td>\n",
              "      <td>chevrolet</td>\n",
              "      <td>corvette grand sport</td>\n",
              "      <td>good</td>\n",
              "      <td>8 cylinders</td>\n",
              "      <td>gas</td>\n",
              "      <td>32742.0</td>\n",
              "      <td>clean</td>\n",
              "      <td>other</td>\n",
              "      <td>1G1YU3DW1A5106980</td>\n",
              "      <td>rwd</td>\n",
              "      <td>NaN</td>\n",
              "      <td>other</td>\n",
              "      <td>NaN</td>\n",
              "      <td>https://images.craigslist.org/00N0N_ipkbHVZYf4...</td>\n",
              "      <td>Carvana is the safer way to buy a car During t...</td>\n",
              "      <td>al</td>\n",
              "      <td>32.590000</td>\n",
              "      <td>-85.480000</td>\n",
              "      <td>2020-12-02T08:11:30-0600</td>\n",
              "    </tr>\n",
              "    <tr>\n",
              "      <th>1</th>\n",
              "      <td>1</td>\n",
              "      <td>7240309422</td>\n",
              "      <td>https://auburn.craigslist.org/cto/d/auburn-201...</td>\n",
              "      <td>auburn</td>\n",
              "      <td>https://auburn.craigslist.org</td>\n",
              "      <td>7500</td>\n",
              "      <td>2014.0</td>\n",
              "      <td>hyundai</td>\n",
              "      <td>sonata</td>\n",
              "      <td>excellent</td>\n",
              "      <td>4 cylinders</td>\n",
              "      <td>gas</td>\n",
              "      <td>93600.0</td>\n",
              "      <td>clean</td>\n",
              "      <td>automatic</td>\n",
              "      <td>5NPEC4AB0EH813529</td>\n",
              "      <td>fwd</td>\n",
              "      <td>NaN</td>\n",
              "      <td>sedan</td>\n",
              "      <td>NaN</td>\n",
              "      <td>https://images.craigslist.org/00s0s_gBHYmJ5o7y...</td>\n",
              "      <td>I'll move to another city and try to sell my c...</td>\n",
              "      <td>al</td>\n",
              "      <td>32.547500</td>\n",
              "      <td>-85.468200</td>\n",
              "      <td>2020-12-02T02:11:50-0600</td>\n",
              "    </tr>\n",
              "    <tr>\n",
              "      <th>2</th>\n",
              "      <td>2</td>\n",
              "      <td>7240224296</td>\n",
              "      <td>https://auburn.craigslist.org/cto/d/auburn-200...</td>\n",
              "      <td>auburn</td>\n",
              "      <td>https://auburn.craigslist.org</td>\n",
              "      <td>4900</td>\n",
              "      <td>2006.0</td>\n",
              "      <td>bmw</td>\n",
              "      <td>x3 3.0i</td>\n",
              "      <td>good</td>\n",
              "      <td>6 cylinders</td>\n",
              "      <td>gas</td>\n",
              "      <td>87046.0</td>\n",
              "      <td>clean</td>\n",
              "      <td>automatic</td>\n",
              "      <td>NaN</td>\n",
              "      <td>NaN</td>\n",
              "      <td>NaN</td>\n",
              "      <td>SUV</td>\n",
              "      <td>blue</td>\n",
              "      <td>https://images.craigslist.org/00B0B_5zgEGWPOrt...</td>\n",
              "      <td>Clean 2006 BMW X3 3.0I.  Beautiful and rare Bl...</td>\n",
              "      <td>al</td>\n",
              "      <td>32.616807</td>\n",
              "      <td>-85.464149</td>\n",
              "      <td>2020-12-01T19:50:41-0600</td>\n",
              "    </tr>\n",
              "  </tbody>\n",
              "</table>\n",
              "</div>"
            ],
            "text/plain": [
              "   Unnamed: 0          id                                                url  \\\n",
              "0           0  7240372487  https://auburn.craigslist.org/ctd/d/auburn-uni...   \n",
              "1           1  7240309422  https://auburn.craigslist.org/cto/d/auburn-201...   \n",
              "2           2  7240224296  https://auburn.craigslist.org/cto/d/auburn-200...   \n",
              "\n",
              "   region                     region_url  price    year manufacturer  \\\n",
              "0  auburn  https://auburn.craigslist.org  35990  2010.0    chevrolet   \n",
              "1  auburn  https://auburn.craigslist.org   7500  2014.0      hyundai   \n",
              "2  auburn  https://auburn.craigslist.org   4900  2006.0          bmw   \n",
              "\n",
              "                  model  condition    cylinders fuel  odometer title_status  \\\n",
              "0  corvette grand sport       good  8 cylinders  gas   32742.0        clean   \n",
              "1                sonata  excellent  4 cylinders  gas   93600.0        clean   \n",
              "2               x3 3.0i       good  6 cylinders  gas   87046.0        clean   \n",
              "\n",
              "  transmission                VIN drive size   type paint_color  \\\n",
              "0        other  1G1YU3DW1A5106980   rwd  NaN  other         NaN   \n",
              "1    automatic  5NPEC4AB0EH813529   fwd  NaN  sedan         NaN   \n",
              "2    automatic                NaN   NaN  NaN    SUV        blue   \n",
              "\n",
              "                                           image_url  \\\n",
              "0  https://images.craigslist.org/00N0N_ipkbHVZYf4...   \n",
              "1  https://images.craigslist.org/00s0s_gBHYmJ5o7y...   \n",
              "2  https://images.craigslist.org/00B0B_5zgEGWPOrt...   \n",
              "\n",
              "                                         description state        lat  \\\n",
              "0  Carvana is the safer way to buy a car During t...    al  32.590000   \n",
              "1  I'll move to another city and try to sell my c...    al  32.547500   \n",
              "2  Clean 2006 BMW X3 3.0I.  Beautiful and rare Bl...    al  32.616807   \n",
              "\n",
              "        long              posting_date  \n",
              "0 -85.480000  2020-12-02T08:11:30-0600  \n",
              "1 -85.468200  2020-12-02T02:11:50-0600  \n",
              "2 -85.464149  2020-12-01T19:50:41-0600  "
            ]
          },
          "metadata": {
            "tags": []
          },
          "execution_count": 22
        }
      ]
    },
    {
      "cell_type": "code",
      "metadata": {
        "colab": {
          "base_uri": "https://localhost:8080/"
        },
        "id": "bBtUxluVq2Re",
        "outputId": "2ae5d749-5998-4432-e707-7e677b635f21"
      },
      "source": [
        "df.shape"
      ],
      "execution_count": 23,
      "outputs": [
        {
          "output_type": "execute_result",
          "data": {
            "text/plain": [
              "(458213, 26)"
            ]
          },
          "metadata": {
            "tags": []
          },
          "execution_count": 23
        }
      ]
    },
    {
      "cell_type": "code",
      "metadata": {
        "id": "gDl658UUrVTH"
      },
      "source": [
        "#drop irrelevant columns\r\n",
        "df = df.drop(['Unnamed: 0','id','url','region_url','VIN','image_url','description'],axis = 1)"
      ],
      "execution_count": 24,
      "outputs": []
    },
    {
      "cell_type": "code",
      "metadata": {
        "colab": {
          "base_uri": "https://localhost:8080/"
        },
        "id": "qPEEL5oxsmXJ",
        "outputId": "1bd2aa62-5e1a-4cab-cbe3-e260da7570fb"
      },
      "source": [
        "#check the shape after dropping columns\r\n",
        "df.shape"
      ],
      "execution_count": 25,
      "outputs": [
        {
          "output_type": "execute_result",
          "data": {
            "text/plain": [
              "(458213, 19)"
            ]
          },
          "metadata": {
            "tags": []
          },
          "execution_count": 25
        }
      ]
    },
    {
      "cell_type": "code",
      "metadata": {
        "colab": {
          "base_uri": "https://localhost:8080/"
        },
        "id": "Hp8VlASpfwjK",
        "outputId": "6bb35693-d4f7-4901-f25a-75ee0480610e"
      },
      "source": [
        "# free up memory space\n",
        "import gc\n",
        "gc.collect()"
      ],
      "execution_count": 26,
      "outputs": [
        {
          "output_type": "execute_result",
          "data": {
            "text/plain": [
              "0"
            ]
          },
          "metadata": {
            "tags": []
          },
          "execution_count": 26
        }
      ]
    },
    {
      "cell_type": "code",
      "metadata": {
        "id": "ehkQbOQQfwjN"
      },
      "source": [
        "# add new column 'car_age'\n",
        "current_time = datetime.datetime.now()\n",
        "df['car_age'] = current_time.year - df['year']"
      ],
      "execution_count": 27,
      "outputs": []
    },
    {
      "cell_type": "code",
      "metadata": {
        "id": "iZWMBu4JfwjP"
      },
      "source": [
        "\n",
        "# Change the datatype of the year\n",
        "df['year'] = df['year'].astype('str')"
      ],
      "execution_count": 28,
      "outputs": []
    },
    {
      "cell_type": "code",
      "metadata": {
        "colab": {
          "base_uri": "https://localhost:8080/",
          "height": 167
        },
        "id": "GekRxBQFfwjS",
        "outputId": "54836ac3-ced8-4a99-9d53-01f38bae1b8b"
      },
      "source": [
        "# Split the dataset based on data type for easier preprocessing\n",
        "num = df.select_dtypes(include=['int64', 'float64'])\n",
        "cat = df.select_dtypes(include=['object'])\n",
        "cat.head(2)"
      ],
      "execution_count": 29,
      "outputs": [
        {
          "output_type": "execute_result",
          "data": {
            "text/html": [
              "<div>\n",
              "<style scoped>\n",
              "    .dataframe tbody tr th:only-of-type {\n",
              "        vertical-align: middle;\n",
              "    }\n",
              "\n",
              "    .dataframe tbody tr th {\n",
              "        vertical-align: top;\n",
              "    }\n",
              "\n",
              "    .dataframe thead th {\n",
              "        text-align: right;\n",
              "    }\n",
              "</style>\n",
              "<table border=\"1\" class=\"dataframe\">\n",
              "  <thead>\n",
              "    <tr style=\"text-align: right;\">\n",
              "      <th></th>\n",
              "      <th>region</th>\n",
              "      <th>year</th>\n",
              "      <th>manufacturer</th>\n",
              "      <th>model</th>\n",
              "      <th>condition</th>\n",
              "      <th>cylinders</th>\n",
              "      <th>fuel</th>\n",
              "      <th>title_status</th>\n",
              "      <th>transmission</th>\n",
              "      <th>drive</th>\n",
              "      <th>size</th>\n",
              "      <th>type</th>\n",
              "      <th>paint_color</th>\n",
              "      <th>state</th>\n",
              "      <th>posting_date</th>\n",
              "    </tr>\n",
              "  </thead>\n",
              "  <tbody>\n",
              "    <tr>\n",
              "      <th>0</th>\n",
              "      <td>auburn</td>\n",
              "      <td>2010.0</td>\n",
              "      <td>chevrolet</td>\n",
              "      <td>corvette grand sport</td>\n",
              "      <td>good</td>\n",
              "      <td>8 cylinders</td>\n",
              "      <td>gas</td>\n",
              "      <td>clean</td>\n",
              "      <td>other</td>\n",
              "      <td>rwd</td>\n",
              "      <td>NaN</td>\n",
              "      <td>other</td>\n",
              "      <td>NaN</td>\n",
              "      <td>al</td>\n",
              "      <td>2020-12-02T08:11:30-0600</td>\n",
              "    </tr>\n",
              "    <tr>\n",
              "      <th>1</th>\n",
              "      <td>auburn</td>\n",
              "      <td>2014.0</td>\n",
              "      <td>hyundai</td>\n",
              "      <td>sonata</td>\n",
              "      <td>excellent</td>\n",
              "      <td>4 cylinders</td>\n",
              "      <td>gas</td>\n",
              "      <td>clean</td>\n",
              "      <td>automatic</td>\n",
              "      <td>fwd</td>\n",
              "      <td>NaN</td>\n",
              "      <td>sedan</td>\n",
              "      <td>NaN</td>\n",
              "      <td>al</td>\n",
              "      <td>2020-12-02T02:11:50-0600</td>\n",
              "    </tr>\n",
              "  </tbody>\n",
              "</table>\n",
              "</div>"
            ],
            "text/plain": [
              "   region    year manufacturer                 model  condition    cylinders  \\\n",
              "0  auburn  2010.0    chevrolet  corvette grand sport       good  8 cylinders   \n",
              "1  auburn  2014.0      hyundai                sonata  excellent  4 cylinders   \n",
              "\n",
              "  fuel title_status transmission drive size   type paint_color state  \\\n",
              "0  gas        clean        other   rwd  NaN  other         NaN    al   \n",
              "1  gas        clean    automatic   fwd  NaN  sedan         NaN    al   \n",
              "\n",
              "               posting_date  \n",
              "0  2020-12-02T08:11:30-0600  \n",
              "1  2020-12-02T02:11:50-0600  "
            ]
          },
          "metadata": {
            "tags": []
          },
          "execution_count": 29
        }
      ]
    },
    {
      "cell_type": "code",
      "metadata": {
        "colab": {
          "base_uri": "https://localhost:8080/"
        },
        "id": "sMpsKBvmfwjT",
        "outputId": "db633b87-889a-4b6b-fe99-a26561f95d5b"
      },
      "source": [
        "# categorical features info\n",
        "cat.info()"
      ],
      "execution_count": 30,
      "outputs": [
        {
          "output_type": "stream",
          "text": [
            "<class 'pandas.core.frame.DataFrame'>\n",
            "RangeIndex: 458213 entries, 0 to 458212\n",
            "Data columns (total 15 columns):\n",
            " #   Column        Non-Null Count   Dtype \n",
            "---  ------        --------------   ----- \n",
            " 0   region        458213 non-null  object\n",
            " 1   year          458213 non-null  object\n",
            " 2   manufacturer  439993 non-null  object\n",
            " 3   model         453367 non-null  object\n",
            " 4   condition     265273 non-null  object\n",
            " 5   cylinders     287073 non-null  object\n",
            " 6   fuel          454976 non-null  object\n",
            " 7   title_status  455636 non-null  object\n",
            " 8   transmission  455771 non-null  object\n",
            " 9   drive         324025 non-null  object\n",
            " 10  size          136865 non-null  object\n",
            " 11  type          345475 non-null  object\n",
            " 12  paint_color   317370 non-null  object\n",
            " 13  state         458213 non-null  object\n",
            " 14  posting_date  458185 non-null  object\n",
            "dtypes: object(15)\n",
            "memory usage: 52.4+ MB\n"
          ],
          "name": "stdout"
        }
      ]
    },
    {
      "cell_type": "code",
      "metadata": {
        "colab": {
          "base_uri": "https://localhost:8080/"
        },
        "id": "-moPh30GfwjV",
        "outputId": "31f60b76-e2b8-4e57-a8d9-e42eb24944b1"
      },
      "source": [
        "# Check for missing values in the categorical features\n",
        "cat.isnull().sum()"
      ],
      "execution_count": 31,
      "outputs": [
        {
          "output_type": "execute_result",
          "data": {
            "text/plain": [
              "region               0\n",
              "year                 0\n",
              "manufacturer     18220\n",
              "model             4846\n",
              "condition       192940\n",
              "cylinders       171140\n",
              "fuel              3237\n",
              "title_status      2577\n",
              "transmission      2442\n",
              "drive           134188\n",
              "size            321348\n",
              "type            112738\n",
              "paint_color     140843\n",
              "state                0\n",
              "posting_date        28\n",
              "dtype: int64"
            ]
          },
          "metadata": {
            "tags": []
          },
          "execution_count": 31
        }
      ]
    },
    {
      "cell_type": "code",
      "metadata": {
        "colab": {
          "base_uri": "https://localhost:8080/"
        },
        "id": "00qgkG1-fwjX",
        "outputId": "8f8cfb99-dd48-4ae7-dcd8-9ea8f7d611a3"
      },
      "source": [
        "# Check for missing values within the numerical features\n",
        "num.isnull().sum()"
      ],
      "execution_count": 32,
      "outputs": [
        {
          "output_type": "execute_result",
          "data": {
            "text/plain": [
              "price           0\n",
              "odometer    55303\n",
              "lat          7448\n",
              "long         7448\n",
              "car_age      1050\n",
              "dtype: int64"
            ]
          },
          "metadata": {
            "tags": []
          },
          "execution_count": 32
        }
      ]
    },
    {
      "cell_type": "code",
      "metadata": {
        "id": "ZWKgDhi6fwjd"
      },
      "source": [
        "# Fill missing values for longitude and latitude with zero\n",
        "\n",
        "num['lat'] = num['lat'].fillna(0)\n",
        "\n",
        "num['long'] = num['long'].fillna(0)"
      ],
      "execution_count": 33,
      "outputs": []
    },
    {
      "cell_type": "code",
      "metadata": {
        "id": "0DFKIvtofwjh"
      },
      "source": [
        "# Import and instantiate the KNNImputer\n",
        "from sklearn.impute import KNNImputer\n",
        "\n",
        "num_imp = KNNImputer()"
      ],
      "execution_count": 34,
      "outputs": []
    },
    {
      "cell_type": "code",
      "metadata": {
        "colab": {
          "base_uri": "https://localhost:8080/",
          "height": 112
        },
        "id": "f4cdwPAmfwji",
        "outputId": "3af907b5-d311-41f1-f51a-2cff3e97721d"
      },
      "source": [
        "#check head\n",
        "num.head(2)"
      ],
      "execution_count": 35,
      "outputs": [
        {
          "output_type": "execute_result",
          "data": {
            "text/html": [
              "<div>\n",
              "<style scoped>\n",
              "    .dataframe tbody tr th:only-of-type {\n",
              "        vertical-align: middle;\n",
              "    }\n",
              "\n",
              "    .dataframe tbody tr th {\n",
              "        vertical-align: top;\n",
              "    }\n",
              "\n",
              "    .dataframe thead th {\n",
              "        text-align: right;\n",
              "    }\n",
              "</style>\n",
              "<table border=\"1\" class=\"dataframe\">\n",
              "  <thead>\n",
              "    <tr style=\"text-align: right;\">\n",
              "      <th></th>\n",
              "      <th>price</th>\n",
              "      <th>odometer</th>\n",
              "      <th>lat</th>\n",
              "      <th>long</th>\n",
              "      <th>car_age</th>\n",
              "    </tr>\n",
              "  </thead>\n",
              "  <tbody>\n",
              "    <tr>\n",
              "      <th>0</th>\n",
              "      <td>35990</td>\n",
              "      <td>32742.0</td>\n",
              "      <td>32.5900</td>\n",
              "      <td>-85.4800</td>\n",
              "      <td>10.0</td>\n",
              "    </tr>\n",
              "    <tr>\n",
              "      <th>1</th>\n",
              "      <td>7500</td>\n",
              "      <td>93600.0</td>\n",
              "      <td>32.5475</td>\n",
              "      <td>-85.4682</td>\n",
              "      <td>6.0</td>\n",
              "    </tr>\n",
              "  </tbody>\n",
              "</table>\n",
              "</div>"
            ],
            "text/plain": [
              "   price  odometer      lat     long  car_age\n",
              "0  35990   32742.0  32.5900 -85.4800     10.0\n",
              "1   7500   93600.0  32.5475 -85.4682      6.0"
            ]
          },
          "metadata": {
            "tags": []
          },
          "execution_count": 35
        }
      ]
    },
    {
      "cell_type": "code",
      "metadata": {
        "id": "dKSDFDpbfwji"
      },
      "source": [
        "# Impute missing values for the odometer feature\n",
        "num['odometer_trans'] = num_imp.fit_transform(num[['odometer']])"
      ],
      "execution_count": 36,
      "outputs": []
    },
    {
      "cell_type": "code",
      "metadata": {
        "id": "PiCY0CWZfwjj"
      },
      "source": [
        "# Impute missing values for the car_age feature\n",
        "num['car_age_trans'] = num_imp.fit_transform(num[['car_age']])"
      ],
      "execution_count": 37,
      "outputs": []
    },
    {
      "cell_type": "code",
      "metadata": {
        "id": "M1ABfUxqfwjm"
      },
      "source": [
        "# Create 3 dimensional coordinates from latitude and longitude features\n",
        "\n",
        "num['point_x'] = np.cos(num['lat']) * np.cos(num['long'])\n",
        "num['point_y'] =np.cos(num['lat']) * np.sin(num['long'])\n",
        "num['point_z'] = np.sin(num['lat'])"
      ],
      "execution_count": 38,
      "outputs": []
    },
    {
      "cell_type": "code",
      "metadata": {
        "colab": {
          "base_uri": "https://localhost:8080/",
          "height": 112
        },
        "id": "kVCkpGHVfwjn",
        "outputId": "24188c03-599c-43a5-8362-711ae0ca2674"
      },
      "source": [
        "#check top 2 rows\n",
        "num.head(2)"
      ],
      "execution_count": 39,
      "outputs": [
        {
          "output_type": "execute_result",
          "data": {
            "text/html": [
              "<div>\n",
              "<style scoped>\n",
              "    .dataframe tbody tr th:only-of-type {\n",
              "        vertical-align: middle;\n",
              "    }\n",
              "\n",
              "    .dataframe tbody tr th {\n",
              "        vertical-align: top;\n",
              "    }\n",
              "\n",
              "    .dataframe thead th {\n",
              "        text-align: right;\n",
              "    }\n",
              "</style>\n",
              "<table border=\"1\" class=\"dataframe\">\n",
              "  <thead>\n",
              "    <tr style=\"text-align: right;\">\n",
              "      <th></th>\n",
              "      <th>price</th>\n",
              "      <th>odometer</th>\n",
              "      <th>lat</th>\n",
              "      <th>long</th>\n",
              "      <th>car_age</th>\n",
              "      <th>odometer_trans</th>\n",
              "      <th>car_age_trans</th>\n",
              "      <th>point_x</th>\n",
              "      <th>point_y</th>\n",
              "      <th>point_z</th>\n",
              "    </tr>\n",
              "  </thead>\n",
              "  <tbody>\n",
              "    <tr>\n",
              "      <th>0</th>\n",
              "      <td>35990</td>\n",
              "      <td>32742.0</td>\n",
              "      <td>32.5900</td>\n",
              "      <td>-85.4800</td>\n",
              "      <td>10.0</td>\n",
              "      <td>32742.0</td>\n",
              "      <td>10.0</td>\n",
              "      <td>-0.305961</td>\n",
              "      <td>0.235990</td>\n",
              "      <td>0.922332</td>\n",
              "    </tr>\n",
              "    <tr>\n",
              "      <th>1</th>\n",
              "      <td>7500</td>\n",
              "      <td>93600.0</td>\n",
              "      <td>32.5475</td>\n",
              "      <td>-85.4682</td>\n",
              "      <td>6.0</td>\n",
              "      <td>93600.0</td>\n",
              "      <td>6.0</td>\n",
              "      <td>-0.339755</td>\n",
              "      <td>0.255719</td>\n",
              "      <td>0.905082</td>\n",
              "    </tr>\n",
              "  </tbody>\n",
              "</table>\n",
              "</div>"
            ],
            "text/plain": [
              "   price  odometer      lat     long  car_age  odometer_trans  car_age_trans  \\\n",
              "0  35990   32742.0  32.5900 -85.4800     10.0         32742.0           10.0   \n",
              "1   7500   93600.0  32.5475 -85.4682      6.0         93600.0            6.0   \n",
              "\n",
              "    point_x   point_y   point_z  \n",
              "0 -0.305961  0.235990  0.922332  \n",
              "1 -0.339755  0.255719  0.905082  "
            ]
          },
          "metadata": {
            "tags": []
          },
          "execution_count": 39
        }
      ]
    },
    {
      "cell_type": "code",
      "metadata": {
        "id": "eNgdxWhUfwjo"
      },
      "source": [
        "# Create a list of the original numerical features\n",
        "num_col = ['odometer', 'lat', 'long']"
      ],
      "execution_count": 40,
      "outputs": []
    },
    {
      "cell_type": "code",
      "metadata": {
        "id": "rNkZy739fwjo"
      },
      "source": [
        "# create a function to impute the missing values for categorical features\n",
        "\n",
        "def impute_nan_add_vairable(DataFrame,ColName):\n",
        "    #1. add new column and replace if category is null then 1 else 0\n",
        "    DataFrame[ColName+\"_Imputed\"] =   np.where(DataFrame[ColName].isnull(),1,0)\n",
        "    \n",
        "    # 2. Take most occured category in that variable (.mode())\n",
        "    \n",
        "    Mode_Category = DataFrame[ColName].mode()[0]\n",
        "    \n",
        "    # 2.1 Replace NAN values with most occured category in actual vairable\n",
        "    \n",
        "    DataFrame[ColName].fillna(Mode_Category,inplace=True)\n"
      ],
      "execution_count": 41,
      "outputs": []
    },
    {
      "cell_type": "code",
      "metadata": {
        "colab": {
          "base_uri": "https://localhost:8080/"
        },
        "id": "XG4216FFfwjs",
        "outputId": "c8498a9b-6476-423d-c789-12858785cad8"
      },
      "source": [
        "#check columns\n",
        "cat.columns"
      ],
      "execution_count": 42,
      "outputs": [
        {
          "output_type": "execute_result",
          "data": {
            "text/plain": [
              "Index(['region', 'year', 'manufacturer', 'model', 'condition', 'cylinders',\n",
              "       'fuel', 'title_status', 'transmission', 'drive', 'size', 'type',\n",
              "       'paint_color', 'state', 'posting_date'],\n",
              "      dtype='object')"
            ]
          },
          "metadata": {
            "tags": []
          },
          "execution_count": 42
        }
      ]
    },
    {
      "cell_type": "code",
      "metadata": {
        "colab": {
          "base_uri": "https://localhost:8080/"
        },
        "id": "PncH0XdWfwju",
        "outputId": "2b3f9812-724b-49cf-e0ef-dadd49791c46"
      },
      "source": [
        "(cat['size'].isnull().sum()/cat.shape[0]) * 100"
      ],
      "execution_count": 43,
      "outputs": [
        {
          "output_type": "execute_result",
          "data": {
            "text/plain": [
              "70.13070340649435"
            ]
          },
          "metadata": {
            "tags": []
          },
          "execution_count": 43
        }
      ]
    },
    {
      "cell_type": "code",
      "metadata": {
        "colab": {
          "base_uri": "https://localhost:8080/"
        },
        "id": "vQIDL8oBfwjw",
        "outputId": "ec27e271-e26d-4aa0-98dd-27b8b0ff1a6b"
      },
      "source": [
        "#check for missing values in the region column\n",
        "cat.region.isnull().sum()"
      ],
      "execution_count": 44,
      "outputs": [
        {
          "output_type": "execute_result",
          "data": {
            "text/plain": [
              "0"
            ]
          },
          "metadata": {
            "tags": []
          },
          "execution_count": 44
        }
      ]
    },
    {
      "cell_type": "code",
      "metadata": {
        "id": "WrGLEuiPfwjx"
      },
      "source": [
        "# Drop size column because of the volume of missing values\n",
        "#Drop posting_date column due to irrelevance\n",
        "\n",
        "cat = cat.drop(['size', 'posting_date'], axis=1)"
      ],
      "execution_count": 45,
      "outputs": []
    },
    {
      "cell_type": "code",
      "metadata": {
        "id": "kcZ5WN9ffwjy"
      },
      "source": [
        "# Call function to impute NAN values and add new importance feature\n",
        "colls = ['year', 'manufacturer', 'model', 'condition', 'cylinders','fuel',\n",
        "         'title_status', 'transmission', 'drive', 'type', 'paint_color']\n",
        "\n",
        "for Columns in colls:\n",
        "    impute_nan_add_vairable(cat,Columns)"
      ],
      "execution_count": 46,
      "outputs": []
    },
    {
      "cell_type": "code",
      "metadata": {
        "colab": {
          "base_uri": "https://localhost:8080/"
        },
        "id": "S33fTJG3fwjy",
        "outputId": "b1c45722-504e-49d6-e878-57690601ab99"
      },
      "source": [
        "gc.collect()"
      ],
      "execution_count": 47,
      "outputs": [
        {
          "output_type": "execute_result",
          "data": {
            "text/plain": [
              "316"
            ]
          },
          "metadata": {
            "tags": []
          },
          "execution_count": 47
        }
      ]
    },
    {
      "cell_type": "code",
      "metadata": {
        "colab": {
          "base_uri": "https://localhost:8080/",
          "height": 167
        },
        "id": "pXRNQbk-fwj0",
        "outputId": "dee55c59-5fc6-4371-e321-1aed53ca8542"
      },
      "source": [
        "cat.head(2)"
      ],
      "execution_count": 48,
      "outputs": [
        {
          "output_type": "execute_result",
          "data": {
            "text/html": [
              "<div>\n",
              "<style scoped>\n",
              "    .dataframe tbody tr th:only-of-type {\n",
              "        vertical-align: middle;\n",
              "    }\n",
              "\n",
              "    .dataframe tbody tr th {\n",
              "        vertical-align: top;\n",
              "    }\n",
              "\n",
              "    .dataframe thead th {\n",
              "        text-align: right;\n",
              "    }\n",
              "</style>\n",
              "<table border=\"1\" class=\"dataframe\">\n",
              "  <thead>\n",
              "    <tr style=\"text-align: right;\">\n",
              "      <th></th>\n",
              "      <th>region</th>\n",
              "      <th>year</th>\n",
              "      <th>manufacturer</th>\n",
              "      <th>model</th>\n",
              "      <th>condition</th>\n",
              "      <th>cylinders</th>\n",
              "      <th>fuel</th>\n",
              "      <th>title_status</th>\n",
              "      <th>transmission</th>\n",
              "      <th>drive</th>\n",
              "      <th>type</th>\n",
              "      <th>paint_color</th>\n",
              "      <th>state</th>\n",
              "      <th>year_Imputed</th>\n",
              "      <th>manufacturer_Imputed</th>\n",
              "      <th>model_Imputed</th>\n",
              "      <th>condition_Imputed</th>\n",
              "      <th>cylinders_Imputed</th>\n",
              "      <th>fuel_Imputed</th>\n",
              "      <th>title_status_Imputed</th>\n",
              "      <th>transmission_Imputed</th>\n",
              "      <th>drive_Imputed</th>\n",
              "      <th>type_Imputed</th>\n",
              "      <th>paint_color_Imputed</th>\n",
              "    </tr>\n",
              "  </thead>\n",
              "  <tbody>\n",
              "    <tr>\n",
              "      <th>0</th>\n",
              "      <td>auburn</td>\n",
              "      <td>2010.0</td>\n",
              "      <td>chevrolet</td>\n",
              "      <td>corvette grand sport</td>\n",
              "      <td>good</td>\n",
              "      <td>8 cylinders</td>\n",
              "      <td>gas</td>\n",
              "      <td>clean</td>\n",
              "      <td>other</td>\n",
              "      <td>rwd</td>\n",
              "      <td>other</td>\n",
              "      <td>white</td>\n",
              "      <td>al</td>\n",
              "      <td>0</td>\n",
              "      <td>0</td>\n",
              "      <td>0</td>\n",
              "      <td>0</td>\n",
              "      <td>0</td>\n",
              "      <td>0</td>\n",
              "      <td>0</td>\n",
              "      <td>0</td>\n",
              "      <td>0</td>\n",
              "      <td>0</td>\n",
              "      <td>1</td>\n",
              "    </tr>\n",
              "    <tr>\n",
              "      <th>1</th>\n",
              "      <td>auburn</td>\n",
              "      <td>2014.0</td>\n",
              "      <td>hyundai</td>\n",
              "      <td>sonata</td>\n",
              "      <td>excellent</td>\n",
              "      <td>4 cylinders</td>\n",
              "      <td>gas</td>\n",
              "      <td>clean</td>\n",
              "      <td>automatic</td>\n",
              "      <td>fwd</td>\n",
              "      <td>sedan</td>\n",
              "      <td>white</td>\n",
              "      <td>al</td>\n",
              "      <td>0</td>\n",
              "      <td>0</td>\n",
              "      <td>0</td>\n",
              "      <td>0</td>\n",
              "      <td>0</td>\n",
              "      <td>0</td>\n",
              "      <td>0</td>\n",
              "      <td>0</td>\n",
              "      <td>0</td>\n",
              "      <td>0</td>\n",
              "      <td>1</td>\n",
              "    </tr>\n",
              "  </tbody>\n",
              "</table>\n",
              "</div>"
            ],
            "text/plain": [
              "   region    year manufacturer                 model  condition    cylinders  \\\n",
              "0  auburn  2010.0    chevrolet  corvette grand sport       good  8 cylinders   \n",
              "1  auburn  2014.0      hyundai                sonata  excellent  4 cylinders   \n",
              "\n",
              "  fuel title_status transmission drive   type paint_color state  year_Imputed  \\\n",
              "0  gas        clean        other   rwd  other       white    al             0   \n",
              "1  gas        clean    automatic   fwd  sedan       white    al             0   \n",
              "\n",
              "   manufacturer_Imputed  model_Imputed  condition_Imputed  cylinders_Imputed  \\\n",
              "0                     0              0                  0                  0   \n",
              "1                     0              0                  0                  0   \n",
              "\n",
              "   fuel_Imputed  title_status_Imputed  transmission_Imputed  drive_Imputed  \\\n",
              "0             0                     0                     0              0   \n",
              "1             0                     0                     0              0   \n",
              "\n",
              "   type_Imputed  paint_color_Imputed  \n",
              "0             0                    1  \n",
              "1             0                    1  "
            ]
          },
          "metadata": {
            "tags": []
          },
          "execution_count": 48
        }
      ]
    },
    {
      "cell_type": "code",
      "metadata": {
        "id": "5NAtdXFVfwj1"
      },
      "source": [
        "# Drop the original numerical features\n",
        "num_main = num.drop(num_col, axis=1)"
      ],
      "execution_count": 49,
      "outputs": []
    },
    {
      "cell_type": "code",
      "metadata": {
        "colab": {
          "base_uri": "https://localhost:8080/",
          "height": 112
        },
        "id": "CoJYFn73fwj2",
        "outputId": "eff1b330-d25c-4293-d06f-1ca702441926"
      },
      "source": [
        "num_main.head(2)"
      ],
      "execution_count": 50,
      "outputs": [
        {
          "output_type": "execute_result",
          "data": {
            "text/html": [
              "<div>\n",
              "<style scoped>\n",
              "    .dataframe tbody tr th:only-of-type {\n",
              "        vertical-align: middle;\n",
              "    }\n",
              "\n",
              "    .dataframe tbody tr th {\n",
              "        vertical-align: top;\n",
              "    }\n",
              "\n",
              "    .dataframe thead th {\n",
              "        text-align: right;\n",
              "    }\n",
              "</style>\n",
              "<table border=\"1\" class=\"dataframe\">\n",
              "  <thead>\n",
              "    <tr style=\"text-align: right;\">\n",
              "      <th></th>\n",
              "      <th>price</th>\n",
              "      <th>car_age</th>\n",
              "      <th>odometer_trans</th>\n",
              "      <th>car_age_trans</th>\n",
              "      <th>point_x</th>\n",
              "      <th>point_y</th>\n",
              "      <th>point_z</th>\n",
              "    </tr>\n",
              "  </thead>\n",
              "  <tbody>\n",
              "    <tr>\n",
              "      <th>0</th>\n",
              "      <td>35990</td>\n",
              "      <td>10.0</td>\n",
              "      <td>32742.0</td>\n",
              "      <td>10.0</td>\n",
              "      <td>-0.305961</td>\n",
              "      <td>0.235990</td>\n",
              "      <td>0.922332</td>\n",
              "    </tr>\n",
              "    <tr>\n",
              "      <th>1</th>\n",
              "      <td>7500</td>\n",
              "      <td>6.0</td>\n",
              "      <td>93600.0</td>\n",
              "      <td>6.0</td>\n",
              "      <td>-0.339755</td>\n",
              "      <td>0.255719</td>\n",
              "      <td>0.905082</td>\n",
              "    </tr>\n",
              "  </tbody>\n",
              "</table>\n",
              "</div>"
            ],
            "text/plain": [
              "   price  car_age  odometer_trans  car_age_trans   point_x   point_y   point_z\n",
              "0  35990     10.0         32742.0           10.0 -0.305961  0.235990  0.922332\n",
              "1   7500      6.0         93600.0            6.0 -0.339755  0.255719  0.905082"
            ]
          },
          "metadata": {
            "tags": []
          },
          "execution_count": 50
        }
      ]
    },
    {
      "cell_type": "code",
      "metadata": {
        "colab": {
          "base_uri": "https://localhost:8080/",
          "height": 1000
        },
        "id": "wtm1l2H3fwj3",
        "outputId": "0470daa7-03d2-4f86-9692-9e7d7d9cf23f"
      },
      "source": [
        "#create visualisation\n",
        "for i in num_main.columns:\n",
        "    sns.distplot(num_main[i])\n",
        "    plt.show()"
      ],
      "execution_count": 51,
      "outputs": [
        {
          "output_type": "display_data",
          "data": {
            "image/png": "[encoded data removed]",
            "text/plain": [
              "<Figure size 432x288 with 1 Axes>"
            ]
          },
          "metadata": {
            "tags": [],
            "needs_background": "light"
          }
        },
        {
          "output_type": "display_data",
          "data": {
            "image/png": "[encoded data removed]",
            "text/plain": [
              "<Figure size 432x288 with 1 Axes>"
            ]
          },
          "metadata": {
            "tags": [],
            "needs_background": "light"
          }
        },
        {
          "output_type": "display_data",
          "data": {
            "image/png": "[encoded data removed]",
            "text/plain": [
              "<Figure size 432x288 with 1 Axes>"
            ]
          },
          "metadata": {
            "tags": [],
            "needs_background": "light"
          }
        },
        {
          "output_type": "display_data",
          "data": {
            "image/png": "[encoded data removed]",
            "text/plain": [
              "<Figure size 432x288 with 1 Axes>"
            ]
          },
          "metadata": {
            "tags": [],
            "needs_background": "light"
          }
        },
        {
          "output_type": "display_data",
          "data": {
            "image/png": "[encoded data removed]",
            "text/plain": [
              "<Figure size 432x288 with 1 Axes>"
            ]
          },
          "metadata": {
            "tags": [],
            "needs_background": "light"
          }
        },
        {
          "output_type": "display_data",
          "data": {
            "image/png": "[encoded data removed]",
            "text/plain": [
              "<Figure size 432x288 with 1 Axes>"
            ]
          },
          "metadata": {
            "tags": [],
            "needs_background": "light"
          }
        },
        {
          "output_type": "display_data",
          "data": {
            "image/png": "[encoded data removed]",
            "text/plain": [
              "<Figure size 432x288 with 1 Axes>"
            ]
          },
          "metadata": {
            "tags": [],
            "needs_background": "light"
          }
        }
      ]
    },
    {
      "cell_type": "code",
      "metadata": {
        "id": "8mA4aSBYfwj4"
      },
      "source": [
        "# Drop the original numerical feature-car_age\n",
        "num_main = num_main.drop(['car_age'], axis=1)"
      ],
      "execution_count": 52,
      "outputs": []
    },
    {
      "cell_type": "code",
      "metadata": {
        "colab": {
          "base_uri": "https://localhost:8080/"
        },
        "id": "rQ-d9VCdfwj5",
        "outputId": "a149f89a-72c5-4634-b926-ca0caa0f26ea"
      },
      "source": [
        "num_main.columns"
      ],
      "execution_count": 53,
      "outputs": [
        {
          "output_type": "execute_result",
          "data": {
            "text/plain": [
              "Index(['price', 'odometer_trans', 'car_age_trans', 'point_x', 'point_y',\n",
              "       'point_z'],\n",
              "      dtype='object')"
            ]
          },
          "metadata": {
            "tags": []
          },
          "execution_count": 53
        }
      ]
    },
    {
      "cell_type": "code",
      "metadata": {
        "colab": {
          "base_uri": "https://localhost:8080/"
        },
        "id": "h40cVtUgfwj8",
        "outputId": "f9003852-92ad-4840-9b6e-9e27fb424460"
      },
      "source": [
        "gc.collect()"
      ],
      "execution_count": 54,
      "outputs": [
        {
          "output_type": "execute_result",
          "data": {
            "text/plain": [
              "40874"
            ]
          },
          "metadata": {
            "tags": []
          },
          "execution_count": 54
        }
      ]
    },
    {
      "cell_type": "code",
      "metadata": {
        "colab": {
          "base_uri": "https://localhost:8080/",
          "height": 1000
        },
        "id": "IJXc31FPfwj-",
        "outputId": "1a8701a5-ef2e-42e7-b4a3-bd4d97ee181c"
      },
      "source": [
        "# create visualsations\n",
        "for v in num_main.columns:\n",
        "    sns.boxplot(num_main[v])\n",
        "    plt.show()"
      ],
      "execution_count": 55,
      "outputs": [
        {
          "output_type": "display_data",
          "data": {
            "image/png": "[encoded data removed]",
            "text/plain": [
              "<Figure size 432x288 with 1 Axes>"
            ]
          },
          "metadata": {
            "tags": [],
            "needs_background": "light"
          }
        },
        {
          "output_type": "display_data",
          "data": {
            "image/png": "[encoded data removed]",
            "text/plain": [
              "<Figure size 432x288 with 1 Axes>"
            ]
          },
          "metadata": {
            "tags": [],
            "needs_background": "light"
          }
        },
        {
          "output_type": "display_data",
          "data": {
            "image/png": "[encoded data removed]",
            "text/plain": [
              "<Figure size 432x288 with 1 Axes>"
            ]
          },
          "metadata": {
            "tags": [],
            "needs_background": "light"
          }
        },
        {
          "output_type": "display_data",
          "data": {
            "image/png": "[encoded data removed]",
            "text/plain": [
              "<Figure size 432x288 with 1 Axes>"
            ]
          },
          "metadata": {
            "tags": [],
            "needs_background": "light"
          }
        },
        {
          "output_type": "display_data",
          "data": {
            "image/png": "[encoded data removed]",
            "text/plain": [
              "<Figure size 432x288 with 1 Axes>"
            ]
          },
          "metadata": {
            "tags": [],
            "needs_background": "light"
          }
        },
        {
          "output_type": "display_data",
          "data": {
            "image/png": "[encoded data removed]",
            "text/plain": [
              "<Figure size 432x288 with 1 Axes>"
            ]
          },
          "metadata": {
            "tags": [],
            "needs_background": "light"
          }
        }
      ]
    },
    {
      "cell_type": "code",
      "metadata": {
        "id": "WOwxngq7fwj_"
      },
      "source": [
        "# Import robust scaler from sklearn to scale numerical features\n",
        "from sklearn.preprocessing import RobustScaler"
      ],
      "execution_count": 56,
      "outputs": []
    },
    {
      "cell_type": "code",
      "metadata": {
        "id": "SY--KUqefwkA"
      },
      "source": [
        "#robust scaling was performed  on the selected numerical features\n",
        "\n",
        "sc_col = ['car_age_trans', 'odometer_trans']\n",
        "\n",
        "rs = RobustScaler()\n",
        "\n",
        "for named in sc_col:\n",
        "    num_main[named] = rs.fit_transform(num_main[[named]])"
      ],
      "execution_count": 57,
      "outputs": []
    },
    {
      "cell_type": "code",
      "metadata": {
        "colab": {
          "base_uri": "https://localhost:8080/",
          "height": 112
        },
        "id": "Ls4tcm_jfwkB",
        "outputId": "5e59a434-f4a0-4738-fc53-c809c5868cf6"
      },
      "source": [
        "num_main.head(2)"
      ],
      "execution_count": 58,
      "outputs": [
        {
          "output_type": "execute_result",
          "data": {
            "text/html": [
              "<div>\n",
              "<style scoped>\n",
              "    .dataframe tbody tr th:only-of-type {\n",
              "        vertical-align: middle;\n",
              "    }\n",
              "\n",
              "    .dataframe tbody tr th {\n",
              "        vertical-align: top;\n",
              "    }\n",
              "\n",
              "    .dataframe thead th {\n",
              "        text-align: right;\n",
              "    }\n",
              "</style>\n",
              "<table border=\"1\" class=\"dataframe\">\n",
              "  <thead>\n",
              "    <tr style=\"text-align: right;\">\n",
              "      <th></th>\n",
              "      <th>price</th>\n",
              "      <th>odometer_trans</th>\n",
              "      <th>car_age_trans</th>\n",
              "      <th>point_x</th>\n",
              "      <th>point_y</th>\n",
              "      <th>point_z</th>\n",
              "    </tr>\n",
              "  </thead>\n",
              "  <tbody>\n",
              "    <tr>\n",
              "      <th>0</th>\n",
              "      <td>35990</td>\n",
              "      <td>-0.828596</td>\n",
              "      <td>0.375</td>\n",
              "      <td>-0.305961</td>\n",
              "      <td>0.235990</td>\n",
              "      <td>0.922332</td>\n",
              "    </tr>\n",
              "    <tr>\n",
              "      <th>1</th>\n",
              "      <td>7500</td>\n",
              "      <td>-0.069958</td>\n",
              "      <td>-0.125</td>\n",
              "      <td>-0.339755</td>\n",
              "      <td>0.255719</td>\n",
              "      <td>0.905082</td>\n",
              "    </tr>\n",
              "  </tbody>\n",
              "</table>\n",
              "</div>"
            ],
            "text/plain": [
              "   price  odometer_trans  car_age_trans   point_x   point_y   point_z\n",
              "0  35990       -0.828596          0.375 -0.305961  0.235990  0.922332\n",
              "1   7500       -0.069958         -0.125 -0.339755  0.255719  0.905082"
            ]
          },
          "metadata": {
            "tags": []
          },
          "execution_count": 58
        }
      ]
    },
    {
      "cell_type": "code",
      "metadata": {
        "colab": {
          "base_uri": "https://localhost:8080/"
        },
        "id": "FGaKnIgBfwkD",
        "outputId": "6b6d8886-e914-4bf5-89f1-5b7fb534494e"
      },
      "source": [
        "gc.collect()"
      ],
      "execution_count": 59,
      "outputs": [
        {
          "output_type": "execute_result",
          "data": {
            "text/plain": [
              "15650"
            ]
          },
          "metadata": {
            "tags": []
          },
          "execution_count": 59
        }
      ]
    },
    {
      "cell_type": "code",
      "metadata": {
        "id": "l_OXl8hTdcuA"
      },
      "source": [
        "num_main = num_main.drop(['price'], axis=1)"
      ],
      "execution_count": 60,
      "outputs": []
    },
    {
      "cell_type": "code",
      "metadata": {
        "colab": {
          "base_uri": "https://localhost:8080/"
        },
        "id": "7XL4BDWizmVO",
        "outputId": "ee9acff1-0821-4196-e79b-b743798b6cc0"
      },
      "source": [
        "# Joining the numerical dataframe and the categorical dataframe together\r\n",
        "Full_df = pd.concat([num_main, cat], axis=1)\r\n",
        "Full_df.shape"
      ],
      "execution_count": 61,
      "outputs": [
        {
          "output_type": "execute_result",
          "data": {
            "text/plain": [
              "(458213, 29)"
            ]
          },
          "metadata": {
            "tags": []
          },
          "execution_count": 61
        }
      ]
    },
    {
      "cell_type": "code",
      "metadata": {
        "id": "YNbSjiqk2kJO"
      },
      "source": [
        "# Saving dataframe as csv\r\n",
        "\r\n",
        "Full_df.to_csv('clean_df.csv', index=False)"
      ],
      "execution_count": 62,
      "outputs": []
    },
    {
      "cell_type": "markdown",
      "metadata": {
        "id": "jqZJWfRqlxTh"
      },
      "source": [
        " # Baseline Model"
      ]
    },
    {
      "cell_type": "code",
      "metadata": {
        "colab": {
          "base_uri": "https://localhost:8080/",
          "height": 337
        },
        "id": "AnPk_BpJ5U_k",
        "outputId": "8eb24eb5-b416-4cb3-c39d-ef21db4f0b48"
      },
      "source": [
        "# load dataset\r\n",
        "df = pd.read_csv('/content/vehicles.csv')\r\n",
        "df.head(3)"
      ],
      "execution_count": 53,
      "outputs": [
        {
          "output_type": "execute_result",
          "data": {
            "text/html": [
              "<div>\n",
              "<style scoped>\n",
              "    .dataframe tbody tr th:only-of-type {\n",
              "        vertical-align: middle;\n",
              "    }\n",
              "\n",
              "    .dataframe tbody tr th {\n",
              "        vertical-align: top;\n",
              "    }\n",
              "\n",
              "    .dataframe thead th {\n",
              "        text-align: right;\n",
              "    }\n",
              "</style>\n",
              "<table border=\"1\" class=\"dataframe\">\n",
              "  <thead>\n",
              "    <tr style=\"text-align: right;\">\n",
              "      <th></th>\n",
              "      <th>Unnamed: 0</th>\n",
              "      <th>id</th>\n",
              "      <th>url</th>\n",
              "      <th>region</th>\n",
              "      <th>region_url</th>\n",
              "      <th>price</th>\n",
              "      <th>year</th>\n",
              "      <th>manufacturer</th>\n",
              "      <th>model</th>\n",
              "      <th>condition</th>\n",
              "      <th>cylinders</th>\n",
              "      <th>fuel</th>\n",
              "      <th>odometer</th>\n",
              "      <th>title_status</th>\n",
              "      <th>transmission</th>\n",
              "      <th>VIN</th>\n",
              "      <th>drive</th>\n",
              "      <th>size</th>\n",
              "      <th>type</th>\n",
              "      <th>paint_color</th>\n",
              "      <th>image_url</th>\n",
              "      <th>description</th>\n",
              "      <th>state</th>\n",
              "      <th>lat</th>\n",
              "      <th>long</th>\n",
              "      <th>posting_date</th>\n",
              "    </tr>\n",
              "  </thead>\n",
              "  <tbody>\n",
              "    <tr>\n",
              "      <th>0</th>\n",
              "      <td>0</td>\n",
              "      <td>7240372487</td>\n",
              "      <td>https://auburn.craigslist.org/ctd/d/auburn-uni...</td>\n",
              "      <td>auburn</td>\n",
              "      <td>https://auburn.craigslist.org</td>\n",
              "      <td>35990</td>\n",
              "      <td>2010.0</td>\n",
              "      <td>chevrolet</td>\n",
              "      <td>corvette grand sport</td>\n",
              "      <td>good</td>\n",
              "      <td>8 cylinders</td>\n",
              "      <td>gas</td>\n",
              "      <td>32742.0</td>\n",
              "      <td>clean</td>\n",
              "      <td>other</td>\n",
              "      <td>1G1YU3DW1A5106980</td>\n",
              "      <td>rwd</td>\n",
              "      <td>NaN</td>\n",
              "      <td>other</td>\n",
              "      <td>NaN</td>\n",
              "      <td>https://images.craigslist.org/00N0N_ipkbHVZYf4...</td>\n",
              "      <td>Carvana is the safer way to buy a car During t...</td>\n",
              "      <td>al</td>\n",
              "      <td>32.590000</td>\n",
              "      <td>-85.480000</td>\n",
              "      <td>2020-12-02T08:11:30-0600</td>\n",
              "    </tr>\n",
              "    <tr>\n",
              "      <th>1</th>\n",
              "      <td>1</td>\n",
              "      <td>7240309422</td>\n",
              "      <td>https://auburn.craigslist.org/cto/d/auburn-201...</td>\n",
              "      <td>auburn</td>\n",
              "      <td>https://auburn.craigslist.org</td>\n",
              "      <td>7500</td>\n",
              "      <td>2014.0</td>\n",
              "      <td>hyundai</td>\n",
              "      <td>sonata</td>\n",
              "      <td>excellent</td>\n",
              "      <td>4 cylinders</td>\n",
              "      <td>gas</td>\n",
              "      <td>93600.0</td>\n",
              "      <td>clean</td>\n",
              "      <td>automatic</td>\n",
              "      <td>5NPEC4AB0EH813529</td>\n",
              "      <td>fwd</td>\n",
              "      <td>NaN</td>\n",
              "      <td>sedan</td>\n",
              "      <td>NaN</td>\n",
              "      <td>https://images.craigslist.org/00s0s_gBHYmJ5o7y...</td>\n",
              "      <td>I'll move to another city and try to sell my c...</td>\n",
              "      <td>al</td>\n",
              "      <td>32.547500</td>\n",
              "      <td>-85.468200</td>\n",
              "      <td>2020-12-02T02:11:50-0600</td>\n",
              "    </tr>\n",
              "    <tr>\n",
              "      <th>2</th>\n",
              "      <td>2</td>\n",
              "      <td>7240224296</td>\n",
              "      <td>https://auburn.craigslist.org/cto/d/auburn-200...</td>\n",
              "      <td>auburn</td>\n",
              "      <td>https://auburn.craigslist.org</td>\n",
              "      <td>4900</td>\n",
              "      <td>2006.0</td>\n",
              "      <td>bmw</td>\n",
              "      <td>x3 3.0i</td>\n",
              "      <td>good</td>\n",
              "      <td>6 cylinders</td>\n",
              "      <td>gas</td>\n",
              "      <td>87046.0</td>\n",
              "      <td>clean</td>\n",
              "      <td>automatic</td>\n",
              "      <td>NaN</td>\n",
              "      <td>NaN</td>\n",
              "      <td>NaN</td>\n",
              "      <td>SUV</td>\n",
              "      <td>blue</td>\n",
              "      <td>https://images.craigslist.org/00B0B_5zgEGWPOrt...</td>\n",
              "      <td>Clean 2006 BMW X3 3.0I.  Beautiful and rare Bl...</td>\n",
              "      <td>al</td>\n",
              "      <td>32.616807</td>\n",
              "      <td>-85.464149</td>\n",
              "      <td>2020-12-01T19:50:41-0600</td>\n",
              "    </tr>\n",
              "  </tbody>\n",
              "</table>\n",
              "</div>"
            ],
            "text/plain": [
              "   Unnamed: 0          id                                                url  \\\n",
              "0           0  7240372487  https://auburn.craigslist.org/ctd/d/auburn-uni...   \n",
              "1           1  7240309422  https://auburn.craigslist.org/cto/d/auburn-201...   \n",
              "2           2  7240224296  https://auburn.craigslist.org/cto/d/auburn-200...   \n",
              "\n",
              "   region                     region_url  price    year manufacturer  \\\n",
              "0  auburn  https://auburn.craigslist.org  35990  2010.0    chevrolet   \n",
              "1  auburn  https://auburn.craigslist.org   7500  2014.0      hyundai   \n",
              "2  auburn  https://auburn.craigslist.org   4900  2006.0          bmw   \n",
              "\n",
              "                  model  condition    cylinders fuel  odometer title_status  \\\n",
              "0  corvette grand sport       good  8 cylinders  gas   32742.0        clean   \n",
              "1                sonata  excellent  4 cylinders  gas   93600.0        clean   \n",
              "2               x3 3.0i       good  6 cylinders  gas   87046.0        clean   \n",
              "\n",
              "  transmission                VIN drive size   type paint_color  \\\n",
              "0        other  1G1YU3DW1A5106980   rwd  NaN  other         NaN   \n",
              "1    automatic  5NPEC4AB0EH813529   fwd  NaN  sedan         NaN   \n",
              "2    automatic                NaN   NaN  NaN    SUV        blue   \n",
              "\n",
              "                                           image_url  \\\n",
              "0  https://images.craigslist.org/00N0N_ipkbHVZYf4...   \n",
              "1  https://images.craigslist.org/00s0s_gBHYmJ5o7y...   \n",
              "2  https://images.craigslist.org/00B0B_5zgEGWPOrt...   \n",
              "\n",
              "                                         description state        lat  \\\n",
              "0  Carvana is the safer way to buy a car During t...    al  32.590000   \n",
              "1  I'll move to another city and try to sell my c...    al  32.547500   \n",
              "2  Clean 2006 BMW X3 3.0I.  Beautiful and rare Bl...    al  32.616807   \n",
              "\n",
              "        long              posting_date  \n",
              "0 -85.480000  2020-12-02T08:11:30-0600  \n",
              "1 -85.468200  2020-12-02T02:11:50-0600  \n",
              "2 -85.464149  2020-12-01T19:50:41-0600  "
            ]
          },
          "metadata": {
            "tags": []
          },
          "execution_count": 53
        }
      ]
    },
    {
      "cell_type": "code",
      "metadata": {
        "id": "_jTlyCJ35a24"
      },
      "source": [
        "#drop irrelevant columns\r\n",
        "df = df.drop(['Unnamed: 0','id','url','region_url','VIN','image_url','description'],axis = 1)"
      ],
      "execution_count": 54,
      "outputs": []
    },
    {
      "cell_type": "code",
      "metadata": {
        "colab": {
          "base_uri": "https://localhost:8080/"
        },
        "id": "z7OeQhD0lvwf",
        "outputId": "28ccead5-6fe0-4bd6-dfdf-0cde5bf50c31"
      },
      "source": [
        "#check the shape and information of main used_cars dataframe without irrelevant columns\r\n",
        "df.info()"
      ],
      "execution_count": 55,
      "outputs": [
        {
          "output_type": "stream",
          "text": [
            "<class 'pandas.core.frame.DataFrame'>\n",
            "RangeIndex: 458213 entries, 0 to 458212\n",
            "Data columns (total 19 columns):\n",
            " #   Column        Non-Null Count   Dtype  \n",
            "---  ------        --------------   -----  \n",
            " 0   region        458213 non-null  object \n",
            " 1   price         458213 non-null  int64  \n",
            " 2   year          457163 non-null  float64\n",
            " 3   manufacturer  439993 non-null  object \n",
            " 4   model         453367 non-null  object \n",
            " 5   condition     265273 non-null  object \n",
            " 6   cylinders     287073 non-null  object \n",
            " 7   fuel          454976 non-null  object \n",
            " 8   odometer      402910 non-null  float64\n",
            " 9   title_status  455636 non-null  object \n",
            " 10  transmission  455771 non-null  object \n",
            " 11  drive         324025 non-null  object \n",
            " 12  size          136865 non-null  object \n",
            " 13  type          345475 non-null  object \n",
            " 14  paint_color   317370 non-null  object \n",
            " 15  state         458213 non-null  object \n",
            " 16  lat           450765 non-null  float64\n",
            " 17  long          450765 non-null  float64\n",
            " 18  posting_date  458185 non-null  object \n",
            "dtypes: float64(4), int64(1), object(14)\n",
            "memory usage: 66.4+ MB\n"
          ],
          "name": "stdout"
        }
      ]
    },
    {
      "cell_type": "code",
      "metadata": {
        "colab": {
          "base_uri": "https://localhost:8080/"
        },
        "id": "MCSXOSYD3dUE",
        "outputId": "1e2e34f2-0497-4ee7-f522-e24ab5277c40"
      },
      "source": [
        "df.shape"
      ],
      "execution_count": 56,
      "outputs": [
        {
          "output_type": "execute_result",
          "data": {
            "text/plain": [
              "(458213, 19)"
            ]
          },
          "metadata": {
            "tags": []
          },
          "execution_count": 56
        }
      ]
    },
    {
      "cell_type": "markdown",
      "metadata": {
        "id": "n8iQgW3X5xR8"
      },
      "source": [
        ""
      ]
    },
    {
      "cell_type": "code",
      "metadata": {
        "id": "DGIuZiNypeJp"
      },
      "source": [
        "#numpy log on price\r\n",
        "df['year'] = df['year'].astype('str')\r\n",
        "df['price'] = np.log((df['price'] + 1))"
      ],
      "execution_count": 57,
      "outputs": []
    },
    {
      "cell_type": "code",
      "metadata": {
        "id": "RubSxiY0p0Gf"
      },
      "source": [
        "#drop posting date column\r\n",
        "df = df.drop(['posting_date'], axis=1)"
      ],
      "execution_count": 58,
      "outputs": []
    },
    {
      "cell_type": "code",
      "metadata": {
        "id": "WZxArEVHp0vH"
      },
      "source": [
        "#drop all null values\r\n",
        "df_drop = df.dropna()"
      ],
      "execution_count": 59,
      "outputs": []
    },
    {
      "cell_type": "code",
      "metadata": {
        "colab": {
          "base_uri": "https://localhost:8080/"
        },
        "id": "qJYbN3BtrGea",
        "outputId": "a9b65193-a516-493b-ef05-3a301e0eebb2"
      },
      "source": [
        "df_drop.shape"
      ],
      "execution_count": 60,
      "outputs": [
        {
          "output_type": "execute_result",
          "data": {
            "text/plain": [
              "(86851, 18)"
            ]
          },
          "metadata": {
            "tags": []
          },
          "execution_count": 60
        }
      ]
    },
    {
      "cell_type": "code",
      "metadata": {
        "id": "F_Tx-iKRrZig"
      },
      "source": [
        "#split data into train and test sets\r\n",
        "from sklearn.model_selection import train_test_split\r\n",
        "train_drop, test_drop = train_test_split(df_drop, test_size=0.3, shuffle=True, random_state=2020)"
      ],
      "execution_count": 61,
      "outputs": []
    },
    {
      "cell_type": "code",
      "metadata": {
        "colab": {
          "base_uri": "https://localhost:8080/"
        },
        "id": "jW8dsHuLrZUi",
        "outputId": "496eab9f-4890-41eb-856b-93d460b191b6"
      },
      "source": [
        "X_train_drop = train_drop.drop(['price'], axis=1)\r\n",
        "y_train_drop = train_drop['price']\r\n",
        "\r\n",
        "X_test_drop = test_drop.drop(['price'], axis=1)\r\n",
        "y_test_drop = test_drop['price']\r\n",
        "\r\n",
        "print(X_train_drop.shape)\r\n",
        "print(y_train_drop.shape)\r\n",
        "print(X_test_drop.shape)\r\n",
        "print(y_test_drop.shape)"
      ],
      "execution_count": 62,
      "outputs": [
        {
          "output_type": "stream",
          "text": [
            "(60795, 17)\n",
            "(60795,)\n",
            "(26056, 17)\n",
            "(26056,)\n"
          ],
          "name": "stdout"
        }
      ]
    },
    {
      "cell_type": "code",
      "metadata": {
        "colab": {
          "base_uri": "https://localhost:8080/",
          "height": 202
        },
        "id": "tXP3ggOXs8tm",
        "outputId": "ca2d2769-e78c-4762-db28-692bbdbb6eca"
      },
      "source": [
        "X_train_drop.head(2)"
      ],
      "execution_count": 63,
      "outputs": [
        {
          "output_type": "execute_result",
          "data": {
            "text/html": [
              "<div>\n",
              "<style scoped>\n",
              "    .dataframe tbody tr th:only-of-type {\n",
              "        vertical-align: middle;\n",
              "    }\n",
              "\n",
              "    .dataframe tbody tr th {\n",
              "        vertical-align: top;\n",
              "    }\n",
              "\n",
              "    .dataframe thead th {\n",
              "        text-align: right;\n",
              "    }\n",
              "</style>\n",
              "<table border=\"1\" class=\"dataframe\">\n",
              "  <thead>\n",
              "    <tr style=\"text-align: right;\">\n",
              "      <th></th>\n",
              "      <th>region</th>\n",
              "      <th>year</th>\n",
              "      <th>manufacturer</th>\n",
              "      <th>model</th>\n",
              "      <th>condition</th>\n",
              "      <th>cylinders</th>\n",
              "      <th>fuel</th>\n",
              "      <th>odometer</th>\n",
              "      <th>title_status</th>\n",
              "      <th>transmission</th>\n",
              "      <th>drive</th>\n",
              "      <th>size</th>\n",
              "      <th>type</th>\n",
              "      <th>paint_color</th>\n",
              "      <th>state</th>\n",
              "      <th>lat</th>\n",
              "      <th>long</th>\n",
              "    </tr>\n",
              "  </thead>\n",
              "  <tbody>\n",
              "    <tr>\n",
              "      <th>75133</th>\n",
              "      <td>high rockies</td>\n",
              "      <td>2006.0</td>\n",
              "      <td>audi</td>\n",
              "      <td>a4 2.0t quattro</td>\n",
              "      <td>good</td>\n",
              "      <td>4 cylinders</td>\n",
              "      <td>gas</td>\n",
              "      <td>204600.0</td>\n",
              "      <td>clean</td>\n",
              "      <td>manual</td>\n",
              "      <td>4wd</td>\n",
              "      <td>compact</td>\n",
              "      <td>sedan</td>\n",
              "      <td>red</td>\n",
              "      <td>co</td>\n",
              "      <td>39.628036</td>\n",
              "      <td>-106.068835</td>\n",
              "    </tr>\n",
              "    <tr>\n",
              "      <th>276319</th>\n",
              "      <td>hudson valley</td>\n",
              "      <td>2007.0</td>\n",
              "      <td>dodge</td>\n",
              "      <td>gr caravan w/ stow n go</td>\n",
              "      <td>like new</td>\n",
              "      <td>6 cylinders</td>\n",
              "      <td>gas</td>\n",
              "      <td>163002.0</td>\n",
              "      <td>clean</td>\n",
              "      <td>automatic</td>\n",
              "      <td>fwd</td>\n",
              "      <td>full-size</td>\n",
              "      <td>mini-van</td>\n",
              "      <td>white</td>\n",
              "      <td>ny</td>\n",
              "      <td>41.605600</td>\n",
              "      <td>-73.988000</td>\n",
              "    </tr>\n",
              "  </tbody>\n",
              "</table>\n",
              "</div>"
            ],
            "text/plain": [
              "               region    year manufacturer                    model condition  \\\n",
              "75133    high rockies  2006.0         audi          a4 2.0t quattro      good   \n",
              "276319  hudson valley  2007.0        dodge  gr caravan w/ stow n go  like new   \n",
              "\n",
              "          cylinders fuel  odometer title_status transmission drive       size  \\\n",
              "75133   4 cylinders  gas  204600.0        clean       manual   4wd    compact   \n",
              "276319  6 cylinders  gas  163002.0        clean    automatic   fwd  full-size   \n",
              "\n",
              "            type paint_color state        lat        long  \n",
              "75133      sedan         red    co  39.628036 -106.068835  \n",
              "276319  mini-van       white    ny  41.605600  -73.988000  "
            ]
          },
          "metadata": {
            "tags": []
          },
          "execution_count": 63
        }
      ]
    },
    {
      "cell_type": "code",
      "metadata": {
        "colab": {
          "base_uri": "https://localhost:8080/"
        },
        "id": "cTd8jJ9TtHC6",
        "outputId": "c5077bd2-0da3-419f-8d55-094160393f00"
      },
      "source": [
        "X_train_drop.info()"
      ],
      "execution_count": 64,
      "outputs": [
        {
          "output_type": "stream",
          "text": [
            "<class 'pandas.core.frame.DataFrame'>\n",
            "Int64Index: 60795 entries, 75133 to 220706\n",
            "Data columns (total 17 columns):\n",
            " #   Column        Non-Null Count  Dtype  \n",
            "---  ------        --------------  -----  \n",
            " 0   region        60795 non-null  object \n",
            " 1   year          60795 non-null  object \n",
            " 2   manufacturer  60795 non-null  object \n",
            " 3   model         60795 non-null  object \n",
            " 4   condition     60795 non-null  object \n",
            " 5   cylinders     60795 non-null  object \n",
            " 6   fuel          60795 non-null  object \n",
            " 7   odometer      60795 non-null  float64\n",
            " 8   title_status  60795 non-null  object \n",
            " 9   transmission  60795 non-null  object \n",
            " 10  drive         60795 non-null  object \n",
            " 11  size          60795 non-null  object \n",
            " 12  type          60795 non-null  object \n",
            " 13  paint_color   60795 non-null  object \n",
            " 14  state         60795 non-null  object \n",
            " 15  lat           60795 non-null  float64\n",
            " 16  long          60795 non-null  float64\n",
            "dtypes: float64(3), object(14)\n",
            "memory usage: 8.3+ MB\n"
          ],
          "name": "stdout"
        }
      ]
    },
    {
      "cell_type": "code",
      "metadata": {
        "colab": {
          "base_uri": "https://localhost:8080/",
          "height": 297
        },
        "id": "Kx5mGmdsrZHU",
        "outputId": "5072a1ad-5ccc-4559-ec14-3d10aee13c0a"
      },
      "source": [
        "sns.distplot(y_train_drop)"
      ],
      "execution_count": 65,
      "outputs": [
        {
          "output_type": "execute_result",
          "data": {
            "text/plain": [
              "<matplotlib.axes._subplots.AxesSubplot at 0x7fcbdf6f16a0>"
            ]
          },
          "metadata": {
            "tags": []
          },
          "execution_count": 65
        },
        {
          "output_type": "display_data",
          "data": {
            "image/png": "[encoded data removed]",
            "text/plain": [
              "<Figure size 432x288 with 1 Axes>"
            ]
          },
          "metadata": {
            "tags": [],
            "needs_background": "light"
          }
        }
      ]
    },
    {
      "cell_type": "code",
      "metadata": {
        "colab": {
          "base_uri": "https://localhost:8080/",
          "height": 404
        },
        "id": "A2NFfvaKr68Q",
        "outputId": "4f8b5461-9dc4-4991-cd9a-3d842b1cb8da"
      },
      "source": [
        "import pylab\r\n",
        "from scipy import stats\r\n",
        "plt.figure(figsize=(12, 6))\r\n",
        "stats.probplot(y_train_drop, plot=pylab)\r\n",
        "pylab.show()"
      ],
      "execution_count": 66,
      "outputs": [
        {
          "output_type": "display_data",
          "data": {
            "image/png": "[encoded data removed]",
            "text/plain": [
              "<Figure size 864x432 with 1 Axes>"
            ]
          },
          "metadata": {
            "tags": [],
            "needs_background": "light"
          }
        }
      ]
    },
    {
      "cell_type": "markdown",
      "metadata": {
        "id": "9a78K0wtsGxT"
      },
      "source": [
        "#Catboost"
      ]
    },
    {
      "cell_type": "code",
      "metadata": {
        "id": "nFOYPDRasLMr",
        "colab": {
          "base_uri": "https://localhost:8080/"
        },
        "outputId": "91110023-1102-4618-ff71-c066a9107d5e"
      },
      "source": [
        "#select acategorical features\r\n",
        "cat_indices = np.where(X_train_drop.dtypes != np.float)[0]\r\n",
        "cat_indices"
      ],
      "execution_count": 67,
      "outputs": [
        {
          "output_type": "execute_result",
          "data": {
            "text/plain": [
              "array([ 0,  1,  2,  3,  4,  5,  6,  8,  9, 10, 11, 12, 13, 14])"
            ]
          },
          "metadata": {
            "tags": []
          },
          "execution_count": 67
        }
      ]
    },
    {
      "cell_type": "code",
      "metadata": {
        "id": "0f1ELh8nskXv"
      },
      "source": [
        "from sklearn.model_selection import KFold\r\n",
        "from math import sqrt\r\n",
        "\r\n",
        "\r\n",
        "# Function for training the model and calculating the root mean squared error\r\n",
        "def Training_Validation_Error_Catboost(model,train_data,train_labels,test_data,test_labels):\r\n",
        "    model.fit(train_data,train_labels ,cat_features=cat_indices)\r\n",
        "    \r\n",
        "    predicted = model.predict(test_data)\r\n",
        "    \r\n",
        "    rmse = sqrt(mean_squared_error(test_labels,predicted))\r\n",
        "    \r\n",
        "    print ('rmse = '+str(rmse))\r\n",
        "           \r\n",
        "    return(rmse)"
      ],
      "execution_count": 68,
      "outputs": []
    },
    {
      "cell_type": "code",
      "metadata": {
        "colab": {
          "base_uri": "https://localhost:8080/"
        },
        "id": "RFBMY1pO6-0j",
        "outputId": "cb7f3d21-b21e-435a-985e-0b9e8f1a67bb"
      },
      "source": [
        "gc.collect()"
      ],
      "execution_count": 69,
      "outputs": [
        {
          "output_type": "execute_result",
          "data": {
            "text/plain": [
              "2531"
            ]
          },
          "metadata": {
            "tags": []
          },
          "execution_count": 69
        }
      ]
    },
    {
      "cell_type": "code",
      "metadata": {
        "id": "Q7gOaX-Ps0tN",
        "colab": {
          "base_uri": "https://localhost:8080/"
        },
        "outputId": "7c136598-16a0-4ed6-db4a-d37f48051bc9"
      },
      "source": [
        "kf = KFold(n_splits=10)  # Split the training data into 10 folds\r\n",
        "\r\n",
        "from catboost import CatBoostRegressor\r\n",
        "#KFOLD CROSSVAL FOR CATBOOST ALGORITHM\r\n",
        "\r\n",
        "model=CatBoostRegressor(iterations=1500, depth=4, learning_rate=0.03,l2_leaf_reg=10,\r\n",
        "                        loss_function='RMSE', random_state=350, verbose=0)\r\n",
        "rmse_list=[]\r\n",
        "\r\n",
        "for train_index, val_index in kf.split(X_train_drop):\r\n",
        "    X = X_train_drop\r\n",
        "    Y = y_train_drop\r\n",
        "    X_train,X_val=X.iloc[train_index], X.iloc[val_index]\r\n",
        "    Y_train,Y_val=Y.iloc[train_index], Y.iloc[val_index]\r\n",
        "    \r\n",
        "    rmse=Training_Validation_Error_Catboost(model,train_data = X_train,train_labels = Y_train,test_data = X_val,test_labels = Y_val)\r\n",
        "    rmse_list.append(rmse)\r\n",
        "    \r\n",
        "print(\"mean rmse is :\",np.mean(rmse_list))\r\n",
        "print(\"range is :\", max(rmse_list) - min(rmse_list))"
      ],
      "execution_count": 70,
      "outputs": [
        {
          "output_type": "stream",
          "text": [
            "rmse = 1.405142643877543\n",
            "rmse = 1.4503994787541767\n",
            "rmse = 1.3562156937910668\n",
            "rmse = 1.346401716215981\n",
            "rmse = 1.3935061468883745\n",
            "rmse = 1.3053788676129117\n",
            "rmse = 1.4193885117962637\n",
            "rmse = 1.3285524067212566\n",
            "rmse = 1.3662368811567074\n",
            "rmse = 1.453252223762026\n",
            "mean rmse is : 1.3824474570576308\n",
            "range is : 0.14787335614911434\n"
          ],
          "name": "stdout"
        }
      ]
    },
    {
      "cell_type": "code",
      "metadata": {
        "colab": {
          "base_uri": "https://localhost:8080/"
        },
        "id": "g5KObFuVYygd",
        "outputId": "36792214-d667-4662-fe18-b7007ababe39"
      },
      "source": [
        "import gc\r\n",
        "gc.collect()"
      ],
      "execution_count": 72,
      "outputs": [
        {
          "output_type": "execute_result",
          "data": {
            "text/plain": [
              "0"
            ]
          },
          "metadata": {
            "tags": []
          },
          "execution_count": 72
        }
      ]
    },
    {
      "cell_type": "code",
      "metadata": {
        "id": "kI1Eo0uwtQWn"
      },
      "source": [
        "#prediction\r\n",
        "pred = model.predict(X_test_drop)"
      ],
      "execution_count": 73,
      "outputs": []
    },
    {
      "cell_type": "code",
      "metadata": {
        "id": "9V6qFDRYtXhw",
        "colab": {
          "base_uri": "https://localhost:8080/"
        },
        "outputId": "4ec07db8-68cf-47fd-efd4-0f0f018ba812"
      },
      "source": [
        "from sklearn.metrics import r2_score\r\n",
        "print(\"R2 training\", model.score(X_train_drop, y_train_drop))\r\n",
        "print(\"R2 test\", model.score(X_test_drop, y_test_drop))\r\n",
        "print(\"R2 prediction\", r2_score(y_test_drop, pred))"
      ],
      "execution_count": 74,
      "outputs": [
        {
          "output_type": "stream",
          "text": [
            "R2 training 0.5930598714882377\n",
            "R2 test 0.5136107675820805\n",
            "R2 prediction 0.5136107675820805\n"
          ],
          "name": "stdout"
        }
      ]
    },
    {
      "cell_type": "markdown",
      "metadata": {
        "id": "5hW8I9Ne7JVy"
      },
      "source": [
        "# Main Model\r\n"
      ]
    },
    {
      "cell_type": "code",
      "metadata": {
        "id": "yVLvUXLPAq9n",
        "colab": {
          "base_uri": "https://localhost:8080/",
          "height": 278
        },
        "outputId": "201bad6b-f6c8-41cf-8edc-c89a4946a2ad"
      },
      "source": [
        "#Load the preprocessed data\r\n",
        "Full_df.head()"
      ],
      "execution_count": 75,
      "outputs": [
        {
          "output_type": "execute_result",
          "data": {
            "text/html": [
              "<div>\n",
              "<style scoped>\n",
              "    .dataframe tbody tr th:only-of-type {\n",
              "        vertical-align: middle;\n",
              "    }\n",
              "\n",
              "    .dataframe tbody tr th {\n",
              "        vertical-align: top;\n",
              "    }\n",
              "\n",
              "    .dataframe thead th {\n",
              "        text-align: right;\n",
              "    }\n",
              "</style>\n",
              "<table border=\"1\" class=\"dataframe\">\n",
              "  <thead>\n",
              "    <tr style=\"text-align: right;\">\n",
              "      <th></th>\n",
              "      <th>odometer_trans</th>\n",
              "      <th>car_age_trans</th>\n",
              "      <th>point_x</th>\n",
              "      <th>point_y</th>\n",
              "      <th>point_z</th>\n",
              "      <th>region</th>\n",
              "      <th>year</th>\n",
              "      <th>manufacturer</th>\n",
              "      <th>model</th>\n",
              "      <th>condition</th>\n",
              "      <th>cylinders</th>\n",
              "      <th>fuel</th>\n",
              "      <th>title_status</th>\n",
              "      <th>transmission</th>\n",
              "      <th>drive</th>\n",
              "      <th>type</th>\n",
              "      <th>paint_color</th>\n",
              "      <th>state</th>\n",
              "      <th>year_Imputed</th>\n",
              "      <th>manufacturer_Imputed</th>\n",
              "      <th>model_Imputed</th>\n",
              "      <th>condition_Imputed</th>\n",
              "      <th>cylinders_Imputed</th>\n",
              "      <th>fuel_Imputed</th>\n",
              "      <th>title_status_Imputed</th>\n",
              "      <th>transmission_Imputed</th>\n",
              "      <th>drive_Imputed</th>\n",
              "      <th>type_Imputed</th>\n",
              "      <th>paint_color_Imputed</th>\n",
              "    </tr>\n",
              "  </thead>\n",
              "  <tbody>\n",
              "    <tr>\n",
              "      <th>0</th>\n",
              "      <td>-0.828596</td>\n",
              "      <td>0.375</td>\n",
              "      <td>-0.305961</td>\n",
              "      <td>0.235990</td>\n",
              "      <td>0.922332</td>\n",
              "      <td>auburn</td>\n",
              "      <td>2010.0</td>\n",
              "      <td>chevrolet</td>\n",
              "      <td>corvette grand sport</td>\n",
              "      <td>good</td>\n",
              "      <td>8 cylinders</td>\n",
              "      <td>gas</td>\n",
              "      <td>clean</td>\n",
              "      <td>other</td>\n",
              "      <td>rwd</td>\n",
              "      <td>other</td>\n",
              "      <td>white</td>\n",
              "      <td>al</td>\n",
              "      <td>0</td>\n",
              "      <td>0</td>\n",
              "      <td>0</td>\n",
              "      <td>0</td>\n",
              "      <td>0</td>\n",
              "      <td>0</td>\n",
              "      <td>0</td>\n",
              "      <td>0</td>\n",
              "      <td>0</td>\n",
              "      <td>0</td>\n",
              "      <td>1</td>\n",
              "    </tr>\n",
              "    <tr>\n",
              "      <th>1</th>\n",
              "      <td>-0.069958</td>\n",
              "      <td>-0.125</td>\n",
              "      <td>-0.339755</td>\n",
              "      <td>0.255719</td>\n",
              "      <td>0.905082</td>\n",
              "      <td>auburn</td>\n",
              "      <td>2014.0</td>\n",
              "      <td>hyundai</td>\n",
              "      <td>sonata</td>\n",
              "      <td>excellent</td>\n",
              "      <td>4 cylinders</td>\n",
              "      <td>gas</td>\n",
              "      <td>clean</td>\n",
              "      <td>automatic</td>\n",
              "      <td>fwd</td>\n",
              "      <td>sedan</td>\n",
              "      <td>white</td>\n",
              "      <td>al</td>\n",
              "      <td>0</td>\n",
              "      <td>0</td>\n",
              "      <td>0</td>\n",
              "      <td>0</td>\n",
              "      <td>0</td>\n",
              "      <td>0</td>\n",
              "      <td>0</td>\n",
              "      <td>0</td>\n",
              "      <td>0</td>\n",
              "      <td>0</td>\n",
              "      <td>1</td>\n",
              "    </tr>\n",
              "    <tr>\n",
              "      <th>2</th>\n",
              "      <td>-0.151658</td>\n",
              "      <td>0.875</td>\n",
              "      <td>-0.289739</td>\n",
              "      <td>0.216241</td>\n",
              "      <td>0.932358</td>\n",
              "      <td>auburn</td>\n",
              "      <td>2006.0</td>\n",
              "      <td>bmw</td>\n",
              "      <td>x3 3.0i</td>\n",
              "      <td>good</td>\n",
              "      <td>6 cylinders</td>\n",
              "      <td>gas</td>\n",
              "      <td>clean</td>\n",
              "      <td>automatic</td>\n",
              "      <td>4wd</td>\n",
              "      <td>SUV</td>\n",
              "      <td>blue</td>\n",
              "      <td>al</td>\n",
              "      <td>0</td>\n",
              "      <td>0</td>\n",
              "      <td>0</td>\n",
              "      <td>0</td>\n",
              "      <td>0</td>\n",
              "      <td>0</td>\n",
              "      <td>0</td>\n",
              "      <td>0</td>\n",
              "      <td>1</td>\n",
              "      <td>0</td>\n",
              "      <td>0</td>\n",
              "    </tr>\n",
              "    <tr>\n",
              "      <th>3</th>\n",
              "      <td>1.131738</td>\n",
              "      <td>4.875</td>\n",
              "      <td>-0.115278</td>\n",
              "      <td>0.047804</td>\n",
              "      <td>0.992182</td>\n",
              "      <td>auburn</td>\n",
              "      <td>1974.0</td>\n",
              "      <td>chevrolet</td>\n",
              "      <td>c-10</td>\n",
              "      <td>good</td>\n",
              "      <td>4 cylinders</td>\n",
              "      <td>gas</td>\n",
              "      <td>clean</td>\n",
              "      <td>automatic</td>\n",
              "      <td>rwd</td>\n",
              "      <td>pickup</td>\n",
              "      <td>blue</td>\n",
              "      <td>al</td>\n",
              "      <td>0</td>\n",
              "      <td>0</td>\n",
              "      <td>0</td>\n",
              "      <td>0</td>\n",
              "      <td>0</td>\n",
              "      <td>0</td>\n",
              "      <td>0</td>\n",
              "      <td>0</td>\n",
              "      <td>0</td>\n",
              "      <td>0</td>\n",
              "      <td>0</td>\n",
              "    </tr>\n",
              "    <tr>\n",
              "      <th>4</th>\n",
              "      <td>0.209274</td>\n",
              "      <td>1.000</td>\n",
              "      <td>-0.339755</td>\n",
              "      <td>0.255719</td>\n",
              "      <td>0.905082</td>\n",
              "      <td>auburn</td>\n",
              "      <td>2005.0</td>\n",
              "      <td>ford</td>\n",
              "      <td>f350 lariat</td>\n",
              "      <td>excellent</td>\n",
              "      <td>8 cylinders</td>\n",
              "      <td>diesel</td>\n",
              "      <td>lien</td>\n",
              "      <td>automatic</td>\n",
              "      <td>4wd</td>\n",
              "      <td>pickup</td>\n",
              "      <td>blue</td>\n",
              "      <td>al</td>\n",
              "      <td>0</td>\n",
              "      <td>0</td>\n",
              "      <td>0</td>\n",
              "      <td>0</td>\n",
              "      <td>0</td>\n",
              "      <td>0</td>\n",
              "      <td>0</td>\n",
              "      <td>0</td>\n",
              "      <td>0</td>\n",
              "      <td>0</td>\n",
              "      <td>0</td>\n",
              "    </tr>\n",
              "  </tbody>\n",
              "</table>\n",
              "</div>"
            ],
            "text/plain": [
              "   odometer_trans  car_age_trans   point_x   point_y   point_z  region  \\\n",
              "0       -0.828596          0.375 -0.305961  0.235990  0.922332  auburn   \n",
              "1       -0.069958         -0.125 -0.339755  0.255719  0.905082  auburn   \n",
              "2       -0.151658          0.875 -0.289739  0.216241  0.932358  auburn   \n",
              "3        1.131738          4.875 -0.115278  0.047804  0.992182  auburn   \n",
              "4        0.209274          1.000 -0.339755  0.255719  0.905082  auburn   \n",
              "\n",
              "     year manufacturer                 model  condition    cylinders    fuel  \\\n",
              "0  2010.0    chevrolet  corvette grand sport       good  8 cylinders     gas   \n",
              "1  2014.0      hyundai                sonata  excellent  4 cylinders     gas   \n",
              "2  2006.0          bmw               x3 3.0i       good  6 cylinders     gas   \n",
              "3  1974.0    chevrolet                  c-10       good  4 cylinders     gas   \n",
              "4  2005.0         ford           f350 lariat  excellent  8 cylinders  diesel   \n",
              "\n",
              "  title_status transmission drive    type paint_color state  year_Imputed  \\\n",
              "0        clean        other   rwd   other       white    al             0   \n",
              "1        clean    automatic   fwd   sedan       white    al             0   \n",
              "2        clean    automatic   4wd     SUV        blue    al             0   \n",
              "3        clean    automatic   rwd  pickup        blue    al             0   \n",
              "4         lien    automatic   4wd  pickup        blue    al             0   \n",
              "\n",
              "   manufacturer_Imputed  model_Imputed  condition_Imputed  cylinders_Imputed  \\\n",
              "0                     0              0                  0                  0   \n",
              "1                     0              0                  0                  0   \n",
              "2                     0              0                  0                  0   \n",
              "3                     0              0                  0                  0   \n",
              "4                     0              0                  0                  0   \n",
              "\n",
              "   fuel_Imputed  title_status_Imputed  transmission_Imputed  drive_Imputed  \\\n",
              "0             0                     0                     0              0   \n",
              "1             0                     0                     0              0   \n",
              "2             0                     0                     0              1   \n",
              "3             0                     0                     0              0   \n",
              "4             0                     0                     0              0   \n",
              "\n",
              "   type_Imputed  paint_color_Imputed  \n",
              "0             0                    1  \n",
              "1             0                    1  \n",
              "2             0                    0  \n",
              "3             0                    0  \n",
              "4             0                    0  "
            ]
          },
          "metadata": {
            "tags": []
          },
          "execution_count": 75
        }
      ]
    },
    {
      "cell_type": "code",
      "metadata": {
        "colab": {
          "base_uri": "https://localhost:8080/"
        },
        "id": "WfdIuZUX7vX5",
        "outputId": "1f2b4947-d7ed-48b2-96a4-e93a0bec7130"
      },
      "source": [
        "#check shape\r\n",
        "Full_df.shape"
      ],
      "execution_count": 76,
      "outputs": [
        {
          "output_type": "execute_result",
          "data": {
            "text/plain": [
              "(458213, 29)"
            ]
          },
          "metadata": {
            "tags": []
          },
          "execution_count": 76
        }
      ]
    },
    {
      "cell_type": "markdown",
      "metadata": {
        "id": "GEDG2Fih90ju"
      },
      "source": [
        "#check different features\r\n"
      ]
    },
    {
      "cell_type": "code",
      "metadata": {
        "colab": {
          "base_uri": "https://localhost:8080/"
        },
        "id": "itSWrJ8p88GC",
        "outputId": "9c2664f2-d502-49ea-b5d2-ef9bb9d148d3"
      },
      "source": [
        "#check different features\r\n",
        "Full_df['year_Imputed'].value_counts()"
      ],
      "execution_count": 78,
      "outputs": [
        {
          "output_type": "execute_result",
          "data": {
            "text/plain": [
              "0    458213\n",
              "Name: year_Imputed, dtype: int64"
            ]
          },
          "metadata": {
            "tags": []
          },
          "execution_count": 78
        }
      ]
    },
    {
      "cell_type": "code",
      "metadata": {
        "id": "p5nqiG3z9_qo",
        "colab": {
          "base_uri": "https://localhost:8080/"
        },
        "outputId": "9869111b-2f7f-4f19-ffca-70b93e10f2f6"
      },
      "source": [
        "#preprocessed data does not contain target variable, load main dataframe to retrieve target\r\n",
        "df.price.tail()"
      ],
      "execution_count": 79,
      "outputs": [
        {
          "output_type": "execute_result",
          "data": {
            "text/plain": [
              "458208     9.615539\n",
              "458209     9.792333\n",
              "458210     9.792612\n",
              "458211     7.170888\n",
              "458212    10.038936\n",
              "Name: price, dtype: float64"
            ]
          },
          "metadata": {
            "tags": []
          },
          "execution_count": 79
        }
      ]
    },
    {
      "cell_type": "code",
      "metadata": {
        "id": "SXtpBd7fWcCk"
      },
      "source": [
        "target = df[['price']]"
      ],
      "execution_count": 80,
      "outputs": []
    },
    {
      "cell_type": "code",
      "metadata": {
        "id": "35lfqU_ZAJ8o",
        "colab": {
          "base_uri": "https://localhost:8080/",
          "height": 296
        },
        "outputId": "b44d70c8-87c6-4012-d4cb-6b73ea1f89c0"
      },
      "source": [
        "df.head()"
      ],
      "execution_count": 81,
      "outputs": [
        {
          "output_type": "execute_result",
          "data": {
            "text/html": [
              "<div>\n",
              "<style scoped>\n",
              "    .dataframe tbody tr th:only-of-type {\n",
              "        vertical-align: middle;\n",
              "    }\n",
              "\n",
              "    .dataframe tbody tr th {\n",
              "        vertical-align: top;\n",
              "    }\n",
              "\n",
              "    .dataframe thead th {\n",
              "        text-align: right;\n",
              "    }\n",
              "</style>\n",
              "<table border=\"1\" class=\"dataframe\">\n",
              "  <thead>\n",
              "    <tr style=\"text-align: right;\">\n",
              "      <th></th>\n",
              "      <th>region</th>\n",
              "      <th>price</th>\n",
              "      <th>year</th>\n",
              "      <th>manufacturer</th>\n",
              "      <th>model</th>\n",
              "      <th>condition</th>\n",
              "      <th>cylinders</th>\n",
              "      <th>fuel</th>\n",
              "      <th>odometer</th>\n",
              "      <th>title_status</th>\n",
              "      <th>transmission</th>\n",
              "      <th>drive</th>\n",
              "      <th>size</th>\n",
              "      <th>type</th>\n",
              "      <th>paint_color</th>\n",
              "      <th>state</th>\n",
              "      <th>lat</th>\n",
              "      <th>long</th>\n",
              "    </tr>\n",
              "  </thead>\n",
              "  <tbody>\n",
              "    <tr>\n",
              "      <th>0</th>\n",
              "      <td>auburn</td>\n",
              "      <td>10.491024</td>\n",
              "      <td>2010.0</td>\n",
              "      <td>chevrolet</td>\n",
              "      <td>corvette grand sport</td>\n",
              "      <td>good</td>\n",
              "      <td>8 cylinders</td>\n",
              "      <td>gas</td>\n",
              "      <td>32742.0</td>\n",
              "      <td>clean</td>\n",
              "      <td>other</td>\n",
              "      <td>rwd</td>\n",
              "      <td>NaN</td>\n",
              "      <td>other</td>\n",
              "      <td>NaN</td>\n",
              "      <td>al</td>\n",
              "      <td>32.590000</td>\n",
              "      <td>-85.480000</td>\n",
              "    </tr>\n",
              "    <tr>\n",
              "      <th>1</th>\n",
              "      <td>auburn</td>\n",
              "      <td>8.922792</td>\n",
              "      <td>2014.0</td>\n",
              "      <td>hyundai</td>\n",
              "      <td>sonata</td>\n",
              "      <td>excellent</td>\n",
              "      <td>4 cylinders</td>\n",
              "      <td>gas</td>\n",
              "      <td>93600.0</td>\n",
              "      <td>clean</td>\n",
              "      <td>automatic</td>\n",
              "      <td>fwd</td>\n",
              "      <td>NaN</td>\n",
              "      <td>sedan</td>\n",
              "      <td>NaN</td>\n",
              "      <td>al</td>\n",
              "      <td>32.547500</td>\n",
              "      <td>-85.468200</td>\n",
              "    </tr>\n",
              "    <tr>\n",
              "      <th>2</th>\n",
              "      <td>auburn</td>\n",
              "      <td>8.497195</td>\n",
              "      <td>2006.0</td>\n",
              "      <td>bmw</td>\n",
              "      <td>x3 3.0i</td>\n",
              "      <td>good</td>\n",
              "      <td>6 cylinders</td>\n",
              "      <td>gas</td>\n",
              "      <td>87046.0</td>\n",
              "      <td>clean</td>\n",
              "      <td>automatic</td>\n",
              "      <td>NaN</td>\n",
              "      <td>NaN</td>\n",
              "      <td>SUV</td>\n",
              "      <td>blue</td>\n",
              "      <td>al</td>\n",
              "      <td>32.616807</td>\n",
              "      <td>-85.464149</td>\n",
              "    </tr>\n",
              "    <tr>\n",
              "      <th>3</th>\n",
              "      <td>auburn</td>\n",
              "      <td>7.601402</td>\n",
              "      <td>1974.0</td>\n",
              "      <td>chevrolet</td>\n",
              "      <td>c-10</td>\n",
              "      <td>good</td>\n",
              "      <td>4 cylinders</td>\n",
              "      <td>gas</td>\n",
              "      <td>190000.0</td>\n",
              "      <td>clean</td>\n",
              "      <td>automatic</td>\n",
              "      <td>rwd</td>\n",
              "      <td>full-size</td>\n",
              "      <td>pickup</td>\n",
              "      <td>blue</td>\n",
              "      <td>al</td>\n",
              "      <td>32.861600</td>\n",
              "      <td>-85.216100</td>\n",
              "    </tr>\n",
              "    <tr>\n",
              "      <th>4</th>\n",
              "      <td>auburn</td>\n",
              "      <td>9.878221</td>\n",
              "      <td>2005.0</td>\n",
              "      <td>ford</td>\n",
              "      <td>f350 lariat</td>\n",
              "      <td>excellent</td>\n",
              "      <td>8 cylinders</td>\n",
              "      <td>diesel</td>\n",
              "      <td>116000.0</td>\n",
              "      <td>lien</td>\n",
              "      <td>automatic</td>\n",
              "      <td>4wd</td>\n",
              "      <td>full-size</td>\n",
              "      <td>pickup</td>\n",
              "      <td>blue</td>\n",
              "      <td>al</td>\n",
              "      <td>32.547500</td>\n",
              "      <td>-85.468200</td>\n",
              "    </tr>\n",
              "  </tbody>\n",
              "</table>\n",
              "</div>"
            ],
            "text/plain": [
              "   region      price    year manufacturer                 model  condition  \\\n",
              "0  auburn  10.491024  2010.0    chevrolet  corvette grand sport       good   \n",
              "1  auburn   8.922792  2014.0      hyundai                sonata  excellent   \n",
              "2  auburn   8.497195  2006.0          bmw               x3 3.0i       good   \n",
              "3  auburn   7.601402  1974.0    chevrolet                  c-10       good   \n",
              "4  auburn   9.878221  2005.0         ford           f350 lariat  excellent   \n",
              "\n",
              "     cylinders    fuel  odometer title_status transmission drive       size  \\\n",
              "0  8 cylinders     gas   32742.0        clean        other   rwd        NaN   \n",
              "1  4 cylinders     gas   93600.0        clean    automatic   fwd        NaN   \n",
              "2  6 cylinders     gas   87046.0        clean    automatic   NaN        NaN   \n",
              "3  4 cylinders     gas  190000.0        clean    automatic   rwd  full-size   \n",
              "4  8 cylinders  diesel  116000.0         lien    automatic   4wd  full-size   \n",
              "\n",
              "     type paint_color state        lat       long  \n",
              "0   other         NaN    al  32.590000 -85.480000  \n",
              "1   sedan         NaN    al  32.547500 -85.468200  \n",
              "2     SUV        blue    al  32.616807 -85.464149  \n",
              "3  pickup        blue    al  32.861600 -85.216100  \n",
              "4  pickup        blue    al  32.547500 -85.468200  "
            ]
          },
          "metadata": {
            "tags": []
          },
          "execution_count": 81
        }
      ]
    },
    {
      "cell_type": "code",
      "metadata": {
        "id": "vZkaHSJo9_lu"
      },
      "source": [
        "# Perform a log transform on the target variable\r\n",
        "target = np.log((target + 1))"
      ],
      "execution_count": 82,
      "outputs": []
    },
    {
      "cell_type": "code",
      "metadata": {
        "id": "Pk_uyFFtjPlX"
      },
      "source": [
        "# Combine features and target into one dataset\r\n",
        "dataset = pd.concat([Full_df, target], axis=1)"
      ],
      "execution_count": 84,
      "outputs": []
    },
    {
      "cell_type": "code",
      "metadata": {
        "id": "GcTnneZ2jPcP"
      },
      "source": [
        "dataset.head(2)"
      ],
      "execution_count": null,
      "outputs": []
    },
    {
      "cell_type": "code",
      "metadata": {
        "id": "pVyR38L19_bp"
      },
      "source": [
        "# Split the data into train and test set\r\n",
        "from sklearn.model_selection import train_test_split\r\n",
        "\r\n",
        "train, test = train_test_split(dataset, test_size=0.2, random_state=2020)"
      ],
      "execution_count": 87,
      "outputs": []
    },
    {
      "cell_type": "code",
      "metadata": {
        "colab": {
          "base_uri": "https://localhost:8080/"
        },
        "id": "EB8G3fzzajCb",
        "outputId": "b1cb78ae-5365-4f9d-f128-510ef49268a8"
      },
      "source": [
        "X_train_ = train.drop(['price'], axis=1)\r\n",
        "y_train_ = train['price']\r\n",
        "\r\n",
        "X_test_ = test.drop(['price'], axis=1)\r\n",
        "y_test_ = test['price']\r\n",
        "\r\n",
        "\r\n",
        "print(X_train_.shape)\r\n",
        "print(y_train_.shape)\r\n",
        "print(X_test_.shape)\r\n",
        "print(y_test_.shape)"
      ],
      "execution_count": 88,
      "outputs": [
        {
          "output_type": "stream",
          "text": [
            "(366570, 29)\n",
            "(366570,)\n",
            "(91643, 29)\n",
            "(91643,)\n"
          ],
          "name": "stdout"
        }
      ]
    },
    {
      "cell_type": "code",
      "metadata": {
        "colab": {
          "base_uri": "https://localhost:8080/"
        },
        "id": "8mgT3fbhaq7e",
        "outputId": "104f9836-3bd9-4ab5-a28e-6fab1e4cdb07"
      },
      "source": [
        "# Check for missing value\r\n",
        "X_train_.isnull().sum()"
      ],
      "execution_count": 89,
      "outputs": [
        {
          "output_type": "execute_result",
          "data": {
            "text/plain": [
              "odometer_trans          0\n",
              "car_age_trans           0\n",
              "point_x                 0\n",
              "point_y                 0\n",
              "point_z                 0\n",
              "region                  0\n",
              "year                    0\n",
              "manufacturer            0\n",
              "model                   0\n",
              "condition               0\n",
              "cylinders               0\n",
              "fuel                    0\n",
              "title_status            0\n",
              "transmission            0\n",
              "drive                   0\n",
              "type                    0\n",
              "paint_color             0\n",
              "state                   0\n",
              "year_Imputed            0\n",
              "manufacturer_Imputed    0\n",
              "model_Imputed           0\n",
              "condition_Imputed       0\n",
              "cylinders_Imputed       0\n",
              "fuel_Imputed            0\n",
              "title_status_Imputed    0\n",
              "transmission_Imputed    0\n",
              "drive_Imputed           0\n",
              "type_Imputed            0\n",
              "paint_color_Imputed     0\n",
              "dtype: int64"
            ]
          },
          "metadata": {
            "tags": []
          },
          "execution_count": 89
        }
      ]
    },
    {
      "cell_type": "code",
      "metadata": {
        "id": "wcKcY4oqa6TZ"
      },
      "source": [
        "# import library for cross validation \r\n",
        "from sklearn.model_selection import KFold"
      ],
      "execution_count": 90,
      "outputs": []
    },
    {
      "cell_type": "code",
      "metadata": {
        "id": "2cx6oaN-a6QP"
      },
      "source": [
        "# select categorical features\r\n",
        "cat_indices = np.where(X_train_.dtypes != np.float)[0]\r\n",
        "cat_indices"
      ],
      "execution_count": 91,
      "outputs": []
    },
    {
      "cell_type": "code",
      "metadata": {
        "id": "6zy9hAIka6MX"
      },
      "source": [
        "from math import sqrt\r\n",
        "\r\n",
        "# Function for training the model and calculating the root mean squared error\r\n",
        "def Training_Validation_Error_Catboost(model,train_data,train_labels,test_data,test_labels):\r\n",
        "    model.fit(train_data,train_labels ,cat_features=cat_indices)\r\n",
        "    \r\n",
        "    predicted = model.predict(test_data)\r\n",
        "    \r\n",
        "    rmse = sqrt(mean_squared_error(test_labels,predicted))\r\n",
        "    \r\n",
        "    print ('rmse = '+str(rmse))\r\n",
        "           \r\n",
        "    return(rmse)"
      ],
      "execution_count": 92,
      "outputs": []
    },
    {
      "cell_type": "code",
      "metadata": {
        "id": "KJ008Cz3mls8"
      },
      "source": [
        "gc.collect()"
      ],
      "execution_count": null,
      "outputs": []
    },
    {
      "cell_type": "code",
      "metadata": {
        "colab": {
          "base_uri": "https://localhost:8080/"
        },
        "id": "vxOKNYbPa6J8",
        "outputId": "2d2f1447-d1fd-48ce-f890-ff8e65e1ce79"
      },
      "source": [
        "kf = KFold(n_splits=10)  # Split the training data into 10 folds\r\n",
        "\r\n",
        "from catboost import CatBoostRegressor\r\n",
        "#KFOLD CROSSVAL FOR CATBOOST ALGORITHM\r\n",
        "\r\n",
        "model=CatBoostRegressor(iterations=1500, depth=4, learning_rate=0.03,l2_leaf_reg=10,\r\n",
        "                        loss_function='RMSE', random_state=350, verbose=0, early_stopping_rounds=300)\r\n",
        "rmse_list=[]\r\n",
        "\r\n",
        "for train_index, val_index in kf.split(X_train_):\r\n",
        "    X = X_train_\r\n",
        "    Y = y_train_\r\n",
        "    X_train,X_val=X.iloc[train_index], X.iloc[val_index]\r\n",
        "    Y_train,Y_val=Y.iloc[train_index], Y.iloc[val_index]\r\n",
        "    \r\n",
        "    # Training the model\r\n",
        "    rmse=Training_Validation_Error_Catboost(model,train_data = X_train,train_labels = Y_train,test_data = X_val,test_labels = Y_val)\r\n",
        "    rmse_list.append(rmse)\r\n",
        "    \r\n",
        "\r\n",
        "print(\"mean rmse is :\",np.mean(rmse_list))\r\n",
        "print(\"range is :\", max(rmse_list) - min(rmse_list))"
      ],
      "execution_count": null,
      "outputs": [
        {
          "output_type": "stream",
          "text": [
            "rmse = 0.46510833996586526\n"
          ],
          "name": "stdout"
        }
      ]
    },
    {
      "cell_type": "code",
      "metadata": {
        "colab": {
          "base_uri": "https://localhost:8080/"
        },
        "id": "MeyD1iLrmPQy",
        "outputId": "211dfffd-fe4d-41bc-84e5-8bccadb3f33b"
      },
      "source": [
        "gc.collect()"
      ],
      "execution_count": 15,
      "outputs": [
        {
          "output_type": "execute_result",
          "data": {
            "text/plain": [
              "13"
            ]
          },
          "metadata": {
            "tags": []
          },
          "execution_count": 15
        }
      ]
    },
    {
      "cell_type": "code",
      "metadata": {
        "colab": {
          "base_uri": "https://localhost:8080/",
          "height": 807
        },
        "id": "so-lwzC6bKWy",
        "outputId": "f4cd9082-1cac-4b9e-e294-a46546ed5912"
      },
      "source": [
        "# Prediction on  test data\r\n",
        "pred = model.predict(X_test_)\r\n",
        "\r\n",
        "print(\"R2 training\", model.score(X_train_, y_train_))\r\n",
        "print(\"R2 test\", model.score(X_test_, y_test_))\r\n",
        "print(\"R2 prediction\", r2_score(y_test_, pred))"
      ],
      "execution_count": 93,
      "outputs": [
        {
          "output_type": "error",
          "ename": "CatBoostError",
          "evalue": "ignored",
          "traceback": [
            "\u001b[0;31m---------------------------------------------------------------------------\u001b[0m",
            "\u001b[0;31mCatBoostError\u001b[0m                             Traceback (most recent call last)",
            "\u001b[0;32m_catboost.pyx\u001b[0m in \u001b[0;36m_catboost.get_cat_factor_bytes_representation\u001b[0;34m()\u001b[0m\n",
            "\u001b[0;32m_catboost.pyx\u001b[0m in \u001b[0;36m_catboost.get_id_object_bytes_string_representation\u001b[0;34m()\u001b[0m\n",
            "\u001b[0;31mCatBoostError\u001b[0m: bad object for id: 0.05356519571179257",
            "\nDuring handling of the above exception, another exception occurred:\n",
            "\u001b[0;31mCatBoostError\u001b[0m                             Traceback (most recent call last)",
            "\u001b[0;32m<ipython-input-93-d58267362d66>\u001b[0m in \u001b[0;36m<module>\u001b[0;34m()\u001b[0m\n\u001b[1;32m      1\u001b[0m \u001b[0;31m# Prediction on  test data\u001b[0m\u001b[0;34m\u001b[0m\u001b[0;34m\u001b[0m\u001b[0;34m\u001b[0m\u001b[0m\n\u001b[0;32m----> 2\u001b[0;31m \u001b[0mpred\u001b[0m \u001b[0;34m=\u001b[0m \u001b[0mmodel\u001b[0m\u001b[0;34m.\u001b[0m\u001b[0mpredict\u001b[0m\u001b[0;34m(\u001b[0m\u001b[0mX_test_\u001b[0m\u001b[0;34m)\u001b[0m\u001b[0;34m\u001b[0m\u001b[0;34m\u001b[0m\u001b[0m\n\u001b[0m\u001b[1;32m      3\u001b[0m \u001b[0;34m\u001b[0m\u001b[0m\n\u001b[1;32m      4\u001b[0m \u001b[0mprint\u001b[0m\u001b[0;34m(\u001b[0m\u001b[0;34m\"R2 training\"\u001b[0m\u001b[0;34m,\u001b[0m \u001b[0mmodel\u001b[0m\u001b[0;34m.\u001b[0m\u001b[0mscore\u001b[0m\u001b[0;34m(\u001b[0m\u001b[0mX_train_\u001b[0m\u001b[0;34m,\u001b[0m \u001b[0my_train_\u001b[0m\u001b[0;34m)\u001b[0m\u001b[0;34m)\u001b[0m\u001b[0;34m\u001b[0m\u001b[0;34m\u001b[0m\u001b[0m\n\u001b[1;32m      5\u001b[0m \u001b[0mprint\u001b[0m\u001b[0;34m(\u001b[0m\u001b[0;34m\"R2 test\"\u001b[0m\u001b[0;34m,\u001b[0m \u001b[0mmodel\u001b[0m\u001b[0;34m.\u001b[0m\u001b[0mscore\u001b[0m\u001b[0;34m(\u001b[0m\u001b[0mX_test_\u001b[0m\u001b[0;34m,\u001b[0m \u001b[0my_test_\u001b[0m\u001b[0;34m)\u001b[0m\u001b[0;34m)\u001b[0m\u001b[0;34m\u001b[0m\u001b[0;34m\u001b[0m\u001b[0m\n",
            "\u001b[0;32m/usr/local/lib/python3.6/dist-packages/catboost/core.py\u001b[0m in \u001b[0;36mpredict\u001b[0;34m(self, data, prediction_type, ntree_start, ntree_end, thread_count, verbose)\u001b[0m\n\u001b[1;32m   4890\u001b[0m         \u001b[0;32mif\u001b[0m \u001b[0mprediction_type\u001b[0m \u001b[0;32mis\u001b[0m \u001b[0;32mNone\u001b[0m\u001b[0;34m:\u001b[0m\u001b[0;34m\u001b[0m\u001b[0;34m\u001b[0m\u001b[0m\n\u001b[1;32m   4891\u001b[0m             \u001b[0mprediction_type\u001b[0m \u001b[0;34m=\u001b[0m \u001b[0mself\u001b[0m\u001b[0;34m.\u001b[0m\u001b[0m_get_default_prediction_type\u001b[0m\u001b[0;34m(\u001b[0m\u001b[0;34m)\u001b[0m\u001b[0;34m\u001b[0m\u001b[0;34m\u001b[0m\u001b[0m\n\u001b[0;32m-> 4892\u001b[0;31m         \u001b[0;32mreturn\u001b[0m \u001b[0mself\u001b[0m\u001b[0;34m.\u001b[0m\u001b[0m_predict\u001b[0m\u001b[0;34m(\u001b[0m\u001b[0mdata\u001b[0m\u001b[0;34m,\u001b[0m \u001b[0mprediction_type\u001b[0m\u001b[0;34m,\u001b[0m \u001b[0mntree_start\u001b[0m\u001b[0;34m,\u001b[0m \u001b[0mntree_end\u001b[0m\u001b[0;34m,\u001b[0m \u001b[0mthread_count\u001b[0m\u001b[0;34m,\u001b[0m \u001b[0mverbose\u001b[0m\u001b[0;34m,\u001b[0m \u001b[0;34m'predict'\u001b[0m\u001b[0;34m)\u001b[0m\u001b[0;34m\u001b[0m\u001b[0;34m\u001b[0m\u001b[0m\n\u001b[0m\u001b[1;32m   4893\u001b[0m \u001b[0;34m\u001b[0m\u001b[0m\n\u001b[1;32m   4894\u001b[0m     \u001b[0;32mdef\u001b[0m \u001b[0mstaged_predict\u001b[0m\u001b[0;34m(\u001b[0m\u001b[0mself\u001b[0m\u001b[0;34m,\u001b[0m \u001b[0mdata\u001b[0m\u001b[0;34m,\u001b[0m \u001b[0mprediction_type\u001b[0m\u001b[0;34m=\u001b[0m\u001b[0;34m'RawFormulaVal'\u001b[0m\u001b[0;34m,\u001b[0m \u001b[0mntree_start\u001b[0m\u001b[0;34m=\u001b[0m\u001b[0;36m0\u001b[0m\u001b[0;34m,\u001b[0m \u001b[0mntree_end\u001b[0m\u001b[0;34m=\u001b[0m\u001b[0;36m0\u001b[0m\u001b[0;34m,\u001b[0m \u001b[0meval_period\u001b[0m\u001b[0;34m=\u001b[0m\u001b[0;36m1\u001b[0m\u001b[0;34m,\u001b[0m \u001b[0mthread_count\u001b[0m\u001b[0;34m=\u001b[0m\u001b[0;34m-\u001b[0m\u001b[0;36m1\u001b[0m\u001b[0;34m,\u001b[0m \u001b[0mverbose\u001b[0m\u001b[0;34m=\u001b[0m\u001b[0;32mNone\u001b[0m\u001b[0;34m)\u001b[0m\u001b[0;34m:\u001b[0m\u001b[0;34m\u001b[0m\u001b[0;34m\u001b[0m\u001b[0m\n",
            "\u001b[0;32m/usr/local/lib/python3.6/dist-packages/catboost/core.py\u001b[0m in \u001b[0;36m_predict\u001b[0;34m(self, data, prediction_type, ntree_start, ntree_end, thread_count, verbose, parent_method_name)\u001b[0m\n\u001b[1;32m   1974\u001b[0m         \u001b[0;32mif\u001b[0m \u001b[0mverbose\u001b[0m \u001b[0;32mis\u001b[0m \u001b[0;32mNone\u001b[0m\u001b[0;34m:\u001b[0m\u001b[0;34m\u001b[0m\u001b[0;34m\u001b[0m\u001b[0m\n\u001b[1;32m   1975\u001b[0m             \u001b[0mverbose\u001b[0m \u001b[0;34m=\u001b[0m \u001b[0;32mFalse\u001b[0m\u001b[0;34m\u001b[0m\u001b[0;34m\u001b[0m\u001b[0m\n\u001b[0;32m-> 1976\u001b[0;31m         \u001b[0mdata\u001b[0m\u001b[0;34m,\u001b[0m \u001b[0mdata_is_single_object\u001b[0m \u001b[0;34m=\u001b[0m \u001b[0mself\u001b[0m\u001b[0;34m.\u001b[0m\u001b[0m_process_predict_input_data\u001b[0m\u001b[0;34m(\u001b[0m\u001b[0mdata\u001b[0m\u001b[0;34m,\u001b[0m \u001b[0mparent_method_name\u001b[0m\u001b[0;34m,\u001b[0m \u001b[0mthread_count\u001b[0m\u001b[0;34m)\u001b[0m\u001b[0;34m\u001b[0m\u001b[0;34m\u001b[0m\u001b[0m\n\u001b[0m\u001b[1;32m   1977\u001b[0m         \u001b[0mself\u001b[0m\u001b[0;34m.\u001b[0m\u001b[0m_validate_prediction_type\u001b[0m\u001b[0;34m(\u001b[0m\u001b[0mprediction_type\u001b[0m\u001b[0;34m)\u001b[0m\u001b[0;34m\u001b[0m\u001b[0;34m\u001b[0m\u001b[0m\n\u001b[1;32m   1978\u001b[0m \u001b[0;34m\u001b[0m\u001b[0m\n",
            "\u001b[0;32m/usr/local/lib/python3.6/dist-packages/catboost/core.py\u001b[0m in \u001b[0;36m_process_predict_input_data\u001b[0;34m(self, data, parent_method_name, thread_count, label)\u001b[0m\n\u001b[1;32m   1960\u001b[0m                 \u001b[0mtext_features\u001b[0m\u001b[0;34m=\u001b[0m\u001b[0mself\u001b[0m\u001b[0;34m.\u001b[0m\u001b[0m_get_text_feature_indices\u001b[0m\u001b[0;34m(\u001b[0m\u001b[0;34m)\u001b[0m \u001b[0;32mif\u001b[0m \u001b[0;32mnot\u001b[0m \u001b[0misinstance\u001b[0m\u001b[0;34m(\u001b[0m\u001b[0mdata\u001b[0m\u001b[0;34m,\u001b[0m \u001b[0mFeaturesData\u001b[0m\u001b[0;34m)\u001b[0m \u001b[0;32melse\u001b[0m \u001b[0;32mNone\u001b[0m\u001b[0;34m,\u001b[0m\u001b[0;34m\u001b[0m\u001b[0;34m\u001b[0m\u001b[0m\n\u001b[1;32m   1961\u001b[0m                 \u001b[0membedding_features\u001b[0m\u001b[0;34m=\u001b[0m\u001b[0mself\u001b[0m\u001b[0;34m.\u001b[0m\u001b[0m_get_embedding_feature_indices\u001b[0m\u001b[0;34m(\u001b[0m\u001b[0;34m)\u001b[0m \u001b[0;32mif\u001b[0m \u001b[0;32mnot\u001b[0m \u001b[0misinstance\u001b[0m\u001b[0;34m(\u001b[0m\u001b[0mdata\u001b[0m\u001b[0;34m,\u001b[0m \u001b[0mFeaturesData\u001b[0m\u001b[0;34m)\u001b[0m \u001b[0;32melse\u001b[0m \u001b[0;32mNone\u001b[0m\u001b[0;34m,\u001b[0m\u001b[0;34m\u001b[0m\u001b[0;34m\u001b[0m\u001b[0m\n\u001b[0;32m-> 1962\u001b[0;31m                 \u001b[0mthread_count\u001b[0m\u001b[0;34m=\u001b[0m\u001b[0mthread_count\u001b[0m\u001b[0;34m\u001b[0m\u001b[0;34m\u001b[0m\u001b[0m\n\u001b[0m\u001b[1;32m   1963\u001b[0m             )\n\u001b[1;32m   1964\u001b[0m         \u001b[0;32mreturn\u001b[0m \u001b[0mdata\u001b[0m\u001b[0;34m,\u001b[0m \u001b[0mis_single_object\u001b[0m\u001b[0;34m\u001b[0m\u001b[0;34m\u001b[0m\u001b[0m\n",
            "\u001b[0;32m/usr/local/lib/python3.6/dist-packages/catboost/core.py\u001b[0m in \u001b[0;36m__init__\u001b[0;34m(self, data, label, cat_features, text_features, embedding_features, column_description, pairs, delimiter, has_header, ignore_csv_quoting, weight, group_id, group_weight, subgroup_id, pairs_weight, baseline, feature_names, thread_count)\u001b[0m\n\u001b[1;32m    453\u001b[0m                     )\n\u001b[1;32m    454\u001b[0m \u001b[0;34m\u001b[0m\u001b[0m\n\u001b[0;32m--> 455\u001b[0;31m                 \u001b[0mself\u001b[0m\u001b[0;34m.\u001b[0m\u001b[0m_init\u001b[0m\u001b[0;34m(\u001b[0m\u001b[0mdata\u001b[0m\u001b[0;34m,\u001b[0m \u001b[0mlabel\u001b[0m\u001b[0;34m,\u001b[0m \u001b[0mcat_features\u001b[0m\u001b[0;34m,\u001b[0m \u001b[0mtext_features\u001b[0m\u001b[0;34m,\u001b[0m \u001b[0membedding_features\u001b[0m\u001b[0;34m,\u001b[0m \u001b[0mpairs\u001b[0m\u001b[0;34m,\u001b[0m \u001b[0mweight\u001b[0m\u001b[0;34m,\u001b[0m \u001b[0mgroup_id\u001b[0m\u001b[0;34m,\u001b[0m \u001b[0mgroup_weight\u001b[0m\u001b[0;34m,\u001b[0m \u001b[0msubgroup_id\u001b[0m\u001b[0;34m,\u001b[0m \u001b[0mpairs_weight\u001b[0m\u001b[0;34m,\u001b[0m \u001b[0mbaseline\u001b[0m\u001b[0;34m,\u001b[0m \u001b[0mfeature_names\u001b[0m\u001b[0;34m,\u001b[0m \u001b[0mthread_count\u001b[0m\u001b[0;34m)\u001b[0m\u001b[0;34m\u001b[0m\u001b[0;34m\u001b[0m\u001b[0m\n\u001b[0m\u001b[1;32m    456\u001b[0m         \u001b[0msuper\u001b[0m\u001b[0;34m(\u001b[0m\u001b[0mPool\u001b[0m\u001b[0;34m,\u001b[0m \u001b[0mself\u001b[0m\u001b[0;34m)\u001b[0m\u001b[0;34m.\u001b[0m\u001b[0m__init__\u001b[0m\u001b[0;34m(\u001b[0m\u001b[0;34m)\u001b[0m\u001b[0;34m\u001b[0m\u001b[0;34m\u001b[0m\u001b[0m\n\u001b[1;32m    457\u001b[0m \u001b[0;34m\u001b[0m\u001b[0m\n",
            "\u001b[0;32m/usr/local/lib/python3.6/dist-packages/catboost/core.py\u001b[0m in \u001b[0;36m_init\u001b[0;34m(self, data, label, cat_features, text_features, embedding_features, pairs, weight, group_id, group_weight, subgroup_id, pairs_weight, baseline, feature_names, thread_count)\u001b[0m\n\u001b[1;32m    964\u001b[0m             \u001b[0mbaseline\u001b[0m \u001b[0;34m=\u001b[0m \u001b[0mnp\u001b[0m\u001b[0;34m.\u001b[0m\u001b[0mreshape\u001b[0m\u001b[0;34m(\u001b[0m\u001b[0mbaseline\u001b[0m\u001b[0;34m,\u001b[0m \u001b[0;34m(\u001b[0m\u001b[0msamples_count\u001b[0m\u001b[0;34m,\u001b[0m \u001b[0;34m-\u001b[0m\u001b[0;36m1\u001b[0m\u001b[0;34m)\u001b[0m\u001b[0;34m)\u001b[0m\u001b[0;34m\u001b[0m\u001b[0;34m\u001b[0m\u001b[0m\n\u001b[1;32m    965\u001b[0m             \u001b[0mself\u001b[0m\u001b[0;34m.\u001b[0m\u001b[0m_check_baseline_shape\u001b[0m\u001b[0;34m(\u001b[0m\u001b[0mbaseline\u001b[0m\u001b[0;34m,\u001b[0m \u001b[0msamples_count\u001b[0m\u001b[0;34m)\u001b[0m\u001b[0;34m\u001b[0m\u001b[0;34m\u001b[0m\u001b[0m\n\u001b[0;32m--> 966\u001b[0;31m         \u001b[0mself\u001b[0m\u001b[0;34m.\u001b[0m\u001b[0m_init_pool\u001b[0m\u001b[0;34m(\u001b[0m\u001b[0mdata\u001b[0m\u001b[0;34m,\u001b[0m \u001b[0mlabel\u001b[0m\u001b[0;34m,\u001b[0m \u001b[0mcat_features\u001b[0m\u001b[0;34m,\u001b[0m \u001b[0mtext_features\u001b[0m\u001b[0;34m,\u001b[0m \u001b[0membedding_features\u001b[0m\u001b[0;34m,\u001b[0m \u001b[0mpairs\u001b[0m\u001b[0;34m,\u001b[0m \u001b[0mweight\u001b[0m\u001b[0;34m,\u001b[0m \u001b[0mgroup_id\u001b[0m\u001b[0;34m,\u001b[0m \u001b[0mgroup_weight\u001b[0m\u001b[0;34m,\u001b[0m \u001b[0msubgroup_id\u001b[0m\u001b[0;34m,\u001b[0m \u001b[0mpairs_weight\u001b[0m\u001b[0;34m,\u001b[0m \u001b[0mbaseline\u001b[0m\u001b[0;34m,\u001b[0m \u001b[0mfeature_names\u001b[0m\u001b[0;34m,\u001b[0m \u001b[0mthread_count\u001b[0m\u001b[0;34m)\u001b[0m\u001b[0;34m\u001b[0m\u001b[0;34m\u001b[0m\u001b[0m\n\u001b[0m\u001b[1;32m    967\u001b[0m \u001b[0;34m\u001b[0m\u001b[0m\n\u001b[1;32m    968\u001b[0m \u001b[0;34m\u001b[0m\u001b[0m\n",
            "\u001b[0;32m_catboost.pyx\u001b[0m in \u001b[0;36m_catboost._PoolBase._init_pool\u001b[0;34m()\u001b[0m\n",
            "\u001b[0;32m_catboost.pyx\u001b[0m in \u001b[0;36m_catboost._PoolBase._init_pool\u001b[0;34m()\u001b[0m\n",
            "\u001b[0;32m_catboost.pyx\u001b[0m in \u001b[0;36m_catboost._PoolBase._init_features_order_layout_pool\u001b[0;34m()\u001b[0m\n",
            "\u001b[0;32m_catboost.pyx\u001b[0m in \u001b[0;36m_catboost._set_features_order_data_pd_data_frame\u001b[0;34m()\u001b[0m\n",
            "\u001b[0;32m_catboost.pyx\u001b[0m in \u001b[0;36m_catboost.get_cat_factor_bytes_representation\u001b[0;34m()\u001b[0m\n",
            "\u001b[0;31mCatBoostError\u001b[0m: Invalid type for cat_feature[non-default value idx=0,feature_idx=0]=0.05356519571179257 : cat_features must be integer or string, real number values and NaN values should be converted to string."
          ]
        }
      ]
    },
    {
      "cell_type": "code",
      "metadata": {
        "id": "4CkOd-eWbKUM"
      },
      "source": [
        "#view columns \r\n",
        "X_train_.columns"
      ],
      "execution_count": null,
      "outputs": []
    },
    {
      "cell_type": "code",
      "metadata": {
        "id": "AMaEwvpubKRv"
      },
      "source": [
        "# categorical features with few groups\r\n",
        "col = ['condition', 'cylinders','fuel', 'title_status', 'transmission', 'drive']\r\n",
        "\r\n",
        "# Creating dummy variables for the features in the list 'col'\r\n",
        "X = pd.get_dummies(X_train_, columns=col, prefix=col, prefix_sep=':', drop_first=True)\r\n",
        "\r\n",
        "X_test = pd.get_dummies(X_test_, columns=col, prefix=col, prefix_sep=':', drop_first=True)"
      ],
      "execution_count": null,
      "outputs": []
    },
    {
      "cell_type": "code",
      "metadata": {
        "id": "lfdoRux7bKPd"
      },
      "source": [
        "# features with high dimensionality\r\n",
        "feature_list = ['region', 'year', 'manufacturer', 'model', 'type', 'paint_color', 'state']\r\n",
        "\r\n",
        "target_ = y_train_\r\n",
        "\r\n",
        "# Perform encoding on the high dimensionality features\r\n",
        "CBE_encoder = CatBoostEncoder()\r\n",
        "\r\n",
        "train_cbe = CBE_encoder.fit_transform(X_train_[feature_list], target_)\r\n",
        "print(train_cbe.shape)\r\n",
        "test_cbe = CBE_encoder.transform(X_test_[feature_list])\r\n",
        "print(test_cbe.shape)"
      ],
      "execution_count": null,
      "outputs": []
    },
    {
      "cell_type": "code",
      "metadata": {
        "id": "0sXCA1WrbKMl"
      },
      "source": [
        "# Drop the original features\r\n",
        "X_d = X.drop(feature_list, axis=1) \r\n",
        "X_te = X_test.drop(feature_list, axis=1)"
      ],
      "execution_count": null,
      "outputs": []
    },
    {
      "cell_type": "code",
      "metadata": {
        "id": "y8DHzC62bKJr"
      },
      "source": [
        "# Concatenate the different dataframes\r\n",
        "X_T = pd.concat([X_d, train_cbe], axis=1)\r\n",
        "X_Test = pd.concat([X_te, test_cbe], axis=1)\r\n",
        "X_T.head(2)"
      ],
      "execution_count": null,
      "outputs": []
    },
    {
      "cell_type": "code",
      "metadata": {
        "id": "z-_3pORnbKG9"
      },
      "source": [
        "# Function for training the model and calculating the root mean squared error\r\n",
        "def Training_Validation_Error(model,train_data,train_labels,test_data,test_labels):\r\n",
        "    model.fit(train_data,train_labels)\r\n",
        "    \r\n",
        "    predicted = model.predict(test_data)\r\n",
        "    \r\n",
        "    rmse = sqrt(mean_squared_error(test_labels,predicted))\r\n",
        "    \r\n",
        "    print ('rmse = '+str(rmse))\r\n",
        "           \r\n",
        "    return(rmse)"
      ],
      "execution_count": null,
      "outputs": []
    },
    {
      "cell_type": "code",
      "metadata": {
        "id": "viXYV4n0bKED"
      },
      "source": [
        "kf = KFold(n_splits=10)\r\n",
        "\r\n",
        "# XGBoost model\r\n",
        "model_x = xgboost.XGBRegressor(colsample_bytree=0.4,\r\n",
        "                 gamma=0,                 \r\n",
        "                 learning_rate=0.03,\r\n",
        "                 max_depth=10,\r\n",
        "                 min_child_weight=1.5,\r\n",
        "                 n_estimators=1500,                                                                    \r\n",
        "                 reg_alpha=0.75,\r\n",
        "                 reg_lambda=0.45,\r\n",
        "                 subsample=0.6,\r\n",
        "                 seed=42, early_stopping_rounds=300)\r\n",
        "#KFOLD CROSSVAL FOR XGBOOST ALGORITHM\r\n",
        "\r\n",
        "\r\n",
        "rmse_list=[]\r\n",
        "\r\n",
        "for train_index, test_index in kf.split(X_T):\r\n",
        "    X = X_T\r\n",
        "    Y = y_train_\r\n",
        "    X_train,X_val=X.iloc[train_index], X.iloc[test_index]\r\n",
        "    Y_train,Y_val=Y.iloc[train_index], Y.iloc[test_index]   \r\n",
        "    rmse=Training_Validation_Error(model_x,train_data = X_train,train_labels = Y_train,test_data = X_val,test_labels = Y_val)\r\n",
        "    rmse_list.append(rmse)\r\n",
        "    \r\n",
        "print(\"mean rmse is :\",np.mean(rmse_list))\r\n",
        "print(\"range is :\", max(rmse_list) - min(rmse_list))"
      ],
      "execution_count": null,
      "outputs": []
    },
    {
      "cell_type": "code",
      "metadata": {
        "id": "rRsDY-UgbKBd"
      },
      "source": [
        "# Predicting on the test dataset\r\n",
        "predi = model_x.predict(X_Test)\r\n",
        "\r\n",
        "print(\"R2 training\", model_x.score(X_T, y_train_))\r\n",
        "\r\n",
        "print(\"R2 test\", model_x.score(X_Test, y_test_))\r\n",
        "\r\n",
        "print(\"R2 prediction\", r2_score(y_test_, predi))"
      ],
      "execution_count": null,
      "outputs": []
    },
    {
      "cell_type": "markdown",
      "metadata": {
        "id": "EvuFzFFxbJkV"
      },
      "source": [
        "# Random Forest"
      ]
    },
    {
      "cell_type": "code",
      "metadata": {
        "id": "tflz2FFja56r"
      },
      "source": [
        "X_T.head(2)"
      ],
      "execution_count": null,
      "outputs": []
    },
    {
      "cell_type": "code",
      "metadata": {
        "id": "f4-OdSPxcZm-"
      },
      "source": [
        "X_T.isnull().sum()"
      ],
      "execution_count": null,
      "outputs": []
    },
    {
      "cell_type": "code",
      "metadata": {
        "id": "nYQFXjmKcZdJ"
      },
      "source": [
        "# Creating a duplicate of the training dataframe\r\n",
        "X_ = X_T.copy()"
      ],
      "execution_count": null,
      "outputs": []
    },
    {
      "cell_type": "code",
      "metadata": {
        "id": "tvhLUwtHcZQ6"
      },
      "source": [
        "# fill missing values in year with mode \r\n",
        "X_['year'] = X_T['year'].fillna(X_T['year'].mode()[0])"
      ],
      "execution_count": null,
      "outputs": []
    },
    {
      "cell_type": "code",
      "metadata": {
        "id": "PedbBVaNcjSe"
      },
      "source": [
        "# Confirming there are no more missing values\r\n",
        "X_.isnull().sum()"
      ],
      "execution_count": null,
      "outputs": []
    },
    {
      "cell_type": "code",
      "metadata": {
        "id": "lquc6C5FcjQD"
      },
      "source": [
        "kf = KFold(n_splits=10)\r\n",
        "\r\n",
        "from sklearn.ensemble import RandomForestRegressor\r\n",
        "\r\n",
        "model_rf = RandomForestRegressor()\r\n",
        "#KFOLD CROSSVAL FOR XGBOOST ALGORITHM\r\n",
        "\r\n",
        "\r\n",
        "rmse_list=[]\r\n",
        "\r\n",
        "for train_index, test_index in kf.split(X_):\r\n",
        "    X = X_\r\n",
        "    Y = y_train_\r\n",
        "    X_train,X_val=X.iloc[train_index], X.iloc[test_index]\r\n",
        "    Y_train,Y_val=Y.iloc[train_index], Y.iloc[test_index]   \r\n",
        "    rmse=Training_Validation_Error(model_rf,train_data = X_train,train_labels = Y_train,test_data = X_val,test_labels = Y_val)\r\n",
        "    rmse_list.append(rmse)\r\n",
        "    \r\n",
        "print(\"mean rmse is :\",np.mean(rmse_list))\r\n",
        "print(\"range is :\", max(rmse_list) - min(rmse_list))"
      ],
      "execution_count": null,
      "outputs": []
    },
    {
      "cell_type": "code",
      "metadata": {
        "id": "cOPq25YdcjNv"
      },
      "source": [
        "# Filling missing values for year in the test data\r\n",
        "X_Test['year'] = X_Test['year'].fillna(X_Test['year'].mode()[0])"
      ],
      "execution_count": null,
      "outputs": []
    },
    {
      "cell_type": "code",
      "metadata": {
        "id": "qxJARbNacjLM"
      },
      "source": [
        "# Predicting on the test dataset\r\n",
        "predic = model_rf.predict(X_Test)\r\n",
        "\r\n",
        "print(\"R2 training\", model_rf.score(X_, y_train_))\r\n",
        "\r\n",
        "print(\"R2 test\", model_rf.score(X_Test, y_test_))\r\n",
        "\r\n",
        "print(\"R2 prediction\", r2_score(y_test_, predic))"
      ],
      "execution_count": null,
      "outputs": []
    },
    {
      "cell_type": "code",
      "metadata": {
        "id": "TUUZZWfycjIj"
      },
      "source": [
        "# Overall RMSE on test data for the different models\r\n",
        "print(\"Catboost RMSE test_data :\", sqrt(mean_squared_error(y_test_, pred)))\r\n",
        "print(\"XGboost RMSE test_data :\", sqrt(mean_squared_error(y_test_, predi)))\r\n",
        "print(\"Random Forest RMSE test_data :\", sqrt(mean_squared_error(y_test_, predic)))"
      ],
      "execution_count": null,
      "outputs": []
    },
    {
      "cell_type": "code",
      "metadata": {
        "id": "AJCWuJadcjF7"
      },
      "source": [
        "# Transforming the predictions made by each model\r\n",
        "catboost_predictions = np.expm1(pred)\r\n",
        "xgboost_predictions = np.expm1(predi)\r\n",
        "random_forest_predictions = np.expm1(predic)"
      ],
      "execution_count": null,
      "outputs": []
    },
    {
      "cell_type": "code",
      "metadata": {
        "id": "WMFPy5gtdBri"
      },
      "source": [
        "pd.set_option('max_rows', None)"
      ],
      "execution_count": null,
      "outputs": []
    },
    {
      "cell_type": "code",
      "metadata": {
        "id": "Is-ms3dKdBmh"
      },
      "source": [
        "# converting prediction arrays to lists\r\n",
        "catb = list(catboost_predictions)\r\n",
        "xgbb = list(xgboost_predictions)\r\n",
        "rf_m = list(random_forest_predictions)"
      ],
      "execution_count": null,
      "outputs": []
    },
    {
      "cell_type": "code",
      "metadata": {
        "id": "_5FtIe17dBhL"
      },
      "source": [
        "model_dictionary = {'Catboost': catb, 'XGBoost':xgbb, 'Random_forest':rf_m}"
      ],
      "execution_count": null,
      "outputs": []
    },
    {
      "cell_type": "code",
      "metadata": {
        "id": "NvPfkAnYdBdn"
      },
      "source": [
        "# Creating a dataframe of the predictions made by each model\r\n",
        "df = pd.DataFrame(model_dictionary)"
      ],
      "execution_count": null,
      "outputs": []
    },
    {
      "cell_type": "code",
      "metadata": {
        "id": "UUuYZ1PYdBay"
      },
      "source": [
        "df.head()"
      ],
      "execution_count": null,
      "outputs": []
    }
  ]
}