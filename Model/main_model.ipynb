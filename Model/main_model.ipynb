{
  "nbformat": 4,
  "nbformat_minor": 0,
  "metadata": {
    "kernelspec": {
      "display_name": "Python 3",
      "language": "python",
      "name": "python3"
    },
    "language_info": {
      "codemirror_mode": {
        "name": "ipython",
        "version": 3
      },
      "file_extension": ".py",
      "mimetype": "text/x-python",
      "name": "python",
      "nbconvert_exporter": "python",
      "pygments_lexer": "ipython3",
      "version": "3.7.4"
    },
    "colab": {
      "name": "main_model.ipynb",
      "provenance": [],
      "collapsed_sections": [],
      "include_colab_link": true
    }
  },
  "cells": [
    {
      "cell_type": "markdown",
      "metadata": {
        "id": "view-in-github",
        "colab_type": "text"
      },
      "source": [
        "<a href=\"https://colab.research.google.com/github/olufunmiruth/g05-used-cars/blob/new_branch/main_model.ipynb\" target=\"_parent\"><img src=\"https://colab.research.google.com/assets/colab-badge.svg\" alt=\"Open In Colab\"/></a>"
      ]
    },
    {
      "cell_type": "code",
      "metadata": {
        "ExecuteTime": {
          "end_time": "2020-12-09T07:40:48.479112Z",
          "start_time": "2020-12-09T07:40:12.475828Z"
        },
        "_cell_guid": "79c7e3d0-c299-4dcb-8224-4455121ee9b0",
        "_uuid": "d629ff2d2480ee46fbb7e2d37f6b5fab8052498a",
        "id": "cOfHpjDf8PyD"
      },
      "source": [
        "import pandas as pd\n",
        "pd.set_option('max_columns', None)\n",
        "pd.set_option('max_rows', None)\n",
        "import numpy as np\n",
        "import matplotlib.pyplot as plt\n",
        "import seaborn as sns\n",
        "\n",
        "import catboost\n",
        "import xgboost\n",
        "from sklearn.metrics import mean_squared_error, r2_score\n",
        "from category_encoders.cat_boost import CatBoostEncoder\n",
        "\n",
        "from sklearn.ensemble import RandomForestRegressor\n",
        "\n",
        "import datetime"
      ],
      "execution_count": null,
      "outputs": []
    },
    {
      "cell_type": "code",
      "metadata": {
        "ExecuteTime": {
          "end_time": "2020-12-09T07:40:52.218719Z",
          "start_time": "2020-12-09T07:40:48.482111Z"
        },
        "scrolled": true,
        "id": "uK7GBmxf8Pye",
        "outputId": "655facd6-f2af-4f7e-df28-583444260bf3"
      },
      "source": [
        "# load the processed data (Full_data)\n",
        "data = pd.read_csv('clean_df.csv')\n",
        "data.head(2)"
      ],
      "execution_count": null,
      "outputs": [
        {
          "output_type": "execute_result",
          "data": {
            "text/html": [
              "<div>\n",
              "<style scoped>\n",
              "    .dataframe tbody tr th:only-of-type {\n",
              "        vertical-align: middle;\n",
              "    }\n",
              "\n",
              "    .dataframe tbody tr th {\n",
              "        vertical-align: top;\n",
              "    }\n",
              "\n",
              "    .dataframe thead th {\n",
              "        text-align: right;\n",
              "    }\n",
              "</style>\n",
              "<table border=\"1\" class=\"dataframe\">\n",
              "  <thead>\n",
              "    <tr style=\"text-align: right;\">\n",
              "      <th></th>\n",
              "      <th>odometer_trans</th>\n",
              "      <th>car_age_trans</th>\n",
              "      <th>point_x</th>\n",
              "      <th>point_y</th>\n",
              "      <th>point_z</th>\n",
              "      <th>price_log</th>\n",
              "      <th>region</th>\n",
              "      <th>year</th>\n",
              "      <th>manufacturer</th>\n",
              "      <th>model</th>\n",
              "      <th>condition</th>\n",
              "      <th>cylinders</th>\n",
              "      <th>fuel</th>\n",
              "      <th>title_status</th>\n",
              "      <th>transmission</th>\n",
              "      <th>drive</th>\n",
              "      <th>type</th>\n",
              "      <th>paint_color</th>\n",
              "      <th>state</th>\n",
              "      <th>year_Imputed</th>\n",
              "      <th>manufacturer_Imputed</th>\n",
              "      <th>model_Imputed</th>\n",
              "      <th>condition_Imputed</th>\n",
              "      <th>cylinders_Imputed</th>\n",
              "      <th>fuel_Imputed</th>\n",
              "      <th>title_status_Imputed</th>\n",
              "      <th>transmission_Imputed</th>\n",
              "      <th>drive_Imputed</th>\n",
              "      <th>type_Imputed</th>\n",
              "      <th>paint_color_Imputed</th>\n",
              "    </tr>\n",
              "  </thead>\n",
              "  <tbody>\n",
              "    <tr>\n",
              "      <th>0</th>\n",
              "      <td>-0.828596</td>\n",
              "      <td>0.375</td>\n",
              "      <td>-0.305961</td>\n",
              "      <td>0.235990</td>\n",
              "      <td>0.922332</td>\n",
              "      <td>10.491024</td>\n",
              "      <td>auburn</td>\n",
              "      <td>2010.0</td>\n",
              "      <td>chevrolet</td>\n",
              "      <td>corvette grand sport</td>\n",
              "      <td>good</td>\n",
              "      <td>8 cylinders</td>\n",
              "      <td>gas</td>\n",
              "      <td>clean</td>\n",
              "      <td>other</td>\n",
              "      <td>rwd</td>\n",
              "      <td>other</td>\n",
              "      <td>white</td>\n",
              "      <td>al</td>\n",
              "      <td>0</td>\n",
              "      <td>0</td>\n",
              "      <td>0</td>\n",
              "      <td>0</td>\n",
              "      <td>0</td>\n",
              "      <td>0</td>\n",
              "      <td>0</td>\n",
              "      <td>0</td>\n",
              "      <td>0</td>\n",
              "      <td>0</td>\n",
              "      <td>1</td>\n",
              "    </tr>\n",
              "    <tr>\n",
              "      <th>1</th>\n",
              "      <td>-0.069958</td>\n",
              "      <td>-0.125</td>\n",
              "      <td>-0.339755</td>\n",
              "      <td>0.255719</td>\n",
              "      <td>0.905082</td>\n",
              "      <td>8.922792</td>\n",
              "      <td>auburn</td>\n",
              "      <td>2014.0</td>\n",
              "      <td>hyundai</td>\n",
              "      <td>sonata</td>\n",
              "      <td>excellent</td>\n",
              "      <td>4 cylinders</td>\n",
              "      <td>gas</td>\n",
              "      <td>clean</td>\n",
              "      <td>automatic</td>\n",
              "      <td>fwd</td>\n",
              "      <td>sedan</td>\n",
              "      <td>white</td>\n",
              "      <td>al</td>\n",
              "      <td>0</td>\n",
              "      <td>0</td>\n",
              "      <td>0</td>\n",
              "      <td>0</td>\n",
              "      <td>0</td>\n",
              "      <td>0</td>\n",
              "      <td>0</td>\n",
              "      <td>0</td>\n",
              "      <td>0</td>\n",
              "      <td>0</td>\n",
              "      <td>1</td>\n",
              "    </tr>\n",
              "  </tbody>\n",
              "</table>\n",
              "</div>"
            ],
            "text/plain": [
              "   odometer_trans  car_age_trans   point_x   point_y   point_z  price_log  \\\n",
              "0       -0.828596          0.375 -0.305961  0.235990  0.922332  10.491024   \n",
              "1       -0.069958         -0.125 -0.339755  0.255719  0.905082   8.922792   \n",
              "\n",
              "   region    year manufacturer                 model  condition    cylinders  \\\n",
              "0  auburn  2010.0    chevrolet  corvette grand sport       good  8 cylinders   \n",
              "1  auburn  2014.0      hyundai                sonata  excellent  4 cylinders   \n",
              "\n",
              "  fuel title_status transmission drive   type paint_color state  year_Imputed  \\\n",
              "0  gas        clean        other   rwd  other       white    al             0   \n",
              "1  gas        clean    automatic   fwd  sedan       white    al             0   \n",
              "\n",
              "   manufacturer_Imputed  model_Imputed  condition_Imputed  cylinders_Imputed  \\\n",
              "0                     0              0                  0                  0   \n",
              "1                     0              0                  0                  0   \n",
              "\n",
              "   fuel_Imputed  title_status_Imputed  transmission_Imputed  drive_Imputed  \\\n",
              "0             0                     0                     0              0   \n",
              "1             0                     0                     0              0   \n",
              "\n",
              "   type_Imputed  paint_color_Imputed  \n",
              "0             0                    1  \n",
              "1             0                    1  "
            ]
          },
          "metadata": {
            "tags": []
          },
          "execution_count": 2
        }
      ]
    },
    {
      "cell_type": "code",
      "metadata": {
        "ExecuteTime": {
          "end_time": "2020-12-09T07:40:52.230713Z",
          "start_time": "2020-12-09T07:40:52.222719Z"
        },
        "id": "uBI-DOkt8Pyk",
        "outputId": "acea2bf9-fdee-47d9-a181-48980eb05cfb"
      },
      "source": [
        "data.shape"
      ],
      "execution_count": null,
      "outputs": [
        {
          "output_type": "execute_result",
          "data": {
            "text/plain": [
              "(458213, 30)"
            ]
          },
          "metadata": {
            "tags": []
          },
          "execution_count": 3
        }
      ]
    },
    {
      "cell_type": "code",
      "metadata": {
        "ExecuteTime": {
          "end_time": "2020-12-09T07:40:55.055675Z",
          "start_time": "2020-12-09T07:40:52.234710Z"
        },
        "id": "05sDhlcW8Pym",
        "outputId": "0015eba4-230e-43c1-ecb4-52f3981600f9"
      },
      "source": [
        "# Load the data and pick the target variable because the preprocesed data does not contain the target variable\n",
        "data2 = pd.read_csv('new_vehicle.csv')\n",
        "data2.shape"
      ],
      "execution_count": null,
      "outputs": [
        {
          "output_type": "execute_result",
          "data": {
            "text/plain": [
              "(458213, 19)"
            ]
          },
          "metadata": {
            "tags": []
          },
          "execution_count": 4
        }
      ]
    },
    {
      "cell_type": "code",
      "metadata": {
        "ExecuteTime": {
          "end_time": "2020-12-09T07:40:55.095651Z",
          "start_time": "2020-12-09T07:40:55.058671Z"
        },
        "id": "WQBbP1HG8Pyo"
      },
      "source": [
        "target = data2[['price']]"
      ],
      "execution_count": null,
      "outputs": []
    },
    {
      "cell_type": "code",
      "metadata": {
        "ExecuteTime": {
          "end_time": "2020-12-09T07:40:55.466754Z",
          "start_time": "2020-12-09T07:40:55.099647Z"
        },
        "id": "StK1GaCG8Pyp"
      },
      "source": [
        "# Perform a log transform on the target variable\n",
        "target = np.log((target + 1))"
      ],
      "execution_count": null,
      "outputs": []
    },
    {
      "cell_type": "code",
      "metadata": {
        "ExecuteTime": {
          "end_time": "2020-12-10T21:15:34.320697Z",
          "start_time": "2020-12-10T21:15:34.079844Z"
        },
        "id": "O16aIbgc8Pyq",
        "outputId": "a8b3bd2f-8d45-429d-b001-ca149b0397d6"
      },
      "source": [
        "target.tail(2)"
      ],
      "execution_count": null,
      "outputs": [
        {
          "output_type": "execute_result",
          "data": {
            "text/html": [
              "<div>\n",
              "<style scoped>\n",
              "    .dataframe tbody tr th:only-of-type {\n",
              "        vertical-align: middle;\n",
              "    }\n",
              "\n",
              "    .dataframe tbody tr th {\n",
              "        vertical-align: top;\n",
              "    }\n",
              "\n",
              "    .dataframe thead th {\n",
              "        text-align: right;\n",
              "    }\n",
              "</style>\n",
              "<table border=\"1\" class=\"dataframe\">\n",
              "  <thead>\n",
              "    <tr style=\"text-align: right;\">\n",
              "      <th></th>\n",
              "      <th>price</th>\n",
              "    </tr>\n",
              "  </thead>\n",
              "  <tbody>\n",
              "    <tr>\n",
              "      <th>458211</th>\n",
              "      <td>7.170888</td>\n",
              "    </tr>\n",
              "    <tr>\n",
              "      <th>458212</th>\n",
              "      <td>10.038936</td>\n",
              "    </tr>\n",
              "  </tbody>\n",
              "</table>\n",
              "</div>"
            ],
            "text/plain": [
              "            price\n",
              "458211   7.170888\n",
              "458212  10.038936"
            ]
          },
          "metadata": {
            "tags": []
          },
          "execution_count": 56
        }
      ]
    },
    {
      "cell_type": "code",
      "metadata": {
        "ExecuteTime": {
          "end_time": "2020-12-09T07:41:06.800844Z",
          "start_time": "2020-12-09T07:41:06.628949Z"
        },
        "id": "w4f59yf68Pyr"
      },
      "source": [
        "# Combine features and target into one dataset\n",
        "dataset = pd.concat([data, target], axis=1)"
      ],
      "execution_count": null,
      "outputs": []
    },
    {
      "cell_type": "code",
      "metadata": {
        "ExecuteTime": {
          "end_time": "2020-12-09T07:41:07.161156Z",
          "start_time": "2020-12-09T07:41:07.126177Z"
        },
        "id": "WtVZ8vun8Pys",
        "outputId": "0311c76c-2170-4c80-9912-c0de9c0c1599"
      },
      "source": [
        "dataset.head(2)"
      ],
      "execution_count": null,
      "outputs": [
        {
          "output_type": "execute_result",
          "data": {
            "text/html": [
              "<div>\n",
              "<style scoped>\n",
              "    .dataframe tbody tr th:only-of-type {\n",
              "        vertical-align: middle;\n",
              "    }\n",
              "\n",
              "    .dataframe tbody tr th {\n",
              "        vertical-align: top;\n",
              "    }\n",
              "\n",
              "    .dataframe thead th {\n",
              "        text-align: right;\n",
              "    }\n",
              "</style>\n",
              "<table border=\"1\" class=\"dataframe\">\n",
              "  <thead>\n",
              "    <tr style=\"text-align: right;\">\n",
              "      <th></th>\n",
              "      <th>odometer_trans</th>\n",
              "      <th>car_age_trans</th>\n",
              "      <th>point_x</th>\n",
              "      <th>point_y</th>\n",
              "      <th>point_z</th>\n",
              "      <th>price_log</th>\n",
              "      <th>region</th>\n",
              "      <th>year</th>\n",
              "      <th>manufacturer</th>\n",
              "      <th>model</th>\n",
              "      <th>condition</th>\n",
              "      <th>cylinders</th>\n",
              "      <th>fuel</th>\n",
              "      <th>title_status</th>\n",
              "      <th>transmission</th>\n",
              "      <th>drive</th>\n",
              "      <th>type</th>\n",
              "      <th>paint_color</th>\n",
              "      <th>state</th>\n",
              "      <th>year_Imputed</th>\n",
              "      <th>manufacturer_Imputed</th>\n",
              "      <th>model_Imputed</th>\n",
              "      <th>condition_Imputed</th>\n",
              "      <th>cylinders_Imputed</th>\n",
              "      <th>fuel_Imputed</th>\n",
              "      <th>title_status_Imputed</th>\n",
              "      <th>transmission_Imputed</th>\n",
              "      <th>drive_Imputed</th>\n",
              "      <th>type_Imputed</th>\n",
              "      <th>paint_color_Imputed</th>\n",
              "      <th>price</th>\n",
              "    </tr>\n",
              "  </thead>\n",
              "  <tbody>\n",
              "    <tr>\n",
              "      <th>0</th>\n",
              "      <td>-0.828596</td>\n",
              "      <td>0.375</td>\n",
              "      <td>-0.305961</td>\n",
              "      <td>0.235990</td>\n",
              "      <td>0.922332</td>\n",
              "      <td>10.491024</td>\n",
              "      <td>auburn</td>\n",
              "      <td>2010.0</td>\n",
              "      <td>chevrolet</td>\n",
              "      <td>corvette grand sport</td>\n",
              "      <td>good</td>\n",
              "      <td>8 cylinders</td>\n",
              "      <td>gas</td>\n",
              "      <td>clean</td>\n",
              "      <td>other</td>\n",
              "      <td>rwd</td>\n",
              "      <td>other</td>\n",
              "      <td>white</td>\n",
              "      <td>al</td>\n",
              "      <td>0</td>\n",
              "      <td>0</td>\n",
              "      <td>0</td>\n",
              "      <td>0</td>\n",
              "      <td>0</td>\n",
              "      <td>0</td>\n",
              "      <td>0</td>\n",
              "      <td>0</td>\n",
              "      <td>0</td>\n",
              "      <td>0</td>\n",
              "      <td>1</td>\n",
              "      <td>10.491024</td>\n",
              "    </tr>\n",
              "    <tr>\n",
              "      <th>1</th>\n",
              "      <td>-0.069958</td>\n",
              "      <td>-0.125</td>\n",
              "      <td>-0.339755</td>\n",
              "      <td>0.255719</td>\n",
              "      <td>0.905082</td>\n",
              "      <td>8.922792</td>\n",
              "      <td>auburn</td>\n",
              "      <td>2014.0</td>\n",
              "      <td>hyundai</td>\n",
              "      <td>sonata</td>\n",
              "      <td>excellent</td>\n",
              "      <td>4 cylinders</td>\n",
              "      <td>gas</td>\n",
              "      <td>clean</td>\n",
              "      <td>automatic</td>\n",
              "      <td>fwd</td>\n",
              "      <td>sedan</td>\n",
              "      <td>white</td>\n",
              "      <td>al</td>\n",
              "      <td>0</td>\n",
              "      <td>0</td>\n",
              "      <td>0</td>\n",
              "      <td>0</td>\n",
              "      <td>0</td>\n",
              "      <td>0</td>\n",
              "      <td>0</td>\n",
              "      <td>0</td>\n",
              "      <td>0</td>\n",
              "      <td>0</td>\n",
              "      <td>1</td>\n",
              "      <td>8.922792</td>\n",
              "    </tr>\n",
              "  </tbody>\n",
              "</table>\n",
              "</div>"
            ],
            "text/plain": [
              "   odometer_trans  car_age_trans   point_x   point_y   point_z  price_log  \\\n",
              "0       -0.828596          0.375 -0.305961  0.235990  0.922332  10.491024   \n",
              "1       -0.069958         -0.125 -0.339755  0.255719  0.905082   8.922792   \n",
              "\n",
              "   region    year manufacturer                 model  condition    cylinders  \\\n",
              "0  auburn  2010.0    chevrolet  corvette grand sport       good  8 cylinders   \n",
              "1  auburn  2014.0      hyundai                sonata  excellent  4 cylinders   \n",
              "\n",
              "  fuel title_status transmission drive   type paint_color state  year_Imputed  \\\n",
              "0  gas        clean        other   rwd  other       white    al             0   \n",
              "1  gas        clean    automatic   fwd  sedan       white    al             0   \n",
              "\n",
              "   manufacturer_Imputed  model_Imputed  condition_Imputed  cylinders_Imputed  \\\n",
              "0                     0              0                  0                  0   \n",
              "1                     0              0                  0                  0   \n",
              "\n",
              "   fuel_Imputed  title_status_Imputed  transmission_Imputed  drive_Imputed  \\\n",
              "0             0                     0                     0              0   \n",
              "1             0                     0                     0              0   \n",
              "\n",
              "   type_Imputed  paint_color_Imputed      price  \n",
              "0             0                    1  10.491024  \n",
              "1             0                    1   8.922792  "
            ]
          },
          "metadata": {
            "tags": []
          },
          "execution_count": 9
        }
      ]
    },
    {
      "cell_type": "code",
      "metadata": {
        "ExecuteTime": {
          "end_time": "2020-12-09T07:41:09.926707Z",
          "start_time": "2020-12-09T07:41:09.237635Z"
        },
        "id": "FbxiKdw68Pyv"
      },
      "source": [
        "# Split data into train and test set\n",
        "from sklearn.model_selection import train_test_split\n",
        "\n",
        "train, test = train_test_split(dataset, test_size=0.2, random_state=2020)"
      ],
      "execution_count": null,
      "outputs": []
    },
    {
      "cell_type": "code",
      "metadata": {
        "ExecuteTime": {
          "end_time": "2020-12-09T07:41:10.467663Z",
          "start_time": "2020-12-09T07:41:10.309763Z"
        },
        "id": "fP5wuqly8Py0",
        "outputId": "cad1a556-c778-4abf-e383-64c8479ccda0"
      },
      "source": [
        "# Split into features and targets\n",
        "X_train_ = train.drop(['price'], axis=1)\n",
        "y_train_ = train['price']\n",
        "\n",
        "X_test_ = test.drop(['price'], axis=1)\n",
        "y_test_ = test['price']\n",
        "\n",
        "\n",
        "print(X_train_.shape)\n",
        "print(y_train_.shape)\n",
        "print(X_test_.shape)\n",
        "print(y_test_.shape)"
      ],
      "execution_count": null,
      "outputs": [
        {
          "output_type": "stream",
          "text": [
            "(366570, 30)\n",
            "(366570,)\n",
            "(91643, 30)\n",
            "(91643,)\n"
          ],
          "name": "stdout"
        }
      ]
    },
    {
      "cell_type": "code",
      "metadata": {
        "ExecuteTime": {
          "end_time": "2020-12-09T18:46:21.851417Z",
          "start_time": "2020-12-09T18:46:21.570589Z"
        },
        "scrolled": true,
        "id": "6Rp0mTkD8Py1",
        "outputId": "e2b7c93e-1a12-40be-c8e0-d6bddba9cea5"
      },
      "source": [
        "# Check for missing value\n",
        "X_train_.isnull().sum()"
      ],
      "execution_count": null,
      "outputs": [
        {
          "output_type": "execute_result",
          "data": {
            "text/plain": [
              "odometer_trans            0\n",
              "car_age_trans             0\n",
              "point_x                   0\n",
              "point_y                   0\n",
              "point_z                   0\n",
              "price_log                 0\n",
              "region                    0\n",
              "year                    839\n",
              "manufacturer              0\n",
              "model                     0\n",
              "condition                 0\n",
              "cylinders                 0\n",
              "fuel                      0\n",
              "title_status              0\n",
              "transmission              0\n",
              "drive                     0\n",
              "type                      0\n",
              "paint_color               0\n",
              "state                     0\n",
              "year_Imputed              0\n",
              "manufacturer_Imputed      0\n",
              "model_Imputed             0\n",
              "condition_Imputed         0\n",
              "cylinders_Imputed         0\n",
              "fuel_Imputed              0\n",
              "title_status_Imputed      0\n",
              "transmission_Imputed      0\n",
              "drive_Imputed             0\n",
              "type_Imputed              0\n",
              "paint_color_Imputed       0\n",
              "dtype: int64"
            ]
          },
          "metadata": {
            "tags": []
          },
          "execution_count": 41
        }
      ]
    },
    {
      "cell_type": "markdown",
      "metadata": {
        "id": "Qb9de__f8Py1"
      },
      "source": [
        "# Catboost"
      ]
    },
    {
      "cell_type": "code",
      "metadata": {
        "ExecuteTime": {
          "end_time": "2020-12-09T07:41:11.866646Z",
          "start_time": "2020-12-09T07:41:11.859649Z"
        },
        "id": "LIfG5pfn8Py2"
      },
      "source": [
        "# import library for cross validation \n",
        "from sklearn.model_selection import KFold"
      ],
      "execution_count": null,
      "outputs": []
    },
    {
      "cell_type": "code",
      "metadata": {
        "ExecuteTime": {
          "end_time": "2020-12-09T07:41:13.008515Z",
          "start_time": "2020-12-09T07:41:13.002521Z"
        },
        "id": "iWCPrMvi8Py4"
      },
      "source": [
        "# select categorical features\n",
        "cat_indices = np.where(X_train_.dtypes != np.float)[0]"
      ],
      "execution_count": null,
      "outputs": []
    },
    {
      "cell_type": "code",
      "metadata": {
        "ExecuteTime": {
          "end_time": "2020-12-09T07:41:14.512495Z",
          "start_time": "2020-12-09T07:41:14.504497Z"
        },
        "id": "sr84dumh8Py4"
      },
      "source": [
        "from math import sqrt\n",
        "\n",
        "# Function for training the model and calculating the root mean squared error\n",
        "def Training_Validation_Error_Catboost(model,train_data,train_labels,test_data,test_labels):\n",
        "    model.fit(train_data,train_labels ,cat_features=cat_indices)\n",
        "    \n",
        "    predicted = model.predict(test_data)\n",
        "    \n",
        "    rmse = sqrt(mean_squared_error(test_labels,predicted))\n",
        "    \n",
        "    print ('rmse = '+str(rmse))\n",
        "           \n",
        "    return(rmse)"
      ],
      "execution_count": null,
      "outputs": []
    },
    {
      "cell_type": "code",
      "metadata": {
        "ExecuteTime": {
          "end_time": "2020-12-09T11:27:22.383679Z",
          "start_time": "2020-12-09T07:41:16.497051Z"
        },
        "id": "yW6-hwfc8Py4",
        "outputId": "36344474-13ff-4e50-c4f8-f7f47d0c78f9"
      },
      "source": [
        "kf = KFold(n_splits=10)  # Splits the training data into 10 folds\n",
        "\n",
        "from catboost import CatBoostRegressor\n",
        "#KFOLD CROSSVAL FOR CATBOOST ALGORITHM\n",
        "\n",
        "model=CatBoostRegressor(iterations=1500, depth=4, learning_rate=0.03,l2_leaf_reg=10,\n",
        "                        loss_function='RMSE', random_state=350, verbose=0, early_stopping_rounds=300)\n",
        "rmse_list=[]\n",
        "\n",
        "for train_index, val_index in kf.split(X_train_):\n",
        "    X = X_train_\n",
        "    Y = y_train_\n",
        "    X_train,X_val=X.iloc[train_index], X.iloc[val_index]\n",
        "    Y_train,Y_val=Y.iloc[train_index], Y.iloc[val_index]\n",
        "    \n",
        "    # Train the model\n",
        "    rmse=Training_Validation_Error_Catboost(model,train_data = X_train,train_labels = Y_train,test_data = X_val,test_labels = Y_val)\n",
        "    rmse_list.append(rmse)\n",
        "    \n",
        "\n",
        "print(\"mean rmse is :\",np.mean(rmse_list))\n",
        "print(\"range is :\", max(rmse_list) - min(rmse_list))"
      ],
      "execution_count": null,
      "outputs": [
        {
          "output_type": "stream",
          "text": [
            "rmse = 0.0634753555175912\n",
            "rmse = 0.07501508094295523\n",
            "rmse = 0.05390886731770203\n",
            "rmse = 0.06356417634271415\n",
            "rmse = 0.07691602970328418\n",
            "rmse = 0.055839610050888416\n",
            "rmse = 0.06717161261877638\n",
            "rmse = 0.05500574293223206\n",
            "rmse = 0.07346704679923638\n",
            "rmse = 0.07273832026405047\n",
            "mean rmse is : 0.06571018424894305\n",
            "range is : 0.023007162385582147\n"
          ],
          "name": "stdout"
        }
      ]
    },
    {
      "cell_type": "code",
      "metadata": {
        "ExecuteTime": {
          "end_time": "2020-12-09T11:27:22.394675Z",
          "start_time": "2020-12-09T11:27:22.388675Z"
        },
        "id": "W5CvrsO98Py5"
      },
      "source": [
        "from sklearn.metrics import r2_score"
      ],
      "execution_count": null,
      "outputs": []
    },
    {
      "cell_type": "code",
      "metadata": {
        "ExecuteTime": {
          "end_time": "2020-12-09T11:27:28.749327Z",
          "start_time": "2020-12-09T11:27:22.399669Z"
        },
        "id": "RgM3w-TL8Py6",
        "outputId": "cf4468c3-d320-4e25-f277-ef14f9eb126b"
      },
      "source": [
        "# Predict on the test data\n",
        "pred = model.predict(X_test_)\n",
        "\n",
        "print(\"R2 training\", model.score(X_train_, y_train_))\n",
        "\n",
        "print(\"R2 test\", model.score(X_test_, y_test_))\n",
        "\n",
        "print(\"R2 prediction\", r2_score(y_test_, pred))"
      ],
      "execution_count": null,
      "outputs": [
        {
          "output_type": "stream",
          "text": [
            "R2 training 0.9995274398938019\n",
            "R2 test 0.9994683009515066\n",
            "R2 prediction 0.9994683009515066\n"
          ],
          "name": "stdout"
        }
      ]
    },
    {
      "cell_type": "markdown",
      "metadata": {
        "id": "Sv71lN8Z8Py7"
      },
      "source": [
        "# XGBoost"
      ]
    },
    {
      "cell_type": "code",
      "metadata": {
        "ExecuteTime": {
          "end_time": "2020-12-09T11:28:28.524930Z",
          "start_time": "2020-12-09T11:28:28.516938Z"
        },
        "id": "cdWzKIHK8Py8",
        "outputId": "cb02ef16-64d5-46ea-a0ce-5a6e025a7a98"
      },
      "source": [
        "#view the columns \n",
        "X_train_.columns"
      ],
      "execution_count": null,
      "outputs": [
        {
          "output_type": "execute_result",
          "data": {
            "text/plain": [
              "Index(['odometer_trans', 'car_age_trans', 'point_x', 'point_y', 'point_z',\n",
              "       'price_log', 'region', 'year', 'manufacturer', 'model', 'condition',\n",
              "       'cylinders', 'fuel', 'title_status', 'transmission', 'drive', 'type',\n",
              "       'paint_color', 'state', 'year_Imputed', 'manufacturer_Imputed',\n",
              "       'model_Imputed', 'condition_Imputed', 'cylinders_Imputed',\n",
              "       'fuel_Imputed', 'title_status_Imputed', 'transmission_Imputed',\n",
              "       'drive_Imputed', 'type_Imputed', 'paint_color_Imputed'],\n",
              "      dtype='object')"
            ]
          },
          "metadata": {
            "tags": []
          },
          "execution_count": 19
        }
      ]
    },
    {
      "cell_type": "code",
      "metadata": {
        "ExecuteTime": {
          "end_time": "2020-12-09T11:29:00.151182Z",
          "start_time": "2020-12-09T11:28:59.573443Z"
        },
        "id": "mQqpmXk78Py8"
      },
      "source": [
        "# categorical features with few groups\n",
        "col = ['condition', 'cylinders','fuel', 'title_status', 'transmission', 'drive']\n",
        "\n",
        "# Creating dummy variables for the features in the list 'col'\n",
        "X = pd.get_dummies(X_train_, columns=col, prefix=col, prefix_sep=':', drop_first=True)\n",
        "\n",
        "X_test = pd.get_dummies(X_test_, columns=col, prefix=col, prefix_sep=':', drop_first=True)"
      ],
      "execution_count": null,
      "outputs": []
    },
    {
      "cell_type": "code",
      "metadata": {
        "ExecuteTime": {
          "end_time": "2020-12-09T11:30:45.197289Z",
          "start_time": "2020-12-09T11:29:27.269638Z"
        },
        "id": "pS_TouT38Py8",
        "outputId": "e24f5002-5f83-4774-e93c-e3ce5b37087a"
      },
      "source": [
        "# features with high dimensionality\n",
        "feature_list = ['region', 'year', 'manufacturer', 'model', 'type', 'paint_color', 'state']\n",
        "\n",
        "target_ = y_train_\n",
        "\n",
        "# Perform encoding on the high dimensionality features\n",
        "CBE_encoder = CatBoostEncoder()\n",
        "\n",
        "train_cbe = CBE_encoder.fit_transform(X_train_[feature_list], target_)\n",
        "print(train_cbe.shape)\n",
        "test_cbe = CBE_encoder.transform(X_test_[feature_list])\n",
        "print(test_cbe.shape)"
      ],
      "execution_count": null,
      "outputs": [
        {
          "output_type": "stream",
          "text": [
            "(366570, 7)\n",
            "(91643, 7)\n"
          ],
          "name": "stdout"
        }
      ]
    },
    {
      "cell_type": "code",
      "metadata": {
        "ExecuteTime": {
          "end_time": "2020-12-09T11:32:44.276338Z",
          "start_time": "2020-12-09T11:32:44.065464Z"
        },
        "id": "ysU-Dhja8Py9"
      },
      "source": [
        "# Drop the original features\n",
        "X_d = X.drop(feature_list, axis=1) \n",
        "X_te = X_test.drop(feature_list, axis=1)"
      ],
      "execution_count": null,
      "outputs": []
    },
    {
      "cell_type": "code",
      "metadata": {
        "ExecuteTime": {
          "end_time": "2020-12-09T11:32:52.415372Z",
          "start_time": "2020-12-09T11:32:52.349412Z"
        },
        "id": "iCnJnYAa8Py_"
      },
      "source": [
        "# Concatenate both dataframes\n",
        "X_T = pd.concat([X_d, train_cbe], axis=1)\n",
        "X_Test = pd.concat([X_te, test_cbe], axis=1)"
      ],
      "execution_count": null,
      "outputs": []
    },
    {
      "cell_type": "code",
      "metadata": {
        "ExecuteTime": {
          "end_time": "2020-12-09T11:32:53.690391Z",
          "start_time": "2020-12-09T11:32:53.648417Z"
        },
        "id": "tACp7YqO8PzB",
        "outputId": "458f8ae7-4051-4382-ff06-f79b86e54e56"
      },
      "source": [
        "X_T.head(2)"
      ],
      "execution_count": null,
      "outputs": [
        {
          "output_type": "execute_result",
          "data": {
            "text/html": [
              "<div>\n",
              "<style scoped>\n",
              "    .dataframe tbody tr th:only-of-type {\n",
              "        vertical-align: middle;\n",
              "    }\n",
              "\n",
              "    .dataframe tbody tr th {\n",
              "        vertical-align: top;\n",
              "    }\n",
              "\n",
              "    .dataframe thead th {\n",
              "        text-align: right;\n",
              "    }\n",
              "</style>\n",
              "<table border=\"1\" class=\"dataframe\">\n",
              "  <thead>\n",
              "    <tr style=\"text-align: right;\">\n",
              "      <th></th>\n",
              "      <th>odometer_trans</th>\n",
              "      <th>car_age_trans</th>\n",
              "      <th>point_x</th>\n",
              "      <th>point_y</th>\n",
              "      <th>point_z</th>\n",
              "      <th>price_log</th>\n",
              "      <th>year_Imputed</th>\n",
              "      <th>manufacturer_Imputed</th>\n",
              "      <th>model_Imputed</th>\n",
              "      <th>condition_Imputed</th>\n",
              "      <th>cylinders_Imputed</th>\n",
              "      <th>fuel_Imputed</th>\n",
              "      <th>title_status_Imputed</th>\n",
              "      <th>transmission_Imputed</th>\n",
              "      <th>drive_Imputed</th>\n",
              "      <th>type_Imputed</th>\n",
              "      <th>paint_color_Imputed</th>\n",
              "      <th>condition:fair</th>\n",
              "      <th>condition:good</th>\n",
              "      <th>condition:like new</th>\n",
              "      <th>condition:new</th>\n",
              "      <th>condition:salvage</th>\n",
              "      <th>cylinders:12 cylinders</th>\n",
              "      <th>cylinders:3 cylinders</th>\n",
              "      <th>cylinders:4 cylinders</th>\n",
              "      <th>cylinders:5 cylinders</th>\n",
              "      <th>cylinders:6 cylinders</th>\n",
              "      <th>cylinders:8 cylinders</th>\n",
              "      <th>cylinders:other</th>\n",
              "      <th>fuel:electric</th>\n",
              "      <th>fuel:gas</th>\n",
              "      <th>fuel:hybrid</th>\n",
              "      <th>fuel:other</th>\n",
              "      <th>title_status:lien</th>\n",
              "      <th>title_status:missing</th>\n",
              "      <th>title_status:parts only</th>\n",
              "      <th>title_status:rebuilt</th>\n",
              "      <th>title_status:salvage</th>\n",
              "      <th>transmission:manual</th>\n",
              "      <th>transmission:other</th>\n",
              "      <th>drive:fwd</th>\n",
              "      <th>drive:rwd</th>\n",
              "      <th>region</th>\n",
              "      <th>year</th>\n",
              "      <th>manufacturer</th>\n",
              "      <th>model</th>\n",
              "      <th>type</th>\n",
              "      <th>paint_color</th>\n",
              "      <th>state</th>\n",
              "    </tr>\n",
              "  </thead>\n",
              "  <tbody>\n",
              "    <tr>\n",
              "      <th>100626</th>\n",
              "      <td>0.030638</td>\n",
              "      <td>-0.750</td>\n",
              "      <td>-0.942061</td>\n",
              "      <td>-0.277648</td>\n",
              "      <td>-0.188236</td>\n",
              "      <td>6.685861</td>\n",
              "      <td>0</td>\n",
              "      <td>1</td>\n",
              "      <td>0</td>\n",
              "      <td>1</td>\n",
              "      <td>1</td>\n",
              "      <td>0</td>\n",
              "      <td>0</td>\n",
              "      <td>0</td>\n",
              "      <td>1</td>\n",
              "      <td>1</td>\n",
              "      <td>1</td>\n",
              "      <td>0</td>\n",
              "      <td>1</td>\n",
              "      <td>0</td>\n",
              "      <td>0</td>\n",
              "      <td>0</td>\n",
              "      <td>0</td>\n",
              "      <td>0</td>\n",
              "      <td>0</td>\n",
              "      <td>0</td>\n",
              "      <td>1</td>\n",
              "      <td>0</td>\n",
              "      <td>0</td>\n",
              "      <td>0</td>\n",
              "      <td>1</td>\n",
              "      <td>0</td>\n",
              "      <td>0</td>\n",
              "      <td>0</td>\n",
              "      <td>0</td>\n",
              "      <td>0</td>\n",
              "      <td>0</td>\n",
              "      <td>0</td>\n",
              "      <td>0</td>\n",
              "      <td>0</td>\n",
              "      <td>0</td>\n",
              "      <td>0</td>\n",
              "      <td>8.558749</td>\n",
              "      <td>2019.0</td>\n",
              "      <td>8.558749</td>\n",
              "      <td>8.558749</td>\n",
              "      <td>8.558749</td>\n",
              "      <td>8.558749</td>\n",
              "      <td>8.558749</td>\n",
              "    </tr>\n",
              "    <tr>\n",
              "      <th>444588</th>\n",
              "      <td>1.256395</td>\n",
              "      <td>1.625</td>\n",
              "      <td>-0.339575</td>\n",
              "      <td>-0.842393</td>\n",
              "      <td>0.418405</td>\n",
              "      <td>6.908755</td>\n",
              "      <td>0</td>\n",
              "      <td>0</td>\n",
              "      <td>0</td>\n",
              "      <td>0</td>\n",
              "      <td>0</td>\n",
              "      <td>0</td>\n",
              "      <td>0</td>\n",
              "      <td>0</td>\n",
              "      <td>0</td>\n",
              "      <td>1</td>\n",
              "      <td>0</td>\n",
              "      <td>1</td>\n",
              "      <td>0</td>\n",
              "      <td>0</td>\n",
              "      <td>0</td>\n",
              "      <td>0</td>\n",
              "      <td>0</td>\n",
              "      <td>0</td>\n",
              "      <td>0</td>\n",
              "      <td>0</td>\n",
              "      <td>0</td>\n",
              "      <td>1</td>\n",
              "      <td>0</td>\n",
              "      <td>0</td>\n",
              "      <td>1</td>\n",
              "      <td>0</td>\n",
              "      <td>0</td>\n",
              "      <td>0</td>\n",
              "      <td>0</td>\n",
              "      <td>0</td>\n",
              "      <td>0</td>\n",
              "      <td>0</td>\n",
              "      <td>0</td>\n",
              "      <td>0</td>\n",
              "      <td>0</td>\n",
              "      <td>1</td>\n",
              "      <td>8.558749</td>\n",
              "      <td>2000.0</td>\n",
              "      <td>8.558749</td>\n",
              "      <td>8.558749</td>\n",
              "      <td>7.622305</td>\n",
              "      <td>7.622305</td>\n",
              "      <td>8.558749</td>\n",
              "    </tr>\n",
              "  </tbody>\n",
              "</table>\n",
              "</div>"
            ],
            "text/plain": [
              "        odometer_trans  car_age_trans   point_x   point_y   point_z  \\\n",
              "100626        0.030638         -0.750 -0.942061 -0.277648 -0.188236   \n",
              "444588        1.256395          1.625 -0.339575 -0.842393  0.418405   \n",
              "\n",
              "        price_log  year_Imputed  manufacturer_Imputed  model_Imputed  \\\n",
              "100626   6.685861             0                     1              0   \n",
              "444588   6.908755             0                     0              0   \n",
              "\n",
              "        condition_Imputed  cylinders_Imputed  fuel_Imputed  \\\n",
              "100626                  1                  1             0   \n",
              "444588                  0                  0             0   \n",
              "\n",
              "        title_status_Imputed  transmission_Imputed  drive_Imputed  \\\n",
              "100626                     0                     0              1   \n",
              "444588                     0                     0              0   \n",
              "\n",
              "        type_Imputed  paint_color_Imputed  condition:fair  condition:good  \\\n",
              "100626             1                    1               0               1   \n",
              "444588             1                    0               1               0   \n",
              "\n",
              "        condition:like new  condition:new  condition:salvage  \\\n",
              "100626                   0              0                  0   \n",
              "444588                   0              0                  0   \n",
              "\n",
              "        cylinders:12 cylinders  cylinders:3 cylinders  cylinders:4 cylinders  \\\n",
              "100626                       0                      0                      0   \n",
              "444588                       0                      0                      0   \n",
              "\n",
              "        cylinders:5 cylinders  cylinders:6 cylinders  cylinders:8 cylinders  \\\n",
              "100626                      0                      1                      0   \n",
              "444588                      0                      0                      1   \n",
              "\n",
              "        cylinders:other  fuel:electric  fuel:gas  fuel:hybrid  fuel:other  \\\n",
              "100626                0              0         1            0           0   \n",
              "444588                0              0         1            0           0   \n",
              "\n",
              "        title_status:lien  title_status:missing  title_status:parts only  \\\n",
              "100626                  0                     0                        0   \n",
              "444588                  0                     0                        0   \n",
              "\n",
              "        title_status:rebuilt  title_status:salvage  transmission:manual  \\\n",
              "100626                     0                     0                    0   \n",
              "444588                     0                     0                    0   \n",
              "\n",
              "        transmission:other  drive:fwd  drive:rwd    region    year  \\\n",
              "100626                   0          0          0  8.558749  2019.0   \n",
              "444588                   0          0          1  8.558749  2000.0   \n",
              "\n",
              "        manufacturer     model      type  paint_color     state  \n",
              "100626      8.558749  8.558749  8.558749     8.558749  8.558749  \n",
              "444588      8.558749  8.558749  7.622305     7.622305  8.558749  "
            ]
          },
          "metadata": {
            "tags": []
          },
          "execution_count": 24
        }
      ]
    },
    {
      "cell_type": "code",
      "metadata": {
        "ExecuteTime": {
          "end_time": "2020-12-09T11:33:01.717457Z",
          "start_time": "2020-12-09T11:33:01.710461Z"
        },
        "id": "JSexcA7H8PzD"
      },
      "source": [
        "# create a function for training the model and calculate the root mean squared error\n",
        "def Training_Validation_Error(model,train_data,train_labels,test_data,test_labels):\n",
        "    model.fit(train_data,train_labels)\n",
        "    \n",
        "    predicted = model.predict(test_data)\n",
        "    \n",
        "    rmse = sqrt(mean_squared_error(test_labels,predicted))\n",
        "    \n",
        "    print ('rmse = '+str(rmse))\n",
        "           \n",
        "    return(rmse)"
      ],
      "execution_count": null,
      "outputs": []
    },
    {
      "cell_type": "code",
      "metadata": {
        "ExecuteTime": {
          "end_time": "2020-12-09T14:11:13.163283Z",
          "start_time": "2020-12-09T11:33:04.413345Z"
        },
        "id": "7FXcYSiV8PzF",
        "outputId": "1c9d48a1-1243-42c1-cc19-23f2c6c4f595"
      },
      "source": [
        "kf = KFold(n_splits=10)\n",
        "\n",
        "# XGBoost model\n",
        "model_x = xgboost.XGBRegressor(colsample_bytree=0.4,\n",
        "                 gamma=0,                 \n",
        "                 learning_rate=0.03,\n",
        "                 max_depth=10,\n",
        "                 min_child_weight=1.5,\n",
        "                 n_estimators=1500,                                                                    \n",
        "                 reg_alpha=0.75,\n",
        "                 reg_lambda=0.45,\n",
        "                 subsample=0.6,\n",
        "                 seed=42, early_stopping_rounds=300)\n",
        "#KFOLD CROSSVAL FOR XGBOOST ALGORITHM\n",
        "\n",
        "\n",
        "rmse_list=[]\n",
        "\n",
        "for train_index, test_index in kf.split(X_T):\n",
        "    X = X_T\n",
        "    Y = y_train_\n",
        "    X_train,X_val=X.iloc[train_index], X.iloc[test_index]\n",
        "    Y_train,Y_val=Y.iloc[train_index], Y.iloc[test_index]   \n",
        "    rmse=Training_Validation_Error(model_x,train_data = X_train,train_labels = Y_train,test_data = X_val,test_labels = Y_val)\n",
        "    rmse_list.append(rmse)\n",
        "    \n",
        "print(\"mean rmse is :\",np.mean(rmse_list))\n",
        "print(\"range is :\", max(rmse_list) - min(rmse_list))"
      ],
      "execution_count": null,
      "outputs": [
        {
          "output_type": "stream",
          "text": [
            "[12:33:05] WARNING: C:\\Users\\Administrator\\workspace\\xgboost-win64_release_1.2.0\\src\\learner.cc:516: \n",
            "Parameters: { early_stopping_rounds } might not be used.\n",
            "\n",
            "  This may not be accurate due to some parameters are only used in language bindings but\n",
            "  passed down to XGBoost core.  Or some parameters are not used but slip through this\n",
            "  verification. Please open an issue if you find above cases.\n",
            "\n",
            "\n",
            "rmse = 0.1278561202696727\n",
            "[12:48:51] WARNING: C:\\Users\\Administrator\\workspace\\xgboost-win64_release_1.2.0\\src\\learner.cc:516: \n",
            "Parameters: { early_stopping_rounds } might not be used.\n",
            "\n",
            "  This may not be accurate due to some parameters are only used in language bindings but\n",
            "  passed down to XGBoost core.  Or some parameters are not used but slip through this\n",
            "  verification. Please open an issue if you find above cases.\n",
            "\n",
            "\n",
            "rmse = 0.09704355187477365\n",
            "[13:04:38] WARNING: C:\\Users\\Administrator\\workspace\\xgboost-win64_release_1.2.0\\src\\learner.cc:516: \n",
            "Parameters: { early_stopping_rounds } might not be used.\n",
            "\n",
            "  This may not be accurate due to some parameters are only used in language bindings but\n",
            "  passed down to XGBoost core.  Or some parameters are not used but slip through this\n",
            "  verification. Please open an issue if you find above cases.\n",
            "\n",
            "\n",
            "rmse = 0.09056927624958307\n",
            "[13:20:30] WARNING: C:\\Users\\Administrator\\workspace\\xgboost-win64_release_1.2.0\\src\\learner.cc:516: \n",
            "Parameters: { early_stopping_rounds } might not be used.\n",
            "\n",
            "  This may not be accurate due to some parameters are only used in language bindings but\n",
            "  passed down to XGBoost core.  Or some parameters are not used but slip through this\n",
            "  verification. Please open an issue if you find above cases.\n",
            "\n",
            "\n",
            "rmse = 0.08657677263122625\n",
            "[13:36:18] WARNING: C:\\Users\\Administrator\\workspace\\xgboost-win64_release_1.2.0\\src\\learner.cc:516: \n",
            "Parameters: { early_stopping_rounds } might not be used.\n",
            "\n",
            "  This may not be accurate due to some parameters are only used in language bindings but\n",
            "  passed down to XGBoost core.  Or some parameters are not used but slip through this\n",
            "  verification. Please open an issue if you find above cases.\n",
            "\n",
            "\n",
            "rmse = 0.08912723688082479\n",
            "[13:52:07] WARNING: C:\\Users\\Administrator\\workspace\\xgboost-win64_release_1.2.0\\src\\learner.cc:516: \n",
            "Parameters: { early_stopping_rounds } might not be used.\n",
            "\n",
            "  This may not be accurate due to some parameters are only used in language bindings but\n",
            "  passed down to XGBoost core.  Or some parameters are not used but slip through this\n",
            "  verification. Please open an issue if you find above cases.\n",
            "\n",
            "\n",
            "rmse = 0.08477439108420329\n",
            "[14:07:53] WARNING: C:\\Users\\Administrator\\workspace\\xgboost-win64_release_1.2.0\\src\\learner.cc:516: \n",
            "Parameters: { early_stopping_rounds } might not be used.\n",
            "\n",
            "  This may not be accurate due to some parameters are only used in language bindings but\n",
            "  passed down to XGBoost core.  Or some parameters are not used but slip through this\n",
            "  verification. Please open an issue if you find above cases.\n",
            "\n",
            "\n",
            "rmse = 0.08549704895048084\n",
            "[14:23:47] WARNING: C:\\Users\\Administrator\\workspace\\xgboost-win64_release_1.2.0\\src\\learner.cc:516: \n",
            "Parameters: { early_stopping_rounds } might not be used.\n",
            "\n",
            "  This may not be accurate due to some parameters are only used in language bindings but\n",
            "  passed down to XGBoost core.  Or some parameters are not used but slip through this\n",
            "  verification. Please open an issue if you find above cases.\n",
            "\n",
            "\n",
            "rmse = 0.0834563796221015\n",
            "[14:39:38] WARNING: C:\\Users\\Administrator\\workspace\\xgboost-win64_release_1.2.0\\src\\learner.cc:516: \n",
            "Parameters: { early_stopping_rounds } might not be used.\n",
            "\n",
            "  This may not be accurate due to some parameters are only used in language bindings but\n",
            "  passed down to XGBoost core.  Or some parameters are not used but slip through this\n",
            "  verification. Please open an issue if you find above cases.\n",
            "\n",
            "\n",
            "rmse = 0.09169219062276701\n",
            "[14:55:27] WARNING: C:\\Users\\Administrator\\workspace\\xgboost-win64_release_1.2.0\\src\\learner.cc:516: \n",
            "Parameters: { early_stopping_rounds } might not be used.\n",
            "\n",
            "  This may not be accurate due to some parameters are only used in language bindings but\n",
            "  passed down to XGBoost core.  Or some parameters are not used but slip through this\n",
            "  verification. Please open an issue if you find above cases.\n",
            "\n",
            "\n",
            "rmse = 0.08678950475399216\n",
            "mean rmse is : 0.09233824729396252\n",
            "range is : 0.044399740647571184\n"
          ],
          "name": "stdout"
        }
      ]
    },
    {
      "cell_type": "code",
      "metadata": {
        "ExecuteTime": {
          "end_time": "2020-12-09T15:39:46.378768Z",
          "start_time": "2020-12-09T15:37:16.170614Z"
        },
        "id": "AGn5D6bs8PzF",
        "outputId": "e09a2e42-fc3e-4e7d-8239-ab0171488e63"
      },
      "source": [
        "#prediction\n",
        "predi = model_x.predict(X_Test)\n",
        "\n",
        "print(\"R2 training\", model_x.score(X_T, y_train_))\n",
        "\n",
        "print(\"R2 test\", model_x.score(X_Test, y_test_))\n",
        "\n",
        "print(\"R2 prediction\", r2_score(y_test_, predi))"
      ],
      "execution_count": null,
      "outputs": [
        {
          "output_type": "stream",
          "text": [
            "R2 training 0.999589353714514\n",
            "R2 test 0.9989882818762329\n",
            "R2 prediction 0.9989882818762329\n"
          ],
          "name": "stdout"
        }
      ]
    },
    {
      "cell_type": "markdown",
      "metadata": {
        "id": "19h7utgr8PzH"
      },
      "source": [
        "# Random Forest"
      ]
    },
    {
      "cell_type": "code",
      "metadata": {
        "ExecuteTime": {
          "end_time": "2020-12-09T15:46:57.349196Z",
          "start_time": "2020-12-09T15:46:57.304216Z"
        },
        "id": "WKAzkih48PzH",
        "outputId": "44402155-163b-4597-8ed5-2cbcdb97548c"
      },
      "source": [
        "#check top rows\n",
        "X_T.head(2)"
      ],
      "execution_count": null,
      "outputs": [
        {
          "output_type": "execute_result",
          "data": {
            "text/html": [
              "<div>\n",
              "<style scoped>\n",
              "    .dataframe tbody tr th:only-of-type {\n",
              "        vertical-align: middle;\n",
              "    }\n",
              "\n",
              "    .dataframe tbody tr th {\n",
              "        vertical-align: top;\n",
              "    }\n",
              "\n",
              "    .dataframe thead th {\n",
              "        text-align: right;\n",
              "    }\n",
              "</style>\n",
              "<table border=\"1\" class=\"dataframe\">\n",
              "  <thead>\n",
              "    <tr style=\"text-align: right;\">\n",
              "      <th></th>\n",
              "      <th>odometer_trans</th>\n",
              "      <th>car_age_trans</th>\n",
              "      <th>point_x</th>\n",
              "      <th>point_y</th>\n",
              "      <th>point_z</th>\n",
              "      <th>price_log</th>\n",
              "      <th>year_Imputed</th>\n",
              "      <th>manufacturer_Imputed</th>\n",
              "      <th>model_Imputed</th>\n",
              "      <th>condition_Imputed</th>\n",
              "      <th>cylinders_Imputed</th>\n",
              "      <th>fuel_Imputed</th>\n",
              "      <th>title_status_Imputed</th>\n",
              "      <th>transmission_Imputed</th>\n",
              "      <th>drive_Imputed</th>\n",
              "      <th>type_Imputed</th>\n",
              "      <th>paint_color_Imputed</th>\n",
              "      <th>condition:fair</th>\n",
              "      <th>condition:good</th>\n",
              "      <th>condition:like new</th>\n",
              "      <th>condition:new</th>\n",
              "      <th>condition:salvage</th>\n",
              "      <th>cylinders:12 cylinders</th>\n",
              "      <th>cylinders:3 cylinders</th>\n",
              "      <th>cylinders:4 cylinders</th>\n",
              "      <th>cylinders:5 cylinders</th>\n",
              "      <th>cylinders:6 cylinders</th>\n",
              "      <th>cylinders:8 cylinders</th>\n",
              "      <th>cylinders:other</th>\n",
              "      <th>fuel:electric</th>\n",
              "      <th>fuel:gas</th>\n",
              "      <th>fuel:hybrid</th>\n",
              "      <th>fuel:other</th>\n",
              "      <th>title_status:lien</th>\n",
              "      <th>title_status:missing</th>\n",
              "      <th>title_status:parts only</th>\n",
              "      <th>title_status:rebuilt</th>\n",
              "      <th>title_status:salvage</th>\n",
              "      <th>transmission:manual</th>\n",
              "      <th>transmission:other</th>\n",
              "      <th>drive:fwd</th>\n",
              "      <th>drive:rwd</th>\n",
              "      <th>region</th>\n",
              "      <th>year</th>\n",
              "      <th>manufacturer</th>\n",
              "      <th>model</th>\n",
              "      <th>type</th>\n",
              "      <th>paint_color</th>\n",
              "      <th>state</th>\n",
              "    </tr>\n",
              "  </thead>\n",
              "  <tbody>\n",
              "    <tr>\n",
              "      <th>100626</th>\n",
              "      <td>0.030638</td>\n",
              "      <td>-0.750</td>\n",
              "      <td>-0.942061</td>\n",
              "      <td>-0.277648</td>\n",
              "      <td>-0.188236</td>\n",
              "      <td>6.685861</td>\n",
              "      <td>0</td>\n",
              "      <td>1</td>\n",
              "      <td>0</td>\n",
              "      <td>1</td>\n",
              "      <td>1</td>\n",
              "      <td>0</td>\n",
              "      <td>0</td>\n",
              "      <td>0</td>\n",
              "      <td>1</td>\n",
              "      <td>1</td>\n",
              "      <td>1</td>\n",
              "      <td>0</td>\n",
              "      <td>1</td>\n",
              "      <td>0</td>\n",
              "      <td>0</td>\n",
              "      <td>0</td>\n",
              "      <td>0</td>\n",
              "      <td>0</td>\n",
              "      <td>0</td>\n",
              "      <td>0</td>\n",
              "      <td>1</td>\n",
              "      <td>0</td>\n",
              "      <td>0</td>\n",
              "      <td>0</td>\n",
              "      <td>1</td>\n",
              "      <td>0</td>\n",
              "      <td>0</td>\n",
              "      <td>0</td>\n",
              "      <td>0</td>\n",
              "      <td>0</td>\n",
              "      <td>0</td>\n",
              "      <td>0</td>\n",
              "      <td>0</td>\n",
              "      <td>0</td>\n",
              "      <td>0</td>\n",
              "      <td>0</td>\n",
              "      <td>8.558749</td>\n",
              "      <td>2019.0</td>\n",
              "      <td>8.558749</td>\n",
              "      <td>8.558749</td>\n",
              "      <td>8.558749</td>\n",
              "      <td>8.558749</td>\n",
              "      <td>8.558749</td>\n",
              "    </tr>\n",
              "    <tr>\n",
              "      <th>444588</th>\n",
              "      <td>1.256395</td>\n",
              "      <td>1.625</td>\n",
              "      <td>-0.339575</td>\n",
              "      <td>-0.842393</td>\n",
              "      <td>0.418405</td>\n",
              "      <td>6.908755</td>\n",
              "      <td>0</td>\n",
              "      <td>0</td>\n",
              "      <td>0</td>\n",
              "      <td>0</td>\n",
              "      <td>0</td>\n",
              "      <td>0</td>\n",
              "      <td>0</td>\n",
              "      <td>0</td>\n",
              "      <td>0</td>\n",
              "      <td>1</td>\n",
              "      <td>0</td>\n",
              "      <td>1</td>\n",
              "      <td>0</td>\n",
              "      <td>0</td>\n",
              "      <td>0</td>\n",
              "      <td>0</td>\n",
              "      <td>0</td>\n",
              "      <td>0</td>\n",
              "      <td>0</td>\n",
              "      <td>0</td>\n",
              "      <td>0</td>\n",
              "      <td>1</td>\n",
              "      <td>0</td>\n",
              "      <td>0</td>\n",
              "      <td>1</td>\n",
              "      <td>0</td>\n",
              "      <td>0</td>\n",
              "      <td>0</td>\n",
              "      <td>0</td>\n",
              "      <td>0</td>\n",
              "      <td>0</td>\n",
              "      <td>0</td>\n",
              "      <td>0</td>\n",
              "      <td>0</td>\n",
              "      <td>0</td>\n",
              "      <td>1</td>\n",
              "      <td>8.558749</td>\n",
              "      <td>2000.0</td>\n",
              "      <td>8.558749</td>\n",
              "      <td>8.558749</td>\n",
              "      <td>7.622305</td>\n",
              "      <td>7.622305</td>\n",
              "      <td>8.558749</td>\n",
              "    </tr>\n",
              "  </tbody>\n",
              "</table>\n",
              "</div>"
            ],
            "text/plain": [
              "        odometer_trans  car_age_trans   point_x   point_y   point_z  \\\n",
              "100626        0.030638         -0.750 -0.942061 -0.277648 -0.188236   \n",
              "444588        1.256395          1.625 -0.339575 -0.842393  0.418405   \n",
              "\n",
              "        price_log  year_Imputed  manufacturer_Imputed  model_Imputed  \\\n",
              "100626   6.685861             0                     1              0   \n",
              "444588   6.908755             0                     0              0   \n",
              "\n",
              "        condition_Imputed  cylinders_Imputed  fuel_Imputed  \\\n",
              "100626                  1                  1             0   \n",
              "444588                  0                  0             0   \n",
              "\n",
              "        title_status_Imputed  transmission_Imputed  drive_Imputed  \\\n",
              "100626                     0                     0              1   \n",
              "444588                     0                     0              0   \n",
              "\n",
              "        type_Imputed  paint_color_Imputed  condition:fair  condition:good  \\\n",
              "100626             1                    1               0               1   \n",
              "444588             1                    0               1               0   \n",
              "\n",
              "        condition:like new  condition:new  condition:salvage  \\\n",
              "100626                   0              0                  0   \n",
              "444588                   0              0                  0   \n",
              "\n",
              "        cylinders:12 cylinders  cylinders:3 cylinders  cylinders:4 cylinders  \\\n",
              "100626                       0                      0                      0   \n",
              "444588                       0                      0                      0   \n",
              "\n",
              "        cylinders:5 cylinders  cylinders:6 cylinders  cylinders:8 cylinders  \\\n",
              "100626                      0                      1                      0   \n",
              "444588                      0                      0                      1   \n",
              "\n",
              "        cylinders:other  fuel:electric  fuel:gas  fuel:hybrid  fuel:other  \\\n",
              "100626                0              0         1            0           0   \n",
              "444588                0              0         1            0           0   \n",
              "\n",
              "        title_status:lien  title_status:missing  title_status:parts only  \\\n",
              "100626                  0                     0                        0   \n",
              "444588                  0                     0                        0   \n",
              "\n",
              "        title_status:rebuilt  title_status:salvage  transmission:manual  \\\n",
              "100626                     0                     0                    0   \n",
              "444588                     0                     0                    0   \n",
              "\n",
              "        transmission:other  drive:fwd  drive:rwd    region    year  \\\n",
              "100626                   0          0          0  8.558749  2019.0   \n",
              "444588                   0          0          1  8.558749  2000.0   \n",
              "\n",
              "        manufacturer     model      type  paint_color     state  \n",
              "100626      8.558749  8.558749  8.558749     8.558749  8.558749  \n",
              "444588      8.558749  8.558749  7.622305     7.622305  8.558749  "
            ]
          },
          "metadata": {
            "tags": []
          },
          "execution_count": 29
        }
      ]
    },
    {
      "cell_type": "code",
      "metadata": {
        "ExecuteTime": {
          "end_time": "2020-12-09T15:47:21.760370Z",
          "start_time": "2020-12-09T15:47:21.681419Z"
        },
        "id": "f7RropBk8PzH",
        "outputId": "5f0119d8-5eb2-4cb3-9cd6-ca603e26ab76"
      },
      "source": [
        "#check for null values\n",
        "X_T.isnull().sum()"
      ],
      "execution_count": null,
      "outputs": [
        {
          "output_type": "execute_result",
          "data": {
            "text/plain": [
              "odometer_trans               0\n",
              "car_age_trans                0\n",
              "point_x                      0\n",
              "point_y                      0\n",
              "point_z                      0\n",
              "price_log                    0\n",
              "year_Imputed                 0\n",
              "manufacturer_Imputed         0\n",
              "model_Imputed                0\n",
              "condition_Imputed            0\n",
              "cylinders_Imputed            0\n",
              "fuel_Imputed                 0\n",
              "title_status_Imputed         0\n",
              "transmission_Imputed         0\n",
              "drive_Imputed                0\n",
              "type_Imputed                 0\n",
              "paint_color_Imputed          0\n",
              "condition:fair               0\n",
              "condition:good               0\n",
              "condition:like new           0\n",
              "condition:new                0\n",
              "condition:salvage            0\n",
              "cylinders:12 cylinders       0\n",
              "cylinders:3 cylinders        0\n",
              "cylinders:4 cylinders        0\n",
              "cylinders:5 cylinders        0\n",
              "cylinders:6 cylinders        0\n",
              "cylinders:8 cylinders        0\n",
              "cylinders:other              0\n",
              "fuel:electric                0\n",
              "fuel:gas                     0\n",
              "fuel:hybrid                  0\n",
              "fuel:other                   0\n",
              "title_status:lien            0\n",
              "title_status:missing         0\n",
              "title_status:parts only      0\n",
              "title_status:rebuilt         0\n",
              "title_status:salvage         0\n",
              "transmission:manual          0\n",
              "transmission:other           0\n",
              "drive:fwd                    0\n",
              "drive:rwd                    0\n",
              "region                       0\n",
              "year                       839\n",
              "manufacturer                 0\n",
              "model                        0\n",
              "type                         0\n",
              "paint_color                  0\n",
              "state                        0\n",
              "dtype: int64"
            ]
          },
          "metadata": {
            "tags": []
          },
          "execution_count": 30
        }
      ]
    },
    {
      "cell_type": "code",
      "metadata": {
        "ExecuteTime": {
          "end_time": "2020-12-09T16:00:33.849111Z",
          "start_time": "2020-12-09T16:00:33.787150Z"
        },
        "id": "jNE2s3ks8PzI"
      },
      "source": [
        "# Create a duplicate of the training dataframe\n",
        "X_ = X_T.copy()"
      ],
      "execution_count": null,
      "outputs": []
    },
    {
      "cell_type": "code",
      "metadata": {
        "ExecuteTime": {
          "end_time": "2020-12-09T18:52:51.894140Z",
          "start_time": "2020-12-09T18:52:51.866160Z"
        },
        "id": "w8HXf_LG8PzI"
      },
      "source": [
        "# fill missing values in year with mode \n",
        "X_['year'] = X_T['year'].fillna(X_T['year'].mode()[0])"
      ],
      "execution_count": null,
      "outputs": []
    },
    {
      "cell_type": "code",
      "metadata": {
        "ExecuteTime": {
          "end_time": "2020-12-09T18:53:05.033938Z",
          "start_time": "2020-12-09T18:53:04.946990Z"
        },
        "id": "r7vgqkkh8PzK",
        "outputId": "eb522c71-9c2b-4298-cb2b-695128405a5b"
      },
      "source": [
        "X_.isnull().sum()"
      ],
      "execution_count": null,
      "outputs": [
        {
          "output_type": "execute_result",
          "data": {
            "text/plain": [
              "odometer_trans             0\n",
              "car_age_trans              0\n",
              "point_x                    0\n",
              "point_y                    0\n",
              "point_z                    0\n",
              "price_log                  0\n",
              "year_Imputed               0\n",
              "manufacturer_Imputed       0\n",
              "model_Imputed              0\n",
              "condition_Imputed          0\n",
              "cylinders_Imputed          0\n",
              "fuel_Imputed               0\n",
              "title_status_Imputed       0\n",
              "transmission_Imputed       0\n",
              "drive_Imputed              0\n",
              "type_Imputed               0\n",
              "paint_color_Imputed        0\n",
              "condition:fair             0\n",
              "condition:good             0\n",
              "condition:like new         0\n",
              "condition:new              0\n",
              "condition:salvage          0\n",
              "cylinders:12 cylinders     0\n",
              "cylinders:3 cylinders      0\n",
              "cylinders:4 cylinders      0\n",
              "cylinders:5 cylinders      0\n",
              "cylinders:6 cylinders      0\n",
              "cylinders:8 cylinders      0\n",
              "cylinders:other            0\n",
              "fuel:electric              0\n",
              "fuel:gas                   0\n",
              "fuel:hybrid                0\n",
              "fuel:other                 0\n",
              "title_status:lien          0\n",
              "title_status:missing       0\n",
              "title_status:parts only    0\n",
              "title_status:rebuilt       0\n",
              "title_status:salvage       0\n",
              "transmission:manual        0\n",
              "transmission:other         0\n",
              "drive:fwd                  0\n",
              "drive:rwd                  0\n",
              "region                     0\n",
              "year                       0\n",
              "manufacturer               0\n",
              "model                      0\n",
              "type                       0\n",
              "paint_color                0\n",
              "state                      0\n",
              "dtype: int64"
            ]
          },
          "metadata": {
            "tags": []
          },
          "execution_count": 43
        }
      ]
    },
    {
      "cell_type": "code",
      "metadata": {
        "ExecuteTime": {
          "end_time": "2020-12-10T06:44:47.405656Z",
          "start_time": "2020-12-09T18:54:31.667929Z"
        },
        "id": "sJqpqcGS8PzK",
        "outputId": "ea509480-c38c-45e5-9f9c-c65e092fb45e"
      },
      "source": [
        "kf = KFold(n_splits=10)\n",
        "\n",
        "from sklearn.ensemble import RandomForestRegressor\n",
        "\n",
        "model_rf = RandomForestRegressor()\n",
        "#KFOLD CROSSVAL FOR XGBOOST ALGORITHM\n",
        "\n",
        "\n",
        "rmse_list=[]\n",
        "\n",
        "for train_index, test_index in kf.split(X_):\n",
        "    X = X_\n",
        "    Y = y_train_\n",
        "    X_train,X_val=X.iloc[train_index], X.iloc[test_index]\n",
        "    Y_train,Y_val=Y.iloc[train_index], Y.iloc[test_index]   \n",
        "    rmse=Training_Validation_Error(model_rf,train_data = X_train,train_labels = Y_train,test_data = X_val,test_labels = Y_val)\n",
        "    rmse_list.append(rmse)\n",
        "    \n",
        "print(\"mean rmse is :\",np.mean(rmse_list))\n",
        "print(\"range is :\", max(rmse_list) - min(rmse_list))"
      ],
      "execution_count": null,
      "outputs": [
        {
          "output_type": "stream",
          "text": [
            "rmse = 0.005755925182066736\n",
            "rmse = 0.011194106837176762\n",
            "rmse = 0.0007698114801286997\n",
            "rmse = 0.0017925266159340395\n",
            "rmse = 0.012583982854946852\n",
            "rmse = 0.00040082876422286163\n",
            "rmse = 0.0015909197212371962\n",
            "rmse = 0.00030609711868356023\n",
            "rmse = 0.01092437649380766\n",
            "rmse = 0.0019506783717651455\n",
            "mean rmse is : 0.004726925343996951\n",
            "range is : 0.012277885736263292\n"
          ],
          "name": "stdout"
        }
      ]
    },
    {
      "cell_type": "code",
      "metadata": {
        "ExecuteTime": {
          "end_time": "2020-12-10T06:55:12.147760Z",
          "start_time": "2020-12-10T06:55:11.839292Z"
        },
        "id": "ATzy6gr18PzL"
      },
      "source": [
        "# Fill missing values for year in the test data\n",
        "X_Test['year'] = X_Test['year'].fillna(X_Test['year'].mode()[0])"
      ],
      "execution_count": null,
      "outputs": []
    },
    {
      "cell_type": "code",
      "metadata": {
        "ExecuteTime": {
          "end_time": "2020-12-10T06:56:30.327005Z",
          "start_time": "2020-12-10T06:56:16.810993Z"
        },
        "id": "2sVMb3K-8PzL",
        "outputId": "9c175b96-63d3-4818-e12c-37a530c23aed"
      },
      "source": [
        "#prediction\n",
        "predic = model_rf.predict(X_Test)\n",
        "\n",
        "print(\"R2 training\", model_rf.score(X_, y_train_))\n",
        "\n",
        "print(\"R2 test\", model_rf.score(X_Test, y_test_))\n",
        "\n",
        "print(\"R2 prediction\", r2_score(y_test_, predic))"
      ],
      "execution_count": null,
      "outputs": [
        {
          "output_type": "stream",
          "text": [
            "R2 training 0.9999991862642162\n",
            "R2 test 0.9999983725822464\n",
            "R2 prediction 0.9999983725822464\n"
          ],
          "name": "stdout"
        }
      ]
    },
    {
      "cell_type": "code",
      "metadata": {
        "ExecuteTime": {
          "end_time": "2020-12-10T06:59:27.106040Z",
          "start_time": "2020-12-10T06:59:27.020092Z"
        },
        "id": "37ZuU1tr8PzM",
        "outputId": "ff6c12d7-dc2c-4c8e-cc66-ae3aa25d4b7f"
      },
      "source": [
        "# Overall RMSE on test data for the different models\n",
        "print(\"Catboost RMSE test_data :\", sqrt(mean_squared_error(y_test_, pred)))\n",
        "print(\"XGboost RMSE test_data :\", sqrt(mean_squared_error(y_test_, predi)))\n",
        "print(\"Random Forest RMSE test_data :\", sqrt(mean_squared_error(y_test_, predic)))"
      ],
      "execution_count": null,
      "outputs": [
        {
          "output_type": "stream",
          "text": [
            "Catboost RMSE test_data : 0.0615340254190468\n",
            "XGboost RMSE test_data : 0.08488132494440145\n",
            "Random Forest RMSE test_data : 0.003404332020741455\n"
          ],
          "name": "stdout"
        }
      ]
    },
    {
      "cell_type": "code",
      "metadata": {
        "ExecuteTime": {
          "end_time": "2020-12-10T21:46:06.068970Z",
          "start_time": "2020-12-10T21:46:05.735178Z"
        },
        "id": "sUim2GaR8PzM"
      },
      "source": [
        "# Transforming the predictions made by each model\n",
        "catboost_predictions = np.expm1(pred)\n",
        "xgboost_predictions = np.expm1(predi)\n",
        "random_forest_predictions = np.expm1(predic)"
      ],
      "execution_count": null,
      "outputs": []
    },
    {
      "cell_type": "code",
      "metadata": {
        "ExecuteTime": {
          "end_time": "2020-12-10T22:50:59.960368Z",
          "start_time": "2020-12-10T22:50:59.905405Z"
        },
        "id": "QYcpF40b8PzN"
      },
      "source": [
        "pd.set_option('max_rows', None)"
      ],
      "execution_count": null,
      "outputs": []
    },
    {
      "cell_type": "code",
      "metadata": {
        "ExecuteTime": {
          "end_time": "2020-12-10T22:55:48.376042Z",
          "start_time": "2020-12-10T22:55:48.342059Z"
        },
        "id": "C5g5p_RL8PzN"
      },
      "source": [
        "# convert prediction arrays to lists\n",
        "catb = list(catboost_predictions)\n",
        "xgbb = list(xgboost_predictions)\n",
        "rf_m = list(random_forest_predictions)"
      ],
      "execution_count": null,
      "outputs": []
    },
    {
      "cell_type": "code",
      "metadata": {
        "ExecuteTime": {
          "end_time": "2020-12-10T22:58:10.966427Z",
          "start_time": "2020-12-10T22:58:10.803416Z"
        },
        "id": "XmPBWWFs8PzO"
      },
      "source": [
        "model_dictionary = {'Catboost': catb, 'XGBoost':xgbb, 'Random_forest':rf_m}"
      ],
      "execution_count": null,
      "outputs": []
    },
    {
      "cell_type": "code",
      "metadata": {
        "ExecuteTime": {
          "end_time": "2020-12-10T22:58:24.980527Z",
          "start_time": "2020-12-10T22:58:24.822627Z"
        },
        "id": "nik7X_L28PzO"
      },
      "source": [
        "# Create a dataframe of the predictions made by each model\n",
        "df = pd.DataFrame(model_dictionary)"
      ],
      "execution_count": null,
      "outputs": []
    },
    {
      "cell_type": "code",
      "metadata": {
        "ExecuteTime": {
          "end_time": "2020-12-10T22:58:26.815682Z",
          "start_time": "2020-12-10T22:58:26.667770Z"
        },
        "id": "fIenrO7n8PzP",
        "outputId": "a5cc1e92-0c2f-4938-f305-eefa88e756bf"
      },
      "source": [
        "df.head()"
      ],
      "execution_count": null,
      "outputs": [
        {
          "output_type": "execute_result",
          "data": {
            "text/html": [
              "<div>\n",
              "<style scoped>\n",
              "    .dataframe tbody tr th:only-of-type {\n",
              "        vertical-align: middle;\n",
              "    }\n",
              "\n",
              "    .dataframe tbody tr th {\n",
              "        vertical-align: top;\n",
              "    }\n",
              "\n",
              "    .dataframe thead th {\n",
              "        text-align: right;\n",
              "    }\n",
              "</style>\n",
              "<table border=\"1\" class=\"dataframe\">\n",
              "  <thead>\n",
              "    <tr style=\"text-align: right;\">\n",
              "      <th></th>\n",
              "      <th>Catboost</th>\n",
              "      <th>XGBoost</th>\n",
              "      <th>Random_forest</th>\n",
              "    </tr>\n",
              "  </thead>\n",
              "  <tbody>\n",
              "    <tr>\n",
              "      <th>0</th>\n",
              "      <td>10032.704965</td>\n",
              "      <td>10015.484375</td>\n",
              "      <td>9995.0</td>\n",
              "    </tr>\n",
              "    <tr>\n",
              "      <th>1</th>\n",
              "      <td>27981.156583</td>\n",
              "      <td>28404.640625</td>\n",
              "      <td>27990.0</td>\n",
              "    </tr>\n",
              "    <tr>\n",
              "      <th>2</th>\n",
              "      <td>24711.558628</td>\n",
              "      <td>24992.650391</td>\n",
              "      <td>25500.0</td>\n",
              "    </tr>\n",
              "    <tr>\n",
              "      <th>3</th>\n",
              "      <td>7858.420043</td>\n",
              "      <td>8244.301758</td>\n",
              "      <td>7995.0</td>\n",
              "    </tr>\n",
              "    <tr>\n",
              "      <th>4</th>\n",
              "      <td>2540.786855</td>\n",
              "      <td>2484.983887</td>\n",
              "      <td>2500.0</td>\n",
              "    </tr>\n",
              "  </tbody>\n",
              "</table>\n",
              "</div>"
            ],
            "text/plain": [
              "       Catboost       XGBoost  Random_forest\n",
              "0  10032.704965  10015.484375         9995.0\n",
              "1  27981.156583  28404.640625        27990.0\n",
              "2  24711.558628  24992.650391        25500.0\n",
              "3   7858.420043   8244.301758         7995.0\n",
              "4   2540.786855   2484.983887         2500.0"
            ]
          },
          "metadata": {
            "tags": []
          },
          "execution_count": 85
        }
      ]
    }
  ]
}